{
  "nbformat": 4,
  "nbformat_minor": 0,
  "metadata": {
    "colab": {
      "name": "CryptoWorkoutWeek4.ipynb",
      "provenance": [],
      "collapsed_sections": [],
      "include_colab_link": true
    },
    "kernelspec": {
      "name": "python3",
      "display_name": "Python 3"
    }
  },
  "cells": [
    {
      "cell_type": "markdown",
      "metadata": {
        "id": "view-in-github",
        "colab_type": "text"
      },
      "source": [
        "<a href=\"https://colab.research.google.com/github/hdpark1208/StudyCode/blob/main/CryptoWorkoutWeek4.ipynb\" target=\"_parent\"><img src=\"https://colab.research.google.com/assets/colab-badge.svg\" alt=\"Open In Colab\"/></a>"
      ]
    },
    {
      "cell_type": "markdown",
      "metadata": {
        "id": "J7CKxJD5Cz-B"
      },
      "source": [
        "## Substitution 암호"
      ]
    },
    {
      "cell_type": "code",
      "metadata": {
        "id": "nE8IwvgSC8XX"
      },
      "source": [
        "C='LWNSOZBNWVWBAYBNVBSQWVWOHWDIZWRBBNPBPOOUWRPAWXAW\\\n",
        "PBWZWMYPOBNPBBNWJPAWWRZSLWZQJBNWIAXAWPBSALIBNXWA\\\n",
        "BPIRYRPOIWRPQOWAIENBVBNPBPUSREBNWVWPAWOIHWOIQWAB\\\n",
        "JPRZBNWFYAVYIBSHNPFFIRWVVBNPBBSVWXYAWBNWVWAIENBV\\\n",
        "ESDWARUWRBVPAWIRVBIBYBWZPUSREUWRZWAIDIREBNWIATYV\\\n",
        "BFSLWAVHASUBNWXSRVWRBSHBNWESDWARWZBNPBLNWRDWAPR\\\n",
        "JHSAUSHESDWARUWRBQWXSUWVZWVBAYXBIDWSHBNWVWWRZVIB\\\n",
        "IVBNWAIENBSHBNWFWSFOWBSPOBWASABSPQSOIVNIBPRZBSIR\\\n",
        "VBIBYBWRWLESDWARUWRBOPJIREIBVHSYRZPBISRSRVYXNFAI\\\n",
        "RXIFOWVPRZSAEPRIKIREIBVFSLWAVIRVYXNHSAUPVBSVWWUU\\\n",
        "SVBOICWOJBSWHHWXBBNWIAVPHWBJPRZNPFFIRWVV'"
      ],
      "execution_count": null,
      "outputs": []
    },
    {
      "cell_type": "markdown",
      "metadata": {
        "id": "bizlYHczE2eZ"
      },
      "source": [
        "암호문에서 각 알파벳의 빈도를 구해봅시다. 딕셔너리 자료형은 `{}`로 양쪽을 가둬서 정의하고,  키(key)와 값(value)의 쌍으로 이루어집니다.\n",
        "아래의 코드의 출처는 [Stackoverflow](https://stackoverflow.com/questions/40985203/counting-letter-frequency-in-a-string-python/40985309)와 [Python 공식문서](https://docs.python.org/ko/3/howto/sorting.html)입니다."
      ]
    },
    {
      "cell_type": "code",
      "metadata": {
        "colab": {
          "base_uri": "https://localhost:8080/"
        },
        "id": "lHtjk0g6FCXx",
        "outputId": "eb27e45a-59b6-477a-aa0d-70c59b662673"
      },
      "source": [
        "def char_frequency(str1):\n",
        "  dict = {}\n",
        "  for n in str1:   # 암호문을 첫글자부터 하나씩 골라서 반복합니다. \n",
        "    keys = dict.keys()\n",
        "    if n in keys: # 이미 저장된 글자이면 빈도(value)를 하나 증가시키고 \n",
        "      dict[n] += 1\n",
        "    else:  # 처음 나오는 글자이면 새로운 알파벳(key)와 value(빈도) 1로 딕셔너리에 추가합니다\n",
        "      dict[n] = 1\n",
        "  return dict\n",
        "\n",
        "dict1 = char_frequency(C)\n",
        "print(dict1)\n",
        "# sorted()라는 명령어를 이용하여 빈도를 기준으로 정렬하도록 합니다.\n",
        "print(sorted(dict1.items(), reverse=True, key=lambda item: item[1])) "
      ],
      "execution_count": null,
      "outputs": [
        {
          "output_type": "stream",
          "text": [
            "{'L': 7, 'W': 75, 'N': 30, 'S': 36, 'O': 16, 'Z': 15, 'B': 64, 'V': 35, 'A': 34, 'Y': 13, 'Q': 6, 'H': 14, 'D': 8, 'I': 36, 'R': 39, 'P': 32, 'U': 13, 'X': 11, 'M': 1, 'J': 7, 'E': 13, 'F': 11, 'T': 1, 'K': 1, 'C': 1}\n",
            "[('W', 75), ('B', 64), ('R', 39), ('S', 36), ('I', 36), ('V', 35), ('A', 34), ('P', 32), ('N', 30), ('O', 16), ('Z', 15), ('H', 14), ('Y', 13), ('U', 13), ('E', 13), ('X', 11), ('F', 11), ('D', 8), ('L', 7), ('J', 7), ('Q', 6), ('M', 1), ('T', 1), ('K', 1), ('C', 1)]\n"
          ],
          "name": "stdout"
        }
      ]
    },
    {
      "cell_type": "markdown",
      "metadata": {
        "id": "eUgO5ADQJWnT"
      },
      "source": [
        "보통의 영어 문장들에서 잘 나오는 알파벳들의 비율은 다음과 같습니다. $(e, .127), (t, .091), (a, .082), (o, .075), (i, .070), (n, .067), (s, .063), (h, .061), (r, .060)$\n",
        "\n",
        "이로부터 'W'는 'e'에 대응한다는 것을 추측할 수 있습니다. (또는 'B'가 'e'에 대응할 가능성도 있습니다.)\n",
        "하지만 나머지 알파벳들에 대해 더 이상 추측하기는 어렵습니다. "
      ]
    },
    {
      "cell_type": "markdown",
      "metadata": {
        "id": "PvFcOkDZHhvQ"
      },
      "source": [
        "지금부터는 bigram(알파벳 두글자)의 빈도를 이용합니다.\n",
        "가장 많이 나온 알파벳들 'W, B, R, S, I, V, A, P, N'중에서 두글자로 나오는 빈도를 세봅시다."
      ]
    },
    {
      "cell_type": "code",
      "metadata": {
        "colab": {
          "base_uri": "https://localhost:8080/"
        },
        "id": "iMoYKMCoFiGC",
        "outputId": "6eaaba87-ad07-4313-f964-ccb29c6d2a86"
      },
      "source": [
        "list1 = ['W', 'B', 'R', 'S', 'I', 'V', 'A', 'P', 'N']\n",
        "count_matrix = [] # 전체 빈도를 기록할 행렬입니다\n",
        "for i in range(len(list1)):\n",
        "  count_row = [] # 해당 행(row)의 빈도를 기록할 행(list)입니다\n",
        "  for j in range(len(list1)):\n",
        "    count = 0 # 해당 bigram의 빈도를 기록할 변수입니다\n",
        "    for k in range(len(C)-1): #bigram이므로 가장 마지막보다 하나 적은 위치까지만 보면 됩니다\n",
        "      if list1[i]+list1[j]==C[k:k+2]:\n",
        "        count += 1\n",
        "    count_row.append(count)\n",
        "  count_matrix.append(count_row)\n",
        "\n",
        "print(count_matrix)  "
      ],
      "execution_count": null,
      "outputs": [
        {
          "output_type": "stream",
          "text": [
            "[[3, 4, 12, 2, 4, 10, 14, 3, 1], [4, 4, 0, 11, 5, 5, 2, 4, 20], [4, 5, 0, 1, 1, 5, 0, 3, 0], [1, 0, 5, 0, 1, 3, 5, 2, 0], [1, 8, 10, 1, 0, 2, 3, 0, 0], [8, 10, 0, 0, 2, 2, 0, 3, 1], [7, 3, 4, 2, 5, 4, 0, 1, 0], [0, 8, 6, 0, 1, 1, 4, 0, 0], [14, 3, 0, 1, 1, 1, 0, 7, 0]]\n"
          ],
          "name": "stdout"
        }
      ]
    },
    {
      "cell_type": "markdown",
      "metadata": {
        "id": "pfgu6ryxY8SS"
      },
      "source": [
        "## Hill Cipher\n",
        "\n",
        "알파벳을 $n$개씩 Block 단위로 암호화하는 암호방식\n",
        "\n",
        "성분이 $Z_{26}$의 원소들인 $n \\times n$ 행렬 $M$을 암호화 키로 이용하고 그 역행렬 ( $Z_{26}$ 에서)을 이용해서 복호화\n",
        "\n",
        "알고리즘: 평문을 알파벳 $n$개씩 나눠서 n차원 벡터($Z_{26}^n$)로 보고 암호화 키는 $n^2$ 길이의 알파벳을  $Z_{26}$의 원소들인 $n \\times n$ 행렬 $M$로 변환하여 행렬곱셈을 행하고,\n",
        "복호화는 그 역행렬을 곱함터($Z_{26}^n$)로 보고 암호화 키는 $n^2$ 길이의 알파벳을  $Z_{26}$의 원소들인 $n \\times n$ 행렬 $M$로 변환하여 행렬곱셈을 행하고,\n",
        "복호화는 그 역행렬을 곱함\n",
        "\n",
        "\n",
        "\n",
        "\n",
        "\n"
      ]
    },
    {
      "cell_type": "markdown",
      "metadata": {
        "id": "zepil2NdWimI"
      },
      "source": [
        "먼저 평문과 키를 $Z_{26}$의 벡터와 행렬로 바꾸는 작업을 합시다.\n"
      ]
    },
    {
      "cell_type": "code",
      "metadata": {
        "id": "f_ZWz9MoZqTf"
      },
      "source": [
        "def plain_to_numbers(P):\n",
        "  l = []\n",
        "  for i in range(len(P)):\n",
        "    l.append(ord(P[i])-ord('a'))\n",
        "  return l\n",
        "\n",
        "def numbers_to_cipher(l):\n",
        "  C = ''\n",
        "  for i in range(len(l)): \n",
        "    C = C + chr(l[i]+ord('A'))\n",
        "  return C"
      ],
      "execution_count": null,
      "outputs": []
    },
    {
      "cell_type": "code",
      "metadata": {
        "id": "oarHQhTQZ86P"
      },
      "source": [
        "def key_to_matrix(K):\n",
        "  n = int(len(K)**(1/2))\n",
        "  if len(K)!=n*n:  # 키 길이가 n*n이 아닐 경우 처리\n",
        "    print(\"Wrong Key!\")\n",
        "    return\n",
        "  keyMatrix = [[0] * n for i in range(n)] \n",
        "  k = 0\n",
        "  for i in range(n): # i: 행 지표(index)\n",
        "    for j in range(n): # j: 열 지표(index)\n",
        "      keyMatrix[i][j] = ord(K[k])-ord('A')\n",
        "      k += 1\n",
        "  return keyMatrix\n"
      ],
      "execution_count": null,
      "outputs": []
    },
    {
      "cell_type": "code",
      "metadata": {
        "id": "z8F_aeqIdd7Y"
      },
      "source": [
        "def HillCipher_Multiplication(l, M):\n",
        "  n = len(M)\n",
        "  C =[0]*n\n",
        "  for j in range(n):\n",
        "    for k in range(n):\n",
        "      C[j] = (C[j] + l[k]*M[k][j]) % 26\n",
        "  return C\n",
        "    "
      ],
      "execution_count": null,
      "outputs": []
    },
    {
      "cell_type": "code",
      "metadata": {
        "id": "dxQm_86WbOd4"
      },
      "source": [
        "def HillCipher_Encrypt(P, K):\n",
        "  n = int(len(K)**(1/2))\n",
        "  while len(P)%n != 0:  # 평문의 길이가 n의 배수가 아닐때, 끝에 알파벳 a를 붙입니다\n",
        "    P += 'a'\n",
        "  l = plain_to_numbers(P)\n",
        "#  print(l)\n",
        "  keyMatrix = key_to_matrix(K)\n",
        "#  print(keyMatrix)  #테스트 코드\n",
        "  C = []\n",
        "  for i in range(len(P)//n):\n",
        "#    print(l[i*3:(i+1)*3])  # 테스트 코드\n",
        "    C = C + (HillCipher_Multiplication(l[i*n:(i+1)*n], keyMatrix))\n",
        "#  print(C) # 테스트 코드\n",
        "  return numbers_to_cipher(C)"
      ],
      "execution_count": null,
      "outputs": []
    },
    {
      "cell_type": "code",
      "metadata": {
        "id": "l6OEKnvwcHxI",
        "colab": {
          "base_uri": "https://localhost:8080/",
          "height": 35
        },
        "outputId": "92fb340c-d463-4ef7-e6a7-d1613dd24ef1"
      },
      "source": [
        "HillCipher_Encrypt('hello', 'GYBNQKURP')\n",
        "# 여기서 확인해봅시다, Hill Cipher 시작부분에서 n 값을 지정하고 차례대로 실행해야 합니다"
      ],
      "execution_count": null,
      "outputs": [
        {
          "output_type": "execute_result",
          "data": {
            "application/vnd.google.colaboratory.intrinsic+json": {
              "type": "string"
            },
            "text/plain": [
              "'CDEOUV'"
            ]
          },
          "metadata": {
            "tags": []
          },
          "execution_count": 8
        }
      ]
    },
    {
      "cell_type": "markdown",
      "metadata": {
        "id": "nHZZ845ah2ag"
      },
      "source": [
        "이제 복호화를 해봅시다.\n",
        "환 $Z_{26}$에서 역행렬을 구하는 것은 복잡하므로 numpy 라이브러리를 이용합시다.\n",
        "\n",
        "* 행렬 A의 행렬식(determinant): `numpy.linalg.det(A)`\n",
        "* A의 역행렬: `numpy.linalg.inv(A)`\n",
        "* 위 연산의 결과는 성분이 실수인 행렬이 되는데, `round()` 와 같은 명령으로 정수형 행렬로 변환. (주의: int(1.99999)는 1이됨)"
      ]
    },
    {
      "cell_type": "code",
      "metadata": {
        "id": "N3g-PQIfh-ix"
      },
      "source": [
        "import numpy as np"
      ],
      "execution_count": null,
      "outputs": []
    },
    {
      "cell_type": "code",
      "metadata": {
        "id": "NUQQcf53jTG4"
      },
      "source": [
        "def HillCipher_Decrypt(C, K):\n",
        "  n = int(len(K)**(1/2))\n",
        "  if len(C)%n !=0: # 암호문의 길이는 n의 배수여야 합니다!\n",
        "    print(\"암호문의 길이가 맞지 않습니다!\")\n",
        "    return\n",
        "  l = plain_to_numbers(C.lower())\n",
        "  keyMatrix = key_to_matrix(K)\n",
        "\n",
        "  det = round(np.linalg.det(keyMatrix)) % 26 # 암호화 키 행렬의 행렬식을 정수형으로 바꿉니다\n",
        "# print(det) # 테스트 코드\n",
        "  if (det % 2 == 0) or (det % 13 == 0): \n",
        "    print(\"키의 역행렬을 구할 수 없습니다!\")\n",
        "    return\n",
        "  det_inv = None\n",
        "  for i in range(26): # 여기서는 Z_26에서 행렬식의 역수 det_inv를 구합니다\n",
        "    if (det*i) % 26 == 1:\n",
        "      det_inv = i\n",
        "      break\n",
        "\n",
        "#  print(det_inv)  # 테스트 코드\n",
        "\n",
        "  invMatrix = np.linalg.det(keyMatrix)*np.linalg.inv(keyMatrix)\n",
        "#  print(invMatrix) # 테스트 코드\n",
        "\n",
        "  for i in range(n):\n",
        "    for j in range(n):\n",
        "      keyMatrix[i][j] = (round(invMatrix[i][j])*det_inv) % 26\n",
        "\n",
        "\n",
        "#  print(keyMatrix)  # 테스트 코드\n",
        "  P = []\n",
        "  for i in range(len(C)//n):\n",
        "    P = P + (HillCipher_Multiplication(l[i*n:(i+1)*n], keyMatrix))\n",
        "#  print(P) # 테스트 코드\n",
        "  return numbers_to_cipher(P).lower()\n",
        "\n",
        "  "
      ],
      "execution_count": null,
      "outputs": []
    },
    {
      "cell_type": "code",
      "metadata": {
        "colab": {
          "base_uri": "https://localhost:8080/",
          "height": 35
        },
        "id": "xDMu_MQ-tlPh",
        "outputId": "c78faf64-6213-47c0-d096-b519e60a11b3"
      },
      "source": [
        "HillCipher_Decrypt('CDEOUV', 'GYBNQKURP')  \n",
        "# 여기서 확인해봅시다! Hill Cipher 시작부분에서 n 값을 지정하고 차례대로 실행해야 합니다"
      ],
      "execution_count": null,
      "outputs": [
        {
          "output_type": "execute_result",
          "data": {
            "application/vnd.google.colaboratory.intrinsic+json": {
              "type": "string"
            },
            "text/plain": [
              "'helloa'"
            ]
          },
          "metadata": {
            "tags": []
          },
          "execution_count": 11
        }
      ]
    },
    {
      "cell_type": "code",
      "metadata": {
        "colab": {
          "base_uri": "https://localhost:8080/",
          "height": 35
        },
        "id": "z9ADZCwy5Ebi",
        "outputId": "d2fdc67e-d314-46f0-99cf-d70bc414602e"
      },
      "source": [
        "HillCipher_Decrypt(HillCipher_Encrypt('hillcipherisfun', 'GYBNQKURP'), 'GYBNQKURP')"
      ],
      "execution_count": null,
      "outputs": [
        {
          "output_type": "execute_result",
          "data": {
            "application/vnd.google.colaboratory.intrinsic+json": {
              "type": "string"
            },
            "text/plain": [
              "'hillcipherisfun'"
            ]
          },
          "metadata": {
            "tags": []
          },
          "execution_count": 12
        }
      ]
    },
    {
      "cell_type": "markdown",
      "metadata": {
        "id": "bvhdcHWHdckM"
      },
      "source": [
        "## 실습문제\n",
        "\n",
        "다음 Hill Cipher의 암호문이 암호화 키 `K = BCDEEDCBLCEGCJGE`로 암호화 되었다. 이를 복호화하여라.\n",
        "`C=ZIRKZWOPJJOPTFAPUHFHADRQ`"
      ]
    },
    {
      "cell_type": "code",
      "metadata": {
        "colab": {
          "base_uri": "https://localhost:8080/",
          "height": 35
        },
        "id": "2Fal7h1oee1T",
        "outputId": "3a7c5ed7-6939-4af5-e6ce-290bae634002"
      },
      "source": [
        "HillCipher_Decrypt('ZIRKZWOPJJOPTFAPUHFHADRQ', 'BCDEEDCBLCEGCJGE')  \n",
        "# 여기서 확인해봅시다! Hill Cipher 시작부분에서 n 값을 지정하고 차례대로 실행해야 합니다"
      ],
      "execution_count": null,
      "outputs": [
        {
          "output_type": "execute_result",
          "data": {
            "application/vnd.google.colaboratory.intrinsic+json": {
              "type": "string"
            },
            "text/plain": [
              "'jackandjillwentupthehill'"
            ]
          },
          "metadata": {
            "tags": []
          },
          "execution_count": 13
        }
      ]
    },
    {
      "cell_type": "markdown",
      "metadata": {
        "id": "wHeOtoUh7ids"
      },
      "source": [
        "# LFSR(Lienar Feedback Shift Register) 수열\n",
        "이번에는 LFSR(Linear Feedback Shift Register) 수열을 생성하고 해독하는 방법에 대해 알아봅시다"
      ]
    },
    {
      "cell_type": "markdown",
      "metadata": {
        "id": "g4NpVaKD7tzh"
      },
      "source": [
        "* 초기값들(Initial Values) : $[x_1, x_2, ..., x_m]$\n",
        "* 계수들(Coefficients) : $[c_0, c_1, ..., c_{m-1}]$\n",
        "* 알고리즘: $x_{n+m} \\equiv c_0 x_n + c_1 x_{n+1} + \\cdots + c_{m-1} x_{n+m-1} (mod 2)$"
      ]
    },
    {
      "cell_type": "code",
      "metadata": {
        "colab": {
          "base_uri": "https://localhost:8080/"
        },
        "id": "ZiLrNa-q91_C",
        "outputId": "76c341a3-bbb5-4e1c-ec11-a29c996bf70d"
      },
      "source": [
        "InitialValues = [0, 1, 0, 0, 0]\n",
        "Coefficients = [1, 0, 1, 0, 0]\n",
        "MaximalNumbers = 100  # 추가로 계산하고 싶은 수열의 갯수\n",
        "LFSR = InitialValues + [0]*MaximalNumbers # 일단 처음 m개에 추가로 0값을 갖는 자리를 확보\n",
        "m = len(InitialValues)\n",
        "for n in range(MaximalNumbers):\n",
        "  LFSR[m+n] = sum(Coefficients[j]*LFSR[n+j] for j in range(m)) % 2\n",
        "\n",
        "print(LFSR)\n"
      ],
      "execution_count": null,
      "outputs": [
        {
          "output_type": "stream",
          "text": [
            "[0, 1, 0, 0, 0, 0, 1, 0, 0, 1, 0, 1, 1, 0, 0, 1, 1, 1, 1, 1, 0, 0, 0, 1, 1, 0, 1, 1, 1, 0, 1, 0, 1, 0, 0, 0, 0, 1, 0, 0, 1, 0, 1, 1, 0, 0, 1, 1, 1, 1, 1, 0, 0, 0, 1, 1, 0, 1, 1, 1, 0, 1, 0, 1, 0, 0, 0, 0, 1, 0, 0, 1, 0, 1, 1, 0, 0, 1, 1, 1, 1, 1, 0, 0, 0, 1, 1, 0, 1, 1, 1, 0, 1, 0, 1, 0, 0, 0, 0, 1, 0, 0, 1, 0, 1]\n"
          ],
          "name": "stdout"
        }
      ]
    },
    {
      "cell_type": "markdown",
      "metadata": {
        "id": "S6Blz4y9DwZa"
      },
      "source": [
        "list 형의 LFSR 수열을 보기좋게 strings 자료형으로 반환하는 함수와 그런 strings 형의 LFSR 수열을 list 형을 반환하는 함수를 작성해봅시다."
      ]
    },
    {
      "cell_type": "code",
      "metadata": {
        "id": "KwWRBv8vD96r"
      },
      "source": [
        "def LFSR_to_strings(LFSR):  \n",
        "# 이 함수는 list형태로 구한 LFSR 수열을 보기좋게 strings형태로 바꿔주는 함수입니다\n",
        "  s = ''\n",
        "  for i in range(len(LFSR)):\n",
        "    s = s + str(LFSR[i])\n",
        "  return s\n",
        "\n",
        "def strings_to_LFSR(s):\n",
        "# 이 함수는 strings형태의 LFSR 수열을 list형태로 반환하는 함수입니다\n",
        "  l = []\n",
        "  for i in range(len(s)):\n",
        "    l.append(int(s[i]))\n",
        "  return l\n"
      ],
      "execution_count": null,
      "outputs": []
    },
    {
      "cell_type": "code",
      "metadata": {
        "colab": {
          "base_uri": "https://localhost:8080/"
        },
        "id": "jEozRhAqD_6U",
        "outputId": "9e581a5d-66fc-40dd-ddb4-aacf4e8f6cd0"
      },
      "source": [
        "s = LFSR_to_strings(LFSR)\n",
        "print(s)\n",
        "print(strings_to_LFSR(s)) # 여기서 확인해봅시다"
      ],
      "execution_count": null,
      "outputs": [
        {
          "output_type": "stream",
          "text": [
            "010000100101100111110001101110101000010010110011111000110111010100001001011001111100011011101010000100101\n",
            "[0, 1, 0, 0, 0, 0, 1, 0, 0, 1, 0, 1, 1, 0, 0, 1, 1, 1, 1, 1, 0, 0, 0, 1, 1, 0, 1, 1, 1, 0, 1, 0, 1, 0, 0, 0, 0, 1, 0, 0, 1, 0, 1, 1, 0, 0, 1, 1, 1, 1, 1, 0, 0, 0, 1, 1, 0, 1, 1, 1, 0, 1, 0, 1, 0, 0, 0, 0, 1, 0, 0, 1, 0, 1, 1, 0, 0, 1, 1, 1, 1, 1, 0, 0, 0, 1, 1, 0, 1, 1, 1, 0, 1, 0, 1, 0, 0, 0, 0, 1, 0, 0, 1, 0, 1]\n"
          ],
          "name": "stdout"
        }
      ]
    },
    {
      "cell_type": "markdown",
      "metadata": {
        "id": "459uzrQ3GLH7"
      },
      "source": [
        "## LSFR 분석하기\n",
        "\n",
        "강의에서 설명한 정리를 이용해서 행렬 $M_n$을 구성하고 $\\det(M_n) (n=1, 2, ...)$을 계산하여 LFSR 수열을 생성하는 최소의 점화식의 길이 $N$을 구해봅시다."
      ]
    },
    {
      "cell_type": "code",
      "metadata": {
        "id": "TDyE-uLGI82t"
      },
      "source": [
        "import numpy as np"
      ],
      "execution_count": null,
      "outputs": []
    },
    {
      "cell_type": "code",
      "metadata": {
        "id": "VTlg4qFiJDSM",
        "colab": {
          "base_uri": "https://localhost:8080/"
        },
        "outputId": "7595a2de-0a47-4d38-d314-d08d9428343a"
      },
      "source": [
        "for n in range(1, len(LFSR)//2):\n",
        "  M1 = []\n",
        "  for i in range(n):\n",
        "    M1.append(LFSR[i:i+n])\n",
        "  M = np.array(M1, dtype=np.int16)  \n",
        "  print(\"n = {:2d}: det(M_n) (mod 2) = {}\".format(n, round(np.linalg.det(M)) % 2))\n",
        "\n",
        "#  print(M) # 테스트 코드\n"
      ],
      "execution_count": null,
      "outputs": [
        {
          "output_type": "stream",
          "text": [
            "n =  1: det(M_n) (mod 2) = 0\n",
            "n =  2: det(M_n) (mod 2) = 1\n",
            "n =  3: det(M_n) (mod 2) = 0\n",
            "n =  4: det(M_n) (mod 2) = 0\n",
            "n =  5: det(M_n) (mod 2) = 1\n",
            "n =  6: det(M_n) (mod 2) = 0\n",
            "n =  7: det(M_n) (mod 2) = 0\n",
            "n =  8: det(M_n) (mod 2) = 0\n",
            "n =  9: det(M_n) (mod 2) = 0\n",
            "n = 10: det(M_n) (mod 2) = 0\n",
            "n = 11: det(M_n) (mod 2) = 0\n",
            "n = 12: det(M_n) (mod 2) = 0\n",
            "n = 13: det(M_n) (mod 2) = 0\n",
            "n = 14: det(M_n) (mod 2) = 0\n",
            "n = 15: det(M_n) (mod 2) = 0\n",
            "n = 16: det(M_n) (mod 2) = 0\n",
            "n = 17: det(M_n) (mod 2) = 0\n",
            "n = 18: det(M_n) (mod 2) = 0\n",
            "n = 19: det(M_n) (mod 2) = 0\n",
            "n = 20: det(M_n) (mod 2) = 0\n",
            "n = 21: det(M_n) (mod 2) = 0\n",
            "n = 22: det(M_n) (mod 2) = 0\n",
            "n = 23: det(M_n) (mod 2) = 0\n",
            "n = 24: det(M_n) (mod 2) = 0\n",
            "n = 25: det(M_n) (mod 2) = 0\n",
            "n = 26: det(M_n) (mod 2) = 0\n",
            "n = 27: det(M_n) (mod 2) = 0\n",
            "n = 28: det(M_n) (mod 2) = 0\n",
            "n = 29: det(M_n) (mod 2) = 0\n",
            "n = 30: det(M_n) (mod 2) = 0\n",
            "n = 31: det(M_n) (mod 2) = 1\n",
            "n = 32: det(M_n) (mod 2) = 0\n",
            "n = 33: det(M_n) (mod 2) = 0\n",
            "n = 34: det(M_n) (mod 2) = 0\n",
            "n = 35: det(M_n) (mod 2) = 0\n",
            "n = 36: det(M_n) (mod 2) = 0\n",
            "n = 37: det(M_n) (mod 2) = 0\n",
            "n = 38: det(M_n) (mod 2) = 0\n",
            "n = 39: det(M_n) (mod 2) = 0\n",
            "n = 40: det(M_n) (mod 2) = 0\n",
            "n = 41: det(M_n) (mod 2) = 0\n",
            "n = 42: det(M_n) (mod 2) = 0\n",
            "n = 43: det(M_n) (mod 2) = 0\n",
            "n = 44: det(M_n) (mod 2) = 0\n",
            "n = 45: det(M_n) (mod 2) = 0\n",
            "n = 46: det(M_n) (mod 2) = 0\n",
            "n = 47: det(M_n) (mod 2) = 0\n",
            "n = 48: det(M_n) (mod 2) = 0\n",
            "n = 49: det(M_n) (mod 2) = 0\n",
            "n = 50: det(M_n) (mod 2) = 0\n",
            "n = 51: det(M_n) (mod 2) = 0\n"
          ],
          "name": "stdout"
        }
      ]
    },
    {
      "cell_type": "markdown",
      "metadata": {
        "id": "fO2YDeSINxpM"
      },
      "source": [
        "이제 알아낸 점화식의 길이 $N$을 이용해서 점화식(점화식의 계수들을) 알아내봅시다.\n",
        "\n",
        "* 행렬 `A, B`의 곱:  `np.matmul(A, B)`\n",
        "* 행렬 `A`의 전치행렬: `np.transpose(A)`\n",
        "* 마지막으로  `[0]`를 이용해서 행렬안에 있는 array를 꺼내면 됩니다."
      ]
    },
    {
      "cell_type": "code",
      "metadata": {
        "colab": {
          "base_uri": "https://localhost:8080/"
        },
        "id": "GngsXRxbOBMr",
        "outputId": "eab3eb6b-fa9e-4bb5-aba8-47721199e446"
      },
      "source": [
        "N = 5\n",
        "M1 = []\n",
        "CoffMatrix = []\n",
        "for i in range(N):\n",
        "  M1.append(LFSR[i:i+N])\n",
        "  CoffMatrix.append([LFSR[i+N]])\n",
        "\n",
        "#print(CoffMatrix)\n",
        "invMatrix = np.linalg.det(M1) * np.linalg.inv(M1)\n",
        "# print(invMatrix) # 테스트 코드\n",
        "\n",
        "M = []\n",
        "for i in range(N):\n",
        "  M.append([round(invMatrix[i][j]) % 2 for j in range(N)])\n",
        "\n",
        "# print(M)\n",
        "\n",
        "Coff = np.transpose(np.matmul(M, CoffMatrix))[0] \n",
        "for i in range(N):\n",
        "  Coff[i] = Coff[i] % 2\n",
        "\n",
        "print(Coff)"
      ],
      "execution_count": null,
      "outputs": [
        {
          "output_type": "stream",
          "text": [
            "[1 0 1 0 0]\n"
          ],
          "name": "stdout"
        }
      ]
    },
    {
      "cell_type": "markdown",
      "metadata": {
        "id": "cUDDINijfosH"
      },
      "source": [
        "## 실습문제 2\n",
        "다음 LFSR 수열로부터 점화식(계수들의 list)을 알아내어라.\n",
        "\n",
        "`L100 = [1, 0, 0, 1, 1, 0, 0, 1, 0, 0, 1, 1, 1, 0, 0, 0, 1, 1, 0, 0, 0, 1, 0, 1, 0, 0, 0, 1, 1, 1, 1, 0, 1, 1, 0, 0, 1, 1, 1, 1, 1, 0, 1, 0, \n",
        "       1, 0, 1, 0, 0, 1, 0, 1, 1, 0, 1, 1, 0, 1, 0, 1, 1, 0, 0, 0, 0, 1, \n",
        "       1, 0, 1, 1, 1, 0, 0, 1, 0, 1, 0, 1, 1, 1, 1, 0, 0, 0, 0, 0, 0, 0, \n",
        "       1, 0, 0, 0, 1, 0, 0, 1, 0, 0, 0, 0]`\n",
        "\n",
        "`L101= [1, 0, 1, 0, 0, 1, 1, 0, 1, 1, 0, 0, 0, 1, 0, 0, 1, 0, 0, 0, 0, 1, \n",
        "      1, 1, 0, 0, 0, 0, 0, 1, 0, 1, 1, 1, 1, 1, 1, 0, 0, 1, 0, 1, 0, 1, \n",
        "      0, 0, 0, 1, 1, 0, 0, 1, 1, 1, 1, 0, 1, 1, 1, 0, 1, 0, 1, 1, 0, 1, \n",
        "      0, 0, 1, 1, 0, 1, 1, 0, 0, 0, 1, 0, 0, 1, 0, 0, 0, 0, 1, 1, 1, 0, \n",
        "      0, 0]`"
      ]
    },
    {
      "cell_type": "code",
      "metadata": {
        "id": "GgIu_qNIoiJS",
        "colab": {
          "base_uri": "https://localhost:8080/"
        },
        "outputId": "666a70b1-3aa4-4607-a1ee-145d8494f94f"
      },
      "source": [
        "L100 = [1, 0, 0, 1, 1, 0, 0, 1, 0, 0, 1, 1, 1, 0, 0, 0, 1, 1, 0, 0, 0, 1, 0, 1, 0, 0, 0, 1, 1, 1, 1, 0, 1, 1, 0, 0, 1, 1, 1, 1, 1, 0, 1, 0, 1, 0, 1, 0, 0, 1, 0, 1, 1, 0, 1, 1, 0, 1, 0, 1, 1, 0, 0, 0, 0, 1, 1, 0, 1, 1, 1, 0, 0, 1, 0, 1, 0, 1, 1, 1, 1, 0, 0, 0, 0, 0, 0, 0, 1, 0, 0, 0, 1, 0, 0, 1, 0, 0, 0, 0]\n",
        "L101 = [1, 0, 1, 0, 0, 1, 1, 0, 1, 1, 0, 0, 0, 1, 0, 0, 1, 0, 0, 0, 0, 1, 1, 1, 0, 0, 0, 0, 0, 1, 0, 1, 1, 1, 1, 1, 1, 0, 0, 1, 0, 1, 0, 1, 0, 0, 0, 1, 1, 0, 0, 1, 1, 1, 1, 0, 1, 1, 1, 0, 1, 0, 1, 1, 0, 1, 0, 0, 1, 1, 0, 1, 1, 0, 0, 0, 1, 0, 0, 1, 0, 0, 0, 0, 1, 1, 1, 0, 0, 0]\n",
        "LFSR = L101\n",
        "for n in range(1, len(LFSR)//2):\n",
        "  M1 = []\n",
        "  for i in range(n):\n",
        "    M1.append(LFSR[i:i+n])\n",
        "  M = np.array(M1, dtype=np.float64)#np.int16\n",
        "  print(\"n = {:2}: det(M_n) (mod 2) = {}\".format(n, round(np.linalg.det(M)) % 2))"
      ],
      "execution_count": null,
      "outputs": [
        {
          "output_type": "stream",
          "text": [
            "n =  1: det(M_n) (mod 2) = 1\n",
            "n =  2: det(M_n) (mod 2) = 1\n",
            "n =  3: det(M_n) (mod 2) = 1\n",
            "n =  4: det(M_n) (mod 2) = 0\n",
            "n =  5: det(M_n) (mod 2) = 1\n",
            "n =  6: det(M_n) (mod 2) = 1\n",
            "n =  7: det(M_n) (mod 2) = 0\n",
            "n =  8: det(M_n) (mod 2) = 0\n",
            "n =  9: det(M_n) (mod 2) = 0\n",
            "n = 10: det(M_n) (mod 2) = 0\n",
            "n = 11: det(M_n) (mod 2) = 0\n",
            "n = 12: det(M_n) (mod 2) = 0\n",
            "n = 13: det(M_n) (mod 2) = 0\n",
            "n = 14: det(M_n) (mod 2) = 0\n",
            "n = 15: det(M_n) (mod 2) = 0\n",
            "n = 16: det(M_n) (mod 2) = 0\n",
            "n = 17: det(M_n) (mod 2) = 0\n",
            "n = 18: det(M_n) (mod 2) = 0\n",
            "n = 19: det(M_n) (mod 2) = 0\n",
            "n = 20: det(M_n) (mod 2) = 0\n",
            "n = 21: det(M_n) (mod 2) = 0\n",
            "n = 22: det(M_n) (mod 2) = 0\n",
            "n = 23: det(M_n) (mod 2) = 0\n",
            "n = 24: det(M_n) (mod 2) = 0\n",
            "n = 25: det(M_n) (mod 2) = 0\n",
            "n = 26: det(M_n) (mod 2) = 0\n",
            "n = 27: det(M_n) (mod 2) = 0\n",
            "n = 28: det(M_n) (mod 2) = 0\n",
            "n = 29: det(M_n) (mod 2) = 0\n",
            "n = 30: det(M_n) (mod 2) = 0\n",
            "n = 31: det(M_n) (mod 2) = 0\n",
            "n = 32: det(M_n) (mod 2) = 0\n",
            "n = 33: det(M_n) (mod 2) = 0\n",
            "n = 34: det(M_n) (mod 2) = 0\n",
            "n = 35: det(M_n) (mod 2) = 0\n",
            "n = 36: det(M_n) (mod 2) = 0\n",
            "n = 37: det(M_n) (mod 2) = 0\n",
            "n = 38: det(M_n) (mod 2) = 1\n",
            "n = 39: det(M_n) (mod 2) = 0\n",
            "n = 40: det(M_n) (mod 2) = 0\n",
            "n = 41: det(M_n) (mod 2) = 0\n",
            "n = 42: det(M_n) (mod 2) = 0\n",
            "n = 43: det(M_n) (mod 2) = 0\n",
            "n = 44: det(M_n) (mod 2) = 0\n"
          ],
          "name": "stdout"
        }
      ]
    },
    {
      "cell_type": "code",
      "metadata": {
        "colab": {
          "base_uri": "https://localhost:8080/"
        },
        "id": "Woe6QiSLo1x4",
        "outputId": "84641424-37fc-4d5c-99a8-e3730a2adb3a"
      },
      "source": [
        "N = 6\n",
        "M1 = []\n",
        "CoffMatrix = []\n",
        "for i in range(N):\n",
        "  M1.append(LFSR[i:i+N])\n",
        "  CoffMatrix.append([LFSR[i+N]])\n",
        "\n",
        "#print(CoffMatrix)\n",
        "invMatrix = np.linalg.det(M1)*np.linalg.inv(M1)\n",
        "# print(invMatrix) # 테스트 코드\n",
        "\n",
        "M = []\n",
        "for i in range(N):\n",
        "  M.append([round(invMatrix[i][j]) % 2 for j in range(N)])\n",
        "\n",
        "# print(M)\n",
        "\n",
        "Coff = np.transpose(np.matmul(M, CoffMatrix))[0] \n",
        "for i in range(N):\n",
        "  Coff[i] = Coff[i] % 2\n",
        "\n",
        "print(Coff)"
      ],
      "execution_count": null,
      "outputs": [
        {
          "output_type": "stream",
          "text": [
            "[1 1 0 1 1 0]\n"
          ],
          "name": "stdout"
        }
      ]
    },
    {
      "cell_type": "code",
      "metadata": {
        "id": "VBF1f9sf7_cZ",
        "colab": {
          "base_uri": "https://localhost:8080/"
        },
        "outputId": "a4943b56-2769-4579-9ac0-a154d85d11fe"
      },
      "source": [
        "LFSR = L100\n",
        "for n in range(1, len(LFSR)//2):\n",
        "  M1 = []\n",
        "  for i in range(n):\n",
        "    M1.append(LFSR[i:i+n])\n",
        "  M = np.array(M1, dtype=np.float64)#np.int16\n",
        "  print(\"n = {:2}: det(M_n) (mod 2) = {}\".format(n, round(np.linalg.det(M)) % 2))"
      ],
      "execution_count": null,
      "outputs": [
        {
          "output_type": "stream",
          "text": [
            "n =  1: det(M_n) (mod 2) = 1\n",
            "n =  2: det(M_n) (mod 2) = 0\n",
            "n =  3: det(M_n) (mod 2) = 1\n",
            "n =  4: det(M_n) (mod 2) = 0\n",
            "n =  5: det(M_n) (mod 2) = 0\n",
            "n =  6: det(M_n) (mod 2) = 1\n",
            "n =  7: det(M_n) (mod 2) = 0\n",
            "n =  8: det(M_n) (mod 2) = 1\n",
            "n =  9: det(M_n) (mod 2) = 0\n",
            "n = 10: det(M_n) (mod 2) = 0\n",
            "n = 11: det(M_n) (mod 2) = 0\n",
            "n = 12: det(M_n) (mod 2) = 0\n",
            "n = 13: det(M_n) (mod 2) = 0\n",
            "n = 14: det(M_n) (mod 2) = 0\n",
            "n = 15: det(M_n) (mod 2) = 0\n",
            "n = 16: det(M_n) (mod 2) = 0\n",
            "n = 17: det(M_n) (mod 2) = 0\n",
            "n = 18: det(M_n) (mod 2) = 0\n",
            "n = 19: det(M_n) (mod 2) = 0\n",
            "n = 20: det(M_n) (mod 2) = 0\n",
            "n = 21: det(M_n) (mod 2) = 0\n",
            "n = 22: det(M_n) (mod 2) = 0\n",
            "n = 23: det(M_n) (mod 2) = 0\n",
            "n = 24: det(M_n) (mod 2) = 0\n",
            "n = 25: det(M_n) (mod 2) = 0\n",
            "n = 26: det(M_n) (mod 2) = 0\n",
            "n = 27: det(M_n) (mod 2) = 0\n",
            "n = 28: det(M_n) (mod 2) = 0\n",
            "n = 29: det(M_n) (mod 2) = 0\n",
            "n = 30: det(M_n) (mod 2) = 0\n",
            "n = 31: det(M_n) (mod 2) = 0\n",
            "n = 32: det(M_n) (mod 2) = 0\n",
            "n = 33: det(M_n) (mod 2) = 0\n",
            "n = 34: det(M_n) (mod 2) = 0\n",
            "n = 35: det(M_n) (mod 2) = 0\n",
            "n = 36: det(M_n) (mod 2) = 0\n",
            "n = 37: det(M_n) (mod 2) = 0\n",
            "n = 38: det(M_n) (mod 2) = 0\n",
            "n = 39: det(M_n) (mod 2) = 0\n",
            "n = 40: det(M_n) (mod 2) = 0\n",
            "n = 41: det(M_n) (mod 2) = 0\n",
            "n = 42: det(M_n) (mod 2) = 0\n",
            "n = 43: det(M_n) (mod 2) = 0\n",
            "n = 44: det(M_n) (mod 2) = 0\n",
            "n = 45: det(M_n) (mod 2) = 0\n",
            "n = 46: det(M_n) (mod 2) = 0\n",
            "n = 47: det(M_n) (mod 2) = 0\n",
            "n = 48: det(M_n) (mod 2) = 0\n",
            "n = 49: det(M_n) (mod 2) = 0\n"
          ],
          "name": "stdout"
        }
      ]
    },
    {
      "cell_type": "code",
      "metadata": {
        "colab": {
          "base_uri": "https://localhost:8080/"
        },
        "id": "Kq5xgdTsxV3B",
        "outputId": "d00d534f-ee0a-49bb-abd5-5c37c5b7ef17"
      },
      "source": [
        "N = 8\n",
        "M1 = []\n",
        "CoffMatrix = []\n",
        "for i in range(N):\n",
        "  M1.append(LFSR[i:i+N])\n",
        "  CoffMatrix.append([LFSR[i+N]])\n",
        "\n",
        "#print(CoffMatrix)\n",
        "invMatrix = np.linalg.det(M1)*np.linalg.inv(M1)\n",
        "# print(invMatrix) # 테스트 코드\n",
        "\n",
        "M = []\n",
        "for i in range(N):\n",
        "  M.append([round(invMatrix[i][j]) % 2 for j in range(N)])\n",
        "\n",
        "# print(M)\n",
        "\n",
        "Coff = np.transpose(np.matmul(M, CoffMatrix))[0] \n",
        "for i in range(N):\n",
        "  Coff[i] = Coff[i] % 2\n",
        "\n",
        "print(Coff)"
      ],
      "execution_count": null,
      "outputs": [
        {
          "output_type": "stream",
          "text": [
            "[1 1 0 0 1 0 0 0]\n"
          ],
          "name": "stdout"
        }
      ]
    },
    {
      "cell_type": "code",
      "metadata": {
        "id": "qsG80KxcxWwX"
      },
      "source": [
        ""
      ],
      "execution_count": null,
      "outputs": []
    }
  ]
}