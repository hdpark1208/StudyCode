{
  "nbformat": 4,
  "nbformat_minor": 0,
  "metadata": {
    "colab": {
      "name": "CryptoWorkoutWeek7.ipynb",
      "provenance": [],
      "collapsed_sections": [],
      "include_colab_link": true
    },
    "kernelspec": {
      "name": "python3",
      "display_name": "Python 3"
    },
    "language_info": {
      "name": "python"
    }
  },
  "cells": [
    {
      "cell_type": "markdown",
      "metadata": {
        "id": "view-in-github",
        "colab_type": "text"
      },
      "source": [
        "<a href=\"https://colab.research.google.com/github/hdpark1208/StudyCode/blob/main/CryptoWorkoutWeek7.ipynb\" target=\"_parent\"><img src=\"https://colab.research.google.com/assets/colab-badge.svg\" alt=\"Open In Colab\"/></a>"
      ]
    },
    {
      "cell_type": "markdown",
      "metadata": {
        "id": "UtcEKRjXSE7e"
      },
      "source": [
        "# Simplified DES 구현하기"
      ]
    },
    {
      "cell_type": "markdown",
      "metadata": {
        "id": "4DkVoC83wU6u"
      },
      "source": [
        "## 2진수, 8진수, 16진수\n",
        "2진수는 앞에 '0b'붙이면 됩니다.\n",
        "또한 8진수, 16진수는 각각 '0o', '0x'를 붙이면 됩니다.\n",
        "\n",
        "* 2진수: 0b\n",
        "* 8진수: 0o\n",
        "* 16진수: 0x\n",
        "\n",
        "출처:[[파이썬] 2진수, 8진수, 16진수 다루기](https://www.daleseo.com/python-int-bases/)"
      ]
    },
    {
      "cell_type": "code",
      "metadata": {
        "colab": {
          "base_uri": "https://localhost:8080/"
        },
        "id": "KAkohBXfSAu_",
        "outputId": "03a29fbd-5694-4a13-b60a-0289f140ac3b"
      },
      "source": [
        "0b101010"
      ],
      "execution_count": null,
      "outputs": [
        {
          "output_type": "execute_result",
          "data": {
            "text/plain": [
              "42"
            ]
          },
          "metadata": {
            "tags": []
          },
          "execution_count": 1
        }
      ]
    },
    {
      "cell_type": "markdown",
      "metadata": {
        "id": "-J2nY2zGP4Zy"
      },
      "source": [
        "또한 주어진 수를 2진수, 8진수, 16진수의 *문자열*로 변환할때는, `bin(), oct(), hex()`라는 명령어를 이용하면 됩니다."
      ]
    },
    {
      "cell_type": "code",
      "metadata": {
        "colab": {
          "base_uri": "https://localhost:8080/"
        },
        "id": "PnWj1n73QEsr",
        "outputId": "1fae4e50-7d1a-4bc4-a861-ef261f8e9926"
      },
      "source": [
        "print(bin(42), oct(42), hex(42), bin(0b101010))"
      ],
      "execution_count": null,
      "outputs": [
        {
          "output_type": "stream",
          "text": [
            "0b101010 0o52 0x2a 0b101010\n"
          ],
          "name": "stdout"
        }
      ]
    },
    {
      "cell_type": "markdown",
      "metadata": {
        "id": "L6JlvKQVQ5Ff"
      },
      "source": [
        "### 다른 진수의 문자열을 숫자형으로 변환하기\n",
        "\n",
        "bin(), oct(), hex()로 변환한 문자열들을 다시 숫자로 변환하기 위해서 자주 사용하시던 int() 함수에 진수의 base 값을 추가 인자로 넘겨주시면 됩니다. 두번째 인자에 아무 것도 입력하지 않으면 기본 설정인 10진법의 숫자로 변환합니다.\n",
        "\n"
      ]
    },
    {
      "cell_type": "code",
      "metadata": {
        "colab": {
          "base_uri": "https://localhost:8080/"
        },
        "id": "cc-2lHzGRJtV",
        "outputId": "eb564caf-2b0e-4656-aae6-0288e4c9aeda"
      },
      "source": [
        "print(int('0b101010', 2), int('0o52', 8), int('0x2a', 16))"
      ],
      "execution_count": null,
      "outputs": [
        {
          "output_type": "stream",
          "text": [
            "42 42 42\n"
          ],
          "name": "stdout"
        }
      ]
    },
    {
      "cell_type": "markdown",
      "metadata": {
        "id": "yugA-OVvR2rT"
      },
      "source": [
        "format() 내장 함수를 이용하면 숫자를 다른 진수의 문자열로 바꿀 때 접두어를 제외할 수 있습니다."
      ]
    },
    {
      "cell_type": "code",
      "metadata": {
        "colab": {
          "base_uri": "https://localhost:8080/"
        },
        "id": "AIKa3CgeSP42",
        "outputId": "69772297-8a3f-4f35-fb3c-1c872edac55c"
      },
      "source": [
        "print(format(42, 'b'), format(42, 'o'), format(42, 'x'))"
      ],
      "execution_count": null,
      "outputs": [
        {
          "output_type": "stream",
          "text": [
            "101010 52 2a\n"
          ],
          "name": "stdout"
        }
      ]
    },
    {
      "cell_type": "markdown",
      "metadata": {
        "id": "Tovvk0_dJyti"
      },
      "source": [
        "2진수, 8진수, 16진수 문자열을 10진수로 변환할때도 접두어를 생략해도 됩니다\n",
        "\n",
        "\n",
        "\n",
        "\n",
        "\n"
      ]
    },
    {
      "cell_type": "code",
      "metadata": {
        "colab": {
          "base_uri": "https://localhost:8080/"
        },
        "id": "l-dbDYK6R4wi",
        "outputId": "7b35ff1c-f39f-4cd1-fed8-ca996c9e9028"
      },
      "source": [
        "int('101010', 2) "
      ],
      "execution_count": null,
      "outputs": [
        {
          "output_type": "execute_result",
          "data": {
            "text/plain": [
              "42"
            ]
          },
          "metadata": {
            "tags": []
          },
          "execution_count": 5
        }
      ]
    },
    {
      "cell_type": "markdown",
      "metadata": {
        "id": "XBqbJF-6KezI"
      },
      "source": [
        "### 2진수의 연산\n",
        "- `&` (Binary AND) : bit 단위 and연산\n",
        "- `|` (Binary OR) : bit 단위 or연산\n",
        "- `^` (Binary XOR) : bit 단위 xor연산\n",
        "- `~` (Binary NOT) : bit 단위 not연산(1의 보수)\n",
        "- `<<` (Binary left Shift) : bit 단위 왼쪽으로 비트단위 밀기 연산\n",
        "- `>>` (Binary right Shift) : bit 단위 오른쪽으로 비트단위 밀기 연산"
      ]
    },
    {
      "cell_type": "code",
      "metadata": {
        "colab": {
          "base_uri": "https://localhost:8080/"
        },
        "id": "cT_tFoicLGJz",
        "outputId": "c428128b-ad71-4c9b-f891-d2d081d34471"
      },
      "source": [
        "a = 0b10101010\n",
        "b = 0b01110011\n",
        "print('a = ',  a, \":\", bin(a))\n",
        "print('b = ',  b, \":\", bin(b))\n",
        "print('a & b = ',  a & b, \":\", bin(a & b))\n",
        "print('a | b = ',  a | b, \":\", bin(a | b))\n",
        "print('a ^ b = ',  a ^ b, \":\", bin(a ^ b))\n",
        "print('~a = ',  ~a, \":\", bin(~a))"
      ],
      "execution_count": null,
      "outputs": [
        {
          "output_type": "stream",
          "text": [
            "a =  170 : 0b10101010\n",
            "b =  115 : 0b1110011\n",
            "a & b =  34 : 0b100010\n",
            "a | b =  251 : 0b11111011\n",
            "a ^ b =  217 : 0b11011001\n",
            "~a =  -171 : -0b10101011\n"
          ],
          "name": "stdout"
        }
      ]
    },
    {
      "cell_type": "markdown",
      "metadata": {
        "id": "zfORDOW-Meeh"
      },
      "source": [
        "연산결과는 십진수가 되는 것에 유의.\n",
        "또한 맨 앞자리가 0이되면 **자리수가 줄어드는 것**에 유의"
      ]
    },
    {
      "cell_type": "code",
      "metadata": {
        "id": "ZFtgtbuNMrWx",
        "colab": {
          "base_uri": "https://localhost:8080/"
        },
        "outputId": "84f4ba1d-5b03-4c96-dc6b-c6b30605fe59"
      },
      "source": [
        "a = 0b101\n",
        "b = 0b011\n",
        "c = 0b111\n",
        "print('a & b = ',  a & b, \":\", bin(a & b))\n",
        "print('a ^ c = ',  a ^ c, \":\", bin(a ^ c))"
      ],
      "execution_count": null,
      "outputs": [
        {
          "output_type": "stream",
          "text": [
            "a & b =  1 : 0b1\n",
            "a ^ c =  2 : 0b10\n"
          ],
          "name": "stdout"
        }
      ]
    },
    {
      "cell_type": "markdown",
      "metadata": {
        "id": "3mlwggPJYdF7"
      },
      "source": [
        "## 확장자 $E(R)$ 만들기\n",
        "편의상 이진수들을 list형으로 표현합니다.\n",
        "확장자 함수 $E(R_{i-1})$는 6비트 (문자열) $R_{i-1}=𝑎_1 𝑎_2 𝑎_3 𝑎_4 𝑎_5 𝑎_6$를 8비트 $𝑎_1 𝑎_2 𝑎_4 𝑎_3 𝑎_4 𝑎_3 𝑎_5 𝑎_6$로 확장합니다. 이러한 함수 `Des_Expander(R)`을 작성해봅시다. "
      ]
    },
    {
      "cell_type": "code",
      "metadata": {
        "id": "6yYUKU2-Ycyl"
      },
      "source": [
        "def Des_Expander(R):\n",
        "  return R[:2]+R[3]+R[2:4]+R[2]+R[4:]"
      ],
      "execution_count": null,
      "outputs": []
    },
    {
      "cell_type": "code",
      "metadata": {
        "colab": {
          "base_uri": "https://localhost:8080/",
          "height": 35
        },
        "id": "QZcltzmFZgiN",
        "outputId": "7f7e5329-0fe4-407c-d77e-36ddf8ff4039"
      },
      "source": [
        "R='011001'\n",
        "Des_Expander(R)"
      ],
      "execution_count": null,
      "outputs": [
        {
          "output_type": "execute_result",
          "data": {
            "application/vnd.google.colaboratory.intrinsic+json": {
              "type": "string"
            },
            "text/plain": [
              "'01010101'"
            ]
          },
          "metadata": {
            "tags": []
          },
          "execution_count": 9
        }
      ]
    },
    {
      "cell_type": "markdown",
      "metadata": {
        "id": "yt5v0D8BaCIR"
      },
      "source": [
        "## XOR 구현하기\n",
        "이번에는 같은 길이의 (list 형) 두 값의 XOR를 반환하는 함수 `DES_XOR(A, B)`를 작성해봅시다"
      ]
    },
    {
      "cell_type": "code",
      "metadata": {
        "id": "AX9m_EOqYMvV"
      },
      "source": [
        "def DES_XOR(A, B):\n",
        "  m = max(len(A), len(B))\n",
        "  C = format(int(A, 2)^int(B, 2), 'b') # 주의: 앞부분이 0이 되면 길이가 줄어들 수 있음\n",
        "  while len(C)<m: # 길이 유지를 위해서 만약 앞부분이 0이 되어 없어지면 다시 '0'을 붙여줍니다.\n",
        "    C = '0'+C\n",
        "  return C"
      ],
      "execution_count": null,
      "outputs": []
    },
    {
      "cell_type": "code",
      "metadata": {
        "colab": {
          "base_uri": "https://localhost:8080/",
          "height": 35
        },
        "id": "XwRi9jfHbTC9",
        "outputId": "29502045-f83a-4177-b735-47f55940a805"
      },
      "source": [
        "DES_XOR('111', '101')"
      ],
      "execution_count": null,
      "outputs": [
        {
          "output_type": "execute_result",
          "data": {
            "application/vnd.google.colaboratory.intrinsic+json": {
              "type": "string"
            },
            "text/plain": [
              "'010'"
            ]
          },
          "metadata": {
            "tags": []
          },
          "execution_count": 11
        }
      ]
    },
    {
      "cell_type": "markdown",
      "metadata": {
        "id": "dBqc5EgybbQc"
      },
      "source": [
        "## S-Box 구현하기\n",
        "아래의 S Box에서 4비트 문자열(list) $R=b_1 b_2 b_3 b_4$에 대해 이진수 $b_1$행, $b_2 b_3 b_4$열에  해당하는 값을 반환하는 함수 `DES_S1(R)`과 `DES_S2(R)`을 작성해봅시다. (각 행과 열은 0행, 0열부터 시작합니다.)\n",
        "$\n",
        "S_1: \n",
        "\\begin{bmatrix}\n",
        "101 & 010 & 001 & 110 & 011 & 100 & 111 & 000 \\\\\n",
        "001 & 100 & 110 & 010 & 000 & 111 & 101 & 011\n",
        "\\end{bmatrix}\n",
        "$\n",
        "$\n",
        "S_2: \n",
        "\\begin{bmatrix}\n",
        "100 & 000 & 110 & 101 & 111 & 001 & 011 & 010 \\\\\n",
        "101 & 011 & 000 & 111 & 110 & 010 & 001 & 100\n",
        "\\end{bmatrix}\n",
        "$"
      ]
    },
    {
      "cell_type": "code",
      "metadata": {
        "id": "l6qfbSSLbXCJ"
      },
      "source": [
        "def DES_S1(R):\n",
        "  if len(R)!=4:\n",
        "    print(\"4비트(4개의 0, 1로 이루어진 문자열)를 입력해야 합니다\")\n",
        "    return\n",
        "  S1=[['101', '010', '001', '110', '011', '100', '111', '000'], \\\n",
        "      ['001', '100', '110', '010', '000', '111', '101', '011']]\n",
        "  return S1[int(R[0])][int(R[1])*4+int(R[2])*2+int(R[3])]\n",
        "\n",
        "def DES_S2(R):\n",
        "  if len(R)!=4:\n",
        "    print(\"4비트(4개의 0, 1로 이루어진 문자열)를 입력해야 합니다\")\n",
        "    return\n",
        "  S2=[['100', '000', '110', '101', '111', '001', '011', '010'], \\\n",
        "      ['101', '011', '000', '111', '110', '010', '001', '100']]\n",
        "  return S2[int(R[0])][int(R[1])*4+int(R[2])*2+int(R[3])]\n",
        "  "
      ],
      "execution_count": null,
      "outputs": []
    },
    {
      "cell_type": "code",
      "metadata": {
        "colab": {
          "base_uri": "https://localhost:8080/",
          "height": 35
        },
        "id": "tB9F9xn_eJ-8",
        "outputId": "3b8b2043-ed96-4119-f649-d41edc44c3b1"
      },
      "source": [
        "DES_S1('1010')"
      ],
      "execution_count": null,
      "outputs": [
        {
          "output_type": "execute_result",
          "data": {
            "application/vnd.google.colaboratory.intrinsic+json": {
              "type": "string"
            },
            "text/plain": [
              "'110'"
            ]
          },
          "metadata": {
            "tags": []
          },
          "execution_count": 13
        }
      ]
    },
    {
      "cell_type": "markdown",
      "metadata": {
        "id": "I5COXGKNe4xx"
      },
      "source": [
        "## $f(R_{i-1}, K_i)$ 구현하기\n",
        "6비트 R, 8비트 K에 대해 강의에서 설명한 f함수의 역할을 하는 `DES_f(R, K)`를 구현해봅시다"
      ]
    },
    {
      "cell_type": "code",
      "metadata": {
        "id": "HkezryDVeOV2"
      },
      "source": [
        "def DES_f(R, K):\n",
        "  if len(R)!=6 or len(K)!=8:\n",
        "    print(\"입력을 다시 확인해보세요!\")\n",
        "    return\n",
        "  A = DES_XOR(Des_Expander(R), K)[:4]\n",
        "  B = DES_XOR(Des_Expander(R), K)[4:]\n",
        "  return DES_S1(A)+DES_S2(B)"
      ],
      "execution_count": null,
      "outputs": []
    },
    {
      "cell_type": "code",
      "metadata": {
        "colab": {
          "base_uri": "https://localhost:8080/",
          "height": 35
        },
        "id": "r96zJK00gBOs",
        "outputId": "89467660-9a3d-4b9f-9deb-986b2b9c5a4f"
      },
      "source": [
        "DES_f('100110', '01100101')"
      ],
      "execution_count": null,
      "outputs": [
        {
          "output_type": "execute_result",
          "data": {
            "application/vnd.google.colaboratory.intrinsic+json": {
              "type": "string"
            },
            "text/plain": [
              "'000100'"
            ]
          },
          "metadata": {
            "tags": []
          },
          "execution_count": 15
        }
      ]
    },
    {
      "cell_type": "markdown",
      "metadata": {
        "id": "Ma07ybnQgH-I"
      },
      "source": [
        "## Simplified DES 완성하기\n",
        "자, 이제 12비트의 메시지(평문) $L_0 R_0$과 9비트의 암호화키 $K$에 대해 $n$라운드의 Simplified DES 암호화를 하는 함수 `DES(M, K, n)`를 구현해봅시다."
      ]
    },
    {
      "cell_type": "code",
      "metadata": {
        "id": "fbhcs8RaiY_G"
      },
      "source": [
        "def DES(M, K, n):\n",
        "  L, R = M[:6], M[6:]\n",
        "  for i in range(n):\n",
        "    K1 = K[i:]+K[:i]\n",
        "    # print(\"The key for round {}:{}\".format(i, K1))\n",
        "    L, R = R, DES_XOR(L, DES_f(R, K1[:8]))\n",
        "  return L+R\n",
        "  "
      ],
      "execution_count": null,
      "outputs": []
    },
    {
      "cell_type": "code",
      "metadata": {
        "colab": {
          "base_uri": "https://localhost:8080/",
          "height": 35
        },
        "id": "00HpyUyijLb-",
        "outputId": "4204f7aa-6cf9-42eb-fdb4-7879421ee83b"
      },
      "source": [
        "DES('011100100110', '011001010',1)"
      ],
      "execution_count": null,
      "outputs": [
        {
          "output_type": "execute_result",
          "data": {
            "application/vnd.google.colaboratory.intrinsic+json": {
              "type": "string"
            },
            "text/plain": [
              "'100110011000'"
            ]
          },
          "metadata": {
            "tags": []
          },
          "execution_count": 17
        }
      ]
    },
    {
      "cell_type": "markdown",
      "metadata": {
        "id": "eNKb9OmCPD0r"
      },
      "source": [
        "## 복호화\n",
        "암호문의 좌우를 바꾸고 라운드별 암호화키를 역순으로 적용하면, \n",
        "메시지(평문)을 얻을 수 있습니다"
      ]
    },
    {
      "cell_type": "code",
      "metadata": {
        "id": "RGK2kdM0PRge"
      },
      "source": [
        "def DES_Decrypt(M, K, n):\n",
        "  L, R = M[6:], M[:6]  # 먼저 좌우를 바꿉니다\n",
        "  for i in reversed(range(n)):\n",
        "    K1 = K[i:]+K[:i]\n",
        "    # print(\"The key for round {}:{}\".format(i, K1))\n",
        "    L, R = R, DES_XOR(L, DES_f(R, K1[:8]))\n",
        "  return R+L  # 다시 좌우를 바꿔서 원래의 메시지를 복구합니다."
      ],
      "execution_count": null,
      "outputs": []
    },
    {
      "cell_type": "code",
      "metadata": {
        "colab": {
          "base_uri": "https://localhost:8080/"
        },
        "id": "U2-j8fBIQgAE",
        "outputId": "97750cae-a018-42af-c93f-01de2c90621e"
      },
      "source": [
        "M = '011100100110'\n",
        "K = '011001010'\n",
        "C=DES(M, K,3)\n",
        "print(C)\n",
        "\n",
        "print(DES_Decrypt(C, K, 3))"
      ],
      "execution_count": null,
      "outputs": [
        {
          "output_type": "stream",
          "text": [
            "000111001100\n",
            "011100100110\n"
          ],
          "name": "stdout"
        }
      ]
    },
    {
      "cell_type": "markdown",
      "metadata": {
        "id": "HNPGz90yb7kg"
      },
      "source": [
        "## Diffusion과 Confusion 확인해보기\n",
        "\n",
        "1. 메시지(평문)의 1비트(1자리)만 바꿔가면서 암호문의 어떤 자리들이 바뀌는지 확인해봅시다.\n",
        "2. 암호화 키의 1비트(1자리)만 바꿔가면서 암호문의 어떤 자리들이 바뀌는지 확인해봅시다."
      ]
    },
    {
      "cell_type": "code",
      "metadata": {
        "colab": {
          "base_uri": "https://localhost:8080/"
        },
        "id": "IYqMNOOzbekx",
        "outputId": "df9dbf48-0d6a-4c0d-e8e4-3f0a38bd8c0f"
      },
      "source": [
        "M = '011100100110'\n",
        "K = '011001010'\n",
        "print(DES(M, K,6))\n",
        "print(DES(DES_XOR(M, '100000000000'), K,6))\n",
        "print(DES(DES_XOR(M, '010000000000'), K,6))\n",
        "print(DES(DES_XOR(M, '001000000000'), K,6))\n",
        "print(DES(DES_XOR(M, '000100000000'), K,6))\n",
        "print(DES(DES_XOR(M, '000010000000'), K,6))\n",
        "print(DES(DES_XOR(M, '000000000001'), K,6))"
      ],
      "execution_count": null,
      "outputs": [
        {
          "output_type": "stream",
          "text": [
            "111111110101\n",
            "000110000000\n",
            "110001101011\n",
            "110100110101\n",
            "101011100111\n",
            "001011101111\n",
            "101100000110\n"
          ],
          "name": "stdout"
        }
      ]
    },
    {
      "cell_type": "code",
      "metadata": {
        "colab": {
          "base_uri": "https://localhost:8080/"
        },
        "id": "qbLQUAGpmLSh",
        "outputId": "322910e7-efff-466b-b307-61e1750d684f"
      },
      "source": [
        "M = '011100100110'\n",
        "K = '011001010'\n",
        "print(DES(M, K,6))\n",
        "print(DES(M, DES_XOR(K, '100000000'),6))\n",
        "print(DES(M, DES_XOR(K, '010000000'),6))\n",
        "print(DES(M, DES_XOR(K, '001000000'),6))\n",
        "print(DES(M, DES_XOR(K, '000100000'),6))"
      ],
      "execution_count": null,
      "outputs": [
        {
          "output_type": "stream",
          "text": [
            "111111110101\n",
            "001011110000\n",
            "101011001010\n",
            "101001001100\n",
            "000000000111\n"
          ],
          "name": "stdout"
        }
      ]
    },
    {
      "cell_type": "code",
      "metadata": {
        "id": "RWxBoro2b69m"
      },
      "source": [
        ""
      ],
      "execution_count": null,
      "outputs": []
    },
    {
      "cell_type": "code",
      "metadata": {
        "id": "Jbg2Tx-JjkVj",
        "colab": {
          "base_uri": "https://localhost:8080/"
        },
        "outputId": "dce6ca92-c1b8-4b9a-b2ea-c3212ad29630"
      },
      "source": [
        "for n in range(1, 4):\n",
        "  print(DES('011100100110', '011000101',n))"
      ],
      "execution_count": null,
      "outputs": [
        {
          "output_type": "stream",
          "text": [
            "100110011001\n",
            "011001000010\n",
            "000010010100\n"
          ],
          "name": "stdout"
        }
      ]
    },
    {
      "cell_type": "code",
      "metadata": {
        "id": "S9qzovUL2soG"
      },
      "source": [
        ""
      ],
      "execution_count": null,
      "outputs": []
    },
    {
      "cell_type": "markdown",
      "metadata": {
        "id": "WkSOqTAX2ol8"
      },
      "source": [
        "## Simplified DES 공격하기\n",
        "\n",
        "주어진 평문과 암호문을 가지고 공격하는 것을 생각해봅시다.\n"
      ]
    },
    {
      "cell_type": "code",
      "metadata": {
        "colab": {
          "base_uri": "https://localhost:8080/"
        },
        "id": "MahyqESk3Fxe",
        "outputId": "bd0c707a-b149-4deb-9f7a-f8fb56e74f2d"
      },
      "source": [
        "M = '011100100110' # 먼저 테스트를 위한 암호문을 하나 만들어봅시다\n",
        "K = '011001010'\n",
        "N = 4\n",
        "print(DES(M, K, N))"
      ],
      "execution_count": null,
      "outputs": [
        {
          "output_type": "stream",
          "text": [
            "001100010110\n"
          ],
          "name": "stdout"
        }
      ]
    },
    {
      "cell_type": "markdown",
      "metadata": {
        "id": "s7Bhtm2Coqld"
      },
      "source": [
        "### 실습문제\n",
        "\n",
        "1. Brute-force attack, 즉, 모든 경우의 암호화키를 가지고 찾는 코드를 작성해봅시다.\n",
        "2. 위의 코드를 이용하여 평문 `M = '011100100110'`와 (라운드 4) Simplified DES를 적용한 암호문 `C = '001100010110'`에 사용한 암호화키를 찾아봅시다."
      ]
    },
    {
      "cell_type": "code",
      "metadata": {
        "colab": {
          "base_uri": "https://localhost:8080/"
        },
        "id": "OajRxfaL3N-c",
        "outputId": "4cc7a35c-d8bb-4b57-bb96-a7b3c127913a"
      },
      "source": [
        "M = '011100100110'\n",
        "C = '001100010110'\n",
        "N = 4\n",
        "for i in range(2**9):\n",
        "  K = format(i, 'b')\n",
        "  while len(K)<9:\n",
        "    K = '0'+K\n",
        "  if DES(M, K, N)==C:\n",
        "    print(K)\n",
        "    break"
      ],
      "execution_count": null,
      "outputs": [
        {
          "output_type": "stream",
          "text": [
            "011001010\n"
          ],
          "name": "stdout"
        }
      ]
    },
    {
      "cell_type": "markdown",
      "metadata": {
        "id": "KLr1dKaEiFj4"
      },
      "source": [
        "## 실습문제\n",
        "\n",
        "키 $K$를 사용한 4라운드 DES 암호화를 $E_K(M)$라 하자.\n",
        "*Weak key*라 하면 모든 메시지 $M$에 대해 $E_K(E_K(M))=M$인 암호화키 $K$를 말한다. \n",
        "\n",
        "1. 이 단순화한 4라운드 DES에는 Weak key가 없음을 보여라. \n",
        "(즉, 각 $K$마다, $E_K(E_K(M))\\ne M$인 메시지 $M$을 찾아야 한다)\n",
        "\n",
        "2. 3라운드 DES의 경우에도 Weak key가 없는지 확인해보아라.\n"
      ]
    },
    {
      "cell_type": "code",
      "metadata": {
        "id": "p-P8_9y1i8_Y",
        "colab": {
          "base_uri": "https://localhost:8080/"
        },
        "outputId": "eac8855b-6aa8-407b-fec4-5e11ef1fa598"
      },
      "source": [
        "N = 4\n",
        "\n",
        "for i in range(2**9):\n",
        "  K = format(i, 'b')\n",
        "  while len(K)<9:\n",
        "    K = '0'+K\n",
        "  for j in range(2**12):  # 아래 weak key 아니라고 확인하는 과정을 깔끔하게!\n",
        "    print(i,j)\n",
        "    M = format(j, 'b')\n",
        "    while len(M)<12:\n",
        "      M = '0'+M\n",
        "    M1 = DES(DES(M, K, N), K, N)\n",
        "    if M1!=M:\n",
        "      print(\"For key {}: Message {} is not same with {}\".format(K, M, M1))\n",
        "      break\n"
      ],
      "execution_count": null,
      "outputs": [
        {
          "output_type": "stream",
          "text": [
            "0 0\n",
            "For key 000000000: Message 000000000000 is not same with 011011100001\n",
            "1 0\n",
            "For key 000000001: Message 000000000000 is not same with 000110001111\n",
            "2 0\n",
            "For key 000000010: Message 000000000000 is not same with 001000010000\n",
            "3 0\n",
            "For key 000000011: Message 000000000000 is not same with 001010011110\n",
            "4 0\n",
            "For key 000000100: Message 000000000000 is not same with 000101101010\n",
            "5 0\n",
            "For key 000000101: Message 000000000000 is not same with 101011111101\n",
            "6 0\n",
            "For key 000000110: Message 000000000000 is not same with 000101010001\n",
            "7 0\n",
            "For key 000000111: Message 000000000000 is not same with 110101111111\n",
            "8 0\n",
            "For key 000001000: Message 000000000000 is not same with 001101011110\n",
            "9 0\n",
            "For key 000001001: Message 000000000000 is not same with 001011011100\n",
            "10 0\n",
            "For key 000001010: Message 000000000000 is not same with 101100000000\n",
            "11 0\n",
            "For key 000001011: Message 000000000000 is not same with 110011010110\n",
            "12 0\n",
            "For key 000001100: Message 000000000000 is not same with 110111001100\n",
            "13 0\n",
            "For key 000001101: Message 000000000000 is not same with 101110100101\n",
            "14 0\n",
            "For key 000001110: Message 000000000000 is not same with 010001011111\n",
            "15 0\n",
            "For key 000001111: Message 000000000000 is not same with 110000010101\n",
            "16 0\n",
            "For key 000010000: Message 000000000000 is not same with 000101110100\n",
            "17 0\n",
            "For key 000010001: Message 000000000000 is not same with 101101010110\n",
            "18 0\n",
            "For key 000010010: Message 000000000000 is not same with 010010001100\n",
            "19 0\n",
            "For key 000010011: Message 000000000000 is not same with 000010001111\n",
            "20 0\n",
            "For key 000010100: Message 000000000000 is not same with 110100011100\n",
            "21 0\n",
            "For key 000010101: Message 000000000000 is not same with 111001001111\n",
            "22 0\n",
            "For key 000010110: Message 000000000000 is not same with 100101100001\n",
            "23 0\n",
            "For key 000010111: Message 000000000000 is not same with 001010110110\n",
            "24 0\n",
            "For key 000011000: Message 000000000000 is not same with 001100100110\n",
            "25 0\n",
            "For key 000011001: Message 000000000000 is not same with 100001110010\n",
            "26 0\n",
            "For key 000011010: Message 000000000000 is not same with 101111000101\n",
            "27 0\n",
            "For key 000011011: Message 000000000000 is not same with 001010110100\n",
            "28 0\n",
            "For key 000011100: Message 000000000000 is not same with 000001100111\n",
            "29 0\n",
            "For key 000011101: Message 000000000000 is not same with 001111101001\n",
            "30 0\n",
            "For key 000011110: Message 000000000000 is not same with 011101010101\n",
            "31 0\n",
            "For key 000011111: Message 000000000000 is not same with 111011000110\n",
            "32 0\n",
            "For key 000100000: Message 000000000000 is not same with 010100110011\n",
            "33 0\n",
            "For key 000100001: Message 000000000000 is not same with 101101001000\n",
            "34 0\n",
            "For key 000100010: Message 000000000000 is not same with 111101001100\n",
            "35 0\n",
            "For key 000100011: Message 000000000000 is not same with 111001111110\n",
            "36 0\n",
            "For key 000100100: Message 000000000000 is not same with 111111100011\n",
            "37 0\n",
            "For key 000100101: Message 000000000000 is not same with 011110111101\n",
            "38 0\n",
            "For key 000100110: Message 000000000000 is not same with 110011001011\n",
            "39 0\n",
            "For key 000100111: Message 000000000000 is not same with 001110000100\n",
            "40 0\n",
            "For key 000101000: Message 000000000000 is not same with 111010010110\n",
            "41 0\n",
            "For key 000101001: Message 000000000000 is not same with 011000001000\n",
            "42 0\n",
            "For key 000101010: Message 000000000000 is not same with 001001001100\n",
            "43 0\n",
            "For key 000101011: Message 000000000000 is not same with 011000001001\n",
            "44 0\n",
            "For key 000101100: Message 000000000000 is not same with 100000001110\n",
            "45 0\n",
            "For key 000101101: Message 000000000000 is not same with 100111000110\n",
            "46 0\n",
            "For key 000101110: Message 000000000000 is not same with 010000010001\n",
            "47 0\n",
            "For key 000101111: Message 000000000000 is not same with 000000000011\n",
            "48 0\n",
            "For key 000110000: Message 000000000000 is not same with 101100010111\n",
            "49 0\n",
            "For key 000110001: Message 000000000000 is not same with 110110110011\n",
            "50 0\n",
            "For key 000110010: Message 000000000000 is not same with 001110100011\n",
            "51 0\n",
            "For key 000110011: Message 000000000000 is not same with 111101011000\n",
            "52 0\n",
            "For key 000110100: Message 000000000000 is not same with 100110101010\n",
            "53 0\n",
            "For key 000110101: Message 000000000000 is not same with 100001101110\n",
            "54 0\n",
            "For key 000110110: Message 000000000000 is not same with 111011111111\n",
            "55 0\n",
            "For key 000110111: Message 000000000000 is not same with 101000001011\n",
            "56 0\n",
            "For key 000111000: Message 000000000000 is not same with 010011101101\n",
            "57 0\n",
            "For key 000111001: Message 000000000000 is not same with 100010110100\n",
            "58 0\n",
            "For key 000111010: Message 000000000000 is not same with 001000101100\n",
            "59 0\n",
            "For key 000111011: Message 000000000000 is not same with 111000001110\n",
            "60 0\n",
            "For key 000111100: Message 000000000000 is not same with 011001011001\n",
            "61 0\n",
            "For key 000111101: Message 000000000000 is not same with 110001011111\n",
            "62 0\n",
            "For key 000111110: Message 000000000000 is not same with 001110011001\n",
            "63 0\n",
            "For key 000111111: Message 000000000000 is not same with 101010100011\n",
            "64 0\n",
            "For key 001000000: Message 000000000000 is not same with 011000011101\n",
            "65 0\n",
            "For key 001000001: Message 000000000000 is not same with 110001101001\n",
            "66 0\n",
            "For key 001000010: Message 000000000000 is not same with 111000011000\n",
            "67 0\n",
            "For key 001000011: Message 000000000000 is not same with 010001111100\n",
            "68 0\n",
            "For key 001000100: Message 000000000000 is not same with 110001011000\n",
            "69 0\n",
            "For key 001000101: Message 000000000000 is not same with 000111101000\n",
            "70 0\n",
            "For key 001000110: Message 000000000000 is not same with 100011111111\n",
            "71 0\n",
            "For key 001000111: Message 000000000000 is not same with 110111110110\n",
            "72 0\n",
            "For key 001001000: Message 000000000000 is not same with 101101011110\n",
            "73 0\n",
            "For key 001001001: Message 000000000000 is not same with 110100100111\n",
            "74 0\n",
            "For key 001001010: Message 000000000000 is not same with 101111101101\n",
            "75 0\n",
            "For key 001001011: Message 000000000000 is not same with 111011110101\n",
            "76 0\n",
            "For key 001001100: Message 000000000000 is not same with 011110110001\n",
            "77 0\n",
            "For key 001001101: Message 000000000000 is not same with 001110100101\n",
            "78 0\n",
            "For key 001001110: Message 000000000000 is not same with 111001100110\n",
            "79 0\n",
            "For key 001001111: Message 000000000000 is not same with 100000101101\n",
            "80 0\n",
            "For key 001010000: Message 000000000000 is not same with 000000110001\n",
            "81 0\n",
            "For key 001010001: Message 000000000000 is not same with 111111001111\n",
            "82 0\n",
            "For key 001010010: Message 000000000000 is not same with 100100101111\n",
            "83 0\n",
            "For key 001010011: Message 000000000000 is not same with 111011001111\n",
            "84 0\n",
            "For key 001010100: Message 000000000000 is not same with 010111111110\n",
            "85 0\n",
            "For key 001010101: Message 000000000000 is not same with 100101001101\n",
            "86 0\n",
            "For key 001010110: Message 000000000000 is not same with 001010111010\n",
            "87 0\n",
            "For key 001010111: Message 000000000000 is not same with 000101101111\n",
            "88 0\n",
            "For key 001011000: Message 000000000000 is not same with 000010011101\n",
            "89 0\n",
            "For key 001011001: Message 000000000000 is not same with 001000001010\n",
            "90 0\n",
            "For key 001011010: Message 000000000000 is not same with 001010110101\n",
            "91 0\n",
            "For key 001011011: Message 000000000000 is not same with 110010010101\n",
            "92 0\n",
            "For key 001011100: Message 000000000000 is not same with 101001111110\n",
            "93 0\n",
            "For key 001011101: Message 000000000000 is not same with 010011011101\n",
            "94 0\n",
            "For key 001011110: Message 000000000000 is not same with 001111110010\n",
            "95 0\n",
            "For key 001011111: Message 000000000000 is not same with 001011110011\n",
            "96 0\n",
            "For key 001100000: Message 000000000000 is not same with 110101011000\n",
            "97 0\n",
            "For key 001100001: Message 000000000000 is not same with 110110010100\n",
            "98 0\n",
            "For key 001100010: Message 000000000000 is not same with 000000101110\n",
            "99 0\n",
            "For key 001100011: Message 000000000000 is not same with 110000000010\n",
            "100 0\n",
            "For key 001100100: Message 000000000000 is not same with 011100110001\n",
            "101 0\n",
            "For key 001100101: Message 000000000000 is not same with 100110010001\n",
            "102 0\n",
            "For key 001100110: Message 000000000000 is not same with 010011011101\n",
            "103 0\n",
            "For key 001100111: Message 000000000000 is not same with 000011000010\n",
            "104 0\n",
            "For key 001101000: Message 000000000000 is not same with 010111011011\n",
            "105 0\n",
            "For key 001101001: Message 000000000000 is not same with 100000001011\n",
            "106 0\n",
            "For key 001101010: Message 000000000000 is not same with 100110001100\n",
            "107 0\n",
            "For key 001101011: Message 000000000000 is not same with 000000101110\n",
            "108 0\n",
            "For key 001101100: Message 000000000000 is not same with 000000011100\n",
            "109 0\n",
            "For key 001101101: Message 000000000000 is not same with 001100110000\n",
            "110 0\n",
            "For key 001101110: Message 000000000000 is not same with 001100000011\n",
            "111 0\n",
            "For key 001101111: Message 000000000000 is not same with 001001001101\n",
            "112 0\n",
            "For key 001110000: Message 000000000000 is not same with 001101010001\n",
            "113 0\n",
            "For key 001110001: Message 000000000000 is not same with 111001111101\n",
            "114 0\n",
            "For key 001110010: Message 000000000000 is not same with 010000010110\n",
            "115 0\n",
            "For key 001110011: Message 000000000000 is not same with 001101110101\n",
            "116 0\n",
            "For key 001110100: Message 000000000000 is not same with 011100010111\n",
            "117 0\n",
            "For key 001110101: Message 000000000000 is not same with 110100111110\n",
            "118 0\n",
            "For key 001110110: Message 000000000000 is not same with 000000010110\n",
            "119 0\n",
            "For key 001110111: Message 000000000000 is not same with 010001111011\n",
            "120 0\n",
            "For key 001111000: Message 000000000000 is not same with 011100000110\n",
            "121 0\n",
            "For key 001111001: Message 000000000000 is not same with 000011011011\n",
            "122 0\n",
            "For key 001111010: Message 000000000000 is not same with 100000011000\n",
            "123 0\n",
            "For key 001111011: Message 000000000000 is not same with 110101000101\n",
            "124 0\n",
            "For key 001111100: Message 000000000000 is not same with 011001011001\n",
            "125 0\n",
            "For key 001111101: Message 000000000000 is not same with 011001000001\n",
            "126 0\n",
            "For key 001111110: Message 000000000000 is not same with 010000110111\n",
            "127 0\n",
            "For key 001111111: Message 000000000000 is not same with 000000101111\n",
            "128 0\n",
            "For key 010000000: Message 000000000000 is not same with 110000111011\n",
            "129 0\n",
            "For key 010000001: Message 000000000000 is not same with 000111000010\n",
            "130 0\n",
            "For key 010000010: Message 000000000000 is not same with 101000100101\n",
            "131 0\n",
            "For key 010000011: Message 000000000000 is not same with 011010011001\n",
            "132 0\n",
            "For key 010000100: Message 000000000000 is not same with 011000010110\n",
            "133 0\n",
            "For key 010000101: Message 000000000000 is not same with 110110000001\n",
            "134 0\n",
            "For key 010000110: Message 000000000000 is not same with 110110110011\n",
            "135 0\n",
            "For key 010000111: Message 000000000000 is not same with 110001101010\n",
            "136 0\n",
            "For key 010001000: Message 000000000000 is not same with 101001110111\n",
            "137 0\n",
            "For key 010001001: Message 000000000000 is not same with 111001110100\n",
            "138 0\n",
            "For key 010001010: Message 000000000000 is not same with 111001101010\n",
            "139 0\n",
            "For key 010001011: Message 000000000000 is not same with 100111110110\n",
            "140 0\n",
            "For key 010001100: Message 000000000000 is not same with 011001000010\n",
            "141 0\n",
            "For key 010001101: Message 000000000000 is not same with 101111000111\n",
            "142 0\n",
            "For key 010001110: Message 000000000000 is not same with 110110000101\n",
            "143 0\n",
            "For key 010001111: Message 000000000000 is not same with 101011011000\n",
            "144 0\n",
            "For key 010010000: Message 000000000000 is not same with 010110111010\n",
            "145 0\n",
            "For key 010010001: Message 000000000000 is not same with 010000001111\n",
            "146 0\n",
            "For key 010010010: Message 000000000000 is not same with 000010111010\n",
            "147 0\n",
            "For key 010010011: Message 000000000000 is not same with 001110010001\n",
            "148 0\n",
            "For key 010010100: Message 000000000000 is not same with 101101000100\n",
            "149 0\n",
            "For key 010010101: Message 000000000000 is not same with 101011101111\n",
            "150 0\n",
            "For key 010010110: Message 000000000000 is not same with 111001011100\n",
            "151 0\n",
            "For key 010010111: Message 000000000000 is not same with 000111111111\n",
            "152 0\n",
            "For key 010011000: Message 000000000000 is not same with 010001001011\n",
            "153 0\n",
            "For key 010011001: Message 000000000000 is not same with 000110101110\n",
            "154 0\n",
            "For key 010011010: Message 000000000000 is not same with 010100001111\n",
            "155 0\n",
            "For key 010011011: Message 000000000000 is not same with 101111011100\n",
            "156 0\n",
            "For key 010011100: Message 000000000000 is not same with 001110000001\n",
            "157 0\n",
            "For key 010011101: Message 000000000000 is not same with 101101000000\n",
            "158 0\n",
            "For key 010011110: Message 000000000000 is not same with 000111011001\n",
            "159 0\n",
            "For key 010011111: Message 000000000000 is not same with 001011110001\n",
            "160 0\n",
            "For key 010100000: Message 000000000000 is not same with 111101001011\n",
            "161 0\n",
            "For key 010100001: Message 000000000000 is not same with 100011111011\n",
            "162 0\n",
            "For key 010100010: Message 000000000000 is not same with 100100001001\n",
            "163 0\n",
            "For key 010100011: Message 000000000000 is not same with 000000000001\n",
            "164 0\n",
            "For key 010100100: Message 000000000000 is not same with 010010011011\n",
            "165 0\n",
            "For key 010100101: Message 000000000000 is not same with 101111101001\n",
            "166 0\n",
            "For key 010100110: Message 000000000000 is not same with 000100111111\n",
            "167 0\n",
            "For key 010100111: Message 000000000000 is not same with 111011001100\n",
            "168 0\n",
            "For key 010101000: Message 000000000000 is not same with 001000110111\n",
            "169 0\n",
            "For key 010101001: Message 000000000000 is not same with 010111110101\n",
            "170 0\n",
            "For key 010101010: Message 000000000000 is not same with 010110100001\n",
            "171 0\n",
            "For key 010101011: Message 000000000000 is not same with 110010111101\n",
            "172 0\n",
            "For key 010101100: Message 000000000000 is not same with 100101010001\n",
            "173 0\n",
            "For key 010101101: Message 000000000000 is not same with 101000001101\n",
            "174 0\n",
            "For key 010101110: Message 000000000000 is not same with 000101100111\n",
            "175 0\n",
            "For key 010101111: Message 000000000000 is not same with 101111101111\n",
            "176 0\n",
            "For key 010110000: Message 000000000000 is not same with 010011001011\n",
            "177 0\n",
            "For key 010110001: Message 000000000000 is not same with 100000111011\n",
            "178 0\n",
            "For key 010110010: Message 000000000000 is not same with 011101110100\n",
            "179 0\n",
            "For key 010110011: Message 000000000000 is not same with 100110010000\n",
            "180 0\n",
            "For key 010110100: Message 000000000000 is not same with 110111111000\n",
            "181 0\n",
            "For key 010110101: Message 000000000000 is not same with 101110110111\n",
            "182 0\n",
            "For key 010110110: Message 000000000000 is not same with 101101011011\n",
            "183 0\n",
            "For key 010110111: Message 000000000000 is not same with 011010000001\n",
            "184 0\n",
            "For key 010111000: Message 000000000000 is not same with 100001011100\n",
            "185 0\n",
            "For key 010111001: Message 000000000000 is not same with 111001000000\n",
            "186 0\n",
            "For key 010111010: Message 000000000000 is not same with 011011000101\n",
            "187 0\n",
            "For key 010111011: Message 000000000000 is not same with 100111111011\n",
            "188 0\n",
            "For key 010111100: Message 000000000000 is not same with 001110100001\n",
            "189 0\n",
            "For key 010111101: Message 000000000000 is not same with 000110110000\n",
            "190 0\n",
            "For key 010111110: Message 000000000000 is not same with 101000011001\n",
            "191 0\n",
            "For key 010111111: Message 000000000000 is not same with 011011101000\n",
            "192 0\n",
            "For key 011000000: Message 000000000000 is not same with 010101111000\n",
            "193 0\n",
            "For key 011000001: Message 000000000000 is not same with 011111010110\n",
            "194 0\n",
            "For key 011000010: Message 000000000000 is not same with 110100000111\n",
            "195 0\n",
            "For key 011000011: Message 000000000000 is not same with 000010110001\n",
            "196 0\n",
            "For key 011000100: Message 000000000000 is not same with 011101110000\n",
            "197 0\n",
            "For key 011000101: Message 000000000000 is not same with 000000100101\n",
            "198 0\n",
            "For key 011000110: Message 000000000000 is not same with 010110010001\n",
            "199 0\n",
            "For key 011000111: Message 000000000000 is not same with 110101000110\n",
            "200 0\n",
            "For key 011001000: Message 000000000000 is not same with 001000001011\n",
            "201 0\n",
            "For key 011001001: Message 000000000000 is not same with 100110101011\n",
            "202 0\n",
            "For key 011001010: Message 000000000000 is not same with 001110000101\n",
            "203 0\n",
            "For key 011001011: Message 000000000000 is not same with 110111110110\n",
            "204 0\n",
            "For key 011001100: Message 000000000000 is not same with 110110111110\n",
            "205 0\n",
            "For key 011001101: Message 000000000000 is not same with 111100000111\n",
            "206 0\n",
            "For key 011001110: Message 000000000000 is not same with 000100000000\n",
            "207 0\n",
            "For key 011001111: Message 000000000000 is not same with 111000101111\n",
            "208 0\n",
            "For key 011010000: Message 000000000000 is not same with 110011100100\n",
            "209 0\n",
            "For key 011010001: Message 000000000000 is not same with 000000111111\n",
            "210 0\n",
            "For key 011010010: Message 000000000000 is not same with 011111111001\n",
            "211 0\n",
            "For key 011010011: Message 000000000000 is not same with 110101011110\n",
            "212 0\n",
            "For key 011010100: Message 000000000000 is not same with 110100000101\n",
            "213 0\n",
            "For key 011010101: Message 000000000000 is not same with 010101011011\n",
            "214 0\n",
            "For key 011010110: Message 000000000000 is not same with 101110111110\n",
            "215 0\n",
            "For key 011010111: Message 000000000000 is not same with 001101001101\n",
            "216 0\n",
            "For key 011011000: Message 000000000000 is not same with 001001111011\n",
            "217 0\n",
            "For key 011011001: Message 000000000000 is not same with 001000110101\n",
            "218 0\n",
            "For key 011011010: Message 000000000000 is not same with 110010011101\n",
            "219 0\n",
            "For key 011011011: Message 000000000000 is not same with 000011101011\n",
            "220 0\n",
            "For key 011011100: Message 000000000000 is not same with 111110100000\n",
            "221 0\n",
            "For key 011011101: Message 000000000000 is not same with 100010011111\n",
            "222 0\n",
            "For key 011011110: Message 000000000000 is not same with 010000010100\n",
            "223 0\n",
            "For key 011011111: Message 000000000000 is not same with 010000110011\n",
            "224 0\n",
            "For key 011100000: Message 000000000000 is not same with 001110111011\n",
            "225 0\n",
            "For key 011100001: Message 000000000000 is not same with 000011110001\n",
            "226 0\n",
            "For key 011100010: Message 000000000000 is not same with 010100011001\n",
            "227 0\n",
            "For key 011100011: Message 000000000000 is not same with 001110001100\n",
            "228 0\n",
            "For key 011100100: Message 000000000000 is not same with 000110001001\n",
            "229 0\n",
            "For key 011100101: Message 000000000000 is not same with 001000100000\n",
            "230 0\n",
            "For key 011100110: Message 000000000000 is not same with 000100010011\n",
            "231 0\n",
            "For key 011100111: Message 000000000000 is not same with 010101101111\n",
            "232 0\n",
            "For key 011101000: Message 000000000000 is not same with 010100001011\n",
            "233 0\n",
            "For key 011101001: Message 000000000000 is not same with 000000100100\n",
            "234 0\n",
            "For key 011101010: Message 000000000000 is not same with 010010011001\n",
            "235 0\n",
            "For key 011101011: Message 000000000000 is not same with 001101101100\n",
            "236 0\n",
            "For key 011101100: Message 000000000000 is not same with 011100100100\n",
            "237 0\n",
            "For key 011101101: Message 000000000000 is not same with 110111000100\n",
            "238 0\n",
            "For key 011101110: Message 000000000000 is not same with 111011011011\n",
            "239 0\n",
            "For key 011101111: Message 000000000000 is not same with 110011111010\n",
            "240 0\n",
            "For key 011110000: Message 000000000000 is not same with 001111101110\n",
            "241 0\n",
            "For key 011110001: Message 000000000000 is not same with 100111010111\n",
            "242 0\n",
            "For key 011110010: Message 000000000000 is not same with 001101010110\n",
            "243 0\n",
            "For key 011110011: Message 000000000000 is not same with 110001010110\n",
            "244 0\n",
            "For key 011110100: Message 000000000000 is not same with 110011001010\n",
            "245 0\n",
            "For key 011110101: Message 000000000000 is not same with 100000110101\n",
            "246 0\n",
            "For key 011110110: Message 000000000000 is not same with 011001011101\n",
            "247 0\n",
            "For key 011110111: Message 000000000000 is not same with 110101000111\n",
            "248 0\n",
            "For key 011111000: Message 000000000000 is not same with 111101010001\n",
            "249 0\n",
            "For key 011111001: Message 000000000000 is not same with 101111010011\n",
            "250 0\n",
            "For key 011111010: Message 000000000000 is not same with 110110000111\n",
            "251 0\n",
            "For key 011111011: Message 000000000000 is not same with 000011111110\n",
            "252 0\n",
            "For key 011111100: Message 000000000000 is not same with 011101101100\n",
            "253 0\n",
            "For key 011111101: Message 000000000000 is not same with 111001001011\n",
            "254 0\n",
            "For key 011111110: Message 000000000000 is not same with 110001101000\n",
            "255 0\n",
            "For key 011111111: Message 000000000000 is not same with 010110111101\n",
            "256 0\n",
            "For key 100000000: Message 000000000000 is not same with 100010111100\n",
            "257 0\n",
            "For key 100000001: Message 000000000000 is not same with 010100010110\n",
            "258 0\n",
            "For key 100000010: Message 000000000000 is not same with 000001100011\n",
            "259 0\n",
            "For key 100000011: Message 000000000000 is not same with 001111110110\n",
            "260 0\n",
            "For key 100000100: Message 000000000000 is not same with 011010010110\n",
            "261 0\n",
            "For key 100000101: Message 000000000000 is not same with 101111010001\n",
            "262 0\n",
            "For key 100000110: Message 000000000000 is not same with 100001010000\n",
            "263 0\n",
            "For key 100000111: Message 000000000000 is not same with 011110011101\n",
            "264 0\n",
            "For key 100001000: Message 000000000000 is not same with 000011110111\n",
            "265 0\n",
            "For key 100001001: Message 000000000000 is not same with 111100010101\n",
            "266 0\n",
            "For key 100001010: Message 000000000000 is not same with 110000000110\n",
            "267 0\n",
            "For key 100001011: Message 000000000000 is not same with 111010111101\n",
            "268 0\n",
            "For key 100001100: Message 000000000000 is not same with 100100001011\n",
            "269 0\n",
            "For key 100001101: Message 000000000000 is not same with 100111100110\n",
            "270 0\n",
            "For key 100001110: Message 000000000000 is not same with 111110101000\n",
            "271 0\n",
            "For key 100001111: Message 000000000000 is not same with 101011000100\n",
            "272 0\n",
            "For key 100010000: Message 000000000000 is not same with 110000000110\n",
            "273 0\n",
            "For key 100010001: Message 000000000000 is not same with 010000101010\n",
            "274 0\n",
            "For key 100010010: Message 000000000000 is not same with 110101111010\n",
            "275 0\n",
            "For key 100010011: Message 000000000000 is not same with 100011101010\n",
            "276 0\n",
            "For key 100010100: Message 000000000000 is not same with 000011110110\n",
            "277 0\n",
            "For key 100010101: Message 000000000000 is not same with 101110010111\n",
            "278 0\n",
            "For key 100010110: Message 000000000000 is not same with 110010100000\n",
            "279 0\n",
            "For key 100010111: Message 000000000000 is not same with 110111001010\n",
            "280 0\n",
            "For key 100011000: Message 000000000000 is not same with 110100010101\n",
            "281 0\n",
            "For key 100011001: Message 000000000000 is not same with 010001001111\n",
            "282 0\n",
            "For key 100011010: Message 000000000000 is not same with 010100100110\n",
            "283 0\n",
            "For key 100011011: Message 000000000000 is not same with 011101000000\n",
            "284 0\n",
            "For key 100011100: Message 000000000000 is not same with 101010100001\n",
            "285 0\n",
            "For key 100011101: Message 000000000000 is not same with 100110010111\n",
            "286 0\n",
            "For key 100011110: Message 000000000000 is not same with 111010000110\n",
            "287 0\n",
            "For key 100011111: Message 000000000000 is not same with 010101010011\n",
            "288 0\n",
            "For key 100100000: Message 000000000000 is not same with 110011010111\n",
            "289 0\n",
            "For key 100100001: Message 000000000000 is not same with 100011100110\n",
            "290 0\n",
            "For key 100100010: Message 000000000000 is not same with 101100110100\n",
            "291 0\n",
            "For key 100100011: Message 000000000000 is not same with 111110110101\n",
            "292 0\n",
            "For key 100100100: Message 000000000000 is not same with 011100110000\n",
            "293 0\n",
            "For key 100100101: Message 000000000000 is not same with 001011110101\n",
            "294 0\n",
            "For key 100100110: Message 000000000000 is not same with 000111010100\n",
            "295 0\n",
            "For key 100100111: Message 000000000000 is not same with 101000111010\n",
            "296 0\n",
            "For key 100101000: Message 000000000000 is not same with 110100100111\n",
            "297 0\n",
            "For key 100101001: Message 000000000000 is not same with 100110100110\n",
            "298 0\n",
            "For key 100101010: Message 000000000000 is not same with 000001110000\n",
            "299 0\n",
            "For key 100101011: Message 000000000000 is not same with 000000000011\n",
            "300 0\n",
            "For key 100101100: Message 000000000000 is not same with 111101000001\n",
            "301 0\n",
            "For key 100101101: Message 000000000000 is not same with 111010100110\n",
            "302 0\n",
            "For key 100101110: Message 000000000000 is not same with 011001110100\n",
            "303 0\n",
            "For key 100101111: Message 000000000000 is not same with 100010001010\n",
            "304 0\n",
            "For key 100110000: Message 000000000000 is not same with 000110111100\n",
            "305 0\n",
            "For key 100110001: Message 000000000000 is not same with 110100110000\n",
            "306 0\n",
            "For key 100110010: Message 000000000000 is not same with 001100100111\n",
            "307 0\n",
            "For key 100110011: Message 000000000000 is not same with 011101011011\n",
            "308 0\n",
            "For key 100110100: Message 000000000000 is not same with 000110100111\n",
            "309 0\n",
            "For key 100110101: Message 000000000000 is not same with 101100001011\n",
            "310 0\n",
            "For key 100110110: Message 000000000000 is not same with 001111010001\n",
            "311 0\n",
            "For key 100110111: Message 000000000000 is not same with 000011100001\n",
            "312 0\n",
            "For key 100111000: Message 000000000000 is not same with 011111001101\n",
            "313 0\n",
            "For key 100111001: Message 000000000000 is not same with 010001011000\n",
            "314 0\n",
            "For key 100111010: Message 000000000000 is not same with 111101100010\n",
            "315 0\n",
            "For key 100111011: Message 000000000000 is not same with 111011101101\n",
            "316 0\n",
            "For key 100111100: Message 000000000000 is not same with 000011001101\n",
            "317 0\n",
            "For key 100111101: Message 000000000000 is not same with 110101000100\n",
            "318 0\n",
            "For key 100111110: Message 000000000000 is not same with 100100010101\n",
            "319 0\n",
            "For key 100111111: Message 000000000000 is not same with 110111110111\n",
            "320 0\n",
            "For key 101000000: Message 000000000000 is not same with 110111100100\n",
            "321 0\n",
            "For key 101000001: Message 000000000000 is not same with 011001001011\n",
            "322 0\n",
            "For key 101000010: Message 000000000000 is not same with 001111010111\n",
            "323 0\n",
            "For key 101000011: Message 000000000000 is not same with 001111001011\n",
            "324 0\n",
            "For key 101000100: Message 000000000000 is not same with 011000011111\n",
            "325 0\n",
            "For key 101000101: Message 000000000000 is not same with 011010001010\n",
            "326 0\n",
            "For key 101000110: Message 000000000000 is not same with 100011100000\n",
            "327 0\n",
            "For key 101000111: Message 000000000000 is not same with 010011100110\n",
            "328 0\n",
            "For key 101001000: Message 000000000000 is not same with 111010111111\n",
            "329 0\n",
            "For key 101001001: Message 000000000000 is not same with 011001001000\n",
            "330 0\n",
            "For key 101001010: Message 000000000000 is not same with 111000010001\n",
            "331 0\n",
            "For key 101001011: Message 000000000000 is not same with 000011111011\n",
            "332 0\n",
            "For key 101001100: Message 000000000000 is not same with 010010000011\n",
            "333 0\n",
            "For key 101001101: Message 000000000000 is not same with 011001010010\n",
            "334 0\n",
            "For key 101001110: Message 000000000000 is not same with 110111110000\n",
            "335 0\n",
            "For key 101001111: Message 000000000000 is not same with 011000110001\n",
            "336 0\n",
            "For key 101010000: Message 000000000000 is not same with 011011010001\n",
            "337 0\n",
            "For key 101010001: Message 000000000000 is not same with 111110000000\n",
            "338 0\n",
            "For key 101010010: Message 000000000000 is not same with 110001011010\n",
            "339 0\n",
            "For key 101010011: Message 000000000000 is not same with 000111100011\n",
            "340 0\n",
            "For key 101010100: Message 000000000000 is not same with 111001100101\n",
            "341 0\n",
            "For key 101010101: Message 000000000000 is not same with 011111100000\n",
            "342 0\n",
            "For key 101010110: Message 000000000000 is not same with 100110101111\n",
            "343 0\n",
            "For key 101010111: Message 000000000000 is not same with 110000100010\n",
            "344 0\n",
            "For key 101011000: Message 000000000000 is not same with 100111101100\n",
            "345 0\n",
            "For key 101011001: Message 000000000000 is not same with 101100101011\n",
            "346 0\n",
            "For key 101011010: Message 000000000000 is not same with 011001111101\n",
            "347 0\n",
            "For key 101011011: Message 000000000000 is not same with 000011100100\n",
            "348 0\n",
            "For key 101011100: Message 000000000000 is not same with 110011101010\n",
            "349 0\n",
            "For key 101011101: Message 000000000000 is not same with 011000110001\n",
            "350 0\n",
            "For key 101011110: Message 000000000000 is not same with 011000011011\n",
            "351 0\n",
            "For key 101011111: Message 000000000000 is not same with 010100101001\n",
            "352 0\n",
            "For key 101100000: Message 000000000000 is not same with 111000111000\n",
            "353 0\n",
            "For key 101100001: Message 000000000000 is not same with 000011110110\n",
            "354 0\n",
            "For key 101100010: Message 000000000000 is not same with 011010000111\n",
            "355 0\n",
            "For key 101100011: Message 000000000000 is not same with 100101100100\n",
            "356 0\n",
            "For key 101100100: Message 000000000000 is not same with 011100110000\n",
            "357 0\n",
            "For key 101100101: Message 000000000000 is not same with 011011000110\n",
            "358 0\n",
            "For key 101100110: Message 000000000000 is not same with 000000011000\n",
            "359 0\n",
            "For key 101100111: Message 000000000000 is not same with 101111110011\n",
            "360 0\n",
            "For key 101101000: Message 000000000000 is not same with 101101110000\n",
            "361 0\n",
            "For key 101101001: Message 000000000000 is not same with 000101011001\n",
            "362 0\n",
            "For key 101101010: Message 000000000000 is not same with 010010000111\n",
            "363 0\n",
            "For key 101101011: Message 000000000000 is not same with 000000010001\n",
            "364 0\n",
            "For key 101101100: Message 000000000000 is not same with 111011011101\n",
            "365 0\n",
            "For key 101101101: Message 000000000000 is not same with 010101010010\n",
            "366 0\n",
            "For key 101101110: Message 000000000000 is not same with 011001000111\n",
            "367 0\n",
            "For key 101101111: Message 000000000000 is not same with 101110100111\n",
            "368 0\n",
            "For key 101110000: Message 000000000000 is not same with 110101010011\n",
            "369 0\n",
            "For key 101110001: Message 000000000000 is not same with 101001111001\n",
            "370 0\n",
            "For key 101110010: Message 000000000000 is not same with 000010101000\n",
            "371 0\n",
            "For key 101110011: Message 000000000000 is not same with 011111111010\n",
            "372 0\n",
            "For key 101110100: Message 000000000000 is not same with 110110001111\n",
            "373 0\n",
            "For key 101110101: Message 000000000000 is not same with 110101001100\n",
            "374 0\n",
            "For key 101110110: Message 000000000000 is not same with 100000001000\n",
            "375 0\n",
            "For key 101110111: Message 000000000000 is not same with 010111110011\n",
            "376 0\n",
            "For key 101111000: Message 000000000000 is not same with 101110010110\n",
            "377 0\n",
            "For key 101111001: Message 000000000000 is not same with 110001001111\n",
            "378 0\n",
            "For key 101111010: Message 000000000000 is not same with 100001101001\n",
            "379 0\n",
            "For key 101111011: Message 000000000000 is not same with 010001110001\n",
            "380 0\n",
            "For key 101111100: Message 000000000000 is not same with 010011101010\n",
            "381 0\n",
            "For key 101111101: Message 000000000000 is not same with 010101001110\n",
            "382 0\n",
            "For key 101111110: Message 000000000000 is not same with 010101001110\n",
            "383 0\n",
            "For key 101111111: Message 000000000000 is not same with 110010110100\n",
            "384 0\n",
            "For key 110000000: Message 000000000000 is not same with 001000111101\n",
            "385 0\n",
            "For key 110000001: Message 000000000000 is not same with 001001100011\n",
            "386 0\n",
            "For key 110000010: Message 000000000000 is not same with 000100111000\n",
            "387 0\n",
            "For key 110000011: Message 000000000000 is not same with 001010001100\n",
            "388 0\n",
            "For key 110000100: Message 000000000000 is not same with 110111111101\n",
            "389 0\n",
            "For key 110000101: Message 000000000000 is not same with 011100100111\n",
            "390 0\n",
            "For key 110000110: Message 000000000000 is not same with 101110000101\n",
            "391 0\n",
            "For key 110000111: Message 000000000000 is not same with 010000101101\n",
            "392 0\n",
            "For key 110001000: Message 000000000000 is not same with 001101001001\n",
            "393 0\n",
            "For key 110001001: Message 000000000000 is not same with 111100000010\n",
            "394 0\n",
            "For key 110001010: Message 000000000000 is not same with 111010100011\n",
            "395 0\n",
            "For key 110001011: Message 000000000000 is not same with 000110010101\n",
            "396 0\n",
            "For key 110001100: Message 000000000000 is not same with 101100000010\n",
            "397 0\n",
            "For key 110001101: Message 000000000000 is not same with 010000111101\n",
            "398 0\n",
            "For key 110001110: Message 000000000000 is not same with 111011100100\n",
            "399 0\n",
            "For key 110001111: Message 000000000000 is not same with 100010001000\n",
            "400 0\n",
            "For key 110010000: Message 000000000000 is not same with 011001100000\n",
            "401 0\n",
            "For key 110010001: Message 000000000000 is not same with 011000000101\n",
            "402 0\n",
            "For key 110010010: Message 000000000000 is not same with 101000101111\n",
            "403 0\n",
            "For key 110010011: Message 000000000000 is not same with 101001000111\n",
            "404 0\n",
            "For key 110010100: Message 000000000000 is not same with 110111100101\n",
            "405 0\n",
            "For key 110010101: Message 000000000000 is not same with 000100100100\n",
            "406 0\n",
            "For key 110010110: Message 000000000000 is not same with 000111110101\n",
            "407 0\n",
            "For key 110010111: Message 000000000000 is not same with 011010000000\n",
            "408 0\n",
            "For key 110011000: Message 000000000000 is not same with 110110110111\n",
            "409 0\n",
            "For key 110011001: Message 000000000000 is not same with 111010011111\n",
            "410 0\n",
            "For key 110011010: Message 000000000000 is not same with 100110011111\n",
            "411 0\n",
            "For key 110011011: Message 000000000000 is not same with 011101010111\n",
            "412 0\n",
            "For key 110011100: Message 000000000000 is not same with 001100110101\n",
            "413 0\n",
            "For key 110011101: Message 000000000000 is not same with 110001110111\n",
            "414 0\n",
            "For key 110011110: Message 000000000000 is not same with 111000110101\n",
            "415 0\n",
            "For key 110011111: Message 000000000000 is not same with 110101111111\n",
            "416 0\n",
            "For key 110100000: Message 000000000000 is not same with 010010111001\n",
            "417 0\n",
            "For key 110100001: Message 000000000000 is not same with 000000001110\n",
            "418 0\n",
            "For key 110100010: Message 000000000000 is not same with 010101111010\n",
            "419 0\n",
            "For key 110100011: Message 000000000000 is not same with 000010100000\n",
            "420 0\n",
            "For key 110100100: Message 000000000000 is not same with 001011001010\n",
            "421 0\n",
            "For key 110100101: Message 000000000000 is not same with 010001001111\n",
            "422 0\n",
            "For key 110100110: Message 000000000000 is not same with 011110001000\n",
            "423 0\n",
            "For key 110100111: Message 000000000000 is not same with 011100111010\n",
            "424 0\n",
            "For key 110101000: Message 000000000000 is not same with 001110111011\n",
            "425 0\n",
            "For key 110101001: Message 000000000000 is not same with 000000100010\n",
            "426 0\n",
            "For key 110101010: Message 000000000000 is not same with 010111110001\n",
            "427 0\n",
            "For key 110101011: Message 000000000000 is not same with 011100100011\n",
            "428 0\n",
            "For key 110101100: Message 000000000000 is not same with 010001010101\n",
            "429 0\n",
            "For key 110101101: Message 000000000000 is not same with 111101010101\n",
            "430 0\n",
            "For key 110101110: Message 000000000000 is not same with 000001101010\n",
            "431 0\n",
            "For key 110101111: Message 000000000000 is not same with 111010110100\n",
            "432 0\n",
            "For key 110110000: Message 000000000000 is not same with 100100100110\n",
            "433 0\n",
            "For key 110110001: Message 000000000000 is not same with 011010001101\n",
            "434 0\n",
            "For key 110110010: Message 000000000000 is not same with 111001111000\n",
            "435 0\n",
            "For key 110110011: Message 000000000000 is not same with 000000111011\n",
            "436 0\n",
            "For key 110110100: Message 000000000000 is not same with 001010111110\n",
            "437 0\n",
            "For key 110110101: Message 000000000000 is not same with 110010110100\n",
            "438 0\n",
            "For key 110110110: Message 000000000000 is not same with 111001100001\n",
            "439 0\n",
            "For key 110110111: Message 000000000000 is not same with 011001101011\n",
            "440 0\n",
            "For key 110111000: Message 000000000000 is not same with 100001111110\n",
            "441 0\n",
            "For key 110111001: Message 000000000000 is not same with 111101110111\n",
            "442 0\n",
            "For key 110111010: Message 000000000000 is not same with 111111111111\n",
            "443 0\n",
            "For key 110111011: Message 000000000000 is not same with 010000111111\n",
            "444 0\n",
            "For key 110111100: Message 000000000000 is not same with 100011111001\n",
            "445 0\n",
            "For key 110111101: Message 000000000000 is not same with 000110110110\n",
            "446 0\n",
            "For key 110111110: Message 000000000000 is not same with 101111101110\n",
            "447 0\n",
            "For key 110111111: Message 000000000000 is not same with 101001101111\n",
            "448 0\n",
            "For key 111000000: Message 000000000000 is not same with 100001110010\n",
            "449 0\n",
            "For key 111000001: Message 000000000000 is not same with 111000010001\n",
            "450 0\n",
            "For key 111000010: Message 000000000000 is not same with 111100100110\n",
            "451 0\n",
            "For key 111000011: Message 000000000000 is not same with 001010111001\n",
            "452 0\n",
            "For key 111000100: Message 000000000000 is not same with 101111101100\n",
            "453 0\n",
            "For key 111000101: Message 000000000000 is not same with 101111111010\n",
            "454 0\n",
            "For key 111000110: Message 000000000000 is not same with 000110010110\n",
            "455 0\n",
            "For key 111000111: Message 000000000000 is not same with 100101100111\n",
            "456 0\n",
            "For key 111001000: Message 000000000000 is not same with 000111011011\n",
            "457 0\n",
            "For key 111001001: Message 000000000000 is not same with 101100101110\n",
            "458 0\n",
            "For key 111001010: Message 000000000000 is not same with 011100011111\n",
            "459 0\n",
            "For key 111001011: Message 000000000000 is not same with 111110011101\n",
            "460 0\n",
            "For key 111001100: Message 000000000000 is not same with 101000110001\n",
            "461 0\n",
            "For key 111001101: Message 000000000000 is not same with 001101110101\n",
            "462 0\n",
            "For key 111001110: Message 000000000000 is not same with 011010011000\n",
            "463 0\n",
            "For key 111001111: Message 000000000000 is not same with 001010010100\n",
            "464 0\n",
            "For key 111010000: Message 000000000000 is not same with 001111110111\n",
            "465 0\n",
            "For key 111010001: Message 000000000000 is not same with 010110011010\n",
            "466 0\n",
            "For key 111010010: Message 000000000000 is not same with 000110110011\n",
            "467 0\n",
            "For key 111010011: Message 000000000000 is not same with 000101100010\n",
            "468 0\n",
            "For key 111010100: Message 000000000000 is not same with 100011011001\n",
            "469 0\n",
            "For key 111010101: Message 000000000000 is not same with 100010011101\n",
            "470 0\n",
            "For key 111010110: Message 000000000000 is not same with 011011011101\n",
            "471 0\n",
            "For key 111010111: Message 000000000000 is not same with 101001110011\n",
            "472 0\n",
            "For key 111011000: Message 000000000000 is not same with 100001011110\n",
            "473 0\n",
            "For key 111011001: Message 000000000000 is not same with 011010101110\n",
            "474 0\n",
            "For key 111011010: Message 000000000000 is not same with 110011000101\n",
            "475 0\n",
            "For key 111011011: Message 000000000000 is not same with 110111000011\n",
            "476 0\n",
            "For key 111011100: Message 000000000000 is not same with 001010100000\n",
            "477 0\n",
            "For key 111011101: Message 000000000000 is not same with 001111010010\n",
            "478 0\n",
            "For key 111011110: Message 000000000000 is not same with 100110110010\n",
            "479 0\n",
            "For key 111011111: Message 000000000000 is not same with 001110100110\n",
            "480 0\n",
            "For key 111100000: Message 000000000000 is not same with 111101010100\n",
            "481 0\n",
            "For key 111100001: Message 000000000000 is not same with 111101001101\n",
            "482 0\n",
            "For key 111100010: Message 000000000000 is not same with 000011110011\n",
            "483 0\n",
            "For key 111100011: Message 000000000000 is not same with 110101101101\n",
            "484 0\n",
            "For key 111100100: Message 000000000000 is not same with 100111001111\n",
            "485 0\n",
            "For key 111100101: Message 000000000000 is not same with 100000001101\n",
            "486 0\n",
            "For key 111100110: Message 000000000000 is not same with 110110111110\n",
            "487 0\n",
            "For key 111100111: Message 000000000000 is not same with 100101010111\n",
            "488 0\n",
            "For key 111101000: Message 000000000000 is not same with 101101000100\n",
            "489 0\n",
            "For key 111101001: Message 000000000000 is not same with 000000110110\n",
            "490 0\n",
            "For key 111101010: Message 000000000000 is not same with 100111011001\n",
            "491 0\n",
            "For key 111101011: Message 000000000000 is not same with 111010010101\n",
            "492 0\n",
            "For key 111101100: Message 000000000000 is not same with 010011101100\n",
            "493 0\n",
            "For key 111101101: Message 000000000000 is not same with 110110111011\n",
            "494 0\n",
            "For key 111101110: Message 000000000000 is not same with 001011101111\n",
            "495 0\n",
            "For key 111101111: Message 000000000000 is not same with 110100111000\n",
            "496 0\n",
            "For key 111110000: Message 000000000000 is not same with 011110110011\n",
            "497 0\n",
            "For key 111110001: Message 000000000000 is not same with 001010011101\n",
            "498 0\n",
            "For key 111110010: Message 000000000000 is not same with 001001100100\n",
            "499 0\n",
            "For key 111110011: Message 000000000000 is not same with 010110000001\n",
            "500 0\n",
            "For key 111110100: Message 000000000000 is not same with 011011111010\n",
            "501 0\n",
            "For key 111110101: Message 000000000000 is not same with 111101011101\n",
            "502 0\n",
            "For key 111110110: Message 000000000000 is not same with 101001001111\n",
            "503 0\n",
            "For key 111110111: Message 000000000000 is not same with 000111111111\n",
            "504 0\n",
            "For key 111111000: Message 000000000000 is not same with 100001101110\n",
            "505 0\n",
            "For key 111111001: Message 000000000000 is not same with 000101110110\n",
            "506 0\n",
            "For key 111111010: Message 000000000000 is not same with 101100000100\n",
            "507 0\n",
            "For key 111111011: Message 000000000000 is not same with 110100010001\n",
            "508 0\n",
            "For key 111111100: Message 000000000000 is not same with 010110110001\n",
            "509 0\n",
            "For key 111111101: Message 000000000000 is not same with 110101001100\n",
            "510 0\n",
            "For key 111111110: Message 000000000000 is not same with 101001010100\n",
            "511 0\n",
            "For key 111111111: Message 000000000000 is not same with 110111011011\n"
          ],
          "name": "stdout"
        }
      ]
    },
    {
      "cell_type": "markdown",
      "metadata": {
        "id": "TgJyEVRViDrQ"
      },
      "source": [
        "## Differential Cryptanalysis\n",
        "\n",
        "암호화키는 모르지만, 원하는(chosen) 평문과 그 암호문을 볼 수 있는 상황을 가정하고, Simplified-DES를 3라운드만 돌린다고 가정한다. "
      ]
    },
    {
      "cell_type": "markdown",
      "metadata": {
        "id": "RWUX_pCoqtjR"
      },
      "source": [
        "### 1 Round\n",
        "메시지(평문)이 $L_1 R_1$이고 사용된 암호화키가 $K_2$라고 할때,\n",
        "$𝑅_2⊕𝐿_1=𝑆𝐵𝑜𝑥(𝐸(𝑅_1 )⊕𝐾_2)$를 이용해서 키를 알아내봅시다.\n",
        "\n",
        "`index()`라는 명령어를 사용하여 list에서 원소의 위치를 알아낼 수 있습니다.\n",
        "예시) `[1,2,3].index(2)`"
      ]
    },
    {
      "cell_type": "code",
      "metadata": {
        "id": "tPa6nlyoqvts"
      },
      "source": [
        "M = '0'*12\n",
        "K = '010011010' # 이 값을 모른다고 가정합니다.\n",
        "C = DES(M, K, 1)\n",
        "# print(C)\n",
        "def DES_Attack_1Rd(M, C):\n",
        "  L1, R1 = M[:6], M[6:]\n",
        "  L2, R2 = C[:6], C[6:]\n",
        "  L = [] # 키의 좌측 후보들\n",
        "  R = [] # 키의 우측 후보들\n",
        "\n",
        "  S1=[['101', '010', '001', '110', '011', '100', '111', '000'], \\\n",
        "      ['001', '100', '110', '010', '000', '111', '101', '011']]\n",
        "  S2=[['100', '000', '110', '101', '111', '001', '011', '010'], \\\n",
        "      ['101', '011', '000', '111', '110', '010', '001', '100']]\n",
        "\n",
        "  v1, v2 = DES_XOR(R2, L1)[:3], DES_XOR(R2, L1)[3:]\n",
        "\n",
        "  for i in range(2): # 길이가 짧아지는 경우에 대해 대비 필요\n",
        "    l1, l2  = format(S1[i].index(v1), 'b'), format(S2[i].index(v2), 'b')\n",
        "    while len(l1)<3:\n",
        "      l1 = '0'+l1\n",
        "    while len(l2)<3:\n",
        "      l2 = '0'+l2\n",
        "  # print(l1, l2)\n",
        "    L.append(DES_XOR(Des_Expander(R1)[:4], format(i, 'b')+l1))\n",
        "    R.append(DES_XOR(Des_Expander(R1)[4:], format(i, 'b')+l2))\n",
        "  print(\"Left: {}, Right: {}\".format(L, R))\n",
        "\n"
      ],
      "execution_count": null,
      "outputs": []
    },
    {
      "cell_type": "code",
      "metadata": {
        "colab": {
          "base_uri": "https://localhost:8080/"
        },
        "id": "H20ryYzbE7ZV",
        "outputId": "5cc2071b-fcb0-4902-ecab-0eae88dc3dfc"
      },
      "source": [
        "M = '0'*12\n",
        "K = '010011010' # 이 값을 모른다고 가정합니다.\n",
        "C = DES(M, K, 1)\n",
        "\n",
        "DES_Attack_1Rd(M, C)\n",
        "\n",
        "M = '1'*12  # 이번에는 다른 메시지(평문)과 암호문을 가지고 K의 가능성을 좁혀봅시다\n",
        "K = '010011010' # 이 값을 모른다고 가정합니다.\n",
        "C = DES(M, K, 1)\n",
        "\n",
        "DES_Attack_1Rd(M, C)"
      ],
      "execution_count": null,
      "outputs": [
        {
          "output_type": "stream",
          "text": [
            "Left: ['0100', '1111'], Right: ['0111', '1101']\n",
            "Left: ['1110', '0100'], Right: ['1101', '0011']\n"
          ],
          "name": "stdout"
        }
      ]
    },
    {
      "cell_type": "markdown",
      "metadata": {
        "id": "zGLExTh6iUTR"
      },
      "source": [
        "## Differential Cryptanalysis–3 Round 공략\n",
        "\n",
        "1. 두 S-Box 입력의 XOR이 $𝐸(𝐿_4')$ 이고 출력의 XOR: $𝑅_4'⊕𝐿_1'$인 경우들 탐색\n",
        "2. $(𝐸(𝐿_4 )⊕𝐾_4,𝐸(𝐿_4^∗ )⊕𝐾_4 )$ 이 위에 해당됨\n",
        "3. $𝐾_4$의 가능한 경우들 파악\n",
        "4. 딱 한가지 경우로 축소되도록 위의 과정 반복\n",
        "\n",
        "\n",
        "\n"
      ]
    },
    {
      "cell_type": "code",
      "metadata": {
        "id": "sq45U9sWZ9ly"
      },
      "source": [
        "def DES_Attack_3Rd(M1, C1, M2, C2):\n",
        "  L11, R11 = M1[:6], M1[6:]\n",
        "  L21, R21 = M2[:6], M2[6:]\n",
        "  DL1 = DES_XOR(L11, L21) # L1, L1*의 XOR\n",
        "  DR1 = DES_XOR(R11, R21) # R1, R1*의 XOR\n",
        "\n",
        "  L14, R14 = C1[:6], C1[6:]\n",
        "  L24, R24 = C2[:6], C2[6:]\n",
        "  DL4 = DES_XOR(L14, L24) # L4, L4*의 XOR\n",
        "  DR4 = DES_XOR(R14, R24) # R4, R4*의 XOR\n",
        "\n",
        "  Input_XOR1, Input_XOR2  = Des_Expander(DL4)[:4], Des_Expander(DL4)[4:]\n",
        "  Output_XOR1, Output_XOR2  = DES_XOR(DR4, DL1)[:3], DES_XOR(DR4, DL1)[3:]\n",
        "\n",
        "  print(\"Candidates for the left of Key:\")\n",
        "  for i in range(2**4):\n",
        "    l = format(i, 'b')\n",
        "    while len(l)<4:\n",
        "      l = '0'+l\n",
        "    if DES_XOR(DES_S1(l), DES_S1(DES_XOR(l, Input_XOR1))) == Output_XOR1:\n",
        "      print(DES_XOR(l, Des_Expander(L14)[:4]))\n",
        "\n",
        "  print(\"Candidates for the right of Key:\")\n",
        "  for i in range(2**4):\n",
        "    l = format(i, 'b')\n",
        "    while len(l)<4:\n",
        "      l = '0'+l\n",
        "    if DES_XOR(DES_S2(l), DES_S2(DES_XOR(l, Input_XOR2))) == Output_XOR2:\n",
        "      print(DES_XOR(l, Des_Expander(L14)[4:]))"
      ],
      "execution_count": null,
      "outputs": []
    },
    {
      "cell_type": "code",
      "metadata": {
        "colab": {
          "base_uri": "https://localhost:8080/"
        },
        "id": "AqngbOuTfkOB",
        "outputId": "4a1aa289-2826-41db-dd27-cc5d83e1e39c"
      },
      "source": [
        "M1 = '000111011011'\n",
        "M2 = '101110011011'\n",
        "K = '010011010' # 교재에서는 2라운드부터 시작하므로 미리 키를 1칸 shift해줍니다\n",
        "\n",
        "C1 = DES(M1, K, 3)\n",
        "C2 = DES(M2, K, 3)\n",
        "\n",
        "# print(C1, C2)\n",
        "\n",
        "DES_Attack_3Rd(M1, C1, M2, C2)\n",
        "\n",
        "M3 = '010111011011'\n",
        "C3 = DES(M3, K, 3)\n",
        "DES_Attack_3Rd(M3, C3, M2, C2)"
      ],
      "execution_count": null,
      "outputs": [
        {
          "output_type": "stream",
          "text": [
            "Candidates for the left of Key:\n",
            "0011\n",
            "1001\n",
            "Candidates for the right of Key:\n",
            "0100\n",
            "1111\n",
            "Candidates for the left of Key:\n",
            "0011\n",
            "1000\n",
            "Candidates for the right of Key:\n",
            "0100\n",
            "1011\n"
          ],
          "name": "stdout"
        }
      ]
    },
    {
      "cell_type": "markdown",
      "metadata": {
        "id": "6DRIUUodig4V"
      },
      "source": [
        "이제 딱 한자리를 모르므로, '0', '1' 둘 다 가정해서, 주어진 평문으로부터 원하는 암호문이 나오는 경우를 찾아봅니다."
      ]
    },
    {
      "cell_type": "code",
      "metadata": {
        "colab": {
          "base_uri": "https://localhost:8080/"
        },
        "id": "dGe4pYD-isFA",
        "outputId": "5875fb76-17a8-405a-e732-05253e4240db"
      },
      "source": [
        "K4 = '0011'+'0100'\n",
        "\n",
        "K = K4+'0' # 빈 한자리를 0이라고 가정\n",
        "print(C1, DES(M1, K[7:]+K[:7], 3)) # K2부터 시작한 것에 주의\n",
        "\n",
        "K = K4+'1' # 빈 한자리를 1이라고 가정\n",
        "print(C1, DES(M1, K[7:]+K[:7], 3))"
      ],
      "execution_count": null,
      "outputs": [
        {
          "output_type": "stream",
          "text": [
            "000011100101 001011101010\n",
            "000011100101 000011100101\n"
          ],
          "name": "stdout"
        }
      ]
    },
    {
      "cell_type": "markdown",
      "metadata": {
        "id": "5nSpQ2vOvE18"
      },
      "source": [
        "두번째 경우에 암호문이 일치하므로 `K[7:]+K[:7]`이 구하는 암호화키입니다."
      ]
    },
    {
      "cell_type": "code",
      "metadata": {
        "colab": {
          "base_uri": "https://localhost:8080/",
          "height": 35
        },
        "id": "CnNcbgnsjgav",
        "outputId": "b88ca299-703b-4171-eb22-c8b8669e651f"
      },
      "source": [
        "K[7:]+K[:7]"
      ],
      "execution_count": null,
      "outputs": [
        {
          "output_type": "execute_result",
          "data": {
            "application/vnd.google.colaboratory.intrinsic+json": {
              "type": "string"
            },
            "text/plain": [
              "'010011010'"
            ]
          },
          "metadata": {
            "tags": []
          },
          "execution_count": 31
        }
      ]
    },
    {
      "cell_type": "code",
      "metadata": {
        "id": "uAJCVgILu_W4"
      },
      "source": [
        ""
      ],
      "execution_count": null,
      "outputs": []
    },
    {
      "cell_type": "markdown",
      "metadata": {
        "id": "n8cPRQRYw4Jj"
      },
      "source": [
        "## 실습문제 \n",
        "CBC mode를 구현하고 14번째 자리만 48비트의 두 평문의 암호문을 비교해보아라.\n",
        " - 긴 메시지(평문): $P=[P_1, P_2, ..., P_L]$\n",
        " - 암호문: $C=[C_1, C_2, ..., C_L]$\n",
        " - $𝐶_𝑗=𝐸_𝐾 (𝑃_𝑗⊕𝐶_{𝑗−1} )$\n",
        " - $𝑃_𝑗=𝐷_𝐾 (𝐶_𝑗 )⊕𝐶_{𝑗−1}$"
      ]
    },
    {
      "cell_type": "code",
      "metadata": {
        "colab": {
          "base_uri": "https://localhost:8080/"
        },
        "id": "1cHPxNNvxGCF",
        "outputId": "62b38ac9-d007-40af-941d-8e9b7271b630"
      },
      "source": [
        "import random\n",
        "\n",
        "P='' # 샘플 메시지와 암호화키를 random함수를 이용해서 만들어봅시다.\n",
        "for i in range(48):\n",
        "  if random.random()<0.5:\n",
        "    P = P+'0'\n",
        "  else:\n",
        "    P = P+'1'\n",
        "print(P)\n",
        "\n",
        "K = ''\n",
        "for i in range(9):\n",
        "  if random.random()<0.5:\n",
        "    K = K+'0'\n",
        "  else:\n",
        "    K = K+'1'\n",
        "print(K)  "
      ],
      "execution_count": null,
      "outputs": [
        {
          "output_type": "stream",
          "text": [
            "101010110111000101001001100010100011101000101011\n",
            "100101110\n"
          ],
          "name": "stdout"
        }
      ]
    },
    {
      "cell_type": "code",
      "metadata": {
        "colab": {
          "base_uri": "https://localhost:8080/"
        },
        "id": "r-CWrz0zyCaa",
        "outputId": "a98c14c0-dea6-4f36-dec3-06ca06b1ad74"
      },
      "source": [
        "C0 = '101010101010'\n",
        "C=''\n",
        "for i in range(len(P)//12):\n",
        "  C0 = DES(DES_XOR(P[12*i:12*(i+1)], C0), K, 4)\n",
        "  C = C+C0\n",
        "\n",
        "print(C)\n"
      ],
      "execution_count": null,
      "outputs": [
        {
          "output_type": "stream",
          "text": [
            "010100110011110101101000000000011000110110000111\n"
          ],
          "name": "stdout"
        }
      ]
    },
    {
      "cell_type": "code",
      "metadata": {
        "id": "SdVyYJS00fV6",
        "colab": {
          "base_uri": "https://localhost:8080/"
        },
        "outputId": "3f60172c-1e26-492a-ca69-7882cee9077a"
      },
      "source": [
        "C0 = '101010101010'\n",
        "C=''\n",
        "P = DES_XOR(P, '1'+'0'*13)\n",
        "\n",
        "for i in range(len(P)//12):\n",
        "  C0 = DES(DES_XOR(P[12*i:12*(i+1)], C0), K, 4)\n",
        "  C = C+C0\n",
        "\n",
        "print(C)"
      ],
      "execution_count": null,
      "outputs": [
        {
          "output_type": "stream",
          "text": [
            "010100110011110101101000100100011000010001111111\n"
          ],
          "name": "stdout"
        }
      ]
    }
  ]
}