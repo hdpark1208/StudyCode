{
  "nbformat": 4,
  "nbformat_minor": 0,
  "metadata": {
    "colab": {
      "name": "10)교차검증과 그리드서치.ipynb",
      "provenance": [],
      "collapsed_sections": [],
      "authorship_tag": "ABX9TyMBjXKiNUaaUZw57Wm1vX2I",
      "include_colab_link": true
    },
    "kernelspec": {
      "name": "python3",
      "display_name": "Python 3"
    },
    "language_info": {
      "name": "python"
    }
  },
  "cells": [
    {
      "cell_type": "markdown",
      "metadata": {
        "id": "view-in-github",
        "colab_type": "text"
      },
      "source": [
        "<a href=\"https://colab.research.google.com/github/hdpark1208/StudyCode/blob/main/10)%EA%B5%90%EC%B0%A8%EA%B2%80%EC%A6%9D%EA%B3%BC_%EA%B7%B8%EB%A6%AC%EB%93%9C%EC%84%9C%EC%B9%98.ipynb\" target=\"_parent\"><img src=\"https://colab.research.google.com/assets/colab-badge.svg\" alt=\"Open In Colab\"/></a>"
      ]
    },
    {
      "cell_type": "markdown",
      "metadata": {
        "id": "UjOspeZmzuYX"
      },
      "source": [
        "# ***5-2 교차검증과 그리드 서치***"
      ]
    },
    {
      "cell_type": "markdown",
      "metadata": {
        "id": "oNFQHpSc0GZ9"
      },
      "source": [
        "# **줄거리**"
      ]
    },
    {
      "cell_type": "markdown",
      "metadata": {
        "id": "ZzXDQiA-_5c-"
      },
      "source": [
        "1.  검증(validation) 세트의 필요성을 이해하고 만들어본다  \n",
        "(train_test_split을 두 번 실행)\n",
        "\n",
        "2.  교차검증(cross validation)을 알아보고 cross_validate 를 이용한다  \n",
        "\n",
        "3.  cross_validate 에서 분할기(splitter)의 필요성을 알고 이용한다  \n",
        "\n",
        "4.  결정트리의 매개변수 값을 바꿔주며 가장 좋은 성능을 찾아보자 ~ 하이퍼파라미터(사용자 지정 파라미터) 튜닝  \n",
        "\n",
        "5.  교차검증과 하이퍼파라미터 탐색을 한 번에 수행하는 그리드 서치를 배워본다  \n",
        "\n",
        "6.  GridSearchCV클래스의 다양한 메서드를 알아본다\n",
        "\n",
        "7.  params의 특성 수를 추가한 후 최상의 매개변수 조합을 확인해본다  \n",
        "\n",
        "8.  (수동으로 매개변수를 바꾸는 대신)매개변수의 범위,간격을 담당하는 랜덤 서치를 알아본다  \n",
        "\n",
        "9.  싸이파이(scipy) 라이브러리를 통해 확률 분포 객체를 이용한다  "
      ]
    },
    {
      "cell_type": "markdown",
      "metadata": {
        "id": "fbhPV6gl0PJH"
      },
      "source": [
        "#Note"
      ]
    },
    {
      "cell_type": "markdown",
      "metadata": {
        "id": "oWas4BgjGrNs"
      },
      "source": [
        "*  교차검증의 최종 점수는 test_score 키에 담긴 5개의 점수(검증 폴드의 점수임)를 평균하여 얻는다  \n",
        "*  cross_validate()는 훈련 세트를 섞어 폴드를 나누지않는다(앞에서 했던 train_test_split기능. 즉 주의하지않는다면 샘플링편향이 발생할 수 있음)  \n",
        "*  랜덤 서치는 그리드 서치보다 훨씬 교차 검증 수를 줄이면서 넓은 영역을 효과적으로 탐색할 수 있다  \n"
      ]
    },
    {
      "cell_type": "markdown",
      "metadata": {
        "id": "edi2f-Ek0WZH"
      },
      "source": [
        "#**코드**\n"
      ]
    },
    {
      "cell_type": "code",
      "metadata": {
        "id": "oDQuTOzy9Bg1"
      },
      "source": [
        "import pandas as pd\n",
        "wine = pd.read_csv('https://bit.ly/wine_csv_data')"
      ],
      "execution_count": null,
      "outputs": []
    },
    {
      "cell_type": "code",
      "metadata": {
        "id": "UEbGgK2_-bqi"
      },
      "source": [
        "data = wine[['alcohol','sugar','pH']].to_numpy()\n",
        "target = wine['class'].to_numpy()"
      ],
      "execution_count": null,
      "outputs": []
    },
    {
      "cell_type": "code",
      "metadata": {
        "id": "mwjsrT10-q2e"
      },
      "source": [
        "from sklearn.model_selection import train_test_split\n",
        "train_input, test_input, train_target,test_target = train_test_split(data,target,test_size=0.2,random_state=42)"
      ],
      "execution_count": null,
      "outputs": []
    },
    {
      "cell_type": "code",
      "metadata": {
        "colab": {
          "base_uri": "https://localhost:8080/"
        },
        "id": "_jIijjHL_Hkm",
        "outputId": "4d7131f7-c841-481d-99d0-5fc2d024778f"
      },
      "source": [
        "sub_input,val_input,sub_target,val_target = train_test_split(train_input,train_target,test_size=0.2,random_state=42)\n",
        "\n",
        "print(data.shape, target.shape)\n",
        "print(train_input.shape, test_input.shape)\n",
        "print(sub_input.shape, val_input.shape)"
      ],
      "execution_count": null,
      "outputs": [
        {
          "output_type": "stream",
          "text": [
            "(6497, 3) (6497,)\n",
            "(5197, 3) (1300, 3)\n",
            "(4157, 3) (1040, 3)\n"
          ],
          "name": "stdout"
        }
      ]
    },
    {
      "cell_type": "code",
      "metadata": {
        "colab": {
          "base_uri": "https://localhost:8080/"
        },
        "id": "rt_uKKyy_kwA",
        "outputId": "7caa9922-7804-4772-d64a-57eb2299e310"
      },
      "source": [
        "from sklearn.tree import DecisionTreeClassifier\n",
        "dt = DecisionTreeClassifier(random_state= 42)\n",
        "dt.fit(sub_input,sub_target)\n",
        "print(dt.score(sub_input,sub_target))\n",
        "print(dt.score(val_input,val_target))\n"
      ],
      "execution_count": null,
      "outputs": [
        {
          "output_type": "stream",
          "text": [
            "0.9971133028626413\n",
            "0.864423076923077\n"
          ],
          "name": "stdout"
        }
      ]
    },
    {
      "cell_type": "code",
      "metadata": {
        "colab": {
          "base_uri": "https://localhost:8080/"
        },
        "id": "zjrSPgEaBuyt",
        "outputId": "75a89e48-30ac-4cc5-ed4c-f048281f22bc"
      },
      "source": [
        "from sklearn.model_selection import cross_validate\n",
        "scores = cross_validate(dt,train_input,train_target)\n",
        "print(scores)"
      ],
      "execution_count": null,
      "outputs": [
        {
          "output_type": "stream",
          "text": [
            "{'fit_time': array([0.00972557, 0.00713897, 0.00749874, 0.00737095, 0.00709176]), 'score_time': array([0.00086689, 0.00091505, 0.00073457, 0.00071049, 0.00067854]), 'test_score': array([0.86923077, 0.84615385, 0.87680462, 0.84889317, 0.83541867])}\n"
          ],
          "name": "stdout"
        }
      ]
    },
    {
      "cell_type": "code",
      "metadata": {
        "colab": {
          "base_uri": "https://localhost:8080/"
        },
        "id": "xu0jjQwzJ6vR",
        "outputId": "bc1384aa-6c3f-494e-8308-1562775ea932"
      },
      "source": [
        "import numpy as np\n",
        "print(np.mean(scores['test_score']))"
      ],
      "execution_count": null,
      "outputs": [
        {
          "output_type": "stream",
          "text": [
            "0.855300214703487\n"
          ],
          "name": "stdout"
        }
      ]
    },
    {
      "cell_type": "code",
      "metadata": {
        "colab": {
          "base_uri": "https://localhost:8080/"
        },
        "id": "T7u9jQR3KW7w",
        "outputId": "20984831-efed-4a29-e712-85d2ac979601"
      },
      "source": [
        "from sklearn.model_selection import StratifiedKFold\n",
        "scores = cross_validate(dt, train_input,train_target,cv=StratifiedKFold())    #분류 모델일 경우 타켓 클래스를 골고루 나누기위해 StratifiedKFold 이용. 회귀 모델일 경우 KFold 분할기\n",
        "print(np.mean(scores['test_score']))"
      ],
      "execution_count": null,
      "outputs": [
        {
          "output_type": "stream",
          "text": [
            "0.855300214703487\n"
          ],
          "name": "stdout"
        }
      ]
    },
    {
      "cell_type": "code",
      "metadata": {
        "colab": {
          "base_uri": "https://localhost:8080/"
        },
        "id": "7UEFIpQ6LvrQ",
        "outputId": "b289704a-e058-480b-b6a3-6573d8e7fe13"
      },
      "source": [
        "splitter = StratifiedKFold(n_splits=10, shuffle=True,random_state=42)    #n_splits=k : 몇(k) 폴드 교차 검증 할지\n",
        "scores= cross_validate(dt,train_input,train_target,cv=splitter)\n",
        "print(np.mean(scores['test_score']))\n"
      ],
      "execution_count": null,
      "outputs": [
        {
          "output_type": "stream",
          "text": [
            "0.8574181117533719\n"
          ],
          "name": "stdout"
        }
      ]
    },
    {
      "cell_type": "code",
      "metadata": {
        "id": "zIgyH6GBMS3h"
      },
      "source": [
        "from sklearn.model_selection import GridSearchCV\n",
        "params = {'min_impurity_decrease':[0.0001,0.0002,0.0003,0.0004,0.0005]}    #탐색할 매개변수와 탐색할 값의 리스트를 딕셔터리로 만든다"
      ],
      "execution_count": null,
      "outputs": []
    },
    {
      "cell_type": "code",
      "metadata": {
        "id": "ZIazjjanRexG"
      },
      "source": [
        "gs = GridSearchCV(DecisionTreeClassifier(random_state=42),params,n_jobs=-1)    #탐색 대상 모델과 params 변수를 전달하여 그리드 서치 객체를 만든다"
      ],
      "execution_count": null,
      "outputs": []
    },
    {
      "cell_type": "code",
      "metadata": {
        "colab": {
          "base_uri": "https://localhost:8080/"
        },
        "id": "kgTOIRcWRx_B",
        "outputId": "a3b4d597-a512-4003-d310-2eadfc464bb6"
      },
      "source": [
        "gs.fit(train_input,train_target)    #검증 점수가 가장 높은 모델의 매개변수 조합으로 전체 훈련 세트에서 자동으로 다시 모델을 훈련한다"
      ],
      "execution_count": null,
      "outputs": [
        {
          "output_type": "execute_result",
          "data": {
            "text/plain": [
              "GridSearchCV(cv=None, error_score=nan,\n",
              "             estimator=DecisionTreeClassifier(ccp_alpha=0.0, class_weight=None,\n",
              "                                              criterion='gini', max_depth=None,\n",
              "                                              max_features=None,\n",
              "                                              max_leaf_nodes=None,\n",
              "                                              min_impurity_decrease=0.0,\n",
              "                                              min_impurity_split=None,\n",
              "                                              min_samples_leaf=1,\n",
              "                                              min_samples_split=2,\n",
              "                                              min_weight_fraction_leaf=0.0,\n",
              "                                              presort='deprecated',\n",
              "                                              random_state=42,\n",
              "                                              splitter='best'),\n",
              "             iid='deprecated', n_jobs=-1,\n",
              "             param_grid={'min_impurity_decrease': [0.0001, 0.0002, 0.0003,\n",
              "                                                   0.0004, 0.0005]},\n",
              "             pre_dispatch='2*n_jobs', refit=True, return_train_score=False,\n",
              "             scoring=None, verbose=0)"
            ]
          },
          "metadata": {
            "tags": []
          },
          "execution_count": 18
        }
      ]
    },
    {
      "cell_type": "code",
      "metadata": {
        "colab": {
          "base_uri": "https://localhost:8080/"
        },
        "id": "AHlJEwkySbbP",
        "outputId": "6609a774-70a5-4e56-b37f-b2c8f1f61a36"
      },
      "source": [
        "dt = gs.best_estimator_    \n",
        "print(dt.score(train_input, train_target))"
      ],
      "execution_count": null,
      "outputs": [
        {
          "output_type": "stream",
          "text": [
            "0.9615162593804117\n"
          ],
          "name": "stdout"
        }
      ]
    },
    {
      "cell_type": "code",
      "metadata": {
        "colab": {
          "base_uri": "https://localhost:8080/"
        },
        "id": "sXpo0O2ySoYi",
        "outputId": "20d3b5fb-0560-4a9d-a3df-d857717e9ce1"
      },
      "source": [
        "print(gs.best_params_)    #최적의 매개변수\n",
        "print(gs.cv_results_['mean_test_score'])    #각 매개변수에서 수행한 교차 검증의 평균 점수"
      ],
      "execution_count": null,
      "outputs": [
        {
          "output_type": "stream",
          "text": [
            "{'min_impurity_decrease': 0.0001}\n",
            "[0.86819297 0.86453617 0.86492226 0.86780891 0.86761605]\n"
          ],
          "name": "stdout"
        }
      ]
    },
    {
      "cell_type": "code",
      "metadata": {
        "colab": {
          "base_uri": "https://localhost:8080/"
        },
        "id": "AsmoygCrStg8",
        "outputId": "dafb95e6-e7b9-4777-953b-d9d99ce01018"
      },
      "source": [
        "best_index = np.argmax(gs.cv_results_['mean_test_score'])    #np.argmax : 가장 큰 값의 인덱스 추출\n",
        "print(gs.cv_results_['params'][best_index])"
      ],
      "execution_count": null,
      "outputs": [
        {
          "output_type": "stream",
          "text": [
            "{'min_impurity_decrease': 0.0001}\n"
          ],
          "name": "stdout"
        }
      ]
    },
    {
      "cell_type": "code",
      "metadata": {
        "id": "_jsbK3CtTWah"
      },
      "source": [
        "params = {'min_impurity_decrease':np.arange(0.0001,0.001,0.0001),\n",
        "          'max_depth':range(5,20,1),    #range 는 정수만 취급\n",
        "          'min_samples_split':range(2,100,10)}"
      ],
      "execution_count": null,
      "outputs": []
    },
    {
      "cell_type": "code",
      "metadata": {
        "colab": {
          "base_uri": "https://localhost:8080/"
        },
        "id": "7JaIx8xTVB2v",
        "outputId": "73f2c860-52ca-4cfe-edd9-e1c25e66c1ee"
      },
      "source": [
        "gs = GridSearchCV(DecisionTreeClassifier(random_state=42),params,n_jobs=-1)    #n_jobs : 매개변수에서 병렬 실행에 사용할 cpu 코어 수 (-1 : 모든 코어)\n",
        "gs.fit(train_input,train_target)"
      ],
      "execution_count": null,
      "outputs": [
        {
          "output_type": "execute_result",
          "data": {
            "text/plain": [
              "GridSearchCV(cv=None, error_score=nan,\n",
              "             estimator=DecisionTreeClassifier(ccp_alpha=0.0, class_weight=None,\n",
              "                                              criterion='gini', max_depth=None,\n",
              "                                              max_features=None,\n",
              "                                              max_leaf_nodes=None,\n",
              "                                              min_impurity_decrease=0.0,\n",
              "                                              min_impurity_split=None,\n",
              "                                              min_samples_leaf=1,\n",
              "                                              min_samples_split=2,\n",
              "                                              min_weight_fraction_leaf=0.0,\n",
              "                                              presort='deprecated',\n",
              "                                              random_state=42,\n",
              "                                              splitter='best'),\n",
              "             iid='deprecated', n_jobs=-1,\n",
              "             param_grid={'max_depth': range(5, 20),\n",
              "                         'min_impurity_decrease': array([0.0001, 0.0002, 0.0003, 0.0004, 0.0005, 0.0006, 0.0007, 0.0008,\n",
              "       0.0009]),\n",
              "                         'min_samples_split': range(2, 100, 10)},\n",
              "             pre_dispatch='2*n_jobs', refit=True, return_train_score=False,\n",
              "             scoring=None, verbose=0)"
            ]
          },
          "metadata": {
            "tags": []
          },
          "execution_count": 28
        }
      ]
    },
    {
      "cell_type": "code",
      "metadata": {
        "colab": {
          "base_uri": "https://localhost:8080/"
        },
        "id": "koWBMRcvUvYB",
        "outputId": "95bdb68c-2c54-4c53-c9f8-59dc6217c3e5"
      },
      "source": [
        "print(gs.best_params_)\n",
        "print(np.max(gs.cv_results_['mean_test_score']))"
      ],
      "execution_count": null,
      "outputs": [
        {
          "output_type": "stream",
          "text": [
            "{'max_depth': 14, 'min_impurity_decrease': 0.0004, 'min_samples_split': 12}\n",
            "0.8683865773302731\n"
          ],
          "name": "stdout"
        }
      ]
    },
    {
      "cell_type": "code",
      "metadata": {
        "id": "DmA-EE0sU8Bu"
      },
      "source": [
        "from scipy.stats import uniform, randint"
      ],
      "execution_count": null,
      "outputs": []
    },
    {
      "cell_type": "code",
      "metadata": {
        "colab": {
          "base_uri": "https://localhost:8080/"
        },
        "id": "xzK0oObeWQ_w",
        "outputId": "887507b5-164d-4593-b8fc-70e6b1a524c8"
      },
      "source": [
        "rgen = randint(0,10)\n",
        "rgen.rvs(5)"
      ],
      "execution_count": null,
      "outputs": [
        {
          "output_type": "execute_result",
          "data": {
            "text/plain": [
              "array([9, 8, 4, 8, 7])"
            ]
          },
          "metadata": {
            "tags": []
          },
          "execution_count": 33
        }
      ]
    },
    {
      "cell_type": "code",
      "metadata": {
        "colab": {
          "base_uri": "https://localhost:8080/"
        },
        "id": "Yd_E3OoPWdok",
        "outputId": "24dd15c5-b6e7-4d6a-9b3a-63c1637021b6"
      },
      "source": [
        "np.unique(rgen.rvs(1000),return_counts=True)"
      ],
      "execution_count": null,
      "outputs": [
        {
          "output_type": "execute_result",
          "data": {
            "text/plain": [
              "(array([0, 1, 2, 3, 4, 5, 6, 7, 8, 9]),\n",
              " array([110, 101,  93, 109,  99, 105,  77, 100, 108,  98]))"
            ]
          },
          "metadata": {
            "tags": []
          },
          "execution_count": 34
        }
      ]
    },
    {
      "cell_type": "code",
      "metadata": {
        "colab": {
          "base_uri": "https://localhost:8080/"
        },
        "id": "O48uxhosWtf4",
        "outputId": "89f86d5c-d895-4084-9f66-cfceb6920cfb"
      },
      "source": [
        "ugen = uniform(0,1)\n",
        "ugen.rvs(5)"
      ],
      "execution_count": null,
      "outputs": [
        {
          "output_type": "execute_result",
          "data": {
            "text/plain": [
              "array([0.08716302, 0.06818149, 0.89228799, 0.42689288, 0.52371536])"
            ]
          },
          "metadata": {
            "tags": []
          },
          "execution_count": 35
        }
      ]
    },
    {
      "cell_type": "code",
      "metadata": {
        "id": "n-QYShGnW6Xf"
      },
      "source": [
        "params = {'min_impurity_decrease' : uniform(0.0001,0.001),\n",
        "          'max_depth':randint(20,50),\n",
        "          'min_samples_split':randint(2,25),\n",
        "          'min_samples_leaf':randint(1,25)}"
      ],
      "execution_count": null,
      "outputs": []
    },
    {
      "cell_type": "code",
      "metadata": {
        "colab": {
          "base_uri": "https://localhost:8080/"
        },
        "id": "6VsiBz2tXb3J",
        "outputId": "c922bfd2-eed0-4bc8-d0bf-638c1360ea6b"
      },
      "source": [
        "from sklearn.model_selection import RandomizedSearchCV\n",
        "gs = RandomizedSearchCV(DecisionTreeClassifier(random_state=42),params,\n",
        "                        n_iter=100,n_jobs=-1,random_state=42)\n",
        "gs.fit(train_input,train_target)"
      ],
      "execution_count": null,
      "outputs": [
        {
          "output_type": "execute_result",
          "data": {
            "text/plain": [
              "RandomizedSearchCV(cv=None, error_score=nan,\n",
              "                   estimator=DecisionTreeClassifier(ccp_alpha=0.0,\n",
              "                                                    class_weight=None,\n",
              "                                                    criterion='gini',\n",
              "                                                    max_depth=None,\n",
              "                                                    max_features=None,\n",
              "                                                    max_leaf_nodes=None,\n",
              "                                                    min_impurity_decrease=0.0,\n",
              "                                                    min_impurity_split=None,\n",
              "                                                    min_samples_leaf=1,\n",
              "                                                    min_samples_split=2,\n",
              "                                                    min_weight_fraction_leaf=0.0,\n",
              "                                                    presort='deprecated',\n",
              "                                                    random_state=42,\n",
              "                                                    splitter='best'),...\n",
              "                                        'min_impurity_decrease': <scipy.stats._distn_infrastructure.rv_frozen object at 0x7fdf32f06d50>,\n",
              "                                        'min_samples_leaf': <scipy.stats._distn_infrastructure.rv_frozen object at 0x7fdf332c4950>,\n",
              "                                        'min_samples_split': <scipy.stats._distn_infrastructure.rv_frozen object at 0x7fdf32f41f10>},\n",
              "                   pre_dispatch='2*n_jobs', random_state=42, refit=True,\n",
              "                   return_train_score=False, scoring=None, verbose=0)"
            ]
          },
          "metadata": {
            "tags": []
          },
          "execution_count": 43
        }
      ]
    },
    {
      "cell_type": "code",
      "metadata": {
        "colab": {
          "base_uri": "https://localhost:8080/"
        },
        "id": "dyO4yfLNX3PO",
        "outputId": "65af7dfd-8f43-41ff-b919-e6d1ccf12d13"
      },
      "source": [
        "print(gs.best_params_)\n",
        "print(np.max(gs.cv_results_['mean_test_score']))"
      ],
      "execution_count": null,
      "outputs": [
        {
          "output_type": "stream",
          "text": [
            "{'max_depth': 39, 'min_impurity_decrease': 0.00034102546602601173, 'min_samples_leaf': 7, 'min_samples_split': 13}\n",
            "0.8695428296438884\n"
          ],
          "name": "stdout"
        }
      ]
    },
    {
      "cell_type": "code",
      "metadata": {
        "colab": {
          "base_uri": "https://localhost:8080/"
        },
        "id": "nFLOvnUsYKpj",
        "outputId": "7965f6dc-ad5d-4a38-d549-cdb1bcac0603"
      },
      "source": [
        "dt=gs.best_estimator_\n",
        "print(dt.score(test_input,test_target))"
      ],
      "execution_count": null,
      "outputs": [
        {
          "output_type": "stream",
          "text": [
            "0.86\n"
          ],
          "name": "stdout"
        }
      ]
    },
    {
      "cell_type": "code",
      "metadata": {
        "id": "opXP6EsoYd5h"
      },
      "source": [
        ""
      ],
      "execution_count": null,
      "outputs": []
    }
  ]
}