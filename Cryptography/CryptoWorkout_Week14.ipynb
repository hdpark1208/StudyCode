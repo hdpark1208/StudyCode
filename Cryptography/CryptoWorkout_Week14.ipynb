{
  "nbformat": 4,
  "nbformat_minor": 0,
  "metadata": {
    "colab": {
      "name": "CryptoWorkout_Week14.ipynb",
      "provenance": [],
      "collapsed_sections": [],
      "include_colab_link": true
    },
    "kernelspec": {
      "name": "python3",
      "display_name": "Python 3"
    },
    "language_info": {
      "name": "python"
    }
  },
  "cells": [
    {
      "cell_type": "markdown",
      "metadata": {
        "id": "view-in-github",
        "colab_type": "text"
      },
      "source": [
        "<a href=\"https://colab.research.google.com/github/hdpark1208/StudyCode/blob/main/Cryptography/CryptoWorkout_Week14.ipynb\" target=\"_parent\"><img src=\"https://colab.research.google.com/assets/colab-badge.svg\" alt=\"Open In Colab\"/></a>"
      ]
    },
    {
      "cell_type": "markdown",
      "metadata": {
        "id": "D4M1Knnc1tnI"
      },
      "source": [
        "# 전자서명\n",
        "\n",
        "## 실습문제 1\n",
        "Allice와 Bob의 RSA 변수들은 다음과 같다.\n",
        "$$n_A = 171024704183616109700818066925197841516671277$$\n",
        "$$n_B = 839073542734369359260871355939062622747633109$$\n",
        "$$e_A = 1571, e_B = 87697$$\n",
        "\n",
        "Bob은 $n_B$가 다음 두 소수의 곱인 것을 알고 있다.\n",
        "$$p_B = 98763457697834568934613, q_B= 8495789457893457345793$$\n",
        "\n",
        "Alice가 문서에 서명해서 문서와 서명 $(m, s)$를 Bob에게 보낸다. ($s\\equiv m^{d_A} \\pmod{ n_A}$)\n",
        "보낼때, 문서의 내용을 (Bod 이외의 사람들에게는) 비밀로 하기 위해 밥의 공개키를 이용해서 암호화 한다. \n",
        "\n",
        "Bod은 다음과 같이 암호화된 서명과 문서의 쌍 $(m_1, s_1) \\equiv (m^{e_B}, s^{e_B}) \\pmod{n_B}$를 받았다.\n",
        "\n",
        "`m1 = 418726553997094258577980055061305150940547956`\n",
        "`s1 = 749142649641548101520133634736865752883277237`\n",
        "\n",
        "**1. 메시지 $m$을 알아내고** 이것이 **2. Alice로부터 왔다는 것을 확인**하여라.\n"
      ]
    },
    {
      "cell_type": "code",
      "metadata": {
        "id": "XPVq2dmrrkUo"
      },
      "source": [
        "n_A = 171024704183616109700818066925197841516671277\n",
        "n_B = 839073542734369359260871355939062622747633109\n",
        "e_A = 1571\n",
        "e_B = 87697\n",
        "p_B = 98763457697834568934613\n",
        "q_B= 8495789457893457345793\n",
        "m1 = 418726553997094258577980055061305150940547956\n",
        "s1 = 749142649641548101520133634736865752883277237"
      ],
      "execution_count": null,
      "outputs": []
    },
    {
      "cell_type": "code",
      "metadata": {
        "colab": {
          "base_uri": "https://localhost:8080/"
        },
        "id": "0YPwNsY_sn2U",
        "outputId": "29b57a69-7ec5-4978-b3fb-5ab2a3840b72"
      },
      "source": [
        "d_B = mod_inverse(e_B,(p_B-1)*(q_B-1))\n",
        "d_B"
      ],
      "execution_count": null,
      "outputs": [
        {
          "output_type": "execute_result",
          "data": {
            "text/plain": [
              "259959042568078902255663939554592635205071473"
            ]
          },
          "metadata": {
            "tags": []
          },
          "execution_count": 17
        }
      ]
    },
    {
      "cell_type": "code",
      "metadata": {
        "id": "30d7yJps4uMi"
      },
      "source": [
        "def Num_to_Binary(m):\n",
        "  l = []\n",
        "  q = m\n",
        "  while q > 0:\n",
        "    r = q % 2\n",
        "    q = q // 2\n",
        "    l = l+[r]\n",
        "  return l\n",
        "def Modular_power(a, m, n):\n",
        "  l = Num_to_Binary(m)[::-1]\n",
        "  x = 1\n",
        "  for i in l:\n",
        "    x = (x**2) % n\n",
        "    if i==1:\n",
        "      x = (x*a) % n\n",
        "  return x"
      ],
      "execution_count": null,
      "outputs": []
    },
    {
      "cell_type": "code",
      "metadata": {
        "colab": {
          "base_uri": "https://localhost:8080/"
        },
        "id": "xoYwsONLvbnL",
        "outputId": "c4e4f2ef-eb80-44ad-ffcf-b55195627377"
      },
      "source": [
        "m = Modular_power(m1,d_B,n_B)\n",
        "m"
      ],
      "execution_count": null,
      "outputs": [
        {
          "output_type": "execute_result",
          "data": {
            "text/plain": [
              "19012507151504022505"
            ]
          },
          "metadata": {
            "tags": []
          },
          "execution_count": 25
        }
      ]
    },
    {
      "cell_type": "code",
      "metadata": {
        "colab": {
          "base_uri": "https://localhost:8080/"
        },
        "id": "PmaVTwY817_Q",
        "outputId": "b053d13f-37f7-4c99-fb5a-f083910aa90d"
      },
      "source": [
        "s = Modular_power(s1,d_B,n_B)\n",
        "s"
      ],
      "execution_count": null,
      "outputs": [
        {
          "output_type": "execute_result",
          "data": {
            "text/plain": [
              "150270996499036309478023705411245214416829627"
            ]
          },
          "metadata": {
            "tags": []
          },
          "execution_count": 26
        }
      ]
    },
    {
      "cell_type": "code",
      "metadata": {
        "colab": {
          "base_uri": "https://localhost:8080/"
        },
        "id": "5O4ngaRNwP8b",
        "outputId": "7c277a33-8ff4-43b3-f873-0f5a3d7c3529"
      },
      "source": [
        "z = Modular_power(s,e_A,n_A)\n",
        "if z%n_A==m%n_A:\n",
        "  print(\"서명이 유효합니다\")\n",
        "else:\n",
        "  print(\"서명이 유효하지 않습니다\")"
      ],
      "execution_count": null,
      "outputs": [
        {
          "output_type": "stream",
          "text": [
            "서명이 유효합니다\n"
          ],
          "name": "stdout"
        }
      ]
    },
    {
      "cell_type": "markdown",
      "metadata": {
        "id": "UMy5AmUF4weC"
      },
      "source": [
        "## 실습문제 2\n",
        "\n",
        "1. $p=11, q = 5, \\alpha = 3, k = 3$라 하자.\n",
        "$(\\alpha^k \\pmod{p}) \\pmod{q} \\ne (\\alpha^k \\pmod{q}) \\pmod{p}$\n",
        "임을 보여라. (이것은 전자서명 알고리즘 중 하나인 DSA에서 연산의 순서가 중요함을 보여준다)\n",
        "\n",
        "2. DSA 알고리즘에서는 160비트 소수 $q$와 $q|p-1$인 512비트 소수 $p$가 필요하다. 이러한 $q, p$ 한쌍을 구하여라.\n",
        "\n",
        "필요하다면, 다음 random, sympy 라이브러리의 명령어들을 이용하라.\n",
        "\n",
        "random 라이브러리 명령어\n",
        " - `randint(a, b)`: 두 수 `a, b`사이의 임의의 정수 생성\n",
        "\n",
        "sympy 라이브러리 명령어들\n",
        " - `randprime(a, b)`: 두 수 `a, b`사이의 임의의 소수 생성\n",
        " - `mod_inverse(a, n)`: 법 `n`에 대한 `a`의 역수 (즉, $ab \\equiv 1 \\pmod{n}$인) $b$ 계산 \n",
        " - `nextprime(a)`: 자연수 `a`보다 큰 첫번째 소수 생성\n",
        " - `isprime(a)`: 자연수 `a`가 소수인지 판정"
      ]
    },
    {
      "cell_type": "code",
      "metadata": {
        "id": "Vp85i9zt7-Kn"
      },
      "source": [
        "i=2**511\n",
        "while True:\n",
        "  if isprime(i)==True:\n",
        "    if (i-1)%a==0:\n",
        "      print(i)\n",
        "      break\n",
        "    else:\n",
        "      i=nextprime(i)\n",
        "      print(i)\n",
        "  else:    \n",
        "    i=i+1\n",
        "\n",
        "  \n",
        "  "
      ],
      "execution_count": null,
      "outputs": []
    },
    {
      "cell_type": "code",
      "metadata": {
        "id": "XbsiLxYF7zYa"
      },
      "source": [
        "from sympy import *\n",
        "from random import *"
      ],
      "execution_count": null,
      "outputs": []
    },
    {
      "cell_type": "code",
      "metadata": {
        "colab": {
          "base_uri": "https://localhost:8080/"
        },
        "id": "NHgH4BH375Pp",
        "outputId": "094c4886-948a-449b-e9ff-b690b5bdf644"
      },
      "source": [
        "a = randint(2**9, 2**10-1) ## 10비트인 임의의 정수 만들기\n",
        "print(a, format(a, 'b'))\n",
        "isprime(a)\n",
        "len(format(a,'b'))"
      ],
      "execution_count": null,
      "outputs": [
        {
          "output_type": "stream",
          "text": [
            "1003 1111101011\n"
          ],
          "name": "stdout"
        },
        {
          "output_type": "execute_result",
          "data": {
            "text/plain": [
              "10"
            ]
          },
          "metadata": {
            "tags": []
          },
          "execution_count": 73
        }
      ]
    },
    {
      "cell_type": "code",
      "metadata": {
        "id": "XiVXZMCK790O"
      },
      "source": [
        "p, q, a, k = 11, 5, 3, 3"
      ],
      "execution_count": null,
      "outputs": []
    },
    {
      "cell_type": "code",
      "metadata": {
        "colab": {
          "base_uri": "https://localhost:8080/"
        },
        "id": "qMQ8pCdT6cth",
        "outputId": "d3e09b77-232a-4198-a8e1-4ce1b11e0cec"
      },
      "source": [
        "A1 = Modular_power(a,k,p)\n",
        "A2 = A1%q\n",
        "A2"
      ],
      "execution_count": null,
      "outputs": [
        {
          "output_type": "execute_result",
          "data": {
            "text/plain": [
              "0"
            ]
          },
          "metadata": {
            "tags": []
          },
          "execution_count": 30
        }
      ]
    },
    {
      "cell_type": "code",
      "metadata": {
        "colab": {
          "base_uri": "https://localhost:8080/"
        },
        "id": "sqDpEqvn6dLE",
        "outputId": "2944b855-7714-4123-eec7-a66ccece8b69"
      },
      "source": [
        "B1 = Modular_power(a,k,q)\n",
        "B2 = B1%p\n",
        "B2"
      ],
      "execution_count": null,
      "outputs": [
        {
          "output_type": "execute_result",
          "data": {
            "text/plain": [
              "2"
            ]
          },
          "metadata": {
            "tags": []
          },
          "execution_count": 31
        }
      ]
    },
    {
      "cell_type": "code",
      "metadata": {
        "colab": {
          "base_uri": "https://localhost:8080/"
        },
        "id": "-5J7SUv_7B6-",
        "outputId": "06999b24-e5ff-499e-fc7d-fa933e2a4203"
      },
      "source": [
        "a = randint(2**159, 2**160-1) ## 160비트인 임의의 정수 만들기\n",
        "print(a, format(a, 'b'))\n",
        "a = nextprime(a)\n",
        "while True:\n",
        "  t=randint(2**352,2**353-1)\n",
        "  q = a*t+1\n",
        "  if isprime(q)==True:\n",
        "    print(q)\n",
        "    break"
      ],
      "execution_count": null,
      "outputs": [
        {
          "output_type": "stream",
          "text": [
            "843266357616024810048967592956169762775223648583 1001001110110101010111110000101100001010010100011100001010100100110000100000100011001000011110001101101011110100110101101111010101001011101110100100000101000111\n",
            "13201490511093977391206407268460330176981580909710747411476545310606645404040080362844136131853246455123557937535644114253273044986164551173534933849073949\n"
          ],
          "name": "stdout"
        }
      ]
    },
    {
      "cell_type": "code",
      "metadata": {
        "colab": {
          "base_uri": "https://localhost:8080/"
        },
        "id": "F6GHgFPz3Gz_",
        "outputId": "b0a669f9-bae1-4f9f-b41e-f410c62a3e2a"
      },
      "source": [
        "len(format(13201490511093977391206407268460330176981580909710747411476545310606645404040080362844136131853246455123557937535644114253273044986164551173534933849073949,'b'))"
      ],
      "execution_count": null,
      "outputs": [
        {
          "output_type": "execute_result",
          "data": {
            "text/plain": [
              "512"
            ]
          },
          "metadata": {
            "tags": []
          },
          "execution_count": 99
        }
      ]
    },
    {
      "cell_type": "code",
      "metadata": {
        "colab": {
          "base_uri": "https://localhost:8080/"
        },
        "id": "h_vSb6MnFiu9",
        "outputId": "ddb9cee4-91d4-4b5b-d749-7aec3d87a87e"
      },
      "source": [
        "isprime(a)"
      ],
      "execution_count": null,
      "outputs": [
        {
          "output_type": "execute_result",
          "data": {
            "text/plain": [
              "True"
            ]
          },
          "metadata": {
            "tags": []
          },
          "execution_count": 69
        }
      ]
    },
    {
      "cell_type": "code",
      "metadata": {
        "id": "jwJccXngJlL1"
      },
      "source": [
        ""
      ],
      "execution_count": null,
      "outputs": []
    }
  ]
}