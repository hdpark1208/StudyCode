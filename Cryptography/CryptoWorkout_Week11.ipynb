{
  "nbformat": 4,
  "nbformat_minor": 0,
  "metadata": {
    "colab": {
      "name": "CryptoWorkout_Week11.ipynb",
      "provenance": [],
      "collapsed_sections": [],
      "include_colab_link": true
    },
    "kernelspec": {
      "name": "python3",
      "display_name": "Python 3"
    },
    "language_info": {
      "name": "python"
    }
  },
  "cells": [
    {
      "cell_type": "markdown",
      "metadata": {
        "id": "view-in-github",
        "colab_type": "text"
      },
      "source": [
        "<a href=\"https://colab.research.google.com/github/hdpark1208/StudyCode/blob/main/CryptoWorkout_Week11.ipynb\" target=\"_parent\"><img src=\"https://colab.research.google.com/assets/colab-badge.svg\" alt=\"Open In Colab\"/></a>"
      ]
    },
    {
      "cell_type": "markdown",
      "metadata": {
        "id": "0INwoeC-BnP3"
      },
      "source": [
        "# RSA에 대한 공격들\n",
        "\n",
        "1. 작은 지수에 대한 공격 \n",
        "2. 매우 가까운 두 소수 - Fermat 소인수분해법\n",
        "3. $p-1$이 작은 소인수들만 갖는 경우 - Pollard $p-1$ 소인수분해법\n"
      ]
    },
    {
      "cell_type": "markdown",
      "metadata": {
        "id": "qa-EV1R0BuaE"
      },
      "source": [
        "## 1. 작은 지수에 대한 공격\n",
        "\n",
        "$𝑞<𝑝<2𝑞, 𝑑<\\frac{1}{3} 𝑛^{1/4}$인 경우 $e/n$의 연분수를 이용해서 공격가능합니다. 5주차 실습에서 본 코드를 이용합시다."
      ]
    },
    {
      "cell_type": "code",
      "metadata": {
        "id": "utzNeudXBh6M"
      },
      "source": [
        "def Fraction_to_CF(a, b):    #a/b 의 연분수\n",
        "  if b==0:\n",
        "    return []\n",
        "  return [a//b]+Fraction_to_CF(b, a%b)\n",
        "\n",
        "def CF_to_Fraction(l):\n",
        "  if len(l)==1:\n",
        "    return (l[0], 1)\n",
        "  q = l[0]\n",
        "  a1, b1 = CF_to_Fraction(l[1::])\n",
        "  return (q*a1+b1, a1)"
      ],
      "execution_count": null,
      "outputs": []
    },
    {
      "cell_type": "code",
      "metadata": {
        "id": "6t362jxiryPz"
      },
      "source": [
        ""
      ],
      "execution_count": null,
      "outputs": []
    },
    {
      "cell_type": "code",
      "metadata": {
        "colab": {
          "base_uri": "https://localhost:8080/"
        },
        "id": "r7bOsatBjd4p",
        "outputId": "b48afd07-4d7f-4cbd-9c9d-c73f1ffc9f73"
      },
      "source": [
        "print(Fraction_to_CF(3,23),Fraction_to_CF(23,3))"
      ],
      "execution_count": null,
      "outputs": [
        {
          "output_type": "stream",
          "text": [
            "[0, 7, 1, 2] [7, 1, 2]\n"
          ],
          "name": "stdout"
        }
      ]
    },
    {
      "cell_type": "code",
      "metadata": {
        "colab": {
          "base_uri": "https://localhost:8080/"
        },
        "id": "5wjtGnCiDFXI",
        "outputId": "96aebc62-bb01-4c24-abc2-9665640cfac4"
      },
      "source": [
        "n = 1966981193543797\n",
        "e = 323815174542919\n",
        "l = Fraction_to_CF(e, n)\n",
        "\n",
        "for i in [2, 4, 6]:\n",
        "  print(CF_to_Fraction(l[:i]))\n"
      ],
      "execution_count": null,
      "outputs": [
        {
          "output_type": "stream",
          "text": [
            "(1, 6)\n",
            "(27, 164)\n",
            "(121, 735)\n"
          ],
          "name": "stdout"
        }
      ]
    },
    {
      "cell_type": "code",
      "metadata": {
        "colab": {
          "base_uri": "https://localhost:8080/"
        },
        "id": "9sHUxO7bkgoX",
        "outputId": "9f23f937-5b8b-435a-f736-c524d157eee5"
      },
      "source": [
        "print(CF_to_Fraction(l[:4]),CF_to_Fraction(l[:8]))"
      ],
      "execution_count": null,
      "outputs": [
        {
          "output_type": "stream",
          "text": [
            "(27, 164) (578, 3511)\n"
          ],
          "name": "stdout"
        }
      ]
    },
    {
      "cell_type": "markdown",
      "metadata": {
        "id": "IbQe5sbk4F1Z"
      },
      "source": [
        "$d$값의 후보이므로 분수 $a/b$에서 분모 $b$가 짝수가 되면 안되고 \n",
        "홀수인 경우 이로 부터 얻는 $(eb - 1)/a$값은 $\\phi(n)$ 후보이므로 정수가 되어야 한다."
      ]
    },
    {
      "cell_type": "code",
      "metadata": {
        "colab": {
          "base_uri": "https://localhost:8080/"
        },
        "id": "_kW8c1TBDavw",
        "outputId": "ef8d7e5a-8e35-4eec-859b-037b938a5042"
      },
      "source": [
        "(e*735 - 1)/121"
      ],
      "execution_count": null,
      "outputs": [
        {
          "output_type": "execute_result",
          "data": {
            "text/plain": [
              "1966976473463185.8"
            ]
          },
          "metadata": {
            "tags": []
          },
          "execution_count": 44
        }
      ]
    },
    {
      "cell_type": "code",
      "metadata": {
        "colab": {
          "base_uri": "https://localhost:8080/"
        },
        "id": "F5sb9yV5EJ5s",
        "outputId": "690f21de-9482-420d-b0ad-0d5ab60e32cc"
      },
      "source": [
        "a, b = CF_to_Fraction(l[:8])\n",
        "C = (e*b - 1)/a; print(C)"
      ],
      "execution_count": null,
      "outputs": [
        {
          "output_type": "stream",
          "text": [
            "1966981103495136.0\n"
          ],
          "name": "stdout"
        }
      ]
    },
    {
      "cell_type": "markdown",
      "metadata": {
        "id": "w1-c9S4mpbDt"
      },
      "source": [
        "정확한 제곱근 계산을 위해 decimal 라이브러리 사용\n",
        "`getcontext().prec = 200`라는 명령어로 유효숫자를 200개로 설정한다.\n",
        "\n",
        "보통의 제곱근 명령어 `sqrt()`는 유효숫자가 많지 않아, 큰 수의 경우 \n",
        "오차가 발생한다.\n",
        "`b=Decimal(a)`라는 명령어로 정수 혹은 실수형 `a`를 Decimal형 `b`로 변환하고 `b.sqrt()`라는 명령어로 제곱근을 계산하면 된다.\n",
        "출처: https://docs.python.org/ko/3/library/decimal.html "
      ]
    },
    {
      "cell_type": "code",
      "metadata": {
        "id": "ctMIvWsn30ja"
      },
      "source": [
        "import math\n",
        "from decimal import *\n",
        "getcontext().prec = 200 # 유효숫자를 200개로 설정"
      ],
      "execution_count": null,
      "outputs": []
    },
    {
      "cell_type": "code",
      "metadata": {
        "colab": {
          "base_uri": "https://localhost:8080/"
        },
        "id": "gYhldeC6FMs1",
        "outputId": "e151cc3f-846a-4e4a-bde5-ffe9473f5026"
      },
      "source": [
        "C = Decimal(e*b - 1)/Decimal(a); \n",
        "b = -Decimal(n) + C - Decimal(1)\n",
        "c = Decimal(n)\n",
        "dis = Decimal(b**2 - 4*c)\n",
        "ans1 = (-b-dis.sqrt())/Decimal(2)\n",
        "ans2 = (-b+dis.sqrt())/Decimal(2)\n",
        "print(int(ans1), int(ans2))\n",
        "print(int(ans1*ans2)) # 두 수를 곱해서 원래 n 값이 나오는지 확인"
      ],
      "execution_count": null,
      "outputs": [
        {
          "output_type": "stream",
          "text": [
            "37264873 52783789\n",
            "1966981193543797\n"
          ],
          "name": "stdout"
        }
      ]
    },
    {
      "cell_type": "markdown",
      "metadata": {
        "id": "-aVLFdZfFlzt"
      },
      "source": [
        "## 2. 매우 가까운 두 소수 - Fermat 소인수분해법\n",
        "\n",
        "$n$이 만약 차이가 매우 작은 두 소수 $p, q$의 곱일 경우에 효과적인 소인수분해법\n",
        "$n+1^2, n+2^2, ..., $들을 차례로 제곱수인지를 확인\n",
        "\n",
        "\n",
        " "
      ]
    },
    {
      "cell_type": "code",
      "metadata": {
        "colab": {
          "base_uri": "https://localhost:8080/"
        },
        "id": "vc3MqfgB33Fh",
        "outputId": "86a8ca26-6dd3-4836-88fa-f18beb22290d"
      },
      "source": [
        "n = 152415787501905985701881832150835089037858868621211004433\n",
        "for i in range(1000):\n",
        "  num = Decimal(n)+Decimal(i)**2\n",
        "  if int(num.sqrt())**2 == num:\n",
        "    print(int(num.sqrt()), i)\n",
        "    break"
      ],
      "execution_count": null,
      "outputs": [
        {
          "output_type": "stream",
          "text": [
            "12345678900000031415926500087 56\n"
          ],
          "name": "stdout"
        }
      ]
    },
    {
      "cell_type": "code",
      "metadata": {
        "colab": {
          "base_uri": "https://localhost:8080/"
        },
        "id": "jBk_G5uV4j5Z",
        "outputId": "2580b148-214a-44f5-dbc5-10c5168ace3b"
      },
      "source": [
        "x = 12345678900000031415926500087 \n",
        "y = 56\n",
        "(x+y)*(x-y)"
      ],
      "execution_count": null,
      "outputs": [
        {
          "output_type": "execute_result",
          "data": {
            "text/plain": [
              "152415787501905985701881832150835089037858868621211004433"
            ]
          },
          "metadata": {
            "tags": []
          },
          "execution_count": 27
        }
      ]
    },
    {
      "cell_type": "markdown",
      "metadata": {
        "id": "EBQmJ1NE7k5h"
      },
      "source": [
        "## 3. $p-1$이 작은 소인수들만 갖는 경우 - Pollard $p-1$ 소인수분해법\n",
        "\n",
        "$a>1$ 선택(보통 2). 한계값 $B$ 선택\n",
        "$b \\equiv a^{B!} \\pmod{n}$ 계산 후,\n",
        "$d = gcd(b-1, n)$\n",
        "\n",
        "만약 $1<d<n$이면, 이 값이 $n$의 자명하지 않은 인수"
      ]
    },
    {
      "cell_type": "code",
      "metadata": {
        "colab": {
          "base_uri": "https://localhost:8080/"
        },
        "id": "3FFj7HJF8iZJ",
        "outputId": "9427a8c5-a90c-4f8b-d194-4e10387797b5"
      },
      "source": [
        "n = 618240007109027021\n",
        "B = 30 \n",
        "# p-1의 모든 소인수가 30보다 작은 경우 유효\n",
        "# 필요하다면 B 값을 수정 \n",
        "    \n",
        "a = 2\n",
        "num = a\n",
        "for i in range(2, B+1):\n",
        "  num = pow(num, i, n)\n",
        "  print(f\"num = {num}\")\n",
        "math.gcd(num-1, n)"
      ],
      "execution_count": null,
      "outputs": [
        {
          "output_type": "stream",
          "text": [
            "num = 4\n",
            "num = 64\n",
            "num = 16777216\n",
            "num = 450550181259271367\n",
            "num = 604298207462918147\n",
            "num = 598720820422102864\n",
            "num = 274611843464129643\n",
            "num = 72133237020013337\n",
            "num = 148436013347009865\n",
            "num = 8079434219586591\n",
            "num = 553277113757700058\n",
            "num = 240727176545838822\n",
            "num = 476571126664304217\n",
            "num = 50186131637814569\n",
            "num = 206685778090249541\n",
            "num = 166708615613348433\n",
            "num = 75982165573347870\n",
            "num = 230604435182173265\n",
            "num = 320502606609578823\n",
            "num = 39097402658973775\n",
            "num = 54114353493781488\n",
            "num = 345872629267591076\n",
            "num = 617907375224114552\n",
            "num = 76570620490205645\n",
            "num = 436095033748274611\n",
            "num = 247370059765895699\n",
            "num = 292844808823276605\n",
            "num = 509437869012629080\n",
            "num = 306005129310210882\n"
          ],
          "name": "stdout"
        },
        {
          "output_type": "execute_result",
          "data": {
            "text/plain": [
              "250387201"
            ]
          },
          "metadata": {
            "tags": []
          },
          "execution_count": 33
        }
      ]
    },
    {
      "cell_type": "markdown",
      "metadata": {
        "id": "bTvFrEUa4uqg"
      },
      "source": [
        "위에서 구한 값 $d = gcd(b-1, n)$이 정말로 $n$의 자명하지 않은(즉, 1이나 $n$이 아닌) 약수를 주는 지 확인해보자"
      ]
    },
    {
      "cell_type": "code",
      "metadata": {
        "colab": {
          "base_uri": "https://localhost:8080/"
        },
        "id": "nmH1Aptw-FZE",
        "outputId": "9bec729e-860c-43b0-b217-8bbd5d8bfac5"
      },
      "source": [
        "print(250387201, n//250387201, 250387201*(n//250387201))"
      ],
      "execution_count": null,
      "outputs": [
        {
          "output_type": "stream",
          "text": [
            "250387201 2469135821 618240007109027021\n"
          ],
          "name": "stdout"
        }
      ]
    },
    {
      "cell_type": "markdown",
      "metadata": {
        "id": "67tfNhx-5dmZ"
      },
      "source": [
        "## 실습문제 \n",
        "\n",
        "`n = 8834884587090814646372459890377418962766907`을 $p-1$방법으로 소인수분해 하세요."
      ]
    },
    {
      "cell_type": "code",
      "metadata": {
        "id": "IMJ8mHlm-cF4",
        "colab": {
          "base_uri": "https://localhost:8080/"
        },
        "outputId": "fef82d97-eb53-4bfd-ca80-6e295ea801b2"
      },
      "source": [
        "n = 8834884587090814646372459890377418962766907\n",
        "B = 73\n",
        "# p-1의 모든 소인수가 30보다 작은 경우 유효\n",
        "# 필요하다면 B 값을 수정 \n",
        "    \n",
        "a = 2\n",
        "num = a\n",
        "for i in range(2, B+1):\n",
        "  num = pow(num, i, n)\n",
        "  #print(f\"num = {num}\")\n",
        "math.gcd(num-1, n)\n",
        "\n",
        "print(364438989216827965440001, n//364438989216827965440001, 364438989216827965440001*(n//364438989216827965440001))"
      ],
      "execution_count": null,
      "outputs": [
        {
          "output_type": "stream",
          "text": [
            "364438989216827965440001 24242424242468686907 8834884587090814646372459890377418962766907\n"
          ],
          "name": "stdout"
        }
      ]
    },
    {
      "cell_type": "markdown",
      "metadata": {
        "id": "DZUyGoa4-raN"
      },
      "source": [
        "## 실습문제\n",
        "\n",
        "1. 작은 지수에 대한 공격\n",
        "2. 매우 가까운 두 소수 - Fermat 소인수분해법\n",
        "3. $p-1$이 작은 소인수들만 갖는 경우 - Pollard $p-1$ 소인수분해법\n",
        "\n",
        "위의 3가지 공격방법으로 $n$을 소인수분해 할 수 있는 세 쌍의 $n$ 값과 $e$ 값을 생성해서,\n",
        " 아래 링크의 자신의 목록에 작성하세요.\n",
        "\n",
        " sympy 라이브러리의 number theory 부분 공식문서:\n",
        " https://docs.sympy.org/latest/modules/ntheory.html\n",
        " \n",
        "공유문서 링크: https://docs.google.com/spreadsheets/d/1GnAEYadB1ysCKIKOb7OkHm3aFhS0GfJmqJUSkTNqWZI/edit?usp=sharing\n",
        "\n",
        "\n"
      ]
    },
    {
      "cell_type": "code",
      "metadata": {
        "id": "Jz719TLk7STn"
      },
      "source": [
        ""
      ],
      "execution_count": null,
      "outputs": []
    },
    {
      "cell_type": "code",
      "metadata": {
        "colab": {
          "base_uri": "https://localhost:8080/",
          "height": 394
        },
        "id": "W9v8RtZBsLQh",
        "outputId": "ce10ee84-6e86-4b89-fbf4-c160bd079bd2"
      },
      "source": [
        "#작은 지수에 대한 공격\n",
        "from sympy import *\n",
        "q = randprime(2**64,2**65-1)\n",
        "p = randprime(q,2*q)\n",
        "n=p*q\n",
        "m=(p-1)*(q-1)\n",
        "for i in range(2**10,2**100):\n",
        "  e=i\n",
        "  if math.gcd(e,m)==1:\n",
        "    d = mod_inverse(e,m)\n",
        "    if d<(1/3)*n**(1/4):\n",
        "      print(p,q,n)\n",
        "      break\n",
        "    else:\n",
        "      continue\n",
        "\n",
        "#매우 가까운 ...\n",
        "q = randprime(2**64,2**65-1)\n",
        "p = randprime(q,q+100)\n",
        "e = 5153\n",
        "m = (q-1)*(p-1)\n",
        "print(p,q)\n",
        "n = p*q\n",
        "for i in range(1000):\n",
        "  num = Decimal(n)+Decimal(i)**2\n",
        "  if int(num.sqrt())**2 == num:\n",
        "    print(int(num.sqrt()), i)\n",
        "    break\n",
        "if math.gcd(e,m)==1:\n",
        "  print(\"Okay\")\n",
        "    \n",
        "print(n,num)\n",
        "\n",
        "# p-1\n",
        "n = 6941288458709081464637245989037741513\n",
        "B = 73\n",
        "# p-1의 모든 소인수가 30보다 작은 경우 유효\n",
        "# 필요하다면 B 값을 수정 \n",
        "e=5153\n",
        "m = 43282*160369855571681294379715962133810\n",
        "a = 2\n",
        "num = a\n",
        "for i in range(2, B+1):\n",
        "  num = pow(num, i, n)\n",
        "  #print(f\"num = {num}\")\n",
        "math.gcd(num-1, n)\n",
        "print(43283, n//43283, 43283*(n//43283))\n",
        "if math.gcd(e,m)==1:\n",
        "  print(\"Okay\")\n"
      ],
      "execution_count": null,
      "outputs": [
        {
          "output_type": "error",
          "ename": "KeyboardInterrupt",
          "evalue": "ignored",
          "traceback": [
            "\u001b[0;31m---------------------------------------------------------------------------\u001b[0m",
            "\u001b[0;31mKeyboardInterrupt\u001b[0m                         Traceback (most recent call last)",
            "\u001b[0;32m<ipython-input-159-d1d9fc4c91a0>\u001b[0m in \u001b[0;36m<module>\u001b[0;34m()\u001b[0m\n\u001b[1;32m      8\u001b[0m   \u001b[0me\u001b[0m\u001b[0;34m=\u001b[0m\u001b[0mi\u001b[0m\u001b[0;34m\u001b[0m\u001b[0;34m\u001b[0m\u001b[0m\n\u001b[1;32m      9\u001b[0m   \u001b[0;32mif\u001b[0m \u001b[0mmath\u001b[0m\u001b[0;34m.\u001b[0m\u001b[0mgcd\u001b[0m\u001b[0;34m(\u001b[0m\u001b[0me\u001b[0m\u001b[0;34m,\u001b[0m\u001b[0mm\u001b[0m\u001b[0;34m)\u001b[0m\u001b[0;34m==\u001b[0m\u001b[0;36m1\u001b[0m\u001b[0;34m:\u001b[0m\u001b[0;34m\u001b[0m\u001b[0;34m\u001b[0m\u001b[0m\n\u001b[0;32m---> 10\u001b[0;31m     \u001b[0md\u001b[0m \u001b[0;34m=\u001b[0m \u001b[0mmod_inverse\u001b[0m\u001b[0;34m(\u001b[0m\u001b[0me\u001b[0m\u001b[0;34m,\u001b[0m\u001b[0mm\u001b[0m\u001b[0;34m)\u001b[0m\u001b[0;34m\u001b[0m\u001b[0;34m\u001b[0m\u001b[0m\n\u001b[0m\u001b[1;32m     11\u001b[0m     \u001b[0;32mif\u001b[0m \u001b[0md\u001b[0m\u001b[0;34m<\u001b[0m\u001b[0;34m(\u001b[0m\u001b[0;36m1\u001b[0m\u001b[0;34m/\u001b[0m\u001b[0;36m3\u001b[0m\u001b[0;34m)\u001b[0m\u001b[0;34m*\u001b[0m\u001b[0mn\u001b[0m\u001b[0;34m**\u001b[0m\u001b[0;34m(\u001b[0m\u001b[0;36m1\u001b[0m\u001b[0;34m/\u001b[0m\u001b[0;36m4\u001b[0m\u001b[0;34m)\u001b[0m\u001b[0;34m:\u001b[0m\u001b[0;34m\u001b[0m\u001b[0;34m\u001b[0m\u001b[0m\n\u001b[1;32m     12\u001b[0m       \u001b[0mprint\u001b[0m\u001b[0;34m(\u001b[0m\u001b[0mp\u001b[0m\u001b[0;34m,\u001b[0m\u001b[0mq\u001b[0m\u001b[0;34m,\u001b[0m\u001b[0mn\u001b[0m\u001b[0;34m)\u001b[0m\u001b[0;34m\u001b[0m\u001b[0;34m\u001b[0m\u001b[0m\n",
            "\u001b[0;32m/usr/local/lib/python3.7/dist-packages/sympy/core/numbers.py\u001b[0m in \u001b[0;36mmod_inverse\u001b[0;34m(a, m)\u001b[0m\n\u001b[1;32m    543\u001b[0m         \u001b[0ma\u001b[0m\u001b[0;34m,\u001b[0m \u001b[0mm\u001b[0m \u001b[0;34m=\u001b[0m \u001b[0mas_int\u001b[0m\u001b[0;34m(\u001b[0m\u001b[0ma\u001b[0m\u001b[0;34m)\u001b[0m\u001b[0;34m,\u001b[0m \u001b[0mas_int\u001b[0m\u001b[0;34m(\u001b[0m\u001b[0mm\u001b[0m\u001b[0;34m)\u001b[0m\u001b[0;34m\u001b[0m\u001b[0;34m\u001b[0m\u001b[0m\n\u001b[1;32m    544\u001b[0m         \u001b[0;32mif\u001b[0m \u001b[0mm\u001b[0m \u001b[0;34m!=\u001b[0m \u001b[0;36m1\u001b[0m \u001b[0;32mand\u001b[0m \u001b[0mm\u001b[0m \u001b[0;34m!=\u001b[0m \u001b[0;34m-\u001b[0m\u001b[0;36m1\u001b[0m\u001b[0;34m:\u001b[0m\u001b[0;34m\u001b[0m\u001b[0;34m\u001b[0m\u001b[0m\n\u001b[0;32m--> 545\u001b[0;31m             \u001b[0mx\u001b[0m\u001b[0;34m,\u001b[0m \u001b[0my\u001b[0m\u001b[0;34m,\u001b[0m \u001b[0mg\u001b[0m \u001b[0;34m=\u001b[0m \u001b[0migcdex\u001b[0m\u001b[0;34m(\u001b[0m\u001b[0ma\u001b[0m\u001b[0;34m,\u001b[0m \u001b[0mm\u001b[0m\u001b[0;34m)\u001b[0m\u001b[0;34m\u001b[0m\u001b[0;34m\u001b[0m\u001b[0m\n\u001b[0m\u001b[1;32m    546\u001b[0m             \u001b[0;32mif\u001b[0m \u001b[0mg\u001b[0m \u001b[0;34m==\u001b[0m \u001b[0;36m1\u001b[0m\u001b[0;34m:\u001b[0m\u001b[0;34m\u001b[0m\u001b[0;34m\u001b[0m\u001b[0m\n\u001b[1;32m    547\u001b[0m                 \u001b[0mc\u001b[0m \u001b[0;34m=\u001b[0m \u001b[0mx\u001b[0m \u001b[0;34m%\u001b[0m \u001b[0mm\u001b[0m\u001b[0;34m\u001b[0m\u001b[0;34m\u001b[0m\u001b[0m\n",
            "\u001b[0;32m/usr/local/lib/python3.7/dist-packages/sympy/core/numbers.py\u001b[0m in \u001b[0;36migcdex\u001b[0;34m(a, b)\u001b[0m\n\u001b[1;32m    494\u001b[0m     \u001b[0;32mwhile\u001b[0m \u001b[0mb\u001b[0m\u001b[0;34m:\u001b[0m\u001b[0;34m\u001b[0m\u001b[0;34m\u001b[0m\u001b[0m\n\u001b[1;32m    495\u001b[0m         \u001b[0;34m(\u001b[0m\u001b[0mc\u001b[0m\u001b[0;34m,\u001b[0m \u001b[0mq\u001b[0m\u001b[0;34m)\u001b[0m \u001b[0;34m=\u001b[0m \u001b[0;34m(\u001b[0m\u001b[0ma\u001b[0m \u001b[0;34m%\u001b[0m \u001b[0mb\u001b[0m\u001b[0;34m,\u001b[0m \u001b[0ma\u001b[0m \u001b[0;34m//\u001b[0m \u001b[0mb\u001b[0m\u001b[0;34m)\u001b[0m\u001b[0;34m\u001b[0m\u001b[0;34m\u001b[0m\u001b[0m\n\u001b[0;32m--> 496\u001b[0;31m         \u001b[0;34m(\u001b[0m\u001b[0ma\u001b[0m\u001b[0;34m,\u001b[0m \u001b[0mb\u001b[0m\u001b[0;34m,\u001b[0m \u001b[0mr\u001b[0m\u001b[0;34m,\u001b[0m \u001b[0ms\u001b[0m\u001b[0;34m,\u001b[0m \u001b[0mx\u001b[0m\u001b[0;34m,\u001b[0m \u001b[0my\u001b[0m\u001b[0;34m)\u001b[0m \u001b[0;34m=\u001b[0m \u001b[0;34m(\u001b[0m\u001b[0mb\u001b[0m\u001b[0;34m,\u001b[0m \u001b[0mc\u001b[0m\u001b[0;34m,\u001b[0m \u001b[0mx\u001b[0m \u001b[0;34m-\u001b[0m \u001b[0mq\u001b[0m\u001b[0;34m*\u001b[0m\u001b[0mr\u001b[0m\u001b[0;34m,\u001b[0m \u001b[0my\u001b[0m \u001b[0;34m-\u001b[0m \u001b[0mq\u001b[0m\u001b[0;34m*\u001b[0m\u001b[0ms\u001b[0m\u001b[0;34m,\u001b[0m \u001b[0mr\u001b[0m\u001b[0;34m,\u001b[0m \u001b[0ms\u001b[0m\u001b[0;34m)\u001b[0m\u001b[0;34m\u001b[0m\u001b[0;34m\u001b[0m\u001b[0m\n\u001b[0m\u001b[1;32m    497\u001b[0m \u001b[0;34m\u001b[0m\u001b[0m\n\u001b[1;32m    498\u001b[0m     \u001b[0;32mreturn\u001b[0m \u001b[0;34m(\u001b[0m\u001b[0mx\u001b[0m\u001b[0;34m*\u001b[0m\u001b[0mx_sign\u001b[0m\u001b[0;34m,\u001b[0m \u001b[0my\u001b[0m\u001b[0;34m*\u001b[0m\u001b[0my_sign\u001b[0m\u001b[0;34m,\u001b[0m \u001b[0ma\u001b[0m\u001b[0;34m)\u001b[0m\u001b[0;34m\u001b[0m\u001b[0;34m\u001b[0m\u001b[0m\n",
            "\u001b[0;31mKeyboardInterrupt\u001b[0m: "
          ]
        }
      ]
    },
    {
      "cell_type": "code",
      "metadata": {
        "id": "GAiiACiD4LeF"
      },
      "source": [
        ""
      ],
      "execution_count": null,
      "outputs": []
    },
    {
      "cell_type": "markdown",
      "metadata": {
        "id": "tImUeqAt5t5K"
      },
      "source": [
        "### sympy 라이브러리 명령어들\n",
        " - `randprime(a, b)`: 두 수 `a, b`사이의 임의의 소수 생성\n",
        " - `mod_inverse(a, n)`: 법 `n`에 대한 `a`의 역수 (즉, $ab \\equiv 1 \\pmod{n}$인) $b$ 계산 \n",
        " - `nextprime(a)`: 자연수 `a`보다 큰 첫번째 소수 생성\n",
        " - `isprime(a)`: 자연수 `a`가 소수인지 판정"
      ]
    },
    {
      "cell_type": "code",
      "metadata": {
        "colab": {
          "base_uri": "https://localhost:8080/"
        },
        "id": "mVwhQBQi3SvF",
        "outputId": "98dff77a-04e3-4ef3-dcff-ecf5d8d16467"
      },
      "source": [
        "from sympy import *\n",
        "p = randprime(2**64, 2**65-1)\n",
        "\n",
        "print(p)"
      ],
      "execution_count": null,
      "outputs": [
        {
          "output_type": "stream",
          "text": [
            "27587380529447574571\n"
          ],
          "name": "stdout"
        }
      ]
    },
    {
      "cell_type": "code",
      "metadata": {
        "colab": {
          "base_uri": "https://localhost:8080/"
        },
        "id": "ESvu_hA13VDj",
        "outputId": "a3d7283f-0a4d-48a8-c85d-67cdd36a23ff"
      },
      "source": [
        "q = randprime(2**64, 2**65-1)\n",
        "print(q)\n",
        "isprime(q)"
      ],
      "execution_count": null,
      "outputs": [
        {
          "output_type": "stream",
          "text": [
            "33536761674491895091\n"
          ],
          "name": "stdout"
        },
        {
          "output_type": "execute_result",
          "data": {
            "text/plain": [
              "True"
            ]
          },
          "metadata": {
            "tags": []
          },
          "execution_count": 3
        }
      ]
    },
    {
      "cell_type": "markdown",
      "metadata": {
        "id": "vrigzg_1CfOt"
      },
      "source": [
        "풀이 3. (아이디어) \n",
        "\n",
        "1. $B=50$ 정도로 고려하고 50이하의 소수들의 목록을 구한후, \n",
        "2. 각 소수별로 $B!$을 나누는 최대지수를 구한 후\n",
        "3. 그 최대지수까지 그 소수들의 적절한 곱들에 1을 더한 값이 소수가 되는 경우를 찾아보자"
      ]
    },
    {
      "cell_type": "code",
      "metadata": {
        "colab": {
          "base_uri": "https://localhost:8080/"
        },
        "id": "m65h5SEtCuux",
        "outputId": "9fb407c4-a515-4a44-8ebb-ca7bf4deedf5"
      },
      "source": [
        "l = list(primerange(1, 50))\n",
        "print(l)"
      ],
      "execution_count": null,
      "outputs": [
        {
          "output_type": "stream",
          "text": [
            "[2, 3, 5, 7, 11, 13, 17, 19, 23, 29, 31, 37, 41, 43, 47]\n"
          ],
          "name": "stdout"
        }
      ]
    },
    {
      "cell_type": "code",
      "metadata": {
        "colab": {
          "base_uri": "https://localhost:8080/"
        },
        "id": "X2YCwDrOCwcU",
        "outputId": "5735b943-a123-40d9-81b0-e528ffe80617"
      },
      "source": [
        "max_exponent = []\n",
        "for p in l:\n",
        "  B = 50\n",
        "  sum = 0\n",
        "  while B > 0:\n",
        "    B = int(B/p)\n",
        "    sum = sum+B\n",
        "  max_exponent.append(sum)\n",
        "\n",
        "print(max_exponent)"
      ],
      "execution_count": null,
      "outputs": [
        {
          "output_type": "stream",
          "text": [
            "[47, 22, 12, 8, 4, 3, 2, 2, 2, 1, 1, 1, 1, 1, 1]\n"
          ],
          "name": "stdout"
        }
      ]
    },
    {
      "cell_type": "code",
      "metadata": {
        "colab": {
          "base_uri": "https://localhost:8080/"
        },
        "id": "QC4CRoWHEN8l",
        "outputId": "1f51d93b-d172-404b-c57a-8a880d12b93a"
      },
      "source": [
        "testprime = 1\n",
        "for i in range(len(l)):\n",
        "  j = max_exponent[i]\n",
        "  testprime *= l[i]**j\n",
        "\n",
        "print(testprime)"
      ],
      "execution_count": null,
      "outputs": [
        {
          "output_type": "stream",
          "text": [
            "30414093201713378043612608166064768844377641568960512000000000000\n"
          ],
          "name": "stdout"
        }
      ]
    },
    {
      "cell_type": "code",
      "metadata": {
        "id": "f1TMATiM-_UT"
      },
      "source": [
        ""
      ],
      "execution_count": null,
      "outputs": []
    }
  ]
}
