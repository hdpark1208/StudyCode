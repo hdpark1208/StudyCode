{
  "nbformat": 4,
  "nbformat_minor": 0,
  "metadata": {
    "colab": {
      "name": "CryptoWorkoutWeek6.ipynb",
      "provenance": [],
      "collapsed_sections": [],
      "include_colab_link": true
    },
    "kernelspec": {
      "name": "python3",
      "display_name": "Python 3"
    },
    "language_info": {
      "name": "python"
    }
  },
  "cells": [
    {
      "cell_type": "markdown",
      "metadata": {
        "id": "view-in-github",
        "colab_type": "text"
      },
      "source": [
        "<a href=\"https://colab.research.google.com/github/hdpark1208/StudyCode/blob/main/CryptoWorkoutWeek6.ipynb\" target=\"_parent\"><img src=\"https://colab.research.google.com/assets/colab-badge.svg\" alt=\"Open In Colab\"/></a>"
      ]
    },
    {
      "cell_type": "markdown",
      "metadata": {
        "id": "Bfovuz9GW8Nh"
      },
      "source": [
        "## 소인수분해 알고리즘"
      ]
    },
    {
      "cell_type": "markdown",
      "metadata": {
        "id": "wJuQjk5TXAFI"
      },
      "source": [
        "에라토스테네스의 체를 이용하여, 다음과 같이 자연수 $n$을 소인수분해하는 함수 `prime_factors(n)`을 만들수 있습니다."
      ]
    },
    {
      "cell_type": "code",
      "metadata": {
        "id": "kQwndiDrXFac"
      },
      "source": [
        "def prime_factors(n):\n",
        "  i = 2\n",
        "  factors = []\n",
        "  while i * i <= n:\n",
        "    if n % i: # 정수값이 0이면 boolean 자료형으로는 False로 0이 아니면 True\n",
        "      i += 1 # i=i+1을 i += 1로 간단히\n",
        "    else:\n",
        "      n //= i # n = n // i를 n//=i로 간단히\n",
        "      factors.append(i)\n",
        "  if n > 1:\n",
        "    factors.append(n)\n",
        "  return factors"
      ],
      "execution_count": null,
      "outputs": []
    },
    {
      "cell_type": "code",
      "metadata": {
        "colab": {
          "base_uri": "https://localhost:8080/"
        },
        "id": "FqxY7E4pXe25",
        "outputId": "f82e9a1d-5c79-417b-a244-efa2ab5f4dd2"
      },
      "source": [
        "prime_factors(600) #확인해봅시다."
      ],
      "execution_count": null,
      "outputs": [
        {
          "output_type": "execute_result",
          "data": {
            "text/plain": [
              "[2, 2, 2, 3, 5, 5]"
            ]
          },
          "metadata": {
            "tags": []
          },
          "execution_count": 2
        }
      ]
    },
    {
      "cell_type": "markdown",
      "metadata": {
        "id": "UHy0ViGvYkdQ"
      },
      "source": [
        "`set()` 명령어를 이용하여 list 자료형을 집합 자료형으로 만들어서 서로 다른 소인수들을 얻습니다."
      ]
    },
    {
      "cell_type": "code",
      "metadata": {
        "colab": {
          "base_uri": "https://localhost:8080/"
        },
        "id": "Ae-uGVpSXhiD",
        "outputId": "bb906e79-c426-4741-8eb3-4f817b70bace"
      },
      "source": [
        "set(prime_factors(600)) "
      ],
      "execution_count": null,
      "outputs": [
        {
          "output_type": "execute_result",
          "data": {
            "text/plain": [
              "{2, 3, 5}"
            ]
          },
          "metadata": {
            "tags": []
          },
          "execution_count": 3
        }
      ]
    },
    {
      "cell_type": "markdown",
      "metadata": {
        "id": "BaikPd-zYs9w"
      },
      "source": [
        "이를 이용하여 주어진 소수 $p$에 대해, 원시근을 찾는 알고리즘을 구현해봅시다. \n",
        "지수가 매우 큰 거듭제곱을 수행해야 하므로, 지난 시간 작성한 빠른 거듭제곱 명령어를 사용합니다."
      ]
    },
    {
      "cell_type": "code",
      "metadata": {
        "id": "l-RGqVdNZelb"
      },
      "source": [
        "def Num_to_Binary(m):\n",
        "  l = []\n",
        "  q = m\n",
        "  while q > 0:\n",
        "    r = q % 2\n",
        "    q = q // 2\n",
        "    l = l+[r]\n",
        "  return l\n",
        "  \n",
        "def Modular_power(a, m, n): \n",
        "  l = Num_to_Binary(m)[::-1]\n",
        "  x = 1\n",
        "  for i in l:\n",
        "    x = (x**2) % n\n",
        "    if i==1:\n",
        "      x = (x*a) % n\n",
        "  return x"
      ],
      "execution_count": null,
      "outputs": []
    },
    {
      "cell_type": "markdown",
      "metadata": {
        "id": "cVTlkw98i_tQ"
      },
      "source": [
        "정수 $a$가 법 $p$로 원시근인지 확인하는 함수 `Test_Primtiveroots(a, p)`와 이를 이용하여 작은 자연수 2부터  법 $p$로 원시근을 찾는 함수 `Primitiveroots(p)`를 완성해봅시다."
      ]
    },
    {
      "cell_type": "code",
      "metadata": {
        "id": "npufJDO-Y6NR"
      },
      "source": [
        "def Test_Primtiveroots(a, p):\n",
        "  l = set(prime_factors(p-1))\n",
        "  for i in l:\n",
        "    if Modular_power(a, (p-1)//i, p)==1:\n",
        "      return False\n",
        "  return True\n",
        "\n",
        "def Primitiveroots(p):\n",
        "  for a in range(2, p):\n",
        "    if Test_Primtiveroots(a, p):\n",
        "      return a\n"
      ],
      "execution_count": null,
      "outputs": []
    },
    {
      "cell_type": "code",
      "metadata": {
        "colab": {
          "base_uri": "https://localhost:8080/"
        },
        "id": "mCEaMU2Ac5Sr",
        "outputId": "fe221878-b48d-42df-d110-6e50b15aeff1"
      },
      "source": [
        "Primitiveroots(601) # 확인해봅시다."
      ],
      "execution_count": null,
      "outputs": [
        {
          "output_type": "execute_result",
          "data": {
            "text/plain": [
              "7"
            ]
          },
          "metadata": {
            "tags": []
          },
          "execution_count": 6
        }
      ]
    },
    {
      "cell_type": "code",
      "metadata": {
        "id": "I8_hrRLebmLs"
      },
      "source": [
        ""
      ],
      "execution_count": null,
      "outputs": []
    },
    {
      "cell_type": "markdown",
      "metadata": {
        "id": "ghAGAohFvqlR"
      },
      "source": [
        "### 실습문제\n",
        "\n",
        "3이 소수 65537의 원시근임을 보여라."
      ]
    },
    {
      "cell_type": "code",
      "metadata": {
        "colab": {
          "base_uri": "https://localhost:8080/"
        },
        "id": "C2a3rNazw0S5",
        "outputId": "fabeb62c-b096-419c-f913-2661d1d96711"
      },
      "source": [
        "Test_Primtiveroots(3, 65537) "
      ],
      "execution_count": null,
      "outputs": [
        {
          "output_type": "execute_result",
          "data": {
            "text/plain": [
              "True"
            ]
          },
          "metadata": {
            "tags": []
          },
          "execution_count": 26
        }
      ]
    },
    {
      "cell_type": "markdown",
      "metadata": {
        "id": "a9tH3XzLvF_a"
      },
      "source": [
        "### 실습문제\n",
        "\n",
        "1. $n=391=17 \\cdot 23$라 할때, $2^{n-1}\\not\\equiv 1 \\pmod{n}$임을 보이고, $2^{j}\\equiv 1 \\pmod{n}$를 만족시키는 정수 $j>0$을 하나 구하여라. \n",
        "2. $n=84047 \\cdot 65497$에 대해 $x^2 \\equiv y^2 \\pmod{n}$이지만 $x \\not \\equiv \\pm y \\pmod{n}$인 $x, y$를 구하여라.\n",
        "3. 법 2325781에 대해 1522756의 모든 제곱근을 구하여라."
      ]
    },
    {
      "cell_type": "markdown",
      "metadata": {
        "id": "zRe-NwWOx8_x"
      },
      "source": [
        "필요하면, 지난 시간에 작성한 중국인 나머지정리의 해를 구하는 함수를 사용해도 좋습니다."
      ]
    },
    {
      "cell_type": "code",
      "metadata": {
        "id": "L6lxN37VxnGR"
      },
      "source": [
        "def GCD(a,b):\n",
        "  if b == 0:\n",
        "    return a       \n",
        "  return GCD(b, a%b)\n",
        "\n",
        "def Extended_GCD(a,b):\n",
        "  if b == 0:\n",
        "    return a, 1, 0        #  GCD는 양수이므로 절대값 명령어 abs()를 사용\n",
        "  gcd, x1, y1 = Extended_GCD(b, a%b) \n",
        "  x = y1\n",
        "  y = x1 - (a//b)*y1 \n",
        "  return gcd, x, y\n",
        "\n",
        "def Modular_inv(a, n):\n",
        "  if GCD(a, n) != 1:\n",
        "    print(\"{}와 {}은 서로 소가 아닙니다\".format(a, n))\n",
        "    return\n",
        "  return Extended_GCD(a, n)[1]\n",
        "\n",
        "def CRT(m, n, a, b): # m, n으로 나눈 나머지가 각각 a, b인 정수 (법 mn에 대해 유일) \n",
        "  if GCD(m, n) != 1:\n",
        "    print(\"{}와 {}는 서로 소이어야 합니다\".format(m, n))\n",
        "    return\n",
        "  return (a*n*Modular_inv(n, m)+b*m*Modular_inv(m, n)) % (m*n)"
      ],
      "execution_count": null,
      "outputs": []
    },
    {
      "cell_type": "markdown",
      "metadata": {
        "id": "hvifikuMyRRa"
      },
      "source": [
        "1번 문제 해답"
      ]
    },
    {
      "cell_type": "code",
      "metadata": {
        "colab": {
          "base_uri": "https://localhost:8080/"
        },
        "id": "TTmPxoAfvjY5",
        "outputId": "a82e8756-d9f8-454e-cf75-ec13f2ac23b5"
      },
      "source": [
        "n = 391\n",
        "Modular_power(2, n-1, n)"
      ],
      "execution_count": null,
      "outputs": [
        {
          "output_type": "execute_result",
          "data": {
            "text/plain": [
              "285"
            ]
          },
          "metadata": {
            "tags": []
          },
          "execution_count": 27
        }
      ]
    },
    {
      "cell_type": "code",
      "metadata": {
        "colab": {
          "base_uri": "https://localhost:8080/"
        },
        "id": "y7uEH6IqxG6h",
        "outputId": "c161211f-2bf3-4c2a-f106-e1cd5015dcdb"
      },
      "source": [
        "for j in range(2, n-1):\n",
        "  if Modular_power(2, j, n)==1:\n",
        "    print(j)\n",
        "    break"
      ],
      "execution_count": null,
      "outputs": [
        {
          "output_type": "stream",
          "text": [
            "88\n"
          ],
          "name": "stdout"
        }
      ]
    },
    {
      "cell_type": "markdown",
      "metadata": {
        "id": "XoNb2330xScJ"
      },
      "source": [
        "2번 문제 해답\n",
        "\n",
        "$x^2 \\equiv 1 \\pmod{n}$은 총 4개의 해를 갖는데, 이중 $\\pm 1$이 아닌 2개의 해 $\\pm x$는 $\\pm1$과 법 $n$으로 합동이 될 수 없습니다."
      ]
    },
    {
      "cell_type": "code",
      "metadata": {
        "colab": {
          "base_uri": "https://localhost:8080/"
        },
        "id": "gTq9RBR3yQgh",
        "outputId": "7730c6da-ac9d-4d38-f097-8749d5f8b687"
      },
      "source": [
        "p = 84047\n",
        "q = 65497\n",
        "n = p*q\n",
        "x = CRT(p, q, 1, -1)\n",
        "print(x % n , x**2 % n) # 확인해봅시다"
      ],
      "execution_count": null,
      "outputs": [
        {
          "output_type": "stream",
          "text": [
            "895016504 1\n"
          ],
          "name": "stdout"
        }
      ]
    },
    {
      "cell_type": "markdown",
      "metadata": {
        "id": "0SDBhErL05sy"
      },
      "source": [
        "3번 문제 해답\n",
        "\n",
        "먼저 2325781의 소인수분해를 해봅시다."
      ]
    },
    {
      "cell_type": "code",
      "metadata": {
        "colab": {
          "base_uri": "https://localhost:8080/"
        },
        "id": "fSzlYVCZ075Z",
        "outputId": "b31e073e-b836-4062-d7b5-d9ccd712afe1"
      },
      "source": [
        "n = 2325781\n",
        "prime_factors(2325781)"
      ],
      "execution_count": null,
      "outputs": [
        {
          "output_type": "execute_result",
          "data": {
            "text/plain": [
              "[523, 4447]"
            ]
          },
          "metadata": {
            "tags": []
          },
          "execution_count": 50
        }
      ]
    },
    {
      "cell_type": "code",
      "metadata": {
        "id": "oFdTqHOG1K7L"
      },
      "source": [
        "p, q = prime_factors(2325781)[0], prime_factors(2325781)[1]"
      ],
      "execution_count": null,
      "outputs": []
    },
    {
      "cell_type": "markdown",
      "metadata": {
        "id": "vplOhCc_1tMi"
      },
      "source": [
        "각 소인수가 $4k+3$꼴이므로 수업에 설명한 방식대로 $x_1 \\equiv y^{(p+1)/4} \\pmod{p}$라 하면 $\\pm x_1$가 $x^2 \\equiv y (혹은 -y) \\pmod{p}$의 두 해가 됩니다.\n",
        "\n",
        "이것과 중국인 나머지 정리를 이용하여 모든 제곱근을 구해봅시다."
      ]
    },
    {
      "cell_type": "code",
      "metadata": {
        "colab": {
          "base_uri": "https://localhost:8080/"
        },
        "id": "A3A9_dKy2iBi",
        "outputId": "3ca8cde2-afa9-4d1c-db57-5712d9de2e54"
      },
      "source": [
        "y = 1522756\n",
        "x1 = Modular_power(y, (p+1)/4, p)\n",
        "x2 = Modular_power(y, (q+1)/4, q)\n",
        "#print(x1, x2)\n",
        "a1, a2, a3, a4 = CRT(p, q, x1, x2), CRT(p, q, x1, -x2), CRT(p, q, -x1, x2), CRT(p, q, -x1, -x2)\n",
        "print(a1, a2, a3, a4)"
      ],
      "execution_count": null,
      "outputs": [
        {
          "output_type": "stream",
          "text": [
            "437040 2324547 1234 1888741\n"
          ],
          "name": "stdout"
        }
      ]
    },
    {
      "cell_type": "code",
      "metadata": {
        "colab": {
          "base_uri": "https://localhost:8080/"
        },
        "id": "S04KpnOW3PRi",
        "outputId": "f91bfa8b-9926-4bca-a381-7d7ef3e5bea2"
      },
      "source": [
        "print(a1**2 %n, a2**2 %n, a3**2 %n, a4**2 %n)\n",
        "# 검산해봅시다"
      ],
      "execution_count": null,
      "outputs": [
        {
          "output_type": "stream",
          "text": [
            "1522756 1522756 1522756 1522756\n"
          ],
          "name": "stdout"
        }
      ]
    },
    {
      "cell_type": "markdown",
      "metadata": {
        "id": "-Rybb_G3o3MX"
      },
      "source": [
        "## Jacobi 기호의 계산\n",
        "Jacobi 기호 $(m/n)$를 계산하는 함수 `Jacobi_Symbol(m, n)`를 작성해봅시다.\n",
        "\n",
        "강의에서 설명한 정리 중 다음 두가지가 중요하게 사용됩니다.\n",
        "$$(2/𝑛)=\\begin{cases}\n",
        "1, & 𝑛≡±1 \\pmod{8} \\\\ \n",
        "−1,& 𝑛≡±3 \\pmod{8}\n",
        "\\end{cases}\n",
        "$$\n",
        "$$\n",
        "(m/n)=\n",
        "\\begin{cases}\n",
        "−(𝑛/𝑚), & 𝑚≡𝑛≡3 \\pmod{4} \\\\\n",
        "+(𝑛/𝑚), & 그 외\n",
        "\\end{cases}\n",
        "$$\n",
        "\n"
      ]
    },
    {
      "cell_type": "code",
      "metadata": {
        "id": "8JQFnSoErB4V"
      },
      "source": [
        "def Jacobi_Symbol(m, n):\n",
        "  if n%2==0: # n이 홀수인지 확인\n",
        "    print(\"{}는 홀수이어야 합니다.\".format(n))\n",
        "    return\n",
        "  if m==1:\n",
        "    return 1\n",
        "  elif m%2==0:\n",
        "    if (n%8==1) or (n%8==7):\n",
        "      return Jacobi_Symbol(m//2, n)\n",
        "    else:\n",
        "      return -Jacobi_Symbol(m//2, n)\n",
        "  else:\n",
        "    if (m%4==3) and (n%4==3):\n",
        "      return -Jacobi_Symbol(n%m, m)\n",
        "    else:\n",
        "      return Jacobi_Symbol(n%m, m)\n",
        "  "
      ],
      "execution_count": null,
      "outputs": []
    },
    {
      "cell_type": "code",
      "metadata": {
        "colab": {
          "base_uri": "https://localhost:8080/"
        },
        "id": "OK7CbgLKtSdx",
        "outputId": "08aa7cb8-642e-40e6-9922-f4403e5284c2"
      },
      "source": [
        "Jacobi_Symbol(4567, 12345) # 확인해봅시다."
      ],
      "execution_count": null,
      "outputs": [
        {
          "output_type": "execute_result",
          "data": {
            "text/plain": [
              "-1"
            ]
          },
          "metadata": {
            "tags": []
          },
          "execution_count": 9
        }
      ]
    },
    {
      "cell_type": "code",
      "metadata": {
        "colab": {
          "base_uri": "https://localhost:8080/"
        },
        "id": "M1LpuRoXtUxf",
        "outputId": "e67a2b7c-5b1e-44d9-da0b-e1520831f0e5"
      },
      "source": [
        "Jacobi_Symbol(107, 137)"
      ],
      "execution_count": null,
      "outputs": [
        {
          "output_type": "execute_result",
          "data": {
            "text/plain": [
              "1"
            ]
          },
          "metadata": {
            "tags": []
          },
          "execution_count": 38
        }
      ]
    },
    {
      "cell_type": "markdown",
      "metadata": {
        "id": "nz2kj54rtZXp"
      },
      "source": [
        "### Numpy 다항식 연산, mod p\n",
        "\n",
        "Numpy 라이브러리의 명령어들을 이용하여 다항식들의 사칙연산을 수행해봅시다.\n",
        "\n",
        "출처: [Polynomials, Mod p, and Numpy](https://medium.com/asecuritysite-when-bob-met-alice/polynomials-mod-p-and-numpy-db461d0cd35c)"
      ]
    },
    {
      "cell_type": "code",
      "metadata": {
        "colab": {
          "base_uri": "https://localhost:8080/"
        },
        "id": "IQN5ZjZqzffM",
        "outputId": "7e4571f7-5689-47f1-9954-c108429cbafd"
      },
      "source": [
        "import numpy as np\n",
        "import sys\n",
        "\n",
        "q=13\n",
        "\n",
        "A=[5,4,1,11,10] # list형으로 만들면 되고 먼저 오는 원소가 최고차항의 계수입니다\n",
        "B=[3,5,2,4] \n",
        "\n",
        "'''\n",
        "if (len(sys.argv)>1):\n",
        "  A=list(eval(sys.argv[1]))\n",
        "if (len(sys.argv)>2):\n",
        "  B=list(eval(sys.argv[2]))\n",
        "'''\n",
        "\n",
        "\n",
        "print (\"A:\")\n",
        "print(np.poly1d(A)) # 이 명령을 이용해서 친숙한 다항식 형으로 표시\n",
        "print (\"B:\")\n",
        "print(np.poly1d(B))\n",
        "\n",
        "\n",
        "\n",
        "print (\"\\n\\n====== A+B =====\")\n",
        "res=np.polyadd(A,B) # 다항식의 합\n",
        "print(np.poly1d(res))\n",
        "\n",
        "res=np.polyadd(A,B)%q # 다항식의 합 (법 q)\n",
        "\n",
        "print (\"\\nA+B (mod\",q,\"):\") \n",
        "print(np.poly1d(res))\n",
        "\n",
        "\n",
        "print (\"\\n\\n====== A*B =====\")\n",
        "res=np.polymul(A,B) # 다항식 곱\n",
        "print(np.poly1d(res))\n",
        "\n",
        "res=np.polymul(A,B)%q # 다항식 곱 (법 q)\n",
        "\n",
        "print (\"\\n\\nA*B (mod\",q,\"):\")\n",
        "print(np.poly1d(res))\n",
        "\n",
        "\n",
        "\n",
        "print (\"\\n\\n====== A-B =====\")\n",
        "res=np.polysub(A,B) # 다항식의 차\n",
        "\n",
        "print(np.poly1d(res))\n",
        "\n",
        "res=np.polysub(A,B)%q # 다항식의 차 (법 q)\n",
        " \n",
        "print (\"\\n\\nA-B (mod\",q,\"):\")\n",
        "print(np.poly1d(res))\n",
        "\n",
        "print (\"\\n\\nA/B =====\")\n",
        "\n",
        "res=np.floor(np.polydiv(A,B)[0]) # 다항식 나눗셈의 몫\n",
        "print(\"Divide:\\n\",np.poly1d(res))\n",
        "\n",
        "res=np.floor(np.polydiv(A,B)[1]) # 다항식 나눗셈의 나머지\n",
        "print(\"Remainder:\\n\",np.poly1d(res))\n",
        "\n",
        "res=np.floor(np.polydiv(A,B)[0])%q\n",
        "print (\"\\n\\nA div B (mod\",q,\"):\")\n",
        "print(np.poly1d(res))\n",
        "\n",
        "\n",
        "print(\"\\n\\nA div B (mod {0} ):\".format(q))\n",
        "\n",
        "print(np.poly1d(res))\n"
      ],
      "execution_count": null,
      "outputs": [
        {
          "output_type": "stream",
          "text": [
            "A:\n",
            "   4     3     2\n",
            "5 x + 4 x + 1 x + 11 x + 10\n",
            "B:\n",
            "   3     2\n",
            "3 x + 5 x + 2 x + 4\n",
            "\n",
            "\n",
            "====== A+B =====\n",
            "   4     3     2\n",
            "5 x + 7 x + 6 x + 13 x + 14\n",
            "\n",
            "A+B (mod 13 ):\n",
            "   4     3     2\n",
            "5 x + 7 x + 6 x + 1\n",
            "\n",
            "\n",
            "====== A*B =====\n",
            "    7      6      5      4       3      2\n",
            "15 x + 37 x + 33 x + 66 x + 103 x + 76 x + 64 x + 40\n",
            "\n",
            "\n",
            "A*B (mod 13 ):\n",
            "   7      6     5     4      3      2\n",
            "2 x + 11 x + 7 x + 1 x + 12 x + 11 x + 12 x + 1\n",
            "\n",
            "\n",
            "====== A-B =====\n",
            "   4     3     2\n",
            "5 x + 1 x - 4 x + 9 x + 6\n",
            "\n",
            "\n",
            "A-B (mod 13 ):\n",
            "   4     3     2\n",
            "5 x + 1 x + 9 x + 9 x + 6\n",
            "\n",
            "\n",
            "A/B =====\n",
            "Divide:\n",
            "  \n",
            "1 x - 2\n",
            "Remainder:\n",
            "    2\n",
            "4 x + 7 x + 15\n",
            "\n",
            "\n",
            "A div B (mod 13 ):\n",
            " \n",
            "1 x + 11\n",
            "\n",
            "\n",
            "A div B (mod 13 ):\n",
            " \n",
            "1 x + 11\n"
          ],
          "name": "stdout"
        }
      ]
    },
    {
      "cell_type": "markdown",
      "metadata": {
        "id": "nvd6UQmb6w7j"
      },
      "source": [
        "### 실습문제\n",
        "1. $Z_q[x] \\pmod{P=P(x)}$에서 다항식 $f=f(x)$의 $n$ 거듭제곱을 계산하는 함수 `polyExpo(f, n, P)`을 작성하여라.\n",
        "\n",
        "2. $Z_2[x]$에서 $x^4+x+1$이 기약이다. $Z_2[x] \\pmod{x^4+x+1}$에서 $x$의 위수를 구하고 $x$의 거듭제곱으로 생성되는 원소를 모두 구하여라."
      ]
    },
    {
      "cell_type": "code",
      "metadata": {
        "colab": {
          "base_uri": "https://localhost:8080/"
        },
        "id": "Hx7QonDe7NFS",
        "outputId": "a1fcd301-ab77-4af0-bed8-f2c2efd2327e"
      },
      "source": [
        "import numpy as np\n",
        "import sys\n",
        "\n",
        "q=2\n",
        "\n",
        "def polyExpo(f, n, P):\n",
        "  f1 = 1\n",
        "  for i in range(n):\n",
        "    f1 = np.polydiv(np.polymul(f1,f)%q, P)[1]%q\n",
        "  return f1\n",
        "\n",
        "P=[1, 0, 0, 1, 1]\n",
        "X = [1, 0]\n",
        "'''\n",
        "for i in range(2, q**4):\n",
        "  if np.poly1d(polyExpo(X, i, P))==1:\n",
        "    print(i)\n",
        "    break\n",
        "'''\n",
        "for i in range(2, q**4):\n",
        "#  print(polyExpo(X, i, P))\n",
        "  print(i, \":\")\n",
        "  print(np.poly1d(polyExpo(X, i, P)))\n"
      ],
      "execution_count": null,
      "outputs": [
        {
          "output_type": "stream",
          "text": [
            "2 :\n",
            "   2\n",
            "1 x\n",
            "3 :\n",
            "   3\n",
            "1 x\n",
            "4 :\n",
            " \n",
            "1 x + 1\n",
            "5 :\n",
            "   2\n",
            "1 x + 1 x\n",
            "6 :\n",
            "   3     2\n",
            "1 x + 1 x\n",
            "7 :\n",
            "   3\n",
            "1 x + 1 x + 1\n",
            "8 :\n",
            "   2\n",
            "1 x + 1\n",
            "9 :\n",
            "   3\n",
            "1 x + 1 x\n",
            "10 :\n",
            "   2\n",
            "1 x + 1 x + 1\n",
            "11 :\n",
            "   3     2\n",
            "1 x + 1 x + 1 x\n",
            "12 :\n",
            "   3     2\n",
            "1 x + 1 x + 1 x + 1\n",
            "13 :\n",
            "   3     2\n",
            "1 x + 1 x + 1\n",
            "14 :\n",
            "   3\n",
            "1 x + 1\n",
            "15 :\n",
            " \n",
            "1\n"
          ],
          "name": "stdout"
        }
      ]
    },
    {
      "cell_type": "markdown",
      "metadata": {
        "id": "W3fZQurNFRgJ"
      },
      "source": [
        "## 연분수\n"
      ]
    },
    {
      "cell_type": "markdown",
      "metadata": {
        "id": "u9Sv9rbjKy-z"
      },
      "source": [
        "분수 $a/b$를 연분수(continued fraction)로 바꿔서 list 형으로 반환하는 함수 `Fraction_to_CF(a, b)`를 작성해봅시다."
      ]
    },
    {
      "cell_type": "code",
      "metadata": {
        "id": "Uru1iwy8LPI8"
      },
      "source": [
        "def Fraction_to_CF(a, b):\n",
        "  if b==0:\n",
        "    return []\n",
        "  return [a//b]+Fraction_to_CF(b, a%b)"
      ],
      "execution_count": null,
      "outputs": []
    },
    {
      "cell_type": "code",
      "metadata": {
        "colab": {
          "base_uri": "https://localhost:8080/"
        },
        "id": "QJq9Tqx3M40M",
        "outputId": "7c58cbf7-a5d5-4a6c-f7c7-503a0e580790"
      },
      "source": [
        "Fraction_to_CF(12345,11111)  # 확인해봅시다"
      ],
      "execution_count": null,
      "outputs": [
        {
          "output_type": "execute_result",
          "data": {
            "text/plain": [
              "[1, 9, 246, 1, 4]"
            ]
          },
          "metadata": {
            "tags": []
          },
          "execution_count": 11
        }
      ]
    },
    {
      "cell_type": "markdown",
      "metadata": {
        "id": "GdP2DInhM8T7"
      },
      "source": [
        "이번에는 반대로 연분수 (list)를 분수 $a/b$로 바꿔서 순서쌍 `(a, b)`로 반환하는 함수 `CF_to_Fraction(l)`를 작성해봅시다"
      ]
    },
    {
      "cell_type": "code",
      "metadata": {
        "id": "NlZmm57ENmj7"
      },
      "source": [
        "def CF_to_Fraction(l):\n",
        "  if len(l)==1:\n",
        "    return (l[0], 1)\n",
        "  q = l[0]\n",
        "  a1, b1 = CF_to_Fraction(l[1::])\n",
        "  return (q*a1+b1, a1)\n"
      ],
      "execution_count": null,
      "outputs": []
    },
    {
      "cell_type": "code",
      "metadata": {
        "colab": {
          "base_uri": "https://localhost:8080/"
        },
        "id": "jdRgJjQZP2eQ",
        "outputId": "691e06af-330c-4fe3-f4be-33524b846395"
      },
      "source": [
        "CF_to_Fraction([1, 9, 246, 1, 4])"
      ],
      "execution_count": null,
      "outputs": [
        {
          "output_type": "execute_result",
          "data": {
            "text/plain": [
              "(12345, 11111)"
            ]
          },
          "metadata": {
            "tags": []
          },
          "execution_count": 17
        }
      ]
    },
    {
      "cell_type": "markdown",
      "metadata": {
        "id": "HWhqjNnKP6G7"
      },
      "source": [
        "혹은 다음과 같은 점화식으로 바로 구할 수도 있습니다.\n",
        "$$\n",
        "p_{-2}=0, q_{-2}=1, p_{-1}=1, q_{-1}=0, \\\\\n",
        "p_{n+1}=a_{n+1}p_n+p_{n-1}, \\\\\n",
        "q_{n+1}=a_{n+1}q_n+q_{n-1}\n",
        "$$"
      ]
    },
    {
      "cell_type": "code",
      "metadata": {
        "id": "hLccgVbHRr8F"
      },
      "source": [
        "def CF_to_Fraction2(l):\n",
        "  p1, q1, p2, q2 = 0, 1, 1, 0\n",
        "  for a in l:\n",
        "    p2, p1 = a*p2+p1, p2\n",
        "    q2, q1 = a*q2+q1, q2\n",
        "  return p2, q2\n"
      ],
      "execution_count": null,
      "outputs": []
    },
    {
      "cell_type": "code",
      "metadata": {
        "colab": {
          "base_uri": "https://localhost:8080/"
        },
        "id": "BkEE3B1hTiVl",
        "outputId": "6465b87c-edbc-4ef6-cc96-9b0ecd4b0299"
      },
      "source": [
        "CF_to_Fraction2([3, 7, 15, 1])"
      ],
      "execution_count": null,
      "outputs": [
        {
          "output_type": "execute_result",
          "data": {
            "text/plain": [
              "(355, 113)"
            ]
          },
          "metadata": {
            "tags": []
          },
          "execution_count": 22
        }
      ]
    },
    {
      "cell_type": "code",
      "metadata": {
        "id": "nK8ErP-TTj-7"
      },
      "source": [
        ""
      ],
      "execution_count": null,
      "outputs": []
    },
    {
      "cell_type": "markdown",
      "metadata": {
        "id": "ktm2hqWyVPPx"
      },
      "source": [
        "이차무리수의 연분수 전개를 구하는 함수를 작성해봅시다."
      ]
    },
    {
      "cell_type": "code",
      "metadata": {
        "colab": {
          "base_uri": "https://localhost:8080/"
        },
        "id": "zN0y4Q4NVTVZ",
        "outputId": "427351c1-643e-4ff5-fbc2-86bc670a5201"
      },
      "source": [
        "a=19**.5   # 출처: https://codegolf.stackexchange.com/questions/6401/determining-the-continued-fractions-of-square-roots\n",
        "D=c=int(a);b=[]\n",
        "while c!=D*2:a=1/(a%1);c=int(a);b+=[c]\n",
        "print(D,\";%s;\"%str(b)[1:-1])"
      ],
      "execution_count": null,
      "outputs": [
        {
          "output_type": "stream",
          "text": [
            "4 ;2, 1, 3, 1, 2, 8;\n"
          ],
          "name": "stdout"
        }
      ]
    },
    {
      "cell_type": "code",
      "metadata": {
        "colab": {
          "base_uri": "https://localhost:8080/"
        },
        "id": "DveNa6q7bfSJ",
        "outputId": "e835caa9-804c-434f-e95a-fccd14f8bbc3"
      },
      "source": [
        "7**.5"
      ],
      "execution_count": null,
      "outputs": [
        {
          "output_type": "execute_result",
          "data": {
            "text/plain": [
              "2.6457513110645907"
            ]
          },
          "metadata": {
            "tags": []
          },
          "execution_count": 33
        }
      ]
    },
    {
      "cell_type": "code",
      "metadata": {
        "id": "r2kJPAdsbglB"
      },
      "source": [
        "def real_to_CF(a, N): # 소수점 계산시 오차가 점점 커져서 주어진 N번째 항까지만 계산\n",
        "  L=[]\n",
        "  for i in range(N):\n",
        "    r = int(a)\n",
        "    L = L+[r]\n",
        "    if r == a: \n",
        "      break\n",
        "    a = 1/(a-r)\n",
        "  return L"
      ],
      "execution_count": null,
      "outputs": []
    },
    {
      "cell_type": "code",
      "metadata": {
        "colab": {
          "base_uri": "https://localhost:8080/"
        },
        "id": "TyvFmhWRdab8",
        "outputId": "dbae19c5-823c-4a3a-ce9a-7813152cbd94"
      },
      "source": [
        "a=7**0.5\n",
        "N=20\n",
        "real_to_CF(a, N)"
      ],
      "execution_count": null,
      "outputs": [
        {
          "output_type": "execute_result",
          "data": {
            "text/plain": [
              "[2, 1, 1, 1, 4, 1, 1, 1, 4, 1, 1, 1, 4, 1, 1, 1, 4, 1, 1, 1]"
            ]
          },
          "metadata": {
            "tags": []
          },
          "execution_count": 58
        }
      ]
    },
    {
      "cell_type": "markdown",
      "metadata": {
        "id": "s-x4OcoJfQqm"
      },
      "source": [
        "계산한 이차무리수 $\\sqrt{d}$의 연분수로부터 $x^2 - dy^2=1$의 해를 찾아봅시다"
      ]
    },
    {
      "cell_type": "code",
      "metadata": {
        "colab": {
          "base_uri": "https://localhost:8080/"
        },
        "id": "26qj1EaGdcih",
        "outputId": "94f1a1bd-85e1-44a3-8e8c-de0fe8a2ffa5"
      },
      "source": [
        "d = 19\n",
        "N = 30\n",
        "L=real_to_CF(d**0.5, N)\n",
        "for i in range(1, len(L)):\n",
        "  x,y = CF_to_Fraction(L[:i])\n",
        "  #print(x, y)\n",
        "  print(\"{}**2-{}*{}**2={}\".format(x, d, y, x**2-d*y**2))\n",
        "  if x**2-d*y**2==1:\n",
        "    break\n",
        "  "
      ],
      "execution_count": null,
      "outputs": [
        {
          "output_type": "stream",
          "text": [
            "4**2-19*1**2=-3\n",
            "9**2-19*2**2=5\n",
            "13**2-19*3**2=-2\n",
            "48**2-19*11**2=5\n",
            "61**2-19*14**2=-3\n",
            "170**2-19*39**2=1\n"
          ],
          "name": "stdout"
        }
      ]
    },
    {
      "cell_type": "markdown",
      "metadata": {
        "id": "Ien6YTKhqom4"
      },
      "source": [
        "$x^2 - dy^2=1$의 해 한쌍 $(x_1, y_1)$을 찾았다면, $(x_{n+1}+ y_{n+1} \\sqrt{d}):=(x_1 + y_1 \\sqrt{d})^{n+1}=(x_{n}+ y_{n} \\sqrt{d})(x_1 + y_1 \\sqrt{d})$로부터 나오는 점화식을 이용해서 모든 해들을 구할 수 있습니다.\n",
        "\n",
        "$N$쌍의 추가해를 구해주는 함수 `Pell_Soluton(a, b, d, N)`을 작성해봅시다."
      ]
    },
    {
      "cell_type": "code",
      "metadata": {
        "id": "64cH_tFtr42p"
      },
      "source": [
        "def Pell_Soution(x1, y1, d, N):\n",
        "  xn, yn = x1, y1\n",
        "  for i in range(N):\n",
        "    xn, yn = xn*x1+d*yn*y1, x1*yn+xn*y1\n",
        "    print(\"{}, {}\".format(xn, yn))\n",
        "\n"
      ],
      "execution_count": null,
      "outputs": []
    },
    {
      "cell_type": "code",
      "metadata": {
        "colab": {
          "base_uri": "https://localhost:8080/"
        },
        "id": "-fwUpUARtErl",
        "outputId": "a6607fe8-66c5-4e37-80f1-7febf4782234"
      },
      "source": [
        "Pell_Soution(170, 39, 19, 10)"
      ],
      "execution_count": null,
      "outputs": [
        {
          "output_type": "stream",
          "text": [
            "57799, 13260\n",
            "19651490, 4508361\n",
            "6681448801, 1532829480\n",
            "2271672940850, 521157514839\n",
            "772362118440199, 177192022215780\n",
            "262600848596726810, 60244766395850361\n",
            "89283516160768675201, 20483043382566906960\n",
            "30356132893812752841530, 6964174505306352516039\n",
            "10320995900380175197444999, 2367798848760777288546300\n",
            "3509108249996365754378458130, 805044644404158971753225961\n"
          ],
          "name": "stdout"
        }
      ]
    },
    {
      "cell_type": "markdown",
      "metadata": {
        "id": "pg3EqkfVtHXx"
      },
      "source": [
        "### 실습문제\n",
        "위의 코드를 참고하여 펠의 방정식 $x^2 - 31*y^2=1$의 해 5쌍을 찾아보세요\n"
      ]
    },
    {
      "cell_type": "code",
      "metadata": {
        "colab": {
          "base_uri": "https://localhost:8080/"
        },
        "id": "Ap_SqT5S4alr",
        "outputId": "d2d44f2a-1020-4115-ac09-dc6e2d32954d"
      },
      "source": [
        "d = 31\n",
        "N = 30\n",
        "L=real_to_CF(d**0.5, N)\n",
        "for i in range(1, len(L)):\n",
        "  x,y = CF_to_Fraction(L[:i])\n",
        "  #print(x, y)\n",
        "  print(\"{}**2-{}*{}**2={}\".format(x, d, y, x**2-d*y**2))\n",
        "  if x**2-d*y**2==1:\n",
        "    break\n",
        "  "
      ],
      "execution_count": null,
      "outputs": [
        {
          "output_type": "stream",
          "text": [
            "5**2-31*1**2=-6\n",
            "6**2-31*1**2=5\n",
            "11**2-31*2**2=-3\n",
            "39**2-31*7**2=2\n",
            "206**2-31*37**2=-3\n",
            "657**2-31*118**2=5\n",
            "863**2-31*155**2=-6\n",
            "1520**2-31*273**2=1\n"
          ],
          "name": "stdout"
        }
      ]
    },
    {
      "cell_type": "code",
      "metadata": {
        "colab": {
          "base_uri": "https://localhost:8080/"
        },
        "id": "dAh-Rqdq4jWK",
        "outputId": "520d4ee2-7f6d-4178-d716-3a6a1ea426c5"
      },
      "source": [
        "Pell_Soution(1520, 273, 31, 4)"
      ],
      "execution_count": null,
      "outputs": [
        {
          "output_type": "stream",
          "text": [
            "4620799, 829920\n",
            "14047227440, 2522956527\n",
            "42703566796801, 7669787012160\n",
            "129818829015047600, 23316149994009873\n"
          ],
          "name": "stdout"
        }
      ]
    },
    {
      "cell_type": "markdown",
      "metadata": {
        "id": "VFquQpVRExyL"
      },
      "source": [
        "numpy 라이브러리를 이용하여 법 101에서 $M=\n",
        "\\left[\n",
        "\\begin{matrix}\n",
        "1 & 2 & 4 \\\\ \n",
        "1 & 5 & 25 \\\\\n",
        "1 & 14 & 196 \n",
        "\\end{matrix}\n",
        "\\right]$역행렬을 구해봅시다.\n",
        "\n",
        "* 행렬 A의 행렬식(determinant): `numpy.linalg.det(A)`\n",
        "* A의 역행렬: `numpy.linalg.inv(A)`\n",
        "* 위 연산의 결과는 성분이 실수인 행렬이 되는데, `round()` 와 같은 명령으로 정수형 행렬로 변환. (주의: int(1.99999)는 1이됨)"
      ]
    },
    {
      "cell_type": "code",
      "metadata": {
        "colab": {
          "base_uri": "https://localhost:8080/"
        },
        "id": "vhCPWu0CFF5L",
        "outputId": "85f7c4cb-d604-45fe-ac93-f7a01ebbb7e9"
      },
      "source": [
        "import numpy as np\n",
        "\n",
        "M=[[1, 2, 4], [1, 5, 25], [1, 14, 196]]\n",
        "det = round(np.linalg.det(M))\n",
        "det_inv = Modular_inv(det, 101)\n",
        "adjMatrix= det*np.linalg.inv(M)\n",
        "invMatrix = [[0] * 3 for i in range(3)] \n",
        "\n",
        "for i in range(3):\n",
        "  for j in range(3):\n",
        "    invMatrix[i][j] = (round(adjMatrix[i][j])*det_inv) % 101\n",
        "\n",
        "print(invMatrix)"
      ],
      "execution_count": null,
      "outputs": [
        {
          "output_type": "stream",
          "text": [
            "[[30, 85, 88], [64, 38, 100], [87, 86, 29]]\n"
          ],
          "name": "stdout"
        }
      ]
    },
    {
      "cell_type": "code",
      "metadata": {
        "colab": {
          "base_uri": "https://localhost:8080/"
        },
        "id": "AqtsEuykHdVs",
        "outputId": "55faf5e1-f6c0-48d7-be30-5eb45db22852"
      },
      "source": [
        "np.matmul(M, invMatrix) % 101\n",
        " # 여기서 검산해봅시다."
      ],
      "execution_count": null,
      "outputs": [
        {
          "output_type": "execute_result",
          "data": {
            "text/plain": [
              "array([[1, 0, 0],\n",
              "       [0, 1, 0],\n",
              "       [0, 0, 1]])"
            ]
          },
          "metadata": {
            "tags": []
          },
          "execution_count": 87
        }
      ]
    }
  ]
}
