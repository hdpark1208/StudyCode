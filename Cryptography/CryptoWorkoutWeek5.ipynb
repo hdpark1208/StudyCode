{
  "nbformat": 4,
  "nbformat_minor": 0,
  "metadata": {
    "colab": {
      "name": "CryptoWorkoutWeek5.ipynb",
      "provenance": [],
      "collapsed_sections": [],
      "include_colab_link": true
    },
    "kernelspec": {
      "name": "python3",
      "display_name": "Python 3"
    },
    "language_info": {
      "name": "python"
    }
  },
  "cells": [
    {
      "cell_type": "markdown",
      "metadata": {
        "id": "view-in-github",
        "colab_type": "text"
      },
      "source": [
        "<a href=\"https://colab.research.google.com/github/hdpark1208/StudyCode/blob/main/CryptoWorkoutWeek5.ipynb\" target=\"_parent\"><img src=\"https://colab.research.google.com/assets/colab-badge.svg\" alt=\"Open In Colab\"/></a>"
      ]
    },
    {
      "cell_type": "markdown",
      "metadata": {
        "id": "1E9cqa-lRrFL"
      },
      "source": [
        "## 소수 정리의 활용\n",
        "100자리 소수의 개수 구하기: \n",
        "$𝜋(10^{100} )−𝜋(10^{99} )≈10^{100}/ln⁡(10^{100} ) −10^{99}/ln⁡(10^{99} ) ≈3.9×10^{97}$\n",
        "\n",
        "numpy의 log()함수를 이용해 계산해봅시다.\n",
        "미리 정리해서 좀 더 간단하게 바꾸어 계산합니다.  $10^{99}(10/ln(10^{100}) - 1/ln(10^{99})) = 10^{99}(1/10ln(10) - 1/99ln(10))\n",
        "= 10^{99}(89/990)1/ln(10) $ "
      ]
    },
    {
      "cell_type": "code",
      "metadata": {
        "id": "8RizP7dMTWQH"
      },
      "source": [
        "import numpy as np"
      ],
      "execution_count": null,
      "outputs": []
    },
    {
      "cell_type": "code",
      "metadata": {
        "colab": {
          "base_uri": "https://localhost:8080/"
        },
        "id": "qhWTkBekTYIw",
        "outputId": "2fb6b7d4-267f-46e1-bbdd-e8df01796bea"
      },
      "source": [
        "89/(990*np.log(10))"
      ],
      "execution_count": null,
      "outputs": [
        {
          "output_type": "execute_result",
          "data": {
            "text/plain": [
              "0.03904263524180748"
            ]
          },
          "metadata": {
            "tags": []
          },
          "execution_count": 4
        }
      ]
    },
    {
      "cell_type": "markdown",
      "metadata": {
        "id": "8EUj31w7ECtS"
      },
      "source": [
        "### 실습문제: 소수 정리\n",
        "소수 정리를 이용하여 자리수가 1000자리인 소수의 개수의 근사값을 구하시오."
      ]
    },
    {
      "cell_type": "code",
      "metadata": {
        "id": "9P3dPaz9FaQD"
      },
      "source": [
        "# 필요하면 이 셀을 이용하세요"
      ],
      "execution_count": null,
      "outputs": []
    },
    {
      "cell_type": "markdown",
      "metadata": {
        "id": "35COxg-FTwin"
      },
      "source": [
        "## 유클리드 호젯법\n",
        "\n",
        "1주차에 작성했던 유클리드 호젯법 코드를 수정해서 최대공약수와 함께 $ax+by = (a, b)$를 만족시키는 정수 $x, y$도 반환하는 함수로 확장해봅시다.\n",
        "\n",
        "참조: [Euclidean algorithms (Basic and Extended)](https://www.geeksforgeeks.org/euclidean-algorithms-basic-and-extended/)"
      ]
    },
    {
      "cell_type": "code",
      "metadata": {
        "id": "lkxil1-uUUfi"
      },
      "source": [
        "def GCD(a,b): # 이번엔 재귀적으로 (함수 정의에 다시 자신을 호출하는 방식) 작성한 버전입니다\n",
        "  if b == 0:\n",
        "    return a       \n",
        "#  print(\"{}={}*{}+{}\".format(a, a//b, b, a%b))\n",
        "  return GCD(b, a%b) "
      ],
      "execution_count": null,
      "outputs": []
    },
    {
      "cell_type": "code",
      "metadata": {
        "id": "yCYNERjFbO8i"
      },
      "source": [
        "GCD(1180, 482) # 확인해봅시다"
      ],
      "execution_count": null,
      "outputs": []
    },
    {
      "cell_type": "code",
      "metadata": {
        "id": "C4E77d_JbSwY"
      },
      "source": [
        "def Extended_GCD(a,b):\n",
        "  if b == 0:\n",
        "    return ????        #  이 부분을 완성하세요\n",
        "  gcd, x1, y1 = Extended_GCD(b, a%b) \n",
        "  x = ???  # 이 부분을 완성해봅시다\n",
        "  y = ???  # 이 부분을 완성해봅시다\n",
        "#  print(\"{}={}*({})+{}*({})\".format(gcd, a, x, b, y))  # 나눗셈 정리를 눈으로 보고 싶으면 사용\n",
        "  return gcd, x, y"
      ],
      "execution_count": null,
      "outputs": []
    },
    {
      "cell_type": "code",
      "metadata": {
        "id": "iR3uklDJcd6N"
      },
      "source": [
        "Extended_GCD(1180, 482)"
      ],
      "execution_count": null,
      "outputs": []
    },
    {
      "cell_type": "markdown",
      "metadata": {
        "id": "rPcDE6uGEvty"
      },
      "source": [
        "### 실습문제\n",
        "1. $gcd(8765, 23485)$를 구하시오.\n",
        "2. $65537x+3511y=1$를 만족시키는 정수 $x, y$를 한 쌍 구하시오"
      ]
    },
    {
      "cell_type": "code",
      "metadata": {
        "id": "JlWXN7cCFemL"
      },
      "source": [
        "Extended_GCD(8765,23485) # 필요하면 이 셀을 이용하세요"
      ],
      "execution_count": null,
      "outputs": []
    },
    {
      "cell_type": "code",
      "metadata": {
        "id": "Ke6-3zoNKUvS"
      },
      "source": [
        "Extended_GCD(65537, 3511)"
      ],
      "execution_count": null,
      "outputs": []
    },
    {
      "cell_type": "markdown",
      "metadata": {
        "id": "8GHYsR6je87t"
      },
      "source": [
        "## $a^{-1} (mod n)$ 구하기"
      ]
    },
    {
      "cell_type": "code",
      "metadata": {
        "id": "I4GRSkm_fKto"
      },
      "source": [
        "def Modular_inv(a, n):\n",
        "  if GCD(a, n) != 1:\n",
        "    print(\"{}와 {}은 서로 소가 아닙니다\".format(a, n))\n",
        "    return\n",
        "  return Extended_GCD(a, n)[???]  #  순서쌍에서 몇번째 값이 필요할까요?"
      ],
      "execution_count": null,
      "outputs": []
    },
    {
      "cell_type": "code",
      "metadata": {
        "id": "_CF5l3O6f93j"
      },
      "source": [
        "Modular_inv(13, 2021)"
      ],
      "execution_count": null,
      "outputs": []
    },
    {
      "cell_type": "markdown",
      "metadata": {
        "id": "KmbO7m7KGTsT"
      },
      "source": [
        "### 실습문제\n",
        "`Modular_inv(314, 11111)`을 이용하여\n",
        "합동식 $314x \\equiv 271 (mod 11111)$를 풀어라"
      ]
    },
    {
      "cell_type": "code",
      "metadata": {
        "id": "JBKwIpnGKhFs"
      },
      "source": [
        ""
      ],
      "execution_count": null,
      "outputs": []
    },
    {
      "cell_type": "code",
      "metadata": {
        "colab": {
          "base_uri": "https://localhost:8080/"
        },
        "id": "8oHGomIFKvY4",
        "outputId": "daa4e96b-839e-4a56-d0c3-3c50f381d3a2"
      },
      "source": [
        "(314*???) % 11111 # 위에서 구한 해를 확인해봅시다"
      ],
      "execution_count": null,
      "outputs": [
        {
          "output_type": "execute_result",
          "data": {
            "text/plain": [
              "271"
            ]
          },
          "metadata": {
            "tags": []
          },
          "execution_count": 17
        }
      ]
    },
    {
      "cell_type": "markdown",
      "metadata": {
        "id": "ik0_h_IGhGAX"
      },
      "source": [
        "## 중국인 나머지 정리\n",
        "$x \\equiv a (mod m), x \\equiv b (mod n)$\n",
        "의 해 구하기\n",
        "\n",
        "\n"
      ]
    },
    {
      "cell_type": "code",
      "metadata": {
        "id": "s5sUgO8UhaPj"
      },
      "source": [
        "def CRT(m, n, a, b): # m, n으로 나눈 나머지가 각각 a, b인 정수 (법 mn에 대해 유일) \n",
        "  if GCD(m, n) != 1:\n",
        "    print(\"{}와 {}는 서로 소이어야 합니다\".format(m, n))\n",
        "    return\n",
        "  return (a*n*Modular_inv(n, m)+b*m*Modular_inv(m, n)) % (m*n)"
      ],
      "execution_count": null,
      "outputs": []
    },
    {
      "cell_type": "code",
      "metadata": {
        "colab": {
          "base_uri": "https://localhost:8080/"
        },
        "id": "rRwQLVe4h4B_",
        "outputId": "38d1d028-4f65-45eb-edbe-d0c861fdde8a"
      },
      "source": [
        "CRT(3, 5, 2, 3)"
      ],
      "execution_count": null,
      "outputs": [
        {
          "output_type": "execute_result",
          "data": {
            "text/plain": [
              "8"
            ]
          },
          "metadata": {
            "tags": []
          },
          "execution_count": 22
        }
      ]
    },
    {
      "cell_type": "markdown",
      "metadata": {
        "id": "ciSXT7-9Ge7o"
      },
      "source": [
        "### 실습문제\n",
        "1. 법 $m, n, l$에 대해 $a, b, c$와 합동인 (법 $m, n, l$에 대해 유일한) 정수 $x$를 반환하는 함수 `CRT2(m, n, l, a, b, c)`를 작성하여라.\n",
        "2. 위의 함수를 이용하여 101로 나눈 나머지가 17이고 201로 나눈 나머지가 18, 301로 나눈 나머지가 19인 양의 정수 10개를 구하여라.\n"
      ]
    },
    {
      "cell_type": "code",
      "metadata": {
        "id": "85SxaYnIHMgq"
      },
      "source": [
        "def CRT2(m, n, l, a, b, c):\n",
        "  if (GCD(m, n) != 1) or (GCD(n, l) != 1) or (GCD(l, m)!= 1):  \n",
        "    print(\"{}, {}, {} 중 어느 두 수도 서로 소이어야 합니다.\".format(m, n, l)) \n",
        "    return\n",
        "  return (????????) % (m*n*l) # 2개짜리 버전을 잘 이해한 후 작성해봅시다"
      ],
      "execution_count": null,
      "outputs": []
    },
    {
      "cell_type": "code",
      "metadata": {
        "id": "Xl8eJqH9HPxo"
      },
      "source": [
        "n = CRT2(101, 201, 301, 17, 18, 19) # "
      ],
      "execution_count": null,
      "outputs": []
    },
    {
      "cell_type": "code",
      "metadata": {
        "id": "kNibr0heL0_r"
      },
      "source": [
        "print(n%101, n%201, n%301) # 검산!"
      ],
      "execution_count": null,
      "outputs": []
    },
    {
      "cell_type": "markdown",
      "metadata": {
        "id": "x_9_TpATlv_o"
      },
      "source": [
        "## 법 n에서 거듭제곱 $a^m$ 계산하기\n",
        "\n",
        "1. 먼저 $m$을 2진법으로 표현하기 >> list 형으로\n",
        "2. 거듭제곱 계산하기"
      ]
    },
    {
      "cell_type": "code",
      "metadata": {
        "id": "zN7oItXlmOr0"
      },
      "source": [
        "def Num_to_Binary(m): # 이진법으로 바꿔주는 함수입니다\n",
        "  l = []\n",
        "  q = m\n",
        "  while q > 0:\n",
        "    r = q % 2\n",
        "    q = q // 2\n",
        "    l = l+[r]\n",
        "  return l"
      ],
      "execution_count": null,
      "outputs": []
    },
    {
      "cell_type": "code",
      "metadata": {
        "colab": {
          "base_uri": "https://localhost:8080/"
        },
        "id": "o42j46jlnTi5",
        "outputId": "caed7114-9355-45a6-ba4a-6df418e30be1"
      },
      "source": [
        "Num_to_Binary(10)[::-1]"
      ],
      "execution_count": null,
      "outputs": [
        {
          "output_type": "execute_result",
          "data": {
            "text/plain": [
              "[1, 0, 1, 0]"
            ]
          },
          "metadata": {
            "tags": []
          },
          "execution_count": 65
        }
      ]
    },
    {
      "cell_type": "markdown",
      "metadata": {
        "id": "Mzb6lKJSHvrz"
      },
      "source": [
        "### 실습문제\n",
        "주어진 (십진법) 자연수 $m$을 $b$진법으로 변환하는 함수 `Change_Base(m, b)`를 작성하여라."
      ]
    },
    {
      "cell_type": "code",
      "metadata": {
        "id": "-M0B4ZsDITM2"
      },
      "source": [
        "#"
      ],
      "execution_count": null,
      "outputs": []
    },
    {
      "cell_type": "markdown",
      "metadata": {
        "id": "vIg2ZhfmnVJi"
      },
      "source": [
        "Slicing을 이용하여 이진법으로 변환한 list를 역순으로 이용합니다."
      ]
    },
    {
      "cell_type": "code",
      "metadata": {
        "id": "YY-O231FoM9m"
      },
      "source": [
        "def Modular_power(a, m, n):\n",
        "  l = Num_to_Binary(m)[::-1]\n",
        "  x = 1\n",
        "  for i in l:\n",
        "                     # 언제 제곱하고 언제 a를 곱할지 잘 정해야 합니다\n",
        "\n",
        "\n",
        "  return x\n"
      ],
      "execution_count": null,
      "outputs": []
    },
    {
      "cell_type": "code",
      "metadata": {
        "id": "MblhdKc9q0Ve"
      },
      "source": [
        "Modular_power(2, 43210, 101)"
      ],
      "execution_count": null,
      "outputs": []
    },
    {
      "cell_type": "code",
      "metadata": {
        "id": "9lEUvLGLq4A9"
      },
      "source": [
        ""
      ],
      "execution_count": null,
      "outputs": []
    },
    {
      "cell_type": "markdown",
      "metadata": {
        "id": "Px5lklPzIVZO"
      },
      "source": [
        "### 실습문제\n",
        "$7^{(2^{100!})}+1$의 (십진법으로) 끝 5자리를 구하여라.\n",
        "\n",
        "(참고로 $7^{(3^{100!})}+1$은 암산으로 구할 수 있습니다)\n",
        "\n",
        "힌트: \n",
        "1. 오일러 정리\n",
        "2. 함수 `Modular_power()` 2번 사용\n",
        "3. 아래의 `factorial()` 명령어 사용\n"
      ]
    },
    {
      "cell_type": "code",
      "metadata": {
        "id": "xx2WsHE6Q0g6"
      },
      "source": [
        "def factorial(n):\n",
        "  if n < 0:\n",
        "    print(\"{}은 0 이상인 자연수이어야 합니다\")\n",
        "    return\n",
        "  factorial = 1\n",
        "  while n > 1:\n",
        "    factorial = factorial * n\n",
        "    n = n - 1\n",
        "  return factorial"
      ],
      "execution_count": null,
      "outputs": []
    },
    {
      "cell_type": "code",
      "metadata": {
        "id": "TBVilX48Q1d6"
      },
      "source": [
        "factorial(10) # 확인해봅시다"
      ],
      "execution_count": null,
      "outputs": []
    },
    {
      "cell_type": "code",
      "metadata": {
        "id": "NWBhDBZIIvjq"
      },
      "source": [
        "Modular_power()"
      ],
      "execution_count": null,
      "outputs": []
    },
    {
      "cell_type": "code",
      "metadata": {
        "id": "PTCSF5VhI7p7"
      },
      "source": [
        "Modular_power()"
      ],
      "execution_count": null,
      "outputs": []
    },
    {
      "cell_type": "code",
      "metadata": {
        "id": "c3f4fvkZMSbJ"
      },
      "source": [
        ""
      ],
      "execution_count": null,
      "outputs": []
    }
  ]
}
