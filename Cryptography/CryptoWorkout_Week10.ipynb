{
  "nbformat": 4,
  "nbformat_minor": 0,
  "metadata": {
    "colab": {
      "name": "CryptoWorkout_Week10.ipynb",
      "provenance": [],
      "collapsed_sections": [],
      "include_colab_link": true
    },
    "kernelspec": {
      "name": "python3",
      "display_name": "Python 3"
    },
    "language_info": {
      "name": "python"
    }
  },
  "cells": [
    {
      "cell_type": "markdown",
      "metadata": {
        "id": "view-in-github",
        "colab_type": "text"
      },
      "source": [
        "<a href=\"https://colab.research.google.com/github/hdpark1208/StudyCode/blob/main/CryptoWorkout_Week10.ipynb\" target=\"_parent\"><img src=\"https://colab.research.google.com/assets/colab-badge.svg\" alt=\"Open In Colab\"/></a>"
      ]
    },
    {
      "cell_type": "markdown",
      "metadata": {
        "id": "YOkpCbQdKyaV"
      },
      "source": [
        "# RSA 실습"
      ]
    },
    {
      "cell_type": "markdown",
      "metadata": {
        "id": "TvLWECEwCgDZ"
      },
      "source": [
        "## RSA 알고리즘\n",
        "1. 밥: 비밀 소수 $p, q$ 선택, $n=pq$ 계산\n",
        "2. 밥: $gcd(e, (p-1)(q-1))=1$인 $e$ 선택\n",
        "3. 밥: $de \\equiv 1 \\pmod{(p-1)(q-1)}$인 $d$ 계산\n",
        "4. 밥: $n, e$ 공개 $p, q, d$ 비밀유지\n",
        "5. 앨리스: 메시지 $m$을 $c \\equiv m^e \\pmod{n}$로 암호화 후, $c$를 밥에게 전달\n",
        "6. 밥: $m \\equiv c^d \\pmod{n}$로 메시지 복호화"
      ]
    },
    {
      "cell_type": "markdown",
      "metadata": {
        "id": "WlP9oMfBK2Ge"
      },
      "source": [
        "RSA 실제 사용을 위한 자료 링크: \n",
        "\n",
        " - pycryptodome 공식문서\n",
        "https://pycryptodome.readthedocs.io/en/latest/src/public_key/rsa.html\n",
        " - StackOverFlow 질의응답 : https://stackoverflow.com/questions/21327491/using-pycrypto-how-to-import-a-rsa-public-key-and-use-it-to-encrypt-a-string \n",
        "\n",
        "- 한글 블로그 https://comdoc.tistory.com/entry/%ED%8C%8C%EC%9D%B4%EC%8D%AC-%EC%95%94%ED%98%B8%ED%99%94"
      ]
    },
    {
      "cell_type": "markdown",
      "metadata": {
        "id": "kPbGG7ukOYt-"
      },
      "source": [
        "RSA 알고리즘을 위에 예전 실습(5주차)에서 만들었던 코드들을 몇개 가져왔습니다."
      ]
    },
    {
      "cell_type": "code",
      "metadata": {
        "id": "hZgDhyHXLD0O"
      },
      "source": [
        "def GCD(a,b):\n",
        "  if b == 0:\n",
        "    return a       \n",
        "  return GCD(b, a%b) \n",
        "\n",
        "def Extended_GCD(a,b):\n",
        "  if b == 0:\n",
        "    return a, 1, 0        #  GCD는 양수이므로 절대값 명령어 abs()를 사용\n",
        "  gcd, x1, y1 = Extended_GCD(b, a%b) \n",
        "  x = y1\n",
        "  y = x1 - (a//b)*y1 \n",
        "#  print(\"{}={}*({})+{}*({})\".format(gcd, a, x, b, y))  \n",
        "# 나눗셈 정리를 눈으로 보고 싶으면 사용\n",
        "  return gcd, x, y\n",
        "\n",
        "def Modular_inv(a, n):\n",
        "  if GCD(a, n) != 1:\n",
        "    print(\"{}와 {}은 서로 소가 아닙니다\".format(a, n))\n",
        "    return\n",
        "  return (Extended_GCD(a, n)[1] % n)\n",
        "\n",
        "def Num_to_Binary(m):\n",
        "  l = []\n",
        "  q = m\n",
        "  while q > 0:\n",
        "    r = q % 2\n",
        "    q = q // 2\n",
        "    l = l+[r]\n",
        "  return l\n",
        "\n",
        "def Modular_power(a, m, n):\n",
        "  l = Num_to_Binary(m)[::-1]\n",
        "  x = 1\n",
        "  for i in l:\n",
        "    x = (x**2) % n\n",
        "    if i==1:\n",
        "      x = (x*a) % n\n",
        "  return x"
      ],
      "execution_count": null,
      "outputs": []
    },
    {
      "cell_type": "markdown",
      "metadata": {
        "id": "pqYxsSV6Omvi"
      },
      "source": [
        "## RSA 예제\n",
        "두 소수 `p=885320963`, `q=238855417`를 이용해서 RSA 알고리즘을 확인해봅시다."
      ]
    },
    {
      "cell_type": "code",
      "metadata": {
        "colab": {
          "base_uri": "https://localhost:8080/"
        },
        "id": "ZLWc_KctO2Gy",
        "outputId": "cb09e5a3-fc9a-46c3-8fac-11a21fd6a589"
      },
      "source": [
        "p = 885320963\n",
        "q = 238855417\n",
        "n = p*q\n",
        "print(n)\n",
        "e = 9007\n",
        "GCD(e, (p-1)*(q-1)) # e는 (p-1)*(q-1)과 서로소"
      ],
      "execution_count": null,
      "outputs": [
        {
          "output_type": "stream",
          "text": [
            "211463707796206571\n"
          ],
          "name": "stdout"
        },
        {
          "output_type": "execute_result",
          "data": {
            "text/plain": [
              "1"
            ]
          },
          "metadata": {
            "tags": []
          },
          "execution_count": 2
        }
      ]
    },
    {
      "cell_type": "markdown",
      "metadata": {
        "id": "H02c65ZWQbHz"
      },
      "source": [
        "공개키 $(n, e)$를 이용하여 메시지 $m$에 대해 $c \\equiv m^e \\pmod n$을 계산하면, 암호문 $c$를 얻을 수 있습니다."
      ]
    },
    {
      "cell_type": "code",
      "metadata": {
        "colab": {
          "base_uri": "https://localhost:8080/"
        },
        "id": "vcmNvWTHPEGR",
        "outputId": "4e8c83af-fbca-4f4e-99bb-47f2069462a3"
      },
      "source": [
        "m = 30120\n",
        "c = Modular_power(m, e, n)\n",
        "print(c)"
      ],
      "execution_count": null,
      "outputs": [
        {
          "output_type": "stream",
          "text": [
            "113535859035722866\n"
          ],
          "name": "stdout"
        }
      ]
    },
    {
      "cell_type": "markdown",
      "metadata": {
        "id": "ySyREUWWQABe"
      },
      "source": [
        "d는 법 (p-1)*(q-1)에 대해 e의 역수입니다."
      ]
    },
    {
      "cell_type": "code",
      "metadata": {
        "colab": {
          "base_uri": "https://localhost:8080/"
        },
        "id": "khTU1BrtPdMK",
        "outputId": "4bb196ed-194c-42bb-ad92-16437b26154b"
      },
      "source": [
        "d = Modular_inv(e, (p-1)*(q-1))\n",
        "print(d)"
      ],
      "execution_count": null,
      "outputs": [
        {
          "output_type": "stream",
          "text": [
            "116402471153538991\n"
          ],
          "name": "stdout"
        }
      ]
    },
    {
      "cell_type": "markdown",
      "metadata": {
        "id": "WABVs1KMQKPB"
      },
      "source": [
        "원래 메시지(평문)은 $c^d \\pmod n$으로 복호화 하면 됩니다."
      ]
    },
    {
      "cell_type": "code",
      "metadata": {
        "colab": {
          "base_uri": "https://localhost:8080/"
        },
        "id": "yjG88YTSPt6Q",
        "outputId": "ab69662f-376b-49d0-8b1f-8ae19d5bbe21"
      },
      "source": [
        "Modular_power(c, d, n)"
      ],
      "execution_count": null,
      "outputs": [
        {
          "output_type": "execute_result",
          "data": {
            "text/plain": [
              "30120"
            ]
          },
          "metadata": {
            "tags": []
          },
          "execution_count": 11
        }
      ]
    },
    {
      "cell_type": "markdown",
      "metadata": {
        "id": "QDzkVMdpCSbc"
      },
      "source": [
        "$e=65537=2^{16}+1$을 사용하는 경우가 많습니다.\n",
        "그 이유는 2진법으로 매우 간단하기 때문에 연산횟수가 상대적으로 적습니다."
      ]
    },
    {
      "cell_type": "code",
      "metadata": {
        "colab": {
          "base_uri": "https://localhost:8080/"
        },
        "id": "PBy7cESwsriz",
        "outputId": "b0c26957-9f01-4ce2-d2a7-c3af37c02f6b"
      },
      "source": [
        "Num_to_Binary(65537)"
      ],
      "execution_count": null,
      "outputs": [
        {
          "output_type": "execute_result",
          "data": {
            "text/plain": [
              "[1, 0, 0, 0, 0, 0, 0, 0, 0, 0, 0, 0, 0, 0, 0, 0, 1]"
            ]
          },
          "metadata": {
            "tags": []
          },
          "execution_count": 4
        }
      ]
    },
    {
      "cell_type": "markdown",
      "metadata": {
        "id": "8mIZ8mPRXFSO"
      },
      "source": [
        "## 큰 소수 만드는 방법\n",
        "\n",
        "목록 `first_primes_list`안의 작은 소수들로 나눠지는지 여부를 먼저 체크하고\n",
        "강의에서 소개한 Miller-Rabin 소수판정법을 여러번 실행해서 주어진 범위의(n 비트) \"매우 가능성이 높은\" 소수를 찾아줍니다. (이 코드에서는 20번 실행합니다)\n",
        "출처: [How to generate Large Prime numbers for RSA Algorithm](https://www.geeksforgeeks.org/how-to-generate-large-prime-numbers-for-rsa-algorithm/ )"
      ]
    },
    {
      "cell_type": "code",
      "metadata": {
        "colab": {
          "base_uri": "https://localhost:8080/"
        },
        "id": "gSnlkUOOXTxh",
        "outputId": "e4a46fd0-ca26-40a4-d365-356ec4c2c2a0"
      },
      "source": [
        "# Large Prime Generation for RSA\n",
        "import random\n",
        "\n",
        "# Pre generated primes\n",
        "first_primes_list = [2, 3, 5, 7, 11, 13, 17, 19, 23, 29,\n",
        "\t\t\t\t\t31, 37, 41, 43, 47, 53, 59, 61, 67,\n",
        "\t\t\t\t\t71, 73, 79, 83, 89, 97, 101, 103,\n",
        "\t\t\t\t\t107, 109, 113, 127, 131, 137, 139,\n",
        "\t\t\t\t\t149, 151, 157, 163, 167, 173, 179,\n",
        "\t\t\t\t\t181, 191, 193, 197, 199, 211, 223,\n",
        "\t\t\t\t\t227, 229, 233, 239, 241, 251, 257,\n",
        "\t\t\t\t\t263, 269, 271, 277, 281, 283, 293,\n",
        "\t\t\t\t\t307, 311, 313, 317, 331, 337, 347, 349]\n",
        "\n",
        "def nBitRandom(n):\n",
        "\treturn random.randrange(2**(n-1)+1, 2**n - 1)\n",
        "\n",
        "def getLowLevelPrime(n):\n",
        "\t'''Generate a prime candidate divisible\n",
        "\tby first primes'''\n",
        "\twhile True:\n",
        "\t\t# Obtain a random number\n",
        "\t\tpc = nBitRandom(n)\n",
        "\n",
        "\t\t# Test divisibility by pre-generated\n",
        "\t\t# primes\n",
        "\t\tfor divisor in first_primes_list:\n",
        "\t\t\tif pc % divisor == 0 and divisor**2 <= pc:\n",
        "\t\t\t\tbreak\n",
        "\t\telse: return pc\n",
        "\n",
        "def isMillerRabinPassed(mrc):\n",
        "\t'''Run 20 iterations of Rabin Miller Primality test'''\n",
        "\tmaxDivisionsByTwo = 0\n",
        "\tec = mrc-1\n",
        "\twhile ec % 2 == 0:\n",
        "\t\tec >>= 1\n",
        "\t\tmaxDivisionsByTwo += 1\n",
        "\tassert(2**maxDivisionsByTwo * ec == mrc-1)\n",
        "\n",
        "\tdef trialComposite(round_tester):\n",
        "\t\tif pow(round_tester, ec, mrc) == 1:\n",
        "\t\t\treturn False\n",
        "\t\tfor i in range(maxDivisionsByTwo):\n",
        "\t\t\tif pow(round_tester, 2**i * ec, mrc) == mrc-1:\n",
        "\t\t\t\treturn False\n",
        "\t\treturn True\n",
        "\n",
        "\t# Set number of trials here\n",
        "\tnumberOfRabinTrials = 20\n",
        "\tfor i in range(numberOfRabinTrials):\n",
        "\t\tround_tester = random.randrange(2, mrc)\n",
        "\t\tif trialComposite(round_tester):\n",
        "\t\t\treturn False\n",
        "\treturn True\n",
        "\n",
        "if __name__ == '__main__':\n",
        "\twhile True:\n",
        "\t\tn = 64\n",
        "\t\tprime_candidate = getLowLevelPrime(n)\n",
        "\t\tif not isMillerRabinPassed(prime_candidate):\n",
        "\t\t\tcontinue\n",
        "\t\telse:\n",
        "\t\t\tprint(n, \"bit prime is: \\n\", prime_candidate)\n",
        "\t\t\tbreak\n"
      ],
      "execution_count": null,
      "outputs": [
        {
          "output_type": "stream",
          "text": [
            "64 bit prime is: \n",
            " 10777577063589369659\n"
          ],
          "name": "stdout"
        }
      ]
    },
    {
      "cell_type": "markdown",
      "metadata": {
        "id": "RFcHwF2wFjBA"
      },
      "source": [
        "또다른 64비트 소수를 만들어봅시다."
      ]
    },
    {
      "cell_type": "code",
      "metadata": {
        "colab": {
          "base_uri": "https://localhost:8080/"
        },
        "id": "oVOvNN4IFmig",
        "outputId": "09dac24b-573c-4ac8-b78c-8fcc02ec2c03"
      },
      "source": [
        "while True:\n",
        "\t\tn = 64\n",
        "\t\tprime_candidate = getLowLevelPrime(n)\n",
        "\t\tif not isMillerRabinPassed(prime_candidate):\n",
        "\t\t\tcontinue\n",
        "\t\telse:\n",
        "\t\t\tprint(n, \"bit prime is: \\n\", prime_candidate)\n",
        "\t\t\tbreak"
      ],
      "execution_count": null,
      "outputs": [
        {
          "output_type": "stream",
          "text": [
            "64 bit prime is: \n",
            " 10278178819364820487\n"
          ],
          "name": "stdout"
        }
      ]
    },
    {
      "cell_type": "markdown",
      "metadata": {
        "id": "Jk-azaJsDhVP"
      },
      "source": [
        "일반적으로 소인수분해는 매우 오랜 시간이 걸립니다."
      ]
    },
    {
      "cell_type": "code",
      "metadata": {
        "id": "zB-XNCL9GQip",
        "colab": {
          "base_uri": "https://localhost:8080/"
        },
        "outputId": "ddb14073-88eb-42cc-eb87-cf8a3c765fd8"
      },
      "source": [
        "from sympy.ntheory import factorint # sympy 라이브러리의 소인수분해함수를 이용\n",
        "p = 12753173587119043723\n",
        "q = 11293880751381704837\n",
        "n = p*q\n",
        "print(n)\n",
        "#factorint(n)   # 64비트 소수 2개의 곱은 37초 정도에 소인수분해됨\n"
      ],
      "execution_count": null,
      "outputs": [
        {
          "output_type": "stream",
          "text": [
            "144032821694593337494021055856883588151\n"
          ],
          "name": "stdout"
        }
      ]
    },
    {
      "cell_type": "markdown",
      "metadata": {
        "id": "1ld0bl2mD7xq"
      },
      "source": [
        "## 실습문제\n",
        "\n",
        "1. 암호문 5859가 공개키 $n = 11413, e = 7647$을 이용해서 $n$이 $101 \\cdot 113$으로 소인수분해되는 것을 이용하여, 원래의 평문을 구하여라. \n",
        "\n",
        "2. [손으로 풀기] 암호문 $c$가 $c \\equiv m^3 \\pmod{101}$로 계산되었다고 할때, \n",
        "복호화 방법을 알아내어라. (주의: 101은 소수이다)\n",
        "\n",
        "3. [손으로 풀기] 지수 $e = 1$ 또는 $e = 2$는 RSA 암호시스템에서 사용되지 않아야 한다. \n",
        "그 이유는?\n",
        "\n",
        "4. 공개키 `n = 718548065973745507,\n",
        "e = 3449`를 이용해서 암호문 `c=543546506135745129`을 얻었다. \n",
        "원래 메시지를 구하여라. (힌트: sympy 라이브러리의 factorint() 명령어)\n"
      ]
    },
    {
      "cell_type": "code",
      "metadata": {
        "id": "ajAqbpE681-h"
      },
      "source": [
        "c=5859\n",
        "p, q =101,113\n",
        "n = p*q\n",
        "e = 7647\n",
        "d=Modular_inv(e,n)\n",
        "m=Modular_power(c,d,n)\n",
        "print(m): 6566"
      ],
      "execution_count": null,
      "outputs": []
    },
    {
      "cell_type": "code",
      "metadata": {
        "colab": {
          "base_uri": "https://localhost:8080/"
        },
        "id": "rD69Qd9A7zg2",
        "outputId": "26d766ab-6ff1-45b6-84fa-1cab961f3e5b"
      },
      "source": [
        "from sympy import factorint\n",
        "n = 718548065973745507\n",
        "factor_dict = factorint(n) \n",
        "      \n",
        "print(factor_dict)\n",
        "c=543546506135745129\n",
        "p=740876531\n",
        "q=969862097\n",
        "n=p*q\n",
        "e=3449\n",
        "d=Modular_inv(e,n)\n",
        "m=Modular_power(c,d,n)\n",
        "print(m)\n",
        "\n"
      ],
      "execution_count": null,
      "outputs": [
        {
          "output_type": "stream",
          "text": [
            "{740876531: 1, 969862097: 1}\n",
            "63258829968764216\n"
          ],
          "name": "stdout"
        }
      ]
    },
    {
      "cell_type": "code",
      "metadata": {
        "id": "pZrUYTjmctdi"
      },
      "source": [
        ""
      ],
      "execution_count": null,
      "outputs": []
    },
    {
      "cell_type": "code",
      "metadata": {
        "id": "L17v-3U0wv3c"
      },
      "source": [
        ""
      ],
      "execution_count": null,
      "outputs": []
    },
    {
      "cell_type": "code",
      "metadata": {
        "colab": {
          "base_uri": "https://localhost:8080/"
        },
        "id": "734Ej7Owxjl9",
        "outputId": "a1582408-3a8c-4ae4-f00f-bfef21f000fd"
      },
      "source": [
        ""
      ],
      "execution_count": null,
      "outputs": [
        {
          "output_type": "stream",
          "text": [
            "6566\n"
          ],
          "name": "stdout"
        }
      ]
    },
    {
      "cell_type": "markdown",
      "metadata": {
        "id": "3w9hXx8_W9BZ"
      },
      "source": [
        "## 실습문제 2\n",
        "1. 위의 코드들을 참고하여 **자신만의** 128비트 정도 크기의 공개키 `n`과 암호화 지수 `e`를 만들어서 안내한 공유문서에 업로드: 링크: https://docs.google.com/spreadsheets/d/1-invVKwUbGlwrm1h1w4eY8yCGUzPMvS89g3ipnHOF2Q/edit?usp=sharing \n",
        "2. 자신에게 **암호화된 전달문**을 받을 사람은, 그것을 해독하여 그 숫자 뒤에 **자신의 학번 끝자리 세 수**를 붙여서 \n",
        "  \n",
        "  1. 만약 15자리이면, 담당교수 혹은 담당조교의 공개키로 암호화하여 전달\n",
        "  2. 아직 15자리 미만이면, 다시 (아직 전달문을 받지 않은 사람 중) 전달하고 싶은 한 명에게 그 사람의 공개키를 이용, 암호화하여 전달(공유문서의 암호화된 전달문 칸에 업로드)\n",
        "  "
      ]
    },
    {
      "cell_type": "code",
      "metadata": {
        "id": "_g4ELLE2nx5R",
        "colab": {
          "base_uri": "https://localhost:8080/"
        },
        "outputId": "2edc9edd-737b-4492-e210-8f57034ab30f"
      },
      "source": [
        ""
      ],
      "execution_count": null,
      "outputs": [
        {
          "output_type": "execute_result",
          "data": {
            "text/plain": [
              "36"
            ]
          },
          "metadata": {
            "tags": []
          },
          "execution_count": 35
        }
      ]
    },
    {
      "cell_type": "code",
      "metadata": {
        "colab": {
          "base_uri": "https://localhost:8080/"
        },
        "id": "VSc4Aoyn-FjZ",
        "outputId": "aa62c384-0a6b-4307-ebf4-ee660299a2da"
      },
      "source": [
        ""
      ],
      "execution_count": null,
      "outputs": [
        {
          "output_type": "execute_result",
          "data": {
            "text/plain": [
              "352"
            ]
          },
          "metadata": {
            "tags": []
          },
          "execution_count": 28
        }
      ]
    },
    {
      "cell_type": "code",
      "metadata": {
        "id": "a19vPUlR_Ydc"
      },
      "source": [
        ""
      ],
      "execution_count": null,
      "outputs": []
    }
  ]
}
