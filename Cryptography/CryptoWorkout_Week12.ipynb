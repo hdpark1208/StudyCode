{
  "nbformat": 4,
  "nbformat_minor": 0,
  "metadata": {
    "colab": {
      "name": "CryptoWorkout_Week12.ipynb",
      "provenance": [],
      "collapsed_sections": [],
      "include_colab_link": true
    },
    "kernelspec": {
      "name": "python3",
      "display_name": "Python 3"
    },
    "language_info": {
      "name": "python"
    }
  },
  "cells": [
    {
      "cell_type": "markdown",
      "metadata": {
        "id": "view-in-github",
        "colab_type": "text"
      },
      "source": [
        "<a href=\"https://colab.research.google.com/github/hdpark1208/StudyCode/blob/main/CryptoWorkout_Week12.ipynb\" target=\"_parent\"><img src=\"https://colab.research.google.com/assets/colab-badge.svg\" alt=\"Open In Colab\"/></a>"
      ]
    },
    {
      "cell_type": "markdown",
      "metadata": {
        "id": "Ksct2kAMFHWD"
      },
      "source": [
        "# Hash 함수\n"
      ]
    },
    {
      "cell_type": "markdown",
      "metadata": {
        "id": "eLPGDm1NLpDK"
      },
      "source": [
        "## Hash 함수의 조건\n",
        "1. 주어진 메시지 $𝑚$에 대해 message digest $ℎ(𝑚)$이 매우 빨리 계산가능해야함\n",
        "2. 주어진 $𝑦$에 대해, $ℎ(𝑚')=𝑦$인 $𝑚'$을 찾기가 (계산적으로) 불가능해야함 (**one-way** 또는 **preimage resistant** 함수라 부름) 주의:  어떤 메시지의 message digest라도 그 메시지를 찾는 것이 아님\n",
        "3. $ℎ(𝑚_1 )=ℎ(𝑚_2)$인 메시지 $𝑚_1, 𝑚_2$ 찾기가 (계산적으로) 불가능해야함 (이런 함수 $ℎ$를 **strongly collision-free** 함수라 부름)\n"
      ]
    },
    {
      "cell_type": "markdown",
      "metadata": {
        "id": "MADoL9gSMF8z"
      },
      "source": [
        "### Hash 함수 맛보기\n",
        "python `hashlib` 라이브러리를 이용해서 hash 함수 `md5()`를 사용해봅시다.\n",
        "입력은 binary 형이어야 합니다.\n",
        "\n",
        "또한, `hexdigest()`라는 명령어를 통해 보기 편하도록 16진법으로 표현합니다."
      ]
    },
    {
      "cell_type": "code",
      "metadata": {
        "id": "3Wt7-JcHFQcV"
      },
      "source": [
        "import hashlib"
      ],
      "execution_count": null,
      "outputs": []
    },
    {
      "cell_type": "code",
      "metadata": {
        "colab": {
          "base_uri": "https://localhost:8080/",
          "height": 35
        },
        "id": "-nc9U6jhFTUp",
        "outputId": "ace821ca-115a-4677-868f-63c9bb023db7"
      },
      "source": [
        "md5hasher = hashlib.md5()\n",
        "md5hasher.hexdigest()"
      ],
      "execution_count": null,
      "outputs": [
        {
          "output_type": "execute_result",
          "data": {
            "application/vnd.google.colaboratory.intrinsic+json": {
              "type": "string"
            },
            "text/plain": [
              "'d41d8cd98f00b204e9800998ecf8427e'"
            ]
          },
          "metadata": {
            "tags": []
          },
          "execution_count": 2
        }
      ]
    },
    {
      "cell_type": "code",
      "metadata": {
        "colab": {
          "base_uri": "https://localhost:8080/",
          "height": 35
        },
        "id": "TkAPY59LFa2B",
        "outputId": "967f5c82-370e-4992-892f-5d8f8fd94074"
      },
      "source": [
        "md5hasher = hashlib.md5(b'alice')\n",
        "md5hasher.hexdigest()"
      ],
      "execution_count": null,
      "outputs": [
        {
          "output_type": "execute_result",
          "data": {
            "application/vnd.google.colaboratory.intrinsic+json": {
              "type": "string"
            },
            "text/plain": [
              "'6384e2b2184bcbf58eccf10ca7a6563c'"
            ]
          },
          "metadata": {
            "tags": []
          },
          "execution_count": 3
        }
      ]
    },
    {
      "cell_type": "code",
      "metadata": {
        "colab": {
          "base_uri": "https://localhost:8080/",
          "height": 35
        },
        "id": "wFbhDRsLF5n3",
        "outputId": "30d7eb43-9a62-4afc-e0bf-b20c84aaae83"
      },
      "source": [
        "md5hasher = hashlib.md5(b'bob')\n",
        "md5hasher.hexdigest()"
      ],
      "execution_count": null,
      "outputs": [
        {
          "output_type": "execute_result",
          "data": {
            "application/vnd.google.colaboratory.intrinsic+json": {
              "type": "string"
            },
            "text/plain": [
              "'9f9d51bc70ef21ca5c14f307980a29d8'"
            ]
          },
          "metadata": {
            "tags": []
          },
          "execution_count": 4
        }
      ]
    },
    {
      "cell_type": "code",
      "metadata": {
        "colab": {
          "base_uri": "https://localhost:8080/",
          "height": 35
        },
        "id": "dBsubiDrGV9F",
        "outputId": "ebc0d3ac-0fe9-489b-b29b-cd60dcc268e7"
      },
      "source": [
        " hashlib.md5(b'alice').hexdigest()"
      ],
      "execution_count": null,
      "outputs": [
        {
          "output_type": "execute_result",
          "data": {
            "application/vnd.google.colaboratory.intrinsic+json": {
              "type": "string"
            },
            "text/plain": [
              "'6384e2b2184bcbf58eccf10ca7a6563c'"
            ]
          },
          "metadata": {
            "tags": []
          },
          "execution_count": 5
        }
      ]
    },
    {
      "cell_type": "code",
      "metadata": {
        "colab": {
          "base_uri": "https://localhost:8080/",
          "height": 35
        },
        "id": "yhgjga2eGYyw",
        "outputId": "a918e484-e08b-4414-c5db-b3548df00c44"
      },
      "source": [
        "hashlib.md5(b'bob').hexdigest()"
      ],
      "execution_count": null,
      "outputs": [
        {
          "output_type": "execute_result",
          "data": {
            "application/vnd.google.colaboratory.intrinsic+json": {
              "type": "string"
            },
            "text/plain": [
              "'9f9d51bc70ef21ca5c14f307980a29d8'"
            ]
          },
          "metadata": {
            "tags": []
          },
          "execution_count": 6
        }
      ]
    },
    {
      "cell_type": "code",
      "metadata": {
        "colab": {
          "base_uri": "https://localhost:8080/",
          "height": 35
        },
        "id": "NXgdPTmkR6sb",
        "outputId": "38854e92-a501-40fb-d156-782e4796c502"
      },
      "source": [
        "hashlib.sha1(b'bob').hexdigest()"
      ],
      "execution_count": null,
      "outputs": [
        {
          "output_type": "execute_result",
          "data": {
            "application/vnd.google.colaboratory.intrinsic+json": {
              "type": "string"
            },
            "text/plain": [
              "'48181acd22b3edaebc8a447868a7df7ce629920a'"
            ]
          },
          "metadata": {
            "tags": []
          },
          "execution_count": 7
        }
      ]
    },
    {
      "cell_type": "code",
      "metadata": {
        "colab": {
          "base_uri": "https://localhost:8080/",
          "height": 35
        },
        "id": "40Gp926_R9NH",
        "outputId": "25da9533-1f5a-479a-f5de-9d274e809a4a"
      },
      "source": [
        "hashlib.sha256(b'bob').hexdigest()"
      ],
      "execution_count": null,
      "outputs": [
        {
          "output_type": "execute_result",
          "data": {
            "application/vnd.google.colaboratory.intrinsic+json": {
              "type": "string"
            },
            "text/plain": [
              "'81b637d8fcd2c6da6359e6963113a1170de795e4b725b84d1e0b4cfd9ec58ce9'"
            ]
          },
          "metadata": {
            "tags": []
          },
          "execution_count": 8
        }
      ]
    },
    {
      "cell_type": "markdown",
      "metadata": {
        "id": "tVTjHvI6Gal9"
      },
      "source": [
        "## 연습. hash 함수 체험하기\n",
        " hashlib의 md5/sha1/sha256을 사용하여 다음 문장들의 message digest를 계산해보세요.\n",
        " - b'alice' (again)\n",
        " - b'bob' (again)\n",
        " - b'balice'\n",
        " - b'cob'\n",
        " - b'a'\n",
        " - b'aa'\n",
        " - b'aaaaaaaaaa' (ten copies of the letter “a”)\n",
        " - b'a'*100000 (100,000 copies of the letter “a”)"
      ]
    },
    {
      "cell_type": "code",
      "metadata": {
        "colab": {
          "base_uri": "https://localhost:8080/",
          "height": 35
        },
        "id": "lNjpGFTp6nij",
        "outputId": "56650a35-fc18-4ebf-f056-99e12defd1c1"
      },
      "source": [
        "md5hasher=hashlib.md5(b'alice')\n",
        "md5hasher.hexdigest()"
      ],
      "execution_count": null,
      "outputs": [
        {
          "output_type": "execute_result",
          "data": {
            "application/vnd.google.colaboratory.intrinsic+json": {
              "type": "string"
            },
            "text/plain": [
              "'6384e2b2184bcbf58eccf10ca7a6563c'"
            ]
          },
          "metadata": {
            "tags": []
          },
          "execution_count": 10
        }
      ]
    },
    {
      "cell_type": "code",
      "metadata": {
        "colab": {
          "base_uri": "https://localhost:8080/",
          "height": 35
        },
        "id": "C7elQzQl67Kw",
        "outputId": "64f7fe9b-35d5-4d1e-98b2-b9ec709cd3c5"
      },
      "source": [
        "md5hasher=hashlib.md5(b'bob')\n",
        "md5hasher.hexdigest()"
      ],
      "execution_count": null,
      "outputs": [
        {
          "output_type": "execute_result",
          "data": {
            "application/vnd.google.colaboratory.intrinsic+json": {
              "type": "string"
            },
            "text/plain": [
              "'9f9d51bc70ef21ca5c14f307980a29d8'"
            ]
          },
          "metadata": {
            "tags": []
          },
          "execution_count": 11
        }
      ]
    },
    {
      "cell_type": "code",
      "metadata": {
        "colab": {
          "base_uri": "https://localhost:8080/",
          "height": 35
        },
        "id": "d_3RDRyz69ZY",
        "outputId": "9a082f4c-dd32-4f5d-e4f3-1e52a10051e9"
      },
      "source": [
        "sha1hasher=hashlib.sha1(b'alice')\n",
        "sha1hasher.hexdigest()"
      ],
      "execution_count": null,
      "outputs": [
        {
          "output_type": "execute_result",
          "data": {
            "application/vnd.google.colaboratory.intrinsic+json": {
              "type": "string"
            },
            "text/plain": [
              "'522b276a356bdf39013dfabea2cd43e141ecc9e8'"
            ]
          },
          "metadata": {
            "tags": []
          },
          "execution_count": 12
        }
      ]
    },
    {
      "cell_type": "code",
      "metadata": {
        "colab": {
          "base_uri": "https://localhost:8080/",
          "height": 35
        },
        "id": "ZV4gb63f7LRj",
        "outputId": "f8dbd734-6c80-4add-eecd-41a64f2d6751"
      },
      "source": [
        "sha256hasher=hashlib.sha256(b'alice')\n",
        "sha256hasher.hexdigest()"
      ],
      "execution_count": null,
      "outputs": [
        {
          "output_type": "execute_result",
          "data": {
            "application/vnd.google.colaboratory.intrinsic+json": {
              "type": "string"
            },
            "text/plain": [
              "'2bd806c97f0e00af1a1fc3328fa763a9269723c8db8fac4f93af71db186d6e90'"
            ]
          },
          "metadata": {
            "tags": []
          },
          "execution_count": 13
        }
      ]
    },
    {
      "cell_type": "markdown",
      "metadata": {
        "id": "QSGFybr2Hf8H"
      },
      "source": [
        "md5의 경우 메시지를 추가할수 있습니다."
      ]
    },
    {
      "cell_type": "code",
      "metadata": {
        "colab": {
          "base_uri": "https://localhost:8080/",
          "height": 36
        },
        "id": "uxLX22ZNG4SY",
        "outputId": "921d185f-bf5a-4d16-efef-ce2bcc6f1dd5"
      },
      "source": [
        "md5hasher = hashlib.md5()\n",
        "md5hasher.update(b'a')\n",
        "md5hasher.update(b'l')\n",
        "md5hasher.update(b'i')\n",
        "md5hasher.update(b'c')\n",
        "md5hasher.update(b'e')\n",
        "md5hasher.hexdigest()"
      ],
      "execution_count": null,
      "outputs": [
        {
          "output_type": "execute_result",
          "data": {
            "application/vnd.google.colaboratory.intrinsic+json": {
              "type": "string"
            },
            "text/plain": [
              "'6384e2b2184bcbf58eccf10ca7a6563c'"
            ]
          },
          "metadata": {
            "tags": []
          },
          "execution_count": 10
        }
      ]
    },
    {
      "cell_type": "code",
      "metadata": {
        "colab": {
          "base_uri": "https://localhost:8080/",
          "height": 36
        },
        "id": "4x0e1gYUHY5M",
        "outputId": "20400ae2-22ff-4d7f-d63e-70ab34352652"
      },
      "source": [
        " hashlib.md5(b'alice').hexdigest()"
      ],
      "execution_count": null,
      "outputs": [
        {
          "output_type": "execute_result",
          "data": {
            "application/vnd.google.colaboratory.intrinsic+json": {
              "type": "string"
            },
            "text/plain": [
              "'6384e2b2184bcbf58eccf10ca7a6563c'"
            ]
          },
          "metadata": {
            "tags": []
          },
          "execution_count": 11
        }
      ]
    },
    {
      "cell_type": "code",
      "metadata": {
        "id": "6k3CKCg3He0k"
      },
      "source": [
        ""
      ],
      "execution_count": null,
      "outputs": []
    },
    {
      "cell_type": "markdown",
      "metadata": {
        "id": "s_2UHj1CHsLR"
      },
      "source": [
        "### 다음 hash들을 구글에서 검색해보세요\n",
        "\n",
        "1. 5f4dcc3b5aa765d61d8327deb882cf99\n",
        "2. d41d8cd98f00b204e9800998ecf8427e\n",
        "3. 6384e2b2184bcbf58eccf10ca7a6563c"
      ]
    },
    {
      "cell_type": "code",
      "metadata": {
        "id": "zr-GWUVYHx6T"
      },
      "source": [
        ""
      ],
      "execution_count": null,
      "outputs": []
    },
    {
      "cell_type": "markdown",
      "metadata": {
        "id": "Co35OvDyAcuE"
      },
      "source": [
        "### SHA-2 세팅 확인하기\n",
        "\n",
        "𝑋초기값: 2부터 19까지 첫 8개의 소수의 제곱근의 소수점을 2진법으로 표현하여 그 중에서 처음 32비트를 각각 $h0, h1, ..., h7$이라 합니다.( first 32 bits of the fractional parts of the square roots of the first 8 primes 2..19)\n",
        "- h0 := 0x6a09e667, \n",
        "- h1 := 0xbb67ae85, \n",
        "- h2 := 0x3c6ef372\n",
        "- h3 := 0xa54ff53a, \n",
        "- h4 := 0x510e527f, \n",
        "- h5 := 0x9b05688c\n",
        "- h6 := 0x1f83d9ab, \n",
        "- h7 := 0x5be0cd19 \n",
        "\n"
      ]
    },
    {
      "cell_type": "code",
      "metadata": {
        "colab": {
          "base_uri": "https://localhost:8080/"
        },
        "id": "gM43dGx_AoTN",
        "outputId": "b050f9bd-cc35-4649-8eee-79f7450c2196"
      },
      "source": [
        "from sympy import *\n",
        "l=[]\n",
        "for p in primerange(1, 20):\n",
        "  a = int((p**0.5-int(p**0.5))*(2**32))\n",
        "  l.append(format(a, \"x\")) ## 16진법은 \"x\" 옵션을 이용 \n",
        "print(l)"
      ],
      "execution_count": null,
      "outputs": [
        {
          "output_type": "stream",
          "text": [
            "['6a09e667', 'bb67ae85', '3c6ef372', 'a54ff53a', '510e527f', '9b05688c', '1f83d9ab', '5be0cd19']\n"
          ],
          "name": "stdout"
        }
      ]
    },
    {
      "cell_type": "markdown",
      "metadata": {
        "id": "hA1P0cNOGIaf"
      },
      "source": [
        "각 라운드에서 사용할 상수 $𝐾_𝑡  (0≤𝑡≤63)$는 2부터 311까지 첫 64개의 소수의 세제곱근의 소수점 부분을 2진법으로 표현하여, 그 첫 32비트를 사용합니다.(\n",
        "Initialize array of round constants: $𝐾_𝑡  (0≤𝑡≤63)$\n",
        "first 32 bits of the fractional parts of the cube roots of the first 64 primes 2..311)\n",
        "\n",
        "0x428a2f98, 0x71374491, 0xb5c0fbcf, 0xe9b5dba5, 0x3956c25b, 0x59f111f1, 0x923f82a4, 0xab1c5ed5,\n",
        "   0xd807aa98, 0x12835b01, 0x243185be, 0x550c7dc3, 0x72be5d74, 0x80deb1fe, 0x9bdc06a7, 0xc19bf174,\n",
        "   0xe49b69c1, 0xefbe4786, 0x0fc19dc6, 0x240ca1cc, 0x2de92c6f, 0x4a7484aa, 0x5cb0a9dc, 0x76f988da,\n",
        "   0x983e5152, 0xa831c66d, 0xb00327c8, 0xbf597fc7, 0xc6e00bf3, 0xd5a79147, 0x06ca6351, 0x14292967,\n",
        "   0x27b70a85, 0x2e1b2138, 0x4d2c6dfc, 0x53380d13, 0x650a7354, 0x766a0abb, 0x81c2c92e, 0x92722c85,\n",
        "   0xa2bfe8a1, 0xa81a664b, 0xc24b8b70, 0xc76c51a3, 0xd192e819, 0xd6990624, 0xf40e3585, 0x106aa070,\n",
        "   0x19a4c116, 0x1e376c08, 0x2748774c, 0x34b0bcb5, 0x391c0cb3, 0x4ed8aa4a, 0x5b9cca4f, 0x682e6ff3,\n",
        "   0x748f82ee, 0x78a5636f, 0x84c87814, 0x8cc70208, 0x90befffa, 0xa4506ceb, 0xbef9a3f7, 0xc67178f2"
      ]
    },
    {
      "cell_type": "code",
      "metadata": {
        "colab": {
          "base_uri": "https://localhost:8080/"
        },
        "id": "A4_F9M0OBXPu",
        "outputId": "a2b4e168-970a-4caf-ae12-b27f0e3b76ec"
      },
      "source": [
        "l=[]\n",
        "for p in primerange(1, 20):\n",
        "  a = int((p**(1/3)-int(p**(1/3)))*(2**32))\n",
        "  l.append(format(a, \"x\"))\n",
        "print(l)"
      ],
      "execution_count": null,
      "outputs": [
        {
          "output_type": "stream",
          "text": [
            "['428a2f98', '71374491', 'b5c0fbcf', 'e9b5dba5', '3956c25b', '59f111f1', '923f82a4', 'ab1c5ed5']\n"
          ],
          "name": "stdout"
        }
      ]
    },
    {
      "cell_type": "markdown",
      "metadata": {
        "id": "tZ3PP5zIHb7J"
      },
      "source": [
        "### Birthday 공격\n",
        "\n",
        "N명의 사람 중에서 같은 생일인 두 사람이 있을 확률을 구해보자."
      ]
    },
    {
      "cell_type": "code",
      "metadata": {
        "colab": {
          "base_uri": "https://localhost:8080/"
        },
        "id": "I_d5xNr-HlnY",
        "outputId": "0b794c42-fdf7-436e-96f6-1691ab6d1184"
      },
      "source": [
        "N = 23\n",
        "prob = 1\n",
        "for i in range(1, N):\n",
        "  prob *= (1 - i/365)\n",
        "\n",
        "print(prob)"
      ],
      "execution_count": null,
      "outputs": [
        {
          "output_type": "stream",
          "text": [
            "0.4927027656760145\n"
          ],
          "name": "stdout"
        }
      ]
    },
    {
      "cell_type": "code",
      "metadata": {
        "id": "y1FGlxVvH02n"
      },
      "source": [
        ""
      ],
      "execution_count": null,
      "outputs": []
    },
    {
      "cell_type": "markdown",
      "metadata": {
        "id": "j-9xU0e7MGaD"
      },
      "source": [
        "## $1-e^{-r^2/2N}$을 이용한 확률 계산"
      ]
    },
    {
      "cell_type": "code",
      "metadata": {
        "colab": {
          "base_uri": "https://localhost:8080/",
          "height": 37
        },
        "id": "y2H4EQn2MQ1H",
        "outputId": "916367af-2b3f-41c7-fd95-a3ad02257d3c"
      },
      "source": [
        "N = 1000\n",
        "r = 40\n",
        "1-exp(-r**2/(2*N))"
      ],
      "execution_count": null,
      "outputs": [
        {
          "output_type": "execute_result",
          "data": {
            "text/latex": "$\\displaystyle 0.550671035882778$",
            "text/plain": [
              "0.550671035882778"
            ]
          },
          "metadata": {
            "tags": []
          },
          "execution_count": 17
        }
      ]
    },
    {
      "cell_type": "code",
      "metadata": {
        "colab": {
          "base_uri": "https://localhost:8080/"
        },
        "id": "U76Ox73PMXRG",
        "outputId": "a4f170f8-4ac9-40b1-804f-e4a97bbb3fb0"
      },
      "source": [
        "N = 1000\n",
        "r = 40\n",
        "prob = 1\n",
        "for i in range(1, r):\n",
        "  prob *= (1 - i/N)\n",
        "\n",
        "print(1-prob)"
      ],
      "execution_count": null,
      "outputs": [
        {
          "output_type": "stream",
          "text": [
            "0.5463719707129396\n"
          ],
          "name": "stdout"
        }
      ]
    },
    {
      "cell_type": "code",
      "metadata": {
        "colab": {
          "base_uri": "https://localhost:8080/"
        },
        "id": "_S0KPzEDMt6U",
        "outputId": "b03d8f9a-0c9f-4bfd-f276-4fc88aa57fd4"
      },
      "source": [
        "1-(1-1/1000)**40"
      ],
      "execution_count": null,
      "outputs": [
        {
          "output_type": "execute_result",
          "data": {
            "text/plain": [
              "0.039229789264188186"
            ]
          },
          "metadata": {
            "tags": []
          },
          "execution_count": 23
        }
      ]
    },
    {
      "cell_type": "code",
      "metadata": {
        "id": "HGzbx-wyN-2R",
        "colab": {
          "base_uri": "https://localhost:8080/",
          "height": 35
        },
        "outputId": "a33022d4-de6a-4bd4-f2a6-cbab7b1d29a6"
      },
      "source": [
        "birhash = hashlib.md5(b'1208').hexdigest()\n",
        "birhash"
      ],
      "execution_count": null,
      "outputs": [
        {
          "output_type": "execute_result",
          "data": {
            "application/vnd.google.colaboratory.intrinsic+json": {
              "type": "string"
            },
            "text/plain": [
              "'a58149d355f02887dfbe55ebb2b64ba3'"
            ]
          },
          "metadata": {
            "tags": []
          },
          "execution_count": 19
        }
      ]
    },
    {
      "cell_type": "markdown",
      "metadata": {
        "id": "ZxDMapOiN7TS"
      },
      "source": [
        "## 실습문제\n",
        "\n",
        "1. [Birthday Paradox] 각자의 자신의 생일 네자리 자연수를(예: 1월1일 >> `b'0101'`) hash 함수 md5 (`md5().hexdigest()`로) hash 값을 구해서 공유문서에 업로드 하자.\n",
        "링크:  https://docs.google.com/spreadsheets/d/1-wMs1Yh2bMhR3cBLkrIsOKfHko4W7y8Zvnhm7hjb2dM/edit?usp=sharing\n",
        "\n",
        "2. 아래는 각각 주어진 규칙으로 (`md5().hexdigest()`를 이용하여 )계산한 hash 값이라고 할 때, 반복문을 이용해서 모든 경우의 수를 확인하여 \"preimage_seed\"를 알아내도록 하여라.\n",
        "알파벳 소문자들: `string.ascii_lowercase`\n",
        "알파벳 대문자들: `string.ascii_uppercase`\n",
        "알파벳들: `string.ascii_letters`\n",
        "  1. 알파벳 소문자 1개 : `hash1='03c7c0ace395d80182db07ae2c30f034'`\n",
        "  2. 알파벳 (소문자와 대문자) 2개 : `hash2='13a831874352b548ac7b5e63a860aa1b'`\n",
        "  3. 알파벳 (소문자와 대문자) 3개 : `hash3='5f9ed06570ae9b18ac299a256520f2b6'`\n",
        "  4. 알파벳 (소문자와 대문자) 5개 : `hash5='c6586b2e09d0ed0ee6431a1bb280657f'`\n",
        "\n",
        "\n",
        "3. [이론] 서로 다른 큰 두 소수 $p, q$에 대해, $n=pq$라 하고 $h(x)=x^2 \\pmod{n}$라 하자.\n",
        "  1. $h$가 **preimage resistant**임을 설명하여라. (물론, 1, 4, 9, 16, .. 등은 역상을 쉽게 구할 수 있다. 하지만 이런 특별한 값들을 제외하면 어렵다)\n",
        "  2. $h$가 **strongly collision-free**가 아님을 설명하여라.\n",
        "\n"
      ]
    },
    {
      "cell_type": "markdown",
      "metadata": {
        "id": "jcMwrqrhZsjd"
      },
      "source": [
        "실습을 위해 아래 코드를 사용하세요.\n",
        "generator와 yield 명령어에 대해서는 https://dojang.io/mod/page/view.php?id=2412 를 참고하세요."
      ]
    },
    {
      "cell_type": "code",
      "metadata": {
        "id": "LUZiczL8X6nj"
      },
      "source": [
        "def generate(alphabet, max_len): \n",
        "  ## alphabet 안의 각 문자들의 max_len 이하의 모든 순열을 생성\n",
        "  if max_len <= 0: return\n",
        "  for c in alphabet:\n",
        "    yield c\n",
        "  for c in alphabet:\n",
        "    for next in generate(alphabet, max_len-1):\n",
        "      yield c + next"
      ],
      "execution_count": null,
      "outputs": []
    },
    {
      "cell_type": "code",
      "metadata": {
        "colab": {
          "base_uri": "https://localhost:8080/"
        },
        "id": "eYktbmoAYs3e",
        "outputId": "9115c76a-2040-4be9-a103-a30eee3b4502"
      },
      "source": [
        "for i in generate('ab', 2): ## 마치 range() 처럼 사용하면 됩니다\n",
        "  print(i)"
      ],
      "execution_count": null,
      "outputs": [
        {
          "output_type": "stream",
          "text": [
            "a\n",
            "b\n",
            "aa\n",
            "ab\n",
            "ba\n",
            "bb\n"
          ],
          "name": "stdout"
        }
      ]
    },
    {
      "cell_type": "code",
      "metadata": {
        "id": "TNRpDuzyY02w",
        "colab": {
          "base_uri": "https://localhost:8080/"
        },
        "outputId": "4ebf79c7-c50b-472e-913d-a3a9caeccd8f"
      },
      "source": [
        "import string\n",
        "str = string.ascii_lowercase\n",
        "hash = '03c7c0ace395d80182db07ae2c30f034'\n",
        "for i in generate(str, 1):\n",
        "  if hashlib.md5(i.encode('utf-8')).hexdigest()==hash:  ## 바이트로 변환해서 입력!!\n",
        "    print(i)\n"
      ],
      "execution_count": null,
      "outputs": [
        {
          "output_type": "stream",
          "text": [
            "s\n"
          ],
          "name": "stdout"
        }
      ]
    },
    {
      "cell_type": "code",
      "metadata": {
        "colab": {
          "base_uri": "https://localhost:8080/"
        },
        "id": "jZJVV5Ca_miz",
        "outputId": "26453275-f20c-46fc-d8f3-838127f9d661"
      },
      "source": [
        "import string\n",
        "str = string.ascii_letters\n",
        "hash1='03c7c0ace395d80182db07ae2c30f034'\n",
        "hash2='13a831874352b548ac7b5e63a860aa1b'\n",
        "hash3='5f9ed06570ae9b18ac299a256520f2b6'\n",
        "hash5='c6586b2e09d0ed0ee6431a1bb280657f'\n",
        "for i in generate(str, 1):\n",
        "  if hashlib.md5(i.encode('utf-8')).hexdigest()==hash1:  ## 바이트로 변환해서 입력!!\n",
        "    print(i)\n",
        "for i in generate(str, 2):\n",
        "  if hashlib.md5(i.encode('utf-8')).hexdigest()==hash2:  ## 바이트로 변환해서 입력!!\n",
        "    print(i)\n",
        "for i in generate(str, 3):\n",
        "  if hashlib.md5(i.encode('utf-8')).hexdigest()==hash3:  ## 바이트로 변환해서 입력!!\n",
        "    print(i)\n",
        "for i in generate(str, 5):\n",
        "  if hashlib.md5(i.encode('utf-8')).hexdigest()==hash5:  ## 바이트로 변환해서 입력!!\n",
        "    print(i)\n"
      ],
      "execution_count": null,
      "outputs": [
        {
          "output_type": "stream",
          "text": [
            "s\n",
            "Tz\n",
            "Riz\n",
            "Pizza\n"
          ],
          "name": "stdout"
        }
      ]
    },
    {
      "cell_type": "code",
      "metadata": {
        "id": "YPvPo6ICaaPO",
        "colab": {
          "base_uri": "https://localhost:8080/"
        },
        "outputId": "08fb505a-0de2-42be-ab95-e605c7aa7ff7"
      },
      "source": [
        "for i in string.ascii_letters:\n",
        "  print(i)"
      ],
      "execution_count": null,
      "outputs": [
        {
          "output_type": "stream",
          "text": [
            "a\n",
            "b\n",
            "c\n",
            "d\n",
            "e\n",
            "f\n",
            "g\n",
            "h\n",
            "i\n",
            "j\n",
            "k\n",
            "l\n",
            "m\n",
            "n\n",
            "o\n",
            "p\n",
            "q\n",
            "r\n",
            "s\n",
            "t\n",
            "u\n",
            "v\n",
            "w\n",
            "x\n",
            "y\n",
            "z\n",
            "A\n",
            "B\n",
            "C\n",
            "D\n",
            "E\n",
            "F\n",
            "G\n",
            "H\n",
            "I\n",
            "J\n",
            "K\n",
            "L\n",
            "M\n",
            "N\n",
            "O\n",
            "P\n",
            "Q\n",
            "R\n",
            "S\n",
            "T\n",
            "U\n",
            "V\n",
            "W\n",
            "X\n",
            "Y\n",
            "Z\n"
          ],
          "name": "stdout"
        }
      ]
    },
    {
      "cell_type": "code",
      "metadata": {
        "id": "6LQAnp0G9frM"
      },
      "source": [
        ""
      ],
      "execution_count": null,
      "outputs": []
    }
  ]
}
