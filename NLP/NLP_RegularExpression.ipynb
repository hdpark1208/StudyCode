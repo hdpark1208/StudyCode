{
  "nbformat": 4,
  "nbformat_minor": 0,
  "metadata": {
    "kernelspec": {
      "display_name": "Python 3",
      "language": "python",
      "name": "python3"
    },
    "language_info": {
      "codemirror_mode": {
        "name": "ipython",
        "version": 3
      },
      "file_extension": ".py",
      "mimetype": "text/x-python",
      "name": "python",
      "nbconvert_exporter": "python",
      "pygments_lexer": "ipython3",
      "version": "3.8.5"
    },
    "colab": {
      "name": "NLP_RegularExpression.ipynb",
      "provenance": [],
      "include_colab_link": true
    }
  },
  "cells": [
    {
      "cell_type": "markdown",
      "metadata": {
        "id": "view-in-github",
        "colab_type": "text"
      },
      "source": [
        "<a href=\"https://colab.research.google.com/github/hdpark1208/StudyCode/blob/main/NLP/NLP_RegularExpression.ipynb\" target=\"_parent\"><img src=\"https://colab.research.google.com/assets/colab-badge.svg\" alt=\"Open In Colab\"/></a>"
      ]
    },
    {
      "cell_type": "markdown",
      "metadata": {
        "id": "cQudrhNQtqlV"
      },
      "source": [
        "* https://wikidocs.net/21703"
      ]
    },
    {
      "cell_type": "code",
      "metadata": {
        "id": "m3_w7djFtqlf",
        "outputId": "2b84fa53-bf55-4801-973a-374c5bd9f19c"
      },
      "source": [
        "import re\n",
        "# .\n",
        "r = re.compile(\"a.c\")    # . 는 한 개의 임의의 문자 \n",
        "print(r.search(\"abbbbc abc def acc\"))\n",
        "print('\\n')\n",
        "\n",
        "# ?\n",
        "r = re.compile(\"ab?c\")    # ? 앞의 문자가 존재할 수도 아닐수도\n",
        "print(r.search('abd abc ac'))\n",
        "print(r.search('abd ac'))\n",
        "print('\\n')\n",
        "\n",
        "# *\n",
        "r = re.compile(\"ab*c\")    # * 앞의 문자 수는 0개 이상, * 뒤의 문자 일치\n",
        "print(r.search(\"Abbbbbc\"))\n",
        "print(r.search(\"ac\"))\n",
        "print(r.search(\"abbbbbc\"))\n",
        "print(r.search(\"abababababbbc\"))\n",
        "print('\\n')\n",
        "\n",
        "# + ( 앞의 문자 수가 1개 이상, 뒤의 문자 일치, * 와 유사)\n"
      ],
      "execution_count": null,
      "outputs": [
        {
          "output_type": "stream",
          "text": [
            "<re.Match object; span=(7, 10), match='abc'>\n",
            "\n",
            "\n",
            "<re.Match object; span=(4, 7), match='abc'>\n",
            "<re.Match object; span=(4, 6), match='ac'>\n",
            "\n",
            "\n",
            "None\n",
            "<re.Match object; span=(0, 2), match='ac'>\n",
            "<re.Match object; span=(0, 7), match='abbbbbc'>\n",
            "<re.Match object; span=(8, 13), match='abbbc'>\n",
            "\n",
            "\n"
          ],
          "name": "stdout"
        }
      ]
    },
    {
      "cell_type": "code",
      "metadata": {
        "id": "ODzBOS1stqli",
        "outputId": "63f64416-a9dc-4d37-dda5-82bf8eed33fe"
      },
      "source": [
        "# ^\n",
        "r = re.compile('^a')    # 시작되는 글자 지정\n",
        "print(r.search('bcade'))\n",
        "print(r.search('abcde'))\n",
        "print('\\n')\n",
        "\n",
        "# {n}\n",
        "r = re.compile('ab{3}c')    # a와 c 사이에 b가 3개인 문자열\n",
        "print(r.search('abbbbbc'))\n",
        "print(r.search('abbbc'))\n",
        "print(r.search('qqqabbbcppp'))\n",
        "print('\\n')\n",
        "\n",
        "# {a,b} (a개 이상 b개 이하, {n} 와 유사)\n",
        "r = re.compile('ab{3,5}c')\n",
        "print(r.search('abbbbbc'))\n",
        "print(r.search('abbbc'))\n",
        "print(r.search('qqqabbbcppp'))\n",
        "print('\\n')\n",
        "\n",
        "# {n,} ( n=0 이면 *, n=1이면 + 와 동일한 의미)"
      ],
      "execution_count": null,
      "outputs": [
        {
          "output_type": "stream",
          "text": [
            "None\n",
            "<re.Match object; span=(0, 1), match='a'>\n",
            "\n",
            "\n",
            "None\n",
            "<re.Match object; span=(0, 5), match='abbbc'>\n",
            "<re.Match object; span=(3, 8), match='abbbc'>\n",
            "\n",
            "\n",
            "<re.Match object; span=(0, 7), match='abbbbbc'>\n",
            "<re.Match object; span=(0, 5), match='abbbc'>\n",
            "<re.Match object; span=(3, 8), match='abbbc'>\n",
            "\n",
            "\n"
          ],
          "name": "stdout"
        }
      ]
    },
    {
      "cell_type": "code",
      "metadata": {
        "id": "S1QqxtWqtqlj",
        "outputId": "5a54f127-6f18-4d01-ed14-42f5c0001fb3"
      },
      "source": [
        "# []\n",
        "r = re.compile(\"[abcd]\")    # [a-d] 와 동일\n",
        "print(r.search('efg'))\n",
        "print(r.search('xyza'))\n",
        "\n",
        "# [^ ] ( [] 의 여집합)\n",
        "r = re.compile(\"[^a-z]\")    \n",
        "print(r.search('abcd'))\n",
        "print(r.search('ABCD'))\n",
        "print(r.search('1234'))"
      ],
      "execution_count": null,
      "outputs": [
        {
          "output_type": "stream",
          "text": [
            "None\n",
            "<re.Match object; span=(3, 4), match='a'>\n",
            "None\n",
            "<re.Match object; span=(0, 1), match='A'>\n",
            "<re.Match object; span=(0, 1), match='1'>\n"
          ],
          "name": "stdout"
        }
      ]
    },
    {
      "cell_type": "markdown",
      "metadata": {
        "id": "mkJgGeEqtqlk"
      },
      "source": [
        "* re.match()\n",
        "> 정규표현식 전체에 대해서 문자열이 매치하는지 보는 반면,  \n",
        "> 문자열의 첫 부분부터 정규표현식이 매치하는지 확인  \n",
        ">(즉, 시작에서 일치하지 않으면 찾지않는다)"
      ]
    },
    {
      "cell_type": "code",
      "metadata": {
        "id": "xrcAFrVltqlk",
        "outputId": "393e4912-ab5a-4c60-b0b7-f13cb1ab7c4a"
      },
      "source": [
        "r = re.compile('ab.')\n",
        "print(r.search('kkkabc'))\n",
        "print(r.match('kkkabc'))\n",
        "print(r.search('abckkk'))\n",
        "print(r.match('abckkk'))"
      ],
      "execution_count": null,
      "outputs": [
        {
          "output_type": "stream",
          "text": [
            "<re.Match object; span=(3, 6), match='abc'>\n",
            "None\n",
            "<re.Match object; span=(0, 3), match='abc'>\n",
            "<re.Match object; span=(0, 3), match='abc'>\n"
          ],
          "name": "stdout"
        }
      ]
    },
    {
      "cell_type": "markdown",
      "metadata": {
        "id": "C077-kSetqll"
      },
      "source": [
        "* re.split()\n",
        "> 입력된 정규 표현식을 기준으로 문자열들을 분리하여 리스트로 리턴  \n",
        "> 토큰화에 유용하다"
      ]
    },
    {
      "cell_type": "code",
      "metadata": {
        "id": "VzYo3dkMtqlm",
        "outputId": "51fe6398-ea09-4081-ea40-d2c6cb2765fb"
      },
      "source": [
        "text = '사과 딸기 수박 메론 바나나'\n",
        "re.split(' ',text)"
      ],
      "execution_count": null,
      "outputs": [
        {
          "output_type": "execute_result",
          "data": {
            "text/plain": [
              "['사과', '딸기', '수박', '메론', '바나나']"
            ]
          },
          "metadata": {
            "tags": []
          },
          "execution_count": 38
        }
      ]
    },
    {
      "cell_type": "code",
      "metadata": {
        "id": "9ygmMLJvtqln",
        "outputId": "0b5f612e-e936-41b1-c227-9fb081a20ab1"
      },
      "source": [
        "text=\"\"\"사과\n",
        "딸기\n",
        "수박\n",
        "메론\n",
        "바나나\"\"\"\n",
        "re.split(\"\\n\",text)"
      ],
      "execution_count": null,
      "outputs": [
        {
          "output_type": "execute_result",
          "data": {
            "text/plain": [
              "['사과', '딸기', '수박', '메론', '바나나']"
            ]
          },
          "metadata": {
            "tags": []
          },
          "execution_count": 39
        }
      ]
    },
    {
      "cell_type": "code",
      "metadata": {
        "id": "x5Vt719Ltqln",
        "outputId": "586bd8b6-6452-495d-ae4d-989230233e7d"
      },
      "source": [
        "text=\"사과+딸기+수박+메론+바나나\"    # \\+ : 문자 또는 숫자가 1개 이상인 경우 인식\n",
        "print(re.split(\"\\+\",text))\n",
        "text=\"사과*딸기*수박*메론*바나나\"\n",
        "print(re.split('\\*',text))"
      ],
      "execution_count": null,
      "outputs": [
        {
          "output_type": "stream",
          "text": [
            "['사과', '딸기', '수박', '메론', '바나나']\n",
            "['사과', '딸기', '수박', '메론', '바나나']\n"
          ],
          "name": "stdout"
        }
      ]
    },
    {
      "cell_type": "markdown",
      "metadata": {
        "id": "LxD5RySAtqlo"
      },
      "source": [
        "* re.findall()"
      ]
    },
    {
      "cell_type": "code",
      "metadata": {
        "id": "PCkNnrr0tqlo",
        "outputId": "b4661b06-80ae-4466-bd8b-be9fa921480c"
      },
      "source": [
        "text=\"\"\"이름 : 김철수\n",
        "전화번호 : 010 - 1234 - 1234\n",
        "나이 : 30\n",
        "성별 : 남\"\"\"  \n",
        "re.findall(\"\\d+\",text)    # \\d : 모든 숫자 의미 ([0-9])"
      ],
      "execution_count": null,
      "outputs": [
        {
          "output_type": "execute_result",
          "data": {
            "text/plain": [
              "['010', '1234', '1234', '30']"
            ]
          },
          "metadata": {
            "tags": []
          },
          "execution_count": 46
        }
      ]
    },
    {
      "cell_type": "markdown",
      "metadata": {
        "id": "nWFRSyZytqlp"
      },
      "source": [
        "* re.sub()\n",
        "> 정규표현식 패턴과 일치하는 문자열을 찾아 다른 문자열로 대체"
      ]
    },
    {
      "cell_type": "code",
      "metadata": {
        "id": "Vi8iFroStqlp",
        "outputId": "0aaf7666-4833-4097-aff2-cbbe6de76e1e"
      },
      "source": [
        "text=\"Regular expression : A regular expression, regex or regexp[1] (sometimes called a rational expression)[2][3] is, in theoretical computer science and formal language theory, a sequence of characters that define a search pattern.\"\n",
        "re.sub('[^a-zA-Z]',' ',text)    #알파벳 제외한 문자들을 공백으로 대체"
      ],
      "execution_count": null,
      "outputs": [
        {
          "output_type": "execute_result",
          "data": {
            "text/plain": [
              "'Regular expression   A regular expression  regex or regexp     sometimes called a rational expression        is  in theoretical computer science and formal language theory  a sequence of characters that define a search pattern '"
            ]
          },
          "metadata": {
            "tags": []
          },
          "execution_count": 52
        }
      ]
    },
    {
      "cell_type": "code",
      "metadata": {
        "id": "sez2qn4ptqlp",
        "outputId": "5828e6e9-f04b-464d-9f8c-01e6958b6c1a"
      },
      "source": [
        "text = \"\"\"100 John    PROF\n",
        "101 James   STUD\n",
        "102 Mac   STUD\"\"\"  \n",
        "\n",
        "re.split('\\s+', text)    # \\s+ : 최소 한개 이상의 공백"
      ],
      "execution_count": null,
      "outputs": [
        {
          "output_type": "execute_result",
          "data": {
            "text/plain": [
              "['100', 'John', 'PROF', '101', 'James', 'STUD', '102', 'Mac', 'STUD']"
            ]
          },
          "metadata": {
            "tags": []
          },
          "execution_count": 64
        }
      ]
    },
    {
      "cell_type": "code",
      "metadata": {
        "id": "q1xUzOVmtqlq",
        "outputId": "5fad643b-8514-4ca6-bfeb-c300020376a2"
      },
      "source": [
        "re.findall('\\d+',text)    # 최소 1개 이상의 숫자에 해당하는 값 (+ 대신 * 쓰면 적절하지않음)"
      ],
      "execution_count": null,
      "outputs": [
        {
          "output_type": "execute_result",
          "data": {
            "text/plain": [
              "['100', '101', '102']"
            ]
          },
          "metadata": {
            "tags": []
          },
          "execution_count": 65
        }
      ]
    },
    {
      "cell_type": "code",
      "metadata": {
        "id": "9hrufsYCtqlq",
        "outputId": "c66acd1a-b7fe-42ee-df8c-8cbdfb29c910"
      },
      "source": [
        "re.findall('[A-Z]',text)    # 대문자 값"
      ],
      "execution_count": null,
      "outputs": [
        {
          "output_type": "execute_result",
          "data": {
            "text/plain": [
              "['J', 'P', 'R', 'O', 'F', 'J', 'S', 'T', 'U', 'D', 'M', 'S', 'T', 'U', 'D']"
            ]
          },
          "metadata": {
            "tags": []
          },
          "execution_count": 66
        }
      ]
    },
    {
      "cell_type": "code",
      "metadata": {
        "id": "ZzooMdZBtqlr",
        "outputId": "109785c1-c692-4e4c-b2af-29e48b251b55"
      },
      "source": [
        "re.findall('[A-Z]{3,}',text)    # 대문자 연속 3개 이상"
      ],
      "execution_count": null,
      "outputs": [
        {
          "output_type": "execute_result",
          "data": {
            "text/plain": [
              "['PROF', 'STUD', 'STUD']"
            ]
          },
          "metadata": {
            "tags": []
          },
          "execution_count": 67
        }
      ]
    },
    {
      "cell_type": "code",
      "metadata": {
        "id": "AEAxPPigtqls",
        "outputId": "3e5778ec-45a8-4e92-8c79-8f3f15d53bd6"
      },
      "source": [
        "re.findall('[A-Z][a-z]+',text)    # 이름의 경우 : 처음 대문자가 등장, 이후 소문자가 여러번 등장"
      ],
      "execution_count": null,
      "outputs": [
        {
          "output_type": "execute_result",
          "data": {
            "text/plain": [
              "['John', 'James', 'Mac']"
            ]
          },
          "metadata": {
            "tags": []
          },
          "execution_count": 68
        }
      ]
    },
    {
      "cell_type": "markdown",
      "metadata": {
        "id": "CkYMcFuStqls"
      },
      "source": [
        "* NLTK에서는 정규 표현식을 사용해서 단어 토큰화를 수행하는 RegexpTokenizer를 지원합니다. RegexpTokenizer()에서 괄호 안에 원하는 정규 표현식을 넣어서 토큰화를 수행하는 것입니다."
      ]
    },
    {
      "cell_type": "code",
      "metadata": {
        "id": "m-n9D3tZtqlt",
        "outputId": "9b2f004c-e1d3-462a-b428-def262c3cb6d"
      },
      "source": [
        "from nltk.tokenize import RegexpTokenizer\n",
        "tokenizer=RegexpTokenizer(\"[\\w]+\")    # w : 문자 또는 숫자, W : w 여집합. (즉, 문자 또는 숫자가 1개 이상인 경우 인식하는 코드)\n",
        "print(tokenizer.tokenize(\"Don't be fooled by the dark sounding name, Mr. Jone's Orphanage is as cheery as cheery goes for a pastry shop\"))"
      ],
      "execution_count": null,
      "outputs": [
        {
          "output_type": "stream",
          "text": [
            "['Don', 't', 'be', 'fooled', 'by', 'the', 'dark', 'sounding', 'name', 'Mr', 'Jone', 's', 'Orphanage', 'is', 'as', 'cheery', 'as', 'cheery', 'goes', 'for', 'a', 'pastry', 'shop']\n"
          ],
          "name": "stdout"
        }
      ]
    },
    {
      "cell_type": "code",
      "metadata": {
        "id": "iWx-Ku3ptqlt",
        "outputId": "d32423f8-0eb8-4260-8c19-476332e7e8fe"
      },
      "source": [
        "tokenizer=RegexpTokenizer(\"[\\s]+\", gaps=True)    # \\s : 공백 의미 , gaps=True : 해당 정규표현식을 토큰으로 나누기 위한 기준으로 사용한다\n",
        "print(tokenizer.tokenize(\"Don't be fooled by the dark sounding name, Mr. Jone's Orphanage is as cheery as cheery goes for a pastry shop\"))"
      ],
      "execution_count": null,
      "outputs": [
        {
          "output_type": "stream",
          "text": [
            "[\"Don't\", 'be', 'fooled', 'by', 'the', 'dark', 'sounding', 'name,', 'Mr.', \"Jone's\", 'Orphanage', 'is', 'as', 'cheery', 'as', 'cheery', 'goes', 'for', 'a', 'pastry', 'shop']\n"
          ],
          "name": "stdout"
        }
      ]
    },
    {
      "cell_type": "code",
      "metadata": {
        "id": "2BL7TIh_tqlu"
      },
      "source": [
        ""
      ],
      "execution_count": null,
      "outputs": []
    }
  ]
}