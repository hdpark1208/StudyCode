{
  "nbformat": 4,
  "nbformat_minor": 0,
  "metadata": {
    "kernelspec": {
      "display_name": "Python 3",
      "language": "python",
      "name": "python3"
    },
    "language_info": {
      "codemirror_mode": {
        "name": "ipython",
        "version": 3
      },
      "file_extension": ".py",
      "mimetype": "text/x-python",
      "name": "python",
      "nbconvert_exporter": "python",
      "pygments_lexer": "ipython3",
      "version": "3.8.5"
    },
    "colab": {
      "name": "NLP_TopicModeling(LSA).ipynb",
      "provenance": [],
      "include_colab_link": true
    }
  },
  "cells": [
    {
      "cell_type": "markdown",
      "metadata": {
        "id": "view-in-github",
        "colab_type": "text"
      },
      "source": [
        "<a href=\"https://colab.research.google.com/github/hdpark1208/StudyCode/blob/main/NLP/NLP_TopicModeling(LSA).ipynb\" target=\"_parent\"><img src=\"https://colab.research.google.com/assets/colab-badge.svg\" alt=\"Open In Colab\"/></a>"
      ]
    },
    {
      "cell_type": "markdown",
      "metadata": {
        "id": "BQT0VZhMYviQ"
      },
      "source": [
        "## Topic Modeling\n",
        ">토픽(Topic)은 한국어로는 주제라고 합니다. 토픽 모델링(Topic Modeling)이란 기계 학습 및 자연어 처리 분야에서 토픽이라는 문서 집합의 추상적인 주제를 발견하기 위한 통계적 모델 중 하나로, 텍스트 본문의 숨겨진 의미 구조를 발견하기 위해 사용되는 텍스트 마이닝 기법입니다."
      ]
    },
    {
      "cell_type": "markdown",
      "metadata": {
        "id": "OqJ6t5JpYviS"
      },
      "source": [
        "## 특이값 분해(Singular Value Decomposition, SVD)"
      ]
    },
    {
      "cell_type": "markdown",
      "metadata": {
        "id": "4YfeVaTTYviS"
      },
      "source": [
        "![image.png](attachment:image.png)"
      ]
    },
    {
      "cell_type": "markdown",
      "metadata": {
        "id": "cb0G9hEOYviT"
      },
      "source": [
        "참고 :https://angeloyeo.github.io/2019/08/01/SVD.html"
      ]
    },
    {
      "cell_type": "markdown",
      "metadata": {
        "id": "VGxo907rYviT"
      },
      "source": [
        "## 잠재 의미 분석(Latent Semantic Analysis, LSA)\n",
        "> 기존의 DTM, TF-IDF 행렬은 단어의 의미를 고려하지 못한다  \n",
        "> LSA는 기본적으로 DTM, TF-IDF 행렬에 truncated SVD 를 사용하여 차원을 축소시키고 단어의 잠재적인 의미를 끌어낸다는 아이디어이다"
      ]
    },
    {
      "cell_type": "markdown",
      "metadata": {
        "id": "CaKV5SPAYviT"
      },
      "source": [
        "### Full SVD 수행"
      ]
    },
    {
      "cell_type": "code",
      "metadata": {
        "id": "DsSuhBprYviT",
        "outputId": "084d80e7-1c4d-413e-8eca-af32083e8677"
      },
      "source": [
        "import numpy as np\n",
        "A=np.array([[0,0,0,1,0,1,1,0,0],[0,0,0,1,1,0,1,0,0],[0,1,1,0,2,0,0,0,0],[1,0,0,0,0,0,0,1,1]])\n",
        "print(A) # DTM 이라 가정\n",
        "np.shape(A)"
      ],
      "execution_count": null,
      "outputs": [
        {
          "output_type": "stream",
          "text": [
            "[[0 0 0 1 0 1 1 0 0]\n",
            " [0 0 0 1 1 0 1 0 0]\n",
            " [0 1 1 0 2 0 0 0 0]\n",
            " [1 0 0 0 0 0 0 1 1]]\n"
          ],
          "name": "stdout"
        },
        {
          "output_type": "execute_result",
          "data": {
            "text/plain": [
              "(4, 9)"
            ]
          },
          "metadata": {
            "tags": []
          },
          "execution_count": 1
        }
      ]
    },
    {
      "cell_type": "code",
      "metadata": {
        "id": "wXJX3-R7YviV",
        "outputId": "96541f11-44e2-4ceb-fa9b-5f3467a16817"
      },
      "source": [
        "U, s, VT = np.linalg.svd(A,full_matrices = True)\n",
        "print(U.round(2))\n",
        "np.shape(U)"
      ],
      "execution_count": null,
      "outputs": [
        {
          "output_type": "stream",
          "text": [
            "[[ 0.24  0.75  0.    0.62]\n",
            " [ 0.51  0.44 -0.   -0.74]\n",
            " [ 0.83 -0.49 -0.    0.27]\n",
            " [ 0.   -0.    1.   -0.  ]]\n"
          ],
          "name": "stdout"
        },
        {
          "output_type": "execute_result",
          "data": {
            "text/plain": [
              "(4, 4)"
            ]
          },
          "metadata": {
            "tags": []
          },
          "execution_count": 2
        }
      ]
    },
    {
      "cell_type": "code",
      "metadata": {
        "id": "A-3Bk_1HYviV",
        "outputId": "1131f91e-c218-4090-f5b8-290e2d195022"
      },
      "source": [
        "print(s.round(2)) # 대각행렬이 아닌 특이값의 리스트로 반환\n",
        "np.shape(s)"
      ],
      "execution_count": null,
      "outputs": [
        {
          "output_type": "stream",
          "text": [
            "[2.69 2.05 1.73 0.77]\n"
          ],
          "name": "stdout"
        },
        {
          "output_type": "execute_result",
          "data": {
            "text/plain": [
              "(4,)"
            ]
          },
          "metadata": {
            "tags": []
          },
          "execution_count": 3
        }
      ]
    },
    {
      "cell_type": "code",
      "metadata": {
        "id": "g0D4LdzkYviW",
        "outputId": "bc3ceb24-ffd4-4c18-ed76-2ed8d599fd6f"
      },
      "source": [
        "S = np.zeros((4,9)) # 대각 행렬의 크기를 가지는 영행렬 생성\n",
        "S[:4, :4] = np.diag(s) # 특이값 리스트를 대각행렬에 삽입\n",
        "print(S.round(2))\n",
        "np.shape(S)"
      ],
      "execution_count": null,
      "outputs": [
        {
          "output_type": "stream",
          "text": [
            "[[2.69 0.   0.   0.   0.   0.   0.   0.   0.  ]\n",
            " [0.   2.05 0.   0.   0.   0.   0.   0.   0.  ]\n",
            " [0.   0.   1.73 0.   0.   0.   0.   0.   0.  ]\n",
            " [0.   0.   0.   0.77 0.   0.   0.   0.   0.  ]]\n"
          ],
          "name": "stdout"
        },
        {
          "output_type": "execute_result",
          "data": {
            "text/plain": [
              "(4, 9)"
            ]
          },
          "metadata": {
            "tags": []
          },
          "execution_count": 4
        }
      ]
    },
    {
      "cell_type": "code",
      "metadata": {
        "id": "iOvTqVaHYviW",
        "outputId": "a3bcfafe-6f28-402b-d0ea-e20a9f984a7c"
      },
      "source": [
        "print(VT.round(2))\n",
        "np.shape(VT)"
      ],
      "execution_count": null,
      "outputs": [
        {
          "output_type": "stream",
          "text": [
            "[[ 0.    0.31  0.31  0.28  0.8   0.09  0.28  0.    0.  ]\n",
            " [ 0.   -0.24 -0.24  0.58 -0.26  0.37  0.58 -0.   -0.  ]\n",
            " [ 0.58 -0.    0.    0.   -0.    0.   -0.    0.58  0.58]\n",
            " [-0.    0.35  0.35 -0.16 -0.25  0.8  -0.16  0.    0.  ]\n",
            " [-0.   -0.78 -0.01 -0.2   0.4   0.4  -0.2   0.    0.  ]\n",
            " [-0.29  0.31 -0.78 -0.24  0.23  0.23  0.01  0.14  0.14]\n",
            " [-0.29 -0.1   0.26 -0.59 -0.08 -0.08  0.66  0.14  0.14]\n",
            " [-0.5  -0.06  0.15  0.24 -0.05 -0.05 -0.19  0.75 -0.25]\n",
            " [-0.5  -0.06  0.15  0.24 -0.05 -0.05 -0.19 -0.25  0.75]]\n"
          ],
          "name": "stdout"
        },
        {
          "output_type": "execute_result",
          "data": {
            "text/plain": [
              "(9, 9)"
            ]
          },
          "metadata": {
            "tags": []
          },
          "execution_count": 5
        }
      ]
    },
    {
      "cell_type": "markdown",
      "metadata": {
        "id": "YqWWFQSsYviW"
      },
      "source": [
        "* np.allclose() : 2개의 행렬이 동일하면 True 리턴"
      ]
    },
    {
      "cell_type": "code",
      "metadata": {
        "id": "y-mykcUpYviW",
        "outputId": "ff9d6df3-e112-43a3-a338-694b2ad2fc8b"
      },
      "source": [
        "np.allclose(A,np.dot(np.dot(U,S),VT).round(2))"
      ],
      "execution_count": null,
      "outputs": [
        {
          "output_type": "execute_result",
          "data": {
            "text/plain": [
              "True"
            ]
          },
          "metadata": {
            "tags": []
          },
          "execution_count": 10
        }
      ]
    },
    {
      "cell_type": "markdown",
      "metadata": {
        "id": "2qbd9VkUYviX"
      },
      "source": [
        "### Truncated SVD"
      ]
    },
    {
      "cell_type": "code",
      "metadata": {
        "id": "rNy3WIn7YviX",
        "outputId": "07eeba5a-4d0a-497d-a029-b45fdd497f79"
      },
      "source": [
        "U = U[:,:2]\n",
        "S = S[:2,:2]\n",
        "VT = VT[:2,:]\n",
        "\n",
        "print(U)\n",
        "print(S)\n",
        "print(VT)\n",
        "print(np.shape(U),np.shape(S),np.shape(VT))"
      ],
      "execution_count": null,
      "outputs": [
        {
          "output_type": "stream",
          "text": [
            "[[ 2.39751712e-01  7.51083898e-01]\n",
            " [ 5.06077194e-01  4.44029376e-01]\n",
            " [ 8.28495619e-01 -4.88580485e-01]\n",
            " [ 7.37437945e-17 -1.55319324e-17]]\n",
            "[[2.68731789 0.        ]\n",
            " [0.         2.04508425]]\n",
            "[[ 5.55111512e-17  3.08298331e-01  3.08298331e-01  2.77536539e-01\n",
            "   8.04917216e-01  8.92159849e-02  2.77536539e-01  5.17165587e-17\n",
            "   5.17165587e-17]\n",
            " [ 1.11022302e-16 -2.38904821e-01 -2.38904821e-01  5.84383395e-01\n",
            "  -2.60689306e-01  3.67263060e-01  5.84383395e-01 -4.00759068e-17\n",
            "  -4.00759068e-17]]\n",
            "(4, 2) (2, 2) (2, 9)\n"
          ],
          "name": "stdout"
        }
      ]
    },
    {
      "cell_type": "code",
      "metadata": {
        "id": "vCeEJgAGYviX",
        "outputId": "66a8383d-5e96-41da-9ae6-8e0de9c1ea47"
      },
      "source": [
        "A # 기존의 A와 A를 SVD 수행한 행렬 비교"
      ],
      "execution_count": null,
      "outputs": [
        {
          "output_type": "execute_result",
          "data": {
            "text/plain": [
              "array([[0, 0, 0, 1, 0, 1, 1, 0, 0],\n",
              "       [0, 0, 0, 1, 1, 0, 1, 0, 0],\n",
              "       [0, 1, 1, 0, 2, 0, 0, 0, 0],\n",
              "       [1, 0, 0, 0, 0, 0, 0, 1, 1]])"
            ]
          },
          "metadata": {
            "tags": []
          },
          "execution_count": 15
        }
      ]
    },
    {
      "cell_type": "code",
      "metadata": {
        "id": "mjN1ceKuYviX",
        "outputId": "ee76351e-94cc-4fab-9694-9a298b4d6a0b"
      },
      "source": [
        "np.dot(np.dot(U,S),VT).round(2)"
      ],
      "execution_count": null,
      "outputs": [
        {
          "output_type": "execute_result",
          "data": {
            "text/plain": [
              "array([[ 0.  , -0.17, -0.17,  1.08,  0.12,  0.62,  1.08, -0.  , -0.  ],\n",
              "       [ 0.  ,  0.2 ,  0.2 ,  0.91,  0.86,  0.45,  0.91,  0.  ,  0.  ],\n",
              "       [ 0.  ,  0.93,  0.93,  0.03,  2.05, -0.17,  0.03,  0.  ,  0.  ],\n",
              "       [ 0.  ,  0.  ,  0.  ,  0.  ,  0.  ,  0.  ,  0.  ,  0.  ,  0.  ]])"
            ]
          },
          "metadata": {
            "tags": []
          },
          "execution_count": 16
        }
      ]
    },
    {
      "cell_type": "code",
      "metadata": {
        "id": "FGbzSfbbYviY",
        "outputId": "cd11e805-f1bd-4c2f-c404-f1eb75901fd2"
      },
      "source": [
        "print(np.shape(A))\n",
        "print(np.shape(U))\n",
        "print(np.shape(VT))"
      ],
      "execution_count": null,
      "outputs": [
        {
          "output_type": "stream",
          "text": [
            "(4, 9)\n",
            "(4, 2)\n",
            "(2, 9)\n"
          ],
          "name": "stdout"
        }
      ]
    },
    {
      "cell_type": "markdown",
      "metadata": {
        "id": "_T6A4zsuYviY"
      },
      "source": [
        "축소된 U, S, VT 가 가지는 의미\n",
        "A : 문서의 개수 X 단어의 수 : 4 X 9  \n",
        "U : 문서의 개수 X 토픽의 수 : 4 X 2  \n",
        "(U의 각 행은 잠재 의미를 표현하기 위한 수치화 된 각각의 문서 벡터로 볼 수 있다)   \n",
        "VT : 토픽의 수 X 단어의 개수 : 2 X 9  \n",
        "(VT의 각 열은 잠재 의미를 표현하기 위한 수치화 된 각각의 문서 벡터로 볼 수 있다)   "
      ]
    },
    {
      "cell_type": "markdown",
      "metadata": {
        "id": "q_ouWad_YviY"
      },
      "source": [
        "## 실습"
      ]
    },
    {
      "cell_type": "code",
      "metadata": {
        "id": "hK0drb62YviY",
        "outputId": "75454ddd-7944-4440-d63c-5bcb617cb79a"
      },
      "source": [
        "import pandas as pd\n",
        "import numpy as np\n",
        "from sklearn.datasets import fetch_20newsgroups\n",
        "dataset = fetch_20newsgroups(shuffle=True,random_state=1,remove=('headers','footers','quotes'))\n",
        "documents = dataset.data\n",
        "print(type(dataset))\n",
        "print(type(documents))"
      ],
      "execution_count": null,
      "outputs": [
        {
          "output_type": "stream",
          "text": [
            "<class 'sklearn.utils.Bunch'>\n",
            "<class 'list'>\n"
          ],
          "name": "stdout"
        }
      ]
    },
    {
      "cell_type": "code",
      "metadata": {
        "id": "1vZcwbraYviY",
        "outputId": "d844eee6-cade-4f69-e5e5-987398d60f5a"
      },
      "source": [
        "print(len(documents))\n",
        "documents[1]"
      ],
      "execution_count": null,
      "outputs": [
        {
          "output_type": "stream",
          "text": [
            "11314\n"
          ],
          "name": "stdout"
        },
        {
          "output_type": "execute_result",
          "data": {
            "text/plain": [
              "\"\\n\\n\\n\\n\\n\\n\\nYeah, do you expect people to read the FAQ, etc. and actually accept hard\\natheism?  No, you need a little leap of faith, Jimmy.  Your logic runs out\\nof steam!\\n\\n\\n\\n\\n\\n\\n\\nJim,\\n\\nSorry I can't pity you, Jim.  And I'm sorry that you have these feelings of\\ndenial about the faith you need to get by.  Oh well, just pretend that it will\\nall end happily ever after anyway.  Maybe if you start a new newsgroup,\\nalt.atheist.hard, you won't be bummin' so much?\\n\\n\\n\\n\\n\\n\\nBye-Bye, Big Jim.  Don't forget your Flintstone's Chewables!  :) \\n--\\nBake Timmons, III\""
            ]
          },
          "metadata": {
            "tags": []
          },
          "execution_count": 44
        }
      ]
    },
    {
      "cell_type": "code",
      "metadata": {
        "id": "Akw66N3SYviZ",
        "outputId": "d5c850e3-3b9f-4475-a2fe-8ca0c0d394ee"
      },
      "source": [
        "dataset.target_names # 20개의 카테고리"
      ],
      "execution_count": null,
      "outputs": [
        {
          "output_type": "execute_result",
          "data": {
            "text/plain": [
              "['alt.atheism',\n",
              " 'comp.graphics',\n",
              " 'comp.os.ms-windows.misc',\n",
              " 'comp.sys.ibm.pc.hardware',\n",
              " 'comp.sys.mac.hardware',\n",
              " 'comp.windows.x',\n",
              " 'misc.forsale',\n",
              " 'rec.autos',\n",
              " 'rec.motorcycles',\n",
              " 'rec.sport.baseball',\n",
              " 'rec.sport.hockey',\n",
              " 'sci.crypt',\n",
              " 'sci.electronics',\n",
              " 'sci.med',\n",
              " 'sci.space',\n",
              " 'soc.religion.christian',\n",
              " 'talk.politics.guns',\n",
              " 'talk.politics.mideast',\n",
              " 'talk.politics.misc',\n",
              " 'talk.religion.misc']"
            ]
          },
          "metadata": {
            "tags": []
          },
          "execution_count": 45
        }
      ]
    },
    {
      "cell_type": "markdown",
      "metadata": {
        "id": "fQ10tBkVYviZ"
      },
      "source": [
        "* Text Preprocessing"
      ]
    },
    {
      "cell_type": "code",
      "metadata": {
        "scrolled": true,
        "id": "V99zf80kYviZ",
        "outputId": "e1a10bc6-c287-498e-caf7-3caec2f81b33"
      },
      "source": [
        "test = pd.DataFrame({'a':[\"it's just test\",\"hi i am boy\",\"가 나다 라\"]})\n",
        "test"
      ],
      "execution_count": null,
      "outputs": [
        {
          "output_type": "execute_result",
          "data": {
            "text/html": [
              "<div>\n",
              "<style scoped>\n",
              "    .dataframe tbody tr th:only-of-type {\n",
              "        vertical-align: middle;\n",
              "    }\n",
              "\n",
              "    .dataframe tbody tr th {\n",
              "        vertical-align: top;\n",
              "    }\n",
              "\n",
              "    .dataframe thead th {\n",
              "        text-align: right;\n",
              "    }\n",
              "</style>\n",
              "<table border=\"1\" class=\"dataframe\">\n",
              "  <thead>\n",
              "    <tr style=\"text-align: right;\">\n",
              "      <th></th>\n",
              "      <th>a</th>\n",
              "    </tr>\n",
              "  </thead>\n",
              "  <tbody>\n",
              "    <tr>\n",
              "      <th>0</th>\n",
              "      <td>it's just test</td>\n",
              "    </tr>\n",
              "    <tr>\n",
              "      <th>1</th>\n",
              "      <td>hi i am boy</td>\n",
              "    </tr>\n",
              "    <tr>\n",
              "      <th>2</th>\n",
              "      <td>가 나다 라</td>\n",
              "    </tr>\n",
              "  </tbody>\n",
              "</table>\n",
              "</div>"
            ],
            "text/plain": [
              "                a\n",
              "0  it's just test\n",
              "1     hi i am boy\n",
              "2          가 나다 라"
            ]
          },
          "metadata": {
            "tags": []
          },
          "execution_count": 46
        }
      ]
    },
    {
      "cell_type": "code",
      "metadata": {
        "id": "-r6LMcm_YviZ",
        "outputId": "16ae1dcf-7cdb-4e14-9825-502002fb4343"
      },
      "source": [
        "test['a'] = test['a'].apply(lambda x:'-'.join([w for w in x.split()]))\n",
        "# 공백을 기준으로 나눈 리스트를 '-' 를 구분자로 나눔\n",
        "test"
      ],
      "execution_count": null,
      "outputs": [
        {
          "output_type": "execute_result",
          "data": {
            "text/html": [
              "<div>\n",
              "<style scoped>\n",
              "    .dataframe tbody tr th:only-of-type {\n",
              "        vertical-align: middle;\n",
              "    }\n",
              "\n",
              "    .dataframe tbody tr th {\n",
              "        vertical-align: top;\n",
              "    }\n",
              "\n",
              "    .dataframe thead th {\n",
              "        text-align: right;\n",
              "    }\n",
              "</style>\n",
              "<table border=\"1\" class=\"dataframe\">\n",
              "  <thead>\n",
              "    <tr style=\"text-align: right;\">\n",
              "      <th></th>\n",
              "      <th>a</th>\n",
              "    </tr>\n",
              "  </thead>\n",
              "  <tbody>\n",
              "    <tr>\n",
              "      <th>0</th>\n",
              "      <td>it's-just-test</td>\n",
              "    </tr>\n",
              "    <tr>\n",
              "      <th>1</th>\n",
              "      <td>hi-i-am-boy</td>\n",
              "    </tr>\n",
              "    <tr>\n",
              "      <th>2</th>\n",
              "      <td>가-나다-라</td>\n",
              "    </tr>\n",
              "  </tbody>\n",
              "</table>\n",
              "</div>"
            ],
            "text/plain": [
              "                a\n",
              "0  it's-just-test\n",
              "1     hi-i-am-boy\n",
              "2          가-나다-라"
            ]
          },
          "metadata": {
            "tags": []
          },
          "execution_count": 47
        }
      ]
    },
    {
      "cell_type": "code",
      "metadata": {
        "id": "YjVhnQSGYviZ",
        "outputId": "e8952057-0bcb-47e5-893b-646b2f77f50b"
      },
      "source": [
        "news_df = pd.DataFrame({'document':documents})\n",
        "news_df.head()"
      ],
      "execution_count": null,
      "outputs": [
        {
          "output_type": "execute_result",
          "data": {
            "text/html": [
              "<div>\n",
              "<style scoped>\n",
              "    .dataframe tbody tr th:only-of-type {\n",
              "        vertical-align: middle;\n",
              "    }\n",
              "\n",
              "    .dataframe tbody tr th {\n",
              "        vertical-align: top;\n",
              "    }\n",
              "\n",
              "    .dataframe thead th {\n",
              "        text-align: right;\n",
              "    }\n",
              "</style>\n",
              "<table border=\"1\" class=\"dataframe\">\n",
              "  <thead>\n",
              "    <tr style=\"text-align: right;\">\n",
              "      <th></th>\n",
              "      <th>document</th>\n",
              "    </tr>\n",
              "  </thead>\n",
              "  <tbody>\n",
              "    <tr>\n",
              "      <th>0</th>\n",
              "      <td>Well i'm not sure about the story nad it did s...</td>\n",
              "    </tr>\n",
              "    <tr>\n",
              "      <th>1</th>\n",
              "      <td>\\n\\n\\n\\n\\n\\n\\nYeah, do you expect people to re...</td>\n",
              "    </tr>\n",
              "    <tr>\n",
              "      <th>2</th>\n",
              "      <td>Although I realize that principle is not one o...</td>\n",
              "    </tr>\n",
              "    <tr>\n",
              "      <th>3</th>\n",
              "      <td>Notwithstanding all the legitimate fuss about ...</td>\n",
              "    </tr>\n",
              "    <tr>\n",
              "      <th>4</th>\n",
              "      <td>Well, I will have to change the scoring on my ...</td>\n",
              "    </tr>\n",
              "  </tbody>\n",
              "</table>\n",
              "</div>"
            ],
            "text/plain": [
              "                                            document\n",
              "0  Well i'm not sure about the story nad it did s...\n",
              "1  \\n\\n\\n\\n\\n\\n\\nYeah, do you expect people to re...\n",
              "2  Although I realize that principle is not one o...\n",
              "3  Notwithstanding all the legitimate fuss about ...\n",
              "4  Well, I will have to change the scoring on my ..."
            ]
          },
          "metadata": {
            "tags": []
          },
          "execution_count": 48
        }
      ]
    },
    {
      "cell_type": "code",
      "metadata": {
        "id": "fc3j91SgYviZ",
        "outputId": "a6ba9787-7401-4191-abfc-9f0bd3983a74"
      },
      "source": [
        "news_df['clean_doc'] = news_df['document'].str.replace(\"[^a-zA-Z]\",\" \") # 특수 문자 공백으로 대체\n",
        "news_df.head()"
      ],
      "execution_count": null,
      "outputs": [
        {
          "output_type": "execute_result",
          "data": {
            "text/html": [
              "<div>\n",
              "<style scoped>\n",
              "    .dataframe tbody tr th:only-of-type {\n",
              "        vertical-align: middle;\n",
              "    }\n",
              "\n",
              "    .dataframe tbody tr th {\n",
              "        vertical-align: top;\n",
              "    }\n",
              "\n",
              "    .dataframe thead th {\n",
              "        text-align: right;\n",
              "    }\n",
              "</style>\n",
              "<table border=\"1\" class=\"dataframe\">\n",
              "  <thead>\n",
              "    <tr style=\"text-align: right;\">\n",
              "      <th></th>\n",
              "      <th>document</th>\n",
              "      <th>clean_doc</th>\n",
              "    </tr>\n",
              "  </thead>\n",
              "  <tbody>\n",
              "    <tr>\n",
              "      <th>0</th>\n",
              "      <td>Well i'm not sure about the story nad it did s...</td>\n",
              "      <td>Well i m not sure about the story nad it did s...</td>\n",
              "    </tr>\n",
              "    <tr>\n",
              "      <th>1</th>\n",
              "      <td>\\n\\n\\n\\n\\n\\n\\nYeah, do you expect people to re...</td>\n",
              "      <td>Yeah  do you expect people to read the ...</td>\n",
              "    </tr>\n",
              "    <tr>\n",
              "      <th>2</th>\n",
              "      <td>Although I realize that principle is not one o...</td>\n",
              "      <td>Although I realize that principle is not one o...</td>\n",
              "    </tr>\n",
              "    <tr>\n",
              "      <th>3</th>\n",
              "      <td>Notwithstanding all the legitimate fuss about ...</td>\n",
              "      <td>Notwithstanding all the legitimate fuss about ...</td>\n",
              "    </tr>\n",
              "    <tr>\n",
              "      <th>4</th>\n",
              "      <td>Well, I will have to change the scoring on my ...</td>\n",
              "      <td>Well  I will have to change the scoring on my ...</td>\n",
              "    </tr>\n",
              "  </tbody>\n",
              "</table>\n",
              "</div>"
            ],
            "text/plain": [
              "                                            document  \\\n",
              "0  Well i'm not sure about the story nad it did s...   \n",
              "1  \\n\\n\\n\\n\\n\\n\\nYeah, do you expect people to re...   \n",
              "2  Although I realize that principle is not one o...   \n",
              "3  Notwithstanding all the legitimate fuss about ...   \n",
              "4  Well, I will have to change the scoring on my ...   \n",
              "\n",
              "                                           clean_doc  \n",
              "0  Well i m not sure about the story nad it did s...  \n",
              "1         Yeah  do you expect people to read the ...  \n",
              "2  Although I realize that principle is not one o...  \n",
              "3  Notwithstanding all the legitimate fuss about ...  \n",
              "4  Well  I will have to change the scoring on my ...  "
            ]
          },
          "metadata": {
            "tags": []
          },
          "execution_count": 49
        }
      ]
    },
    {
      "cell_type": "code",
      "metadata": {
        "id": "A5QE9g2mYvia",
        "outputId": "86ae22d6-be64-4c73-b2c6-91d170ef4037"
      },
      "source": [
        "news_df['clean_doc'] = news_df['clean_doc'].apply(lambda x:' '.join([w for w in x.split() if len(w)>3]))\n",
        "# 공백을 기준으로 split\n",
        "#길이가 3보다 큰 것들만 공백을 기준으로 join\n",
        "news_df.head()"
      ],
      "execution_count": null,
      "outputs": [
        {
          "output_type": "execute_result",
          "data": {
            "text/html": [
              "<div>\n",
              "<style scoped>\n",
              "    .dataframe tbody tr th:only-of-type {\n",
              "        vertical-align: middle;\n",
              "    }\n",
              "\n",
              "    .dataframe tbody tr th {\n",
              "        vertical-align: top;\n",
              "    }\n",
              "\n",
              "    .dataframe thead th {\n",
              "        text-align: right;\n",
              "    }\n",
              "</style>\n",
              "<table border=\"1\" class=\"dataframe\">\n",
              "  <thead>\n",
              "    <tr style=\"text-align: right;\">\n",
              "      <th></th>\n",
              "      <th>document</th>\n",
              "      <th>clean_doc</th>\n",
              "    </tr>\n",
              "  </thead>\n",
              "  <tbody>\n",
              "    <tr>\n",
              "      <th>0</th>\n",
              "      <td>Well i'm not sure about the story nad it did s...</td>\n",
              "      <td>Well sure about story seem biased What disagre...</td>\n",
              "    </tr>\n",
              "    <tr>\n",
              "      <th>1</th>\n",
              "      <td>\\n\\n\\n\\n\\n\\n\\nYeah, do you expect people to re...</td>\n",
              "      <td>Yeah expect people read actually accept hard a...</td>\n",
              "    </tr>\n",
              "    <tr>\n",
              "      <th>2</th>\n",
              "      <td>Although I realize that principle is not one o...</td>\n",
              "      <td>Although realize that principle your strongest...</td>\n",
              "    </tr>\n",
              "    <tr>\n",
              "      <th>3</th>\n",
              "      <td>Notwithstanding all the legitimate fuss about ...</td>\n",
              "      <td>Notwithstanding legitimate fuss about this pro...</td>\n",
              "    </tr>\n",
              "    <tr>\n",
              "      <th>4</th>\n",
              "      <td>Well, I will have to change the scoring on my ...</td>\n",
              "      <td>Well will have change scoring playoff pool Unf...</td>\n",
              "    </tr>\n",
              "  </tbody>\n",
              "</table>\n",
              "</div>"
            ],
            "text/plain": [
              "                                            document  \\\n",
              "0  Well i'm not sure about the story nad it did s...   \n",
              "1  \\n\\n\\n\\n\\n\\n\\nYeah, do you expect people to re...   \n",
              "2  Although I realize that principle is not one o...   \n",
              "3  Notwithstanding all the legitimate fuss about ...   \n",
              "4  Well, I will have to change the scoring on my ...   \n",
              "\n",
              "                                           clean_doc  \n",
              "0  Well sure about story seem biased What disagre...  \n",
              "1  Yeah expect people read actually accept hard a...  \n",
              "2  Although realize that principle your strongest...  \n",
              "3  Notwithstanding legitimate fuss about this pro...  \n",
              "4  Well will have change scoring playoff pool Unf...  "
            ]
          },
          "metadata": {
            "tags": []
          },
          "execution_count": 50
        }
      ]
    },
    {
      "cell_type": "code",
      "metadata": {
        "id": "ikUUGN06Yvia",
        "outputId": "9919458c-9fff-4e70-ed8a-d56c04dc0d40"
      },
      "source": [
        "news_df['clean_doc'] = news_df['clean_doc'].apply(lambda x:x.lower())\n",
        "# 소문자로 변환\n",
        "news_df.head()"
      ],
      "execution_count": null,
      "outputs": [
        {
          "output_type": "execute_result",
          "data": {
            "text/html": [
              "<div>\n",
              "<style scoped>\n",
              "    .dataframe tbody tr th:only-of-type {\n",
              "        vertical-align: middle;\n",
              "    }\n",
              "\n",
              "    .dataframe tbody tr th {\n",
              "        vertical-align: top;\n",
              "    }\n",
              "\n",
              "    .dataframe thead th {\n",
              "        text-align: right;\n",
              "    }\n",
              "</style>\n",
              "<table border=\"1\" class=\"dataframe\">\n",
              "  <thead>\n",
              "    <tr style=\"text-align: right;\">\n",
              "      <th></th>\n",
              "      <th>document</th>\n",
              "      <th>clean_doc</th>\n",
              "    </tr>\n",
              "  </thead>\n",
              "  <tbody>\n",
              "    <tr>\n",
              "      <th>0</th>\n",
              "      <td>Well i'm not sure about the story nad it did s...</td>\n",
              "      <td>well sure about story seem biased what disagre...</td>\n",
              "    </tr>\n",
              "    <tr>\n",
              "      <th>1</th>\n",
              "      <td>\\n\\n\\n\\n\\n\\n\\nYeah, do you expect people to re...</td>\n",
              "      <td>yeah expect people read actually accept hard a...</td>\n",
              "    </tr>\n",
              "    <tr>\n",
              "      <th>2</th>\n",
              "      <td>Although I realize that principle is not one o...</td>\n",
              "      <td>although realize that principle your strongest...</td>\n",
              "    </tr>\n",
              "    <tr>\n",
              "      <th>3</th>\n",
              "      <td>Notwithstanding all the legitimate fuss about ...</td>\n",
              "      <td>notwithstanding legitimate fuss about this pro...</td>\n",
              "    </tr>\n",
              "    <tr>\n",
              "      <th>4</th>\n",
              "      <td>Well, I will have to change the scoring on my ...</td>\n",
              "      <td>well will have change scoring playoff pool unf...</td>\n",
              "    </tr>\n",
              "  </tbody>\n",
              "</table>\n",
              "</div>"
            ],
            "text/plain": [
              "                                            document  \\\n",
              "0  Well i'm not sure about the story nad it did s...   \n",
              "1  \\n\\n\\n\\n\\n\\n\\nYeah, do you expect people to re...   \n",
              "2  Although I realize that principle is not one o...   \n",
              "3  Notwithstanding all the legitimate fuss about ...   \n",
              "4  Well, I will have to change the scoring on my ...   \n",
              "\n",
              "                                           clean_doc  \n",
              "0  well sure about story seem biased what disagre...  \n",
              "1  yeah expect people read actually accept hard a...  \n",
              "2  although realize that principle your strongest...  \n",
              "3  notwithstanding legitimate fuss about this pro...  \n",
              "4  well will have change scoring playoff pool unf...  "
            ]
          },
          "metadata": {
            "tags": []
          },
          "execution_count": 51
        }
      ]
    },
    {
      "cell_type": "markdown",
      "metadata": {
        "id": "r2R-93uaYvia"
      },
      "source": [
        "* 불용어 제거"
      ]
    },
    {
      "cell_type": "code",
      "metadata": {
        "id": "-IkW1eLFYvia",
        "outputId": "8a4ade05-37b7-410e-a038-860b0cde6ef6"
      },
      "source": [
        "from nltk.corpus import stopwords\n",
        "stop_words = stopwords.words('english') # NLTK로부터 불용어를 받아온다\n",
        "tokenized_doc = news_df['clean_doc'].apply(lambda x: x.split()) # 토큰화\n",
        "tokenized_doc[:5]"
      ],
      "execution_count": null,
      "outputs": [
        {
          "output_type": "execute_result",
          "data": {
            "text/plain": [
              "0    [well, sure, about, story, seem, biased, what,...\n",
              "1    [yeah, expect, people, read, actually, accept,...\n",
              "2    [although, realize, that, principle, your, str...\n",
              "3    [notwithstanding, legitimate, fuss, about, thi...\n",
              "4    [well, will, have, change, scoring, playoff, p...\n",
              "Name: clean_doc, dtype: object"
            ]
          },
          "metadata": {
            "tags": []
          },
          "execution_count": 53
        }
      ]
    },
    {
      "cell_type": "code",
      "metadata": {
        "id": "fi48dnJxYvia",
        "outputId": "47dfeaef-8317-49a7-f6b0-effa315ddd06"
      },
      "source": [
        "tokenized_doc = tokenized_doc.apply(lambda x : [item for item in x if item not in stop_words])\n",
        "tokenized_doc[0][:10] # 불용어 제거"
      ],
      "execution_count": null,
      "outputs": [
        {
          "output_type": "execute_result",
          "data": {
            "text/plain": [
              "['well',\n",
              " 'sure',\n",
              " 'story',\n",
              " 'seem',\n",
              " 'biased',\n",
              " 'disagree',\n",
              " 'statement',\n",
              " 'media',\n",
              " 'ruin',\n",
              " 'israels']"
            ]
          },
          "metadata": {
            "tags": []
          },
          "execution_count": 61
        }
      ]
    },
    {
      "cell_type": "markdown",
      "metadata": {
        "id": "31-2GoDPYvia"
      },
      "source": [
        "* Detokenization"
      ]
    },
    {
      "cell_type": "code",
      "metadata": {
        "id": "YW2jyHd6Yvia",
        "outputId": "a90f456c-8f9a-48c3-e0e2-50cae29a796e"
      },
      "source": [
        "# 불용어가 제거된 상태에서 다시 문서 형태로 되돌리는 것\n",
        "detokenized_doc = []\n",
        "for i in range(len(news_df)):\n",
        "    t = ' '.join(tokenized_doc[i])\n",
        "    detokenized_doc.append(t)\n",
        "    \n",
        "news_df['clean_doc'] = detokenized_doc\n",
        "detokenized_doc[0]"
      ],
      "execution_count": null,
      "outputs": [
        {
          "output_type": "execute_result",
          "data": {
            "text/plain": [
              "'well sure story seem biased disagree statement media ruin israels reputation rediculous media israeli media world lived europe realize incidences described letter occured media whole seem ignore subsidizing israels existance europeans least degree think might reason report clearly atrocities shame austria daily reports inhuman acts commited israeli soldiers blessing received government makes holocaust guilt away look jews treating races power unfortunate'"
            ]
          },
          "metadata": {
            "tags": []
          },
          "execution_count": 63
        }
      ]
    },
    {
      "cell_type": "code",
      "metadata": {
        "id": "ExxX6kuCYvib",
        "outputId": "ddbf9f79-2604-4401-f784-8793bfbe23c5"
      },
      "source": [
        "news_df['clean_doc'].head()"
      ],
      "execution_count": null,
      "outputs": [
        {
          "output_type": "execute_result",
          "data": {
            "text/plain": [
              "0    well sure story seem biased disagree statement...\n",
              "1    yeah expect people read actually accept hard a...\n",
              "2    although realize principle strongest points wo...\n",
              "3    notwithstanding legitimate fuss proposal much ...\n",
              "4    well change scoring playoff pool unfortunately...\n",
              "Name: clean_doc, dtype: object"
            ]
          },
          "metadata": {
            "tags": []
          },
          "execution_count": 69
        }
      ]
    },
    {
      "cell_type": "code",
      "metadata": {
        "id": "ljNU_bdUYvib",
        "outputId": "2d06fa00-a04c-498c-d6d9-e29c37abaeec"
      },
      "source": [
        "len(news_df['clean_doc'])"
      ],
      "execution_count": null,
      "outputs": [
        {
          "output_type": "execute_result",
          "data": {
            "text/plain": [
              "11314"
            ]
          },
          "metadata": {
            "tags": []
          },
          "execution_count": 70
        }
      ]
    },
    {
      "cell_type": "code",
      "metadata": {
        "id": "vHM4kduOYvib",
        "outputId": "a9536cdd-ccdf-4472-c456-147d7e9f2fd6"
      },
      "source": [
        "from sklearn.feature_extraction.text import TfidfVectorizer\n",
        "\n",
        "vectorizer = TfidfVectorizer(stop_words='english',\n",
        "                             max_features=1000, # 상위 1000개의 단어를 보존\n",
        "                             max_df = 0.5,\n",
        "                             smooth_idf=True)\n",
        "X = vectorizer.fit_transform(news_df['clean_doc'])\n",
        "X.shape # 행렬 크기 확인"
      ],
      "execution_count": null,
      "outputs": [
        {
          "output_type": "execute_result",
          "data": {
            "text/plain": [
              "(11314, 1000)"
            ]
          },
          "metadata": {
            "tags": []
          },
          "execution_count": 74
        }
      ]
    },
    {
      "cell_type": "markdown",
      "metadata": {
        "id": "IDrQ11RvYvib"
      },
      "source": [
        "* Topic Modeling"
      ]
    },
    {
      "cell_type": "code",
      "metadata": {
        "id": "6i6QoIg3Yvib",
        "outputId": "cb8ba522-2814-4b2d-b7e6-421d0ae4090d"
      },
      "source": [
        "from sklearn.decomposition import TruncatedSVD # SVD\n",
        "svd_model = TruncatedSVD(n_components=20, algorithm='randomized', n_iter=100, random_state=122)\n",
        "svd_model.fit(X)\n",
        "len(svd_model.components_)"
      ],
      "execution_count": null,
      "outputs": [
        {
          "output_type": "execute_result",
          "data": {
            "text/plain": [
              "20"
            ]
          },
          "metadata": {
            "tags": []
          },
          "execution_count": 75
        }
      ]
    },
    {
      "cell_type": "code",
      "metadata": {
        "id": "DClh3xJ7Yvib",
        "outputId": "f3963bc2-ce81-4924-b219-1f5b32c1a837"
      },
      "source": [
        "np.shape(svd_model.components_) # VT 에 해당"
      ],
      "execution_count": null,
      "outputs": [
        {
          "output_type": "execute_result",
          "data": {
            "text/plain": [
              "(20, 1000)"
            ]
          },
          "metadata": {
            "tags": []
          },
          "execution_count": 78
        }
      ]
    },
    {
      "cell_type": "code",
      "metadata": {
        "id": "n9cITL8PYvic",
        "outputId": "9a69f320-1688-4381-8884-f730a1f06bfa"
      },
      "source": [
        "svd_model.components_[0] # '0' 토픽의 1000개 단어에 대한 값"
      ],
      "execution_count": null,
      "outputs": [
        {
          "output_type": "execute_result",
          "data": {
            "text/plain": [
              "array([0.01469447, 0.05019033, 0.02132607, 0.03099971, 0.01786723,\n",
              "       0.01260325, 0.01715725, 0.01224439, 0.01126587, 0.06126056,\n",
              "       0.01114634, 0.01188523, 0.00909293, 0.03608965, 0.0119157 ,\n",
              "       0.0424128 , 0.01857113, 0.00890044, 0.03624319, 0.01657918,\n",
              "       0.02174245, 0.01354628, 0.01112828, 0.01230344, 0.01455431,\n",
              "       0.02946656, 0.0115149 , 0.00979221, 0.00642394, 0.00974007,\n",
              "       0.03633115, 0.01418675, 0.02011534, 0.04356877, 0.01712549,\n",
              "       0.01251488, 0.01446864, 0.029691  , 0.02643804, 0.01646404,\n",
              "       0.01288599, 0.02301893, 0.03350333, 0.01178545, 0.01300871,\n",
              "       0.01944342, 0.01244579, 0.00888671, 0.03220778, 0.01262578,\n",
              "       0.02545491, 0.01232535, 0.00834398, 0.01797053, 0.01751491,\n",
              "       0.01108651, 0.01278451, 0.03838722, 0.01352356, 0.02482804,\n",
              "       0.02255126, 0.02324325, 0.01423322, 0.01096089, 0.01091531,\n",
              "       0.01466118, 0.01037784, 0.01137089, 0.01225925, 0.0532616 ,\n",
              "       0.02038375, 0.01650816, 0.04202284, 0.01134817, 0.01758083,\n",
              "       0.02129601, 0.04141772, 0.01470755, 0.01677757, 0.01381584,\n",
              "       0.01236083, 0.01086768, 0.01498097, 0.01325659, 0.08220224,\n",
              "       0.06200249, 0.07689822, 0.03651773, 0.04056984, 0.01113398,\n",
              "       0.01385225, 0.02417875, 0.0106775 , 0.01614253, 0.01261469,\n",
              "       0.03158378, 0.0260303 , 0.04251836, 0.02300218, 0.0108797 ,\n",
              "       0.02576469, 0.01649699, 0.01653153, 0.01309116, 0.02113356,\n",
              "       0.0168613 , 0.02160244, 0.02277821, 0.01766103, 0.01209165,\n",
              "       0.04951516, 0.01328042, 0.01327223, 0.03460901, 0.01450857,\n",
              "       0.06256104, 0.02507637, 0.03054645, 0.01642828, 0.02689549,\n",
              "       0.06390129, 0.01893966, 0.03184328, 0.02070654, 0.02776364,\n",
              "       0.03306809, 0.01949068, 0.03718624, 0.01713592, 0.01366479,\n",
              "       0.0025422 , 0.00996788, 0.01935826, 0.03139309, 0.01330904,\n",
              "       0.01562242, 0.03065119, 0.04633691, 0.02102321, 0.01930102,\n",
              "       0.01313884, 0.02634759, 0.0358713 , 0.01786459, 0.02937531,\n",
              "       0.03078638, 0.01439232, 0.02196703, 0.0136175 , 0.03000931,\n",
              "       0.0158198 , 0.01743072, 0.02402228, 0.01685744, 0.02220602,\n",
              "       0.02799153, 0.01505413, 0.0222161 , 0.03637578, 0.03187533,\n",
              "       0.01030643, 0.01465241, 0.06224601, 0.03575263, 0.02176151,\n",
              "       0.01564332, 0.01526995, 0.01823545, 0.01360693, 0.00694956,\n",
              "       0.02513555, 0.01206525, 0.01167627, 0.01244022, 0.01488165,\n",
              "       0.02670171, 0.01802955, 0.01952945, 0.04819394, 0.00977163,\n",
              "       0.0250363 , 0.0097061 , 0.01215115, 0.0115605 , 0.02848172,\n",
              "       0.01913647, 0.01591959, 0.02362794, 0.00999275, 0.01427727,\n",
              "       0.01305038, 0.00434447, 0.03815593, 0.02226905, 0.01325203,\n",
              "       0.00908623, 0.02746627, 0.02932749, 0.03263657, 0.01427721,\n",
              "       0.01303751, 0.01225802, 0.02685472, 0.03354614, 0.06092838,\n",
              "       0.0205408 , 0.01487546, 0.01905433, 0.01504163, 0.01955225,\n",
              "       0.01322527, 0.01321433, 0.03686972, 0.02135301, 0.05251387,\n",
              "       0.01687022, 0.01770792, 0.02858356, 0.03621251, 0.0231742 ,\n",
              "       0.03032944, 0.02414453, 0.01642311, 0.00990007, 0.0074826 ,\n",
              "       0.02020869, 0.01010586, 0.02618805, 0.0126979 , 0.01095556,\n",
              "       0.00999156, 0.01964473, 0.01680871, 0.01769784, 0.0100383 ,\n",
              "       0.00905628, 0.01532807, 0.01862082, 0.01376179, 0.01257799,\n",
              "       0.03180287, 0.05513987, 0.01670998, 0.01516818, 0.01191452,\n",
              "       0.01691017, 0.01542275, 0.02251238, 0.01569968, 0.03805005,\n",
              "       0.01383972, 0.02796209, 0.00963041, 0.01492892, 0.0149213 ,\n",
              "       0.01437446, 0.01461912, 0.02235013, 0.01204268, 0.07548524,\n",
              "       0.03228199, 0.02893858, 0.02415547, 0.016803  , 0.01458247,\n",
              "       0.01325824, 0.0136262 , 0.02320193, 0.02323015, 0.01958453,\n",
              "       0.01288817, 0.02696547, 0.01099854, 0.02183887, 0.01354834,\n",
              "       0.01156419, 0.01077953, 0.04857293, 0.02750258, 0.01013196,\n",
              "       0.01160216, 0.02338463, 0.01518062, 0.00678775, 0.01196646,\n",
              "       0.01593739, 0.02149464, 0.01080598, 0.01294728, 0.02732182,\n",
              "       0.01089982, 0.01413858, 0.01395345, 0.03587138, 0.02982197,\n",
              "       0.04103624, 0.01825844, 0.02241969, 0.01360316, 0.01436053,\n",
              "       0.02227962, 0.01308091, 0.01489119, 0.02953613, 0.01901433,\n",
              "       0.00859941, 0.01978167, 0.02421971, 0.05337862, 0.01611767,\n",
              "       0.02585525, 0.0142451 , 0.01162148, 0.01825515, 0.03025958,\n",
              "       0.01771005, 0.01490372, 0.01113581, 0.01870639, 0.03527628,\n",
              "       0.01521452, 0.02168972, 0.05861311, 0.04498757, 0.01360702,\n",
              "       0.01985296, 0.03329007, 0.0112439 , 0.01759911, 0.02338303,\n",
              "       0.01879241, 0.03834545, 0.01027321, 0.0096536 , 0.0217362 ,\n",
              "       0.02273939, 0.01553812, 0.02020339, 0.01936905, 0.00993423,\n",
              "       0.0377956 , 0.01442173, 0.02835872, 0.01537325, 0.01030316,\n",
              "       0.01476373, 0.00987672, 0.02039073, 0.0599799 , 0.04233674,\n",
              "       0.01833272, 0.03222564, 0.01571801, 0.0077979 , 0.01125372,\n",
              "       0.02640998, 0.04940969, 0.03653738, 0.01642418, 0.01491446,\n",
              "       0.01438929, 0.00946381, 0.02972149, 0.08201149, 0.01669549,\n",
              "       0.15128106, 0.06463369, 0.03667181, 0.05881626, 0.01965311,\n",
              "       0.01191263, 0.01855159, 0.04935249, 0.01860565, 0.03848877,\n",
              "       0.02552635, 0.01899837, 0.02154215, 0.03523344, 0.01416649,\n",
              "       0.01373131, 0.0250185 , 0.0239652 , 0.01801609, 0.01790172,\n",
              "       0.05490574, 0.02844178, 0.02399758, 0.01577391, 0.03051666,\n",
              "       0.0520416 , 0.01294792, 0.01212418, 0.02724756, 0.02052592,\n",
              "       0.07752665, 0.04942204, 0.01901884, 0.02574936, 0.02548472,\n",
              "       0.01953037, 0.01094996, 0.03641174, 0.04011732, 0.01482387,\n",
              "       0.02095932, 0.03074358, 0.04881181, 0.02175803, 0.02571453,\n",
              "       0.01230953, 0.01789261, 0.02896726, 0.0250862 , 0.01825431,\n",
              "       0.01956753, 0.02500701, 0.0128965 , 0.00874801, 0.01502127,\n",
              "       0.04343865, 0.06268612, 0.0169694 , 0.01788115, 0.02087549,\n",
              "       0.03156252, 0.00783218, 0.01434576, 0.01166613, 0.04694241,\n",
              "       0.02914105, 0.01506165, 0.01982426, 0.01168553, 0.02271769,\n",
              "       0.0197351 , 0.03039581, 0.02092596, 0.02998497, 0.01356446,\n",
              "       0.01245504, 0.04852722, 0.02031985, 0.02620384, 0.01115951,\n",
              "       0.03068728, 0.0040402 , 0.01285308, 0.01632751, 0.02478076,\n",
              "       0.02170326, 0.02142686, 0.01346262, 0.04408005, 0.0119553 ,\n",
              "       0.01780134, 0.20046454, 0.01969439, 0.02869845, 0.0245859 ,\n",
              "       0.01458373, 0.01665796, 0.01478135, 0.03355069, 0.01535194,\n",
              "       0.03072401, 0.01464213, 0.01341364, 0.02129013, 0.01387099,\n",
              "       0.02393167, 0.01915947, 0.02014593, 0.04084792, 0.0201864 ,\n",
              "       0.01380889, 0.02776956, 0.01603718, 0.01012005, 0.0508676 ,\n",
              "       0.02609079, 0.21386125, 0.02939883, 0.01543253, 0.04887493,\n",
              "       0.02381412, 0.04904172, 0.06772637, 0.0326411 , 0.01398069,\n",
              "       0.01850432, 0.0377474 , 0.01675116, 0.06809979, 0.02206532,\n",
              "       0.06650736, 0.02110655, 0.06048711, 0.02971999, 0.01525895,\n",
              "       0.02179366, 0.02066545, 0.03414255, 0.0147566 , 0.00826974,\n",
              "       0.03385043, 0.01708425, 0.01415729, 0.07685092, 0.01179058,\n",
              "       0.01874397, 0.02492002, 0.01518892, 0.10882432, 0.03961128,\n",
              "       0.03100931, 0.01876084, 0.02065238, 0.00752673, 0.02212913,\n",
              "       0.02104077, 0.01325582, 0.01000431, 0.01176497, 0.03312684,\n",
              "       0.0074651 , 0.05590776, 0.04962676, 0.01518876, 0.03733123,\n",
              "       0.01840749, 0.0160178 , 0.01333832, 0.0155527 , 0.04125747,\n",
              "       0.0167851 , 0.02395816, 0.03030012, 0.00984171, 0.01422034,\n",
              "       0.01358689, 0.01596404, 0.02171237, 0.01870298, 0.01961595,\n",
              "       0.01725475, 0.03420276, 0.01582703, 0.00856425, 0.00754365,\n",
              "       0.0271566 , 0.02631721, 0.01492891, 0.02353091, 0.013237  ,\n",
              "       0.04166564, 0.03590696, 0.01422237, 0.02607888, 0.01262491,\n",
              "       0.01752447, 0.01165984, 0.0132275 , 0.01727312, 0.02044805,\n",
              "       0.01177195, 0.01123842, 0.00875138, 0.01359117, 0.02254829,\n",
              "       0.02378593, 0.012932  , 0.01577937, 0.02162493, 0.0177936 ,\n",
              "       0.10184502, 0.02005286, 0.02447092, 0.01932662, 0.03667661,\n",
              "       0.02135346, 0.03697709, 0.0234595 , 0.02127673, 0.0117267 ,\n",
              "       0.03428413, 0.00885434, 0.00500518, 0.05907335, 0.02582611,\n",
              "       0.01295904, 0.01209732, 0.01713009, 0.01940109, 0.03201849,\n",
              "       0.01069798, 0.01838549, 0.01036644, 0.02705637, 0.02762386,\n",
              "       0.00930375, 0.02244278, 0.02099301, 0.0146275 , 0.01152029,\n",
              "       0.01100005, 0.04467339, 0.01560747, 0.03797062, 0.02058164,\n",
              "       0.01894071, 0.02459233, 0.0122532 , 0.01418369, 0.01493976,\n",
              "       0.01706198, 0.02115815, 0.0128332 , 0.02243647, 0.01490818,\n",
              "       0.01317668, 0.0091766 , 0.02466801, 0.01173161, 0.02040269,\n",
              "       0.01639237, 0.19293013, 0.01773175, 0.0226082 , 0.01728966,\n",
              "       0.04448186, 0.02152249, 0.01211397, 0.03732144, 0.01238048,\n",
              "       0.01670168, 0.0145583 , 0.01156428, 0.04307395, 0.01846514,\n",
              "       0.01521   , 0.03821616, 0.01561366, 0.0226914 , 0.02986577,\n",
              "       0.01709528, 0.02472336, 0.07520187, 0.02245172, 0.02446689,\n",
              "       0.01290228, 0.01620831, 0.0147702 , 0.01547913, 0.01989091,\n",
              "       0.02368785, 0.05246578, 0.01702399, 0.06033443, 0.02454793,\n",
              "       0.03154921, 0.01538797, 0.00886098, 0.0606659 , 0.01331538,\n",
              "       0.01651991, 0.01976902, 0.01870263, 0.0461618 , 0.01255423,\n",
              "       0.01392735, 0.04381121, 0.01322326, 0.01844812, 0.01314066,\n",
              "       0.018419  , 0.06789808, 0.09746596, 0.0506117 , 0.01908132,\n",
              "       0.0074424 , 0.01146436, 0.01924027, 0.01363815, 0.06064409,\n",
              "       0.01133177, 0.02493921, 0.01602612, 0.01096564, 0.01280704,\n",
              "       0.01217805, 0.01391936, 0.02400469, 0.01050762, 0.00832175,\n",
              "       0.04154299, 0.01098321, 0.01780138, 0.0215057 , 0.06894447,\n",
              "       0.03592279, 0.04874581, 0.01482635, 0.02193254, 0.0133548 ,\n",
              "       0.02112011, 0.00980333, 0.06730502, 0.02941338, 0.05469093,\n",
              "       0.01348818, 0.01585845, 0.09878819, 0.04436358, 0.01908994,\n",
              "       0.01785579, 0.01013574, 0.01476683, 0.01647953, 0.02545745,\n",
              "       0.01904403, 0.01905702, 0.01298051, 0.01320052, 0.01276192,\n",
              "       0.01623166, 0.01498121, 0.02765577, 0.0199249 , 0.04580179,\n",
              "       0.00919532, 0.02788258, 0.01513991, 0.01070657, 0.01379207,\n",
              "       0.01531145, 0.01524875, 0.01633826, 0.01208717, 0.02574526,\n",
              "       0.00770839, 0.00801507, 0.01288945, 0.02285688, 0.02508924,\n",
              "       0.01801173, 0.0194838 , 0.01733589, 0.10738177, 0.02791218,\n",
              "       0.0114643 , 0.02239851, 0.01143783, 0.01538125, 0.01226612,\n",
              "       0.01321232, 0.01537957, 0.04255413, 0.02559125, 0.00691243,\n",
              "       0.01094063, 0.01237481, 0.01644006, 0.08321783, 0.02980677,\n",
              "       0.00789008, 0.01772956, 0.03302715, 0.04419275, 0.02060043,\n",
              "       0.02599535, 0.01329575, 0.02934258, 0.03060614, 0.01229925,\n",
              "       0.03012281, 0.0494293 , 0.01312496, 0.01397965, 0.01485613,\n",
              "       0.02058472, 0.05195396, 0.02361387, 0.03069838, 0.04621899,\n",
              "       0.02615095, 0.01816302, 0.02134122, 0.02201237, 0.01629018,\n",
              "       0.02634248, 0.02160571, 0.01060053, 0.01119306, 0.01382177,\n",
              "       0.01991314, 0.02508829, 0.01780361, 0.0163842 , 0.00991843,\n",
              "       0.0301144 , 0.02918396, 0.03032672, 0.02552149, 0.01723052,\n",
              "       0.01009021, 0.02181696, 0.02424869, 0.01465501, 0.03815352,\n",
              "       0.01317855, 0.01086863, 0.02094404, 0.05369142, 0.01473091,\n",
              "       0.00864235, 0.01752496, 0.01893918, 0.03007242, 0.03509664,\n",
              "       0.03374212, 0.03089762, 0.03003805, 0.03449721, 0.01829949,\n",
              "       0.01138492, 0.00838857, 0.05243034, 0.01209822, 0.01789269,\n",
              "       0.01677905, 0.01363139, 0.04189743, 0.01099829, 0.01662561,\n",
              "       0.03256395, 0.00942378, 0.04343329, 0.02853862, 0.01397554,\n",
              "       0.04816622, 0.0130403 , 0.02214724, 0.02513859, 0.0156408 ,\n",
              "       0.01614559, 0.01429422, 0.00198075, 0.01972621, 0.02721583,\n",
              "       0.02176065, 0.00514811, 0.01385732, 0.02153525, 0.01023902,\n",
              "       0.01807432, 0.04352098, 0.01916578, 0.03212706, 0.01946343,\n",
              "       0.01589803, 0.01117252, 0.01746118, 0.04435189, 0.00890325,\n",
              "       0.00986398, 0.01604614, 0.01937417, 0.08023141, 0.01015724,\n",
              "       0.01714439, 0.01932676, 0.02916223, 0.00913699, 0.02380548,\n",
              "       0.01827887, 0.02171098, 0.02681261, 0.02754844, 0.01760617,\n",
              "       0.0514476 , 0.01996744, 0.0156348 , 0.02250981, 0.06276278,\n",
              "       0.01726401, 0.01385649, 0.02352985, 0.0215159 , 0.02389461,\n",
              "       0.11628195, 0.01812119, 0.07300022, 0.07831584, 0.17804601,\n",
              "       0.02669455, 0.0512655 , 0.1444633 , 0.04201829, 0.01257499,\n",
              "       0.03261387, 0.03565344, 0.02741642, 0.01200016, 0.01301183,\n",
              "       0.01725583, 0.01088216, 0.01900625, 0.0151369 , 0.01077592,\n",
              "       0.03485617, 0.01722181, 0.05763116, 0.01632335, 0.02639231,\n",
              "       0.04832683, 0.01094148, 0.013088  , 0.00840374, 0.02852121,\n",
              "       0.01390188, 0.03243921, 0.01228149, 0.03267363, 0.01335068,\n",
              "       0.01955261, 0.01555461, 0.01200199, 0.00941856, 0.03050053,\n",
              "       0.01816578, 0.03143153, 0.09480479, 0.01704963, 0.00895909,\n",
              "       0.0193749 , 0.01605293, 0.02475667, 0.07788628, 0.02823691,\n",
              "       0.00964678, 0.02222684, 0.01264138, 0.00653365, 0.0180119 ,\n",
              "       0.01331278, 0.04350299, 0.00981685, 0.03911176, 0.02194913,\n",
              "       0.01754215, 0.00832093, 0.02071504, 0.10442411, 0.02885327,\n",
              "       0.01989221, 0.01376942, 0.01705843, 0.01619885, 0.01469317,\n",
              "       0.00998509, 0.01945967, 0.0277184 , 0.02163875, 0.03148878,\n",
              "       0.01217059, 0.01087108, 0.02232949, 0.01114195, 0.01140061,\n",
              "       0.01363261, 0.02091422, 0.04164594, 0.08733366, 0.0093392 ,\n",
              "       0.01723018, 0.01123403, 0.02032622, 0.01831674, 0.02344666,\n",
              "       0.03414432, 0.02426779, 0.08972296, 0.01692363, 0.03150678,\n",
              "       0.04056299, 0.05952161, 0.01717438, 0.02710345, 0.02768472,\n",
              "       0.01407083, 0.02280094, 0.05207607, 0.01388985, 0.00849071,\n",
              "       0.02222454, 0.08540651, 0.07865965, 0.01432356, 0.01788786])"
            ]
          },
          "metadata": {
            "tags": []
          },
          "execution_count": 82
        }
      ]
    },
    {
      "cell_type": "code",
      "metadata": {
        "id": "ol28o_muYvic",
        "outputId": "589d73fb-187f-419e-925f-10b183dfa934"
      },
      "source": [
        "terms = vectorizer.get_feature_names() # 상위 1000개의 단어 집합, 알파벳 순\n",
        "terms[:10]"
      ],
      "execution_count": null,
      "outputs": [
        {
          "output_type": "execute_result",
          "data": {
            "text/plain": [
              "['ability',\n",
              " 'able',\n",
              " 'accept',\n",
              " 'access',\n",
              " 'according',\n",
              " 'account',\n",
              " 'action',\n",
              " 'actions',\n",
              " 'actual',\n",
              " 'actually']"
            ]
          },
          "metadata": {
            "tags": []
          },
          "execution_count": 79
        }
      ]
    },
    {
      "cell_type": "code",
      "metadata": {
        "id": "lhlx11MRYvic"
      },
      "source": [
        ""
      ],
      "execution_count": null,
      "outputs": []
    },
    {
      "cell_type": "markdown",
      "metadata": {
        "id": "hyr11m0OYvic"
      },
      "source": [
        "* nparray.argsort() : 오름차순으로 sort 된 인덱스 리스트를 반환"
      ]
    },
    {
      "cell_type": "code",
      "metadata": {
        "id": "bwKJZbNwYvic",
        "outputId": "885adc13-22e9-44da-f2d8-bd6814e00328"
      },
      "source": [
        "a = np.array([1.5, 0.2, 4.2, 2.5])\n",
        "s = a.argsort()\n",
        "\n",
        "print(type(a))\n",
        "print(s)\n",
        "print(a[s])"
      ],
      "execution_count": null,
      "outputs": [
        {
          "output_type": "stream",
          "text": [
            "<class 'numpy.ndarray'>\n",
            "[1 0 3 2]\n",
            "[0.2 1.5 2.5 4.2]\n"
          ],
          "name": "stdout"
        }
      ]
    },
    {
      "cell_type": "code",
      "metadata": {
        "scrolled": true,
        "id": "y3WAdSjMYvic",
        "outputId": "2709caef-55b2-4fba-d650-c5a7fc92822d"
      },
      "source": [
        "b = np.array([[3,2,1,4],[4,3,2,1],[1,2,3,4]])\n",
        "s = b.argsort()\n",
        "print(s)\n",
        "print(\"\\n\")\n",
        "print(b[0][s[0]],b[1][s[1]],b[2][s[2]])\n",
        "print(\"\\n\")\n",
        "print(s[::-1])\n",
        "print(\"\\n\")\n",
        "print(b[0][s[0][::-1]],b[1][s[1][::-1]],b[2][s[2][::-1]])\n"
      ],
      "execution_count": null,
      "outputs": [
        {
          "output_type": "stream",
          "text": [
            "[[2 1 0 3]\n",
            " [3 2 1 0]\n",
            " [0 1 2 3]]\n",
            "\n",
            "\n",
            "[1 2 3 4] [1 2 3 4] [1 2 3 4]\n",
            "\n",
            "\n",
            "[[0 1 2 3]\n",
            " [3 2 1 0]\n",
            " [2 1 0 3]]\n",
            "\n",
            "\n",
            "[4 3 2 1] [4 3 2 1] [4 3 2 1]\n"
          ],
          "name": "stdout"
        }
      ]
    },
    {
      "cell_type": "code",
      "metadata": {
        "id": "N7DcAjgPYvic",
        "outputId": "e2f2a633-6e47-4a3a-b0e2-292544740f05"
      },
      "source": [
        "svd_model.components_[19] # 마지막 토픽의 1000개의 단어에 대한 TF-IDF 1차원 리스트 "
      ],
      "execution_count": null,
      "outputs": [
        {
          "output_type": "execute_result",
          "data": {
            "text/plain": [
              "array([ 1.97575734e-03, -3.69580918e-02, -5.46641336e-03, -2.47811744e-02,\n",
              "        2.10618109e-03, -3.24084255e-03, -3.09080912e-03, -8.41008376e-04,\n",
              "        7.03964537e-03,  1.34951748e-02, -1.60699001e-03, -1.98147554e-03,\n",
              "        4.60503093e-03, -1.11554157e-01,  1.17360504e-02,  3.28627459e-02,\n",
              "       -2.07097105e-03,  1.31495461e-02, -1.31700442e-02,  3.70167909e-02,\n",
              "        3.51813667e-04,  1.88475156e-03, -6.72352608e-03, -8.75746977e-03,\n",
              "       -5.90888776e-03, -5.77533985e-03,  4.46013825e-03,  2.92565285e-03,\n",
              "        2.35323479e-03, -3.74359598e-03, -2.81315282e-02, -1.72086900e-02,\n",
              "       -7.02901044e-03,  1.83700398e-02,  1.46594705e-02, -4.83038701e-05,\n",
              "        6.24345652e-03,  9.61445912e-03, -6.55360308e-02, -1.28855554e-02,\n",
              "        1.12085328e-02, -9.88147278e-03, -2.61564251e-02,  7.37334068e-03,\n",
              "       -3.47468806e-03,  4.40256753e-03, -1.15441920e-02, -5.44492023e-03,\n",
              "        1.69835737e-02,  4.87786413e-03,  1.79735137e-03, -1.46804864e-03,\n",
              "        3.34108013e-03,  1.37417512e-02,  6.57419235e-03, -9.96662379e-03,\n",
              "        1.70713405e-03, -4.23127599e-02, -5.53333452e-03, -8.78271315e-03,\n",
              "        4.07543290e-02,  9.31803803e-03, -9.34902245e-04, -4.47498499e-04,\n",
              "        4.66640110e-03,  1.59216418e-03,  1.44427220e-03, -6.04794356e-03,\n",
              "        1.53466451e-03, -2.34274543e-02, -2.99975159e-03, -2.23989171e-03,\n",
              "        1.11077548e-02, -3.94102453e-03,  1.11473303e-02,  5.37905704e-03,\n",
              "        6.91278702e-04, -3.60206756e-03, -5.31605393e-03, -1.18971829e-06,\n",
              "        9.92205283e-03,  2.69505158e-03,  7.60063458e-03,  1.83360640e-03,\n",
              "        4.89147594e-02,  3.17277639e-02, -2.74736059e-02,  1.35872771e-02,\n",
              "        7.69311286e-02,  3.02916370e-03,  1.07257436e-02,  1.88391767e-02,\n",
              "        9.35828924e-03,  4.24337374e-03,  1.41361647e-02, -1.03719227e-03,\n",
              "        2.27183451e-02,  1.57678831e-02, -2.94992618e-03, -1.31988424e-03,\n",
              "        2.08683943e-02, -2.91964713e-03,  3.08207887e-03, -5.15192746e-03,\n",
              "        2.34094563e-02,  8.33004021e-04,  9.21537943e-03, -1.16842275e-03,\n",
              "        1.23389000e-02,  3.85250233e-03, -1.30447345e-03, -1.17940565e-02,\n",
              "       -9.09846441e-03,  2.29432162e-02,  1.90992255e-04, -5.38228510e-02,\n",
              "       -3.20488985e-03, -7.06190828e-03, -9.78708409e-04, -1.80244469e-03,\n",
              "        1.40167639e-02,  1.58918643e-03,  1.73093519e-02,  1.91708113e-03,\n",
              "       -1.80501103e-04,  9.62946271e-03, -7.45235244e-03, -1.22385611e-02,\n",
              "        1.63239021e-03, -7.97492591e-04,  2.73922557e-04, -2.63880273e-03,\n",
              "        9.72951966e-03,  1.12278949e-02, -7.28401571e-03, -4.44473735e-03,\n",
              "        2.98496441e-04,  1.23049453e-01,  4.28288387e-02, -2.43183350e-03,\n",
              "       -1.38892815e-03,  2.59795002e-02,  9.88291730e-03,  6.46831493e-03,\n",
              "        2.38287371e-02,  6.13504224e-03, -1.44772769e-03, -5.96030693e-03,\n",
              "       -3.53344267e-03, -2.96814437e-03,  6.91641224e-03, -1.05809916e-02,\n",
              "        8.72169966e-03,  1.74503738e-03, -2.55037789e-03,  6.09040160e-02,\n",
              "        7.15023365e-03,  5.46313948e-03, -6.41461459e-02, -1.56740418e-03,\n",
              "       -4.22756975e-03,  5.11942896e-03,  2.18789972e-03,  1.57005132e-02,\n",
              "        1.34332235e-03,  4.98684836e-03,  2.11328444e-03,  2.03188122e-03,\n",
              "        7.38062977e-03,  5.08605342e-03,  1.24273808e-02,  8.10718999e-03,\n",
              "       -3.60275164e-03, -2.91982077e-02,  5.07276623e-04, -5.69852475e-03,\n",
              "       -4.08043348e-04,  5.59760822e-03,  1.12426474e-02,  2.29619437e-03,\n",
              "        6.54982373e-02, -5.75017205e-03, -2.97501499e-03, -1.72170084e-03,\n",
              "       -1.52105942e-03,  8.38433618e-03,  4.14951544e-03, -1.56363354e-02,\n",
              "        5.02787110e-03, -1.42851205e-02, -1.55917669e-03, -9.14170028e-03,\n",
              "        3.71471364e-03, -1.92768671e-02,  1.71065261e-02,  9.86693966e-04,\n",
              "       -1.23938345e-02, -2.14231352e-02,  3.56830095e-02,  1.28305774e-02,\n",
              "        8.80671301e-03, -1.62824034e-03, -3.31408977e-03, -9.35300749e-04,\n",
              "       -1.09848263e-02,  5.61447756e-03,  1.72949480e-02, -7.95610200e-03,\n",
              "        7.71413382e-03,  3.27249317e-03,  1.04488014e-02,  5.52953778e-03,\n",
              "       -2.24139292e-03, -1.13013188e-02, -1.16330395e-02, -6.27075528e-03,\n",
              "       -4.85117945e-03,  3.61732339e-03,  1.62968859e-02,  1.39668908e-02,\n",
              "       -6.60232837e-03,  1.11109163e-02,  3.19539467e-03,  2.58837771e-03,\n",
              "       -1.33947580e-02,  6.55881349e-03, -5.61222737e-03, -2.31117352e-02,\n",
              "       -4.61785624e-03,  4.82284221e-03,  1.23007372e-02,  1.41009630e-02,\n",
              "        5.53266402e-03,  3.63399149e-03,  7.33073454e-03,  1.04029903e-02,\n",
              "       -6.42956295e-04,  1.10862073e-02, -2.39538579e-03,  5.30708990e-03,\n",
              "        4.58875794e-03, -2.91090491e-04,  3.71783743e-03,  2.54793556e-03,\n",
              "       -2.87560326e-03, -7.63173089e-04,  3.22058503e-02, -1.07201534e-02,\n",
              "        1.12241490e-02,  4.07232616e-02,  2.65163869e-02, -4.53023760e-02,\n",
              "       -1.09463603e-02, -8.50224431e-03,  4.01175746e-03,  5.04429660e-04,\n",
              "        8.45835724e-03,  5.26966729e-03,  1.51629357e-03, -1.11500833e-01,\n",
              "       -1.70767637e-02,  5.25524744e-03, -2.54327393e-02,  4.04666572e-03,\n",
              "        1.16938051e-02,  2.19637889e-03,  7.00141809e-03,  6.15415643e-03,\n",
              "        1.69244063e-02,  7.10392888e-03,  2.24200573e-03,  2.87834829e-03,\n",
              "       -5.09804142e-03,  9.96239907e-03,  2.89609418e-03, -2.30144754e-03,\n",
              "        2.18210626e-03,  3.05567132e-02,  4.78257716e-02,  4.44027831e-03,\n",
              "        1.78391570e-02,  2.56168360e-02, -1.32663687e-03,  2.24653258e-04,\n",
              "        4.15185497e-03,  1.27890184e-02,  7.02500703e-03,  1.82451014e-03,\n",
              "        3.03528474e-02,  6.64568371e-03, -2.26243275e-03, -1.95704002e-02,\n",
              "       -1.77384996e-02,  4.45602291e-03, -7.19273635e-03, -1.40981298e-02,\n",
              "        3.40556355e-02,  4.00899387e-03, -4.95652418e-04, -1.62240596e-03,\n",
              "        8.62533958e-03,  3.07954387e-03,  2.04500538e-03,  5.19336433e-03,\n",
              "        7.24247366e-03, -7.01864506e-03,  1.10516444e-02,  1.14224656e-02,\n",
              "        4.53408151e-03,  3.74852843e-03,  1.93680448e-02,  2.10452723e-03,\n",
              "       -5.41050916e-03,  1.36450365e-02, -1.30097481e-02, -5.59141345e-03,\n",
              "        1.18667396e-02, -3.79284484e-03,  1.79373495e-04, -7.72969894e-03,\n",
              "       -3.68432656e-04,  9.82347713e-03,  2.76514016e-01,  9.60858539e-02,\n",
              "       -2.33279579e-03, -1.82249942e-03,  3.17557631e-02, -2.44337169e-03,\n",
              "        7.14191336e-03, -2.15303445e-02, -1.58615026e-03,  1.57482652e-02,\n",
              "       -1.16880607e-02,  6.54449038e-03,  5.61117619e-03,  6.00564115e-04,\n",
              "        2.59084326e-03, -3.18124946e-03,  2.78987955e-02, -2.85666575e-03,\n",
              "       -4.95229797e-03,  8.43610610e-04,  2.24764200e-02,  1.35846520e-03,\n",
              "        1.89676879e-03, -7.55352804e-03, -1.62360401e-02, -9.54908787e-03,\n",
              "        9.05709422e-02,  3.56506456e-02,  6.93709996e-03,  1.91310223e-03,\n",
              "        1.53495998e-03,  4.53943765e-03, -3.02649820e-03, -2.17914454e-03,\n",
              "        5.07322642e-03,  7.70364590e-03,  2.70297822e-03,  5.78429865e-03,\n",
              "        8.26544585e-03,  1.54006152e-04,  3.90583381e-03, -2.74039904e-02,\n",
              "        4.06513431e-03, -9.63471661e-02,  4.89163082e-02, -2.65338265e-02,\n",
              "        3.79415987e-02, -1.54283650e-02,  2.21260301e-03,  1.53080362e-02,\n",
              "       -5.72526920e-02, -1.23828705e-02,  6.80355064e-03,  5.89437017e-03,\n",
              "       -3.73005459e-03, -5.56194819e-05, -8.42269849e-03,  5.12273143e-03,\n",
              "        1.58609819e-03,  1.24021115e-02,  1.03424908e-02,  6.98511467e-03,\n",
              "       -1.99510413e-03, -3.67781607e-03, -9.51070816e-03,  1.17504302e-02,\n",
              "        1.14277937e-03, -2.04180446e-02,  1.67243099e-02,  1.69454394e-02,\n",
              "        5.01152730e-03,  2.69495433e-02, -7.87109140e-03, -1.67959677e-02,\n",
              "        4.41677131e-02,  5.60991565e-03,  2.90474064e-04,  2.23101656e-03,\n",
              "        5.44314433e-03,  1.12156684e-02,  1.14086183e-02,  1.58871185e-03,\n",
              "       -1.27715391e-03,  1.25534517e-02,  3.51030161e-03,  3.31751733e-02,\n",
              "        4.98760720e-03,  1.31427960e-02, -3.29909886e-04,  1.66521234e-03,\n",
              "       -3.00075518e-03, -6.56953288e-03,  1.13526933e-02,  2.40263214e-02,\n",
              "       -2.41283964e-03,  6.26262597e-03,  3.37340562e-03, -1.46559519e-03,\n",
              "       -2.15572442e-02, -4.24972710e-02,  6.15193639e-03,  1.42861627e-02,\n",
              "        2.38818764e-02,  5.23623210e-03,  2.51841441e-03,  1.09713618e-02,\n",
              "        1.96194725e-03, -5.38743110e-03,  1.62478719e-04, -1.19188037e-02,\n",
              "       -3.09061832e-03, -3.38874949e-03, -2.87268338e-02,  5.64189351e-03,\n",
              "       -4.12591325e-02, -2.60927724e-02, -3.37517355e-03, -5.46125013e-03,\n",
              "        2.73193726e-03,  8.48084303e-02,  1.66531867e-03, -2.38526044e-03,\n",
              "       -1.79566665e-03,  1.13669859e-03,  5.08903925e-03,  1.21432173e-02,\n",
              "       -1.24605260e-02,  4.89054957e-02,  5.80181656e-03,  7.29898548e-03,\n",
              "        3.61847553e-05,  1.80192009e-03,  5.66855692e-03,  1.21866246e-02,\n",
              "        3.25481635e-02,  1.67331241e-03,  2.12625560e-02, -3.97019265e-03,\n",
              "       -3.68066351e-04,  6.74399885e-03,  2.40273269e-03,  8.53713991e-03,\n",
              "        1.10566312e-03,  1.02028190e-02,  2.09994783e-03,  2.24587137e-02,\n",
              "       -3.16213001e-04,  6.27336479e-03, -3.08721626e-02, -6.06696652e-03,\n",
              "        1.05702599e-03, -3.12041285e-02,  1.21215820e-02,  4.81303457e-03,\n",
              "       -1.03311894e-02, -1.04894490e-02, -4.76212241e-03,  1.12791609e-02,\n",
              "        2.32706883e-02,  9.63607119e-03,  7.98341577e-03,  1.31376356e-03,\n",
              "        3.01947077e-02,  9.43919832e-04, -1.18867285e-01,  2.06639674e-02,\n",
              "       -3.14023330e-03,  1.37539855e-03,  5.56299800e-03, -2.94652942e-03,\n",
              "       -3.56496470e-03, -2.52228479e-02,  4.24907853e-03, -3.07622703e-02,\n",
              "        6.71286796e-03,  7.60617206e-05,  6.29742736e-03,  1.32663412e-02,\n",
              "        3.14755248e-03,  2.77701167e-03,  1.48657918e-02,  7.50983568e-03,\n",
              "        1.41654334e-02,  1.02965098e-02,  1.42454562e-03, -5.55938112e-03,\n",
              "       -3.00508304e-01, -3.79418415e-02,  1.66567613e-03,  5.04953241e-03,\n",
              "       -1.56711781e-04,  5.84655633e-02,  5.42273256e-03,  1.87796935e-03,\n",
              "       -4.05203207e-02,  2.40027846e-02,  3.03881673e-03,  1.14426971e-02,\n",
              "        1.40903004e-02,  7.18438100e-03, -3.14174546e-03,  3.36818479e-03,\n",
              "       -4.27471307e-03,  7.80100868e-03, -4.05035142e-03, -1.01336513e-03,\n",
              "        4.04413086e-03,  1.41439593e-02, -8.27996427e-03, -8.93983406e-03,\n",
              "       -5.68089616e-03, -2.93885439e-03,  6.43879720e-03,  3.66992480e-03,\n",
              "        1.23302134e-02, -5.93415812e-03, -2.33105613e-03, -1.88143961e-03,\n",
              "        3.40832073e-03, -1.00425308e-03, -1.21533718e-02,  4.02550763e-02,\n",
              "        2.39511192e-03,  8.62854144e-03,  6.43544056e-04,  3.94045042e-03,\n",
              "       -3.80547392e-03,  1.06824995e-02, -2.86052793e-02,  3.20191659e-02,\n",
              "        8.84977460e-03, -7.39988434e-03,  7.60013787e-03, -1.25579611e-02,\n",
              "        1.42925217e-03,  3.35843130e-03,  2.75634437e-02,  1.53979067e-02,\n",
              "       -9.52079709e-04,  5.91470574e-03, -1.89846296e-03, -6.28707418e-02,\n",
              "       -3.30279594e-02, -7.60073063e-03, -8.10987560e-03,  1.48186100e-03,\n",
              "       -5.49921377e-03,  3.07092456e-02,  5.53817408e-03, -2.37040193e-03,\n",
              "        8.24699988e-03,  6.42104680e-03, -1.64647878e-04, -1.94608197e-01,\n",
              "        1.39006192e-02,  3.17638705e-03, -9.43001410e-03, -3.72434591e-02,\n",
              "       -2.67091877e-02,  2.17781406e-02,  1.23141131e-02, -5.03989083e-03,\n",
              "       -2.91365738e-03, -9.79045040e-03,  6.34171912e-03, -4.22156398e-03,\n",
              "        3.70812000e-02,  7.24757733e-04, -6.85790549e-03,  4.00519020e-03,\n",
              "        5.90716687e-03, -9.94593086e-03,  8.56414639e-02,  1.01911793e-02,\n",
              "       -7.91692384e-03,  2.86074928e-03,  2.63041833e-03, -1.19980278e-02,\n",
              "        8.77497604e-03, -8.00323120e-03,  3.27923515e-03, -7.64876374e-03,\n",
              "       -1.02935794e-03,  1.65703082e-02, -2.67102480e-02, -9.03357920e-03,\n",
              "        2.74158040e-02,  2.86982175e-02,  1.69706034e-04, -1.80024666e-02,\n",
              "        1.58670076e-03,  1.36922491e-02, -5.46680457e-04,  8.12460214e-03,\n",
              "        1.26023235e-02, -4.89620667e-03,  3.83486000e-03,  5.20025920e-03,\n",
              "        1.01929859e-03, -4.49491394e-04,  3.17210808e-03, -1.42735490e-03,\n",
              "        8.67338805e-03, -7.48937538e-03, -2.71369925e-03,  2.24724673e-02,\n",
              "       -1.22395250e-02,  1.44614504e-02, -6.34599502e-04, -2.59627753e-03,\n",
              "        6.11324666e-03, -2.12912596e-03,  7.43206847e-03, -4.25680796e-03,\n",
              "        1.35116348e-02, -9.86943424e-03, -1.68045360e-02, -1.90408766e-03,\n",
              "        7.16191446e-05,  1.55222231e-02,  2.03219511e-03, -2.04011243e-03,\n",
              "       -2.58463541e-02, -2.17241319e-03,  8.96724340e-03, -3.02813708e-04,\n",
              "        8.12382096e-03,  1.42733606e-02, -3.42408776e-03,  4.62153733e-03,\n",
              "        3.11826527e-03,  4.45778839e-03, -5.96103117e-03, -1.85915115e-02,\n",
              "       -1.90965485e-02,  5.41114296e-04, -6.52868873e-02, -1.88087425e-02,\n",
              "       -2.27272609e-02, -1.08416741e-02,  9.78034344e-03,  6.41808921e-02,\n",
              "        3.91263794e-03, -1.08004759e-03,  4.50514121e-03, -9.11101150e-03,\n",
              "       -4.03576485e-03,  3.50901915e-03, -4.90770973e-04,  3.56930771e-02,\n",
              "        1.43343423e-02,  4.38504038e-02,  9.80098964e-03,  3.54384335e-03,\n",
              "        1.17351460e-03,  3.30056485e-01,  4.55753567e-02, -9.86563284e-04,\n",
              "       -1.19257850e-03,  3.68617259e-03, -1.09008209e-02, -8.06096242e-03,\n",
              "       -4.52688226e-02, -8.38882244e-03, -9.26690900e-03,  3.67343730e-03,\n",
              "       -3.99983970e-04,  4.11381045e-03, -2.34963761e-03, -2.37274222e-04,\n",
              "       -6.43903043e-03, -2.46695110e-03, -6.03589471e-03, -9.94492537e-03,\n",
              "        7.01916198e-03,  1.51399925e-03, -6.76791088e-03, -3.51759917e-02,\n",
              "       -3.25357138e-02,  1.18343100e-02,  5.70957342e-04,  2.39620111e-02,\n",
              "        6.12770387e-03, -4.87916640e-03, -2.14674751e-03, -2.83823756e-02,\n",
              "       -5.17443420e-03, -9.68905629e-03, -6.98504177e-03,  6.55251997e-03,\n",
              "       -8.56270847e-02, -2.92714158e-03,  7.89946022e-03, -4.02327561e-03,\n",
              "       -4.31621510e-03, -9.12244729e-03,  7.73138508e-03,  1.28086263e-02,\n",
              "       -4.27101375e-03,  1.13133813e-02, -9.26551905e-03, -3.69624611e-03,\n",
              "       -4.40137886e-03,  8.59050829e-03, -4.00257187e-03,  1.33524461e-03,\n",
              "        3.69027090e-03,  1.11488795e-02, -1.97398090e-03, -3.62165748e-02,\n",
              "        1.38751218e-02,  7.19665261e-03,  3.67874853e-03, -2.43246499e-02,\n",
              "       -7.87707755e-04,  1.37285363e-02,  3.11406636e-03, -7.75752788e-03,\n",
              "       -6.08762433e-03, -7.01794284e-03, -2.54528086e-03, -1.47387866e-02,\n",
              "        8.57273571e-03,  1.74440220e-03, -2.86361619e-04,  4.52890658e-03,\n",
              "       -2.16138501e-01, -1.22576604e-02,  1.07905240e-03,  1.14126851e-03,\n",
              "       -2.57549976e-03,  7.40522587e-03,  3.10453439e-03,  1.90696775e-03,\n",
              "        1.94254883e-03, -2.46980992e-02,  3.09277538e-03, -2.26108579e-03,\n",
              "        9.77588261e-03,  6.90441643e-03,  7.79423812e-03,  6.27398429e-02,\n",
              "        1.11307238e-01,  1.20993106e-02,  2.68015956e-03,  1.11445798e-02,\n",
              "        1.38840237e-03, -1.38938711e-03,  1.04626079e-02,  2.31916342e-03,\n",
              "       -1.24844752e-02, -6.88902329e-02,  5.85411237e-03, -1.77488124e-02,\n",
              "        6.01207206e-03,  1.95696468e-02,  6.04167488e-03,  1.52776807e-02,\n",
              "        7.94784574e-03,  9.35407833e-03,  6.77370264e-03,  2.40532711e-02,\n",
              "       -9.71989525e-02,  1.11803497e-02,  6.14652414e-04,  1.50294259e-02,\n",
              "        9.99721916e-03,  4.32274892e-03, -5.79630644e-02, -5.37300157e-03,\n",
              "       -5.77235679e-03,  1.28188235e-03, -1.71756484e-03,  5.79633023e-02,\n",
              "        2.99781532e-03,  3.30197884e-03,  6.58131413e-03,  1.57584733e-02,\n",
              "        2.83202834e-02,  1.80428903e-03,  1.96325882e-03,  8.35466509e-03,\n",
              "        8.34749285e-03, -3.39859887e-03,  3.37337752e-03,  2.47979223e-03,\n",
              "        1.85247649e-05,  2.01983009e-02,  3.75050107e-03, -4.56511858e-03,\n",
              "        4.89507944e-04, -4.18446840e-02,  1.44051425e-02, -1.84316607e-03,\n",
              "        1.23368548e-02,  5.64519010e-04, -2.37304884e-02, -2.78686128e-02,\n",
              "        2.63658865e-03,  5.55171240e-02,  2.08459252e-02, -2.42935310e-02,\n",
              "       -2.71150271e-03, -1.60998503e-03,  3.50403264e-03,  1.31852786e-01,\n",
              "        3.06173893e-03,  2.93746391e-03, -2.85204179e-03,  2.98136872e-03,\n",
              "        6.48402050e-03,  1.15749680e-02, -5.74612887e-03, -4.04406522e-03,\n",
              "       -2.91812262e-03, -1.24061913e-02,  1.60736547e-03, -1.83666575e-03,\n",
              "       -1.42512948e-02,  1.20883538e-03, -2.60722354e-03,  3.03653169e-03,\n",
              "        2.76230378e-02,  1.54649349e-04,  2.17147322e-03, -6.30546851e-04,\n",
              "       -8.72404415e-03, -1.10090971e-02,  7.71005694e-03,  5.95747534e-03,\n",
              "       -8.24507242e-03,  1.44568268e-02,  4.37050796e-03,  3.31160037e-03,\n",
              "       -3.65877422e-02, -6.07966824e-03, -9.75085280e-03, -1.52539480e-02,\n",
              "        9.71547651e-04, -2.06904144e-04,  8.08029644e-03, -5.50119493e-02,\n",
              "       -5.48169078e-03, -6.99347051e-03,  2.84536506e-03,  4.80023825e-03,\n",
              "       -1.06480834e-02,  1.16102063e-02,  6.62186363e-03, -8.67505963e-04,\n",
              "        2.87969995e-03,  2.46356066e-03,  1.16352001e-02,  1.43506367e-03,\n",
              "       -2.91126684e-03, -7.67763289e-03, -2.21718034e-03,  4.77588928e-04,\n",
              "       -2.06968458e-02, -1.14222617e-02,  4.24247109e-03,  2.04276964e-02,\n",
              "       -2.12323837e-02, -4.86743578e-03, -6.64941664e-04,  2.01027686e-02,\n",
              "       -6.18122029e-03, -5.15951072e-02,  2.35775565e-01,  4.04749097e-03,\n",
              "        2.60833520e-02, -6.05756087e-03,  1.79170587e-02,  7.54398031e-03,\n",
              "       -5.81670681e-03, -1.89743313e-01, -1.20220138e-02, -1.85523360e-02,\n",
              "        2.11959260e-02,  1.24272232e-02,  1.22491401e-02, -4.36994644e-03,\n",
              "        3.27758900e-03,  1.11905502e-02,  3.84001427e-03, -6.97443297e-03,\n",
              "       -8.26434378e-03, -5.96034413e-03, -7.76675178e-03,  1.07928327e-03,\n",
              "       -1.96851676e-03,  1.30143883e-03,  5.91560284e-03, -1.84979169e-02,\n",
              "        3.71246888e-04,  6.22155724e-03,  2.73274002e-03,  8.09619481e-03,\n",
              "        6.67422911e-03,  1.60521556e-02, -2.05832516e-03,  2.17958484e-03,\n",
              "        3.75235785e-03,  4.64346910e-03,  2.48952426e-02, -2.71247991e-04,\n",
              "        2.61162319e-03, -1.35229377e-02, -1.24534550e-02,  2.89988484e-03,\n",
              "        1.92057110e-01, -2.06269595e-03, -6.24007676e-03, -2.56048019e-02,\n",
              "       -9.97418991e-03,  3.32213246e-03, -1.84275197e-02,  1.42781552e-02,\n",
              "       -1.44394144e-03, -8.84627655e-04, -4.76177603e-03,  6.32393232e-04,\n",
              "       -4.42579827e-03,  1.46013199e-02,  2.43426792e-02,  1.20732097e-03,\n",
              "       -4.96610290e-02,  8.15269526e-04, -4.54777448e-03,  1.47651061e-03,\n",
              "       -8.40049084e-03, -1.73133177e-01,  5.02479567e-04, -4.07944858e-03,\n",
              "       -2.79578366e-03,  6.02830771e-03,  2.83716091e-02, -4.07504139e-03,\n",
              "        1.84697793e-03, -2.77529141e-04, -2.52207744e-04, -4.63330954e-03,\n",
              "        1.85989251e-02,  1.28320906e-03, -4.87523579e-03,  5.95705698e-03,\n",
              "        2.62491787e-03, -4.28087773e-02,  3.85350795e-03,  1.85252111e-03,\n",
              "       -3.09850268e-01, -4.43732995e-02,  1.15725721e-02, -1.34717151e-02,\n",
              "        3.97993253e-03, -4.39188806e-03,  6.51899620e-03,  7.04344852e-03,\n",
              "        2.21391844e-02,  6.40997752e-03,  7.53520195e-02,  2.47840214e-02,\n",
              "        5.31397220e-03,  3.57908160e-02, -1.39737387e-02,  1.20786433e-03,\n",
              "        1.36081384e-02, -1.26075174e-02,  9.85646102e-04, -5.11637989e-03,\n",
              "       -1.13055946e-02, -1.70976216e-03, -2.06003381e-02, -1.43501128e-02,\n",
              "        8.62008673e-03,  3.53326666e-02, -1.47570217e-02, -3.99750326e-03])"
            ]
          },
          "metadata": {
            "tags": []
          },
          "execution_count": 120
        }
      ]
    },
    {
      "cell_type": "code",
      "metadata": {
        "id": "vLdpm-mIYvic",
        "outputId": "3730affe-bcc0-4f14-92f6-de42743f0d18"
      },
      "source": [
        "def get_topics(components, feature_names, n=5):\n",
        "    for idx, topic in enumerate(components):\n",
        "        print(\"Topic %d:\" %(idx+1),[(feature_names[i],topic[i].round(5)) for i in topic.argsort()[:-n-1:-1]]) # 상위 5개\n",
        "get_topics(svd_model.components_,terms)"
      ],
      "execution_count": null,
      "outputs": [
        {
          "output_type": "stream",
          "text": [
            "Topic 1: [('like', 0.21386), ('know', 0.20046), ('people', 0.19293), ('think', 0.17805), ('good', 0.15128)]\n",
            "Topic 2: [('thanks', 0.32888), ('windows', 0.29088), ('card', 0.18069), ('drive', 0.17455), ('mail', 0.15111)]\n",
            "Topic 3: [('game', 0.37064), ('team', 0.32443), ('year', 0.28154), ('games', 0.2537), ('season', 0.18419)]\n",
            "Topic 4: [('drive', 0.53324), ('scsi', 0.20165), ('hard', 0.15628), ('disk', 0.15578), ('card', 0.13994)]\n",
            "Topic 5: [('windows', 0.40399), ('file', 0.25436), ('window', 0.18044), ('files', 0.16078), ('program', 0.13894)]\n",
            "Topic 6: [('chip', 0.16114), ('government', 0.16009), ('mail', 0.15625), ('space', 0.1507), ('information', 0.13562)]\n",
            "Topic 7: [('like', 0.67086), ('bike', 0.14236), ('chip', 0.11169), ('know', 0.11139), ('sounds', 0.10371)]\n",
            "Topic 8: [('card', 0.46633), ('video', 0.22137), ('sale', 0.21266), ('monitor', 0.15463), ('offer', 0.14643)]\n",
            "Topic 9: [('know', 0.46047), ('card', 0.33605), ('chip', 0.17558), ('government', 0.1522), ('video', 0.14356)]\n",
            "Topic 10: [('good', 0.42756), ('know', 0.23039), ('time', 0.1882), ('bike', 0.11406), ('jesus', 0.09027)]\n",
            "Topic 11: [('think', 0.78469), ('chip', 0.10899), ('good', 0.10635), ('thanks', 0.09123), ('clipper', 0.07946)]\n",
            "Topic 12: [('thanks', 0.36824), ('good', 0.22729), ('right', 0.21559), ('bike', 0.21037), ('problem', 0.20894)]\n",
            "Topic 13: [('good', 0.36212), ('people', 0.33985), ('windows', 0.28385), ('know', 0.26232), ('file', 0.18422)]\n",
            "Topic 14: [('space', 0.39946), ('think', 0.23258), ('know', 0.18074), ('nasa', 0.15174), ('problem', 0.12957)]\n",
            "Topic 15: [('space', 0.31613), ('good', 0.3094), ('card', 0.22603), ('people', 0.17476), ('time', 0.14496)]\n",
            "Topic 16: [('people', 0.48156), ('problem', 0.19961), ('window', 0.15281), ('time', 0.14664), ('game', 0.12871)]\n",
            "Topic 17: [('time', 0.34465), ('bike', 0.27303), ('right', 0.25557), ('windows', 0.1997), ('file', 0.19118)]\n",
            "Topic 18: [('time', 0.5973), ('problem', 0.15504), ('file', 0.14956), ('think', 0.12847), ('israel', 0.10903)]\n",
            "Topic 19: [('file', 0.44163), ('need', 0.26633), ('card', 0.18388), ('files', 0.17453), ('right', 0.15448)]\n",
            "Topic 20: [('problem', 0.33006), ('file', 0.27651), ('thanks', 0.23578), ('used', 0.19206), ('space', 0.13185)]\n"
          ],
          "name": "stdout"
        }
      ]
    },
    {
      "cell_type": "markdown",
      "metadata": {
        "id": "xkMkR8HEYvic"
      },
      "source": [
        "* LSA의 장단점\n",
        "> 정리해보면 LSA는 쉽고 빠르게 구현이 가능할 뿐만 아니라 단어의 잠재적인 의미를 이끌어낼 수 있어 문서의 유사도 계산 등에서 좋은 성능을 보여준다는 장점을 갖고 있습니다. 하지만 SVD의 특성상 이미 계산된 LSA에 새로운 데이터를 추가하여 계산하려고하면 보통 처음부터 다시 계산해야 합니다. 즉, 새로운 정보에 대해 업데이트가 어렵습니다. 이는 최근 LSA 대신 Word2Vec 등 단어의 의미를 벡터화할 수 있는 또 다른 방법론인 인공 신경망 기반의 방법론이 각광받는 이유이기도 합니다."
      ]
    },
    {
      "cell_type": "markdown",
      "metadata": {
        "id": "IM7Abp4IYvid"
      },
      "source": [
        "* 즉, 새로 데이터가 추가되면 결과값이 모든 데이터에 영향을 끼친다"
      ]
    },
    {
      "cell_type": "code",
      "metadata": {
        "id": "_myDreznYvid"
      },
      "source": [
        ""
      ],
      "execution_count": null,
      "outputs": []
    }
  ]
}