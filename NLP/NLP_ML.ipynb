{
  "nbformat": 4,
  "nbformat_minor": 0,
  "metadata": {
    "kernelspec": {
      "display_name": "Python 3",
      "language": "python",
      "name": "python3"
    },
    "language_info": {
      "codemirror_mode": {
        "name": "ipython",
        "version": 3
      },
      "file_extension": ".py",
      "mimetype": "text/x-python",
      "name": "python",
      "nbconvert_exporter": "python",
      "pygments_lexer": "ipython3",
      "version": "3.8.5"
    },
    "colab": {
      "name": "NLP_ML.ipynb",
      "provenance": [],
      "collapsed_sections": [],
      "include_colab_link": true
    }
  },
  "cells": [
    {
      "cell_type": "markdown",
      "metadata": {
        "id": "view-in-github",
        "colab_type": "text"
      },
      "source": [
        "<a href=\"https://colab.research.google.com/github/hdpark1208/StudyCode/blob/main/NLP/NLP_ML.ipynb\" target=\"_parent\"><img src=\"https://colab.research.google.com/assets/colab-badge.svg\" alt=\"Open In Colab\"/></a>"
      ]
    },
    {
      "cell_type": "markdown",
      "metadata": {
        "id": "-XoDUSpZkp8d"
      },
      "source": [
        "## 선형회귀 실습"
      ]
    },
    {
      "cell_type": "code",
      "metadata": {
        "id": "8MAzyFmTkp8l"
      },
      "source": [
        "import tensorflow as tf"
      ],
      "execution_count": null,
      "outputs": []
    },
    {
      "cell_type": "markdown",
      "metadata": {
        "id": "mp6I8qzbkp8m"
      },
      "source": [
        "### 텐서플로우"
      ]
    },
    {
      "cell_type": "code",
      "metadata": {
        "id": "eUn73KTtkp8n"
      },
      "source": [
        "w = tf.Variable(2.)\n",
        "\n",
        "def f(w):\n",
        "  y = w**2\n",
        "  z = 2*y + 5\n",
        "  return z"
      ],
      "execution_count": null,
      "outputs": []
    },
    {
      "cell_type": "code",
      "metadata": {
        "id": "ePPacXeMkp8o",
        "outputId": "085ab39e-498a-4652-c9bc-7dc334e9c771"
      },
      "source": [
        "with tf.GradientTape() as tape:\n",
        "  z = f(w)\n",
        "\n",
        "gradients = tape.gradient(z, [w])\n",
        "print(gradients)"
      ],
      "execution_count": null,
      "outputs": [
        {
          "output_type": "stream",
          "text": [
            "[<tf.Tensor: shape=(), dtype=float32, numpy=8.0>]\n"
          ],
          "name": "stdout"
        }
      ]
    },
    {
      "cell_type": "code",
      "metadata": {
        "id": "j8kxlItYkp8p"
      },
      "source": [
        "# 학습될 가중치 변수를 선언\n",
        "W = tf.Variable(4.0)\n",
        "b = tf.Variable(1.0)"
      ],
      "execution_count": null,
      "outputs": []
    },
    {
      "cell_type": "code",
      "metadata": {
        "id": "8HJqsXDzkp8q"
      },
      "source": [
        "@tf.function\n",
        "def hypothesis(x):\n",
        "    return W*x + b"
      ],
      "execution_count": null,
      "outputs": []
    },
    {
      "cell_type": "code",
      "metadata": {
        "id": "KgmY8LPbkp8q",
        "outputId": "3aca559c-f9bf-4271-be2a-5a2b72df3ed4"
      },
      "source": [
        "x_test = [3.5,5,5.5,6]\n",
        "hypothesis(x_test).numpy() # 적용시켜보기"
      ],
      "execution_count": null,
      "outputs": [
        {
          "output_type": "execute_result",
          "data": {
            "text/plain": [
              "array([15., 21., 23., 25.], dtype=float32)"
            ]
          },
          "metadata": {
            "tags": []
          },
          "execution_count": 8
        }
      ]
    },
    {
      "cell_type": "code",
      "metadata": {
        "id": "EoGIbwDwkp8r"
      },
      "source": [
        "def mse_loss(y_pred,y):\n",
        "    return tf.reduce_mean(tf.square(y_pred - y))"
      ],
      "execution_count": null,
      "outputs": []
    },
    {
      "cell_type": "code",
      "metadata": {
        "id": "Iv41rsX3kp8s"
      },
      "source": [
        "X=[1,2,3,4,5,6,7,8,9] # 공부하는 시간\n",
        "y=[11,22,33,44,53,66,77,87,95] # 각 공부하는 시간에 맵핑되는 성적"
      ],
      "execution_count": null,
      "outputs": []
    },
    {
      "cell_type": "code",
      "metadata": {
        "id": "cupFmm-Xkp8t"
      },
      "source": [
        "optimizer = tf.optimizers.SGD(0.01) # 학습률 설정"
      ],
      "execution_count": null,
      "outputs": []
    },
    {
      "cell_type": "code",
      "metadata": {
        "id": "hm5g3w_ykp8t",
        "outputId": "26c15f12-62c7-4393-8784-5a5f30b33ceb"
      },
      "source": [
        "for i in range(301):\n",
        "  with tf.GradientTape() as tape:\n",
        "    # 현재 파라미터에 기반한 입력 x에 대한 예측값을 y_pred\n",
        "    y_pred = hypothesis(X)\n",
        "\n",
        "    # 평균 제곱 오차를 계산\n",
        "    cost = mse_loss(y_pred, y)\n",
        "\n",
        "  # 손실 함수에 대한 파라미터의 미분값 계산\n",
        "  gradients = tape.gradient(cost, [W, b])\n",
        "\n",
        "  # 파라미터 업데이트\n",
        "  optimizer.apply_gradients(zip(gradients, [W, b]))\n",
        "\n",
        "  if i % 10 == 0:\n",
        "    print(\"epoch : {:3} | W의 값 : {:5.4f} | b의 값 : {:5.4} | cost : {:5.6f}\".format(i, W.numpy(), b.numpy(), cost))"
      ],
      "execution_count": null,
      "outputs": [
        {
          "output_type": "stream",
          "text": [
            "epoch :   0 | W의 값 : 8.2133 | b의 값 : 1.664 | cost : 1402.555542\n",
            "epoch :  10 | W의 값 : 10.4971 | b의 값 : 1.977 | cost : 1.351182\n",
            "epoch :  20 | W의 값 : 10.5047 | b의 값 :  1.93 | cost : 1.328165\n",
            "epoch :  30 | W의 값 : 10.5119 | b의 값 : 1.884 | cost : 1.306967\n",
            "epoch :  40 | W의 값 : 10.5188 | b의 값 : 1.841 | cost : 1.287436\n",
            "epoch :  50 | W의 값 : 10.5254 | b의 값 : 1.799 | cost : 1.269459\n",
            "epoch :  60 | W의 값 : 10.5318 | b의 값 : 1.759 | cost : 1.252898\n",
            "epoch :  70 | W의 값 : 10.5379 | b의 값 : 1.721 | cost : 1.237644\n",
            "epoch :  80 | W의 값 : 10.5438 | b의 값 : 1.684 | cost : 1.223598\n",
            "epoch :  90 | W의 값 : 10.5494 | b의 값 : 1.648 | cost : 1.210658\n",
            "epoch : 100 | W의 값 : 10.5548 | b의 값 : 1.614 | cost : 1.198740\n",
            "epoch : 110 | W의 값 : 10.5600 | b의 값 : 1.582 | cost : 1.187767\n",
            "epoch : 120 | W의 값 : 10.5650 | b의 값 :  1.55 | cost : 1.177665\n",
            "epoch : 130 | W의 값 : 10.5697 | b의 값 :  1.52 | cost : 1.168354\n",
            "epoch : 140 | W의 값 : 10.5743 | b의 값 : 1.492 | cost : 1.159782\n",
            "epoch : 150 | W의 값 : 10.5787 | b의 값 : 1.464 | cost : 1.151890\n",
            "epoch : 160 | W의 값 : 10.5829 | b의 값 : 1.437 | cost : 1.144619\n",
            "epoch : 170 | W의 값 : 10.5870 | b의 값 : 1.412 | cost : 1.137924\n",
            "epoch : 180 | W의 값 : 10.5909 | b의 값 : 1.387 | cost : 1.131752\n",
            "epoch : 190 | W의 값 : 10.5946 | b의 값 : 1.364 | cost : 1.126073\n",
            "epoch : 200 | W의 값 : 10.5982 | b의 값 : 1.341 | cost : 1.120843\n",
            "epoch : 210 | W의 값 : 10.6016 | b의 값 :  1.32 | cost : 1.116026\n",
            "epoch : 220 | W의 값 : 10.6049 | b의 값 : 1.299 | cost : 1.111589\n",
            "epoch : 230 | W의 값 : 10.6081 | b의 값 : 1.279 | cost : 1.107504\n",
            "epoch : 240 | W의 값 : 10.6111 | b의 값 :  1.26 | cost : 1.103736\n",
            "epoch : 250 | W의 값 : 10.6140 | b의 값 : 1.242 | cost : 1.100273\n",
            "epoch : 260 | W의 값 : 10.6168 | b의 값 : 1.224 | cost : 1.097082\n",
            "epoch : 270 | W의 값 : 10.6195 | b의 값 : 1.207 | cost : 1.094143\n",
            "epoch : 280 | W의 값 : 10.6221 | b의 값 : 1.191 | cost : 1.091434\n",
            "epoch : 290 | W의 값 : 10.6245 | b의 값 : 1.176 | cost : 1.088940\n",
            "epoch : 300 | W의 값 : 10.6269 | b의 값 : 1.161 | cost : 1.086645\n"
          ],
          "name": "stdout"
        }
      ]
    },
    {
      "cell_type": "code",
      "metadata": {
        "id": "UFmnmQZOkp8t",
        "outputId": "bb31828f-897a-4350-ccd8-d0b4b838d28d"
      },
      "source": [
        "x_test = [3.5, 5, 5.5, 6]\n",
        "print(hypothesis(x_test).numpy())"
      ],
      "execution_count": null,
      "outputs": [
        {
          "output_type": "stream",
          "text": [
            "[38.35479  54.295143 59.608593 64.92204 ]\n"
          ],
          "name": "stdout"
        }
      ]
    },
    {
      "cell_type": "markdown",
      "metadata": {
        "id": "HBjX5j55kp8u"
      },
      "source": [
        "## 로지스틱 회귀 실습"
      ]
    },
    {
      "cell_type": "code",
      "metadata": {
        "id": "n4UQeq76kp8u"
      },
      "source": [
        "import numpy as np # 넘파이 사용\n",
        "import matplotlib.pyplot as plt # 맷플롯립 사용"
      ],
      "execution_count": null,
      "outputs": []
    },
    {
      "cell_type": "code",
      "metadata": {
        "id": "74KztjCwkp8v",
        "outputId": "d4cf2dc9-b342-487c-8ad3-e459de4d22e8"
      },
      "source": [
        "def sigmoid(x):\n",
        "    return 1/(1+np.exp(-x)) # W = 1, b = 0\n",
        "x = np.arange(-5.0, 5.0, 0.1)\n",
        "y = sigmoid(x)\n",
        "\n",
        "plt.plot(x, y, 'g')\n",
        "plt.plot([0,0],[1.0,0.0], ':') # 가운데 점선 추가\n",
        "plt.title('Sigmoid Function')\n",
        "plt.show()"
      ],
      "execution_count": null,
      "outputs": [
        {
          "output_type": "display_data",
          "data": {
            "image/png": "[encoded data removed]",
            "text/plain": [
              "<Figure size 432x288 with 1 Axes>"
            ]
          },
          "metadata": {
            "tags": [],
            "needs_background": "light"
          }
        }
      ]
    },
    {
      "cell_type": "code",
      "metadata": {
        "id": "hWK-YK0Lkp8v",
        "outputId": "0af0249f-ac06-4d78-b5a2-852be7fffdfb"
      },
      "source": [
        "def sigmoid(x): # W 에 따른 그래프\n",
        "    return 1/(1+np.exp(-x))\n",
        "x = np.arange(-5.0, 5.0, 0.1)\n",
        "y1 = sigmoid(0.5*x)\n",
        "y2 = sigmoid(x)\n",
        "y3 = sigmoid(2*x)\n",
        "\n",
        "plt.plot(x, y1, 'r', linestyle='--') # W의 값이 0.5일때\n",
        "plt.plot(x, y2, 'g') # W의 값이 1일때\n",
        "plt.plot(x, y3, 'b', linestyle='--') # W의 값이 2일때\n",
        "plt.plot([0,0],[1.0,0.0], ':') # 가운데 점선 추가\n",
        "plt.title('Sigmoid Function')\n",
        "plt.show()"
      ],
      "execution_count": null,
      "outputs": [
        {
          "output_type": "display_data",
          "data": {
            "image/png": "[encoded data removed]",
            "text/plain": [
              "<Figure size 432x288 with 1 Axes>"
            ]
          },
          "metadata": {
            "tags": [],
            "needs_background": "light"
          }
        }
      ]
    },
    {
      "cell_type": "code",
      "metadata": {
        "id": "ydPRYbzAkp8v",
        "outputId": "08a20efb-3607-4c54-98f4-9a6d590c4839"
      },
      "source": [
        "def sigmoid(x): # b 에 따른 그래프\n",
        "    return 1/(1+np.exp(-x))\n",
        "x = np.arange(-5.0, 5.0, 0.1)\n",
        "y1 = sigmoid(x+0.5)\n",
        "y2 = sigmoid(x)\n",
        "y3 = sigmoid(x-0.5)\n",
        "\n",
        "plt.plot(x, y1, 'r', linestyle='--') # x + 0.5\n",
        "plt.plot(x, y2, 'g') # x + 1\n",
        "plt.plot(x, y3, 'b', linestyle='--') # x + 1.5\n",
        "plt.plot([0,0],[1.0,0.0], ':') # 가운데 점선 추가\n",
        "plt.title('Sigmoid Function')\n",
        "plt.show()"
      ],
      "execution_count": null,
      "outputs": [
        {
          "output_type": "display_data",
          "data": {
            "image/png": "[encoded data removed]",
            "text/plain": [
              "<Figure size 432x288 with 1 Axes>"
            ]
          },
          "metadata": {
            "tags": [],
            "needs_background": "light"
          }
        }
      ]
    },
    {
      "cell_type": "markdown",
      "metadata": {
        "id": "Gv4VHYc1kp8w"
      },
      "source": [
        "* 로지스틱 회귀 또한 경사 하강법을 사용하여 가중치 를 찾아내지만, 비용 함수로는 평균 제곱 오차를 사용하지 않습니다. 그 이유는 시그모이드 함수에 비용 함수를 평균 제곱 오차로 하여 그래프를 그리면 로컬 미니멈, 글로벌 미니멈이 생겨 경사 하강법 사용 시 잘못된 최소값에 빠질 우려가 있다"
      ]
    },
    {
      "cell_type": "markdown",
      "metadata": {
        "id": "LVCk3fWwkp8w"
      },
      "source": [
        "* 로지스틱 회귀에서 찾아낸 비용 함수를 크로스 엔트로피(Cross Entropy)함수라고 합니다. 즉, 결론적으로 로지스틱 회귀는 비용 함수로 크로스 엔트로피 함수를 사용하며, 가중치를 찾기 위해서 크로스 엔트로피 함수의 평균을 취한 함수를 사용합니다"
      ]
    },
    {
      "cell_type": "markdown",
      "metadata": {
        "id": "-uFSCoxqkp8w"
      },
      "source": [
        "* 시그모이드 함수는 0과 1사이의 y값을 반환합니다. 이는 실제값이 0일 때 값이 1에 가까워지면 오차가 커지며 실제값이 1일 때 y값이 0에 가까워지면 오차가 커짐을 의미합니다. 그리고 이를 반영할 수 있는 함수는 로그 함수를 통해 표현이 가능합니다"
      ]
    },
    {
      "cell_type": "code",
      "metadata": {
        "id": "tUlUVBZ9kp8x"
      },
      "source": [
        "import numpy as np\n",
        "%matplotlib inline\n",
        "import matplotlib.pyplot as plt\n",
        "from tensorflow.keras.models import Sequential\n",
        "from tensorflow.keras.layers import Dense\n",
        "from tensorflow.keras import optimizers"
      ],
      "execution_count": null,
      "outputs": []
    },
    {
      "cell_type": "code",
      "metadata": {
        "id": "0hrMf_B4kp8x",
        "outputId": "b833ad9e-f6bd-41d5-e501-59f6c223f7f7"
      },
      "source": [
        "X = np.array([-50, -40, -30, -20, -10, -5, 0, 5, 10, 20, 30, 40, 50])\n",
        "y = np.array([0, 0, 0, 0, 0, 0, 0, 0, 1, 1, 1, 1, 1]) #숫자 10부터 1\n",
        "\n",
        "model = Sequential()\n",
        "model.add(Dense(1, input_dim=1, activation='sigmoid'))\n",
        "\n",
        "# 옵티마이저는 경사하강법 sgd를 사용합니다.\n",
        "# 손실 함수(Loss function)는 binary_crossentropy(이진 크로스 엔트로피)를 사용합니다.\n",
        "sgd = optimizers.SGD(lr=0.01)\n",
        "model.compile(optimizer=sgd ,loss='binary_crossentropy', metrics=['binary_accuracy'])\n",
        "\n",
        "# 주어진 X와 y데이터에 대해서 오차를 최소화하는 작업을 200번 시도합니다.\n",
        "model.fit(X,y, batch_size=1, epochs=200, shuffle=False)"
      ],
      "execution_count": null,
      "outputs": [
        {
          "output_type": "stream",
          "text": [
            "Epoch 1/200\n",
            "13/13 [==============================] - 0s 910us/step - loss: 0.2832 - binary_accuracy: 0.9231\n",
            "Epoch 2/200\n",
            "13/13 [==============================] - 0s 614us/step - loss: 0.2673 - binary_accuracy: 0.9231\n",
            "Epoch 3/200\n",
            "13/13 [==============================] - 0s 844us/step - loss: 0.2526 - binary_accuracy: 0.9231\n",
            "Epoch 4/200\n",
            "13/13 [==============================] - 0s 2ms/step - loss: 0.2393 - binary_accuracy: 0.9231\n",
            "Epoch 5/200\n",
            "13/13 [==============================] - 0s 841us/step - loss: 0.2276 - binary_accuracy: 0.9231\n",
            "Epoch 6/200\n",
            "13/13 [==============================] - 0s 2ms/step - loss: 0.2176 - binary_accuracy: 0.9231\n",
            "Epoch 7/200\n",
            "13/13 [==============================] - 0s 846us/step - loss: 0.2095 - binary_accuracy: 0.9231\n",
            "Epoch 8/200\n",
            "13/13 [==============================] - 0s 767us/step - loss: 0.2031 - binary_accuracy: 0.9231\n",
            "Epoch 9/200\n",
            "13/13 [==============================] - 0s 614us/step - loss: 0.1982 - binary_accuracy: 0.9231\n",
            "Epoch 10/200\n",
            "13/13 [==============================] - 0s 2ms/step - loss: 0.1945 - binary_accuracy: 0.9231\n",
            "Epoch 11/200\n",
            "13/13 [==============================] - 0s 1000us/step - loss: 0.1917 - binary_accuracy: 0.9231\n",
            "Epoch 12/200\n",
            "13/13 [==============================] - 0s 846us/step - loss: 0.1896 - binary_accuracy: 0.9231\n",
            "Epoch 13/200\n",
            "13/13 [==============================] - 0s 879us/step - loss: 0.1877 - binary_accuracy: 0.9231\n",
            "Epoch 14/200\n",
            "13/13 [==============================] - 0s 689us/step - loss: 0.1861 - binary_accuracy: 0.9231\n",
            "Epoch 15/200\n",
            "13/13 [==============================] - 0s 1ms/step - loss: 0.1846 - binary_accuracy: 0.9231\n",
            "Epoch 16/200\n",
            "13/13 [==============================] - 0s 921us/step - loss: 0.1832 - binary_accuracy: 0.9231\n",
            "Epoch 17/200\n",
            "13/13 [==============================] - 0s 1ms/step - loss: 0.1818 - binary_accuracy: 0.9231\n",
            "Epoch 18/200\n",
            "13/13 [==============================] - 0s 833us/step - loss: 0.1805 - binary_accuracy: 0.9231\n",
            "Epoch 19/200\n",
            "13/13 [==============================] - 0s 690us/step - loss: 0.1792 - binary_accuracy: 0.9231\n",
            "Epoch 20/200\n",
            "13/13 [==============================] - 0s 862us/step - loss: 0.1779 - binary_accuracy: 0.9231\n",
            "Epoch 21/200\n",
            "13/13 [==============================] - 0s 2ms/step - loss: 0.1766 - binary_accuracy: 0.9231\n",
            "Epoch 22/200\n",
            "13/13 [==============================] - 0s 1ms/step - loss: 0.1753 - binary_accuracy: 0.9231\n",
            "Epoch 23/200\n",
            "13/13 [==============================] - 0s 692us/step - loss: 0.1741 - binary_accuracy: 0.9231\n",
            "Epoch 24/200\n",
            "13/13 [==============================] - 0s 848us/step - loss: 0.1729 - binary_accuracy: 0.9231\n",
            "Epoch 25/200\n",
            "13/13 [==============================] - 0s 690us/step - loss: 0.1717 - binary_accuracy: 0.9231\n",
            "Epoch 26/200\n",
            "13/13 [==============================] - 0s 2ms/step - loss: 0.1705 - binary_accuracy: 0.9231\n",
            "Epoch 27/200\n",
            "13/13 [==============================] - 0s 1ms/step - loss: 0.1694 - binary_accuracy: 0.9231\n",
            "Epoch 28/200\n",
            "13/13 [==============================] - 0s 864us/step - loss: 0.1682 - binary_accuracy: 0.9231\n",
            "Epoch 29/200\n",
            "13/13 [==============================] - 0s 1ms/step - loss: 0.1671 - binary_accuracy: 0.9231\n",
            "Epoch 30/200\n",
            "13/13 [==============================] - 0s 921us/step - loss: 0.1660 - binary_accuracy: 0.9231\n",
            "Epoch 31/200\n",
            "13/13 [==============================] - 0s 921us/step - loss: 0.1649 - binary_accuracy: 0.9231\n",
            "Epoch 32/200\n",
            "13/13 [==============================] - 0s 921us/step - loss: 0.1638 - binary_accuracy: 0.9231\n",
            "Epoch 33/200\n",
            "13/13 [==============================] - 0s 1ms/step - loss: 0.1628 - binary_accuracy: 0.9231\n",
            "Epoch 34/200\n",
            "13/13 [==============================] - 0s 1ms/step - loss: 0.1617 - binary_accuracy: 0.9231\n",
            "Epoch 35/200\n",
            "13/13 [==============================] - 0s 1ms/step - loss: 0.1607 - binary_accuracy: 0.9231\n",
            "Epoch 36/200\n",
            "13/13 [==============================] - 0s 2ms/step - loss: 0.1597 - binary_accuracy: 0.9231\n",
            "Epoch 37/200\n",
            "13/13 [==============================] - 0s 1ms/step - loss: 0.1587 - binary_accuracy: 0.9231\n",
            "Epoch 38/200\n",
            "13/13 [==============================] - 0s 704us/step - loss: 0.1577 - binary_accuracy: 0.9231\n",
            "Epoch 39/200\n",
            "13/13 [==============================] - 0s 997us/step - loss: 0.1568 - binary_accuracy: 0.9231\n",
            "Epoch 40/200\n",
            "13/13 [==============================] - 0s 537us/step - loss: 0.1558 - binary_accuracy: 0.9231\n",
            "Epoch 41/200\n",
            "13/13 [==============================] - 0s 843us/step - loss: 0.1549 - binary_accuracy: 0.9231\n",
            "Epoch 42/200\n",
            "13/13 [==============================] - 0s 844us/step - loss: 0.1540 - binary_accuracy: 0.9231\n",
            "Epoch 43/200\n",
            "13/13 [==============================] - 0s 921us/step - loss: 0.1530 - binary_accuracy: 0.9231\n",
            "Epoch 44/200\n",
            "13/13 [==============================] - 0s 842us/step - loss: 0.1521 - binary_accuracy: 0.9231\n",
            "Epoch 45/200\n",
            "13/13 [==============================] - 0s 614us/step - loss: 0.1513 - binary_accuracy: 0.9231\n",
            "Epoch 46/200\n",
            "13/13 [==============================] - 0s 730us/step - loss: 0.1504 - binary_accuracy: 0.9231\n",
            "Epoch 47/200\n",
            "13/13 [==============================] - 0s 2ms/step - loss: 0.1495 - binary_accuracy: 0.9231\n",
            "Epoch 48/200\n",
            "13/13 [==============================] - 0s 1ms/step - loss: 0.1487 - binary_accuracy: 0.9231\n",
            "Epoch 49/200\n",
            "13/13 [==============================] - 0s 921us/step - loss: 0.1479 - binary_accuracy: 0.9231\n",
            "Epoch 50/200\n",
            "13/13 [==============================] - 0s 614us/step - loss: 0.1470 - binary_accuracy: 0.9231\n",
            "Epoch 51/200\n",
            "13/13 [==============================] - 0s 692us/step - loss: 0.1462 - binary_accuracy: 0.9231\n",
            "Epoch 52/200\n",
            "13/13 [==============================] - 0s 844us/step - loss: 0.1454 - binary_accuracy: 0.9231\n",
            "Epoch 53/200\n",
            "13/13 [==============================] - 0s 765us/step - loss: 0.1446 - binary_accuracy: 0.9231\n",
            "Epoch 54/200\n",
            "13/13 [==============================] - 0s 3ms/step - loss: 0.1439 - binary_accuracy: 0.9231\n",
            "Epoch 55/200\n",
            "13/13 [==============================] - 0s 1ms/step - loss: 0.1431 - binary_accuracy: 0.9231\n",
            "Epoch 56/200\n",
            "13/13 [==============================] - 0s 844us/step - loss: 0.1424 - binary_accuracy: 0.9231\n",
            "Epoch 57/200\n",
            "13/13 [==============================] - 0s 688us/step - loss: 0.1416 - binary_accuracy: 0.9231\n",
            "Epoch 58/200\n",
            "13/13 [==============================] - 0s 997us/step - loss: 0.1409 - binary_accuracy: 0.9231\n",
            "Epoch 59/200\n",
            "13/13 [==============================] - 0s 616us/step - loss: 0.1402 - binary_accuracy: 0.9231\n",
            "Epoch 60/200\n",
            "13/13 [==============================] - 0s 770us/step - loss: 0.1394 - binary_accuracy: 0.9231\n",
            "Epoch 61/200\n",
            "13/13 [==============================] - 0s 842us/step - loss: 0.1387 - binary_accuracy: 0.9231\n",
            "Epoch 62/200\n",
            "13/13 [==============================] - 0s 844us/step - loss: 0.1380 - binary_accuracy: 0.9231\n",
            "Epoch 63/200\n",
            "13/13 [==============================] - 0s 2ms/step - loss: 0.1373 - binary_accuracy: 0.9231\n",
            "Epoch 64/200\n",
            "13/13 [==============================] - 0s 997us/step - loss: 0.1367 - binary_accuracy: 0.9231\n",
            "Epoch 65/200\n",
            "13/13 [==============================] - 0s 612us/step - loss: 0.1360 - binary_accuracy: 0.9231\n",
            "Epoch 66/200\n",
            "13/13 [==============================] - 0s 844us/step - loss: 0.1353 - binary_accuracy: 0.9231\n",
            "Epoch 67/200\n",
            "13/13 [==============================] - 0s 2ms/step - loss: 0.1347 - binary_accuracy: 0.9231\n",
            "Epoch 68/200\n",
            "13/13 [==============================] - 0s 1ms/step - loss: 0.1340 - binary_accuracy: 0.9231\n",
            "Epoch 69/200\n",
            "13/13 [==============================] - 0s 1ms/step - loss: 0.1334 - binary_accuracy: 0.9231\n",
            "Epoch 70/200\n",
            "13/13 [==============================] - 0s 690us/step - loss: 0.1328 - binary_accuracy: 0.9231\n",
            "Epoch 71/200\n",
            "13/13 [==============================] - 0s 614us/step - loss: 0.1322 - binary_accuracy: 0.9231\n",
            "Epoch 72/200\n",
            "13/13 [==============================] - 0s 690us/step - loss: 0.1316 - binary_accuracy: 0.9231\n",
            "Epoch 73/200\n",
            "13/13 [==============================] - 0s 767us/step - loss: 0.1310 - binary_accuracy: 0.9231\n",
            "Epoch 74/200\n",
            "13/13 [==============================] - 0s 921us/step - loss: 0.1304 - binary_accuracy: 0.9231\n",
            "Epoch 75/200\n",
            "13/13 [==============================] - 0s 725us/step - loss: 0.1298 - binary_accuracy: 0.9231\n",
            "Epoch 76/200\n"
          ],
          "name": "stdout"
        },
        {
          "output_type": "stream",
          "text": [
            "13/13 [==============================] - 0s 846us/step - loss: 0.1292 - binary_accuracy: 0.9231\n",
            "Epoch 77/200\n",
            "13/13 [==============================] - 0s 844us/step - loss: 0.1286 - binary_accuracy: 0.9231\n",
            "Epoch 78/200\n",
            "13/13 [==============================] - 0s 861us/step - loss: 0.1280 - binary_accuracy: 0.9231\n",
            "Epoch 79/200\n",
            "13/13 [==============================] - 0s 844us/step - loss: 0.1275 - binary_accuracy: 0.9231\n",
            "Epoch 80/200\n",
            "13/13 [==============================] - 0s 614us/step - loss: 0.1269 - binary_accuracy: 0.9231\n",
            "Epoch 81/200\n",
            "13/13 [==============================] - 0s 638us/step - loss: 0.1264 - binary_accuracy: 0.9231\n",
            "Epoch 82/200\n",
            "13/13 [==============================] - 0s 846us/step - loss: 0.1258 - binary_accuracy: 0.9231\n",
            "Epoch 83/200\n",
            "13/13 [==============================] - 0s 2ms/step - loss: 0.1253 - binary_accuracy: 0.9231\n",
            "Epoch 84/200\n",
            "13/13 [==============================] - 0s 986us/step - loss: 0.1248 - binary_accuracy: 0.9231\n",
            "Epoch 85/200\n",
            "13/13 [==============================] - 0s 740us/step - loss: 0.1243 - binary_accuracy: 0.9231\n",
            "Epoch 86/200\n",
            "13/13 [==============================] - 0s 834us/step - loss: 0.1237 - binary_accuracy: 0.9231\n",
            "Epoch 87/200\n",
            "13/13 [==============================] - 0s 842us/step - loss: 0.1232 - binary_accuracy: 0.9231\n",
            "Epoch 88/200\n",
            "13/13 [==============================] - 0s 612us/step - loss: 0.1227 - binary_accuracy: 0.9231\n",
            "Epoch 89/200\n",
            "13/13 [==============================] - 0s 1ms/step - loss: 0.1222 - binary_accuracy: 0.9231\n",
            "Epoch 90/200\n",
            "13/13 [==============================] - 0s 844us/step - loss: 0.1217 - binary_accuracy: 0.9231\n",
            "Epoch 91/200\n",
            "13/13 [==============================] - 0s 690us/step - loss: 0.1212 - binary_accuracy: 0.9231\n",
            "Epoch 92/200\n",
            "13/13 [==============================] - 0s 616us/step - loss: 0.1208 - binary_accuracy: 0.9231\n",
            "Epoch 93/200\n",
            "13/13 [==============================] - 0s 767us/step - loss: 0.1203 - binary_accuracy: 0.9231\n",
            "Epoch 94/200\n",
            "13/13 [==============================] - 0s 765us/step - loss: 0.1198 - binary_accuracy: 0.9231\n",
            "Epoch 95/200\n",
            "13/13 [==============================] - 0s 2ms/step - loss: 0.1194 - binary_accuracy: 0.9231\n",
            "Epoch 96/200\n",
            "13/13 [==============================] - 0s 841us/step - loss: 0.1189 - binary_accuracy: 0.9231\n",
            "Epoch 97/200\n",
            "13/13 [==============================] - 0s 843us/step - loss: 0.1184 - binary_accuracy: 0.9231\n",
            "Epoch 98/200\n",
            "13/13 [==============================] - 0s 765us/step - loss: 0.1180 - binary_accuracy: 0.9231\n",
            "Epoch 99/200\n",
            "13/13 [==============================] - 0s 615us/step - loss: 0.1175 - binary_accuracy: 0.9231\n",
            "Epoch 100/200\n",
            "13/13 [==============================] - 0s 693us/step - loss: 0.1171 - binary_accuracy: 0.9231\n",
            "Epoch 101/200\n",
            "13/13 [==============================] - 0s 766us/step - loss: 0.1167 - binary_accuracy: 0.9231\n",
            "Epoch 102/200\n",
            "13/13 [==============================] - 0s 843us/step - loss: 0.1162 - binary_accuracy: 0.9231\n",
            "Epoch 103/200\n",
            "13/13 [==============================] - 0s 2ms/step - loss: 0.1158 - binary_accuracy: 0.9231\n",
            "Epoch 104/200\n",
            "13/13 [==============================] - 0s 779us/step - loss: 0.1154 - binary_accuracy: 0.9231\n",
            "Epoch 105/200\n",
            "13/13 [==============================] - 0s 767us/step - loss: 0.1150 - binary_accuracy: 0.9231\n",
            "Epoch 106/200\n",
            "13/13 [==============================] - 0s 845us/step - loss: 0.1145 - binary_accuracy: 0.9231\n",
            "Epoch 107/200\n",
            "13/13 [==============================] - 0s 613us/step - loss: 0.1141 - binary_accuracy: 0.9231\n",
            "Epoch 108/200\n",
            "13/13 [==============================] - 0s 726us/step - loss: 0.1137 - binary_accuracy: 0.9231\n",
            "Epoch 109/200\n",
            "13/13 [==============================] - 0s 844us/step - loss: 0.1133 - binary_accuracy: 0.9231\n",
            "Epoch 110/200\n",
            "13/13 [==============================] - 0s 690us/step - loss: 0.1129 - binary_accuracy: 0.9231\n",
            "Epoch 111/200\n",
            "13/13 [==============================] - 0s 566us/step - loss: 0.1125 - binary_accuracy: 0.9231\n",
            "Epoch 112/200\n",
            "13/13 [==============================] - 0s 769us/step - loss: 0.1121 - binary_accuracy: 0.9231\n",
            "Epoch 113/200\n",
            "13/13 [==============================] - 0s 693us/step - loss: 0.1118 - binary_accuracy: 0.9231\n",
            "Epoch 114/200\n",
            "13/13 [==============================] - 0s 1ms/step - loss: 0.1114 - binary_accuracy: 0.9231\n",
            "Epoch 115/200\n",
            "13/13 [==============================] - 0s 921us/step - loss: 0.1110 - binary_accuracy: 0.9231\n",
            "Epoch 116/200\n",
            "13/13 [==============================] - 0s 628us/step - loss: 0.1106 - binary_accuracy: 0.9231\n",
            "Epoch 117/200\n",
            "13/13 [==============================] - 0s 643us/step - loss: 0.1103 - binary_accuracy: 0.9231\n",
            "Epoch 118/200\n",
            "13/13 [==============================] - 0s 842us/step - loss: 0.1099 - binary_accuracy: 0.9231\n",
            "Epoch 119/200\n",
            "13/13 [==============================] - 0s 688us/step - loss: 0.1095 - binary_accuracy: 0.9231\n",
            "Epoch 120/200\n",
            "13/13 [==============================] - 0s 614us/step - loss: 0.1092 - binary_accuracy: 0.9231\n",
            "Epoch 121/200\n",
            "13/13 [==============================] - 0s 867us/step - loss: 0.1088 - binary_accuracy: 0.9231\n",
            "Epoch 122/200\n",
            "13/13 [==============================] - 0s 2ms/step - loss: 0.1085 - binary_accuracy: 0.9231\n",
            "Epoch 123/200\n",
            "13/13 [==============================] - 0s 767us/step - loss: 0.1081 - binary_accuracy: 0.9231\n",
            "Epoch 124/200\n",
            "13/13 [==============================] - 0s 614us/step - loss: 0.1078 - binary_accuracy: 0.9231\n",
            "Epoch 125/200\n",
            "13/13 [==============================] - 0s 766us/step - loss: 0.1074 - binary_accuracy: 0.9231\n",
            "Epoch 126/200\n",
            "13/13 [==============================] - 0s 720us/step - loss: 0.1071 - binary_accuracy: 0.9231\n",
            "Epoch 127/200\n",
            "13/13 [==============================] - 0s 743us/step - loss: 0.1067 - binary_accuracy: 0.9231\n",
            "Epoch 128/200\n",
            "13/13 [==============================] - 0s 613us/step - loss: 0.1064 - binary_accuracy: 0.9231\n",
            "Epoch 129/200\n",
            "13/13 [==============================] - 0s 843us/step - loss: 0.1061 - binary_accuracy: 0.9231\n",
            "Epoch 130/200\n",
            "13/13 [==============================] - 0s 691us/step - loss: 0.1057 - binary_accuracy: 0.9231\n",
            "Epoch 131/200\n",
            "13/13 [==============================] - 0s 614us/step - loss: 0.1054 - binary_accuracy: 0.9231\n",
            "Epoch 132/200\n",
            "13/13 [==============================] - 0s 766us/step - loss: 0.1051 - binary_accuracy: 0.9231\n",
            "Epoch 133/200\n",
            "13/13 [==============================] - 0s 769us/step - loss: 0.1048 - binary_accuracy: 0.9231\n",
            "Epoch 134/200\n",
            "13/13 [==============================] - 0s 552us/step - loss: 0.1045 - binary_accuracy: 0.9231\n",
            "Epoch 135/200\n",
            "13/13 [==============================] - 0s 569us/step - loss: 0.1042 - binary_accuracy: 0.9231\n",
            "Epoch 136/200\n",
            "13/13 [==============================] - 0s 614us/step - loss: 0.1038 - binary_accuracy: 0.9231\n",
            "Epoch 137/200\n",
            "13/13 [==============================] - 0s 614us/step - loss: 0.1035 - binary_accuracy: 0.9231\n",
            "Epoch 138/200\n",
            "13/13 [==============================] - 0s 692us/step - loss: 0.1032 - binary_accuracy: 0.9231\n",
            "Epoch 139/200\n",
            "13/13 [==============================] - 0s 690us/step - loss: 0.1029 - binary_accuracy: 0.9231\n",
            "Epoch 140/200\n",
            "13/13 [==============================] - 0s 565us/step - loss: 0.1026 - binary_accuracy: 0.9231\n",
            "Epoch 141/200\n",
            "13/13 [==============================] - 0s 1ms/step - loss: 0.1023 - binary_accuracy: 0.9231\n",
            "Epoch 142/200\n",
            "13/13 [==============================] - 0s 1ms/step - loss: 0.1020 - binary_accuracy: 0.9231\n",
            "Epoch 143/200\n",
            "13/13 [==============================] - 0s 999us/step - loss: 0.1017 - binary_accuracy: 0.9231\n",
            "Epoch 144/200\n",
            "13/13 [==============================] - 0s 843us/step - loss: 0.1014 - binary_accuracy: 0.9231\n",
            "Epoch 145/200\n",
            "13/13 [==============================] - 0s 765us/step - loss: 0.1012 - binary_accuracy: 0.9231\n",
            "Epoch 146/200\n",
            "13/13 [==============================] - 0s 2ms/step - loss: 0.1009 - binary_accuracy: 0.9231\n",
            "Epoch 147/200\n",
            "13/13 [==============================] - 0s 843us/step - loss: 0.1006 - binary_accuracy: 0.9231\n",
            "Epoch 148/200\n",
            "13/13 [==============================] - 0s 2ms/step - loss: 0.1003 - binary_accuracy: 0.9231\n",
            "Epoch 149/200\n",
            "13/13 [==============================] - 0s 1ms/step - loss: 0.1000 - binary_accuracy: 0.9231\n",
            "Epoch 150/200\n",
            "13/13 [==============================] - 0s 767us/step - loss: 0.0998 - binary_accuracy: 0.9231\n",
            "Epoch 151/200\n"
          ],
          "name": "stdout"
        },
        {
          "output_type": "stream",
          "text": [
            "13/13 [==============================] - 0s 798us/step - loss: 0.0995 - binary_accuracy: 0.9231\n",
            "Epoch 152/200\n",
            "13/13 [==============================] - 0s 2ms/step - loss: 0.0992 - binary_accuracy: 0.9231\n",
            "Epoch 153/200\n",
            "13/13 [==============================] - 0s 766us/step - loss: 0.0989 - binary_accuracy: 0.9231\n",
            "Epoch 154/200\n",
            "13/13 [==============================] - 0s 771us/step - loss: 0.0987 - binary_accuracy: 0.9231\n",
            "Epoch 155/200\n",
            "13/13 [==============================] - 0s 614us/step - loss: 0.0984 - binary_accuracy: 0.9231\n",
            "Epoch 156/200\n",
            "13/13 [==============================] - 0s 758us/step - loss: 0.0981 - binary_accuracy: 0.9231\n",
            "Epoch 157/200\n",
            "13/13 [==============================] - 0s 767us/step - loss: 0.0979 - binary_accuracy: 0.9231\n",
            "Epoch 158/200\n",
            "13/13 [==============================] - 0s 614us/step - loss: 0.0976 - binary_accuracy: 0.9231\n",
            "Epoch 159/200\n",
            "13/13 [==============================] - ETA: 0s - loss: 7.3822e-08 - binary_accuracy: 1.000 - 0s 690us/step - loss: 0.0974 - binary_accuracy: 0.9231\n",
            "Epoch 160/200\n",
            "13/13 [==============================] - 0s 946us/step - loss: 0.0971 - binary_accuracy: 0.9231\n",
            "Epoch 161/200\n",
            "13/13 [==============================] - 0s 1ms/step - loss: 0.0969 - binary_accuracy: 0.9231\n",
            "Epoch 162/200\n",
            "13/13 [==============================] - 0s 2ms/step - loss: 0.0966 - binary_accuracy: 0.9231\n",
            "Epoch 163/200\n",
            "13/13 [==============================] - 0s 1ms/step - loss: 0.0964 - binary_accuracy: 0.9231\n",
            "Epoch 164/200\n",
            "13/13 [==============================] - 0s 1ms/step - loss: 0.0961 - binary_accuracy: 0.9231\n",
            "Epoch 165/200\n",
            "13/13 [==============================] - 0s 1ms/step - loss: 0.0959 - binary_accuracy: 0.9231\n",
            "Epoch 166/200\n",
            "13/13 [==============================] - 0s 1ms/step - loss: 0.0956 - binary_accuracy: 0.9231\n",
            "Epoch 167/200\n",
            "13/13 [==============================] - 0s 939us/step - loss: 0.0954 - binary_accuracy: 0.9231\n",
            "Epoch 168/200\n",
            "13/13 [==============================] - 0s 690us/step - loss: 0.0952 - binary_accuracy: 0.9231\n",
            "Epoch 169/200\n",
            "13/13 [==============================] - 0s 612us/step - loss: 0.0949 - binary_accuracy: 0.9231\n",
            "Epoch 170/200\n",
            "13/13 [==============================] - 0s 996us/step - loss: 0.0947 - binary_accuracy: 0.9231\n",
            "Epoch 171/200\n",
            "13/13 [==============================] - 0s 1ms/step - loss: 0.0944 - binary_accuracy: 0.9231\n",
            "Epoch 172/200\n",
            "13/13 [==============================] - 0s 997us/step - loss: 0.0942 - binary_accuracy: 0.9231\n",
            "Epoch 173/200\n",
            "13/13 [==============================] - 0s 765us/step - loss: 0.0940 - binary_accuracy: 0.9231\n",
            "Epoch 174/200\n",
            "13/13 [==============================] - 0s 635us/step - loss: 0.0938 - binary_accuracy: 0.9231\n",
            "Epoch 175/200\n",
            "13/13 [==============================] - 0s 650us/step - loss: 0.0935 - binary_accuracy: 0.9231\n",
            "Epoch 176/200\n",
            "13/13 [==============================] - 0s 767us/step - loss: 0.0933 - binary_accuracy: 0.9231\n",
            "Epoch 177/200\n",
            "13/13 [==============================] - 0s 539us/step - loss: 0.0931 - binary_accuracy: 0.9231\n",
            "Epoch 178/200\n",
            "13/13 [==============================] - 0s 690us/step - loss: 0.0929 - binary_accuracy: 0.9231\n",
            "Epoch 179/200\n",
            "13/13 [==============================] - 0s 2ms/step - loss: 0.0926 - binary_accuracy: 0.9231\n",
            "Epoch 180/200\n",
            "13/13 [==============================] - 0s 920us/step - loss: 0.0924 - binary_accuracy: 0.9231\n",
            "Epoch 181/200\n",
            "13/13 [==============================] - 0s 596us/step - loss: 0.0922 - binary_accuracy: 0.9231\n",
            "Epoch 182/200\n",
            "13/13 [==============================] - 0s 646us/step - loss: 0.0920 - binary_accuracy: 0.9231\n",
            "Epoch 183/200\n",
            "13/13 [==============================] - 0s 690us/step - loss: 0.0918 - binary_accuracy: 0.9231\n",
            "Epoch 184/200\n",
            "13/13 [==============================] - 0s 690us/step - loss: 0.0915 - binary_accuracy: 0.9231\n",
            "Epoch 185/200\n",
            "13/13 [==============================] - 0s 616us/step - loss: 0.0913 - binary_accuracy: 0.9231\n",
            "Epoch 186/200\n",
            "13/13 [==============================] - 0s 2ms/step - loss: 0.0911 - binary_accuracy: 0.9231\n",
            "Epoch 187/200\n",
            "13/13 [==============================] - 0s 997us/step - loss: 0.0909 - binary_accuracy: 0.9231\n",
            "Epoch 188/200\n",
            "13/13 [==============================] - 0s 693us/step - loss: 0.0907 - binary_accuracy: 0.9231\n",
            "Epoch 189/200\n",
            "13/13 [==============================] - 0s 551us/step - loss: 0.0905 - binary_accuracy: 0.9231\n",
            "Epoch 190/200\n",
            "13/13 [==============================] - 0s 846us/step - loss: 0.0903 - binary_accuracy: 0.9231\n",
            "Epoch 191/200\n",
            "13/13 [==============================] - 0s 858us/step - loss: 0.0901 - binary_accuracy: 0.9231\n",
            "Epoch 192/200\n",
            "13/13 [==============================] - 0s 692us/step - loss: 0.0899 - binary_accuracy: 0.9231\n",
            "Epoch 193/200\n",
            "13/13 [==============================] - 0s 573us/step - loss: 0.0897 - binary_accuracy: 1.0000\n",
            "Epoch 194/200\n",
            "13/13 [==============================] - 0s 690us/step - loss: 0.0895 - binary_accuracy: 1.0000\n",
            "Epoch 195/200\n",
            "13/13 [==============================] - 0s 690us/step - loss: 0.0893 - binary_accuracy: 1.0000\n",
            "Epoch 196/200\n",
            "13/13 [==============================] - 0s 612us/step - loss: 0.0891 - binary_accuracy: 1.0000\n",
            "Epoch 197/200\n",
            "13/13 [==============================] - 0s 2ms/step - loss: 0.0889 - binary_accuracy: 1.0000\n",
            "Epoch 198/200\n",
            "13/13 [==============================] - 0s 767us/step - loss: 0.0887 - binary_accuracy: 1.0000\n",
            "Epoch 199/200\n",
            "13/13 [==============================] - 0s 612us/step - loss: 0.0885 - binary_accuracy: 1.0000\n",
            "Epoch 200/200\n",
            "13/13 [==============================] - 0s 844us/step - loss: 0.0883 - binary_accuracy: 1.0000\n"
          ],
          "name": "stdout"
        },
        {
          "output_type": "execute_result",
          "data": {
            "text/plain": [
              "<tensorflow.python.keras.callbacks.History at 0x2c989740340>"
            ]
          },
          "metadata": {
            "tags": []
          },
          "execution_count": 2
        }
      ]
    },
    {
      "cell_type": "code",
      "metadata": {
        "id": "mOoI6G4xkp8x",
        "outputId": "9967d7fe-a3ec-4598-c788-83f9b55daf98"
      },
      "source": [
        "plt.plot(X, model.predict(X), 'b', X,y, 'k.')"
      ],
      "execution_count": null,
      "outputs": [
        {
          "output_type": "execute_result",
          "data": {
            "text/plain": [
              "[<matplotlib.lines.Line2D at 0x2c98aaee100>,\n",
              " <matplotlib.lines.Line2D at 0x2c98aaee1c0>]"
            ]
          },
          "metadata": {
            "tags": []
          },
          "execution_count": 3
        },
        {
          "output_type": "display_data",
          "data": {
            "image/png": "[encoded data removed]",
            "text/plain": [
              "<Figure size 432x288 with 1 Axes>"
            ]
          },
          "metadata": {
            "tags": [],
            "needs_background": "light"
          }
        }
      ]
    },
    {
      "cell_type": "code",
      "metadata": {
        "id": "35HtCjRckp8y",
        "outputId": "652cb467-e831-4e37-a0a3-9239ecfd4042"
      },
      "source": [
        "print(model.predict([1, 2, 3, 4, 4.5]))\n",
        "print(model.predict([11, 21, 31, 41, 500]))"
      ],
      "execution_count": null,
      "outputs": [
        {
          "output_type": "stream",
          "text": [
            "[[0.21099943]\n",
            " [0.26938832]\n",
            " [0.3370329 ]\n",
            " [0.41208297]\n",
            " [0.45146096]]\n",
            "[[0.8690885 ]\n",
            " [0.99396884]\n",
            " [0.9997557 ]\n",
            " [0.9999901 ]\n",
            " [1.        ]]\n"
          ],
          "name": "stdout"
        }
      ]
    },
    {
      "cell_type": "markdown",
      "metadata": {
        "id": "orvfBmsjks3H"
      },
      "source": [
        "* 로지스틱회귀에서 비용함수로 크로스엔트로피를 쓰는 이유  \n",
        "https://wikidocs.net/22881"
      ]
    },
    {
      "cell_type": "markdown",
      "metadata": {
        "id": "SEwk6NkWuS_P"
      },
      "source": [
        "* 비용함수가 여러개 있는데 각각의 평가 방법이 공평한지 의문이 들었다. 예컨데 한 고정된 테스트셋에서 오차 값이 비용함수에 따라 달라질텐데 그 절대값이 적다고해서 그 비용함수가 더 좋다는건 아닐테니. 가령 쉬운 국어시험에서 90점 맞는 것 보다 어려운 수학시험에서 70 점 맞는 것이 더 잘한 것이니까.  \n",
        "* 이 고민은 쓸데없는것같다 우리는 오차 값 자체보다 각각의 비용함수에서 오차 값이 최소 일 때의 파라미터?(weight, bias) 에 관심이 있는거니까? 그것을 테스트셋에 적용해서 보다 최적의 해를 구하는 것이 목적이니까"
      ]
    },
    {
      "cell_type": "code",
      "metadata": {
        "id": "ZuoHffAMkp8y"
      },
      "source": [
        ""
      ],
      "execution_count": null,
      "outputs": []
    }
  ]
}