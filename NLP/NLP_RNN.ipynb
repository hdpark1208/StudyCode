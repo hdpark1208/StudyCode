{
  "nbformat": 4,
  "nbformat_minor": 0,
  "metadata": {
    "kernelspec": {
      "display_name": "Python 3",
      "language": "python",
      "name": "python3"
    },
    "language_info": {
      "codemirror_mode": {
        "name": "ipython",
        "version": 3
      },
      "file_extension": ".py",
      "mimetype": "text/x-python",
      "name": "python",
      "nbconvert_exporter": "python",
      "pygments_lexer": "ipython3",
      "version": "3.8.5"
    },
    "colab": {
      "name": "NLP_RNN.ipynb",
      "provenance": [],
      "include_colab_link": true
    }
  },
  "cells": [
    {
      "cell_type": "markdown",
      "metadata": {
        "id": "view-in-github",
        "colab_type": "text"
      },
      "source": [
        "<a href=\"https://colab.research.google.com/github/hdpark1208/StudyCode/blob/main/NLP/NLP_RNN.ipynb\" target=\"_parent\"><img src=\"https://colab.research.google.com/assets/colab-badge.svg\" alt=\"Open In Colab\"/></a>"
      ]
    },
    {
      "cell_type": "markdown",
      "metadata": {
        "id": "fmSw-_CQoQJt"
      },
      "source": [
        "# RNN(Recurrent Neural Network)"
      ]
    },
    {
      "cell_type": "markdown",
      "metadata": {
        "id": "OMFHXyxtoQJv"
      },
      "source": [
        "* (메모리, RNN)Cell : RNN에서 은닉층에서 활성화함수를 통해 결과를 내보내는 역할을 하는 노드  \n",
        "* 은닉 상태(Hidden state) : 메모리 셀이 출력층 방향으로 또는 다음 시점(t+1)의 자신에게 보내는 값 (t 시점의 메모리 셀은 t-1 시점의 메모리 셀이 보낸 은닉 상태값을 t 시점의 은닉 상태 계산을 위한 입력값으로 재귀적으로 사용됨)\n"
      ]
    },
    {
      "cell_type": "markdown",
      "metadata": {
        "id": "k7jbux3xoQJw"
      },
      "source": [
        "![image.png](attachment:image.png)"
      ]
    },
    {
      "cell_type": "markdown",
      "metadata": {
        "id": "MmTWE4xWoQJw"
      },
      "source": [
        "![image.png](attachment:image.png)"
      ]
    },
    {
      "cell_type": "markdown",
      "metadata": {
        "id": "tIsmfGHboQJw"
      },
      "source": [
        "RNN은 입력과 출력의 길이를 다르게 설계 할 수 있으므로 다양한 용도로 사용할 수 있습니다. 위 그림은 입력과 출력의 길이에 따라서 달라지는 RNN의 다양한 형태를 보여줍니다. 위 구조가 자연어 처리에서 어떻게 사용될 수 있는지 예를 들어봅시다. RNN 셀의 각 시점 별 입, 출력의 단위는 사용자가 정의하기 나름이지만 가장 보편적인 단위는 '단어 벡터'입니다."
      ]
    },
    {
      "cell_type": "markdown",
      "metadata": {
        "id": "TOcCSsWcoQJx"
      },
      "source": [
        "![1.PNG](attachment:1.PNG)"
      ]
    },
    {
      "cell_type": "markdown",
      "metadata": {
        "id": "4HS6n9QooQJx"
      },
      "source": [
        "![image.png](attachment:image.png)"
      ]
    },
    {
      "cell_type": "markdown",
      "metadata": {
        "id": "kcuKwwLroQJx"
      },
      "source": [
        "## 파이썬으로 RNN 구현"
      ]
    },
    {
      "cell_type": "code",
      "metadata": {
        "id": "g9i2u8HJoQJy"
      },
      "source": [
        "# 슈도 코드\n",
        "hidden_state_t = 0 # 초기 은닉 상태를 0(벡터)로 초기화\n",
        "for input_t in input_length: # 각 시점마다 입력 받는다 (길이는 곧 Timesteps)\n",
        "    output_t = tanh(input_t,hidden_state_t) # 각 시점에 대해서 입력과 은닉 상태를 가지고 연산\n",
        "    hidden_state_t = output_t # 계산 결과는 현재 시점의 은닉 상태가 된다"
      ],
      "execution_count": null,
      "outputs": []
    },
    {
      "cell_type": "code",
      "metadata": {
        "id": "cwECfsUXoQJy"
      },
      "source": [
        "import numpy as np\n",
        "\n",
        "timesteps = 10 # 시점의 수, 보통 문장의 길이가 됨\n",
        "input_size = 4 # 입력의 차원, 보통 단어 벡터의 차원이 됨\n",
        "hidden_size = 8 # 은닉 상태의 크기, 메모리 셀의 용량\n",
        "\n",
        "inputs = np.random.random((timesteps,input_size)) # 입력에 해당되는 2D 텐서\n",
        "# 실제 파이토치에서는 (batch_size,timesteps,inputsize) 의 3D텐서를 입력받음\n",
        "\n",
        "hidden_state_t = np.zeros((hidden_size)) # 초기 은닉 상태는 0벡터로 초기화"
      ],
      "execution_count": null,
      "outputs": []
    },
    {
      "cell_type": "code",
      "metadata": {
        "id": "BrOx8oiSoQJz",
        "outputId": "c387d511-90d3-45d4-d2b0-7360b59d6cf8"
      },
      "source": [
        "inputs"
      ],
      "execution_count": null,
      "outputs": [
        {
          "output_type": "execute_result",
          "data": {
            "text/plain": [
              "array([[0.55338274, 0.7831361 , 0.76176678, 0.62792902],\n",
              "       [0.55700558, 0.61416949, 0.96078617, 0.2944596 ],\n",
              "       [0.2265416 , 0.14854985, 0.32430047, 0.11877789],\n",
              "       [0.98332506, 0.04157032, 0.7614431 , 0.94932911],\n",
              "       [0.64397326, 0.63402965, 0.19030742, 0.04330379],\n",
              "       [0.71935271, 0.66808222, 0.65158919, 0.24788719],\n",
              "       [0.6161993 , 0.24334781, 0.44269347, 0.64883562],\n",
              "       [0.90853305, 0.37488004, 0.51057022, 0.32466448],\n",
              "       [0.73259599, 0.46591956, 0.99890792, 0.20342163],\n",
              "       [0.27931072, 0.43632653, 0.13336516, 0.43345593]])"
            ]
          },
          "metadata": {
            "tags": []
          },
          "execution_count": 15
        }
      ]
    },
    {
      "cell_type": "code",
      "metadata": {
        "id": "xl-SenofoQJz",
        "outputId": "38fc35a5-7668-4cfe-a1e1-08241838639a"
      },
      "source": [
        "hidden_state_t # 8차원 벡터, 성분 0인 은닉 상태\n",
        "hidden_state_t.shape"
      ],
      "execution_count": null,
      "outputs": [
        {
          "output_type": "execute_result",
          "data": {
            "text/plain": [
              "(8,)"
            ]
          },
          "metadata": {
            "tags": []
          },
          "execution_count": 16
        }
      ]
    },
    {
      "cell_type": "code",
      "metadata": {
        "id": "VpxxlFnMoQJ0",
        "outputId": "c44cc12d-a231-4f39-d57d-7c5bd194e823"
      },
      "source": [
        "Wx = np.random.random((hidden_size, input_size))  # (8, 4)크기의 2D 텐서 생성. 입력에 대한 가중치.\n",
        "Wh = np.random.random((hidden_size, hidden_size)) # (8, 8)크기의 2D 텐서 생성. 은닉 상태에 대한 가중치.\n",
        "b = np.random.random((hidden_size,)) # (8,)크기의 1D 텐서 생성. 이 값은 편향(bias).\n",
        "print(np.shape(Wx))\n",
        "print(np.shape(Wh))\n",
        "print(np.shape(b))"
      ],
      "execution_count": null,
      "outputs": [
        {
          "output_type": "stream",
          "text": [
            "(8, 4)\n",
            "(8, 8)\n",
            "(8,)\n"
          ],
          "name": "stdout"
        }
      ]
    },
    {
      "cell_type": "code",
      "metadata": {
        "id": "RFBlAOxUoQJ0",
        "outputId": "75d5beda-2745-4453-8cba-9a9b5234ed11"
      },
      "source": [
        "total_hidden_states = []\n",
        "\n",
        "#메모리 셀 동작\n",
        "for input_t in inputs:\n",
        "    output_t = np.tanh(np.dot(Wx,input_t)+np.dot(Wh,hidden_state_t)+b)\n",
        "    total_hidden_states.append(list(output_t))\n",
        "    print(np.shape(total_hidden_states))\n",
        "    hidden_state_t = output_t\n",
        "\n",
        "total_hidden_states = np.stack(total_hidden_states,axis=0)\n",
        "\n",
        "print(total_hidden_states)"
      ],
      "execution_count": null,
      "outputs": [
        {
          "output_type": "stream",
          "text": [
            "(1, 8)\n",
            "(2, 8)\n",
            "(3, 8)\n",
            "(4, 8)\n",
            "(5, 8)\n",
            "(6, 8)\n",
            "(7, 8)\n",
            "(8, 8)\n",
            "(9, 8)\n",
            "(10, 8)\n",
            "[[0.96781132 0.95022059 0.96144779 0.98350305 0.97126865 0.9750687\n",
            "  0.98567461 0.84577894]\n",
            " [0.99998313 0.99992422 0.9999321  0.99999212 0.99996773 0.99997156\n",
            "  0.99999539 0.99957671]\n",
            " [0.99991396 0.99961877 0.99979238 0.9999318  0.99984808 0.99981556\n",
            "  0.99995804 0.9984546 ]\n",
            " [0.9999934  0.999977   0.99996901 0.99999813 0.99998793 0.99999257\n",
            "  0.99999303 0.99910333]\n",
            " [0.99997133 0.99979601 0.99989983 0.99996893 0.99993594 0.99990537\n",
            "  0.99998487 0.99916263]\n",
            " [0.99998761 0.99993034 0.99994484 0.99999248 0.99997542 0.99997369\n",
            "  0.99999502 0.99955527]\n",
            " [0.99998133 0.99990831 0.99992528 0.99999033 0.9999707  0.9999671\n",
            "  0.99998519 0.99895055]\n",
            " [0.99998676 0.9999364  0.99994956 0.99999216 0.99996727 0.99997302\n",
            "  0.99999118 0.99921045]\n",
            " [0.99998816 0.99995629 0.99995349 0.99999519 0.9999736  0.99998295\n",
            "  0.99999627 0.99960215]\n",
            " [0.99995455 0.99968406 0.99983611 0.99995963 0.99994098 0.99987929\n",
            "  0.99997069 0.99878336]]\n"
          ],
          "name": "stdout"
        }
      ]
    },
    {
      "cell_type": "markdown",
      "metadata": {
        "id": "sm6oPlxBoQJ1"
      },
      "source": [
        "## Pytorch로 RNN 구현"
      ]
    },
    {
      "cell_type": "code",
      "metadata": {
        "id": "u_akMsZ0oQJ1",
        "outputId": "0ccf640a-9db6-4e67-fdd0-681c520a9d9a"
      },
      "source": [
        "!pip install torch"
      ],
      "execution_count": null,
      "outputs": [
        {
          "output_type": "stream",
          "text": [
            "Collecting torch\n",
            "  Downloading torch-1.9.0-cp38-cp38-win_amd64.whl (222.0 MB)\n",
            "Requirement already satisfied: typing-extensions in c:\\programdata\\anaconda3\\lib\\site-packages (from torch) (3.7.4.3)\n",
            "Installing collected packages: torch\n",
            "Successfully installed torch-1.9.0\n"
          ],
          "name": "stdout"
        }
      ]
    },
    {
      "cell_type": "code",
      "metadata": {
        "id": "P3IDVcc0oQJ1"
      },
      "source": [
        "import torch\n",
        "import torch.nn as nn"
      ],
      "execution_count": null,
      "outputs": []
    },
    {
      "cell_type": "code",
      "metadata": {
        "id": "h3o_ydIXoQJ1"
      },
      "source": [
        "# 입력의 크기와 은닉 상태의 크기 정의\n",
        "input_size = 5\n",
        "hidden_size = 8"
      ],
      "execution_count": null,
      "outputs": []
    },
    {
      "cell_type": "code",
      "metadata": {
        "id": "BKbrFpLEoQJ1"
      },
      "source": [
        "# 입력 텐서 정의 (배치 크기 X 시점의 수 X 매 시점마다 들어가는 입력)\n",
        "inputs = torch.Tensor(1,10,5) # (batch_size, time_steps, input_size)"
      ],
      "execution_count": null,
      "outputs": []
    },
    {
      "cell_type": "code",
      "metadata": {
        "id": "1Ov1I2F8oQJ2"
      },
      "source": [
        "cell = nn.RNN(input_size, hidden_size,batch_first=True)"
      ],
      "execution_count": null,
      "outputs": []
    },
    {
      "cell_type": "code",
      "metadata": {
        "id": "jkwj08gkoQJ2"
      },
      "source": [
        "outputs,_status = cell(inputs) # 입력 텐서를 RNN 셀에 입력"
      ],
      "execution_count": null,
      "outputs": []
    },
    {
      "cell_type": "code",
      "metadata": {
        "id": "3cSaLeenoQJ2",
        "outputId": "26e14659-b7fd-42b1-b1e0-f25fb401ce40"
      },
      "source": [
        "print(outputs.shape) # 모든 time-step의 hidden_state\n",
        "# 첫번째 리턴값의 은닉 상태들은 (1,10,8)의 크기를 가진다.   \n",
        "# 이는 10번의 시점동안 8차원의 은닉 상태가 출력되었다는 의미"
      ],
      "execution_count": null,
      "outputs": [
        {
          "output_type": "stream",
          "text": [
            "torch.Size([1, 10, 8])\n"
          ],
          "name": "stdout"
        }
      ]
    },
    {
      "cell_type": "code",
      "metadata": {
        "id": "oCPbmrz8oQJ2",
        "outputId": "d7546507-6c7e-4410-d832-36bc036c4a23"
      },
      "source": [
        "print(_status.shape) # 최종 time-step의 hidden_state"
      ],
      "execution_count": null,
      "outputs": [
        {
          "output_type": "stream",
          "text": [
            "torch.Size([1, 1, 8])\n"
          ],
          "name": "stdout"
        }
      ]
    },
    {
      "cell_type": "markdown",
      "metadata": {
        "id": "b5HME3SjoQJ2"
      },
      "source": [
        "### DRNN"
      ]
    },
    {
      "cell_type": "code",
      "metadata": {
        "id": "rqCBTMsBoQJ3"
      },
      "source": [
        "# (batch_size, time_steps, input_size)\n",
        "inputs = torch.Tensor(1, 10, 5)"
      ],
      "execution_count": null,
      "outputs": []
    },
    {
      "cell_type": "code",
      "metadata": {
        "id": "2iVEi3zWoQJ3"
      },
      "source": [
        "cell = nn.RNN(input_size = 5, hidden_size = 8, num_layers = 2, batch_first=True)\n",
        "# num_layers에 값을 전달하여 층을 쌓는다"
      ],
      "execution_count": null,
      "outputs": []
    },
    {
      "cell_type": "code",
      "metadata": {
        "id": "WP97zAv0oQJ3",
        "outputId": "076717bc-c39f-4e00-b59f-51343a58de19"
      },
      "source": [
        "print(outputs.shape) # 모든 time-step의 hidden_state"
      ],
      "execution_count": null,
      "outputs": [
        {
          "output_type": "stream",
          "text": [
            "torch.Size([1, 10, 8])\n"
          ],
          "name": "stdout"
        }
      ]
    },
    {
      "cell_type": "code",
      "metadata": {
        "id": "bdqnwktJoQJ3",
        "outputId": "262ea87d-16ad-46c1-8b8b-cc5f91a427f7"
      },
      "source": [
        "print(_status.shape) # (층의 개수, 배치 크기, 은닉 상태의 크기)\n",
        "# 값이 안달라졌는데 ? . . ."
      ],
      "execution_count": null,
      "outputs": [
        {
          "output_type": "stream",
          "text": [
            "torch.Size([1, 1, 8])\n"
          ],
          "name": "stdout"
        }
      ]
    },
    {
      "cell_type": "markdown",
      "metadata": {
        "id": "CXT1dBzFoQJ4"
      },
      "source": [
        "### BRNN (Bidirectional Recurrent Neural Network)"
      ]
    },
    {
      "cell_type": "markdown",
      "metadata": {
        "id": "kB1mk3puoQJ4"
      },
      "source": [
        "양방향 순환 신경망은 시점 t에서의 출력값을 예측할 때 이전 시점의 데이터 뿐만아니라  \n",
        "이후 데이터로도 예측할 수 있다는 아이디어에서 출발"
      ]
    },
    {
      "cell_type": "markdown",
      "metadata": {
        "id": "ZeOGnxzwoQJ4"
      },
      "source": [
        "![image.png](attachment:image.png)"
      ]
    },
    {
      "cell_type": "markdown",
      "metadata": {
        "id": "glP9J5_8oQJ4"
      },
      "source": [
        "주황색 메모리 : Forward States, 초록색 메로리 : Backward States  \n"
      ]
    },
    {
      "cell_type": "code",
      "metadata": {
        "id": "t_F90N2koQJ4"
      },
      "source": [
        "# (batch_size, time_steps, input_size)\n",
        "inputs = torch.Tensor(1, 10, 5)"
      ],
      "execution_count": null,
      "outputs": []
    },
    {
      "cell_type": "code",
      "metadata": {
        "id": "26dWH78poQJ4"
      },
      "source": [
        "cell = nn.RNN(input_size = 5, hidden_size = 8, num_layers = 2,\n",
        "              batch_first=True, bidirectional = True)"
      ],
      "execution_count": null,
      "outputs": []
    },
    {
      "cell_type": "code",
      "metadata": {
        "id": "-YWci7G4oQJ5"
      },
      "source": [
        "outputs, _status = cell(inputs)"
      ],
      "execution_count": null,
      "outputs": []
    },
    {
      "cell_type": "code",
      "metadata": {
        "id": "KyiCw2b3oQJ5",
        "outputId": "dfdeb186-9ac4-4297-d2d3-188a252b3939"
      },
      "source": [
        "print(outputs.shape) # (배치 크기, 시퀀스 길이, 은닉 상태의 크기 x 2)\n",
        "# 은닉 상태의 크기가 두 배가 되었다"
      ],
      "execution_count": null,
      "outputs": [
        {
          "output_type": "stream",
          "text": [
            "torch.Size([1, 10, 16])\n"
          ],
          "name": "stdout"
        }
      ]
    },
    {
      "cell_type": "code",
      "metadata": {
        "id": "hnQZe8n5oQJ5",
        "outputId": "294d07ea-912f-467f-e230-9fd4367fa9fb"
      },
      "source": [
        "print(_status.shape) # (층의 개수 x 2, 배치 크기, 은닉 상태의 크기)"
      ],
      "execution_count": null,
      "outputs": [
        {
          "output_type": "stream",
          "text": [
            "torch.Size([4, 1, 8])\n"
          ],
          "name": "stdout"
        }
      ]
    },
    {
      "cell_type": "code",
      "metadata": {
        "id": "frLmaeCaoQJ5"
      },
      "source": [
        ""
      ],
      "execution_count": null,
      "outputs": []
    }
  ]
}