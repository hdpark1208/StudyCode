{
  "nbformat": 4,
  "nbformat_minor": 0,
  "metadata": {
    "kernelspec": {
      "display_name": "Python 3",
      "language": "python",
      "name": "python3"
    },
    "language_info": {
      "codemirror_mode": {
        "name": "ipython",
        "version": 3
      },
      "file_extension": ".py",
      "mimetype": "text/x-python",
      "name": "python",
      "nbconvert_exporter": "python",
      "pygments_lexer": "ipython3",
      "version": "3.8.5"
    },
    "colab": {
      "name": "NLP_SplittingData&PreprocessingTools.ipynb",
      "provenance": [],
      "include_colab_link": true
    }
  },
  "cells": [
    {
      "cell_type": "markdown",
      "metadata": {
        "id": "view-in-github",
        "colab_type": "text"
      },
      "source": [
        "<a href=\"https://colab.research.google.com/github/hdpark1208/StudyCode/blob/main/NLP/NLP_SplittingData%26PreprocessingTools.ipynb\" target=\"_parent\"><img src=\"https://colab.research.google.com/assets/colab-badge.svg\" alt=\"Open In Colab\"/></a>"
      ]
    },
    {
      "cell_type": "markdown",
      "metadata": {
        "id": "oWHuL2AcbKJJ"
      },
      "source": [
        "* zip() : 동일한 개수를 가지는 시퀀스 자료형에서 각 순서에 등장하는 원소들끼리 묶어주는 함수"
      ]
    },
    {
      "cell_type": "code",
      "metadata": {
        "id": "uiSr2y6xbKJL",
        "outputId": "7cf75e0b-5daa-4d99-a1ee-7eddfaa08927"
      },
      "source": [
        "X,y = zip(['a',1],['b',2],['c',3])\n",
        "print(X,type(X))\n",
        "print(y,type(y))"
      ],
      "execution_count": null,
      "outputs": [
        {
          "output_type": "stream",
          "text": [
            "('a', 'b', 'c') <class 'tuple'>\n",
            "(1, 2, 3) <class 'tuple'>\n"
          ],
          "name": "stdout"
        }
      ]
    },
    {
      "cell_type": "code",
      "metadata": {
        "id": "OKIVIkIBbKJM",
        "outputId": "4a25774a-74ae-4c39-c01d-90c5888e522c"
      },
      "source": [
        "sequences=[['a', 1], ['b', 2], ['c', 3]] # 리스트의 리스트 또는 행렬 또는 뒤에서 배울 개념인 2D 텐서\n",
        "X,y = zip(*sequences) # *를 추가\n",
        "print(X)\n",
        "print(y)"
      ],
      "execution_count": null,
      "outputs": [
        {
          "output_type": "stream",
          "text": [
            "('a', 'b', 'c')\n",
            "(1, 2, 3)\n"
          ],
          "name": "stdout"
        }
      ]
    },
    {
      "cell_type": "markdown",
      "metadata": {
        "id": "UDNkIgqkbKJM"
      },
      "source": [
        "## 판다스를 이용"
      ]
    },
    {
      "cell_type": "code",
      "metadata": {
        "id": "kK0W1Cf2bKJN"
      },
      "source": [
        "import pandas as pd"
      ],
      "execution_count": null,
      "outputs": []
    },
    {
      "cell_type": "code",
      "metadata": {
        "id": "qsQFXQTRbKJN",
        "outputId": "25e94209-24ce-41d6-d3b6-cddf5a476a18"
      },
      "source": [
        "values = [['당신에게 드리는 마지막 혜택!',1],\n",
        "         ['내일 뵐 수 있을지 확인 부탁드...',0],\n",
        "         ['도연씨, 잘 지내시죠? 오래만입...',0],\n",
        "         ['(광고)AI로 주가를 예측할 수 있다!',1]]\n",
        "columns = ['메일 본문','스팸 메일 유무']\n",
        "\n",
        "df = pd.DataFrame(values, columns=columns)\n",
        "df"
      ],
      "execution_count": null,
      "outputs": [
        {
          "output_type": "execute_result",
          "data": {
            "text/html": [
              "<div>\n",
              "<style scoped>\n",
              "    .dataframe tbody tr th:only-of-type {\n",
              "        vertical-align: middle;\n",
              "    }\n",
              "\n",
              "    .dataframe tbody tr th {\n",
              "        vertical-align: top;\n",
              "    }\n",
              "\n",
              "    .dataframe thead th {\n",
              "        text-align: right;\n",
              "    }\n",
              "</style>\n",
              "<table border=\"1\" class=\"dataframe\">\n",
              "  <thead>\n",
              "    <tr style=\"text-align: right;\">\n",
              "      <th></th>\n",
              "      <th>메일 본문</th>\n",
              "      <th>스팸 메일 유무</th>\n",
              "    </tr>\n",
              "  </thead>\n",
              "  <tbody>\n",
              "    <tr>\n",
              "      <th>0</th>\n",
              "      <td>당신에게 드리는 마지막 혜택!</td>\n",
              "      <td>1</td>\n",
              "    </tr>\n",
              "    <tr>\n",
              "      <th>1</th>\n",
              "      <td>내일 뵐 수 있을지 확인 부탁드...</td>\n",
              "      <td>0</td>\n",
              "    </tr>\n",
              "    <tr>\n",
              "      <th>2</th>\n",
              "      <td>도연씨, 잘 지내시죠? 오래만입...</td>\n",
              "      <td>0</td>\n",
              "    </tr>\n",
              "    <tr>\n",
              "      <th>3</th>\n",
              "      <td>(광고)AI로 주가를 예측할 수 있다!</td>\n",
              "      <td>1</td>\n",
              "    </tr>\n",
              "  </tbody>\n",
              "</table>\n",
              "</div>"
            ],
            "text/plain": [
              "                   메일 본문  스팸 메일 유무\n",
              "0       당신에게 드리는 마지막 혜택!         1\n",
              "1   내일 뵐 수 있을지 확인 부탁드...         0\n",
              "2   도연씨, 잘 지내시죠? 오래만입...         0\n",
              "3  (광고)AI로 주가를 예측할 수 있다!         1"
            ]
          },
          "metadata": {
            "tags": []
          },
          "execution_count": 7
        }
      ]
    },
    {
      "cell_type": "code",
      "metadata": {
        "id": "6Ih4yXembKJN"
      },
      "source": [
        "X = df['메일 본문']\n",
        "y = df['스팸 메일 유무']"
      ],
      "execution_count": null,
      "outputs": []
    },
    {
      "cell_type": "code",
      "metadata": {
        "id": "Qf9YwtjbbKJO",
        "outputId": "afb624eb-a401-417b-90cf-cd76f781680b"
      },
      "source": [
        "X"
      ],
      "execution_count": null,
      "outputs": [
        {
          "output_type": "execute_result",
          "data": {
            "text/plain": [
              "0         당신에게 드리는 마지막 혜택!\n",
              "1     내일 뵐 수 있을지 확인 부탁드...\n",
              "2     도연씨, 잘 지내시죠? 오래만입...\n",
              "3    (광고)AI로 주가를 예측할 수 있다!\n",
              "Name: 메일 본문, dtype: object"
            ]
          },
          "metadata": {
            "tags": []
          },
          "execution_count": 9
        }
      ]
    },
    {
      "cell_type": "code",
      "metadata": {
        "id": "kOqxYiwobKJO",
        "outputId": "b5908be2-f303-4f84-90da-cb929582436b"
      },
      "source": [
        "y"
      ],
      "execution_count": null,
      "outputs": [
        {
          "output_type": "execute_result",
          "data": {
            "text/plain": [
              "0    1\n",
              "1    0\n",
              "2    0\n",
              "3    1\n",
              "Name: 스팸 메일 유무, dtype: int64"
            ]
          },
          "metadata": {
            "tags": []
          },
          "execution_count": 10
        }
      ]
    },
    {
      "cell_type": "markdown",
      "metadata": {
        "id": "DeDgIusJbKJP"
      },
      "source": [
        "## 넘파이를 이용"
      ]
    },
    {
      "cell_type": "code",
      "metadata": {
        "id": "kclMU6V9bKJP",
        "outputId": "4eec5bad-b19f-4929-828e-401dcaf320b0"
      },
      "source": [
        "import numpy as np\n",
        "ar = np.arange(0,16).reshape((4,4))\n",
        "ar"
      ],
      "execution_count": null,
      "outputs": [
        {
          "output_type": "execute_result",
          "data": {
            "text/plain": [
              "array([[ 0,  1,  2,  3],\n",
              "       [ 4,  5,  6,  7],\n",
              "       [ 8,  9, 10, 11],\n",
              "       [12, 13, 14, 15]])"
            ]
          },
          "metadata": {
            "tags": []
          },
          "execution_count": 12
        }
      ]
    },
    {
      "cell_type": "code",
      "metadata": {
        "id": "h4Rn1pFabKJP",
        "outputId": "a52f76cc-80db-4858-8858-b6989befea77"
      },
      "source": [
        "X = ar[:,:3]\n",
        "X"
      ],
      "execution_count": null,
      "outputs": [
        {
          "output_type": "execute_result",
          "data": {
            "text/plain": [
              "array([[ 0,  1,  2],\n",
              "       [ 4,  5,  6],\n",
              "       [ 8,  9, 10],\n",
              "       [12, 13, 14]])"
            ]
          },
          "metadata": {
            "tags": []
          },
          "execution_count": 13
        }
      ]
    },
    {
      "cell_type": "code",
      "metadata": {
        "id": "ijFiizV0bKJQ",
        "outputId": "97dc33c4-b960-48da-fdc2-f12737b5d53e"
      },
      "source": [
        "y = ar[:,3]\n",
        "y"
      ],
      "execution_count": null,
      "outputs": [
        {
          "output_type": "execute_result",
          "data": {
            "text/plain": [
              "array([ 3,  7, 11, 15])"
            ]
          },
          "metadata": {
            "tags": []
          },
          "execution_count": 14
        }
      ]
    },
    {
      "cell_type": "markdown",
      "metadata": {
        "id": "JMwhvyxUbKJQ"
      },
      "source": [
        "## 사이킷런을 이용"
      ]
    },
    {
      "cell_type": "code",
      "metadata": {
        "id": "WbAmtm8kbKJQ"
      },
      "source": [
        "from sklearn.model_selection import train_test_split\n",
        "X_train,X_test,y_train,y_test = train_test_split(X,y,test_size=0.2,random_state=1)"
      ],
      "execution_count": null,
      "outputs": []
    },
    {
      "cell_type": "code",
      "metadata": {
        "id": "xYDvt1NxbKJQ",
        "outputId": "214cdbd3-25c5-477c-fae7-5668d83f5477"
      },
      "source": [
        "X_train"
      ],
      "execution_count": null,
      "outputs": [
        {
          "output_type": "execute_result",
          "data": {
            "text/plain": [
              "array([[ 8,  9, 10],\n",
              "       [ 0,  1,  2],\n",
              "       [ 4,  5,  6]])"
            ]
          },
          "metadata": {
            "tags": []
          },
          "execution_count": 28
        }
      ]
    },
    {
      "cell_type": "code",
      "metadata": {
        "id": "tXk91fGSbKJR",
        "outputId": "383ac4c6-5bb6-4265-c2f2-b0185ddedbad"
      },
      "source": [
        "y_train"
      ],
      "execution_count": null,
      "outputs": [
        {
          "output_type": "execute_result",
          "data": {
            "text/plain": [
              "array([11,  3,  7])"
            ]
          },
          "metadata": {
            "tags": []
          },
          "execution_count": 29
        }
      ]
    },
    {
      "cell_type": "markdown",
      "metadata": {
        "id": "wrAgvyZDbKJR"
      },
      "source": [
        "# 한국어 전처리 패키지"
      ]
    },
    {
      "cell_type": "markdown",
      "metadata": {
        "id": "IvVNCG2qbKJR"
      },
      "source": [
        "## Pykospacing"
      ]
    },
    {
      "cell_type": "code",
      "metadata": {
        "id": "yFSKQZDTbKJR",
        "outputId": "b400a3a0-96cf-4a36-b4de-a44ebc10ae02"
      },
      "source": [
        "# !pip install git+https://github.com/haven-jeon/PyKoSpacing.git"
      ],
      "execution_count": null,
      "outputs": [
        {
          "output_type": "stream",
          "text": [
            "Collecting git+https://github.com/haven-jeon/PyKoSpacing.git\n",
            "  Cloning https://github.com/haven-jeon/PyKoSpacing.git to c:\\users\\user\\appdata\\local\\temp\\pip-req-build-5tinyah1\n"
          ],
          "name": "stdout"
        },
        {
          "output_type": "stream",
          "text": [
            "  ERROR: Error [WinError 2] 지정된 파일을 찾을 수 없습니다 while executing command git clone -q https://github.com/haven-jeon/PyKoSpacing.git 'C:\\Users\\User\\AppData\\Local\\Temp\\pip-req-build-5tinyah1'\n",
            "ERROR: Cannot find command 'git' - do you have 'git' installed and in your PATH?\n"
          ],
          "name": "stderr"
        }
      ]
    },
    {
      "cell_type": "code",
      "metadata": {
        "id": "Ug_K-wrIbKJR"
      },
      "source": [
        "# 깃 설치 필요하다"
      ],
      "execution_count": null,
      "outputs": []
    },
    {
      "cell_type": "code",
      "metadata": {
        "id": "i4qiD-NbbKJR"
      },
      "source": [
        ""
      ],
      "execution_count": null,
      "outputs": []
    }
  ]
}