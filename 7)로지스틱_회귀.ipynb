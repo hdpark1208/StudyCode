{
  "nbformat": 4,
  "nbformat_minor": 0,
  "metadata": {
    "colab": {
      "name": "7)로지스틱 회귀.ipynb",
      "provenance": [],
      "collapsed_sections": [],
      "authorship_tag": "ABX9TyMszfEERb1B/Jj8YA6xYb6J",
      "include_colab_link": true
    },
    "kernelspec": {
      "name": "python3",
      "display_name": "Python 3"
    },
    "language_info": {
      "name": "python"
    }
  },
  "cells": [
    {
      "cell_type": "markdown",
      "metadata": {
        "id": "view-in-github",
        "colab_type": "text"
      },
      "source": [
        "<a href=\"https://colab.research.google.com/github/hdpark1208/StudyCode/blob/main/7)%EB%A1%9C%EC%A7%80%EC%8A%A4%ED%8B%B1_%ED%9A%8C%EA%B7%80.ipynb\" target=\"_parent\"><img src=\"https://colab.research.google.com/assets/colab-badge.svg\" alt=\"Open In Colab\"/></a>"
      ]
    },
    {
      "cell_type": "markdown",
      "metadata": {
        "id": "UjOspeZmzuYX"
      },
      "source": [
        "# ***4-1 로지스틱 회귀***"
      ]
    },
    {
      "cell_type": "markdown",
      "metadata": {
        "id": "oNFQHpSc0GZ9"
      },
      "source": [
        "# **줄거리**\n",
        "1.    판다스를 이용해 5종류의 생선과 생선의 5가지 특성을 지니는 데이터를 불러온다\n",
        "\n",
        "2.    판다스의 여러 함수를 이용하여 데이터를 출력해본다  \n",
        "\n",
        "3.    판다스 시리즈, 데이터프레임을 이해하고 그 데이터를 넘파이 ndarray로 변환한다  \n",
        "\n",
        "4.    훈련/테스트 세트를 나누고 표준화 한다  \n",
        "\n",
        "5.    KNeighborsClassifier 모델을 이용해 결과를 확인해보고 다중분류에서는 타겟 데이터를 어떻게 다루는 알아본다  \n",
        "\n",
        "6.    KNeighborsClassifier 모델이 결과를 어떻게 도출했는지 알아본다  \n",
        "\n",
        "7.    로지스틱 회귀와 시그모이드 함수에 대해 알아본다  \n",
        "\n",
        "8.    불리언 인덱싱을 통해 필요 데이터 추출하는 방법을 알아본다  \n",
        "\n",
        "9.    다중 분류에서의 로지스틱 회귀와 소프트맥스 함수에 대해 알아본다  \n",
        "\n"
      ]
    },
    {
      "cell_type": "markdown",
      "metadata": {
        "id": "fbhPV6gl0PJH"
      },
      "source": [
        "#Note\n",
        "* 로지스틱 회귀 : 선형방정식을 사용한 분류 알고리즘. 선형 회귀와 달리 시그모이드 함수나 소프트맥스 함수를 사용하여 클래스 확률을 출력할 수 있다  \n",
        "회귀함수를 구하여 시그모이드 함수(z값)에 대입해서 분류한다 (분류모델이지만 회귀라고 불리우는 이유)\n",
        "\n",
        "* 다중 분류 : 타겟 클래스가 2개 이상인 분류 문제\n",
        "\n",
        "* 시그모이드 함수 : 선형 방정식의 출력을 0~1 사이의 값으로 압출. 이진분류에서 사용\n",
        "\n",
        "* 소프트맥스 함수 : 여러 선형 방정식의 출력 결과를 정규화하여 합이 1이 되도록 만듬. 다중분류에서 사용\n",
        "\n"
      ]
    },
    {
      "cell_type": "markdown",
      "metadata": {
        "id": "NZAWEDuK-ICQ"
      },
      "source": [
        "##사이킷런\n",
        "* LogisticRegression : 선형 분류 알고리즘인 로지스틱 회귀를 위한 클래스\n",
        ">C - 규제의 강도를 제어 default = 1  \n",
        "predict_proba() : 예측 확률을 반환  \n",
        "coef_ : 로지스틱 회귀 모델이 학습한 선형 방정식의 계수  \n",
        "decision_function() : 모델이 학습한 선형 방정식의 값(z)을 반환"
      ]
    },
    {
      "cell_type": "markdown",
      "metadata": {
        "id": "edi2f-Ek0WZH"
      },
      "source": [
        "#**코드**\n"
      ]
    },
    {
      "cell_type": "code",
      "metadata": {
        "colab": {
          "base_uri": "https://localhost:8080/"
        },
        "id": "KMT2t9QT06_I",
        "outputId": "c4f273dd-2fca-481f-ffc0-6451fee7311d"
      },
      "source": [
        "import pandas as pd\n",
        "fish = pd.read_csv('https://bit.ly/fish_csv_data')\n",
        "print(fish.head())\n",
        "print(\"\")\n",
        "print(fish.columns)"
      ],
      "execution_count": null,
      "outputs": [
        {
          "output_type": "stream",
          "text": [
            "  Species  Weight  Length  Diagonal   Height   Width\n",
            "0   Bream   242.0    25.4      30.0  11.5200  4.0200\n",
            "1   Bream   290.0    26.3      31.2  12.4800  4.3056\n",
            "2   Bream   340.0    26.5      31.1  12.3778  4.6961\n",
            "3   Bream   363.0    29.0      33.5  12.7300  4.4555\n",
            "4   Bream   430.0    29.0      34.0  12.4440  5.1340\n",
            "\n",
            "Index(['Species', 'Weight', 'Length', 'Diagonal', 'Height', 'Width'], dtype='object')\n"
          ],
          "name": "stdout"
        }
      ]
    },
    {
      "cell_type": "code",
      "metadata": {
        "colab": {
          "base_uri": "https://localhost:8080/"
        },
        "id": "Du_6SZ698frp",
        "outputId": "4e69e90c-8109-44ec-b63e-897a63c1e4ab"
      },
      "source": [
        "print(pd.unique(fish['Species']))    #생선 종류 확인을 위해 'Species' 열에서 고유한 값 추출"
      ],
      "execution_count": null,
      "outputs": [
        {
          "output_type": "stream",
          "text": [
            "['Bream' 'Roach' 'Whitefish' 'Parkki' 'Perch' 'Pike' 'Smelt']\n"
          ],
          "name": "stdout"
        }
      ]
    },
    {
      "cell_type": "code",
      "metadata": {
        "colab": {
          "base_uri": "https://localhost:8080/"
        },
        "id": "CDaae48U9zvD",
        "outputId": "c8da4a81-7bbd-44a6-8f43-236ed12e661c"
      },
      "source": [
        "fish_input = fish[['Weight','Length','Diagonal','Height','Width']].to_numpy()\n",
        "\n",
        "print(fish_input[:5])    #Pandas 의 head() 기능\n",
        "\n",
        "fish_target = fish['Species'].to_numpy()\n",
        "\n",
        "print(fish_target[:5])\n",
        "print(type(fish['Species']),type(fish[['Weight','Length','Diagonal','Height','Width']]))\n",
        "print(type(fish_input),type(fish_target))\n"
      ],
      "execution_count": null,
      "outputs": [
        {
          "output_type": "stream",
          "text": [
            "[[242.      25.4     30.      11.52     4.02  ]\n",
            " [290.      26.3     31.2     12.48     4.3056]\n",
            " [340.      26.5     31.1     12.3778   4.6961]\n",
            " [363.      29.      33.5     12.73     4.4555]\n",
            " [430.      29.      34.      12.444    5.134 ]]\n",
            "['Bream' 'Bream' 'Bream' 'Bream' 'Bream']\n",
            "<class 'pandas.core.series.Series'> <class 'pandas.core.frame.DataFrame'>\n",
            "<class 'numpy.ndarray'> <class 'numpy.ndarray'>\n"
          ],
          "name": "stdout"
        }
      ]
    },
    {
      "cell_type": "code",
      "metadata": {
        "id": "oGXMCT5I-dnQ"
      },
      "source": [
        "from sklearn.model_selection import train_test_split\n",
        "train_input, test_input, train_target, test_target = train_test_split(fish_input,fish_target,random_state=42)"
      ],
      "execution_count": null,
      "outputs": []
    },
    {
      "cell_type": "code",
      "metadata": {
        "id": "xb7Qe0TPBPWl"
      },
      "source": [
        "from sklearn.preprocessing import StandardScaler\n",
        "ss = StandardScaler()\n",
        "ss.fit(train_input)\n",
        "train_scaled = ss.transform(train_input)\n",
        "test_scaled = ss.transform(test_input)"
      ],
      "execution_count": null,
      "outputs": []
    },
    {
      "cell_type": "code",
      "metadata": {
        "colab": {
          "base_uri": "https://localhost:8080/"
        },
        "id": "L50h7Rm1COGb",
        "outputId": "1211e20a-3204-4d7a-8cf6-6ea3ade1d2c2"
      },
      "source": [
        "from sklearn.neighbors import KNeighborsClassifier\n",
        "kn = KNeighborsClassifier(n_neighbors = 3)\n",
        "kn.fit(train_scaled, train_target)\n",
        "print(kn.score(train_scaled,train_target))\n",
        "print(kn.score(test_scaled,test_target))\n"
      ],
      "execution_count": null,
      "outputs": [
        {
          "output_type": "stream",
          "text": [
            "0.8907563025210085\n",
            "0.85\n"
          ],
          "name": "stdout"
        }
      ]
    },
    {
      "cell_type": "code",
      "metadata": {
        "colab": {
          "base_uri": "https://localhost:8080/"
        },
        "id": "54W3FhQiPHDw",
        "outputId": "ff95dd08-c732-462b-db7d-2ec2a230d647"
      },
      "source": [
        "print(pd.unique(train_target))    #타겟데이터 종류 확인\n",
        "\n",
        "print(kn.classes_)    #알파벳 순으로 정렬"
      ],
      "execution_count": null,
      "outputs": [
        {
          "output_type": "stream",
          "text": [
            "['Bream' 'Pike' 'Smelt' 'Perch' 'Parkki' 'Roach' 'Whitefish']\n",
            "['Bream' 'Parkki' 'Perch' 'Pike' 'Roach' 'Smelt' 'Whitefish']\n"
          ],
          "name": "stdout"
        }
      ]
    },
    {
      "cell_type": "code",
      "metadata": {
        "colab": {
          "base_uri": "https://localhost:8080/"
        },
        "id": "7nCjFPyfRCzR",
        "outputId": "9e0e1849-30f7-498d-f38b-39e71902cb83"
      },
      "source": [
        "kn.predict(test_scaled)    # 이 판단의 근거는 무엇일까?"
      ],
      "execution_count": null,
      "outputs": [
        {
          "output_type": "execute_result",
          "data": {
            "text/plain": [
              "array(['Perch', 'Smelt', 'Pike', 'Perch', 'Perch', 'Bream', 'Smelt',\n",
              "       'Roach', 'Perch', 'Pike', 'Bream', 'Perch', 'Bream', 'Parkki',\n",
              "       'Bream', 'Bream', 'Perch', 'Perch', 'Roach', 'Bream', 'Smelt',\n",
              "       'Bream', 'Bream', 'Bream', 'Bream', 'Perch', 'Perch', 'Perch',\n",
              "       'Smelt', 'Smelt', 'Pike', 'Perch', 'Roach', 'Pike', 'Bream',\n",
              "       'Perch', 'Roach', 'Perch', 'Parkki', 'Perch'], dtype=object)"
            ]
          },
          "metadata": {
            "tags": []
          },
          "execution_count": 87
        }
      ]
    },
    {
      "cell_type": "code",
      "metadata": {
        "colab": {
          "base_uri": "https://localhost:8080/"
        },
        "id": "rAP8JT1TSlyU",
        "outputId": "a1141501-8b21-4796-c9a0-3cd188403d8e"
      },
      "source": [
        "import numpy as np\n",
        "proba = kn.predict_proba(test_scaled[:5])\n",
        "\n",
        "print(kn.classes_)    #열 확인\n",
        "print(\"\")\n",
        "print(np.round(proba, decimals=4))    #소수점 네 번째 자리까지 표기\n",
        "print(\"\")\n",
        "print(kn.predict(test_scaled[:5]))"
      ],
      "execution_count": null,
      "outputs": [
        {
          "output_type": "stream",
          "text": [
            "['Bream' 'Parkki' 'Perch' 'Pike' 'Roach' 'Smelt' 'Whitefish']\n",
            "\n",
            "[[0.     0.     1.     0.     0.     0.     0.    ]\n",
            " [0.     0.     0.     0.     0.     1.     0.    ]\n",
            " [0.     0.     0.     1.     0.     0.     0.    ]\n",
            " [0.     0.     0.6667 0.     0.3333 0.     0.    ]\n",
            " [0.     0.     0.6667 0.     0.3333 0.     0.    ]]\n",
            "\n",
            "['Perch' 'Smelt' 'Pike' 'Perch' 'Perch']\n"
          ],
          "name": "stdout"
        }
      ]
    },
    {
      "cell_type": "code",
      "metadata": {
        "colab": {
          "base_uri": "https://localhost:8080/"
        },
        "id": "PlX2CHavUwsb",
        "outputId": "6539b303-5293-4ed0-ea7f-a0303bc3b0a7"
      },
      "source": [
        "distances, indexes = kn.kneighbors(test_scaled[3:4])    #네 번째 샘플의 최근접 이웃의 클래스. kneighbors() 의 입력은 2차원 배열이여야하기 때문에 test_scaled[3:4] 으로 했다. test_scaled[3] 으로 할 경우 에러가 난다.\n",
        "print(train_target[indexes])    #네 번째 샘플의 이웃, 위의 predict 의 근거를 확인 할 수 있다."
      ],
      "execution_count": null,
      "outputs": [
        {
          "output_type": "stream",
          "text": [
            "[['Roach' 'Perch' 'Perch']]\n"
          ],
          "name": "stdout"
        }
      ]
    },
    {
      "cell_type": "markdown",
      "metadata": {
        "id": "BwpZOkbdvnqC"
      },
      "source": [
        "로지스틱 회귀"
      ]
    },
    {
      "cell_type": "code",
      "metadata": {
        "colab": {
          "base_uri": "https://localhost:8080/",
          "height": 279
        },
        "id": "uilslzW_XIhe",
        "outputId": "fcecaacd-a3e9-456a-e8df-23e6af269091"
      },
      "source": [
        "import numpy as np\n",
        "import matplotlib.pyplot as plt\n",
        "z = np.arange(-5,5,0.1)\n",
        "phi = 1 / (1 + np.exp(-z))\n",
        "plt.plot(z,phi)\n",
        "plt.xlabel('z')\n",
        "plt.ylabel('phi')\n",
        "plt.show()"
      ],
      "execution_count": null,
      "outputs": [
        {
          "output_type": "display_data",
          "data": {
            "image/png": "[encoded data removed]",
            "text/plain": [
              "<Figure size 432x288 with 1 Axes>"
            ]
          },
          "metadata": {
            "tags": [],
            "needs_background": "light"
          }
        }
      ]
    },
    {
      "cell_type": "code",
      "metadata": {
        "colab": {
          "base_uri": "https://localhost:8080/"
        },
        "id": "ytsyw5vQxlMs",
        "outputId": "9f660027-26c5-4311-91c7-9964ad820e00"
      },
      "source": [
        "char_arr = np.array(['A','B','C','D','E'])\n",
        "print(char_arr[[[True, False, True,False,False]]])    #불리언 인덱싱(boolean indexing)"
      ],
      "execution_count": null,
      "outputs": [
        {
          "output_type": "stream",
          "text": [
            "['A' 'C']\n"
          ],
          "name": "stdout"
        },
        {
          "output_type": "stream",
          "text": [
            "/usr/local/lib/python3.7/dist-packages/ipykernel_launcher.py:2: FutureWarning: Using a non-tuple sequence for multidimensional indexing is deprecated; use `arr[tuple(seq)]` instead of `arr[seq]`. In the future this will be interpreted as an array index, `arr[np.array(seq)]`, which will result either in an error or a different result.\n",
            "  \n"
          ],
          "name": "stderr"
        }
      ]
    },
    {
      "cell_type": "markdown",
      "metadata": {
        "id": "XmmDD5sNJAwr"
      },
      "source": [
        "이진분류\n"
      ]
    },
    {
      "cell_type": "code",
      "metadata": {
        "colab": {
          "base_uri": "https://localhost:8080/"
        },
        "id": "nEtYTe-wywy1",
        "outputId": "544ddc15-81f1-471c-ea9f-c3e22c4b1831"
      },
      "source": [
        "bream_smelt_indexes = (train_target=='Bream')|(train_target=='Smelt')    #도미, 빙어 행만 골라내기위해 해당 인덱스 추출\n",
        "train_bream_smelt = train_scaled[bream_smelt_indexes]\n",
        "target_bream_smelt = train_target[bream_smelt_indexes]\n",
        "print(train_target=='Bream')    #도미일 경우 True 아니면 False 를 반환한 배열\n",
        "print(bream_smelt_indexes)    #or 연산을 통해 도미나 빙어일 경우 True 그 외엔 False\n",
        "print(train_bream_smelt)    #불리언 인덱싱. 도미나와 빙어 데이터만 골라내기\n",
        "print(target_bream_smelt)\n"
      ],
      "execution_count": null,
      "outputs": [
        {
          "output_type": "stream",
          "text": [
            "[ True False False False False False False  True False False False  True\n",
            " False False False  True False False False  True False  True False False\n",
            " False  True False False  True False False False False  True False False\n",
            "  True  True False False False False False False False False False False\n",
            " False  True False False False False False False False False  True False\n",
            " False False False False False  True False  True False False False False\n",
            " False False False False False  True False  True False False  True  True\n",
            " False False False  True False False False False False False False False\n",
            " False  True False False False False False  True False False False False\n",
            " False False False False False  True False False  True False False]\n",
            "[ True False  True False False False False  True False False False  True\n",
            " False False False  True  True False False  True False  True False False\n",
            " False  True False False  True False False False False  True False False\n",
            "  True  True False False False False False  True False False False False\n",
            " False  True False  True False False  True False False False  True False\n",
            " False False False False False  True False  True False False False False\n",
            " False False False False False  True False  True False False  True  True\n",
            " False False False  True False False False False False  True False False\n",
            " False  True False  True False False  True  True False False False False\n",
            " False False False False  True  True False False  True False False]\n",
            "[[ 0.91965782  0.60943175  0.81041221  1.85194896  1.00075672]\n",
            " [-1.0858536  -1.68646987 -1.70848587 -1.70159849 -2.0044758 ]\n",
            " [ 0.63818253  0.56257661  0.73223951  1.64473401  0.50705737]\n",
            " [ 0.30041219  0.23459067  0.42823457  1.36042157  0.22329758]\n",
            " [ 0.9027693   0.70314202  0.88858491  1.89027545  0.85537174]\n",
            " [-1.0824759  -1.61150165 -1.62162731 -1.7000674  -1.92815631]\n",
            " [ 0.10337949  0.04717013  0.23714575  0.88445197  0.41799764]\n",
            " [ 1.49668216  1.03112796  1.21864741  2.44274986  1.40289707]\n",
            " [ 0.23004337  0.23459067  0.42823457  1.3336029   0.39983213]\n",
            " [-0.42579405 -0.29018684 -0.11028847  0.65627104 -0.26107519]\n",
            " [ 1.28557569  0.70314202  0.89727076  1.98228866  1.06683526]\n",
            " [ 0.93373158  0.60943175  0.83646978  1.85150445  0.97832415]\n",
            " [ 0.80706771  0.60943175  0.81041221  1.63137406  1.0255057 ]\n",
            " [-1.07262426 -1.52716241 -1.55214047 -1.67235972 -1.86207776]\n",
            " [ 1.6374198   1.17169337  1.27076255  2.41341232  1.40143407]\n",
            " [-1.07966115 -1.63961473 -1.67374245 -1.6462819  -1.87036806]\n",
            " [-1.05151362 -1.33037084 -1.39579507 -1.47914678 -1.45146425]\n",
            " [ 0.15967454  0.11276732  0.29794674  1.17051775  0.29205828]\n",
            " [ 1.56705098  1.17169337  1.32287768  2.16352457  1.17174409]\n",
            " [-0.00921063  0.1408804   0.3240043   0.94026245  0.14734384]\n",
            " [ 0.15967454  0.1408804   0.33269016  1.26991474  0.24109734]\n",
            " [-0.14994827  0.32830094  0.52377898  1.24719543  0.3806913 ]\n",
            " [-0.08520896  0.04717013  0.19371647  0.95507939  0.00439718]\n",
            " [ 0.86336276  0.42201121  0.62800925  1.5003429   0.45670601]\n",
            " [ 0.30041219  0.11276732  0.28057503  1.31303204  0.50608204]\n",
            " [-1.07262426 -1.45219419 -1.51739705 -1.62627903 -1.94607798]\n",
            " [ 0.82114147  0.51572148  0.68881023  1.76102232  0.5621025 ]\n",
            " [-1.07937967 -1.54590446 -1.56951218 -1.64420753 -2.01154694]\n",
            " [-1.07937967 -1.62087268 -1.63899902 -1.67413775 -1.93303295]\n",
            " [-0.29068592 -0.2058476  -0.0060582   0.89334213 -0.08697896]\n",
            " [-1.05095067 -1.26477365 -1.30893652 -1.46447801 -1.56606541]\n",
            " [ 0.51151865  0.51572148  0.7148678   1.54738669  0.68347   ]\n",
            " [ 0.58188748  0.32830094  0.51509312  1.50439286  0.4404302 ]]\n",
            "['Bream' 'Smelt' 'Bream' 'Bream' 'Bream' 'Smelt' 'Bream' 'Bream' 'Bream'\n",
            " 'Bream' 'Bream' 'Bream' 'Bream' 'Smelt' 'Bream' 'Smelt' 'Smelt' 'Bream'\n",
            " 'Bream' 'Bream' 'Bream' 'Bream' 'Bream' 'Bream' 'Bream' 'Smelt' 'Bream'\n",
            " 'Smelt' 'Smelt' 'Bream' 'Smelt' 'Bream' 'Bream']\n"
          ],
          "name": "stdout"
        }
      ]
    },
    {
      "cell_type": "code",
      "metadata": {
        "id": "h4T6llRDyHIE"
      },
      "source": [
        "# for i in range(len(target_bream_smelt)):    #타겟데이터를 바꿔보았다\n",
        "#   if target_bream_smelt[i]=='Bream':\n",
        "#     target_bream_smelt[i]='1'\n",
        "#   else:\n",
        "#     target_bream_smelt[i]='0'\n",
        "# print(target_bream_smelt)"
      ],
      "execution_count": null,
      "outputs": []
    },
    {
      "cell_type": "code",
      "metadata": {
        "colab": {
          "base_uri": "https://localhost:8080/"
        },
        "id": "5rsCuGis2GUN",
        "outputId": "194e0523-f896-4bd5-cbca-fc008efe06db"
      },
      "source": [
        "from sklearn.linear_model import LogisticRegression\n",
        "lr = LogisticRegression()\n",
        "lr.fit(train_bream_smelt,target_bream_smelt)"
      ],
      "execution_count": null,
      "outputs": [
        {
          "output_type": "execute_result",
          "data": {
            "text/plain": [
              "LogisticRegression(C=1.0, class_weight=None, dual=False, fit_intercept=True,\n",
              "                   intercept_scaling=1, l1_ratio=None, max_iter=100,\n",
              "                   multi_class='auto', n_jobs=None, penalty='l2',\n",
              "                   random_state=None, solver='lbfgs', tol=0.0001, verbose=0,\n",
              "                   warm_start=False)"
            ]
          },
          "metadata": {
            "tags": []
          },
          "execution_count": 94
        }
      ]
    },
    {
      "cell_type": "code",
      "metadata": {
        "colab": {
          "base_uri": "https://localhost:8080/"
        },
        "id": "bZaMpbkz-9QX",
        "outputId": "1a534cf7-31c8-40ef-c715-d73bcce29439"
      },
      "source": [
        "print(lr.classes_)    #첫 번째 열 : 음성 클래스(0)에 대한 확률, 두 번째 열 : 양성 클래스(1)에 대한 확률. 현재 이진 분류이므로 0.5 전후 로 판단한다.\n",
        "print(lr.predict_proba(train_bream_smelt[:5]))    #밑의 predict 값의 근거\n",
        "print(lr.predict(train_bream_smelt[:5]))"
      ],
      "execution_count": null,
      "outputs": [
        {
          "output_type": "stream",
          "text": [
            "['Bream' 'Smelt']\n",
            "[[0.99759855 0.00240145]\n",
            " [0.02735183 0.97264817]\n",
            " [0.99486072 0.00513928]\n",
            " [0.98584202 0.01415798]\n",
            " [0.99767269 0.00232731]]\n",
            "['Bream' 'Smelt' 'Bream' 'Bream' 'Bream']\n"
          ],
          "name": "stdout"
        }
      ]
    },
    {
      "cell_type": "code",
      "metadata": {
        "colab": {
          "base_uri": "https://localhost:8080/"
        },
        "id": "R-7MvsfC_KJ2",
        "outputId": "744b7ef5-4f9e-4522-fe15-ad234ce7c5ca"
      },
      "source": [
        "print(lr.coef_, lr.intercept_)    #학습한 계수 확인 z = lr.coef_[0]*(weight) + lr.coef_[1]*(Length) + lr.coef_[2]*(Diagonal) + lr.coef_[3]*(Height) + lr.coef_[4]*(Width) + lr.intercept_"
      ],
      "execution_count": null,
      "outputs": [
        {
          "output_type": "stream",
          "text": [
            "[[-0.4037798  -0.57620209 -0.66280298 -1.01290277 -0.73168947]] [-2.16155132]\n"
          ],
          "name": "stdout"
        }
      ]
    },
    {
      "cell_type": "code",
      "metadata": {
        "colab": {
          "base_uri": "https://localhost:8080/"
        },
        "id": "7CUqgGPjBNcU",
        "outputId": "aba4f884-dfcc-4926-87c7-77d4930c8198"
      },
      "source": [
        "decision = lr.decision_function(train_bream_smelt[:5])    #처음 5개 샘플의 (양성 클래스에 대한)z 값. 이 z 값을 시그모이드 함수에 통과시키면 확률을 얻을 수 있다.\n",
        "print(decision)"
      ],
      "execution_count": null,
      "outputs": [
        {
          "output_type": "stream",
          "text": [
            "[-6.02927744  3.57123907 -5.26568906 -4.24321775 -6.0607117 ]\n"
          ],
          "name": "stdout"
        }
      ]
    },
    {
      "cell_type": "code",
      "metadata": {
        "colab": {
          "base_uri": "https://localhost:8080/"
        },
        "id": "ljer8jk_CSaD",
        "outputId": "2ac50527-ea4f-4b1c-8e6f-550b78caaf77"
      },
      "source": [
        "from scipy.special import expit\n",
        "print(expit(decision))    #사이파이 라이브러리의 시그모이드 함수\n",
        "print(lr.predict_proba(train_bream_smelt[:5]))    #확인해보기"
      ],
      "execution_count": null,
      "outputs": [
        {
          "output_type": "stream",
          "text": [
            "[0.00240145 0.97264817 0.00513928 0.01415798 0.00232731]\n",
            "[[0.99759855 0.00240145]\n",
            " [0.02735183 0.97264817]\n",
            " [0.99486072 0.00513928]\n",
            " [0.98584202 0.01415798]\n",
            " [0.99767269 0.00232731]]\n"
          ],
          "name": "stdout"
        }
      ]
    },
    {
      "cell_type": "markdown",
      "metadata": {
        "id": "WOz1hw0zJEtD"
      },
      "source": [
        "다중 분류"
      ]
    },
    {
      "cell_type": "code",
      "metadata": {
        "colab": {
          "base_uri": "https://localhost:8080/"
        },
        "id": "updQRE2HDO3x",
        "outputId": "b4cb0bc8-9881-4a38-d938-c5dff902ea95"
      },
      "source": [
        "lr = LogisticRegression(C=20, max_iter=1000)\n",
        "lr.fit(train_scaled, train_target)\n",
        "print(lr.score(train_scaled,train_target))\n",
        "print(lr.score(test_scaled,test_target))\n"
      ],
      "execution_count": null,
      "outputs": [
        {
          "output_type": "stream",
          "text": [
            "0.9327731092436975\n",
            "0.925\n"
          ],
          "name": "stdout"
        }
      ]
    },
    {
      "cell_type": "code",
      "metadata": {
        "colab": {
          "base_uri": "https://localhost:8080/"
        },
        "id": "G_OG_wXWPYgg",
        "outputId": "2d2b27ea-c607-4245-f318-d3e5a44af8f3"
      },
      "source": [
        "print(lr.predict(test_scaled[:5]))"
      ],
      "execution_count": null,
      "outputs": [
        {
          "output_type": "stream",
          "text": [
            "['Perch' 'Smelt' 'Pike' 'Roach' 'Perch']\n"
          ],
          "name": "stdout"
        }
      ]
    },
    {
      "cell_type": "code",
      "metadata": {
        "colab": {
          "base_uri": "https://localhost:8080/"
        },
        "id": "Zjzhv2BdPiPo",
        "outputId": "d1f635ed-a9c9-4835-b663-57e51c1fe0dd"
      },
      "source": [
        "proba = lr.predict_proba(test_scaled[:5])    #앞의 5개 샘플에 대한 예측 확률. 7종의 생선에 대한 확률 \n",
        "print(np.round(proba,decimals=3))\n",
        "print(\"\")\n",
        "print(lr.classes_)    #위의 결과와 비교\n"
      ],
      "execution_count": null,
      "outputs": [
        {
          "output_type": "stream",
          "text": [
            "[[0.    0.014 0.841 0.    0.136 0.007 0.003]\n",
            " [0.    0.003 0.044 0.    0.007 0.946 0.   ]\n",
            " [0.    0.    0.034 0.935 0.015 0.016 0.   ]\n",
            " [0.011 0.034 0.306 0.007 0.567 0.    0.076]\n",
            " [0.    0.    0.904 0.002 0.089 0.002 0.001]]\n",
            "\n",
            "['Bream' 'Parkki' 'Perch' 'Pike' 'Roach' 'Smelt' 'Whitefish']\n"
          ],
          "name": "stdout"
        }
      ]
    },
    {
      "cell_type": "code",
      "metadata": {
        "colab": {
          "base_uri": "https://localhost:8080/"
        },
        "id": "WnfVX9lpQcTk",
        "outputId": "f2f78d9a-cb11-487a-8d72-1a317d618641"
      },
      "source": [
        "print(lr.coef_)\n",
        "print(\"\")\n",
        "print(lr.intercept_)"
      ],
      "execution_count": null,
      "outputs": [
        {
          "output_type": "stream",
          "text": [
            "[[-1.49002911 -1.02919221  2.59351113  7.70354318 -1.20068079]\n",
            " [ 0.19619256 -2.0106062  -3.77982687  6.50490143 -1.99486463]\n",
            " [ 3.56278472  6.34361428 -8.48973364 -5.75756295  3.79309039]\n",
            " [-0.10458533  3.60316654  3.93067417 -3.61731229 -1.75070607]\n",
            " [-1.40059104 -6.07505264  5.25967743 -0.87222909  1.86043657]\n",
            " [-1.38528628  1.49217379  1.3922839  -5.67732641 -4.40095877]\n",
            " [ 0.62151448 -2.32410356 -0.90658611  1.71598614  3.69368329]]\n",
            "\n",
            "[-0.09204845 -0.26290731  3.25101057 -0.14742485  2.65496057 -6.78780765\n",
            "  1.38421712]\n"
          ],
          "name": "stdout"
        }
      ]
    },
    {
      "cell_type": "code",
      "metadata": {
        "id": "qKiJ38ZnQ6Nz"
      },
      "source": [
        "#다중 분류는 클래스마다 z 값을 하나씩 계산하고 가장 높은 z 값을 출력하는 클래스가 예측 클래스가 된다.\n",
        "#이진분류에서는 시그모이드 함수를 사용해 z를 0과 1 사이의 값으로 변환했으나 다중분류에서는 소프트맥스 함수를 사용하여 z 값을 확률로 변환한다.\n",
        "#시그모이드 함수는 하나의 선형 방정식의 출력값(z)을 0~1 사이로 압축한다.\n",
        "#이와달리 소프트맥스는 여러 개의 선형 방정식의 출력값(z)을 0~1 사이로 압축하고 전체 합이 1이 되도록 만든다. 이를 위해 자수 함수를 사용하기때문에 정규화된 지수 함수 라고도 부른다"
      ],
      "execution_count": null,
      "outputs": []
    },
    {
      "cell_type": "code",
      "metadata": {
        "colab": {
          "base_uri": "https://localhost:8080/"
        },
        "id": "xTKV60m5URpK",
        "outputId": "09dfff5c-b67d-48fa-e5bd-260a02a8f0d9"
      },
      "source": [
        "decision = lr.decision_function(test_scaled[:5])    #5개의 샘플에 대한 z1~z7 값\n",
        "print(np.round(decision,decimals=2))"
      ],
      "execution_count": null,
      "outputs": [
        {
          "output_type": "stream",
          "text": [
            "[[ -6.5    1.03   5.16  -2.73   3.34   0.33  -0.63]\n",
            " [-10.86   1.93   4.77  -2.4    2.98   7.84  -4.26]\n",
            " [ -4.34  -6.23   3.17   6.49   2.36   2.42  -3.87]\n",
            " [ -0.68   0.45   2.65  -1.19   3.26  -5.75   1.26]\n",
            " [ -6.4   -1.99   5.82  -0.11   3.5   -0.11  -0.71]]\n"
          ],
          "name": "stdout"
        }
      ]
    },
    {
      "cell_type": "code",
      "metadata": {
        "colab": {
          "base_uri": "https://localhost:8080/"
        },
        "id": "c6e-yqCjUd8r",
        "outputId": "961f87d4-471c-4c99-c2eb-7db18930273c"
      },
      "source": [
        "from scipy.special import softmax\n",
        "proba = softmax(decision, axis = 1)\n",
        "print(np.round(proba,decimals=3))    #직접 구하기\n",
        "print(\"\")\n",
        "print(np.round(proba,decimals=3))    #비교\n"
      ],
      "execution_count": null,
      "outputs": [
        {
          "output_type": "stream",
          "text": [
            "[[0.    0.014 0.841 0.    0.136 0.007 0.003]\n",
            " [0.    0.003 0.044 0.    0.007 0.946 0.   ]\n",
            " [0.    0.    0.034 0.935 0.015 0.016 0.   ]\n",
            " [0.011 0.034 0.306 0.007 0.567 0.    0.076]\n",
            " [0.    0.    0.904 0.002 0.089 0.002 0.001]]\n",
            "\n",
            "[[0.    0.014 0.841 0.    0.136 0.007 0.003]\n",
            " [0.    0.003 0.044 0.    0.007 0.946 0.   ]\n",
            " [0.    0.    0.034 0.935 0.015 0.016 0.   ]\n",
            " [0.011 0.034 0.306 0.007 0.567 0.    0.076]\n",
            " [0.    0.    0.904 0.002 0.089 0.002 0.001]]\n"
          ],
          "name": "stdout"
        }
      ]
    },
    {
      "cell_type": "code",
      "metadata": {
        "id": "XyUMSleeVeUf"
      },
      "source": [
        ""
      ],
      "execution_count": null,
      "outputs": []
    }
  ]
}