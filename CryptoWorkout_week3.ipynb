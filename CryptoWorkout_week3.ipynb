{
  "nbformat": 4,
  "nbformat_minor": 0,
  "metadata": {
    "colab": {
      "name": "CryptoWorkout_week3.ipynb",
      "provenance": [],
      "collapsed_sections": [],
      "include_colab_link": true
    },
    "kernelspec": {
      "display_name": "Python 3",
      "name": "python3"
    }
  },
  "cells": [
    {
      "cell_type": "markdown",
      "metadata": {
        "id": "view-in-github",
        "colab_type": "text"
      },
      "source": [
        "<a href=\"https://colab.research.google.com/github/hdpark1208/StudyCode/blob/main/CryptoWorkout_week3.ipynb\" target=\"_parent\"><img src=\"https://colab.research.google.com/assets/colab-badge.svg\" alt=\"Open In Colab\"/></a>"
      ]
    },
    {
      "cell_type": "markdown",
      "metadata": {
        "id": "QJjTTHSH2FTg"
      },
      "source": [
        "# 3주차 실습\n",
        "\n",
        "- Vigenere 암호\n",
        "  - 암호화/복호화\n",
        "    - 준비하기\n",
        "  - 공격방법\n",
        "    - 키길이 알아내기\n",
        "    - 키 알아내기\n"
      ]
    },
    {
      "cell_type": "markdown",
      "metadata": {
        "id": "PCmosbWN2ZkU"
      },
      "source": [
        "## Vigenere 암호\n",
        "\n",
        "16세기에 개발된 shift cipher의 변형\n",
        "- 알고리즘\n",
        "키 : 영어단어, 혹은 $𝑛∈𝑁, 𝑘∈(𝑍_{26} )^𝑛$\n",
        "(예: 'vector’ <=> $𝑛=6,𝑘=(21, 4, 2, 19, 14, 17)$ )\n",
        "암호화 : 평문의 각 알파벳에 (벡터인) 키의 값을 차례대로 하나씩 적용해서 Shift. 키의 끝까지 가면 키의 처음부분으로 와서 순환적으로 키를 적용\n"
      ]
    },
    {
      "cell_type": "markdown",
      "metadata": {
        "id": "IbZjTuF748lP"
      },
      "source": [
        "## 암호화/복호화\n",
        "\n",
        "### 준비하기\n",
        "\n",
        "- 평문 준비하기: 먼저 온라인에서 적당한 영어 기사를 스크랩(Copy&Paste)해서 평문을 준비해봅시다. 따옴표가 있으면  Python이 strings 자료형 범위를 혼동하므로 하나씩 없애야 합니다. 웹 크롤링/스크랩에 대해서 알고 싶으면 아래 링크를 추천합니다. [파이썬 웹크롤링 과 자동화에 대한 A to Z](https://wikidocs.net/book/4706)\n",
        "- 평문과 주어진 키를 숫자의 list로 변환하기: 준비한 평문에는 (따옴표를 제외한) 여러 문장부호, 숫자와 빈칸을 포함하므로 이를 제거해봅시다."
      ]
    },
    {
      "cell_type": "code",
      "metadata": {
        "id": "Xi6n1IcQ6bE3"
      },
      "source": [
        "P0='The second wave of Covid-19 in India is here. The country of more than one billion people \\\n",
        " already has 11.3 million cases and more than 158,000 deaths. \\\n",
        " After a low weekly average of less than 11,000 cases per day in the second week \\\n",
        "  of February, the cases have risen to a weekly average of more than 18,000 cases per day. \\\n",
        "  On Friday, India reported more than 23,000 new cases. \\\n",
        "This lends greater urgency to India’s vaccination drive, \\\n",
        "which aimed to inoculate 300 million people for Covid-19 between mid-January and August. \\\n",
        "When the vaccine rollout started on Jan. 16, I was pretty certain it would go smoothly. \\\n",
        "And why not? India is a global pharmaceutical powerhouse, with proven capacity to \\\n",
        "meet high production volumes, and by mid-January it was already manufacturing more \\\n",
        "than three million vaccines a day. The country has a long history of successfully \\\n",
        "running immunization programs across daunting, difficult geographies and inoculating \\\n",
        "hundreds of millions of people against polio, measles, tuberculosis and other diseases. \\\n",
        "To get a sense of the effectiveness and the scale of India’s immunization programs, \\\n",
        "consider this: Amid the pandemic, on Jan. 30, India carried out its annual polio \\\n",
        "immunization campaign, inoculating over 110 million children in three days. \\\n",
        "Around 700,000 vaccination booths were staffed with 1.2 million health workers \\\n",
        " — many of them Accredited Social Health Activists, or ASHA workers, \\\n",
        " who for $50 per month check on mothers and children at bus terminals and \\\n",
        " bazaars to ensure the immunization program is a success.' \n",
        "    # 긴 한줄을 줄 바꿈 할때는 백슬래쉬 '\\'를 이용하면 됩니다! \n",
        "    # 백슬래쉬 다음에 빈칸이 있으면 안됩니다."
      ],
      "execution_count": null,
      "outputs": []
    },
    {
      "cell_type": "code",
      "metadata": {
        "colab": {
          "base_uri": "https://localhost:8080/"
        },
        "id": "xH_qgQV-76I3",
        "outputId": "3b1be762-42e5-421b-bc5a-fe61adaaf41b"
      },
      "source": [
        "P=''\n",
        "for i in range(len(P0)):\n",
        "  if (ord('a')<=ord(P0[i])) and (ord(P0[i]) <= ord('z')): # 해당 위치의 기호가 영어 소문자 a부터 z사이인 경우 P에 추가합니다.\n",
        "    P=P+P0[i]\n",
        "  elif (ord('A')<=ord(P0[i])) and (ord(P0[i]) <= ord('Z')): # 해당 위치의 기호가 영어 대문자 A부터 Z사이인 경우 소문자로 바꿔서 P에 추가합니다.\n",
        "    P=P+P0[i].lower()\n",
        "\n",
        "print(P)\n"
      ],
      "execution_count": null,
      "outputs": [
        {
          "output_type": "stream",
          "text": [
            "thesecondwaveofcovidinindiaisherethecountryofmorethanonebillionpeoplealreadyhasmillioncasesandmorethandeathsafteralowweeklyaverageoflessthancasesperdayinthesecondweekoffebruarythecaseshaverisentoaweeklyaverageofmorethancasesperdayonfridayindiareportedmorethannewcasesthislendsgreaterurgencytoindiasvaccinationdrivewhichaimedtoinoculatemillionpeopleforcovidbetweenmidjanuaryandaugustwhenthevaccinerolloutstartedonjaniwasprettycertainitwouldgosmoothlyandwhynotindiaisaglobalpharmaceuticalpowerhousewithprovencapacitytomeethighproductionvolumesandbymidjanuaryitwasalreadymanufacturingmorethanthreemillionvaccinesadaythecountryhasalonghistoryofsuccessfullyrunningimmunizationprogramsacrossdauntingdifficultgeographiesandinoculatinghundredsofmillionsofpeopleagainstpoliomeaslestuberculosisandotherdiseasestogetasenseoftheeffectivenessandthescaleofindiasimmunizationprogramsconsiderthisamidthepandemiconjanindiacarriedoutitsannualpolioimmunizationcampaigninoculatingovermillionchildreninthreedaysaroundvaccinationboothswerestaffedwithmillionhealthworkersmanyofthemaccreditedsocialhealthactivistsorashaworkerswhoforpermonthcheckonmothersandchildrenatbusterminalsandbazaarstoensuretheimmunizationprogramisasuccess\n"
          ],
          "name": "stdout"
        }
      ]
    },
    {
      "cell_type": "markdown",
      "metadata": {
        "id": "OqZ3UJPr9Teu"
      },
      "source": [
        "영어로된 평문 P과 키 K가 주어졌을때, 이를 암호화 하는 Vigenere_Encrypt(P, K)를 작성해봅시다. 지난 주 사용했던 함수 plain_to_numbers(P), numbers_to_cipher(l)를 이용해도 됩니다.\n"
      ]
    },
    {
      "cell_type": "code",
      "metadata": {
        "id": "bVxVUoap9Q_t"
      },
      "source": [
        "K='vector'\n",
        "\n",
        "def plain_to_numbers(P):\n",
        "  l=[]\n",
        "  for i in range(len(P)):\n",
        "    l.append(ord(P[i])-ord('a'))\n",
        "  return l\n",
        "\n",
        "def numbers_to_cipher(l):\n",
        "  C=''\n",
        "  for i in range(len(l)): \n",
        "    C=C+chr(l[i]+ord('A'))\n",
        "  return C"
      ],
      "execution_count": null,
      "outputs": []
    },
    {
      "cell_type": "code",
      "metadata": {
        "id": "_Lthhl2J-ywH"
      },
      "source": [
        "def Vigenere_Encrypt(P, K):\n",
        "  l = plain_to_numbers(P)\n",
        "  k = plain_to_numbers(K)\n",
        "  n = len(k)\n",
        "  for i in range(len(l)):\n",
        "    l[i] = (l[i]+k[i%n]) % 26  # 이 부분을 완성해보세요!!\n",
        "  return numbers_to_cipher(l) "
      ],
      "execution_count": null,
      "outputs": []
    },
    {
      "cell_type": "code",
      "metadata": {
        "colab": {
          "base_uri": "https://localhost:8080/"
        },
        "id": "q3qvezjD_Hcv",
        "outputId": "7bcd20a0-d4e1-4e05-b6d6-905297535a9b"
      },
      "source": [
        "C = Vigenere_Encrypt(P, K)\n",
        "print(C) # 여기서 확인해봅시다. 함수 정의한 부분을 먼저 실행해야 합니다."
      ],
      "execution_count": null,
      "outputs": [
        {
          "output_type": "stream",
          "text": [
            "OLGLSTJRFPOMZSHVCMDHKGWEYMCBGYZVGMVVXSWGHITSHFCIZXJTBFIIDBZCDSPISFKPGTZIZEFRVRNQKEZZJRETGVNEPWAFMIVAOEYICMVJVJVXFRGSYPSVFPATJVMEIXCWGIULHYVRETGVNTGKRRTMPMVVNIEHBURIGDCWAIDKIRMCVASTVWGLVRQITBGVIXQTKVZONROMZVCZSFAQQKSKCEPVOJZWRXFUVCQGTIDHCRWEYMCKSGJVVXRDJVGMVRIRGPQRNIUMVZNPGGRJBVGTHVMYTZSEXCVHWEYMCLJRXGKGOKDSPWFZQIYAWTCEKFSUOSKGCTPPCMSDDPNBCEKIQIZVASTVCMDHDXHNZIPFWUEEPNOITEPWOLBYUMKYZRVASMVGEBBVMSNECLOWVTFKZHQGXRIMYTGGMIVMMTZVVTWEDXYHICYKQLAFJXJEMRIHYAMEJXKGRZVMUTUCJFCEDYVVOTQVPXKVOCKSYXFYJYUXKZOLRKCMZRETDRXMVRHFHIGMVZBLRKCUPGVBCEQSNNAVNEPWPPHMFCOEPETRWKREUTZIZEFRARIYHTQKPVKGUDJVGMVRIXJKSVHMNEWFIZCVQZIIUTRRTXJXQFPRVKMYVWCECEBLKLHFMCQYGLXGGLGWPPNRFLIRKGUZHQWGWQVXKHBGMSIKODNEEKCJNHCNBKDRIWWWAMENZKBIQZFRKLKXGRIHKGCTPPCMWEBLWGRIZHUHTDDPNBCENSHISFKPGTURDRUMDFGMQFSRNPGLHLWITVICJWKLOEYSVASIYMUXOJZWVHUVOEUXBJZSHMVVZJHXQKDZGGSJNEPWHYZWETZVJJKGRZVWKFALIMBTHZJRRKCXMEOLQFIWKWSIOLKLODDHVASGVRFXAZXSPCOEDRFBOTVVTBSUJYVBHJVRPNOCKSNBCZHQWGWQVXKHBTVQRTWXIMPHQLGEVBBXJZGKAZGPKHBTCMNWFVIMPMVIZIFTMJVVQNBUQEEVWEVXKHBSJSVAGNZVGLHRAJGWKZOLOBZCDSPASRGXJPCIFITLARICQYHYZQCVQIZHKMSUNSEBOCCICEHYVGVBJZNXUHFRNLCPCIFITLKYJJQKDVMQQGHYXLGVYFIQQMVVMWCGRTCMNWFVIEVUIJOITFWEVPUTBUWEBTOINXQXBJPVGMVVDQONBZUEVBCEKVQZFRHMUTGLXGGLG\n"
          ],
          "name": "stdout"
        }
      ]
    },
    {
      "cell_type": "markdown",
      "metadata": {
        "id": "zlO-hgOj_kZ_"
      },
      "source": [
        "이번에는 암호문 C와 키 K가 주어졌을때, 평문을 반환(return)하는 복호화 함수 Vigenere_Decrypt(C, K)를 작성해봅시다. 힌트: 암호화 함수 Vigenere_Encrypt()와 매우 유사합니다. 대소문자에 주의하세요."
      ]
    },
    {
      "cell_type": "code",
      "metadata": {
        "id": "38dzIL5H_a9P"
      },
      "source": [
        "def Vigenere_Decrypt(C, K):\n",
        "  l = plain_to_numbers(C.lower()) # 암호문 C는 대문자로 이루어져 있는 것에 주의!\n",
        "  k = plain_to_numbers(K)\n",
        "  n = len(k)\n",
        "  for i in range(len(l)):\n",
        "    l[i] = (l[i]-k[i%n]) % 26  # 이 부분을 완성해보세요!!\n",
        "  return numbers_to_cipher(l).lower() # 평문 P는 소문자로 이루어져 있는 것에 주의!"
      ],
      "execution_count": null,
      "outputs": []
    },
    {
      "cell_type": "code",
      "metadata": {
        "colab": {
          "base_uri": "https://localhost:8080/",
          "height": 162
        },
        "id": "hZvVQhyAAb36",
        "outputId": "25862381-32a6-46eb-a9d5-dad4ccb4bb7a"
      },
      "source": [
        "Vigenere_Decrypt(C, K) # 여기서 확인해봅시다. 함수 정의한 부분을 먼저 실행해야 합니다."
      ],
      "execution_count": null,
      "outputs": [
        {
          "output_type": "execute_result",
          "data": {
            "application/vnd.google.colaboratory.intrinsic+json": {
              "type": "string"
            },
            "text/plain": [
              "'thesecondwaveofcovidinindiaisherethecountryofmorethanonebillionpeoplealreadyhasmillioncasesandmorethandeathsafteralowweeklyaverageoflessthancasesperdayinthesecondweekoffebruarythecaseshaverisentoaweeklyaverageofmorethancasesperdayonfridayindiareportedmorethannewcasesthislendsgreaterurgencytoindiasvaccinationdrivewhichaimedtoinoculatemillionpeopleforcovidbetweenmidjanuaryandaugustwhenthevaccinerolloutstartedonjaniwasprettycertainitwouldgosmoothlyandwhynotindiaisaglobalpharmaceuticalpowerhousewithprovencapacitytomeethighproductionvolumesandbymidjanuaryitwasalreadymanufacturingmorethanthreemillionvaccinesadaythecountryhasalonghistoryofsuccessfullyrunningimmunizationprogramsacrossdauntingdifficultgeographiesandinoculatinghundredsofmillionsofpeopleagainstpoliomeaslestuberculosisandotherdiseasestogetasenseoftheeffectivenessandthescaleofindiasimmunizationprogramsconsiderthisamidthepandemiconjanindiacarriedoutitsannualpolioimmunizationcampaigninoculatingovermillionchildreninthreedaysaroundvaccinationboothswerestaffedwithmillionhealthworkersmanyofthemaccreditedsocialhealthactivistsorashaworkerswhoforpermonthcheckonmothersandchildrenatbusterminalsandbazaarstoensuretheimmunizationprogramisasuccess'"
            ]
          },
          "metadata": {
            "tags": []
          },
          "execution_count": 16
        }
      ]
    },
    {
      "cell_type": "markdown",
      "metadata": {
        "id": "SMK5huovBGWY"
      },
      "source": [
        "### Vigenere 암호 공격하기\n",
        "\n",
        "1번 경우 즉 암호문만 아는 경우 공격(해독)하는 방법에 대해 알아봅시다. 다음 2단계를 나눠서 키를 알아냅니다.\n",
        "\n",
        "1. 키 길이(Key Length) 알아내기: 암호문을 한 칸씩 오른쪽으로 자리를 이동해서 원래의 암호문과 겹치는 알파벳 카운트 >> 가장 많이 겹칠때 이동한 자리의 수가 키의 길이\n",
        "2. 키 알아내기\n"
      ]
    },
    {
      "cell_type": "markdown",
      "metadata": {
        "id": "cesBSqHF9Nsn"
      },
      "source": [
        "주어진 암호문 C를 k칸 오른쪽으로 이동해서 원래 암호문과 겹치는 알파벳의 갯수를 세는 함수 Vigenere_Frequency(C, k)를 작성해봅시다."
      ]
    },
    {
      "cell_type": "code",
      "metadata": {
        "id": "YmMwQzpY1QmW"
      },
      "source": [
        "def Vigenere_Frequency(C, k):  \n",
        "  c = 0\n",
        "  for i in range(len(C)-k):\n",
        "    if C[i]==C[i+k]:\n",
        "      c = c+1\n",
        "  return c    # 여기에 작성해봅시다!"
      ],
      "execution_count": null,
      "outputs": []
    },
    {
      "cell_type": "code",
      "metadata": {
        "colab": {
          "base_uri": "https://localhost:8080/"
        },
        "id": "MpGhSn_n1l-E",
        "outputId": "800ba484-a9ed-4845-c603-5068ed5d3956"
      },
      "source": [
        "for i in range(1, 11):\n",
        "  print(i, Vigenere_Frequency(C, i))\n",
        "\n",
        "# 여기에서 k=1, ..., 10 각각에 대해 겹치는 알파벳의 갯수를 출력해봅시다. \n",
        "# 띄어쓰기가 안되있으면 생각보다 차이가 안 날수 있습니다. "
      ],
      "execution_count": null,
      "outputs": [
        {
          "output_type": "stream",
          "text": [
            "1 43\n",
            "2 46\n",
            "3 41\n",
            "4 59\n",
            "5 42\n",
            "6 54\n",
            "7 41\n",
            "8 57\n",
            "9 47\n",
            "10 40\n"
          ],
          "name": "stdout"
        }
      ]
    },
    {
      "cell_type": "markdown",
      "metadata": {
        "id": "s91DaVmD5ZQc"
      },
      "source": [
        "이제 키 길이 n를 안다고 할 때, 각 키글자를 알아내봅시다.\n",
        "암호문 C의 $1, n+1, 2n+1, 3n+1, ..., kn+1, ...$번째 글자들만 골라서 거기서 $A, B, C, ..., Z$의 빈도(확률) 벡터(list)을 구해봅시다."
      ]
    },
    {
      "cell_type": "code",
      "metadata": {
        "colab": {
          "base_uri": "https://localhost:8080/"
        },
        "id": "s3MFeHlN6H_R",
        "outputId": "e4e2a0d4-49c4-4959-8655-eb7424a3d1d0"
      },
      "source": [
        "n = 6 # 앞의 결과가 좋지 않지만, n=6이라는 것을 이용합니다. \n",
        "l1=[0]*26\n",
        "k = 0\n",
        "while k*n+1<len(C):\n",
        "  l1[ord(C[k*n+1-1])-ord('A')]+=1     # Python에서 list나 strings 모두 0번째부터 시작하는 것에 주의! \n",
        "  k += 1\n",
        "\n",
        "print(l1)\n",
        "\n",
        "l = [0]*26\n",
        "for i in range(len(l)):\n",
        "  l[i] = l1[i]/sum(l1)   # Python에서 list의 원소들의 합은 sum()을 이용합니다.\n",
        "\n",
        "print(sum(l), l)"
      ],
      "execution_count": null,
      "outputs": [
        {
          "output_type": "stream",
          "text": [
            "[5, 6, 5, 15, 1, 3, 6, 6, 18, 16, 7, 0, 11, 16, 8, 9, 4, 2, 0, 4, 1, 19, 2, 8, 7, 22]\n",
            "1.0 [0.024875621890547265, 0.029850746268656716, 0.024875621890547265, 0.07462686567164178, 0.004975124378109453, 0.014925373134328358, 0.029850746268656716, 0.029850746268656716, 0.08955223880597014, 0.07960199004975124, 0.03482587064676617, 0.0, 0.05472636815920398, 0.07960199004975124, 0.03980099502487562, 0.04477611940298507, 0.01990049751243781, 0.009950248756218905, 0.0, 0.01990049751243781, 0.004975124378109453, 0.0945273631840796, 0.009950248756218905, 0.03980099502487562, 0.03482587064676617, 0.10945273631840796]\n"
          ],
          "name": "stdout"
        }
      ]
    },
    {
      "cell_type": "markdown",
      "metadata": {
        "id": "1olSiPnh8zxI"
      },
      "source": [
        "이제 일반적인 영어문장들에서 나오는 각 알파벳들의 빈도(확률)벡터\n",
        "A=(0.082, 0.015, 0.028, 0.043, 0.127, 0.022, 0.020, 0.061, 0.070, 0.002, 0.008, 0.040, 0.024, 0.067, 0.075, 0.019, 0.001, 0.060, 0.063, 0.091, 0.028, 0.010, 0.023, 0.001, 0.020, 0.001)\n",
        "와 그 $i$번째 쉬프트벡터들과 위에서 구한 빈도(확률)벡터와의 내적을 이용해서 키를 알아냅니다."
      ]
    },
    {
      "cell_type": "code",
      "metadata": {
        "colab": {
          "base_uri": "https://localhost:8080/"
        },
        "id": "SADM7nmQ9xtY",
        "outputId": "adec72e3-5eb9-4dcf-cd74-20504073d3a3"
      },
      "source": [
        "A=(0.082, 0.015, 0.028, 0.043, 0.127, 0.022, 0.020, 0.061, 0.070, 0.002, 0.008, 0.040, 0.024, 0.067, 0.075, 0.019, 0.001, 0.060, 0.063, 0.091, 0.028, 0.010, 0.023, 0.001, 0.020, 0.001)\n",
        "sum(A)"
      ],
      "execution_count": null,
      "outputs": [
        {
          "output_type": "execute_result",
          "data": {
            "text/plain": [
              "1.001"
            ]
          },
          "metadata": {
            "tags": []
          },
          "execution_count": 31
        }
      ]
    },
    {
      "cell_type": "markdown",
      "metadata": {
        "id": "pX4YWvez-VjK"
      },
      "source": [
        "numpy 라이브러리의 roll()함수를 이용하여 주어진 list를 오른쪽을 i칸 이동시킬수 있습니다. 다만, 함수로 이동된 list의 자료형은 numpy.ndarray 형으로 변경되는 것에 주의하세요."
      ]
    },
    {
      "cell_type": "code",
      "metadata": {
        "colab": {
          "base_uri": "https://localhost:8080/"
        },
        "id": "YXRSruM0PNld",
        "outputId": "0dede184-cd40-4b55-9c9b-1bdb20aac44a"
      },
      "source": [
        "import numpy as np\n",
        "print(np.roll(A, 1))\n",
        "type(np.roll(A, 2))"
      ],
      "execution_count": null,
      "outputs": [
        {
          "output_type": "stream",
          "text": [
            "[0.001 0.082 0.015 0.028 0.043 0.127 0.022 0.02  0.061 0.07  0.002 0.008\n",
            " 0.04  0.024 0.067 0.075 0.019 0.001 0.06  0.063 0.091 0.028 0.01  0.023\n",
            " 0.001 0.02 ]\n"
          ],
          "name": "stdout"
        },
        {
          "output_type": "execute_result",
          "data": {
            "text/plain": [
              "numpy.ndarray"
            ]
          },
          "metadata": {
            "tags": []
          },
          "execution_count": 51
        }
      ]
    },
    {
      "cell_type": "code",
      "metadata": {
        "colab": {
          "base_uri": "https://localhost:8080/"
        },
        "id": "VSBR4CKQ-unM",
        "outputId": "22d1677f-ccb0-44a1-afbf-56ebc7a84010"
      },
      "source": [
        "for i in range(26):\n",
        "  print(i, sum([x*y for x,y in zip(l,np.roll(A, i))]))"
      ],
      "execution_count": null,
      "outputs": [
        {
          "output_type": "stream",
          "text": [
            "0 0.03154726368159203\n",
            "1 0.03750746268656717\n",
            "2 0.03895522388059701\n",
            "3 0.034671641791044774\n",
            "4 0.037363184079601985\n",
            "5 0.04109452736318407\n",
            "6 0.04244278606965174\n",
            "7 0.03850746268656717\n",
            "8 0.04499004975124378\n",
            "9 0.03907960199004976\n",
            "10 0.03936318407960199\n",
            "11 0.035407960199004974\n",
            "12 0.03563681592039801\n",
            "13 0.03423383084577114\n",
            "14 0.03331343283582089\n",
            "15 0.03828358208955222\n",
            "16 0.03613930348258707\n",
            "17 0.04640796019900497\n",
            "18 0.03368159203980099\n",
            "19 0.03456716417910448\n",
            "20 0.0392139303482587\n",
            "21 0.06097512437810946\n",
            "22 0.040149253731343267\n",
            "23 0.03400497512437811\n",
            "24 0.03032338308457712\n",
            "25 0.04313930348258706\n"
          ],
          "name": "stdout"
        }
      ]
    },
    {
      "cell_type": "markdown",
      "metadata": {
        "id": "-zlnTYhhDsOw"
      },
      "source": [
        "이제 위의 빈도(확률)벡터들을 꺾은선 그래프로 그려서 비교해봅시다. 두 꺾은선 그래프가 가장 유사한 경우가 키 글자로 예측되는 경우입니다."
      ]
    },
    {
      "cell_type": "code",
      "metadata": {
        "id": "WpiwW5msXs_4"
      },
      "source": [
        "import numpy as np\n",
        "import matplotlib.pyplot as plt\n",
        "import math"
      ],
      "execution_count": null,
      "outputs": []
    },
    {
      "cell_type": "code",
      "metadata": {
        "id": "fnBVTtznD08l"
      },
      "source": [
        "x_values = list(range(26))\n",
        "for i in range(26):\n",
        "  plt.plot(x_values, shift(A, i))  # 처음 매개변수는 x좌표이고 두번째 매개변수가 y좌표입니다\n",
        "  plt.plot(x_values, l)\n",
        "  plt.show()  # plt.show()함수를 통해서 그 앞에서 생성한 2개의 그래프를 \"사람에게\" 보여줍니다."
      ],
      "execution_count": null,
      "outputs": []
    },
    {
      "cell_type": "markdown",
      "metadata": {
        "id": "POtGStlHQeRC"
      },
      "source": [
        "마찬가지로 각 $i=2, 3, 4, 5, 6$에 대해서도 암호문 C의 $i, n+i, 2n+i, 3n+i, ..., kn+i, ...$번째 글자들만 골라서 거기서 $A, B, C, ..., Z$의 빈도(확률) 벡터(list)을 만든 후 위의 과정을 통해 $i$번째 키 글자를 알아내봅시다."
      ]
    },
    {
      "cell_type": "markdown",
      "metadata": {
        "id": "qbpTLPZeHmYw"
      },
      "source": [
        "### 추가실습\n",
        "\n",
        "또한, 다음의 링크를 통해서도 더욱 쉽게 키 찾아내는 과정을 이해할 수 있습니다. 위에서 생성한 혹은 여러분이 직접 고른 평문과 키로 생성한 암호문 C를 가지고 한번 분석해보세요.   [Cryptool.org - Vigenère Analysis](https://www.cryptool.org/en/cto/cryptanalysis/vigenerebreak)"
      ]
    },
    {
      "cell_type": "markdown",
      "metadata": {
        "id": "w-J3oKPck1jQ"
      },
      "source": [
        "### 추가실습\n",
        "\n",
        "아래의 암호문에 대해서 위의 실습코드들을 이용하여 평문과 암호화키를 분석해보세요."
      ]
    },
    {
      "cell_type": "markdown",
      "metadata": {
        "id": "Z64P2boQi-YH"
      },
      "source": [
        "### 추가실습\n",
        "\n",
        "아래의 암호문에 대해서 위의 실습코드들을 이용하여 평문과 암호화키를 분석해보세요."
      ]
    },
    {
      "cell_type": "code",
      "metadata": {
        "id": "AyTrx18uk9tw"
      },
      "source": [
        "C='ocwyikoooniwugpmxwktzdwgtssayjzwyemdlbnqaaavsuwdvbrflauplooubfgq \\\n",
        "hgcscmgzlatoedcsdeidpbhtmuovpiekifpimfnoamvlpqfxejsmxmpgkccaykwf \\\n",
        "zpyuavtelwhrhmwkbbvgtguvtefjlodfefkvpxsgrsorvgtajbsauhzrzalkwuow \\\n",
        "hgedefnswmrciwcpaaavogpdnfpktdbalsisurlnpsjyeatcuceesohhdarkhwot \\\n",
        "ikbroqrdfmzghgucebvgwcdqxgpbgqwlpbdaylooqdmuhbdqgmyweuik'"
      ],
      "execution_count": null,
      "outputs": []
    },
    {
      "cell_type": "code",
      "metadata": {
        "id": "VZvM-NMok_o3"
      },
      "source": [
        "C='xkjurowmllpxwznpimbvbqjcnowxpcchhvvfvsllfvxhazityxohulxqojaxelx \\\n",
        "zxmyjaqfstsrulhhucdskbxknjqidallpqslluhiaqfpbpcidsvcihwhwewthbt \\\n",
        "xrljnrsncihuvffuxvoukjljswmaqfvjwjsdyljogjxdboxajultucpzmpliwml \\\n",
        "ubzxvoodybafdskxgqfadshxnxehsaruojaqfpfkndhsaafvulluwtaqfrupwjr \\\n",
        "szxgpfutjqiynrxnyntwmhcukjfbirzsmehhsjshyonddzzntzmplilrwnmwmlv \\\n",
        "uryonthuhabwnvw'"
      ],
      "execution_count": null,
      "outputs": []
    },
    {
      "cell_type": "markdown",
      "metadata": {
        "id": "-1fx7h_SgqD2"
      },
      "source": [
        "###추가실습 \n",
        "또한 $\\chi^2$ 테스트라고 암호문의 빈도벡터와 통상적인 영어문장들의 빈도벡터(그리고 그 쉬프트벡터들)와의 유사성을 측정하는 방법이 있습니다. \n",
        "$$ \\chi^2 = \\sum_{i=1}^n \\frac{(f_i - F_i)^2}{F_i}$$\n",
        "여기서 벡터 $(f_1, f_2, ..., f_n )$이 암호문에서 $n$칸씩 건너서 센 알파벳들의 빈도(확률)벡터입니다.\n",
        "위의 코드에서 두 벡터를 내적하는 부분을 $\\chi^2$공식으로 변경해서 키 글자를 알아내보세요.\n",
        "\n",
        "다음 링크를 통해 자세한 내용을 확인할 수 있습니다. [The Vigenère Cipher: Frequency Analysis](https://pages.mtu.edu/~shene/NSF-4/Tutorial/VIG/Vig-Frequency-Analysis.html)"
      ]
    },
    {
      "cell_type": "markdown",
      "metadata": {
        "id": "ZCH7jwZEgnT-"
      },
      "source": [
        ""
      ]
    },
    {
      "cell_type": "markdown",
      "metadata": {
        "id": "p6t8jjmQi2pj"
      },
      "source": [
        "이 아래의 코드는 2주차 강의에서 사용했던, 코드들입니다.\n",
        "\n",
        "A, B, C로만 이루어진 임의의 메세지 만들기(각 확률 .85, .10, .05)"
      ]
    },
    {
      "cell_type": "code",
      "metadata": {
        "colab": {
          "base_uri": "https://localhost:8080/"
        },
        "id": "VuVmZijY7zjy",
        "outputId": "1abaaa8c-c7f7-45b5-d211-930db005f251"
      },
      "source": [
        "import random\n",
        "\n",
        "P=''\n",
        "for i in range(100):\n",
        "  a = random.random()\n",
        "  if a < .85:\n",
        "    P = P+'A'\n",
        "  elif a < .95:\n",
        "    P = P+'B'\n",
        "  else:\n",
        "    P = P+'C'\n",
        "\n",
        "print(P)"
      ],
      "execution_count": null,
      "outputs": [
        {
          "output_type": "stream",
          "text": [
            "AAAAAAAAAAAAAAAABAAAAAACAAAAAAAAAAAAAAAAAACAAAABAAAAAAACACAAAAAAAAAABAAAAAAAAAAAACAABAAACABAAAAAABAA\n"
          ],
          "name": "stdout"
        }
      ]
    },
    {
      "cell_type": "markdown",
      "metadata": {
        "id": "OoMbOqsP892Y"
      },
      "source": [
        "암호화 키 ABC <=> (0, 1, 2) 가지고 암호문 만들기"
      ]
    },
    {
      "cell_type": "code",
      "metadata": {
        "id": "1AUCy9bd9DKH"
      },
      "source": [
        "def ABC_to_numbers(P):\n",
        "  l=[]\n",
        "  for i in range(len(P)):\n",
        "    l.append(ord(P[i])-ord('A'))\n",
        "  return l\n",
        "\n",
        "def numbers_to_ABC(l):\n",
        "  P = ''\n",
        "  for i in range(len(l)):\n",
        "    P = P + chr(l[i]+ord('A'))\n",
        "  return P\n",
        "\n",
        "def ABC_Vig_Encrypt(P, K):\n",
        "  l = ABC_to_numbers(P)\n",
        "  k = ABC_to_numbers(K)\n",
        "  n = len(k)\n",
        "  for i in range(len(l)):\n",
        "    l[i] = (l[i]+k[i%n]) % 3\n",
        "  return numbers_to_ABC(l)\n",
        "\n",
        "\n"
      ],
      "execution_count": null,
      "outputs": []
    },
    {
      "cell_type": "code",
      "metadata": {
        "id": "uk5xpcNKTtRs"
      },
      "source": [
        "C = ABC_Vig_Encrypt(P, 'ABC')"
      ],
      "execution_count": null,
      "outputs": []
    },
    {
      "cell_type": "code",
      "metadata": {
        "id": "EbMtAZWsUIag"
      },
      "source": [
        "def ABC_Vigenere_Frequency(C, k):\n",
        "  c = 0\n",
        "  for i in range(len(C)-k):\n",
        "    if C[i]==C[i+k]:\n",
        "      c = c+1\n",
        "  return c"
      ],
      "execution_count": null,
      "outputs": []
    },
    {
      "cell_type": "code",
      "metadata": {
        "colab": {
          "base_uri": "https://localhost:8080/"
        },
        "id": "XV4D0lfGUhDo",
        "outputId": "4afb0298-cd76-4298-9051-d020580556ae"
      },
      "source": [
        "for i in range(1, 5):\n",
        "  print(ABC_Vigenere_Frequency(C, i))"
      ],
      "execution_count": null,
      "outputs": [
        {
          "output_type": "stream",
          "text": [
            "12\n",
            "9\n",
            "75\n",
            "9\n"
          ],
          "name": "stdout"
        }
      ]
    },
    {
      "cell_type": "code",
      "metadata": {
        "id": "xGXwla8QUxHG"
      },
      "source": [
        ""
      ],
      "execution_count": null,
      "outputs": []
    }
  ]
}