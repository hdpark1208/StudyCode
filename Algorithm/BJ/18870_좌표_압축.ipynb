{
  "nbformat": 4,
  "nbformat_minor": 0,
  "metadata": {
    "colab": {
      "provenance": [],
      "include_colab_link": true
    },
    "kernelspec": {
      "name": "python3",
      "display_name": "Python 3"
    },
    "language_info": {
      "name": "python"
    }
  },
  "cells": [
    {
      "cell_type": "markdown",
      "metadata": {
        "id": "view-in-github",
        "colab_type": "text"
      },
      "source": [
        "<a href=\"https://colab.research.google.com/github/hdpark1208/StudyCode/blob/main/Algorithm/BJ/18870_%EC%A2%8C%ED%91%9C_%EC%95%95%EC%B6%95.ipynb\" target=\"_parent\"><img src=\"https://colab.research.google.com/assets/colab-badge.svg\" alt=\"Open In Colab\"/></a>"
      ]
    },
    {
      "cell_type": "markdown",
      "metadata": {
        "id": "Yh4kWp1luxrW"
      },
      "source": [
        "# 좌표 압축"
      ]
    },
    {
      "cell_type": "markdown",
      "metadata": {
        "id": "Xg2dbbF7u2R8"
      },
      "source": [
        "수직선 위에 N개의 좌표 X1, X2, ..., XN이 있다. 이 좌표에 좌표 압축을 적용하려고 한다.\n",
        "\n",
        "Xi를 좌표 압축한 결과 X'i의 값은 Xi > Xj를 만족하는 서로 다른 좌표 Xj의 개수와 같아야 한다.\n",
        "\n",
        "X1, X2, ..., XN에 좌표 압축을 적용한 결과 X'1, X'2, ..., X'N를 출력해보자."
      ]
    },
    {
      "cell_type": "markdown",
      "metadata": {
        "id": "LqXcSRcPu8kj"
      },
      "source": [
        "## 입력 출력 및 예제\n"
      ]
    },
    {
      "cell_type": "markdown",
      "metadata": {
        "id": "rFCkhMXFvDp0"
      },
      "source": [
        "* 입력"
      ]
    },
    {
      "cell_type": "markdown",
      "metadata": {
        "id": "XwU2sme_3t7A"
      },
      "source": [
        "첫째 줄에 N이 주어진다.\n",
        "\n",
        "둘째 줄에는 공백 한 칸으로 구분된 X1, X2, ..., XN이 주어진다."
      ]
    },
    {
      "cell_type": "markdown",
      "metadata": {
        "id": "Ar1hCLVxwiDl"
      },
      "source": [
        "* 출력"
      ]
    },
    {
      "cell_type": "markdown",
      "metadata": {
        "id": "VaXKN9fc3uUv"
      },
      "source": [
        "첫째 줄에 X'1, X'2, ..., X'N을 공백 한 칸으로 구분해서 출력한다."
      ]
    },
    {
      "cell_type": "markdown",
      "metadata": {
        "id": "8tmCzTFmwwmN"
      },
      "source": [
        "* 예제"
      ]
    },
    {
      "cell_type": "markdown",
      "metadata": {
        "id": "ZuKUpEvu3uuv"
      },
      "source": [
        "![image.png](data:image/png;base64,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)"
      ]
    },
    {
      "cell_type": "markdown",
      "source": [
        "## 구상"
      ],
      "metadata": {
        "id": "AGhrdbYB1CKt"
      }
    },
    {
      "cell_type": "markdown",
      "source": [
        "- 리스트를 입력 받고, 집합, 정렬을 이용해 좌표 압축을 한다\n",
        "- 딕셔너리를 이용해 해당 좌표에 대응하는 좌표 압축 값을 구하고 기존에 입력받은 리스트를 딕셔너리에 대응시켜 답을 출력한다"
      ],
      "metadata": {
        "id": "TU2SB-V61DWu"
      }
    },
    {
      "cell_type": "markdown",
      "metadata": {
        "id": "__zt_kEJw3Zd"
      },
      "source": [
        "## 코드"
      ]
    },
    {
      "cell_type": "code",
      "source": [
        "# 18870\n",
        "N = int(input())\n",
        "arr = list(map(int, input().split()))\n",
        "arr2 = list(set(arr))\n",
        "arr2.sort()\n",
        "\n",
        "dic = {}\n",
        "for i in range(len(arr2)):\n",
        "    dic[arr2[i]] = i\n",
        "\n",
        "for i in arr:\n",
        "    print(dic[i],end=' ')"
      ],
      "metadata": {
        "colab": {
          "base_uri": "https://localhost:8080/"
        },
        "id": "8w_njeAZ7C92",
        "outputId": "e7377e0d-64bb-41e4-a846-8ec4e4a3063c"
      },
      "execution_count": 9,
      "outputs": [
        {
          "output_type": "stream",
          "name": "stdout",
          "text": [
            "6\n",
            "1000 999 1000 999 1000 999\n",
            "1 0 1 0 1 0 "
          ]
        }
      ]
    },
    {
      "cell_type": "code",
      "source": [
        "# 2750\n",
        "n = int(input())\n",
        "arr = []\n",
        "for i in range(n):\n",
        "    arr.append(int(input()))\n",
        "arr.sort()\n",
        "\n",
        "for i in arr:\n",
        "    print(i)"
      ],
      "metadata": {
        "colab": {
          "base_uri": "https://localhost:8080/"
        },
        "id": "gwimGxrlVjKZ",
        "outputId": "2846fa40-6f24-438c-da99-445a58c1763e",
        "collapsed": true
      },
      "execution_count": null,
      "outputs": [
        {
          "output_type": "stream",
          "name": "stdout",
          "text": [
            "5\n",
            "5\n",
            "2\n",
            "3\n",
            "4\n",
            "1\n",
            "1\n",
            "2\n",
            "3\n",
            "4\n",
            "5\n"
          ]
        }
      ]
    },
    {
      "cell_type": "code",
      "source": [
        "# 2751(2750 상위)\n",
        "import sys\n",
        "\n",
        "n = int(sys.stdin.readline())\n",
        "arr = [int(sys.stdin.readline()) for _ in range(n)]\n",
        "arr.sort()\n",
        "\n",
        "sys.stdout.write(\"\\n\".join(map(str, arr)) + \"\\n\")  # 한 번에 출력"
      ],
      "metadata": {
        "id": "D5DMTBqpigWO"
      },
      "execution_count": null,
      "outputs": []
    },
    {
      "cell_type": "code",
      "source": [
        "# 10989\n",
        "import sys\n",
        "N = int(sys.stdin.readline().rstrip())\n",
        "cnt_dic = {}\n",
        "for _ in range(N):\n",
        "    X =int(sys.stdin.readline().rstrip())\n",
        "    if X in cnt_dic: #X가 dic의 키에 없다면\n",
        "        cnt_dic[X] += 1\n",
        "    else:\n",
        "        cnt_dic[X] = 1\n",
        "for i in range(max(cnt_dic.keys())+1):\n",
        "    if i not in cnt_dic:\n",
        "        continue\n",
        "    else:\n",
        "        for _ in range(cnt_dic[i]):\n",
        "            print(i)"
      ],
      "metadata": {
        "id": "fVSeTsaSkpGl"
      },
      "execution_count": null,
      "outputs": []
    },
    {
      "cell_type": "code",
      "source": [
        "# 2587\n",
        "arr = []\n",
        "for _ in range(5):\n",
        "    arr.append(int(input()))\n",
        "arr.sort()\n",
        "\n",
        "print(sum(arr)//5)\n",
        "print(arr[2])\n",
        "\n"
      ],
      "metadata": {
        "id": "HCIDAPDqJ6af",
        "colab": {
          "base_uri": "https://localhost:8080/"
        },
        "outputId": "7d8ba967-736e-486c-ed2c-6c5b9af1797d",
        "collapsed": true
      },
      "execution_count": null,
      "outputs": [
        {
          "output_type": "stream",
          "name": "stdout",
          "text": [
            "10\n",
            "40\n",
            "30\n",
            "60\n",
            "30\n",
            "34.0\n",
            "30\n"
          ]
        }
      ]
    },
    {
      "cell_type": "code",
      "source": [
        "# 25305\n",
        "N, k = map(int,input().split())\n",
        "scores = list(map(int,input().split()))\n",
        "scores.sort(reverse=True)\n",
        "print(scores[k-1])"
      ],
      "metadata": {
        "colab": {
          "base_uri": "https://localhost:8080/"
        },
        "id": "S8028S2CV4si",
        "outputId": "bb2aa0ba-8e3b-47d9-d25b-276cce8704d4",
        "collapsed": true
      },
      "execution_count": null,
      "outputs": [
        {
          "output_type": "stream",
          "name": "stdout",
          "text": [
            "5 2\n",
            "100 76 85 93 98\n",
            "98\n"
          ]
        }
      ]
    },
    {
      "cell_type": "code",
      "source": [
        "# 1427\n",
        "N = input()\n",
        "arr = []\n",
        "for i in N:\n",
        "    arr.append(i)\n",
        "\n",
        "arr.sort(reverse=True)\n",
        "for i in arr:\n",
        "    print(i,end='')"
      ],
      "metadata": {
        "colab": {
          "base_uri": "https://localhost:8080/"
        },
        "collapsed": true,
        "id": "6ktwkeAp1wzZ",
        "outputId": "00e5b0de-f1b0-4fb9-b890-18f69c2b085f"
      },
      "execution_count": 4,
      "outputs": [
        {
          "output_type": "stream",
          "name": "stdout",
          "text": [
            "2143\n",
            "4321"
          ]
        }
      ]
    },
    {
      "cell_type": "code",
      "source": [
        "# 11650\n",
        "N = int(input())\n",
        "arr = []\n",
        "for _ in range(N):\n",
        "    arr.append(list(map(int,input().split())))\n",
        "\n",
        "arr.sort(key= lambda x: (x[0],x[1]))\n",
        "for i, j in arr:\n",
        "    print(i,j)\n",
        "\n",
        "# 11651\n",
        "\n",
        "N = int(input())\n",
        "arr = []\n",
        "for _ in range(N):\n",
        "    arr.append(list(map(int,input().split())))\n",
        "\n",
        "arr.sort(key= lambda x: (x[1],x[0]))\n",
        "for i, j in arr:\n",
        "    print(i,j)"
      ],
      "metadata": {
        "colab": {
          "base_uri": "https://localhost:8080/"
        },
        "collapsed": true,
        "id": "KQcUjvss2pLp",
        "outputId": "4656cb85-940e-4fb0-e26e-2d56af040201"
      },
      "execution_count": 7,
      "outputs": [
        {
          "output_type": "stream",
          "name": "stdout",
          "text": [
            "5\n",
            "3 4\n",
            "1 1\n",
            "1 -1\n",
            "2 2\n",
            "3 3\n",
            "1 -1\n",
            "1 1\n",
            "2 2\n",
            "3 3\n",
            "3 4\n"
          ]
        }
      ]
    },
    {
      "cell_type": "code",
      "source": [
        "a = ['but', 'i', 'wont', 'hesitate', 'no', 'more', 'no', 'more', 'it', 'cannot', 'wait', 'im', 'yours']\n",
        "print(set(a))"
      ],
      "metadata": {
        "colab": {
          "base_uri": "https://localhost:8080/"
        },
        "id": "YteDVjIx1BEv",
        "outputId": "5ddcf719-a573-4e4d-d052-9ddc249531b9"
      },
      "execution_count": 4,
      "outputs": [
        {
          "output_type": "stream",
          "name": "stdout",
          "text": [
            "{'i', 'cannot', 'hesitate', 'more', 'it', 'yours', 'no', 'wait', 'im', 'but', 'wont'}\n"
          ]
        }
      ]
    },
    {
      "cell_type": "code",
      "source": [
        "# 1181\n",
        "N = int(input())\n",
        "arr = []\n",
        "for i in range(N):\n",
        "    arr.append(input())\n",
        "arr = list(set(arr))\n",
        "arr.sort(key = lambda x:(len(x),x))\n",
        "\n",
        "for i in arr:\n",
        "    print(i)\n"
      ],
      "metadata": {
        "id": "4Voh5emvzCDx"
      },
      "execution_count": null,
      "outputs": []
    },
    {
      "cell_type": "code",
      "source": [
        "# 10814\n",
        "N = int(input())\n",
        "arr = []\n",
        "for i in range(N):\n",
        "    age, name = input().split()\n",
        "    arr.append([int(age), name, i])\n",
        "\n",
        "arr.sort(key = lambda x:(x[0],x[2]))\n",
        "for i, j, k in arr:\n",
        "    print(i,j)"
      ],
      "metadata": {
        "colab": {
          "base_uri": "https://localhost:8080/"
        },
        "id": "bkbmhAL93FXG",
        "outputId": "556594df-a5ea-4690-937b-05d42fab0727"
      },
      "execution_count": 7,
      "outputs": [
        {
          "output_type": "stream",
          "name": "stdout",
          "text": [
            "3\n",
            "21 junku\n",
            "21 dohyun\n",
            "20 sunyoun\n",
            "20 sunyoun\n",
            "21 junku\n",
            "21 dohyun\n"
          ]
        }
      ]
    },
    {
      "cell_type": "markdown",
      "metadata": {
        "id": "bSzpKoeFzzUN"
      },
      "source": [
        "## 메모\n",
        "\n",
        "* 세련된 코드는 아니지만 나름 최적화를 해보았다\n",
        "* 때론 단순한 방법이 문제해결에 더 효과적일 수 있다. 컴퓨터의 연산력을 믿자."
      ]
    },
    {
      "cell_type": "code",
      "source": [],
      "metadata": {
        "id": "d_nCYXnmZXvu"
      },
      "execution_count": null,
      "outputs": []
    },
    {
      "cell_type": "code",
      "source": [],
      "metadata": {
        "id": "3CeoBqWOLnWM"
      },
      "execution_count": null,
      "outputs": []
    },
    {
      "cell_type": "code",
      "source": [],
      "metadata": {
        "id": "gr42EdaVWS2e"
      },
      "execution_count": null,
      "outputs": []
    }
  ]
}