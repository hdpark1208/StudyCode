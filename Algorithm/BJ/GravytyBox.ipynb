{
  "nbformat": 4,
  "nbformat_minor": 0,
  "metadata": {
    "colab": {
      "name": "GravytyBox.ipynb",
      "provenance": [],
      "collapsed_sections": [],
      "authorship_tag": "ABX9TyMu2p0algUyQnyINks0lRHF",
      "include_colab_link": true
    },
    "kernelspec": {
      "name": "python3",
      "display_name": "Python 3"
    },
    "language_info": {
      "name": "python"
    }
  },
  "cells": [
    {
      "cell_type": "markdown",
      "metadata": {
        "id": "view-in-github",
        "colab_type": "text"
      },
      "source": [
        "<a href=\"https://colab.research.google.com/github/hdpark1208/StudyCode/blob/main/Algorithm/BJ/GravytyBox.ipynb\" target=\"_parent\"><img src=\"https://colab.research.google.com/assets/colab-badge.svg\" alt=\"Open In Colab\"/></a>"
      ]
    },
    {
      "cell_type": "markdown",
      "metadata": {
        "id": "mV7scNGiboWB"
      },
      "source": [
        "## max()을 사용하지 않고 max() 구현하기(for 문 사용)"
      ]
    },
    {
      "cell_type": "code",
      "metadata": {
        "colab": {
          "base_uri": "https://localhost:8080/"
        },
        "id": "xgZT6jI3bPvl",
        "outputId": "6241621d-99bd-476d-b1f8-b68c147d1527"
      },
      "source": [
        "data=[10, 7, 2, 4, 6]\n",
        "max_v = 0\n",
        "for i in data:\n",
        "    if max_v<i:\n",
        "        max_v = i\n",
        "\n",
        "\n",
        "\n",
        "\n",
        "print(max_v)"
      ],
      "execution_count": null,
      "outputs": [
        {
          "output_type": "stream",
          "text": [
            "10\n"
          ],
          "name": "stdout"
        }
      ]
    },
    {
      "cell_type": "markdown",
      "metadata": {
        "id": "zeiaTO9Obycn"
      },
      "source": [
        "## min()을 사용하지 않고 min() 구현하기(for 문 사용)"
      ]
    },
    {
      "cell_type": "code",
      "metadata": {
        "colab": {
          "base_uri": "https://localhost:8080/"
        },
        "id": "DRTPegk7bruZ",
        "outputId": "a044b093-3727-44a9-b799-284c5085344a"
      },
      "source": [
        "data=[2, 7, 1, 2, 4, 6]\n",
        "min_v = 100\n",
        "for i in data:\n",
        "    if min_v>i:\n",
        "        min_v = i\n",
        "\n",
        "\n",
        "\n",
        "print(min_v)"
      ],
      "execution_count": null,
      "outputs": [
        {
          "output_type": "stream",
          "text": [
            "1\n"
          ],
          "name": "stdout"
        }
      ]
    },
    {
      "cell_type": "markdown",
      "metadata": {
        "id": "ZQjl7Fyib1zL"
      },
      "source": [
        "## sum()을 사용하지 않고 sum()  구현하기(for 문 사용)"
      ]
    },
    {
      "cell_type": "code",
      "metadata": {
        "colab": {
          "base_uri": "https://localhost:8080/"
        },
        "id": "dciu525_btGQ",
        "outputId": "9e2c1de6-4625-4a93-c0be-35b826ae35fe"
      },
      "source": [
        "data=[2, 7, 2, 4, 6]\n",
        "sum_v = 0\n",
        "for i in data:\n",
        "    sum_v+= i\n",
        "\n",
        "\n",
        "print(sum_v)"
      ],
      "execution_count": null,
      "outputs": [
        {
          "output_type": "stream",
          "text": [
            "21\n"
          ],
          "name": "stdout"
        }
      ]
    },
    {
      "cell_type": "markdown",
      "metadata": {
        "id": "iTl9Xilbb4n_"
      },
      "source": [
        "## 평균값 구현하기(for 문 사용)"
      ]
    },
    {
      "cell_type": "code",
      "metadata": {
        "colab": {
          "base_uri": "https://localhost:8080/"
        },
        "id": "ZQ4QYizhb3UX",
        "outputId": "d1c15cbf-e873-40c0-823b-6b4787c3ecff"
      },
      "source": [
        "data=[2, 7, 2, 4, 6]\n",
        "\n",
        "sum_v = 0\n",
        "for i in data:\n",
        "    sum_v+= i\n",
        "mean_v = sum_v/len(data)\n",
        "\n",
        "\n",
        "\n",
        "print(mean_v)"
      ],
      "execution_count": null,
      "outputs": [
        {
          "output_type": "stream",
          "text": [
            "4.2\n"
          ],
          "name": "stdout"
        }
      ]
    },
    {
      "cell_type": "markdown",
      "metadata": {
        "id": "AJ4_P9_GcAzv"
      },
      "source": [
        "여기까지 2분 정도 풀 수 있으면 좋다."
      ]
    },
    {
      "cell_type": "markdown",
      "metadata": {
        "id": "WRx3_BD2cHAQ"
      },
      "source": [
        "## dictionary 구축하기 (for, if)\n",
        "다음과 같은 리스트가 있을 때 각각의 요소의 개수를 value 값으로 갖는 딕셔너리를 만드세요.\n",
        "\n",
        "book_title = ['great', 'expectations', 'the', 'adventures', 'of', 'sherlock', 'holmes', 'the', 'great', 'gasby', 'hamlet', 'adventures', 'of', 'huckleberry', 'fin']\n",
        "\n",
        "\n",
        "예시 출력)<br>\n",
        "{'great': 2, 'expectations': 1, 'the': 2, 'adventures': 2, 'of': 2, 'sherlock': 1, 'holmes': 1, 'gasby': 1, 'hamlet': 1, 'huckleberry': 1, 'fin': 1}"
      ]
    },
    {
      "cell_type": "markdown",
      "metadata": {
        "id": "6miYyMgdcKyY"
      },
      "source": [
        "##### 위의 문제를 아래의 3가지 방법으로 딕셔너리를 각각 만들어 봅시다.\n",
        "- for와 if만 사용\n",
        "- count()를 사용\n",
        "- get() 사용"
      ]
    },
    {
      "cell_type": "code",
      "metadata": {
        "colab": {
          "base_uri": "https://localhost:8080/"
        },
        "id": "D68cgn9kb51Z",
        "outputId": "51ecd653-4a85-42a9-876f-3ba2e61953ed"
      },
      "source": [
        "# for , if 만 사용\n",
        "book_title = ['great', 'expectations', 'the', 'adventures', 'of', 'sherlock', 'holmes', 'the', 'great', 'gasby', 'hamlet', 'adventures', 'of', 'huckleberry', 'fin']\n",
        "dict_book = {}\n",
        "for i in book_title:\n",
        "    if i not in dict_book:\n",
        "        dict_book[i]=0\n",
        "    dict_book[i]+=1\n",
        "    \n",
        "    \n",
        "\n",
        "\n",
        "print(dict_book)"
      ],
      "execution_count": null,
      "outputs": [
        {
          "output_type": "stream",
          "text": [
            "{'great': 2, 'expectations': 1, 'the': 2, 'adventures': 2, 'of': 2, 'sherlock': 1, 'holmes': 1, 'gasby': 1, 'hamlet': 1, 'huckleberry': 1, 'fin': 1}\n"
          ],
          "name": "stdout"
        }
      ]
    },
    {
      "cell_type": "code",
      "metadata": {
        "colab": {
          "base_uri": "https://localhost:8080/"
        },
        "id": "dI1rMoRKcQGt",
        "outputId": "70c870a0-5ab1-4b6a-de9b-ff360888fbf5"
      },
      "source": [
        "# for문과 count 만 사용\n",
        "book_title = ['great', 'expectations', 'the', 'adventures', 'of', 'sherlock', 'holmes', 'the', 'great', 'gasby', 'hamlet', 'adventures', 'of', 'huckleberry', 'fin']\n",
        "dict_book2 = {}\n",
        "for i in book_title:\n",
        "    dict_book2[i]=book_title.count(i)\n",
        "\n",
        "\n",
        "print(dict_book2)"
      ],
      "execution_count": null,
      "outputs": [
        {
          "output_type": "stream",
          "text": [
            "{'great': 2, 'expectations': 1, 'the': 2, 'adventures': 2, 'of': 2, 'sherlock': 1, 'holmes': 1, 'gasby': 1, 'hamlet': 1, 'huckleberry': 1, 'fin': 1}\n"
          ],
          "name": "stdout"
        }
      ]
    },
    {
      "cell_type": "code",
      "metadata": {
        "colab": {
          "base_uri": "https://localhost:8080/"
        },
        "id": "fAwQbadMcUYa",
        "outputId": "be6c5d41-875e-4ca4-b4f4-300a6db7a798"
      },
      "source": [
        "# for문과 get()을 사용\n",
        "book_title = ['great', 'expectations', 'the', 'adventures', 'of', 'sherlock', 'holmes', 'the', 'great', 'gasby', 'hamlet', 'adventures', 'of', 'huckleberry', 'fin']\n",
        "dict_book3 = {}\n",
        "for i in book_title:\n",
        "    dict_book3[i]=dict_book3.get(i,0) + 1\n",
        "\n",
        "\n",
        "print(dict_book3)"
      ],
      "execution_count": null,
      "outputs": [
        {
          "output_type": "stream",
          "text": [
            "{'great': 2, 'expectations': 1, 'the': 2, 'adventures': 2, 'of': 2, 'sherlock': 1, 'holmes': 1, 'gasby': 1, 'hamlet': 1, 'huckleberry': 1, 'fin': 1}\n"
          ],
          "name": "stdout"
        }
      ]
    },
    {
      "cell_type": "markdown",
      "metadata": {
        "id": "cwDUaq8cce4w"
      },
      "source": [
        "## 조건문과 반복문, break를 활용하여 다음 headlines 리스트의 요소들을 130자 크기의 하나의 문자열로 이어 붙이는 코드를 작성하세요.\n",
        "```\n",
        "headlines = [\n",
        "  \"Local Bear Eaten by Man\",\n",
        "  \"Legislature Announces New Laws\",\n",
        "  \"Peasant Discovers Violence Inherent in System\",\n",
        "  \"Cat Rescues Fireman Stuck in Tree\",\n",
        "  \"Brave Knight Runs Away\",\n",
        "  \"Papperbok Review: Totally Triffic\"\n",
        "]\n",
        "```"
      ]
    },
    {
      "cell_type": "code",
      "metadata": {
        "id": "uepVak_wzaZo",
        "colab": {
          "base_uri": "https://localhost:8080/",
          "height": 35
        },
        "outputId": "ca923dfd-d3d0-465c-e87d-6fa8ad88406a"
      },
      "source": [
        "test = ['a','b','c']\n",
        "''.join(test)"
      ],
      "execution_count": null,
      "outputs": [
        {
          "output_type": "execute_result",
          "data": {
            "application/vnd.google.colaboratory.intrinsic+json": {
              "type": "string"
            },
            "text/plain": [
              "'abc'"
            ]
          },
          "metadata": {
            "tags": []
          },
          "execution_count": 33
        }
      ]
    },
    {
      "cell_type": "code",
      "metadata": {
        "colab": {
          "base_uri": "https://localhost:8080/"
        },
        "id": "EJUbK4QncVz6",
        "outputId": "756ad3f4-7468-48b3-ed81-86d90c34de78"
      },
      "source": [
        "'''\n",
        "각각의 문자열을 붙인다. 그리고 130개로 붙이면 된다.\n",
        "'''\n",
        "\n",
        "headlines = [\n",
        "  \"Local Bear Eaten by Man\",\n",
        "  \"Legislature Announces New Laws\",\n",
        "  \"Peasant Discovers Violence Inherent in System\",\n",
        "  \"Cat Rescues Fireman Stuck in Tree\",\n",
        "  \"Brave Knight Runs Away\",\n",
        "  \"Papperbok Review: Totally Triffic\"\n",
        "]\n",
        "result = ' '.join(headlines)\n",
        "\n",
        "\n",
        "\n",
        "print(result)\n",
        "print(len(result))"
      ],
      "execution_count": null,
      "outputs": [
        {
          "output_type": "stream",
          "text": [
            "Local Bear Eaten by Man Legislature Announces New Laws Peasant Discovers Violence Inherent in System Cat Rescues Fireman Stuck in Tree Brave Knight Runs Away Papperbok Review: Totally Triffic\n",
            "191\n"
          ],
          "name": "stdout"
        }
      ]
    },
    {
      "cell_type": "markdown",
      "metadata": {
        "id": "hSn36Q3wdF0h"
      },
      "source": [
        "## 가로세로 높이가 같은 상자들이 쌓여있는 방이 있다. 방이 오른쪽으로 90도 회전하여 상자들이 중력의 영향을 받아 낙하한다고 할 때, 낙차가 가장 큰 상자를 구하여 낙차를 리턴하자.\n",
        "- 중력은 회전이 완료된 후에 적용된다.\n",
        "- 상자들은 모두 한쪽 변면에 붙여진 상태로 쌓여 2차원의 형태를 이루며 벽에서 떨어져서 쌓인 상자는 없다.(일직선으로 떨어진다.)\n",
        "- 방의 가로길이와 세로길이는 9이다.\n",
        "- 상자의 길이는 사로세로 1이다\n",
        "- 입력값의 인덱스가 상자가 쌓여진 높이이다.\n",
        "- 입력값 : [7, 4, 2, 0, 0, 6, 0, 7, 0]\n",
        "- 출력값 : 7"
      ]
    },
    {
      "cell_type": "code",
      "metadata": {
        "colab": {
          "base_uri": "https://localhost:8080/"
        },
        "id": "yJJ25H2IDZmS",
        "outputId": "542dc6ce-7f82-4ac1-f700-655a2b657f8d"
      },
      "source": [
        "for i in range(5):\n",
        "    for j in range(3):\n",
        "        print(i)\n",
        "        i += 1"
      ],
      "execution_count": null,
      "outputs": [
        {
          "output_type": "stream",
          "text": [
            "0\n",
            "1\n",
            "2\n",
            "1\n",
            "2\n",
            "3\n",
            "2\n",
            "3\n",
            "4\n",
            "3\n",
            "4\n",
            "5\n",
            "4\n",
            "5\n",
            "6\n"
          ],
          "name": "stdout"
        }
      ]
    },
    {
      "cell_type": "code",
      "metadata": {
        "colab": {
          "base_uri": "https://localhost:8080/"
        },
        "id": "J3y1Oj7SchHj",
        "outputId": "06bdaf46-2068-4735-8da9-eedc4c819ae7"
      },
      "source": [
        "room = [[0 for x in range(9)] for y in range(9)]\n",
        "array = list(map(int,input().split()))\n",
        "floor = 0\n",
        "count = 0\n",
        "for i in array:    \n",
        "    for j in range(i):\n",
        "        room[count][j] = 1\n",
        "    count +=1\n",
        "\n",
        "result = []\n",
        "\n",
        "for i in range(9):\n",
        "    for j in range(9):\n",
        "        if room[j][i]==1:\n",
        "            value = 0\n",
        "            while j<8:\n",
        "                j+=1\n",
        "                if room[j][i]==0:\n",
        "                    value+=1\n",
        "            result.append(value)\n",
        "            break\n",
        "\n",
        "max(result)\n",
        "\n",
        "\n",
        "            \n",
        "\n",
        "\n",
        "\n",
        "\n",
        "\n"
      ],
      "execution_count": null,
      "outputs": [
        {
          "output_type": "stream",
          "text": [
            "7 4 2 0 0 6 0 7 0\n"
          ],
          "name": "stdout"
        },
        {
          "output_type": "execute_result",
          "data": {
            "text/plain": [
              "7"
            ]
          },
          "metadata": {
            "tags": []
          },
          "execution_count": 43
        }
      ]
    },
    {
      "cell_type": "code",
      "metadata": {
        "id": "IwJ8-o1q7Wm0",
        "colab": {
          "base_uri": "https://localhost:8080/"
        },
        "outputId": "6bbd6e82-96c1-45ee-c041-571e32267c7b"
      },
      "source": [
        "room"
      ],
      "execution_count": null,
      "outputs": [
        {
          "output_type": "execute_result",
          "data": {
            "text/plain": [
              "[[1, 1, 1, 1, 1, 1, 1, 0, 0],\n",
              " [1, 1, 1, 1, 0, 0, 0, 0, 0],\n",
              " [1, 1, 0, 0, 0, 0, 0, 0, 0],\n",
              " [0, 0, 0, 0, 0, 0, 0, 0, 0],\n",
              " [0, 0, 0, 0, 0, 0, 0, 0, 0],\n",
              " [1, 1, 1, 1, 1, 1, 0, 0, 0],\n",
              " [0, 0, 0, 0, 0, 0, 0, 0, 0],\n",
              " [1, 1, 1, 1, 1, 1, 1, 0, 0],\n",
              " [0, 0, 0, 0, 0, 0, 0, 0, 0]]"
            ]
          },
          "metadata": {
            "tags": []
          },
          "execution_count": 44
        }
      ]
    },
    {
      "cell_type": "code",
      "metadata": {
        "id": "E0tYd5ioX_0t"
      },
      "source": [
        ""
      ],
      "execution_count": null,
      "outputs": []
    }
  ]
}