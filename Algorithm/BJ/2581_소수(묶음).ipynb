{
  "nbformat": 4,
  "nbformat_minor": 0,
  "metadata": {
    "colab": {
      "provenance": [],
      "include_colab_link": true
    },
    "kernelspec": {
      "name": "python3",
      "display_name": "Python 3"
    },
    "language_info": {
      "name": "python"
    }
  },
  "cells": [
    {
      "cell_type": "markdown",
      "metadata": {
        "id": "view-in-github",
        "colab_type": "text"
      },
      "source": [
        "<a href=\"https://colab.research.google.com/github/hdpark1208/StudyCode/blob/main/Algorithm/BJ/2581_%EC%86%8C%EC%88%98(%EB%AC%B6%EC%9D%8C).ipynb\" target=\"_parent\"><img src=\"https://colab.research.google.com/assets/colab-badge.svg\" alt=\"Open In Colab\"/></a>"
      ]
    },
    {
      "cell_type": "markdown",
      "metadata": {
        "id": "Yh4kWp1luxrW"
      },
      "source": [
        "# 소수"
      ]
    },
    {
      "cell_type": "markdown",
      "metadata": {
        "id": "Xg2dbbF7u2R8"
      },
      "source": [
        "소수 관련 간단한 여러 문제들\n",
        "\n",
        "자연수 M과 N이 주어질 때 M이상 N이하의 자연수 중 소수인 것을 모두 골라 이들 소수의 합과 최솟값을 찾는 프로그램을 작성하시오.\n",
        "\n",
        "예를 들어 M=60, N=100인 경우 60이상 100이하의 자연수 중 소수는 61, 67, 71, 73, 79, 83, 89, 97 총 8개가 있으므로, 이들 소수의 합은 620이고, 최솟값은 61이 된다."
      ]
    },
    {
      "cell_type": "markdown",
      "metadata": {
        "id": "LqXcSRcPu8kj"
      },
      "source": [
        "## 입력 출력 및 예제\n"
      ]
    },
    {
      "cell_type": "markdown",
      "metadata": {
        "id": "rFCkhMXFvDp0"
      },
      "source": [
        "* 입력"
      ]
    },
    {
      "cell_type": "markdown",
      "metadata": {
        "id": "XwU2sme_3t7A"
      },
      "source": [
        "입력의 첫째 줄에 M이, 둘째 줄에 N이 주어진다.\n",
        "\n",
        "M과 N은 10,000이하의 자연수이며, M은 N보다 작거나 같다."
      ]
    },
    {
      "cell_type": "markdown",
      "metadata": {
        "id": "Ar1hCLVxwiDl"
      },
      "source": [
        "* 출력"
      ]
    },
    {
      "cell_type": "markdown",
      "metadata": {
        "id": "VaXKN9fc3uUv"
      },
      "source": [
        "M이상 N이하의 자연수 중 소수인 것을 모두 찾아 첫째 줄에 그 합을, 둘째 줄에 그 중 최솟값을 출력한다.\n",
        "\n",
        "단, M이상 N이하의 자연수 중 소수가 없을 경우는 첫째 줄에 -1을 출력한다."
      ]
    },
    {
      "cell_type": "markdown",
      "metadata": {
        "id": "8tmCzTFmwwmN"
      },
      "source": [
        "* 예제"
      ]
    },
    {
      "cell_type": "markdown",
      "metadata": {
        "id": "ZuKUpEvu3uuv"
      },
      "source": [
        "![image.png](data:image/png;base64,iVBORw0KGgoAAAANSUhEUgAABIUAAAFFCAYAAABynF2+AAAAAXNSR0IArs4c6QAAAARnQU1BAACxjwv8YQUAAAAJcEhZcwAADsMAAA7DAcdvqGQAADWiSURBVHhe7d0PVFV1ovbxx7tCXwmkwH9ogfMqrRIdLuZctYU2prc75azRNYWNlWVmM1qjjKENehNntNR7hQqam7qyxsrRm9g7uuaqN1+tdcE3oUxeSp1G9CqkHlIOhQcpoPX67n3OBg9/jhzk8Oe4v581P87Z+2wOSLPWedazf/u3e1w2CAAAAAAAALbyd9YjAAAAAAAAbIRSCAAAAAAAwIYohQAAAAAAAGyIUggAAAAAAMCGKIUAAAAAAABsiFIIAAAAAADAhiiFAAAAAAAAbKgTSqE6Xaqs1KU6a7PdPO/3TXXA3rBFtdXGzzB+Tq213W511e73C9zfAQAABLfunJE6J2+5kZEAAOgygS+Fyj/QipQ0rfiwzLPt2KX0lCVK32ttt1mRNhrvN3fNB7pgbb9hvN+8lbt01r3dNvVlzzeV1VctfIreMn5GylrtcVg72uvzN433a8/fAQAABLVunpEaC+R7tYKMBABAl2l7KVR5SkV7t2jjrjwdK2/hlE7dRVVWGqPa2m63OlWb72eMa5+1U6fTB/6g1Kee1uNPm2WPORbp8afStHrXUX1jHeUXxw6lznpaM64yUncRagAAsJ1gzEh1X6qo4KA+ajaOeYqm6jM+Xi/S2ab/RDISAABBp8dlg/W8VZcOr1dq9meqtLalGxT78GKtufdWa9tgBoIle6XkdGVOGdh8261M+9a8ou2tzMIZPWeN5ow8pOxZb+pg9L3KWD1Ng9V0uzXV+mTdMr1U8K0UMUQ/Sx6vhL599E15sQ7u+kCHHN8rdMxsZc8brRut7zB9su5p43si9YvVL2hqtLXTZIanw2d0ydps5OSHenXvGQ1y/1ujdMlIfQ15yTwLtrHYeq3+7+CvSh3btUGZOadVbfyuW43fFQAAdB/BmZEM1u9wztr0HxkJAIDrgf8zhSo/0Boz7ITGae6K1VqX8Yzui/leJVte0cYvrGP81lv9hg5Rwsj6EakQ80xXXW/FNewboiER1uHtcXK71puFUIwRkLKe04ykcRp+e7zuSpqm1NVr9OyY3qoueFPZBX6etgu5VQljxumulsbtfayDDNaUcM+sJGMYYeda1JYfVPaiJVpphh1rHwAA6EaCNSOZoqcpc9Nr2tp0pN2pUPcBt2hmVguvb2pSCJnISAAABB2/S6HTe/fqhProvrSFujsmQjf1jddjaTP0Q32r/Tlbrkwn/tzHGaJGIpSQPFfz5tSPexTn3p2gXzTsm6vJMe6D2+Xs4eNGULhBkx5u6YxZqH40bbwGGc8+O3zMsytQoqdoRZYRDOvHHPe/sA2qVZzze81Z9I4OVg/RL9IeFOe+AADofoI1I/lUnqfV2Z+qOrS38duc0TuZW3TsyhSo9iMjAQDQbfhZCn2pg4cvGh/id2qSdwgJHa/Jo4zHkwf06rp3PGPLMa+p013vXHmF8bWP+vk6oxZ9i2LNx8qLfgQ1k7WoY0tj43HrGFOIbowwgmH9CA2x9vsrVKHG9/RLmqnsrOc09fY+xju2w3cXVeHzth7fqqqVhbebOpF7RK8fMf4/AQCArQVvRmqsTpdKD2ln9vN6bNFWfaYhenJZpjLT7lTf0gNamZKqZW/lqbiltZIakJFMZCQAQDDxsxT6ShfMa9tjbms222bQ0Ejja6TuW2ad7VmW5J55010MGTrA+FqhYyd9TCw+eUzmHKHQ6AGN1hTyzVrUMSTSa2q3NUYN14SkH2p0TG/3ce5budaPa7il6+ApS5U5Z5z6tSvpeJTmnVDyf/hYoOBcqX79+n/rY2uzke/K9fGnZcZfsLEyx7f6P462/5sAALi+BG9GUt1x7c78veampOqxWSmak/6m/v3z73XHlNnusmVytHTj7U/q1azFmpvURyUfblX6ohTNeCrV+J7nteytQ01u1kFGMpGRAADBxL9SyHFGJcbDoBizYGlscLS5IGCF8aFef7bHcwV6m1jvL0eZyt2PO7zuXvGmDpr7rlG/MeM1zHj8bMsG/VfTs1uVRVq3Ll+V6qO7J8ZbO/009B6vqd2Nx4yREQG7Xj6gvjyvB1891Hy8d1FfWoc0U+HUax+Wu4szAADQRBBnJIXcpsFGZIkdGaf7Hv6VVmRk6K3X12hJ8ujGZUvED3T3nOV6e1OWspf9SnOnJShhaKhuGvoD3WQd0ggZCQCAoOH/QtMdqPbkKeuuF2d02jxR0/dOPTZvpua7x1h3qXPNIu5R2oIfKqK6WOsXperJ9Je1buN6Za5M02MpG5Rb3lt3PP6MHgv0tfmN/g3GuPcW64UudGt/bZ8/uvl4oI+87o0CAAC6iY7LSE4VFxzUpZH36u6RCYqNqNaFk0U6VL/+UYvjkIrLqxXSN04JYyZqXMhxffT5l22/HT4ZCQCAbsO/UijE/T/patN72zF9t+jzYimijyJUodzDZcZ7ed+9Yrj6WcddqxtHzdX6rGc0M2mgbqo8o4MHPlNRuTRo1L16NmON0idew8d9+bEWwtJB7c5Zr3XZq5S6paLxHTi877rRVS5V68NPTzcfX9SqyjqkmZrLvl8DAMDugjYjndKe+rWO2jO2fKoL1js2ICMBABA0/CuF+t7ivgb+nOOMZ9vL2ZNGQFEf1TmsD32/7qzhpe6g9hVIoaOm6sGhxs/YtatjpuFGxOv+OUuVmZWptze9prez1mjNgmn6Ud+Wk1q/23+oCUkJGuJrpvfJ/BbD0Tu7PtPBkxd1qa6u7WfOOtDA+H56PuF/WFt1+vCjC3rPc+rR+NuE65mJfTXc2vRW8WWNvtZ3Kjpl7fBSVVHhDkwfn/vW2gMAgM0EbUYarQXNbjPvPWZrnHlY9L3KaPF1a6xu4e6uZCQyEgAgaPh5+VichhthRCdP6bRnh6VSf/3CXF7vog5tsT7023hnjdM5O/WZEZgmTxynCVOGK7T6U72R4/Pq7Xb55vMcrduYoyI/fsGb+kZZz5pK0JPet1G1xsbXrwQks3BaP2e0elrf0R30HHSrJt45xBqRuqOXNODW+m1zDJS5HGZjlfrwRJ2G9vk7vf9p8/8mtZXf6eNTVSqqYDFFAIBdBX9Gqq32WvS5YXxrFVjVqm72mjFanBlFRqpHRgIABAs/S6EIjR5zi/H5l6/3DnvdxcuxV3tOSqFjZl/58G/LnTVKtyhz70Vp5BT9LMb4UB71oB4wHs/tekXZ3j8nQC6VFin3QJFO+/HWvo9tchtVa9zY2tTwUb92h6HMKeaik52pVCszPtGkRuOU3qvpoaK85gsqPpv7tfV9UtX/LdVb34XpuUdu0vDTF/T6ue+tVzwifzBIv31whJ4a0Q2mfQMA0CWCPSOVac9Kr0WfG4Z5W3qD40DjRaHrx1tF7u9ujIxUj4wEAAgWPS4brOdXV1ek7JQNOljdR6OTp2hcxJfat+WA/lo9QDNXL9f90dZx5l0xluyVktM9H+5Nty21pTuUvnKvSupu0ZNZSzU5wnrBOD7NOL5EvTV6zmLNTzqj9ebdNczpy+4pyoeU3Wjbf2d3Pa9FOdJ9yxbrZ32tnT5c2LVW6cav/YvVL2hq/b+tkTLtW/OKtvu4g6kvg6b9RukTryX0WP9uI1xunTfa2tdxar/8m379rkt3/PTvtfD2G1SRW6TkT6WnHxyuB24N0YF3P9HGyP+pTf/oa0YVAAA2EeQZyZwp5Pdd4ct3aeXKAzp31TxCRiIjAQCChf93HwtJ0IJlD+qOiIs6lLNVr240wk5dpCalLb4SdvxV+YHWuMNOb41b8JsrYccUPU1rVhs/J/RbXais64DpxRU+zog1Hul7zSnfV9Nb/YYOUcJIP4fxN6qsvKjKwE+A8svHO5qf8Wo8julj69jaL45plhF2wv5hiDvsmCInDNeGEf9Pr2//mz5ufDIMAAB7C/KM1DO0+ewen8Ov2+qTkQAACBb+zxRqUKdLpcdVolsUG93ClGA/z4JdOrxD+yLu1dShPsKFuQhhSIgReJqe9WrvTKHvNfrhqRrnHbJa8E3BTr1z+IarzBRqo8N/0IzsYxrU5O/gvw48C3bub5q1pU5zFo1QkntHlSqcvRQZ1dJ8bzPt3MBZMAAAmgnGjFSmnUtW6N/bOKtHgcwjZCQAALqM/zOFGoToxph4DY/x4xrxq7hx1DTfYcfkDjsd4QYNG+l1G1QfI2Go5+yPPYX5CDsmO/9dAAC4mmDOSHGaW7/2kT/j8QTr++yGjAQAuL5cQykEAACA60uIQlu6XMzXCG1H6wUAALqNa7h8rBXlH2jFyr1S/WKBPqZG+++U9m18X8UR4zQjOUE3tfvysdbWCvIW2Y0uHwMAAEGtW2aka7x8jIwEAMB1IfClUFNmAMrM15CHn9FjI1tZyMcvRdqYslWHjMCzMu0e9bP2+qPWUaRDpW1ZxTBUsaMSNDgQJ8M+f1tzNxqB55rvrAEAAK4r3SIjVaooZ6s+qrQ2/Ralu5KTlRCIX5uMBABAl+n4UggAAAAAAADdDmsKAQAAAAAA2BClEAAAAAAAgA1RCgEAAAAAANgQpRAAAAAAAIANUQoBAAAAAADYEKUQAAAAAACADVEKAQAAAAAA2BClEAAAAAAAgA1RCgEAAAAAANgQpRAAAAAAAIAN9bhssJ771OO3/2U9A3w7k/r3Gtw/QmfPV/LII4888shjpz92BTIS/EFG4pFHHnnksSsfr4ZSCAFz+V/utp4BAGAPZCT4g4wEAOiu/CqFAAAAAAAAcH1hTSEAAAAAAAAbohQCAAAAAACwIUohAAAAAAAAG6IUAgAAAAAAsCFKIQAAAAAAABuiFAIAAAAAALAhSiEAAAAAAAAbohQCAAAAAACwIUohAAAAAAAAG6IUAgAAAAAAsCFKIQAAAAAAABuiFAIAAAAAALAhSiEAAAAAAAAbohQCAAAAAACwIUohAAAAAAAAG6IUAgAAAAAAsCFKIQAAAAAAABuiFAIAAAAAALAhSiEAAAAAAAAbohQCAAAAAACwIUohAAAAAAAAG6IUAgAAAAAAsCFKIQAAAAAAABvqcdlgPfeptPQr6xkAAED3ExMzwHrWuchIAACgO2stI/ldCvXvf7O1BQAA0H2cP/91l5ZCZCQAANAd+ZORuHwMAAAAAADAhiiFAAAAAAAAbIhSCAAAAAAAwIYohQAAAAAAAGyIUggAAAAAAMCGKIUAAAAAAABsiFIIAAAAAADAhiiFAAAAAAAAbIhSCAAAAAAAwIYohQAAAAAAAGyIUggAAAAAAMCGKIUAAAAAAABsiFIIAAAAAADAhiiFAAAAAAAAbKjHZYP13KfS0q/Uv//N1lbrapzHtX/bNhWUuqSwaMVPekhTx0arl/V6gxqH8ne+qz15xaodGK/x02fq/rhw60UAAIDWnT//tWJiBlhbnatjMlKNHPk7tG3/UZVVGYcZGWnS9GkaG90sSbnVOPK1c9tu5Z2o0cDhEzT90SkiTgEAAH8yUsBnCrlyX1Dy1FnK2O8wUky4etYWa9vSBzT1xXwj4nhx5Wt58gNatLlYPcdPUExVrjKe+CfN2lZiHQAAAHD98Csj1ZRo2y//SclL/6wy9VRYWE9VFb6hRUZmWp7vsg66wpWfruTkZ7X5RE+NHx+rqry1euK+x0WcAgAA/gjsTCHHu5qVnCXN3aoNj8ZeOevlcsihaEU3nLWqUe6SiVrqmKc/bZqpWGuvK9cINktLNDvnLU2PtnYCAABcRVDMFPI3I7lytXaVQ9N/95Birxyk3OUPaGnBZG34z+cUb+1VTa6WTEqTw3jPTcZ7eljHljypnE0PGe8MAADsqtNnChVufkMnhqVotXfYMYV7F0IGI8TsyZPGz57eUAiZwic8qqkDi7U7z2HtAQAACH5+Z6TwCVq82rsQMoVrwn1jpaoSlTitXYaavF3K03jNTm6UpjTh0WkaeGK3iFMAAKA1ASyFjiu/oErD7p/Q+lmpE4UqVKLGxzdKPIbblBhvvnyk8aVmAAAAQasNGckHZ4XZBkUrMsqzbTpRWCglTlCzOBU3SvEqVuFR0hQAALi6AJZCZSork2JjIuXI/Vf98ic/VlLSXUq65+ean5UrrxNbkqtKVYryBJujr+lnxnH3LM91F0Gx8XGSo0IV7gMBAACCXRsyUouOa9ubhYqcOk1jrT0mV1WVzDDljlPrfmq854+1PNedphQ/zIxTpCkAAHB1gSuFHA6ZaxoWrpqh1IJ4Lf7jX7Rnz/vKyZwsV06anlh7xHNcUy5PAVRb4ZIRbQAAAK4v15qR3GpUuPZZ/al2spbOHWHta87lLoBqVWEWRQAAAH4KXCkUGemeEh05/WVtWTxFcdHhCg8PV3Ti08pcFK+KnTuU7zmyQa35Zezz2r/HCEcZU9xnuipKuAAeAABcR64hI9Ur2fZLzd8ZpQWvrtDYFm8z705TGvvPH2rPzveVcb+ZppwqKXPvBgAAuKrAlUK9ohUZJoWbX5qIGmhGoWKV1vc9sfEapiM6WuzZ7BUepXD39fBGiCmtkuJir/maewAAgG6lLRnJS8m2p/REdo2mvvoHTfdeS9rivuT+6BHju029FB4V7lnE2lkid5yKIU0BAICrC+CaQiM0eVKYCnc0vzbeWWYmnTg1ZJPoRI0ZWKb9+45bOyzOXO0olCZN8r5iHgAAIJi1ISO5uXR03eN6JLtWyRte1+LEFqcIGXFqjAaW7dM+6yRbPWfeDhVqsohTAACgNQEshaTE2SlKPLZWqesOy2nd8MJ19DWlZhzVsAUzvRZHvE2PLpisqj89q+W5Ts+dxlxHtC51rY4NS9FcQgwAALiO+J+RXMp9cYZ+9acaTc1Yo+kDa+V0Oq8Ml/XNpriZWjCpSn9KTVeu9aZX3nNeo0WpAQAAWtLjssF67lNp6Vfq3/9ma+vqakr+rN+lZimvzHONuxSmxEde0qp5I9T0PFfJ7oWav6qg4U5jPWOmK3PDb+TjhBgAAEAz589/rZiYAdZW5wp4RspPV9KifdZGCya9pAO/9657SrQ79RmtKmhIU4pJfkkbUkY1y10AAMBe/MlIAS+F6tW4nKoyMk/PsPr1gnypkctZpdqeYYq6+oEAAADNBEspVM//jNQGNS45jTcN6HsCAICg5k9GCujlY97MxaOjovwJJubCiMaxJBgAAGAD/mekNugVHvj3BAAA170OK4UAAAAAAADQfVEKAQAAAAAA2BClEAAAAAAAgA1RCgEAAAAAANgQpRAAAAAAAIANUQoBAAAAAADYEKUQAAAAAACADVEKAQAAAAAA2BClEAAAAAAAgA1RCgEAAAAAANgQpRAAAAAAAIAN9bhssJ77VFr6lfr3v9na8keNnMWFOuqIVPyE2xRl7W2mxqH8ne9qT16xagfGa/z0mbo/Ltx6sbEaR752btutvBM1Gjh8gqY/OkU+DgUAADZy/vzXiokZYG11rrZmpBrnce3ftk0FpS4pLFrxkx7S1LHR6mW93liNSgoLVKJYjUmM9XEMAABAy/zJSAGeKXRcm3/5c/3knoma+sSzWrp0s4qtV5px5Wt58gNatLlYPcdPUExVrjKe+CfN2lZiHXCFKz9dycnPavOJnho/PlZVeWv1xH2Pq4VDAQAAuiVX7gtKnjpLGfsdUli4etYWa9vSBzT1xXzVWMe4OXP14sM/1U+SJuqR+WlampWvCuslAACAQArwTCGninOPyog6qtj/ihF6RijjwAqN9bzopUa5SyZqqWOe/rRppmKtva7cdCUvLdHsnLc0PdraWZOrJZPS5Ji7VZsebThSucsf0NKSJ5Wz6SHVHwoAAOwnKGYKOd7VrOQsycgzG4w80zDrx+UwclO0or1nP9eUqLCgxEg7UuHmNOXUppB3AABAm3XBTKEoxU2YoAnGGBN/lWu7anK1J08aP3t6QyFkCp/wqKYOLNbuPLNW8qjJ26U8jdfs5EZHasKj0zTwxG55HQoAANAtFW5+QyeGpWi1dyFkCm9SCJl6xSqxPk/RBAEAgA7UNQtNnyhUoRI1Pr7p1fG3KTHefPlIwzTqE4WFMpKRmh0aN0rxKlbh0UYTrgEAALqZ48ovqNKw+ycw2wcAAHQrXVMKuapUpShFmitQH31NP0u6S/csz3UXQbHxcZKjouHaeVdVlcwD3Yeu+6mSkn6s5bnuIxU/zDyUq+wBAEB3VqayMiO5xETKkfuv+uVPfmzkmbuUdM/PNT8rV07rKAAAgM7W9bekd3kKoNoKl6o8e3xyuQugWlWYRREAAEAwcDhk3hujcNUMpRbEa/Ef/6I9e95XTuZkuXLS9MTaI57jAAAAOlmXlkK15pexz2v/HiMcZUxxzwaqKGlpkSD3kRr7zx9qz873lXG/eaRTJWXu3QAAAN1XZKT7srHI6S9ry+IpiosOV3h4uKITn1bmonhV7NyhfM+RAAAAnaprSqHYeA3TER217lffKzxK4e41g5wqKa2S4mIbrrl3X0529Ih1a/teCo8K9yzQ6CyR+9AYrs4HAADdWK9oRYZJ4eaXJqIGmjmmWKXcOAMAAHSBrimFohM1ZmCZ9u87bu2wOHO1o1CaNOnKTeyjE8doYNk+7bMKpHrOvB0q1GR5HQoAANANjdDkSWEq3NF8/SBnmdkGxYlzXAAAoCsEtBSqcTnldHpGhdNcDLpGVda20+lquKOYeZexRxdMVtWfntXyXKdnv+uI1qWu1bFhKZrrXfTEzdSCSVX6U2q6ct3vaRx69DWlZhzVsAXzRCcEAAC6u8TZKUo8tlap6w7LijNeeWamV56pkashOzlVZV5BX2vmKmuf60qaAgAAaK8elw3Wc59KS79S//43W1u+OLRt1gPKPmFtNjNZGQdWNCpxSnYv1PxVBQ13GusZM12ZG36jxHBrR4MS7U59RqsKGo5UTPJL2pAySs0OBQAAtnL+/NeKiRlgbXUu/zKSR03Jn/W71CzllXnWSpTClPjIS1o1b4RXnsnX8qRntd/aamZYinI2PcSt7QEAQKv8yUgBLIWulXlGrEq1PcMU5VlYyLcal5xVteoZVr8GEQAAsLtgKYXqmTOrzRlA5BkAANCR/MlIXX9Levfi0VGtF0KmXuGKMo4lQAEAgGBl3mCDPAMAALqDblAKAQAAAAAAoLNRCgEAAAAAANgQpRAAAAAAAIANUQoBAAAAAADYEKUQAAAAAACADVEKAQAAAAAA2BClEAAAAAAAgA1RCgEAAAAAANgQpRAAAAAAAIANUQoBAAAAAADYEKUQAAAAAACADVEKAQAAAAAA2BClEAAAAAAAgA31uGywnvtUWvqVBg/ua20BAAB0H2fPlismZoC11bnISAAAoLvyJyMxUwgAAAAAAMCGKIUAAAAAAABsKKCl0Msvv2w9AwAAuHbXW6YgIwEAgEAIdKYIWClE2AEAAIF0vWQLMhIAAAikQGaLgJRChB0AANARgj1jkJEAAEBHCFTGaHcpRNgBAAAdKVizBhkJAAB0pEBkjXaVQoQdAADQGYItc5CRAABAZ2hv5mhXKbRw4ULrGQAAQMcJtsxBRgIAAJ2hvZmj3ZePEXoAAEBHCtasQUYCAAAdKRBZIyALTRN6AABARwj2jEFGAgAAHSFQGSMgpZCJ0AMAAALpeskWZCQAABBIgcwWPS4brOc+lZZ+pcGD+1pbAAAA3cfZs+WKiRlgbXUuMhIAAOiu/MlIAZspBAAAAAAAgOBBKQQAAAAAAGBDfl8+BgAA0F115eVjAAAA3VVrGcmvUggAAAAAAADXFy4fAwAAAAAAsCFKIQAAAAAAABuiFAIAAAAAALAhSiEAAAAAAAAbohQCAAAAAACwIUohAAAAAAAAG6IUAgAAAAAAsCFKIQAAAAAAABuiFAIAAAAAALAhSiEAAAAAAAAbohQCAAAAAACwIUohAAAAAAAAG6IUAgAAAAAAsCFKIQAAAAAAABuiFAIAAAAAALAhSiEAAAAAAAAbohQCAAAAAACwIUohAAAAAAAAG6IUAgAAAAAAsCFKIQAAAAAAABuiFAIAAAAAALAhSiEAAAAAAAAbohQCAAAAAACwIUohAAAAAAAAG6IUAgAAAAAAsKFOKIXqdKmyUpfqrM1287zfN9UBe8MW1VYbP8P4ObXWdrvVVbvfL3B/BwAAENy6c0bqnLzlRkYCAKDLBL4UKv9AK1LStOLDMs+2Y5fSU5Yofa+13WZF2mi839w1H+iCtf2G8X7zVu7SWfd229SXPd9UVl+18Cl6y/gZKWu1x2HtaK/P3zTerz1/BwAAENS6eUZqLJDv1QoyEgAAXabtpVDlKRXt3aKNu/J0rLyFUzp1F1VZaYxqa7vd6lRtvp8xrn3WTp1OH/iDUp96Wo8/bZY95likx59K0+pdR/WNdZRfHDuUOutpzbjKSN1FqAEAwHaCMSPVfamigoP6qNk45imaqs/4eL1IZ5v+E8lIAAAEnR6XDdbzVl06vF6p2Z+p0tqWblDsw4u15t5brW2DGQiW7JWS05U5ZWDzbbcy7Vvzira3Mgtn9Jw1mjPykLJnvamD0fcqY/U0DVbT7dZU65N1y/RSwbdSxBD9LHm8Evr20TflxTq46wMdcnyv0DGzlT1vtG60vsP0ybqnje+J1C9Wv6Cp0dZOkxmeDp/RJWuzkZMf6tW9ZzTI/W+N0iUj9TXkJfMs2MZi67X6v0Mr6sr0yd7tem/vcZVUfu/eFRIxQAlTHtST98brJvceAADQ1YIzIxms3+Gctek/MhIAANcD/2cKVX6gNWbYCY3T3BWrtS7jGd0X871KtryijV9Yx/itt/oNHaKEkfUjUiHmma663opr2DdEQyKsw9vj5HatNwuhGCMgZT2nGUnjNPz2eN2VNE2pq9fo2TG9VV3wprIL/DxtF3KrEsaM010tjdv7WAcZrCnhnllJxjDCTltc+uJtpT69Qi/lHNO50B9oQtIPjTFcsSFOHdryb5qXvqPjp3MDAIDWBWtGMkVPU+am17S16Ui7U6HuA27RzKwWXt/UpBAykZEAAAg6fpdCp/fu1Qn10X1pC3V3TIRu6huvx9Jm6If6VvtztlyZTvy5jzNEjUQoIXmu5s2pH/cozr07Qb9o2DdXk2PcB7fL2cPHVa0bNOnhls6YhepH08ZrkPHss8PHPLsCJXqKVmQZwbB+zHH/C/12Y0QfhfT9oeZnZOnt1Qutv8mvtTLDU2SpdK/eOHDlfCQAAOgawZqRfCrP0+rsT1Ud2tv4bc7oncwtOhbIyEFGAgCg2/CzFPpSBw9fND7E79Qk7xASOl6TRxmPJw/o1XXveMaWY15Tp7veufIK42sf9fN1Ri36FsWaj5UX/QhqJmtRx5bGxuPWMaYQI7QYwbB+hIZY+/0UPU1rVs/VXX2bfp9ZZI11F1l//bwNZ9a+u6gKn7f1+FZVrSy83dSJ3CN6/Yjx/wkAAGwteDNSY3W6VHpIO7Of12OLtuozDdGTyzKVmXan+pYe0MqUVC17K0/FLa2V1ICMZCIjAQCCiZ+l0Fe6YF7bHnNbs9k2g4ZGGl8jdd8y62zPsiT3h3F3MWToAONrhY6d9HF52MljMucIhUYPaLSmkG/Woo4hkV5Tu60xarh7CvPomN7u49y3cq0fAb2laxvDk6E074SS/8PHAgXnSvXr1/9bH1ubjXxXro8/LTP+go2VOb7V/3EE8t8EAEAwCt6MpLrj2p35e81NSdVjs1I0J/1N/fvn3+uOKbOVnfWcJkdLN97+pF7NWqy5SX1U8uFWpS9K0YynUo3veV7L3jrU5GYdZCQTGQkAEEz8K4UcZ1RiPAyKMQuWxgZHmwsCVhgf6vVnezxXoLeJ9f5ylKnc/bjD6+4Vb+qgue8a9RszXsOMx8+2bNB/NT27VVmkdevyVak+untivLXTT0PvaZjC3XTMGBnR7uvlr6rS6Q5hoaFmsGqDL8/rwVcPNR/vXdSX1iHNVDj12ofl7uIMAAA0EcQZSSG3abARWWJHxum+h3+lFRkZeuv1NVqSPFr9vLuViB/o7jnL9famLGUv+5XmTktQwtBQ3TT0By0v6ExGAgAgaPi/0HQHqj15yrrrxRmdNk/U9L1Tj82bqfnuMdZd6lyziHuUtuCHiqgu1vpFqXoy/WWt27hemSvT9FjKBuWW99Ydjz+jxwJ9bX6jf4Mx7r3FeqH9jh0oUrX6aHJbi6xb+2v7/NHNxwN95HVvFAAA0E10XEZyqrjgoC6NvFd3j0xQbES1Lpws0qH69Y9aHIdUXF6tkL5xShgzUeNCjuujz79s++3wyUgAAHQb/pVCIdZk3KtN7237bN0GReZ13xF9FKEK5R4uM97L++4Vw9XPOu5a3ThqrtZnPaOZSQN1U+UZHTzwmYrKpUGj7tWzGWuUPvEaPu7Lj7UQlg5qd856rctepdQtFY3vwOF91432+OINZR74XqGjpupnbS2yLlXrw09PNx9f1KrKOqSZmsu+XwMAwO6CNiOd0p76tY7aM7Z8qgvWOzYgIwEAEDT8K4X63uK+Bv6c44xn28vZk0ZAUR/VOawPfb/urOGl7qD2Fcj9Af7gUONn7NrVMdNwI+J1/5ylyszK1NubXtPbWWu0ZsE0/ajZIoUe/W43b2+aoCG+ZnqfzG8xHL2z6zMdPHlRl+rq2n7mrDWOD7TCfTeQ4Zo7Z5yfayB5DIzvp+cT/oe1VacPP7qg9zynHo2/TbiemdhXw61NbxVf1uhrfaeiU9YOL1UVFe7A9PG5b609AADYTNBmpNFa0Ow2895jtsaZh0Xfq4wWX7fG6hbu7kpGIiMBAIKGn5ePxWm4EUZ08pROe3ZYKvXXL8zl9S7q0BbrQ7+Nd9Y4nbNTn7mn+Y7ThCnDFVr9qd7I8Xn1drt883mO1m3MUZEfv+BNfaOsZ00l6Env26haY+PrVwKSWTitnzNaPa3vCIjqQ8peuV1/dd8N5Nf6URuXJeg56FZNvHOINSJ1Ry9pwK312+YYKHM5zMYq9eGJOg3t83d6/9Pm/01qK7/Tx6eqVFTBYooAALsK/oxUW+216HPD+NYqsKpV3ew1Y7Q4M4qMVI+MBAAIFn6WQhEaPeYW4/MvX+8d9rqLl2Ov9pyUQsfMvvLh35Y7a5RuUebei9LIKe5pvj1HPagHjMdzu15RtvfPCZBLpUXKPVCk0368te9jm9xG1Ro3tjY1fNSv3WEoc4q56GQbmWFn0Zs6WDdAM5d57gbiv1KtzPhEkxqNU3qvpoeK8povqPhs7tfW90lV/7dUb30XpuceuUnDT1/Q6+e+t17xiPzBIP32wRF6akSApn0DABB0gj0jlWnPSq9FnxuGeVt6g+NA40Wh68dbRe7vboyMVI+MBAAIFj0uG6znV1dXpOyUDTpY3Uejk6doXMSX2rflgP5abXwIr16u++s/hM27YizZKyWnez7cm25bakt3KH3lXpXU3aIns5ZqcoT1gnF8mnF8iXpr9JzFmp90RuvNu2uY05fdU5SND/9G2/47u+t5LcqR7lu2WD/ra+304cKutUo3fu1frH5BU1sMGGXat+YVbfdxB1NfBk37jdIntiH0eIedFV5/5w5W++Xf9Ot3Xbrjp3+vhbffoIrcIiV/Kj394HA9cGuIDrz7iTZG/k9t+kdfM6oAALCJIM9I5kwhv+8KX75LK1ce0Lkxs7V13mhrZ1NkJDISACBY+H/3sZAELVj2oO6IuKhDOVv16kYj7NRFalLa4rZ/CFd+oDXusNNb4xb85krYMUVP05rVxs8J/VYXKusCO73YrcLHGbHGI32vOeX7anqr39AhShjp5zD+RpWVF1XZlpN7ZthZEpiw8/GO5me8Go9j+tg6tvaLY5plhJ2wfxjiDjumyAnDtWHE/9Pr2/+mjxufDAMAwN6CPCP1DG0+u8fn8Ou2+mQkAACChf8zhRrU6VLpcZXoFsVGtzAl2M+zYJcO79C+iHs1daiPcGEuQhgSYgSepme9ru0smMkzU+h7jX54qsZ5h6wWfFOwU+8cvuEqM4Xa6PAfNCP7mAY1+Tv4VH1UG9P/TfvLBxi/w/LA/A6+nPubZm2p05xFI5Tk3lGlCmcvRUa1NN/bTDs3cBYMAIBmgjEjlWnnkhX69zbO6tFVZwq1ERkJAIAu4/9MoQYhujEmXsNj/LhG/CpuHDXNd9gxucNOR7hBw0Z63QbVx0gY6jn70zVOaas77EgRQwfo3K71Wrex5bGv1PqWgArzEXZMXfl3AQCgOwvmjBSnufVrH/kzHk+wvq+zkZEAAAikayiF0PGcumCEHVPlyc+Ue8D3OGYdBwAAcO1CFNrS5WK+Rmg7Wq92ISMBABBI13D5WCvKP9CKlXul+sUCfUyN9t8p7dv4voojxmlGcoJuavflY62tFeQtsusuHwMAANeXbpmRrvHyMTISAADXhcCXQk2ZASgzX0MefkaPjWxlIR+/FGljylYdMgLPyrR71M/a649aR5EOlbZlFcNQxY5K0OBAnAz7/G3N3WgEnrbeWQMAAFyfukVGqlRRzlZ9VGlt+i1KdyUnKyEQvzYZCQCALtPxpRAAAAAAAAC6HdYUAgAAAAAAsCFKIQAAAAAAABuiFAIAAAAAALAhSiEAAAAAAAAbohQCAAAAAACwIUohAAAAAAAAG6IUAgAAAAAAsCFKIQAAAAAAABuiFAIAAAAAALAhSiEAAAAAAAAb6nHZYD33qcdv/8t6Bvh2JvXvNbh/hM6er+SRRx555JHHTn/sCmQk+IOMxCOPPPLIY1c+Xg2lEALm8r/cbT0DAMAeyEjwBxkJANBd+VUKAQAAAAAA4PrCmkIAAAAAAAA2RCkEAAAAAABgQ5RCAAAAAAAANkQpBAAAAAAAYEOUQgAAAAAAADZEKQQAAAAAAGBDlEIAAAAAAAA2RCkEAAAAAABgQ5RCAAAAAAAANkQpBAAAAAAAYEOUQgAAAAAAADZEKQQAAAAAAGBDlEIAAAAAAAA2RCkEAAAAAABgQ5RCAAAAAAAANkQpBAAAAAAAYEOUQgAAAAAAADZEKQQAAAAAAGBDlEIAAAAAAAA2RCkEAAAAAABgQ5RCAAAAAAAANkQpBAAAAAAAYEOUQgAAAAAAADbU47LBeu5TaelX1jMAAIDuJyZmgPWsc5GRAABAd9ZaRvK7FOrf/2ZrCwAAoPs4f/7rLi2FyEgAAKA78icjcfkYAAAAAACADVEKAQAAAAAA2BClEAAAAAAAgA1RCgEAAAAAANgQpRAAAAAAAIANUQoBAAAAAADYEKUQAAAAAACADVEKAQAAAAAA2BClEAAAAAAAgA1RCgEAAAAAANgQpRAAAAAAAIANUQoBAAAAAADYEKUQAAAAAACADVEKAQAAAAAA2FCHlEI1zuPave4FLV/yWy1/8RVty3eoxnrNJ+cR5ebmqthpbQMAANhajUoKc5VbWNJ6jgIAALgGAS+FXLkvKHnqLGXsd0hh4epZW6xtSx/Q1BfzfQcaV76WP/FLLV2aps3F1j4AAAA7cubqxYd/qp8kTdQj89O0NCtfFdZLAAAAgdTjssF67lNp6Vfq3/9ma+sqHO9qVnKWNHerNjwaq17Wbrkcciha0eHWdiMl2jZrhjbHTlbc/n0Ky/hIvx9rvQQAANCK8+e/VkzMAGurc/mdkdqipkSFBSVyGU8LN6cppzZFOZseMpIUAACA//zJSAGdKVS4+Q2dGJai1d6FkCncVyEklWxOV3bFNK3+/f0Ks/YBAADYVq9YJU6YoAnGGEMTBAAAOlAAS6Hjyi+o0rD7J/h9JsuVn67566UFrz6neGsfAAAAAAAAOl4AS6EylZVJsTGRcuT+q375kx8rKekuJd3zc83PylWz9aNL3tX8RYeVmPEHTY+19gEAAFx3jmv3iy/oRV9jc37znAQAANAJAlcKORwqMR4KV81QakG8Fv/xL9qz533lZE6WKydNT6w94jnO7bjWpWap6pGX9PuxPq4rAwAAAAAAQIcJ3ELTNf9bSyYtl2PuVm16tPHUH+eOpzQ1I1YZB57XWLmUv3yGFuXF6pGlDym+p3WQDmvz0m1S8ho9mhim2DGjFNtoYSIAAIDmrruFpr3kL79Li0pYaBoAALRd5y403StakWFSuPmliaiBZowpVqnD3CpWwdGeGhjp0P71ryg7u37s1gnj1RN7zOfvqJB7rwIAAAAAAHSYAK4pNEKTJ4WpcEfz9YOcZWYbFKcY9ymuUUrZ/r+0vdlYofHGq+N/Zz5/WdM4HQYAAAAAANBhAlgKSYmzU5R4bK1S1x2Ws8azz3X0NaVmHNWwBTM11rMLAAAALaqRy+mU0xpVtcauWqcq6ve5rIAFAAAQAIFbU8hSU/Jn/S41S3llZooxhSnxkZe0at4IXX1J6XwtT3pWyvhIv6c9AgAAfrq+1hTy5KH91lYzw1hfCAAA+MefjBTwUqhejctzdqtnWJTCWTAaAAB0kOt5oWkAAIBr1bkLTTfRKzxKUVEUQgAAAAAAAN1Rh5VCAAAAAAAA6L4ohQAAAAAAAGyIUggAAAAAAMCGKIUAAAAAAABsiFIIAAAAAADAhiiFAAAAAAAAbIhSCAAAAAAAwIYohQAAAAAAAGyIUggAAAAAAMCGKIUAAAAAAABsiFIIAAAAAADAhiiFAAAAAAAAbKjHZYP13KfS0q/Uv//N1lbrapzHtX/bNhWUuqSwaMVPekhTx0arl/W6m3FM7tEya8NbmGLHjFJso4MBAABadv7814qJGWBtda62ZiQAAIDO4k9GCngp5Mp9QY8s3a2qgYkanxitnrUOFeYVqmrSS9r5z2MbiqGafb/VpN8VKGxgpMKsfR6xevTVlzUt2toEAAC4iq4uhQYP7mttAQAAdB9nz5Z3cinkeFezkrOkuVu14dHYKzODXA45FK3ocGvb4Nj2uJK3jdEftz+tOGsfAABAW1EKAQAANOdPKRTQNYUKN7+hE8NStNq7EDKFNy6EGoRFNZklBAAAAAAAgM4QwFLouPILqjTs/gny58qvkqPFUmy0ImtccjqdxnCpxnoNAADgevLyyy9bzwAAAK5doDNFAEuhMpWVSbExkXLk/qt++ZMfKynpLiXd83PNz8qV0zqqkf1pmnTfA/rVrx7XI1P/SZOSfqrU3SXWiwAAAMGPQggAAARSILNF4Eohh0NmnVO4aoZSC+K1+I9/0Z497ysnc7JcOWl6Yu0Rz3GWxLkvadWrf9H+D/Zq+/b/0H8eeF8bHolSwapn9GI+c4YAAEDwoxACAAAdIVAZI3ClUGSk+7KxyOkva8viKYqLDld4eLiiE59W5qJ4VezcoXzPkW69osdqQmKU19pD4Yqf9896ZGCF9uwvtPYBAAAEJwohAADQkQKRNQJXCvWKVmSYFG5+aSJqoFkXFavU4dn2LVxR5rfXerYAAACCEYUQAADoDO3NHAFcU2iEJk8KU+GO5usHOcvMNihOMQ0rULvkcllPvbmOqPCENHBgpLUDAAAg+CxcuNB6BgAA0HHamzkCWApJibNTlHhsrVLXHZbTWhbIdfQ1pWYc1bAFMzXWs0vOHWm675GFWpdfIpd1XE1JvrLmL1eexmvuo7d5dgIAAAQpiiEAANCRApE1elw2WM99Ki39Sv3732xtXV1NyZ/1u9Qs5ZXVXwMWpsRHXtKqeSMUbu0xZwod3faClq/PU8NhhrBh07Q08zlNiLJ2AAAAtOL8+a8VEzPA2upcZkYaPLivtdWy+mndlEQAAKC92pIrzp4tbzUjBbwUqlfjcqqqVuoZFqXwK6tJN+PvcQAAAC3p7qWQyQxwlEIAAKC92pIpurQUAgAA6AzBUAoBAAB0Nn9KoYCuKQQAAAAAAIDgQCkEAAAAAABgQ1w+BgAAglpXXz4GAADQXbGmEAAAuK51ZSkEAAAQzLh8DAAAAAAAwIYohQAAAAAAAGyIUggAAAAAAMCGKIUAAAAAAABsiFIIAAAAAADAhiiFAAAAAAAAbIhSCAAAAAAAwIYohQAAAAAAAGyIUggAAAAAAMCGelw2WM99Ki39SoMH97W2AAAAuo+zZ8sVEzPA2gIAAIC/mCkEAAAAAABgQ5RCAAAAAAAANhTQUujll1+2ngEAAFw7MgUAAEDHC1gpRHgDAACBRLYAAADoWAEphQhtAACgI5AxAAAAOk67SyHCGgAA6EhkDQAAgI7RrlKIkAYAADoDmQMAACDw2lUKLVy40HoGAADQccgcAAAAgdfuy8cIaQAAoCORNQAAADpGQBaaJqwBAICOQMYAAADoOAEphUyENgAAEEhkCwAAgI7V47LBeu5TaelXGjy4r7UFAADQfZw9W66YmAHWFgAAAPwVsJlCAAAAAAAACB6UQgAAAAAAADbk9+VjAAAA3RWXjwEAALSdX6UQAAAAAAAAri9cPgYAAAAAAGBDlEIAAAAAAAA2RCkEAAAAAABgQ5RCAAAAAAAANkQpBAAAAAAAYDvS/wfETmctgVcmPQAAAABJRU5ErkJggg==)"
      ]
    },
    {
      "cell_type": "markdown",
      "source": [
        "## 구상"
      ],
      "metadata": {
        "id": "AGhrdbYB1CKt"
      }
    },
    {
      "cell_type": "markdown",
      "source": [
        "-"
      ],
      "metadata": {
        "id": "TU2SB-V61DWu"
      }
    },
    {
      "cell_type": "markdown",
      "metadata": {
        "id": "__zt_kEJw3Zd"
      },
      "source": [
        "## 코드"
      ]
    },
    {
      "cell_type": "code",
      "source": [
        "# 1978\n",
        "import math\n",
        "def is_prime(n):\n",
        "    if n < 2:\n",
        "        return False\n",
        "    for i in range(2, int(math.sqrt(n)) + 1):  # √n까지만 검사\n",
        "        if n % i == 0:\n",
        "            return False\n",
        "    return True\n",
        "\n",
        "N = int(input())\n",
        "result = 0\n",
        "arr = list(map(int, input().split()))\n",
        "for i in arr:\n",
        "    if is_prime(i):\n",
        "        result += 1\n",
        "\n",
        "print(result)"
      ],
      "metadata": {
        "colab": {
          "base_uri": "https://localhost:8080/"
        },
        "id": "HCIDAPDqJ6af",
        "outputId": "1e6d477d-d76b-4578-fdc2-bb8e9413260c"
      },
      "execution_count": 7,
      "outputs": [
        {
          "output_type": "stream",
          "name": "stdout",
          "text": [
            "4\n",
            "1 3 5 7\n",
            "3\n"
          ]
        }
      ]
    },
    {
      "cell_type": "code",
      "source": [
        "# 2581\n",
        "\n",
        "def is_prime(n):\n",
        "    if n < 2:\n",
        "        return False\n",
        "    for i in range(2, int(math.sqrt(n)) + 1):  # √n까지만 검사\n",
        "        if n % i == 0:\n",
        "            return False\n",
        "    return True\n",
        "\n",
        "M = int(input())\n",
        "N = int(input())\n",
        "min = 0\n",
        "sum = 0\n",
        "for i in range(M,N+1):\n",
        "    if is_prime(i):\n",
        "        if min == 0:\n",
        "            min = i\n",
        "            sum += i\n",
        "        else:\n",
        "            sum += i\n",
        "\n",
        "if min == 0:\n",
        "    print(-1)\n",
        "\n",
        "else:\n",
        "    print(sum)\n",
        "    print(min)"
      ],
      "metadata": {
        "colab": {
          "base_uri": "https://localhost:8080/"
        },
        "id": "_Qo036jjMTM5",
        "outputId": "bd7ceb24-0279-46c1-b496-d0651dfe50db"
      },
      "execution_count": 12,
      "outputs": [
        {
          "output_type": "stream",
          "name": "stdout",
          "text": [
            "64\n",
            "65\n",
            "-1\n"
          ]
        }
      ]
    },
    {
      "cell_type": "code",
      "source": [],
      "metadata": {
        "colab": {
          "base_uri": "https://localhost:8080/"
        },
        "id": "Fu8qpqD-6ci9",
        "outputId": "587081eb-b21e-470a-87f1-3f88eb8197a4"
      },
      "execution_count": null,
      "outputs": [
        {
          "output_type": "stream",
          "name": "stdout",
          "text": [
            "1 2 3\n",
            "1 2 3\n"
          ]
        }
      ]
    },
    {
      "cell_type": "markdown",
      "metadata": {
        "id": "bSzpKoeFzzUN"
      },
      "source": [
        "## 메모\n",
        "\n",
        "* 소수 판별을 for 문을 이용해서 할 경우 제곱근까지만 돌아봐도 된다"
      ]
    },
    {
      "cell_type": "code",
      "source": [],
      "metadata": {
        "id": "3CeoBqWOLnWM"
      },
      "execution_count": null,
      "outputs": []
    },
    {
      "cell_type": "code",
      "source": [],
      "metadata": {
        "id": "gr42EdaVWS2e"
      },
      "execution_count": null,
      "outputs": []
    }
  ]
}