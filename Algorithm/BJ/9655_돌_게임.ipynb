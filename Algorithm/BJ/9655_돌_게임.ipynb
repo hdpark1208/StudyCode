{
  "nbformat": 4,
  "nbformat_minor": 0,
  "metadata": {
    "colab": {
      "provenance": [],
      "include_colab_link": true
    },
    "kernelspec": {
      "name": "python3",
      "display_name": "Python 3"
    },
    "language_info": {
      "name": "python"
    }
  },
  "cells": [
    {
      "cell_type": "markdown",
      "metadata": {
        "id": "view-in-github",
        "colab_type": "text"
      },
      "source": [
        "<a href=\"https://colab.research.google.com/github/hdpark1208/StudyCode/blob/main/Algorithm/BJ/9655_%EB%8F%8C_%EA%B2%8C%EC%9E%84.ipynb\" target=\"_parent\"><img src=\"https://colab.research.google.com/assets/colab-badge.svg\" alt=\"Open In Colab\"/></a>"
      ]
    },
    {
      "cell_type": "markdown",
      "metadata": {
        "id": "Yh4kWp1luxrW"
      },
      "source": [
        "# 돌 게임"
      ]
    },
    {
      "cell_type": "markdown",
      "metadata": {
        "id": "Xg2dbbF7u2R8"
      },
      "source": [
        "돌 게임은 두 명이서 즐기는 재밌는 게임이다.\n",
        "\n",
        "탁자 위에 돌 N개가 있다. 상근이와 창영이는 턴을 번갈아가면서 돌을 가져가며, 돌은 1개 또는 3개 가져갈 수 있다. 마지막 돌을 가져가는 사람이 게임을 이기게 된다.\n",
        "\n",
        "두 사람이 완벽하게 게임을 했을 때, 이기는 사람을 구하는 프로그램을 작성하시오. 게임은 상근이가 먼저 시작한다."
      ]
    },
    {
      "cell_type": "markdown",
      "metadata": {
        "id": "LqXcSRcPu8kj"
      },
      "source": [
        "## 입력 출력 및 예제\n"
      ]
    },
    {
      "cell_type": "markdown",
      "metadata": {
        "id": "rFCkhMXFvDp0"
      },
      "source": [
        "* 입력"
      ]
    },
    {
      "cell_type": "markdown",
      "metadata": {
        "id": "XwU2sme_3t7A"
      },
      "source": [
        "첫째 줄에 N이 주어진다. (1 ≤ N ≤ 1000)"
      ]
    },
    {
      "cell_type": "markdown",
      "metadata": {
        "id": "Ar1hCLVxwiDl"
      },
      "source": [
        "* 출력"
      ]
    },
    {
      "cell_type": "markdown",
      "metadata": {
        "id": "VaXKN9fc3uUv"
      },
      "source": [
        "상근이가 게임을 이기면 SK를, 창영이가 게임을 이기면 CY을 출력한다."
      ]
    },
    {
      "cell_type": "markdown",
      "metadata": {
        "id": "8tmCzTFmwwmN"
      },
      "source": [
        "* 예제"
      ]
    },
    {
      "cell_type": "markdown",
      "metadata": {
        "id": "ZuKUpEvu3uuv"
      },
      "source": [
        "![image.png](data:image/png;base64,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)"
      ]
    },
    {
      "cell_type": "markdown",
      "source": [
        "## 구상"
      ],
      "metadata": {
        "id": "AGhrdbYB1CKt"
      }
    },
    {
      "cell_type": "markdown",
      "source": [
        "- 베스킨라빈스 31 같은 방식인 듯?\n",
        "- 후공인 창영이는 돌의 개수가 4의 배수면 무조건 이길 수 있다.\n",
        "- 반면 상근이는 선공이니까...1을 선택했다면 4n + 1 일 때, 3이라면 4n + 3일때\n",
        "- 남은건 4n + 2일때?"
      ],
      "metadata": {
        "id": "TU2SB-V61DWu"
      }
    },
    {
      "cell_type": "markdown",
      "metadata": {
        "id": "__zt_kEJw3Zd"
      },
      "source": [
        "## 코드"
      ]
    },
    {
      "cell_type": "code",
      "source": [
        "1 1\n",
        "2 1\n",
        "3 1\n",
        "4 2\n",
        "5 1\n",
        "6 2\n",
        "7"
      ],
      "metadata": {
        "id": "y1mttU-m3C9h"
      },
      "execution_count": null,
      "outputs": []
    },
    {
      "cell_type": "code",
      "source": [
        "N = int(input())\n",
        "r = N % 4\n",
        "if r == 1 or r == 3:\n",
        "    print('SK')\n",
        "else:\n",
        "    print('CY')"
      ],
      "metadata": {
        "id": "nDf0V7bjvWyk",
        "colab": {
          "base_uri": "https://localhost:8080/"
        },
        "outputId": "4f42e936-5112-44c9-8131-6133cac14c2b"
      },
      "execution_count": 4,
      "outputs": [
        {
          "output_type": "stream",
          "name": "stdout",
          "text": [
            "5\n",
            "SK\n"
          ]
        }
      ]
    },
    {
      "cell_type": "code",
      "source": [],
      "metadata": {
        "id": "vPtwctNN1cyV",
        "colab": {
          "base_uri": "https://localhost:8080/"
        },
        "outputId": "cdd74dbc-351a-4d2e-87a5-908eb5073f82"
      },
      "execution_count": null,
      "outputs": [
        {
          "output_type": "stream",
          "name": "stdout",
          "text": [
            "5 4 1 1 \n",
            "6\n"
          ]
        }
      ]
    },
    {
      "cell_type": "markdown",
      "source": [
        "### 메모"
      ],
      "metadata": {
        "id": "-n10miTJFzvM"
      }
    },
    {
      "cell_type": "markdown",
      "source": [
        "* 생각해보면 쉬운 문제였으나, 처음에 당황했다."
      ],
      "metadata": {
        "id": "6ePQssjlF2--"
      }
    },
    {
      "cell_type": "code",
      "source": [],
      "metadata": {
        "id": "uX2usWhaF0yx"
      },
      "execution_count": null,
      "outputs": []
    }
  ]
}