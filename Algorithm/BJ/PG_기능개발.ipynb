{
  "nbformat": 4,
  "nbformat_minor": 0,
  "metadata": {
    "colab": {
      "name": "PG_기능개발.ipynb",
      "provenance": [],
      "collapsed_sections": [],
      "authorship_tag": "ABX9TyPpp05yk+fjkRyzbCy9OYXk",
      "include_colab_link": true
    },
    "kernelspec": {
      "name": "python3",
      "display_name": "Python 3"
    },
    "language_info": {
      "name": "python"
    }
  },
  "cells": [
    {
      "cell_type": "markdown",
      "metadata": {
        "id": "view-in-github",
        "colab_type": "text"
      },
      "source": [
        "<a href=\"https://colab.research.google.com/github/hdpark1208/StudyCode/blob/main/Algorithm/BJ/PG_%EA%B8%B0%EB%8A%A5%EA%B0%9C%EB%B0%9C.ipynb\" target=\"_parent\"><img src=\"https://colab.research.google.com/assets/colab-badge.svg\" alt=\"Open In Colab\"/></a>"
      ]
    },
    {
      "cell_type": "markdown",
      "metadata": {
        "id": "PDbMpZoWtcsk"
      },
      "source": [
        "프로그래머스 팀에서는 기능 개선 작업을 수행 중입니다. 각 기능은 진도가 100%일 때 서비스에 반영할 수 있습니다.\n",
        "\n",
        "또, 각 기능의 개발속도는 모두 다르기 때문에 뒤에 있는 기능이 앞에 있는 기능보다 먼저 개발될 수 있고, 이때 뒤에 있는 기능은 앞에 있는 기능이 배포될 때 함께 배포됩니다.\n",
        "\n",
        "먼저 배포되어야 하는 순서대로 작업의 진도가 적힌 정수 배열 progresses와 각 작업의 개발 속도가 적힌 정수 배열 speeds가 주어질 때 각 배포마다 몇 개의 기능이 배포되는지를 return 하도록 solution 함수를 완성하세요."
      ]
    },
    {
      "cell_type": "markdown",
      "metadata": {
        "id": "zN2E6Q2ttfyO"
      },
      "source": [
        "작업의 개수(progresses, speeds배열의 길이)는 100개 이하입니다.\n",
        "작업 진도는 100 미만의 자연수입니다.\n",
        "작업 속도는 100 이하의 자연수입니다.\n",
        "배포는 하루에 한 번만 할 수 있으며, 하루의 끝에 이루어진다고 가정합니다. 예를 들어 진도율이 95%인 작업의 개발 속도가 하루에 4%라면 배포는 2일 뒤에 이루어집니다."
      ]
    },
    {
      "cell_type": "markdown",
      "metadata": {
        "id": "m2-5hHf_ti_m"
      },
      "source": [
        "[93, 30, 55]  \n",
        "[1, 30, 5]  \n"
      ]
    },
    {
      "cell_type": "markdown",
      "metadata": {
        "id": "gQPj441zttjU"
      },
      "source": [
        "입출력 예 #1\n",
        "첫 번째 기능은 93% 완료되어 있고 하루에 1%씩 작업이 가능하므로 7일간 작업 후 배포가 가능합니다.\n",
        "두 번째 기능은 30%가 완료되어 있고 하루에 30%씩 작업이 가능하므로 3일간 작업 후 배포가 가능합니다. 하지만 이전 첫 번째 기능이 아직 완성된 상태가 아니기 때문에 첫 번째 기능이 배포되는 7일째 배포됩니다.\n",
        "세 번째 기능은 55%가 완료되어 있고 하루에 5%씩 작업이 가능하므로 9일간 작업 후 배포가 가능합니다.\n",
        "\n",
        "따라서 7일째에 2개의 기능, 9일째에 1개의 기능이 배포됩니다."
      ]
    },
    {
      "cell_type": "markdown",
      "metadata": {
        "id": "4bC3YHUNtoHF"
      },
      "source": [
        "[2, 1]"
      ]
    },
    {
      "cell_type": "code",
      "metadata": {
        "id": "q9A_3s68snh0"
      },
      "source": [
        "def solution(progresses, speeds):\n",
        "    complete_date = []\n",
        "    for i in range(len(progresses)):\n",
        "        date = 0\n",
        "        while progresses[i]<100:\n",
        "            progresses[i] += speeds[i]\n",
        "            date += 1\n",
        "        complete_date.append(date)\n",
        "    max = complete_date[0]\n",
        "    cnt = 0\n",
        "    answer = []\n",
        "    for i in range(len(complete_date)):\n",
        "        if max < complete_date[i]:\n",
        "            max = complete_date[i]\n",
        "            answer.append(cnt)    \n",
        "\n",
        "            cnt = 1\n",
        "        else:\n",
        "            cnt += 1\n",
        "    answer.append(cnt) # 마지막 남은 거 깔끔하게 처리하려면 어떻게 해야하지?.. 조금 찝집하네\n",
        "    return answer"
      ],
      "execution_count": null,
      "outputs": []
    },
    {
      "cell_type": "code",
      "metadata": {
        "colab": {
          "base_uri": "https://localhost:8080/"
        },
        "id": "HICOaFHHsuQT",
        "outputId": "082db6a4-a8c6-4f97-fe06-e80ccdd55d87"
      },
      "source": [
        "solution([93,30,55],[1,30,5])"
      ],
      "execution_count": null,
      "outputs": [
        {
          "output_type": "execute_result",
          "data": {
            "text/plain": [
              "[2, 1]"
            ]
          },
          "metadata": {
            "tags": []
          },
          "execution_count": 15
        }
      ]
    },
    {
      "cell_type": "code",
      "metadata": {
        "colab": {
          "base_uri": "https://localhost:8080/"
        },
        "id": "UoEfB4v-xkhs",
        "outputId": "17d85e26-d32d-4fbb-9a0d-aa4fd474c5bf"
      },
      "source": [
        "solution([95,90,99,99,80,99],[1,1,1,1,1,1])"
      ],
      "execution_count": null,
      "outputs": [
        {
          "output_type": "execute_result",
          "data": {
            "text/plain": [
              "[1, 3, 2]"
            ]
          },
          "metadata": {
            "tags": []
          },
          "execution_count": 16
        }
      ]
    },
    {
      "cell_type": "code",
      "metadata": {
        "id": "JALKRvN3yXGI"
      },
      "source": [
        ""
      ],
      "execution_count": null,
      "outputs": []
    },
    {
      "cell_type": "code",
      "metadata": {
        "colab": {
          "base_uri": "https://localhost:8080/",
          "height": 244
        },
        "id": "Eoh_qSnps2Xb",
        "outputId": "05c2b7e4-63fa-4680-cf25-6e8eb0491eff"
      },
      "source": [
        "max = complete_date[0]\n",
        "cnt = 0\n",
        "answer = []\n",
        "for i in range(len(complete_date)):\n",
        "    if max < complete_date[i]:\n",
        "        max = complete_date[i]\n",
        "        answer.append(cnt)\n",
        "        cnt = 0\n",
        "    else:\n",
        "        cnt += 1\n",
        "\n",
        "    \n"
      ],
      "execution_count": null,
      "outputs": [
        {
          "output_type": "error",
          "ename": "NameError",
          "evalue": "ignored",
          "traceback": [
            "\u001b[0;31m---------------------------------------------------------------------------\u001b[0m",
            "\u001b[0;31mNameError\u001b[0m                                 Traceback (most recent call last)",
            "\u001b[0;32m<ipython-input-7-4fabc2232bec>\u001b[0m in \u001b[0;36m<module>\u001b[0;34m()\u001b[0m\n\u001b[0;32m----> 1\u001b[0;31m \u001b[0mmax\u001b[0m \u001b[0;34m=\u001b[0m \u001b[0mcomplete_date\u001b[0m\u001b[0;34m[\u001b[0m\u001b[0;36m0\u001b[0m\u001b[0;34m]\u001b[0m\u001b[0;34m\u001b[0m\u001b[0;34m\u001b[0m\u001b[0m\n\u001b[0m\u001b[1;32m      2\u001b[0m \u001b[0mcnt\u001b[0m \u001b[0;34m=\u001b[0m \u001b[0;36m0\u001b[0m\u001b[0;34m\u001b[0m\u001b[0;34m\u001b[0m\u001b[0m\n\u001b[1;32m      3\u001b[0m \u001b[0manswer\u001b[0m \u001b[0;34m=\u001b[0m \u001b[0;34m[\u001b[0m\u001b[0;34m]\u001b[0m\u001b[0;34m\u001b[0m\u001b[0;34m\u001b[0m\u001b[0m\n\u001b[1;32m      4\u001b[0m \u001b[0;32mfor\u001b[0m \u001b[0mi\u001b[0m \u001b[0;32min\u001b[0m \u001b[0mrange\u001b[0m\u001b[0;34m(\u001b[0m\u001b[0mlen\u001b[0m\u001b[0;34m(\u001b[0m\u001b[0mcomplete_date\u001b[0m\u001b[0;34m)\u001b[0m\u001b[0;34m)\u001b[0m\u001b[0;34m:\u001b[0m\u001b[0;34m\u001b[0m\u001b[0;34m\u001b[0m\u001b[0m\n\u001b[1;32m      5\u001b[0m     \u001b[0;32mif\u001b[0m \u001b[0mmax\u001b[0m \u001b[0;34m<\u001b[0m \u001b[0mcomplete_date\u001b[0m\u001b[0;34m[\u001b[0m\u001b[0mi\u001b[0m\u001b[0;34m]\u001b[0m\u001b[0;34m:\u001b[0m\u001b[0;34m\u001b[0m\u001b[0;34m\u001b[0m\u001b[0m\n",
            "\u001b[0;31mNameError\u001b[0m: name 'complete_date' is not defined"
          ]
        }
      ]
    },
    {
      "cell_type": "code",
      "metadata": {
        "id": "__1AYvpJxKG3"
      },
      "source": [
        ""
      ],
      "execution_count": null,
      "outputs": []
    }
  ]
}