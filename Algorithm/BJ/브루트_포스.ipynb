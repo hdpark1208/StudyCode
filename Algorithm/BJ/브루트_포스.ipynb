{
  "nbformat": 4,
  "nbformat_minor": 0,
  "metadata": {
    "colab": {
      "provenance": [],
      "include_colab_link": true
    },
    "kernelspec": {
      "name": "python3",
      "display_name": "Python 3"
    },
    "language_info": {
      "name": "python"
    }
  },
  "cells": [
    {
      "cell_type": "markdown",
      "metadata": {
        "id": "view-in-github",
        "colab_type": "text"
      },
      "source": [
        "<a href=\"https://colab.research.google.com/github/hdpark1208/StudyCode/blob/main/Algorithm/BJ/%EB%B8%8C%EB%A3%A8%ED%8A%B8_%ED%8F%AC%EC%8A%A4.ipynb\" target=\"_parent\"><img src=\"https://colab.research.google.com/assets/colab-badge.svg\" alt=\"Open In Colab\"/></a>"
      ]
    },
    {
      "cell_type": "markdown",
      "metadata": {
        "id": "Yh4kWp1luxrW"
      },
      "source": [
        "# 블랙잭"
      ]
    },
    {
      "cell_type": "markdown",
      "metadata": {
        "id": "Xg2dbbF7u2R8"
      },
      "source": [
        "카지노에서 제일 인기 있는 게임 블랙잭의 규칙은 상당히 쉽다. 카드의 합이 21을 넘지 않는 한도 내에서, 카드의 합을 최대한 크게 만드는 게임이다. 블랙잭은 카지노마다 다양한 규정이 있다.\n",
        "\n",
        "한국 최고의 블랙잭 고수 김정인은 새로운 블랙잭 규칙을 만들어 상근, 창영이와 게임하려고 한다.\n",
        "\n",
        "김정인 버전의 블랙잭에서 각 카드에는 양의 정수가 쓰여 있다. 그 다음, 딜러는 N장의 카드를 모두 숫자가 보이도록 바닥에 놓는다. 그런 후에 딜러는 숫자 M을 크게 외친다.\n",
        "\n",
        "이제 플레이어는 제한된 시간 안에 N장의 카드 중에서 3장의 카드를 골라야 한다. 블랙잭 변형 게임이기 때문에, 플레이어가 고른 카드의 합은 M을 넘지 않으면서 M과 최대한 가깝게 만들어야 한다.\n",
        "\n",
        "N장의 카드에 써져 있는 숫자가 주어졌을 때, M을 넘지 않으면서 M에 최대한 가까운 카드 3장의 합을 구해 출력하시오."
      ]
    },
    {
      "cell_type": "markdown",
      "metadata": {
        "id": "LqXcSRcPu8kj"
      },
      "source": [
        "## 입력 출력 및 예제\n"
      ]
    },
    {
      "cell_type": "markdown",
      "metadata": {
        "id": "rFCkhMXFvDp0"
      },
      "source": [
        "* 입력"
      ]
    },
    {
      "cell_type": "markdown",
      "metadata": {
        "id": "XwU2sme_3t7A"
      },
      "source": [
        "첫째 줄에 카드의 개수 N(3 ≤ N ≤ 100)과 M(10 ≤ M ≤ 300,000)이 주어진다. 둘째 줄에는 카드에 쓰여 있는 수가 주어지며, 이 값은 100,000을 넘지 않는 양의 정수이다.\n",
        "\n",
        "합이 M을 넘지 않는 카드 3장을 찾을 수 있는 경우만 입력으로 주어진다."
      ]
    },
    {
      "cell_type": "markdown",
      "metadata": {
        "id": "Ar1hCLVxwiDl"
      },
      "source": [
        "* 출력"
      ]
    },
    {
      "cell_type": "markdown",
      "metadata": {
        "id": "VaXKN9fc3uUv"
      },
      "source": [
        "첫째 줄에 M을 넘지 않으면서 M에 최대한 가까운 카드 3장의 합을 출력한다."
      ]
    },
    {
      "cell_type": "markdown",
      "metadata": {
        "id": "8tmCzTFmwwmN"
      },
      "source": [
        "* 예제"
      ]
    },
    {
      "cell_type": "markdown",
      "metadata": {
        "id": "ZuKUpEvu3uuv"
      },
      "source": [
        "![image.png](data:image/png;base64,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)"
      ]
    },
    {
      "cell_type": "markdown",
      "source": [
        "## 구상"
      ],
      "metadata": {
        "id": "AGhrdbYB1CKt"
      }
    },
    {
      "cell_type": "markdown",
      "source": [
        "- 브루트 포스 관련 여러 문제들.\n",
        "- 정렬을 해준 뒤 3중 for문을 형성하여 M 값에 가까워지도록 오름차순으로 찾아가보자\n",
        "- 오름차순이므로 어느정도의 최적화를 위해 M 값이 초과하면 break 해주자"
      ],
      "metadata": {
        "id": "TU2SB-V61DWu"
      }
    },
    {
      "cell_type": "markdown",
      "metadata": {
        "id": "__zt_kEJw3Zd"
      },
      "source": [
        "## 코드"
      ]
    },
    {
      "cell_type": "code",
      "source": [
        "# 2798\n",
        "N, M = map(int, input().split())\n",
        "cards = list(map(int, input().split()))\n",
        "cards.sort()\n",
        "answer = 0\n",
        "for i in range(len(cards)-2):\n",
        "    temp = cards[i]+cards[i+1]+cards[i+2]\n",
        "    if temp > M:\n",
        "        break\n",
        "    for j in range(i+1,len(cards)-1):\n",
        "        temp = cards[i]+cards[j]+cards[j+1]\n",
        "        if temp > M:\n",
        "            break\n",
        "        for k in range(j+1, len(cards)):\n",
        "            temp = cards[i]+cards[j]+cards[k]\n",
        "            if temp > M:\n",
        "                break\n",
        "            elif answer < temp and temp <= M:\n",
        "                answer = temp\n",
        "\n",
        "print(answer)\n"
      ],
      "metadata": {
        "id": "HCIDAPDqJ6af",
        "colab": {
          "base_uri": "https://localhost:8080/"
        },
        "outputId": "d0183471-8713-4c7f-d7e2-7c0806fd1e1a"
      },
      "execution_count": 4,
      "outputs": [
        {
          "output_type": "stream",
          "name": "stdout",
          "text": [
            "10 500\n",
            "93 181 245 214 315 36 185 138 216 295\n",
            "497\n"
          ]
        }
      ]
    },
    {
      "cell_type": "code",
      "source": [
        "# 2231\n",
        "def generator(N):\n",
        "    N1 = str(N)\n",
        "    G = 0\n",
        "    for i in N1:\n",
        "        G += int(i)\n",
        "    G += N\n",
        "    return G\n",
        "\n",
        "def main(answer):\n",
        "    for i in range(1,answer):\n",
        "        G = generator(i)\n",
        "        if G == answer:\n",
        "            return print(i)\n",
        "    return print(0)\n",
        "\n",
        "N = int(input())\n",
        "main(N)"
      ],
      "metadata": {
        "colab": {
          "base_uri": "https://localhost:8080/"
        },
        "id": "ObbaYgbgYcqS",
        "outputId": "5cb173d7-8f25-4256-a98d-851d4c7a0474"
      },
      "execution_count": 19,
      "outputs": [
        {
          "output_type": "stream",
          "name": "stdout",
          "text": [
            "216\n",
            "198\n"
          ]
        }
      ]
    },
    {
      "cell_type": "code",
      "source": [
        "# 19532\n",
        "a, b, c, d, e, f = map(int, input().split())\n",
        "\n",
        "for x in range(-999, 1000):  # x를 -999부터 999까지 탐색\n",
        "    for y in range(-999, 1000):  # y를 -999부터 999까지 탐색\n",
        "        if a * x + b * y == c and d * x + e * y == f:\n",
        "            print(x, y)\n",
        "            exit()  # 첫 번째 해를 찾으면 종료\n"
      ],
      "metadata": {
        "colab": {
          "base_uri": "https://localhost:8080/"
        },
        "id": "HfIXzojOZYVn",
        "outputId": "532a4a49-0fc0-4d89-a203-cff50ccf08a4"
      },
      "execution_count": 18,
      "outputs": [
        {
          "output_type": "stream",
          "name": "stdout",
          "text": [
            "G: 216\n",
            "0\n"
          ]
        }
      ]
    },
    {
      "cell_type": "code",
      "source": [
        "'1124' in '1124123'"
      ],
      "metadata": {
        "colab": {
          "base_uri": "https://localhost:8080/"
        },
        "id": "nCKeUGY75RQv",
        "outputId": "94e696bf-7278-47d4-cdfc-d0023eebe11a"
      },
      "execution_count": 1,
      "outputs": [
        {
          "output_type": "execute_result",
          "data": {
            "text/plain": [
              "True"
            ]
          },
          "metadata": {},
          "execution_count": 1
        }
      ]
    },
    {
      "cell_type": "code",
      "source": [
        "# 1436\n",
        "num = 666\n",
        "count = 0\n",
        "N = int(input())\n",
        "while True:\n",
        "    if '666' in str(num):\n",
        "        count += 1\n",
        "\n",
        "    if count == N:\n",
        "        print(num)\n",
        "        break\n",
        "    else:\n",
        "        num += 1\n",
        "\n",
        "\n",
        "\n",
        "\n",
        ""
      ],
      "metadata": {
        "colab": {
          "base_uri": "https://localhost:8080/"
        },
        "id": "aV-L4pnj3RQn",
        "outputId": "1a2cd7b9-8aa1-4cc4-ec95-78960bb26efd"
      },
      "execution_count": 7,
      "outputs": [
        {
          "output_type": "stream",
          "name": "stdout",
          "text": [
            "187\n",
            "66666\n"
          ]
        }
      ]
    },
    {
      "cell_type": "markdown",
      "metadata": {
        "id": "bSzpKoeFzzUN"
      },
      "source": [
        "## 메모\n",
        "\n",
        "* 세련된 코드는 아니지만 나름 최적화를 해보았다\n",
        "* 때론 단순한 방법이 문제해결에 더 효과적일 수 있다. 컴퓨터의 연산력을 믿자."
      ]
    },
    {
      "cell_type": "code",
      "source": [],
      "metadata": {
        "id": "d_nCYXnmZXvu"
      },
      "execution_count": null,
      "outputs": []
    },
    {
      "cell_type": "code",
      "source": [],
      "metadata": {
        "id": "3CeoBqWOLnWM"
      },
      "execution_count": null,
      "outputs": []
    },
    {
      "cell_type": "code",
      "source": [],
      "metadata": {
        "id": "gr42EdaVWS2e"
      },
      "execution_count": null,
      "outputs": []
    }
  ]
}