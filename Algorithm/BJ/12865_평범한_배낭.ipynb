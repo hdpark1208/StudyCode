{
  "nbformat": 4,
  "nbformat_minor": 0,
  "metadata": {
    "colab": {
      "name": "12865_평범한 배낭.ipynb",
      "provenance": [],
      "collapsed_sections": [],
      "authorship_tag": "ABX9TyPY3iRB4X9lxnbIhusgXPLw",
      "include_colab_link": true
    },
    "kernelspec": {
      "name": "python3",
      "display_name": "Python 3"
    },
    "language_info": {
      "name": "python"
    }
  },
  "cells": [
    {
      "cell_type": "markdown",
      "metadata": {
        "id": "view-in-github",
        "colab_type": "text"
      },
      "source": [
        "<a href=\"https://colab.research.google.com/github/hdpark1208/StudyCode/blob/main/Algorithm/BJ/12865_%ED%8F%89%EB%B2%94%ED%95%9C_%EB%B0%B0%EB%82%AD.ipynb\" target=\"_parent\"><img src=\"https://colab.research.google.com/assets/colab-badge.svg\" alt=\"Open In Colab\"/></a>"
      ]
    },
    {
      "cell_type": "markdown",
      "metadata": {
        "id": "Yh4kWp1luxrW"
      },
      "source": [
        "# 평범한 배낭"
      ]
    },
    {
      "cell_type": "markdown",
      "metadata": {
        "id": "Xg2dbbF7u2R8"
      },
      "source": [
        "이 문제는 아주 평범한 배낭에 관한 문제이다.\n",
        "\n",
        "한 달 후면 국가의 부름을 받게 되는 준서는 여행을 가려고 한다. 세상과의 단절을 슬퍼하며 최대한 즐기기 위한 여행이기 때문에, 가지고 다닐 배낭 또한 최대한 가치 있게 싸려고 한다.\n",
        "\n",
        "준서가 여행에 필요하다고 생각하는 N개의 물건이 있다. 각 물건은 무게 W와 가치 V를 가지는데, 해당 물건을 배낭에 넣어서 가면 준서가 V만큼 즐길 수 있다. 아직 행군을 해본 적이 없는 준서는 최대 K만큼의 무게만을 넣을 수 있는 배낭만 들고 다닐 수 있다. 준서가 최대한 즐거운 여행을 하기 위해 배낭에 넣을 수 있는 물건들의 가치의 최댓값을 알려주자."
      ]
    },
    {
      "cell_type": "markdown",
      "metadata": {
        "id": "LqXcSRcPu8kj"
      },
      "source": [
        "## 입력 출력 및 예제\n"
      ]
    },
    {
      "cell_type": "markdown",
      "metadata": {
        "id": "rFCkhMXFvDp0"
      },
      "source": [
        "* 입력"
      ]
    },
    {
      "cell_type": "markdown",
      "metadata": {
        "id": "XwU2sme_3t7A"
      },
      "source": [
        "첫 줄에 물품의 수 N(1 ≤ N ≤ 100)과 준서가 버틸 수 있는 무게 K(1 ≤ K ≤ 100,000)가 주어진다. 두 번째 줄부터 N개의 줄에 거쳐 각 물건의 무게 W(1 ≤ W ≤ 100,000)와 해당 물건의 가치 V(0 ≤ V ≤ 1,000)가 주어진다.\n",
        "\n",
        "입력으로 주어지는 모든 수는 정수이다."
      ]
    },
    {
      "cell_type": "markdown",
      "metadata": {
        "id": "Ar1hCLVxwiDl"
      },
      "source": [
        "* 출력"
      ]
    },
    {
      "cell_type": "markdown",
      "metadata": {
        "id": "VaXKN9fc3uUv"
      },
      "source": [
        "한 줄에 배낭에 넣을 수 있는 물건들의 가치합의 최댓값을 출력한다."
      ]
    },
    {
      "cell_type": "markdown",
      "metadata": {
        "id": "8tmCzTFmwwmN"
      },
      "source": [
        "* 입력 예제"
      ]
    },
    {
      "cell_type": "markdown",
      "metadata": {
        "id": "ZuKUpEvu3uuv"
      },
      "source": [
        "4 7  \n",
        "6 13  \n",
        "4 8  \n",
        "3 6  \n",
        "5 12  "
      ]
    },
    {
      "cell_type": "markdown",
      "metadata": {
        "id": "bnyvaNYDPh1d"
      },
      "source": [
        "* 출력 예제"
      ]
    },
    {
      "cell_type": "markdown",
      "metadata": {
        "id": "rYAVTu3K3vDN"
      },
      "source": [
        "14"
      ]
    },
    {
      "cell_type": "markdown",
      "metadata": {
        "id": "__zt_kEJw3Zd"
      },
      "source": [
        "### 코드"
      ]
    },
    {
      "cell_type": "code",
      "metadata": {
        "colab": {
          "base_uri": "https://localhost:8080/"
        },
        "id": "ADkMxAp1BfPW",
        "outputId": "cd6fd109-194c-4035-a4ec-9575821487dc"
      },
      "source": [
        "# 실패\n",
        "\n",
        "n, k = list(map(int,input().split()))\n",
        "stuff_info = []\n",
        "for _ in range(n):\n",
        "    stuff_info.append(list(map(int,input().split())))\n",
        "stuff_info.sort()\n",
        "dp = [0]*(k+1)\n",
        "for i in range(k+1):\n",
        "    for weigh,value in stuff_info:    \n",
        "        if i+weigh<k+1:\n",
        "            dp[weigh] = value\n",
        "print(max(dp))"
      ],
      "execution_count": null,
      "outputs": [
        {
          "output_type": "stream",
          "text": [
            "4 20\n",
            "3 10\n",
            "7 20\n",
            "10 10\n",
            "13 20\n",
            "60\n"
          ],
          "name": "stdout"
        }
      ]
    },
    {
      "cell_type": "code",
      "metadata": {
        "colab": {
          "base_uri": "https://localhost:8080/"
        },
        "id": "9D-KOORcbsXs",
        "outputId": "e5ed973b-dc77-4ae5-d3f7-bc85d5696274"
      },
      "source": [
        "# 박도현님\n",
        "N, K = list(map(int,input().split()))\n",
        "\n",
        "objects = [[0,0]]\n",
        "dp = []\n",
        "for i in range(N+1):\n",
        "    dp.append([0]*(K+1))\n",
        "for _ in range(N):\n",
        "    objects.append(list(map(int,input().split())))\n",
        "\n",
        "for n in range(1,N+1):\n",
        "\n",
        "    w = objects[n][0] \n",
        "    v = objects[n][1]\n",
        "    for k in range(1,K+1):\n",
        "        if dp[0][k] != 0:\n",
        "            print(n,k)\n",
        "        if k < w:\n",
        "            dp[n][k] = dp[n-1][k]            \n",
        "        else:\n",
        "            dp[n][k] = max(dp[n-1][k], v + dp[n-1][k-w])\n",
        "print(dp[N][K])"
      ],
      "execution_count": null,
      "outputs": [
        {
          "output_type": "stream",
          "text": [
            "3 5\n",
            "4 2\n",
            "3 4\n",
            "1 5\n",
            "9\n"
          ],
          "name": "stdout"
        }
      ]
    },
    {
      "cell_type": "code",
      "metadata": {
        "colab": {
          "base_uri": "https://localhost:8080/"
        },
        "id": "j0Tl2O3red2O",
        "outputId": "c652c33f-c540-47be-be21-5941cc95fdda"
      },
      "source": [
        "3 5\n",
        "4 2\n",
        "3 4\n",
        "1 5"
      ],
      "execution_count": null,
      "outputs": [
        {
          "output_type": "execute_result",
          "data": {
            "text/plain": [
              "[[0, 0, 0, 6, 8, 12, 13, 14],\n",
              " [0, 0, 0, 6, 8, 12, 13, 14],\n",
              " [0, 0, 0, 6, 8, 12, 13, 14],\n",
              " [0, 0, 0, 6, 8, 12, 13, 14],\n",
              " [0, 0, 0, 6, 8, 12, 13, 14]]"
            ]
          },
          "metadata": {
            "tags": []
          },
          "execution_count": 11
        }
      ]
    },
    {
      "cell_type": "code",
      "metadata": {
        "colab": {
          "base_uri": "https://localhost:8080/"
        },
        "id": "bAN-bRz6g-gk",
        "outputId": "1595d2fa-c7ee-42ce-8a2a-f0ce80c6a2dc"
      },
      "source": [
        "dp"
      ],
      "execution_count": null,
      "outputs": [
        {
          "output_type": "execute_result",
          "data": {
            "text/plain": [
              "[[0, 0, 0, 0, 0, 0],\n",
              " [0, 0, 0, 0, 2, 2],\n",
              " [0, 0, 0, 4, 4, 4],\n",
              " [0, 5, 5, 5, 9, 9]]"
            ]
          },
          "metadata": {
            "tags": []
          },
          "execution_count": 34
        }
      ]
    },
    {
      "cell_type": "markdown",
      "metadata": {
        "id": "bSzpKoeFzzUN"
      },
      "source": [
        "## 메모\n"
      ]
    },
    {
      "cell_type": "code",
      "metadata": {
        "colab": {
          "base_uri": "https://localhost:8080/"
        },
        "id": "e3PVSy96ev03",
        "outputId": "40958c0d-a8b8-46ef-fd4b-29a91a3ff594"
      },
      "source": [
        "# shit....\n",
        "# https://9kilometer.postype.com/post/3215792 참조.\n",
        "test = [[0]*(K+1)]*(N+1)\n",
        "test[3][1] = 5\n",
        "test[2][1] = 3\n",
        "test[1][2] = 4\n",
        "test"
      ],
      "execution_count": null,
      "outputs": [
        {
          "output_type": "execute_result",
          "data": {
            "text/plain": [
              "[[0, 3, 4, 0, 0, 0, 0, 0],\n",
              " [0, 3, 4, 0, 0, 0, 0, 0],\n",
              " [0, 3, 4, 0, 0, 0, 0, 0],\n",
              " [0, 3, 4, 0, 0, 0, 0, 0]]"
            ]
          },
          "metadata": {
            "tags": []
          },
          "execution_count": 30
        }
      ]
    },
    {
      "cell_type": "markdown",
      "metadata": {
        "id": "lVygRKKwGFt_"
      },
      "source": [
        "<박도현>  \n",
        "dp 를 2차원으로 초기화!!!  \n",
        "dp 를 N X K 행렬 이라고 했을 때(코드 상으론 번째와 인덱스 에러 방지를 위해 +1)  \n",
        "행이 추가되면서 최대값을 저장,업데이트 하는 방식  \n",
        "예컨데 (4,7) 의 원소는 4개의 물품까지 다 고려하고, 버틸수있는 무게는 7 일때의 가치의 최대값이 된다   \n",
        "\n",
        "\n",
        "---\n",
        "\n",
        "\n"
      ]
    },
    {
      "cell_type": "code",
      "metadata": {
        "id": "2ZMRF6PEGUFZ"
      },
      "source": [
        ""
      ],
      "execution_count": null,
      "outputs": []
    }
  ]
}