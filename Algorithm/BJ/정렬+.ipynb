{
  "nbformat": 4,
  "nbformat_minor": 0,
  "metadata": {
    "colab": {
      "provenance": [],
      "include_colab_link": true
    },
    "kernelspec": {
      "name": "python3",
      "display_name": "Python 3"
    },
    "language_info": {
      "name": "python"
    }
  },
  "cells": [
    {
      "cell_type": "markdown",
      "metadata": {
        "id": "view-in-github",
        "colab_type": "text"
      },
      "source": [
        "<a href=\"https://colab.research.google.com/github/hdpark1208/StudyCode/blob/main/Algorithm/BJ/%EC%A0%95%EB%A0%AC%2B.ipynb\" target=\"_parent\"><img src=\"https://colab.research.google.com/assets/colab-badge.svg\" alt=\"Open In Colab\"/></a>"
      ]
    },
    {
      "cell_type": "markdown",
      "metadata": {
        "id": "Yh4kWp1luxrW"
      },
      "source": [
        "# 정렬 관련 알고리즘 문제들"
      ]
    },
    {
      "cell_type": "markdown",
      "metadata": {
        "id": "Xg2dbbF7u2R8"
      },
      "source": [
        "N개의 수가 주어졌을 때, 이를 오름차순으로 정렬하는 프로그램을 작성하시오."
      ]
    },
    {
      "cell_type": "markdown",
      "metadata": {
        "id": "LqXcSRcPu8kj"
      },
      "source": [
        "## 입력 출력 및 예제\n"
      ]
    },
    {
      "cell_type": "markdown",
      "metadata": {
        "id": "rFCkhMXFvDp0"
      },
      "source": [
        "* 입력"
      ]
    },
    {
      "cell_type": "markdown",
      "metadata": {
        "id": "XwU2sme_3t7A"
      },
      "source": [
        "첫째 줄에 수의 개수 N(1 ≤ N ≤ 1,000)이 주어진다. 둘째 줄부터 N개의 줄에는 수가 주어진다. 이 수는 절댓값이 1,000보다 작거나 같은 정수이다. 수는 중복되지 않는다."
      ]
    },
    {
      "cell_type": "markdown",
      "metadata": {
        "id": "Ar1hCLVxwiDl"
      },
      "source": [
        "* 출력"
      ]
    },
    {
      "cell_type": "markdown",
      "metadata": {
        "id": "VaXKN9fc3uUv"
      },
      "source": [
        "첫째 줄부터 N개의 줄에 오름차순으로 정렬한 결과를 한 줄에 하나씩 출력한다."
      ]
    },
    {
      "cell_type": "markdown",
      "metadata": {
        "id": "8tmCzTFmwwmN"
      },
      "source": [
        "* 예제"
      ]
    },
    {
      "cell_type": "markdown",
      "metadata": {
        "id": "ZuKUpEvu3uuv"
      },
      "source": [
        "![image.png](data:image/png;base64,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)"
      ]
    },
    {
      "cell_type": "markdown",
      "source": [
        "## 구상"
      ],
      "metadata": {
        "id": "AGhrdbYB1CKt"
      }
    },
    {
      "cell_type": "markdown",
      "source": [
        "-"
      ],
      "metadata": {
        "id": "TU2SB-V61DWu"
      }
    },
    {
      "cell_type": "markdown",
      "metadata": {
        "id": "__zt_kEJw3Zd"
      },
      "source": [
        "## 코드"
      ]
    },
    {
      "cell_type": "code",
      "source": [
        "# 2750\n",
        "n = int(input())\n",
        "arr = []\n",
        "for i in range(n):\n",
        "    arr.append(int(input()))\n",
        "arr.sort()\n",
        "\n",
        "for i in arr:\n",
        "    print(i)"
      ],
      "metadata": {
        "colab": {
          "base_uri": "https://localhost:8080/"
        },
        "id": "gwimGxrlVjKZ",
        "outputId": "2846fa40-6f24-438c-da99-445a58c1763e"
      },
      "execution_count": null,
      "outputs": [
        {
          "output_type": "stream",
          "name": "stdout",
          "text": [
            "5\n",
            "5\n",
            "2\n",
            "3\n",
            "4\n",
            "1\n",
            "1\n",
            "2\n",
            "3\n",
            "4\n",
            "5\n"
          ]
        }
      ]
    },
    {
      "cell_type": "code",
      "source": [
        "# 2751(2750 상위)\n",
        "import sys\n",
        "\n",
        "n = int(sys.stdin.readline())\n",
        "arr = [int(sys.stdin.readline()) for _ in range(n)]\n",
        "arr.sort()\n",
        "\n",
        "sys.stdout.write(\"\\n\".join(map(str, arr)) + \"\\n\")  # 한 번에 출력"
      ],
      "metadata": {
        "id": "D5DMTBqpigWO"
      },
      "execution_count": null,
      "outputs": []
    },
    {
      "cell_type": "code",
      "source": [
        "# 10989\n",
        "import sys\n",
        "N = int(sys.stdin.readline().rstrip())\n",
        "cnt_dic = {}\n",
        "for _ in range(N):\n",
        "    X =int(sys.stdin.readline().rstrip())\n",
        "    if X in cnt_dic: #X가 dic의 키에 없다면\n",
        "        cnt_dic[X] += 1\n",
        "    else:\n",
        "        cnt_dic[X] = 1\n",
        "for i in range(max(cnt_dic.keys())+1):\n",
        "    if i not in cnt_dic:\n",
        "        continue\n",
        "    else:\n",
        "        for _ in range(cnt_dic[i]):\n",
        "            print(i)"
      ],
      "metadata": {
        "id": "fVSeTsaSkpGl"
      },
      "execution_count": null,
      "outputs": []
    },
    {
      "cell_type": "code",
      "source": [
        "# 2587\n",
        "arr = []\n",
        "for _ in range(5):\n",
        "    arr.append(int(input()))\n",
        "arr.sort()\n",
        "\n",
        "print(sum(arr)//5)\n",
        "print(arr[2])\n",
        "\n"
      ],
      "metadata": {
        "id": "HCIDAPDqJ6af",
        "colab": {
          "base_uri": "https://localhost:8080/"
        },
        "outputId": "7d8ba967-736e-486c-ed2c-6c5b9af1797d"
      },
      "execution_count": null,
      "outputs": [
        {
          "output_type": "stream",
          "name": "stdout",
          "text": [
            "10\n",
            "40\n",
            "30\n",
            "60\n",
            "30\n",
            "34.0\n",
            "30\n"
          ]
        }
      ]
    },
    {
      "cell_type": "code",
      "source": [
        "# 25305\n",
        "N, k = map(int,input().split())\n",
        "scores = list(map(int,input().split()))\n",
        "scores.sort(reverse=True)\n",
        "print(scores[k-1])"
      ],
      "metadata": {
        "colab": {
          "base_uri": "https://localhost:8080/"
        },
        "id": "S8028S2CV4si",
        "outputId": "bb2aa0ba-8e3b-47d9-d25b-276cce8704d4"
      },
      "execution_count": null,
      "outputs": [
        {
          "output_type": "stream",
          "name": "stdout",
          "text": [
            "5 2\n",
            "100 76 85 93 98\n",
            "98\n"
          ]
        }
      ]
    },
    {
      "cell_type": "code",
      "source": [
        "# 1427\n",
        "N = input()\n",
        "arr = []\n",
        "for i in N:\n",
        "    arr.append(i)\n",
        "\n",
        "arr.sort(reverse=True)\n",
        "for i in arr:\n",
        "    print(i,end='')"
      ],
      "metadata": {
        "colab": {
          "base_uri": "https://localhost:8080/"
        },
        "id": "6ktwkeAp1wzZ",
        "outputId": "00e5b0de-f1b0-4fb9-b890-18f69c2b085f"
      },
      "execution_count": 4,
      "outputs": [
        {
          "output_type": "stream",
          "name": "stdout",
          "text": [
            "2143\n",
            "4321"
          ]
        }
      ]
    },
    {
      "cell_type": "code",
      "source": [
        "# 11650\n",
        "N = int(input())\n",
        "arr = []\n",
        "for _ in range(N):\n",
        "    arr.append(list(map(int,input().split())))\n",
        "\n",
        "arr.sort(key= lambda x: (x[0],x[1]))\n",
        "for i, j in arr:\n",
        "    print(i,j)\n",
        "\n",
        "# 11651\n",
        "\n",
        "N = int(input())\n",
        "arr = []\n",
        "for _ in range(N):\n",
        "    arr.append(list(map(int,input().split())))\n",
        "\n",
        "arr.sort(key= lambda x: (x[1],x[0]))\n",
        "for i, j in arr:\n",
        "    print(i,j)"
      ],
      "metadata": {
        "colab": {
          "base_uri": "https://localhost:8080/"
        },
        "id": "KQcUjvss2pLp",
        "outputId": "4656cb85-940e-4fb0-e26e-2d56af040201"
      },
      "execution_count": 7,
      "outputs": [
        {
          "output_type": "stream",
          "name": "stdout",
          "text": [
            "5\n",
            "3 4\n",
            "1 1\n",
            "1 -1\n",
            "2 2\n",
            "3 3\n",
            "1 -1\n",
            "1 1\n",
            "2 2\n",
            "3 3\n",
            "3 4\n"
          ]
        }
      ]
    },
    {
      "cell_type": "markdown",
      "metadata": {
        "id": "bSzpKoeFzzUN"
      },
      "source": [
        "## 메모\n",
        "\n",
        "* 세련된 코드는 아니지만 나름 최적화를 해보았다\n",
        "* 때론 단순한 방법이 문제해결에 더 효과적일 수 있다. 컴퓨터의 연산력을 믿자."
      ]
    },
    {
      "cell_type": "code",
      "source": [],
      "metadata": {
        "id": "d_nCYXnmZXvu"
      },
      "execution_count": null,
      "outputs": []
    },
    {
      "cell_type": "code",
      "source": [],
      "metadata": {
        "id": "3CeoBqWOLnWM"
      },
      "execution_count": null,
      "outputs": []
    },
    {
      "cell_type": "code",
      "source": [],
      "metadata": {
        "id": "gr42EdaVWS2e"
      },
      "execution_count": null,
      "outputs": []
    }
  ]
}