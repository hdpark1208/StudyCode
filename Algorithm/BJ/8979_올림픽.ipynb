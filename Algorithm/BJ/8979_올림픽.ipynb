{
  "nbformat": 4,
  "nbformat_minor": 0,
  "metadata": {
    "colab": {
      "provenance": [],
      "include_colab_link": true
    },
    "kernelspec": {
      "name": "python3",
      "display_name": "Python 3"
    },
    "language_info": {
      "name": "python"
    }
  },
  "cells": [
    {
      "cell_type": "markdown",
      "metadata": {
        "id": "view-in-github",
        "colab_type": "text"
      },
      "source": [
        "<a href=\"https://colab.research.google.com/github/hdpark1208/StudyCode/blob/main/Algorithm/BJ/8979_%EC%98%AC%EB%A6%BC%ED%94%BD.ipynb\" target=\"_parent\"><img src=\"https://colab.research.google.com/assets/colab-badge.svg\" alt=\"Open In Colab\"/></a>"
      ]
    },
    {
      "cell_type": "markdown",
      "metadata": {
        "id": "Yh4kWp1luxrW"
      },
      "source": [
        "# 올림픽"
      ]
    },
    {
      "cell_type": "markdown",
      "metadata": {
        "id": "Xg2dbbF7u2R8"
      },
      "source": [
        "올림픽은 참가에 의의가 있기에 공식적으로는 국가간 순위를 정하지 않는다. 그러나, 많은 사람들이 자신의 국가가 얼마나 잘 하는지에 관심이 많기 때문에 비공식적으로는 국가간 순위를 정하고 있다. 두 나라가 각각 얻은 금, 은, 동메달 수가 주어지면, 보통 다음 규칙을 따라 어느 나라가 더 잘했는지 결정한다.\n",
        "\n",
        "1. 금메달 수가 더 많은 나라\n",
        "2. 금메달 수가 같으면, 은메달 수가 더 많은 나라\n",
        "3. 금, 은메달 수가 모두 같으면, 동메달 수가 더 많은 나라\n",
        "\n",
        "\n",
        "각 국가는 1부터 N 사이의 정수로 표현된다. 한 국가의 등수는 (자신보다 더 잘한 나라 수) + 1로 정의된다. 만약 두 나라가 금, 은, 동메달 수가 모두 같다면 두 나라의 등수는 같다. 예를 들어, 1번 국가가 금메달 1개, 은메달 1개를 얻었고, 2번 국가와 3번 국가가 모두 은메달 1개를 얻었으며, 4번 국가는 메달을 얻지 못하였다면, 1번 국가가 1등, 2번 국가와 3번 국가가 공동 2등, 4번 국가가 4등이 된다. 이 경우 3등은 없다.\n",
        "\n",
        "각 국가의 금, 은, 동메달 정보를 입력받아서, 어느 국가가 몇 등을 했는지 알려주는 프로그램을 작성하시오."
      ]
    },
    {
      "cell_type": "markdown",
      "metadata": {
        "id": "LqXcSRcPu8kj"
      },
      "source": [
        "## 입력 출력 및 예제\n"
      ]
    },
    {
      "cell_type": "markdown",
      "metadata": {
        "id": "rFCkhMXFvDp0"
      },
      "source": [
        "* 입력"
      ]
    },
    {
      "cell_type": "markdown",
      "metadata": {
        "id": "XwU2sme_3t7A"
      },
      "source": [
        "입력의 첫 줄은 국가의 수 N(1 ≤ N ≤ 1,000)과 등수를 알고 싶은 국가 K(1 ≤ K ≤ N)가 빈칸을 사이에 두고 주어진다. 각 국가는 1부터 N 사이의 정수로 표현된다. 이후 N개의 각 줄에는 차례대로 각 국가를 나타내는 정수와 이 국가가 얻은 금, 은, 동메달의 수가 빈칸을 사이에 두고 주어진다. 전체 메달 수의 총합은 1,000,000 이하이다."
      ]
    },
    {
      "cell_type": "markdown",
      "metadata": {
        "id": "Ar1hCLVxwiDl"
      },
      "source": [
        "* 출력"
      ]
    },
    {
      "cell_type": "markdown",
      "metadata": {
        "id": "VaXKN9fc3uUv"
      },
      "source": [
        "출력은 단 한 줄이며, 입력받은 국가 K의 등수를 하나의 정수로 출력한다. 등수는 반드시 문제에서 정의된 방식을 따라야 한다."
      ]
    },
    {
      "cell_type": "markdown",
      "metadata": {
        "id": "8tmCzTFmwwmN"
      },
      "source": [
        "* 예제"
      ]
    },
    {
      "cell_type": "markdown",
      "metadata": {
        "id": "ZuKUpEvu3uuv"
      },
      "source": [
        "![image.png](data:image/png;base64,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)"
      ]
    },
    {
      "cell_type": "markdown",
      "source": [
        "## 구상"
      ],
      "metadata": {
        "id": "AGhrdbYB1CKt"
      }
    },
    {
      "cell_type": "markdown",
      "source": [
        "-"
      ],
      "metadata": {
        "id": "TU2SB-V61DWu"
      }
    },
    {
      "cell_type": "markdown",
      "metadata": {
        "id": "__zt_kEJw3Zd"
      },
      "source": [
        "## 코드"
      ]
    },
    {
      "cell_type": "code",
      "source": [
        "del input"
      ],
      "metadata": {
        "id": "6HwyOU8Zei_f"
      },
      "execution_count": 5,
      "outputs": []
    },
    {
      "cell_type": "code",
      "source": [
        "from ctypes import resize\n",
        "a = [[1,2],[5,6],[3,4], [5,6],[3,4]]\n",
        "a.sort(reverse=True)\n",
        "a"
      ],
      "metadata": {
        "colab": {
          "base_uri": "https://localhost:8080/"
        },
        "id": "Blbc_vJCfue9",
        "outputId": "be836809-44f4-486f-d53d-816b62134afe"
      },
      "execution_count": 16,
      "outputs": [
        {
          "output_type": "execute_result",
          "data": {
            "text/plain": [
              "[[5, 6], [5, 6], [3, 4], [3, 4], [1, 2]]"
            ]
          },
          "metadata": {},
          "execution_count": 16
        }
      ]
    },
    {
      "cell_type": "code",
      "source": [
        "a.index([3,4])"
      ],
      "metadata": {
        "colab": {
          "base_uri": "https://localhost:8080/"
        },
        "id": "VCV2P01hibIL",
        "outputId": "86fee7af-b503-4d83-fa25-a31ccae29ea8"
      },
      "execution_count": 18,
      "outputs": [
        {
          "output_type": "execute_result",
          "data": {
            "text/plain": [
              "2"
            ]
          },
          "metadata": {},
          "execution_count": 18
        }
      ]
    },
    {
      "cell_type": "code",
      "source": [
        "import sys\n",
        "# input = sys.stdin.readline\n",
        "\n",
        "N, K = map(int,input().split())\n",
        "olympics = dict()\n",
        "medal_list = []\n",
        "for i in range(1,N+1):\n",
        "\n",
        "    data = list(map(int, input().split()))\n",
        "    olympics[data[0]] = data[1:]\n",
        "    medal_list.append(data[1:])\n",
        "    if data[0] == K:\n",
        "        target_nation = data[1:]\n",
        "\n",
        "medal_list.sort(reverse=True)\n",
        "\n",
        "try:\n",
        "    rank = medal_list.index(target_nation)\n",
        "    print(rank + 1)\n",
        "except ValueError:\n",
        "    print('no')\n"
      ],
      "metadata": {
        "id": "y1mttU-m3C9h",
        "colab": {
          "base_uri": "https://localhost:8080/"
        },
        "outputId": "961e3dc1-6d68-4b58-8943-f7ffb9671b02"
      },
      "execution_count": 20,
      "outputs": [
        {
          "output_type": "stream",
          "name": "stdout",
          "text": [
            "4 2\n",
            "1 3 0 0\n",
            "3 0  0 2\n",
            "4 0 2 0\n",
            "2 0 2 0\n",
            "2\n"
          ]
        }
      ]
    },
    {
      "cell_type": "code",
      "source": [
        "target_nation"
      ],
      "metadata": {
        "id": "nDf0V7bjvWyk",
        "colab": {
          "base_uri": "https://localhost:8080/"
        },
        "outputId": "6f670452-e085-4ba9-f264-ba8788f27778"
      },
      "execution_count": 14,
      "outputs": [
        {
          "output_type": "execute_result",
          "data": {
            "text/plain": [
              "[0, 1, 0]"
            ]
          },
          "metadata": {},
          "execution_count": 14
        }
      ]
    },
    {
      "cell_type": "code",
      "source": [],
      "metadata": {
        "id": "j8sfOtc1lGUG"
      },
      "execution_count": null,
      "outputs": []
    },
    {
      "cell_type": "code",
      "source": [],
      "metadata": {
        "colab": {
          "base_uri": "https://localhost:8080/"
        },
        "id": "LAEYzv4nlEkS",
        "outputId": "70154f55-7dc9-45ab-e3fa-68008b30a2a6"
      },
      "execution_count": null,
      "outputs": [
        {
          "output_type": "execute_result",
          "data": {
            "text/plain": [
              "100"
            ]
          },
          "metadata": {},
          "execution_count": 20
        }
      ]
    },
    {
      "cell_type": "code",
      "source": [],
      "metadata": {
        "id": "vPtwctNN1cyV",
        "colab": {
          "base_uri": "https://localhost:8080/"
        },
        "outputId": "cdd74dbc-351a-4d2e-87a5-908eb5073f82"
      },
      "execution_count": null,
      "outputs": [
        {
          "output_type": "stream",
          "name": "stdout",
          "text": [
            "5 4 1 1 \n",
            "6\n"
          ]
        }
      ]
    },
    {
      "cell_type": "markdown",
      "source": [
        "### 메모"
      ],
      "metadata": {
        "id": "-n10miTJFzvM"
      }
    },
    {
      "cell_type": "markdown",
      "source": [
        "* 생각해보면 쉬운 문제였으나, 처음에 당황했다."
      ],
      "metadata": {
        "id": "6ePQssjlF2--"
      }
    },
    {
      "cell_type": "code",
      "source": [],
      "metadata": {
        "id": "uX2usWhaF0yx"
      },
      "execution_count": null,
      "outputs": []
    }
  ]
}