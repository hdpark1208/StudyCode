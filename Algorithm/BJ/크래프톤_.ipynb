{
  "nbformat": 4,
  "nbformat_minor": 0,
  "metadata": {
    "colab": {
      "provenance": [],
      "include_colab_link": true
    },
    "kernelspec": {
      "name": "python3",
      "display_name": "Python 3"
    },
    "language_info": {
      "name": "python"
    }
  },
  "cells": [
    {
      "cell_type": "markdown",
      "metadata": {
        "id": "view-in-github",
        "colab_type": "text"
      },
      "source": [
        "<a href=\"https://colab.research.google.com/github/hdpark1208/StudyCode/blob/main/Algorithm/BJ/%ED%81%AC%EB%9E%98%ED%94%84%ED%86%A4_.ipynb\" target=\"_parent\"><img src=\"https://colab.research.google.com/assets/colab-badge.svg\" alt=\"Open In Colab\"/></a>"
      ]
    },
    {
      "cell_type": "markdown",
      "metadata": {
        "id": "Yh4kWp1luxrW"
      },
      "source": [
        "# 크래프톤 직무시험(AI응용연구)"
      ]
    },
    {
      "cell_type": "markdown",
      "source": [
        "* 알고리즘 문제 1, AI 서술형 문제 6"
      ],
      "metadata": {
        "id": "aEu3DCMOFBsr"
      }
    },
    {
      "cell_type": "markdown",
      "metadata": {
        "id": "Xg2dbbF7u2R8"
      },
      "source": [
        "* 상점이 폐업 정리 판매를 한다\n",
        "* 폐업까지 남은 일 수 n, 상점이 판매하는 물품의 정보를 담은 products가 주어진다\n",
        "    * p에는 재고량(m), 판매가격(p), 일 판매량이 주어진다(s)\n",
        "* 상점에는 매대가 존재하여 해당 제품의 일 판매량을 2배로 늘릴 수 있다\n",
        "    * 매대는 일 마다 바꿀 수 있으며, 하루가 끝나기 전에는 바뀔 수 없다.\n",
        "* 상점이 폐업까지 벌 수 있는 최대 판매량을 구하라"
      ]
    },
    {
      "cell_type": "markdown",
      "metadata": {
        "id": "LqXcSRcPu8kj"
      },
      "source": [
        "## 입력 출력 및 예제\n"
      ]
    },
    {
      "cell_type": "markdown",
      "source": [
        "* 예제1. 입력 : 2, [[10,3,2],[15,2,5]] , 출력 : 48\n",
        "* 예제2. 입력 : 3, [[6,5,1],[11,3,2],[7,10,3]] , 출력 : 120"
      ],
      "metadata": {
        "id": "j9h5qtMgGuhf"
      }
    },
    {
      "cell_type": "markdown",
      "metadata": {
        "id": "rFCkhMXFvDp0"
      },
      "source": [
        "* 입력"
      ]
    },
    {
      "cell_type": "markdown",
      "metadata": {
        "id": "XwU2sme_3t7A"
      },
      "source": []
    },
    {
      "cell_type": "markdown",
      "metadata": {
        "id": "Ar1hCLVxwiDl"
      },
      "source": [
        "* 출력"
      ]
    },
    {
      "cell_type": "markdown",
      "metadata": {
        "id": "VaXKN9fc3uUv"
      },
      "source": []
    },
    {
      "cell_type": "markdown",
      "metadata": {
        "id": "8tmCzTFmwwmN"
      },
      "source": [
        "* 예제"
      ]
    },
    {
      "cell_type": "markdown",
      "metadata": {
        "id": "ZuKUpEvu3uuv"
      },
      "source": []
    },
    {
      "cell_type": "markdown",
      "source": [
        "## 구상"
      ],
      "metadata": {
        "id": "AGhrdbYB1CKt"
      }
    },
    {
      "cell_type": "markdown",
      "source": [
        "- 브루트 포스 관련 여러 문제들.\n",
        "- 정렬을 해준 뒤 3중 for문을 형성하여 M 값에 가까워지도록 오름차순으로 찾아가보자\n",
        "- 오름차순이므로 어느정도의 최적화를 위해 M 값이 초과하면 break 해주자"
      ],
      "metadata": {
        "id": "TU2SB-V61DWu"
      }
    },
    {
      "cell_type": "markdown",
      "metadata": {
        "id": "__zt_kEJw3Zd"
      },
      "source": [
        "## 코드"
      ]
    },
    {
      "cell_type": "code",
      "source": [
        "for i in range(5):\n",
        "    if i > 2:\n",
        "        print(i)\n",
        "        break\n",
        "    print('?')"
      ],
      "metadata": {
        "colab": {
          "base_uri": "https://localhost:8080/"
        },
        "id": "gwimGxrlVjKZ",
        "outputId": "db94d091-6742-4f0b-f649-e2f1023f106a"
      },
      "execution_count": 2,
      "outputs": [
        {
          "output_type": "stream",
          "name": "stdout",
          "text": [
            "?\n",
            "?\n",
            "?\n",
            "3\n"
          ]
        }
      ]
    },
    {
      "cell_type": "code",
      "source": [
        "def solution(n,P): # P = [[m1,p1,s1],[m2,p2,s2],...]\n",
        "    m = n\n",
        "    answer = 0\n",
        "    while n > 0:\n",
        "        for i in range(len(P)):\n",
        "            if P[i][0] >= P[i][2]:\n",
        "                answer += P[i][1]* P[i][2]\n",
        "                P[i][0] -= P[i][2]\n",
        "\n",
        "            elif 0 < P[i][0] <P[i][2]:\n",
        "                answer += P[i][0] * P[i][2]\n",
        "                P[i][0] = 0\n",
        "\n",
        "            else:\n",
        "                continue\n",
        "        n -= 1\n",
        "    P.sort(key=lambda x:x[1])\n",
        "    print('중간점검:',answer)\n",
        "    while m > 0:\n",
        "        for i in range(len(P)):\n",
        "            if P[i][0] >= P[i][2]:\n",
        "                answer += P[i][1]* P[i][2]\n",
        "                P[i][0] -= P[i][2]\n",
        "                break\n",
        "\n",
        "            elif 0 < P[i][0] <P[i][2]:\n",
        "                if P[i][0] * P[i][2] >= P[i+1][1] * P[i+1][2]:\n",
        "                    answer += P[i][0] * P[i][2]\n",
        "                    P[i][0] = 0\n",
        "                    break\n",
        "                else:\n",
        "                    continue\n",
        "\n",
        "            else:\n",
        "                continue\n",
        "        m -= 1\n",
        "    print('결산:',answer)\n",
        "\n",
        "\n",
        "    return answer\n",
        "\n",
        "\n"
      ],
      "metadata": {
        "id": "HCIDAPDqJ6af"
      },
      "execution_count": 18,
      "outputs": []
    },
    {
      "cell_type": "code",
      "source": [
        "n1, P1 = 2, [[10,3,2,],[15,2,5]]\n",
        "n2, P2 = 3, [[6,5,1],[11,3,2],[7,10,3]]\n",
        "#solution(n1,P1)\n",
        "solution(n2,P2)"
      ],
      "metadata": {
        "colab": {
          "base_uri": "https://localhost:8080/"
        },
        "id": "jZpTreaROhut",
        "outputId": "435696d4-3ba9-4f5a-f4ac-5c2ee8da2cd7"
      },
      "execution_count": 19,
      "outputs": [
        {
          "output_type": "stream",
          "name": "stdout",
          "text": [
            "중간점검: 96\n",
            "결산: 113\n"
          ]
        },
        {
          "output_type": "execute_result",
          "data": {
            "text/plain": [
              "113"
            ]
          },
          "metadata": {},
          "execution_count": 19
        }
      ]
    },
    {
      "cell_type": "code",
      "source": [
        "a = [[1,2,3],[7,8,9],[4,5,6]]\n",
        "a.sort(key=lambda x: x[1])\n",
        "a"
      ],
      "metadata": {
        "colab": {
          "base_uri": "https://localhost:8080/"
        },
        "id": "WQvvj-WOPN49",
        "outputId": "1dc120b6-0323-4eeb-fab0-466dad69bc45"
      },
      "execution_count": 1,
      "outputs": [
        {
          "output_type": "execute_result",
          "data": {
            "text/plain": [
              "[[1, 2, 3], [4, 5, 6], [7, 8, 9]]"
            ]
          },
          "metadata": {},
          "execution_count": 1
        }
      ]
    },
    {
      "cell_type": "code",
      "source": [
        "# 2231\n",
        "def generator(N):\n",
        "    N1 = str(N)\n",
        "    G = 0\n",
        "    for i in N1:\n",
        "        G += int(i)\n",
        "    G += N\n",
        "    return G\n",
        "\n",
        "def main(answer):\n",
        "    for i in range(1,answer):\n",
        "        G = generator(i)\n",
        "        if G == answer:\n",
        "            return print(i)\n",
        "    return print(0)\n",
        "\n",
        "N = int(input())\n",
        "main(N)"
      ],
      "metadata": {
        "colab": {
          "base_uri": "https://localhost:8080/"
        },
        "id": "ObbaYgbgYcqS",
        "outputId": "5cb173d7-8f25-4256-a98d-851d4c7a0474"
      },
      "execution_count": null,
      "outputs": [
        {
          "output_type": "stream",
          "name": "stdout",
          "text": [
            "216\n",
            "198\n"
          ]
        }
      ]
    },
    {
      "cell_type": "code",
      "source": [
        "# 19532\n",
        "a, b, c, d, e, f = map(int, input().split())\n",
        "\n",
        "for x in range(-999, 1000):  # x를 -999부터 999까지 탐색\n",
        "    for y in range(-999, 1000):  # y를 -999부터 999까지 탐색\n",
        "        if a * x + b * y == c and d * x + e * y == f:\n",
        "            print(x, y)\n",
        "            exit()  # 첫 번째 해를 찾으면 종료\n"
      ],
      "metadata": {
        "colab": {
          "base_uri": "https://localhost:8080/"
        },
        "id": "HfIXzojOZYVn",
        "outputId": "532a4a49-0fc0-4d89-a203-cff50ccf08a4"
      },
      "execution_count": null,
      "outputs": [
        {
          "output_type": "stream",
          "name": "stdout",
          "text": [
            "G: 216\n",
            "0\n"
          ]
        }
      ]
    },
    {
      "cell_type": "code",
      "source": [
        "'1124' in '1124123'"
      ],
      "metadata": {
        "colab": {
          "base_uri": "https://localhost:8080/"
        },
        "id": "nCKeUGY75RQv",
        "outputId": "94e696bf-7278-47d4-cdfc-d0023eebe11a"
      },
      "execution_count": null,
      "outputs": [
        {
          "output_type": "execute_result",
          "data": {
            "text/plain": [
              "True"
            ]
          },
          "metadata": {},
          "execution_count": 1
        }
      ]
    },
    {
      "cell_type": "code",
      "source": [
        "# 1436\n",
        "num = 666\n",
        "count = 0\n",
        "N = int(input())\n",
        "while True:\n",
        "    if '666' in str(num):\n",
        "        count += 1\n",
        "\n",
        "    if count == N:\n",
        "        print(num)\n",
        "        break\n",
        "    else:\n",
        "        num += 1\n",
        "\n",
        "\n",
        "\n",
        "\n"
      ],
      "metadata": {
        "colab": {
          "base_uri": "https://localhost:8080/"
        },
        "id": "aV-L4pnj3RQn",
        "outputId": "1a2cd7b9-8aa1-4cc4-ec95-78960bb26efd"
      },
      "execution_count": null,
      "outputs": [
        {
          "output_type": "stream",
          "name": "stdout",
          "text": [
            "187\n",
            "66666\n"
          ]
        }
      ]
    },
    {
      "cell_type": "markdown",
      "metadata": {
        "id": "bSzpKoeFzzUN"
      },
      "source": [
        "## 메모\n",
        "\n",
        "* 세련된 코드는 아니지만 나름 최적화를 해보았다\n",
        "* 때론 단순한 방법이 문제해결에 더 효과적일 수 있다. 컴퓨터의 연산력을 믿자."
      ]
    },
    {
      "cell_type": "code",
      "source": [],
      "metadata": {
        "id": "d_nCYXnmZXvu"
      },
      "execution_count": null,
      "outputs": []
    },
    {
      "cell_type": "code",
      "source": [],
      "metadata": {
        "id": "3CeoBqWOLnWM"
      },
      "execution_count": null,
      "outputs": []
    },
    {
      "cell_type": "code",
      "source": [],
      "metadata": {
        "id": "gr42EdaVWS2e"
      },
      "execution_count": null,
      "outputs": []
    }
  ]
}