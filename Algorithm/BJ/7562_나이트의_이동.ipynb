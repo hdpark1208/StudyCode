{
  "nbformat": 4,
  "nbformat_minor": 0,
  "metadata": {
    "colab": {
      "name": "7562_나이트의 이동.ipynb",
      "provenance": [],
      "collapsed_sections": [],
      "authorship_tag": "ABX9TyNFkssXoZBWVctUp8rPU7Cr",
      "include_colab_link": true
    },
    "kernelspec": {
      "name": "python3",
      "display_name": "Python 3"
    },
    "language_info": {
      "name": "python"
    }
  },
  "cells": [
    {
      "cell_type": "markdown",
      "metadata": {
        "id": "view-in-github",
        "colab_type": "text"
      },
      "source": [
        "<a href=\"https://colab.research.google.com/github/hdpark1208/StudyCode/blob/main/Algorithm/BJ/7562_%EB%82%98%EC%9D%B4%ED%8A%B8%EC%9D%98_%EC%9D%B4%EB%8F%99.ipynb\" target=\"_parent\"><img src=\"https://colab.research.google.com/assets/colab-badge.svg\" alt=\"Open In Colab\"/></a>"
      ]
    },
    {
      "cell_type": "code",
      "metadata": {
        "id": "vrKvqY1ZdN8y"
      },
      "source": [
        ""
      ],
      "execution_count": null,
      "outputs": []
    },
    {
      "cell_type": "markdown",
      "metadata": {
        "id": "Yh4kWp1luxrW"
      },
      "source": [
        "# 나이트의 이동"
      ]
    },
    {
      "cell_type": "markdown",
      "metadata": {
        "id": "Xg2dbbF7u2R8"
      },
      "source": [
        "체스판 위에 한 나이트가 놓여져 있다. 나이트가 한 번에 이동할 수 있는 칸은 아래 그림에 나와있다. 나이트가 이동하려고 하는 칸이 주어진다. 나이트는 몇 번 움직이면 이 칸으로 이동할 수 있을까?\n",
        "![image.png](data:image/png;base64,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)"
      ]
    },
    {
      "cell_type": "markdown",
      "metadata": {
        "id": "LqXcSRcPu8kj"
      },
      "source": [
        "## 입력 출력 및 예제\n"
      ]
    },
    {
      "cell_type": "markdown",
      "metadata": {
        "id": "rFCkhMXFvDp0"
      },
      "source": [
        "* 입력"
      ]
    },
    {
      "cell_type": "markdown",
      "metadata": {
        "id": "XwU2sme_3t7A"
      },
      "source": [
        "입력의 첫째 줄에는 테스트 케이스의 개수가 주어진다.\n",
        "\n",
        "각 테스트 케이스는 세 줄로 이루어져 있다. 첫째 줄에는 체스판의 한 변의 길이 l(4 ≤ l ≤ 300)이 주어진다. 체스판의 크기는 l × l이다. 체스판의 각 칸은 두 수의 쌍 {0, ..., l-1} × {0, ..., l-1}로 나타낼 수 있다. 둘째 줄과 셋째 줄에는 나이트가 현재 있는 칸, 나이트가 이동하려고 하는 칸이 주어진다."
      ]
    },
    {
      "cell_type": "markdown",
      "metadata": {
        "id": "Ar1hCLVxwiDl"
      },
      "source": [
        "* 출력"
      ]
    },
    {
      "cell_type": "markdown",
      "metadata": {
        "id": "VaXKN9fc3uUv"
      },
      "source": [
        "각 테스트 케이스마다 나이트가 최소 몇 번만에 이동할 수 있는지 출력한다."
      ]
    },
    {
      "cell_type": "markdown",
      "metadata": {
        "id": "8tmCzTFmwwmN"
      },
      "source": [
        "* 입력 예제"
      ]
    },
    {
      "cell_type": "markdown",
      "metadata": {
        "id": "ZuKUpEvu3uuv"
      },
      "source": [
        "3  \n",
        "8  \n",
        "0 0  \n",
        "7 0  \n",
        "100  \n",
        "0 0  \n",
        "30 50  \n",
        "10  \n",
        "1 1  \n",
        "1 1  "
      ]
    },
    {
      "cell_type": "markdown",
      "metadata": {
        "id": "bnyvaNYDPh1d"
      },
      "source": [
        "* 출력 예제"
      ]
    },
    {
      "cell_type": "markdown",
      "metadata": {
        "id": "rYAVTu3K3vDN"
      },
      "source": [
        "5  \n",
        "28  \n",
        "0"
      ]
    },
    {
      "cell_type": "markdown",
      "metadata": {
        "id": "__zt_kEJw3Zd"
      },
      "source": [
        "## 코드"
      ]
    },
    {
      "cell_type": "code",
      "metadata": {
        "colab": {
          "base_uri": "https://localhost:8080/"
        },
        "id": "pX9oe8cQF2yU",
        "outputId": "16512eb4-5f99-4635-b7ad-a29529a57cf3"
      },
      "source": [
        "a = list(map(int,input().split()))\n",
        "a"
      ],
      "execution_count": null,
      "outputs": [
        {
          "output_type": "stream",
          "text": [
            "1 2 3\n"
          ],
          "name": "stdout"
        },
        {
          "output_type": "execute_result",
          "data": {
            "text/plain": [
              "[1, 2, 3]"
            ]
          },
          "metadata": {
            "tags": []
          },
          "execution_count": 6
        }
      ]
    },
    {
      "cell_type": "code",
      "metadata": {
        "colab": {
          "base_uri": "https://localhost:8080/"
        },
        "id": "xG3Tii7UGXSx",
        "outputId": "734c062b-6247-448b-dec5-e29b62ffc620"
      },
      "source": [
        "test = []\n",
        "test.append(a)\n",
        "test"
      ],
      "execution_count": null,
      "outputs": [
        {
          "output_type": "execute_result",
          "data": {
            "text/plain": [
              "[[1, 2, 3]]"
            ]
          },
          "metadata": {
            "tags": []
          },
          "execution_count": 7
        }
      ]
    },
    {
      "cell_type": "code",
      "metadata": {
        "colab": {
          "base_uri": "https://localhost:8080/"
        },
        "id": "XO5pDOmXiJZG",
        "outputId": "9f09d613-654f-4686-b30d-65365bb15369"
      },
      "source": [
        "set_num = int(input())\n",
        "graph = []\n",
        "size = []\n",
        "start = []\n",
        "goal = []\n",
        "for i in range(set_num):\n",
        "    n = int(input())\n",
        "    size.append(n)\n",
        "    graph.append([[0 for j in range(n)] for i in range(n)])\n",
        "    start.append(list(map(int,input().split()))) # 원소가 int 인 리스트는 어떻게 해야할까? map 이란 변수를 사용해서 문제였음...변수명, 함수 같이쓰지말자!!!\n",
        "    goal.append(list(map(int,input().split())))\n",
        "\n"
      ],
      "execution_count": null,
      "outputs": [
        {
          "output_type": "stream",
          "text": [
            "3\n",
            "8\n",
            "0 0\n",
            "7 0\n",
            "100\n",
            "0 0\n",
            "30 50\n",
            "10\n",
            "1 1\n",
            "1 1\n"
          ],
          "name": "stdout"
        }
      ]
    },
    {
      "cell_type": "code",
      "metadata": {
        "id": "AaqMXqu52iG1",
        "colab": {
          "base_uri": "https://localhost:8080/"
        },
        "outputId": "64f6f446-794c-40fa-a3ec-b7895b9e6696"
      },
      "source": [
        "from collections import deque\n",
        "move = [(-2,-1),(-1,-2),(1,-2),(2,-1),(2,1),(1,2),(-1,2),(-2,1)]\n",
        "def bfs(graph,size,start,goal): # start = [ , ], goal = [ , ]\n",
        "    if start==goal:\n",
        "            return 0\n",
        "    queue = deque()\n",
        "    queue.append(start)\n",
        "    while queue:\n",
        "        x=queue.popleft()\n",
        "        if x==goal:\n",
        "            return graph[goal[0]][goal[1]]\n",
        "        for i in move:\n",
        "            nx = x[0] + i[0]\n",
        "            ny = x[1] + i[1]\n",
        "            if nx < 0 or nx > size-1 or ny < 0 or ny > size-1:\n",
        "                continue\n",
        "            if graph[nx][ny]==0:\n",
        "                graph[nx][ny] = graph[x[0]][x[1]]+1\n",
        "                queue.append([nx,ny])\n",
        "    return graph[goal[0]][goal[1]]\n",
        "\n",
        "for i in range(set_num):\n",
        "    print(bfs(graph[i],size[i],start[i],goal[i]))\n",
        "\n"
      ],
      "execution_count": null,
      "outputs": [
        {
          "output_type": "stream",
          "text": [
            "5\n",
            "28\n",
            "0\n"
          ],
          "name": "stdout"
        }
      ]
    },
    {
      "cell_type": "markdown",
      "metadata": {
        "id": "bSzpKoeFzzUN"
      },
      "source": [
        "## 메모\n"
      ]
    },
    {
      "cell_type": "code",
      "metadata": {
        "id": "OvO-Ts4dxNJf"
      },
      "source": [
        ""
      ],
      "execution_count": null,
      "outputs": []
    }
  ]
}