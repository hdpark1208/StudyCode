{
  "nbformat": 4,
  "nbformat_minor": 0,
  "metadata": {
    "colab": {
      "name": "2667_단지번호붙이기.ipynb",
      "provenance": [],
      "collapsed_sections": [],
      "authorship_tag": "ABX9TyPrdUD6HXqrUqWgktBgX7V0",
      "include_colab_link": true
    },
    "kernelspec": {
      "name": "python3",
      "display_name": "Python 3"
    },
    "language_info": {
      "name": "python"
    }
  },
  "cells": [
    {
      "cell_type": "markdown",
      "metadata": {
        "id": "view-in-github",
        "colab_type": "text"
      },
      "source": [
        "<a href=\"https://colab.research.google.com/github/hdpark1208/StudyCode/blob/main/Algorithm/BJ/2667_%EB%8B%A8%EC%A7%80%EB%B2%88%ED%98%B8%EB%B6%99%EC%9D%B4%EA%B8%B0.ipynb\" target=\"_parent\"><img src=\"https://colab.research.google.com/assets/colab-badge.svg\" alt=\"Open In Colab\"/></a>"
      ]
    },
    {
      "cell_type": "markdown",
      "metadata": {
        "id": "Yh4kWp1luxrW"
      },
      "source": [
        "# 단지번호붙이기"
      ]
    },
    {
      "cell_type": "markdown",
      "metadata": {
        "id": "Xg2dbbF7u2R8"
      },
      "source": [
        "<그림 1>과 같이 정사각형 모양의 지도가 있다. 1은 집이 있는 곳을, 0은 집이 없는 곳을 나타낸다. 철수는 이 지도를 가지고 연결된 집의 모임인 단지를 정의하고, 단지에 번호를 붙이려 한다. 여기서 연결되었다는 것은 어떤 집이 좌우, 혹은 아래위로 다른 집이 있는 경우를 말한다. 대각선상에 집이 있는 경우는 연결된 것이 아니다. <그림 2>는 <그림 1>을 단지별로 번호를 붙인 것이다. 지도를 입력하여 단지수를 출력하고, 각 단지에 속하는 집의 수를 오름차순으로 정렬하여 출력하는 프로그램을 작성하시오\n",
        "\n",
        "![image.png](data:image/png;base64,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)"
      ]
    },
    {
      "cell_type": "markdown",
      "metadata": {
        "id": "LqXcSRcPu8kj"
      },
      "source": [
        "## 입력 출력 및 예제\n"
      ]
    },
    {
      "cell_type": "markdown",
      "metadata": {
        "id": "rFCkhMXFvDp0"
      },
      "source": [
        "* 입력"
      ]
    },
    {
      "cell_type": "markdown",
      "metadata": {
        "id": "XwU2sme_3t7A"
      },
      "source": [
        "첫 번째 줄에는 지도의 크기 N(정사각형이므로 가로와 세로의 크기는 같으며 5≤N≤25)이 입력되고, 그 다음 N줄에는 각각 N개의 자료(0혹은 1)가 입력된다."
      ]
    },
    {
      "cell_type": "markdown",
      "metadata": {
        "id": "Ar1hCLVxwiDl"
      },
      "source": [
        "* 출력"
      ]
    },
    {
      "cell_type": "markdown",
      "metadata": {
        "id": "VaXKN9fc3uUv"
      },
      "source": [
        "첫 번째 줄에는 총 단지수를 출력하시오. 그리고 각 단지내 집의 수를 오름차순으로 정렬하여 한 줄에 하나씩 출력하시오."
      ]
    },
    {
      "cell_type": "markdown",
      "metadata": {
        "id": "8tmCzTFmwwmN"
      },
      "source": [
        "* 입력 예제"
      ]
    },
    {
      "cell_type": "markdown",
      "metadata": {
        "id": "ZuKUpEvu3uuv"
      },
      "source": [
        "7  \n",
        "0110100  \n",
        "0110101  \n",
        "1110101  \n",
        "0000111  \n",
        "0100000  \n",
        "0111110  \n",
        "0111000  "
      ]
    },
    {
      "cell_type": "markdown",
      "metadata": {
        "id": "bnyvaNYDPh1d"
      },
      "source": [
        "* 출력 예제"
      ]
    },
    {
      "cell_type": "markdown",
      "metadata": {
        "id": "rYAVTu3K3vDN"
      },
      "source": [
        "3  \n",
        "7  \n",
        "8  \n",
        "9  "
      ]
    },
    {
      "cell_type": "markdown",
      "metadata": {
        "id": "__zt_kEJw3Zd"
      },
      "source": [
        "## 코드"
      ]
    },
    {
      "cell_type": "code",
      "metadata": {
        "colab": {
          "base_uri": "https://localhost:8080/"
        },
        "id": "2Hgb-UGSiywX",
        "outputId": "bf6ac889-333a-4714-a17e-ceed248c414b"
      },
      "source": [
        "from collections import deque\n",
        "number = deque()\n",
        "\n",
        "def dfs(x,y,name):\n",
        "    a = name[0]\n",
        "\n",
        "    if x <= -1 or x >= n or y <= -1 or y >= n: # 주어진 범위 벗어나면 종료\n",
        "        return False\n",
        "    if graph[x][y]==1:        \n",
        "        graph[x][y] = a # 해당 노드 방문 처리 (다시 접근 못하도록)\n",
        "        dfs(x,y+1,name) # 상, 하, 좌, 우 재귀적으로 호출\n",
        "        dfs(x,y-1,name) \n",
        "        dfs(x-1,y,name) \n",
        "        dfs(x+1,y,name)    \n",
        "        return True\n",
        "    return False \n",
        "n = int(input()) # 지도의 크기\n",
        "\n",
        "for i in range(n**2//2+1):\n",
        "    number.append(str(i+1))\n",
        "\n",
        "apartment = []\n",
        "\n",
        "graph = []\n",
        "for i in range(n):\n",
        "    graph.append(list(map(int,input()))) # 공백없이 1 ~ n 열의 값을 n번 넣는 것임\n",
        "    \n",
        "result = 0\n",
        "for i in range(n):\n",
        "    for j in range(n):\n",
        "        if dfs(i,j,number) == True: # 처음 방문한 덩어리에 대해서만 +1 할 수 있도록\n",
        "            apartment.append(number[0])\n",
        "            number.popleft()\n",
        "\n",
        "apartment_n = []\n",
        "for i in apartment:\n",
        "    count = 0\n",
        "    for j in range(n):\n",
        "        for k in range(n):\n",
        "            if graph[j][k]==i:\n",
        "                count += 1\n",
        "    apartment_n.append(count)\n",
        "\n",
        "apartment_n.sort()\n",
        "print(len(apartment))\n",
        "for i in apartment_n:\n",
        "    print(i)\n",
        "    \n",
        "\n"
      ],
      "execution_count": null,
      "outputs": [
        {
          "output_type": "stream",
          "text": [
            "7\n",
            "0110100\n",
            "0110101\n",
            "1110101\n",
            "0000111\n",
            "0100000\n",
            "0111110\n",
            "0111000\n",
            "3\n",
            "7\n",
            "8\n",
            "9\n"
          ],
          "name": "stdout"
        }
      ]
    },
    {
      "cell_type": "code",
      "metadata": {
        "id": "DRUWRrThmxuO"
      },
      "source": [
        "7\n",
        "0110100\n",
        "0110101\n",
        "1110101\n",
        "0000111\n",
        "0100000\n",
        "0111110\n",
        "0111000"
      ],
      "execution_count": null,
      "outputs": []
    },
    {
      "cell_type": "code",
      "metadata": {
        "colab": {
          "base_uri": "https://localhost:8080/"
        },
        "id": "pF-YvzqS3cnl",
        "outputId": "8c687528-bee9-4974-eb5a-16317535aaf5"
      },
      "source": [
        "graph"
      ],
      "execution_count": null,
      "outputs": [
        {
          "output_type": "execute_result",
          "data": {
            "text/plain": [
              "[['1', 0, '2'], ['1', 0, '2'], [0, 0, 0]]"
            ]
          },
          "metadata": {
            "tags": []
          },
          "execution_count": 23
        }
      ]
    },
    {
      "cell_type": "code",
      "metadata": {
        "colab": {
          "base_uri": "https://localhost:8080/"
        },
        "id": "mvpbDjyWiTRp",
        "outputId": "dc1340eb-8a63-4001-c05b-96a085c18bd3"
      },
      "source": [
        "apartment"
      ],
      "execution_count": null,
      "outputs": [
        {
          "output_type": "execute_result",
          "data": {
            "text/plain": [
              "['1', '2']"
            ]
          },
          "metadata": {
            "tags": []
          },
          "execution_count": 24
        }
      ]
    },
    {
      "cell_type": "code",
      "metadata": {
        "id": "FMttGIo-mqCt"
      },
      "source": [
        "apartment_n.sort()"
      ],
      "execution_count": null,
      "outputs": []
    },
    {
      "cell_type": "code",
      "metadata": {
        "colab": {
          "base_uri": "https://localhost:8080/"
        },
        "id": "CNO55BI0nCA_",
        "outputId": "49ea2b36-f5ca-4bc7-f093-538fa6d2a032"
      },
      "source": [
        "test = [1,3,2,5]\n",
        "test.sort()\n",
        "test"
      ],
      "execution_count": null,
      "outputs": [
        {
          "output_type": "execute_result",
          "data": {
            "text/plain": [
              "[1, 2, 3, 5]"
            ]
          },
          "metadata": {
            "tags": []
          },
          "execution_count": 30
        }
      ]
    },
    {
      "cell_type": "code",
      "metadata": {
        "colab": {
          "base_uri": "https://localhost:8080/"
        },
        "id": "UnAnJeXtnEpQ",
        "outputId": "933d90f0-b38c-4f42-c938-5876553238ce"
      },
      "source": [
        "len(apartment)"
      ],
      "execution_count": null,
      "outputs": [
        {
          "output_type": "execute_result",
          "data": {
            "text/plain": [
              "3"
            ]
          },
          "metadata": {
            "tags": []
          },
          "execution_count": 32
        }
      ]
    },
    {
      "cell_type": "markdown",
      "metadata": {
        "id": "bSzpKoeFzzUN"
      },
      "source": [
        "## 메모\n"
      ]
    },
    {
      "cell_type": "markdown",
      "metadata": {
        "id": "41zAZgBHo4QP"
      },
      "source": [
        "좀 지저분하게 푼것같은데...더 우아하게 못푸나?"
      ]
    },
    {
      "cell_type": "code",
      "metadata": {
        "id": "cxspDpO2nq8B"
      },
      "source": [
        ""
      ],
      "execution_count": null,
      "outputs": []
    }
  ]
}