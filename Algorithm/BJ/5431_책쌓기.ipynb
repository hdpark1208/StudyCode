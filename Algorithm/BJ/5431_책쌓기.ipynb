{
  "nbformat": 4,
  "nbformat_minor": 0,
  "metadata": {
    "colab": {
      "name": "5431_책쌓기.ipynb",
      "provenance": [],
      "collapsed_sections": [],
      "authorship_tag": "ABX9TyPuv1em2vicXj3PwYI7hb+q",
      "include_colab_link": true
    },
    "kernelspec": {
      "name": "python3",
      "display_name": "Python 3"
    },
    "language_info": {
      "name": "python"
    }
  },
  "cells": [
    {
      "cell_type": "markdown",
      "metadata": {
        "id": "view-in-github",
        "colab_type": "text"
      },
      "source": [
        "<a href=\"https://colab.research.google.com/github/hdpark1208/StudyCode/blob/main/Algorithm/BJ/5431_%EC%B1%85%EC%8C%93%EA%B8%B0.ipynb\" target=\"_parent\"><img src=\"https://colab.research.google.com/assets/colab-badge.svg\" alt=\"Open In Colab\"/></a>"
      ]
    },
    {
      "cell_type": "code",
      "metadata": {
        "id": "D1wUtdNwKxQi"
      },
      "source": [
        ""
      ],
      "execution_count": null,
      "outputs": []
    },
    {
      "cell_type": "markdown",
      "metadata": {
        "id": "Yh4kWp1luxrW"
      },
      "source": [
        "# 책 쌓기"
      ]
    },
    {
      "cell_type": "markdown",
      "metadata": {
        "id": "Xg2dbbF7u2R8"
      },
      "source": [
        "선영이는 다양한 크기의 책을 쌓아서 스택 형태로 보관한다. 이런 스택의 가장 위에서부터 크기가 감소하지 않는 순서로 책이 쌓여져 있다면, 스택이 안정된 상태라고 한다. 그렇지 않은 경우에는 스택이 무너질 수도 있다.\n",
        "\n",
        "선영이는 책이 무너지는 것을 막기 위해서 크기 순으로 스택을 정렬하려고 한다. 선영이는 스택의 중간 (또는 바닥)에서 책을 하나 뺀 다음, 가장 위에 놓는다. 하지만, 빼려고 하는 책의 위에 있는 스택이 안정된 상태이어야 한다.\n",
        "\n",
        "현재 책이 쌓여져 있는 상태가 입력으로 주어졌을 때, 안정된 상태로 책을 쌓기 위해 최소 몇 단계가 필요한지 구하는 프로그램을 작성하시오."
      ]
    },
    {
      "cell_type": "markdown",
      "metadata": {
        "id": "LqXcSRcPu8kj"
      },
      "source": [
        "## 입력 출력 및 예제\n"
      ]
    },
    {
      "cell_type": "markdown",
      "metadata": {
        "id": "rFCkhMXFvDp0"
      },
      "source": [
        "첫째 줄에 테스트 케이스의 개수가 주어진다. 테스트 케이스의 수는 100보다 작거나 같다.\n",
        "\n",
        "각 테스트 케이스의 첫째 줄에는 책의 수 n이 주어진다. (1 ≤ n ≤ 50) 다음 줄에는 책의 크기 si가 스택의 맨 위에서부터 순서대로 주어진다. (1 ≤ si ≤ 1000)"
      ]
    },
    {
      "cell_type": "markdown",
      "metadata": {
        "id": "Ar1hCLVxwiDl"
      },
      "source": [
        "각 테스트 케이스에 대해서, 필요한 단계의 수의 최솟값을 출력한다."
      ]
    },
    {
      "cell_type": "markdown",
      "metadata": {
        "id": "8tmCzTFmwwmN"
      },
      "source": [
        "4  \n",
        "4  \n",
        "3 4 1 2  \n",
        "8  \n",
        "3 1 4 1 5 9 2 6  \n",
        "5  \n",
        "1 42 42 42 1000  \n",
        "22  \n",
        "4 1 2 5 6 7 9 10 3 13 17 11 12 14 19 20 22 8 15 16 18 21  "
      ]
    },
    {
      "cell_type": "markdown",
      "metadata": {
        "id": "bnyvaNYDPh1d"
      },
      "source": [
        "3  \n",
        "53  \n",
        "0  \n",
        "1234567  "
      ]
    },
    {
      "cell_type": "markdown",
      "metadata": {
        "id": "__zt_kEJw3Zd"
      },
      "source": [
        "## 코드"
      ]
    },
    {
      "cell_type": "code",
      "metadata": {
        "colab": {
          "base_uri": "https://localhost:8080/"
        },
        "id": "inyAzKlsrsrJ",
        "outputId": "5a65d2e9-86d8-448a-83dd-173698886c44"
      },
      "source": [
        "N = int(input()) # 테스트 케이스 개수\n",
        "n = []\n",
        "s = []\n",
        "for i in range(N):\n",
        "    n.append(int(input()))\n",
        "    s.append(list(map(int,input().split())))\n",
        "\n",
        "from collections import deque\n",
        "\n",
        "for j in range(len(n)):\n",
        "    n[j]=deque(s[j])\n",
        "\n",
        "\n",
        "            \n",
        "\n",
        "\n"
      ],
      "execution_count": null,
      "outputs": [
        {
          "output_type": "stream",
          "text": [
            "1\n",
            "4\n",
            "3 4 1 2\n"
          ],
          "name": "stdout"
        }
      ]
    },
    {
      "cell_type": "code",
      "metadata": {
        "id": "_r4Y8bNkExq8"
      },
      "source": [
        "def book_stack(deque):    \n",
        "    result = 0\n",
        "    i = 0\n",
        "    while True:\n",
        "        repository = []\n",
        "        if deque[i] <= deque[i+1] and i < len(deque): # 안정한 상태\n",
        "            repository.append(deque[i]) # 임시 저장소\n",
        "                    \n",
        "        elif deque[i]>deque[i+1]:\n",
        "            repository.append(deque[i])\n",
        "            for k in range(i): \n",
        "                deque.popleft() # i 개 만큼 덜어내기\n",
        "                a = deque.popleft() # 불안 포인트 저장하고 덜어내기\n",
        "                deque.appendleft(repository) # 저장해둔거 붙여넣고\n",
        "                deque.appendleft(a) # 빼둔 책 위로 쌓기\n",
        "\n",
        "                result += 1 # 수행 횟수 증가\n",
        "        else:\n",
        "            break\n",
        "        i += 1\n",
        "    return result"
      ],
      "execution_count": null,
      "outputs": []
    },
    {
      "cell_type": "code",
      "metadata": {
        "id": "gTgkAYEZGoXu",
        "colab": {
          "base_uri": "https://localhost:8080/"
        },
        "outputId": "232ec9db-5be8-41f4-8265-db24f200cd2e"
      },
      "source": [
        "from collections import deque\n",
        "\n",
        "T = int(input())\n",
        "\n",
        "def good(l_book,n_book):\n",
        "    for i in range(n_book-1):        \n",
        "        if l_book[i] > l_book[i+1]:\n",
        "            l_book.appendleft(l_book[i+1])            \n",
        "            del l_book[i+2]\n",
        "            return True\n",
        "    return False\n",
        "\n",
        "for t in range(T):\n",
        "    n_book = int(input())\n",
        "    l_book = deque(map(int,input().split()))\n",
        "    count = 0\n",
        "    \n",
        "    while good(l_book, n_book):\n",
        "        count += 1\n",
        "\n",
        "print(count)"
      ],
      "execution_count": null,
      "outputs": [
        {
          "output_type": "stream",
          "text": [
            "1\n",
            "22\n",
            "4 1 2 5 6 7 9 10 3 13 17 11 12 14 19 20 22 8 15 16 18 21\n",
            "1234567\n"
          ],
          "name": "stdout"
        }
      ]
    },
    {
      "cell_type": "markdown",
      "metadata": {
        "id": "psjnmokz-J8U"
      },
      "source": [
        "22  \n",
        "4 1 2 5 6 7 9 10 3 13 17 11 12 14 19 20 22 8 15 16 18 21"
      ]
    },
    {
      "cell_type": "markdown",
      "metadata": {
        "id": "IOOuNbw49RSb"
      },
      "source": [
        "## 메모"
      ]
    },
    {
      "cell_type": "markdown",
      "metadata": {
        "id": "9nbYMa5l9Z7B"
      },
      "source": [
        "* del 연산!!!\n",
        "\n",
        "* 함수에서 return True, False 를 이용하고 while 문을 통해 깔끔하게!"
      ]
    },
    {
      "cell_type": "code",
      "metadata": {
        "id": "rqp1fd2Q7eT4"
      },
      "source": [
        ""
      ],
      "execution_count": null,
      "outputs": []
    }
  ]
}