{
  "nbformat": 4,
  "nbformat_minor": 0,
  "metadata": {
    "colab": {
      "name": "2164_카드2.ipynb",
      "provenance": [],
      "collapsed_sections": [],
      "authorship_tag": "ABX9TyNCR3u0Gyni6dwdWkDZYPQ9",
      "include_colab_link": true
    },
    "kernelspec": {
      "name": "python3",
      "display_name": "Python 3"
    },
    "language_info": {
      "name": "python"
    }
  },
  "cells": [
    {
      "cell_type": "markdown",
      "metadata": {
        "id": "view-in-github",
        "colab_type": "text"
      },
      "source": [
        "<a href=\"https://colab.research.google.com/github/hdpark1208/StudyCode/blob/main/Algorithm/BJ/2164_%EC%B9%B4%EB%93%9C2.ipynb\" target=\"_parent\"><img src=\"https://colab.research.google.com/assets/colab-badge.svg\" alt=\"Open In Colab\"/></a>"
      ]
    },
    {
      "cell_type": "markdown",
      "metadata": {
        "id": "Yh4kWp1luxrW"
      },
      "source": [
        "## 카드2\n",
        "> 문제 : N장의 카드가 있다. 각각의 카드는 차례로 1부터 N까지의 번호가 붙어 있으며, 1번 카드가 제일 위에, N번 카드가 제일 아래인 상태로 순서대로 카드가 놓여 있다.\n",
        "\n",
        "이제 다음과 같은 동작을 카드가 한 장 남을 때까지 반복하게 된다. 우선, 제일 위에 있는 카드를 바닥에 버린다. 그 다음, 제일 위에 있는 카드를 제일 아래에 있는 카드 밑으로 옮긴다.\n",
        "\n",
        "예를 들어 N=4인 경우를 생각해 보자. 카드는 제일 위에서부터 1234 의 순서로 놓여있다. 1을 버리면 234가 남는다. 여기서 2를 제일 아래로 옮기면 342가 된다. 3을 버리면 42가 되고, 4를 밑으로 옮기면 24가 된다. 마지막으로 2를 버리고 나면, 남는 카드는 4가 된다.\n",
        "\n",
        "N이 주어졌을 때, 제일 마지막에 남게 되는 카드를 구하는 프로그램을 작성하시오."
      ]
    },
    {
      "cell_type": "markdown",
      "metadata": {
        "id": "LqXcSRcPu8kj"
      },
      "source": [
        "## 입력 출력 및 예제\n"
      ]
    },
    {
      "cell_type": "markdown",
      "metadata": {
        "id": "rFCkhMXFvDp0"
      },
      "source": [
        "입력 : 첫째 줄에 정수 N(1 ≤ N ≤ 500,000)이 주어진다."
      ]
    },
    {
      "cell_type": "markdown",
      "metadata": {
        "id": "Ar1hCLVxwiDl"
      },
      "source": [
        "출력 : 첫째 줄에 남게 되는 카드의 번호를 출력한다."
      ]
    },
    {
      "cell_type": "markdown",
      "metadata": {
        "id": "8tmCzTFmwwmN"
      },
      "source": [
        "입력 예시\n",
        "> 6\n",
        "\n",
        "출력 예시\n",
        "> 4"
      ]
    },
    {
      "cell_type": "markdown",
      "metadata": {
        "id": "bSzpKoeFzzUN"
      },
      "source": [
        "## 메모\n"
      ]
    },
    {
      "cell_type": "markdown",
      "metadata": {
        "id": "P5MSLChzqvUn"
      },
      "source": [
        "* 위에서부터 오름차순으로 정렬된 리스트를 만든다\n",
        "* 1. 맨 위 카드를 버린다\n",
        "* 2. 맨 위 카드를 가장 아래로 보낸다 \n",
        "* 위 과정을 카드가 1장이 남을 때 까지 반복한다 "
      ]
    },
    {
      "cell_type": "markdown",
      "metadata": {
        "id": "__zt_kEJw3Zd"
      },
      "source": [
        "## 코드"
      ]
    },
    {
      "cell_type": "code",
      "metadata": {
        "colab": {
          "base_uri": "https://localhost:8080/"
        },
        "id": "N55eJ0ihqGI6",
        "outputId": "8f7297c5-39a7-4518-e6ea-ddf448a01cbe"
      },
      "source": [
        "N = int(input())\n",
        "from collections import deque\n",
        "queue = deque()\n",
        "for i in range(N):\n",
        "    queue.append(i+1)\n",
        "\n",
        "def shuffle(deck):\n",
        "    deck.popleft()\n",
        "    a = deck.popleft()\n",
        "    deck.append(a)\n",
        "while len(queue)>1:\n",
        "    shuffle(queue)\n",
        "\n",
        "print(queue[0])\n"
      ],
      "execution_count": null,
      "outputs": [
        {
          "output_type": "stream",
          "text": [
            "6\n",
            "4\n"
          ],
          "name": "stdout"
        }
      ]
    },
    {
      "cell_type": "code",
      "metadata": {
        "colab": {
          "base_uri": "https://localhost:8080/"
        },
        "id": "0EnASJiJ3Qu0",
        "outputId": "52849772-17a0-4606-8994-710d7b1ef323"
      },
      "source": [
        "a = [1,2,3]\n"
      ],
      "execution_count": 14,
      "outputs": [
        {
          "output_type": "execute_result",
          "data": {
            "text/plain": [
              "False"
            ]
          },
          "metadata": {},
          "execution_count": 14
        }
      ]
    },
    {
      "cell_type": "code",
      "metadata": {
        "colab": {
          "base_uri": "https://localhost:8080/"
        },
        "id": "U0dEhAmg0i6l",
        "outputId": "75915f6d-857f-4cf6-e13b-b61036773c3e"
      },
      "source": [
        "# review\n",
        "\n",
        "N = int(input())\n",
        "from collections import deque\n",
        "queue = deque()\n",
        "\n",
        "for i in range(N):\n",
        "    queue.append(i+1)\n",
        "\n",
        "while queue:\n",
        "    b = queue.popleft()\n",
        "    if len(queue)!=0:\n",
        "        a = queue.popleft()\n",
        "        queue.append(a)\n",
        "    \n",
        "print(b)\n",
        "    \n",
        "        "
      ],
      "execution_count": 16,
      "outputs": [
        {
          "output_type": "stream",
          "name": "stdout",
          "text": [
            "6\n",
            "4\n"
          ]
        }
      ]
    },
    {
      "cell_type": "code",
      "metadata": {
        "colab": {
          "base_uri": "https://localhost:8080/"
        },
        "id": "linpLBoQqVwN",
        "outputId": "d2099723-9dcc-4677-b57b-0f40898be863"
      },
      "source": [
        "from collections import deque\n",
        "queue = deque()\n",
        "for i in range(5):\n",
        "    queue.append(i+1)\n",
        "queue"
      ],
      "execution_count": null,
      "outputs": [
        {
          "output_type": "execute_result",
          "data": {
            "text/plain": [
              "deque([1, 2, 3, 4, 5])"
            ]
          },
          "metadata": {
            "tags": []
          },
          "execution_count": 14
        }
      ]
    },
    {
      "cell_type": "code",
      "metadata": {
        "colab": {
          "base_uri": "https://localhost:8080/"
        },
        "id": "HgcGO_RTw9yS",
        "outputId": "21425ac0-4e5f-493b-d621-c5b24aec1dd0"
      },
      "source": [
        "queue.pop()"
      ],
      "execution_count": null,
      "outputs": [
        {
          "output_type": "execute_result",
          "data": {
            "text/plain": [
              "5"
            ]
          },
          "metadata": {
            "tags": []
          },
          "execution_count": 15
        }
      ]
    },
    {
      "cell_type": "code",
      "metadata": {
        "colab": {
          "base_uri": "https://localhost:8080/"
        },
        "id": "NA9ysstKxCwi",
        "outputId": "1e6095d0-fc3e-4e4a-a48c-340b18890bcd"
      },
      "source": [
        "queue.popleft()"
      ],
      "execution_count": null,
      "outputs": [
        {
          "output_type": "execute_result",
          "data": {
            "text/plain": [
              "1"
            ]
          },
          "metadata": {
            "tags": []
          },
          "execution_count": 16
        }
      ]
    },
    {
      "cell_type": "code",
      "metadata": {
        "colab": {
          "base_uri": "https://localhost:8080/"
        },
        "id": "LDn450tMxFt-",
        "outputId": "2d0ebf9a-d984-478c-9918-aed6e7c1191a"
      },
      "source": [
        "queue"
      ],
      "execution_count": null,
      "outputs": [
        {
          "output_type": "execute_result",
          "data": {
            "text/plain": [
              "deque([2, 3, 4])"
            ]
          },
          "metadata": {
            "tags": []
          },
          "execution_count": 17
        }
      ]
    },
    {
      "cell_type": "code",
      "metadata": {
        "colab": {
          "base_uri": "https://localhost:8080/"
        },
        "id": "7qOQUAmCxGoR",
        "outputId": "8ef59fcb-c32e-4ea9-a561-f88bc1d4419e"
      },
      "source": [
        "len(queue)"
      ],
      "execution_count": null,
      "outputs": [
        {
          "output_type": "execute_result",
          "data": {
            "text/plain": [
              "3"
            ]
          },
          "metadata": {
            "tags": []
          },
          "execution_count": 18
        }
      ]
    },
    {
      "cell_type": "code",
      "metadata": {
        "id": "HCxjQK_kyJAj"
      },
      "source": [
        ""
      ],
      "execution_count": null,
      "outputs": []
    }
  ]
}