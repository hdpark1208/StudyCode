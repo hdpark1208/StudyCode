{
  "nbformat": 4,
  "nbformat_minor": 0,
  "metadata": {
    "colab": {
      "provenance": [],
      "include_colab_link": true
    },
    "kernelspec": {
      "name": "python3",
      "display_name": "Python 3"
    },
    "language_info": {
      "name": "python"
    }
  },
  "cells": [
    {
      "cell_type": "markdown",
      "metadata": {
        "id": "view-in-github",
        "colab_type": "text"
      },
      "source": [
        "<a href=\"https://colab.research.google.com/github/hdpark1208/StudyCode/blob/main/Algorithm/BJ/2869_%EB%8B%AC%ED%8C%BD%EC%9D%B4%EB%8A%94%EC%98%AC%EB%9D%BC%EA%B0%80%EA%B3%A0%EC%8B%B6%EB%8B%A4.ipynb\" target=\"_parent\"><img src=\"https://colab.research.google.com/assets/colab-badge.svg\" alt=\"Open In Colab\"/></a>"
      ]
    },
    {
      "cell_type": "markdown",
      "metadata": {
        "id": "Yh4kWp1luxrW"
      },
      "source": [
        "# 달팽이는올라가고싶다"
      ]
    },
    {
      "cell_type": "markdown",
      "metadata": {
        "id": "Xg2dbbF7u2R8"
      },
      "source": [
        "땅 위에 달팽이가 있다. 이 달팽이는 높이가 V미터인 나무 막대를 올라갈 것이다.\n",
        "\n",
        "달팽이는 낮에 A미터 올라갈 수 있다. 하지만, 밤에 잠을 자는 동안 B미터 미끄러진다. 또, 정상에 올라간 후에는 미끄러지지 않는다.\n",
        "\n",
        "달팽이가 나무 막대를 모두 올라가려면, 며칠이 걸리는지 구하는 프로그램을 작성하시오."
      ]
    },
    {
      "cell_type": "markdown",
      "metadata": {
        "id": "LqXcSRcPu8kj"
      },
      "source": [
        "## 입력 출력 및 예제\n"
      ]
    },
    {
      "cell_type": "markdown",
      "metadata": {
        "id": "rFCkhMXFvDp0"
      },
      "source": [
        "* 입력"
      ]
    },
    {
      "cell_type": "markdown",
      "metadata": {
        "id": "XwU2sme_3t7A"
      },
      "source": [
        "첫째 줄에 세 정수 A, B, V가 공백으로 구분되어서 주어진다. (1 ≤ B < A ≤ V ≤ 1,000,000,000)"
      ]
    },
    {
      "cell_type": "markdown",
      "metadata": {
        "id": "Ar1hCLVxwiDl"
      },
      "source": [
        "* 출력"
      ]
    },
    {
      "cell_type": "markdown",
      "metadata": {
        "id": "VaXKN9fc3uUv"
      },
      "source": [
        "첫째 줄에 달팽이가 나무 막대를 모두 올라가는데 며칠이 걸리는지 출력한다."
      ]
    },
    {
      "cell_type": "markdown",
      "metadata": {
        "id": "8tmCzTFmwwmN"
      },
      "source": [
        "* 예제"
      ]
    },
    {
      "cell_type": "markdown",
      "metadata": {
        "id": "ZuKUpEvu3uuv"
      },
      "source": [
        "![image.png](data:image/png;base64,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)"
      ]
    },
    {
      "cell_type": "markdown",
      "source": [
        "## 구상"
      ],
      "metadata": {
        "id": "AGhrdbYB1CKt"
      }
    },
    {
      "cell_type": "markdown",
      "source": [
        "- 달팽이가 나무를 일정하게 올라가고 미끄러지는 것을 반복할 때, 특정 높이를 올라가는데 며칠이 걸리는지 구하는 문제"
      ],
      "metadata": {
        "id": "TU2SB-V61DWu"
      }
    },
    {
      "cell_type": "markdown",
      "metadata": {
        "id": "__zt_kEJw3Zd"
      },
      "source": [
        "## 코드"
      ]
    },
    {
      "cell_type": "code",
      "source": [
        "a,b,c = map(int, input().split())\n",
        "print(a,b,c)"
      ],
      "metadata": {
        "colab": {
          "base_uri": "https://localhost:8080/"
        },
        "id": "Fu8qpqD-6ci9",
        "outputId": "587081eb-b21e-470a-87f1-3f88eb8197a4"
      },
      "execution_count": 6,
      "outputs": [
        {
          "output_type": "stream",
          "name": "stdout",
          "text": [
            "1 2 3\n",
            "1 2 3\n"
          ]
        }
      ]
    },
    {
      "cell_type": "code",
      "source": [
        "# 비효율, 시간제한 걸림\n",
        "\n",
        "def snail(A,B,V):\n",
        "    days = 0\n",
        "    cur_h = 0\n",
        "    while True:\n",
        "        days += 1\n",
        "        cur_h += A\n",
        "        if cur_h >= V:\n",
        "            break\n",
        "\n",
        "        cur_h -= B\n",
        "    return days\n",
        "\n",
        "A, B, V = map(int, input().split())\n",
        "print(snail(A,B,V))"
      ],
      "metadata": {
        "id": "6Z4uN863yO7x",
        "colab": {
          "base_uri": "https://localhost:8080/"
        },
        "outputId": "dd73a75e-8304-49b5-a590-1c07b61fbd50"
      },
      "execution_count": 14,
      "outputs": [
        {
          "output_type": "stream",
          "name": "stdout",
          "text": [
            "2 1 5\n",
            "4\n"
          ]
        }
      ]
    },
    {
      "cell_type": "code",
      "source": [
        "def snail(A,B,V):\n",
        "    if A > V:\n",
        "        return 1\n",
        "    dist = A - B\n",
        "    days = (V - A) // dist\n",
        "    rest = (V - A) % dist\n",
        "\n",
        "    if rest == 0:\n",
        "        return days+1\n",
        "    else:\n",
        "        return days+2\n",
        "\n",
        "A, B, V = map(int, input().split())\n",
        "print(snail(A, B, V))"
      ],
      "metadata": {
        "id": "PFD1wDC07uQl"
      },
      "execution_count": 12,
      "outputs": []
    },
    {
      "cell_type": "code",
      "source": [
        "import math\n",
        "\n",
        "def snail(A, B, V):\n",
        "    if A >= V:  # 첫날에 이미 도달하는 경우\n",
        "        return 1\n",
        "    return math.ceil((V - A) / (A - B)) + 1  # 올림하여 계산 후 마지막 하루 추가 # 올림을 하여도 처음에 A 만큼 여유를 두었기 때문에, 올림으로 인한 (A-B)가 A를 초과할수는 없기에 +1 을 해주어도 명확하다."
      ],
      "metadata": {
        "colab": {
          "base_uri": "https://localhost:8080/"
        },
        "id": "G10n9-CfAoEW",
        "outputId": "63d921ea-2fed-47f1-a92c-a74ab634ad30"
      },
      "execution_count": 11,
      "outputs": [
        {
          "output_type": "stream",
          "name": "stdout",
          "text": [
            "100 99 1000000000\n",
            "999999901\n"
          ]
        }
      ]
    },
    {
      "cell_type": "code",
      "source": [
        "snail(100, 99, 1000000000)"
      ],
      "metadata": {
        "colab": {
          "base_uri": "https://localhost:8080/"
        },
        "id": "S3bGnSHseSMC",
        "outputId": "cdccfba7-217f-4fe6-ea0e-917c7862f728"
      },
      "execution_count": 13,
      "outputs": [
        {
          "output_type": "execute_result",
          "data": {
            "text/plain": [
              "999999901"
            ]
          },
          "metadata": {},
          "execution_count": 13
        }
      ]
    },
    {
      "cell_type": "markdown",
      "metadata": {
        "id": "bSzpKoeFzzUN"
      },
      "source": [
        "## 메모\n",
        "\n",
        "* 수학식을 활용해야서 효율적으로 짜야했다\n",
        "* \"마지막 날을 제외한 총 올라가야 할 거리\" V-A 를 두고 계산한 것이 유효했다"
      ]
    },
    {
      "cell_type": "code",
      "source": [],
      "metadata": {
        "id": "3CeoBqWOLnWM"
      },
      "execution_count": null,
      "outputs": []
    },
    {
      "cell_type": "code",
      "source": [],
      "metadata": {
        "id": "gr42EdaVWS2e"
      },
      "execution_count": null,
      "outputs": []
    }
  ]
}