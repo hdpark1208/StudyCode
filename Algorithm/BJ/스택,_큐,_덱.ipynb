{
  "nbformat": 4,
  "nbformat_minor": 0,
  "metadata": {
    "colab": {
      "provenance": [],
      "include_colab_link": true
    },
    "kernelspec": {
      "name": "python3",
      "display_name": "Python 3"
    },
    "language_info": {
      "name": "python"
    }
  },
  "cells": [
    {
      "cell_type": "markdown",
      "metadata": {
        "id": "view-in-github",
        "colab_type": "text"
      },
      "source": [
        "<a href=\"https://colab.research.google.com/github/hdpark1208/StudyCode/blob/main/Algorithm/BJ/%EC%8A%A4%ED%83%9D%2C_%ED%81%90%2C_%EB%8D%B1.ipynb\" target=\"_parent\"><img src=\"https://colab.research.google.com/assets/colab-badge.svg\" alt=\"Open In Colab\"/></a>"
      ]
    },
    {
      "cell_type": "markdown",
      "metadata": {
        "id": "Yh4kWp1luxrW"
      },
      "source": [
        "# 스택, 큐, 덱 기초 문제"
      ]
    },
    {
      "cell_type": "markdown",
      "metadata": {
        "id": "Xg2dbbF7u2R8"
      },
      "source": []
    },
    {
      "cell_type": "markdown",
      "metadata": {
        "id": "LqXcSRcPu8kj"
      },
      "source": [
        "## 입력 출력 및 예제\n"
      ]
    },
    {
      "cell_type": "markdown",
      "metadata": {
        "id": "rFCkhMXFvDp0"
      },
      "source": [
        "* 입력"
      ]
    },
    {
      "cell_type": "markdown",
      "metadata": {
        "id": "XwU2sme_3t7A"
      },
      "source": []
    },
    {
      "cell_type": "markdown",
      "metadata": {
        "id": "Ar1hCLVxwiDl"
      },
      "source": [
        "* 출력"
      ]
    },
    {
      "cell_type": "markdown",
      "metadata": {
        "id": "VaXKN9fc3uUv"
      },
      "source": []
    },
    {
      "cell_type": "markdown",
      "metadata": {
        "id": "8tmCzTFmwwmN"
      },
      "source": [
        "* 예제"
      ]
    },
    {
      "cell_type": "markdown",
      "metadata": {
        "id": "ZuKUpEvu3uuv"
      },
      "source": []
    },
    {
      "cell_type": "markdown",
      "source": [
        "## 구상"
      ],
      "metadata": {
        "id": "AGhrdbYB1CKt"
      }
    },
    {
      "cell_type": "markdown",
      "source": [
        "-"
      ],
      "metadata": {
        "id": "TU2SB-V61DWu"
      }
    },
    {
      "cell_type": "markdown",
      "metadata": {
        "id": "__zt_kEJw3Zd"
      },
      "source": [
        "## 코드"
      ]
    },
    {
      "cell_type": "code",
      "source": [
        "a = [1,2,3]\n",
        "b = []\n",
        "if a:\n",
        "    print(1)"
      ],
      "metadata": {
        "colab": {
          "base_uri": "https://localhost:8080/"
        },
        "id": "WZ6ha1FoarGK",
        "outputId": "bb3c7806-c9a7-45f2-e1ea-66f581fcfc2c"
      },
      "execution_count": null,
      "outputs": [
        {
          "output_type": "stream",
          "name": "stdout",
          "text": [
            "1\n"
          ]
        }
      ]
    },
    {
      "cell_type": "code",
      "source": [
        "# 28278\n",
        "import sys\n",
        "input = sys.stdin.readline\n",
        "\n",
        "N = int(input().strip())\n",
        "stack = []\n",
        "output = []\n",
        "\n",
        "for _ in range(N):\n",
        "    command = input().strip().split()\n",
        "    if command[0] == '1':\n",
        "        stack.append(int(command[1]))\n",
        "    elif command[0] == '2':\n",
        "        if stack:\n",
        "            output.append(stack.pop())\n",
        "        else:\n",
        "            output.append(-1)\n",
        "    elif command[0] == '3':\n",
        "        output.append(len(stack))\n",
        "    elif command[0] == '4':\n",
        "        output.append(1 if not stack else 0)\n",
        "    elif command[0] == '5':\n",
        "        if stack:\n",
        "            output.append(stack[-1])\n",
        "        else:\n",
        "            output.append(-1)\n",
        "\n",
        "sys.stdout.write('\\n'.join(map(str, output)) + '\\n')"
      ],
      "metadata": {
        "colab": {
          "base_uri": "https://localhost:8080/",
          "height": 221
        },
        "collapsed": true,
        "id": "Pd2D2kZWY7lx",
        "outputId": "ac4f182a-fabe-4e8c-f6fc-1450f5cdd024"
      },
      "execution_count": null,
      "outputs": [
        {
          "output_type": "error",
          "ename": "ValueError",
          "evalue": "invalid literal for int() with base 10: ''",
          "traceback": [
            "\u001b[0;31m---------------------------------------------------------------------------\u001b[0m",
            "\u001b[0;31mValueError\u001b[0m                                Traceback (most recent call last)",
            "\u001b[0;32m<ipython-input-6-33d147a86476>\u001b[0m in \u001b[0;36m<cell line: 0>\u001b[0;34m()\u001b[0m\n\u001b[1;32m      3\u001b[0m \u001b[0minput\u001b[0m \u001b[0;34m=\u001b[0m \u001b[0msys\u001b[0m\u001b[0;34m.\u001b[0m\u001b[0mstdin\u001b[0m\u001b[0;34m.\u001b[0m\u001b[0mreadline\u001b[0m\u001b[0;34m\u001b[0m\u001b[0;34m\u001b[0m\u001b[0m\n\u001b[1;32m      4\u001b[0m \u001b[0;34m\u001b[0m\u001b[0m\n\u001b[0;32m----> 5\u001b[0;31m \u001b[0mN\u001b[0m \u001b[0;34m=\u001b[0m \u001b[0mint\u001b[0m\u001b[0;34m(\u001b[0m\u001b[0minput\u001b[0m\u001b[0;34m(\u001b[0m\u001b[0;34m)\u001b[0m\u001b[0;34m.\u001b[0m\u001b[0mstrip\u001b[0m\u001b[0;34m(\u001b[0m\u001b[0;34m)\u001b[0m\u001b[0;34m)\u001b[0m\u001b[0;34m\u001b[0m\u001b[0;34m\u001b[0m\u001b[0m\n\u001b[0m\u001b[1;32m      6\u001b[0m \u001b[0mstack\u001b[0m \u001b[0;34m=\u001b[0m \u001b[0;34m[\u001b[0m\u001b[0;34m]\u001b[0m\u001b[0;34m\u001b[0m\u001b[0;34m\u001b[0m\u001b[0m\n\u001b[1;32m      7\u001b[0m \u001b[0moutput\u001b[0m \u001b[0;34m=\u001b[0m \u001b[0;34m[\u001b[0m\u001b[0;34m]\u001b[0m\u001b[0;34m\u001b[0m\u001b[0;34m\u001b[0m\u001b[0m\n",
            "\u001b[0;31mValueError\u001b[0m: invalid literal for int() with base 10: ''"
          ]
        }
      ]
    },
    {
      "cell_type": "code",
      "source": [
        "# 10773\n",
        "import sys\n",
        "input = sys.stdin.readline\n",
        "\n",
        "K = int(input().strip())\n",
        "# stack = []\n",
        "output = []\n",
        "\n",
        "for _ in range(K):\n",
        "    command = input().strip()\n",
        "    if command == '0':\n",
        "        output.pop()\n",
        "    else:\n",
        "        output.append(int(command))\n",
        "\n",
        "print(sum(output))"
      ],
      "metadata": {
        "id": "UmZZBPQSeOjc"
      },
      "execution_count": null,
      "outputs": []
    },
    {
      "cell_type": "code",
      "source": [
        "a = [1,2,3]\n",
        "a.popleft()"
      ],
      "metadata": {
        "colab": {
          "base_uri": "https://localhost:8080/",
          "height": 166
        },
        "id": "XfTkISSPJml-",
        "outputId": "6f0bf7d3-ddd1-43c9-a9a7-ffda72ec9075"
      },
      "execution_count": 2,
      "outputs": [
        {
          "output_type": "error",
          "ename": "AttributeError",
          "evalue": "'list' object has no attribute 'popleft'",
          "traceback": [
            "\u001b[0;31m---------------------------------------------------------------------------\u001b[0m",
            "\u001b[0;31mAttributeError\u001b[0m                            Traceback (most recent call last)",
            "\u001b[0;32m<ipython-input-2-454f55f6f154>\u001b[0m in \u001b[0;36m<cell line: 0>\u001b[0;34m()\u001b[0m\n\u001b[1;32m      1\u001b[0m \u001b[0ma\u001b[0m \u001b[0;34m=\u001b[0m \u001b[0;34m[\u001b[0m\u001b[0;36m1\u001b[0m\u001b[0;34m,\u001b[0m\u001b[0;36m2\u001b[0m\u001b[0;34m,\u001b[0m\u001b[0;36m3\u001b[0m\u001b[0;34m]\u001b[0m\u001b[0;34m\u001b[0m\u001b[0;34m\u001b[0m\u001b[0m\n\u001b[0;32m----> 2\u001b[0;31m \u001b[0ma\u001b[0m\u001b[0;34m.\u001b[0m\u001b[0mpopleft\u001b[0m\u001b[0;34m(\u001b[0m\u001b[0;34m)\u001b[0m\u001b[0;34m\u001b[0m\u001b[0;34m\u001b[0m\u001b[0m\n\u001b[0m",
            "\u001b[0;31mAttributeError\u001b[0m: 'list' object has no attribute 'popleft'"
          ]
        }
      ]
    },
    {
      "cell_type": "code",
      "source": [
        "# 18258\n",
        "from collections import deque\n",
        "import sys\n",
        "input = sys.stdin.readline\n",
        "\n",
        "N = int(input().strip())\n",
        "queue = deque()\n",
        "output = []\n",
        "\n",
        "for _ in range(N):\n",
        "    command = input().strip().split()\n",
        "    if command[0] == 'push':\n",
        "        queue.append(int(command[1]))\n",
        "    elif command[0] == 'pop':\n",
        "        if queue:\n",
        "            output.append(queue.popleft())\n",
        "        else:\n",
        "            output.append(-1)\n",
        "    elif command[0] == 'size':\n",
        "        output.append(len(queue))\n",
        "    elif command[0] == 'empty':\n",
        "        if not queue:\n",
        "            output.append(1)\n",
        "        else:\n",
        "            output.append(0)\n",
        "    elif command[0] == 'front':\n",
        "        if queue:\n",
        "            output.append(queue[0])\n",
        "        else:\n",
        "            output.append(-1)\n",
        "    elif command[0] == 'back':\n",
        "        if queue:\n",
        "            output.append(queue[-1])\n",
        "        else:\n",
        "            output.append(-1)\n",
        "\n",
        "sys.stdout.write('\\n'.join(map(str, output)) + '\\n')"
      ],
      "metadata": {
        "id": "L_c1GPmlHpnj"
      },
      "execution_count": null,
      "outputs": []
    },
    {
      "cell_type": "code",
      "source": [
        "a = [i for i in range(1,10)]\n",
        "a"
      ],
      "metadata": {
        "colab": {
          "base_uri": "https://localhost:8080/"
        },
        "id": "wSG8uP5qLsZL",
        "outputId": "a2cd4ef0-e9a0-476b-b360-0cc31b36faf6"
      },
      "execution_count": 3,
      "outputs": [
        {
          "output_type": "execute_result",
          "data": {
            "text/plain": [
              "[1, 2, 3, 4, 5, 6, 7, 8, 9]"
            ]
          },
          "metadata": {},
          "execution_count": 3
        }
      ]
    },
    {
      "cell_type": "code",
      "source": [
        "# 11866\n",
        "from collections import deque\n",
        "N, K = map(int, input().split())\n",
        "queue = deque([i for i in range(1,N+1)])\n",
        "output = []\n",
        "k = 0\n",
        "while queue:\n",
        "    k += 1\n",
        "    x = queue.popleft()\n",
        "    if k % K == 0:\n",
        "        output.append(x)\n",
        "    else:\n",
        "        queue.append(x)\n",
        "\n",
        "print('<'+', '.join(map(str, output))+'>')\n"
      ],
      "metadata": {
        "colab": {
          "base_uri": "https://localhost:8080/"
        },
        "id": "lSjhdUy9Ke6A",
        "outputId": "2c6cd8cf-f18d-41a8-a376-afe1cec74697"
      },
      "execution_count": 7,
      "outputs": [
        {
          "output_type": "stream",
          "name": "stdout",
          "text": [
            "7 3\n",
            "<3, 6, 2, 7, 5, 1, 4>\n"
          ]
        }
      ]
    },
    {
      "cell_type": "code",
      "source": [
        "# 28279\n",
        "from collections import deque\n",
        "import sys\n",
        "input = sys.stdin.readline\n",
        "N = int(input())\n",
        "dq = deque()\n",
        "output = []\n",
        "\n",
        "for _ in range(N):\n",
        "    command = input().strip().split()\n",
        "    if command[0] == '1':\n",
        "        dq.appendleft(int(command[1]))\n",
        "    elif command[0] == '2':\n",
        "        dq.append(int(command[1]))\n",
        "    elif command[0] == '3':\n",
        "        if dq:\n",
        "            output.append(dq.popleft())\n",
        "        else:\n",
        "            output.append(-1)\n",
        "    elif command[0] == '4':\n",
        "        if dq:\n",
        "            output.append(dq.pop())\n",
        "        else:\n",
        "            output.append(-1)\n",
        "    elif command[0] == '5':\n",
        "        output.append(len(dq))\n",
        "    elif command[0] == '6':\n",
        "        if not dq:\n",
        "            output.append(1)\n",
        "        else:\n",
        "            output.append(0)\n",
        "    elif command[0] == '7':\n",
        "        if dq:\n",
        "            output.append(dq[0])\n",
        "        else:\n",
        "            output.append(-1)\n",
        "    elif command[0] == '8':\n",
        "        if dq:\n",
        "            output.append(dq[-1])\n",
        "        else:\n",
        "            output.append(-1)\n",
        "\n",
        "sys.stdout.write('\\n'.join(map(str, output)) + '\\n')"
      ],
      "metadata": {
        "id": "55SnM4twOmR2"
      },
      "execution_count": null,
      "outputs": []
    },
    {
      "cell_type": "code",
      "source": [
        "a = []\n",
        "a.append((1,2))\n",
        "a.append([3,4])\n",
        "a"
      ],
      "metadata": {
        "colab": {
          "base_uri": "https://localhost:8080/"
        },
        "id": "FC3bbs8keo4x",
        "outputId": "a76e6a57-86f6-44c1-d692-96b7fc2335f6"
      },
      "execution_count": 12,
      "outputs": [
        {
          "output_type": "execute_result",
          "data": {
            "text/plain": [
              "[(1, 2), [3, 4]]"
            ]
          },
          "metadata": {},
          "execution_count": 12
        }
      ]
    },
    {
      "cell_type": "code",
      "source": [
        "# 2346\n",
        "from collections import deque\n",
        "N = int(input())\n",
        "paper_list = list(map(int, input().split()))\n",
        "dq = deque()\n",
        "for i in range(len(paper_list)):\n",
        "    dq.append((i+1, paper_list[i]))\n",
        "\n",
        "output = []\n",
        "\n",
        "while dq:\n",
        "    num, move = dq.popleft()\n",
        "    output.append(num)\n",
        "\n",
        "    if move > 0:\n",
        "        dq.rotate(-move + 1)\n",
        "    else:\n",
        "        dq.rotate(-move)\n",
        "\n",
        "print(' '.join(map(str,output)))\n",
        "\n",
        "\n",
        "\n",
        "\n"
      ],
      "metadata": {
        "colab": {
          "base_uri": "https://localhost:8080/"
        },
        "id": "t64QyA9kReA1",
        "outputId": "c4c3c1c4-4e26-4cb5-d7a3-7de766ea6e73"
      },
      "execution_count": 19,
      "outputs": [
        {
          "output_type": "stream",
          "name": "stdout",
          "text": [
            "5\n",
            "3 2 1 -3 -1\n",
            "1 4 5 3 2\n"
          ]
        }
      ]
    },
    {
      "cell_type": "code",
      "source": [
        "a = deque([i for i in range(10)])\n",
        "print(a)\n",
        "a.rotate(3)\n",
        "print(a)\n",
        "a.rotate(-2)\n",
        "print(a)"
      ],
      "metadata": {
        "colab": {
          "base_uri": "https://localhost:8080/"
        },
        "id": "Px0ND878iJKu",
        "outputId": "37e251d8-de60-48b2-9bac-0cee5c4c2ba7"
      },
      "execution_count": 14,
      "outputs": [
        {
          "output_type": "stream",
          "name": "stdout",
          "text": [
            "deque([0, 1, 2, 3, 4, 5, 6, 7, 8, 9])\n",
            "deque([7, 8, 9, 0, 1, 2, 3, 4, 5, 6])\n",
            "deque([9, 0, 1, 2, 3, 4, 5, 6, 7, 8])\n"
          ]
        }
      ]
    },
    {
      "cell_type": "markdown",
      "metadata": {
        "id": "bSzpKoeFzzUN"
      },
      "source": [
        "## 메모\n",
        "\n",
        "*"
      ]
    },
    {
      "cell_type": "code",
      "source": [],
      "metadata": {
        "id": "ZKWOwNmu74ux"
      },
      "execution_count": null,
      "outputs": []
    },
    {
      "cell_type": "code",
      "source": [],
      "metadata": {
        "id": "d_nCYXnmZXvu"
      },
      "execution_count": null,
      "outputs": []
    },
    {
      "cell_type": "code",
      "source": [],
      "metadata": {
        "id": "3CeoBqWOLnWM"
      },
      "execution_count": null,
      "outputs": []
    },
    {
      "cell_type": "code",
      "source": [],
      "metadata": {
        "id": "gr42EdaVWS2e"
      },
      "execution_count": null,
      "outputs": []
    }
  ]
}