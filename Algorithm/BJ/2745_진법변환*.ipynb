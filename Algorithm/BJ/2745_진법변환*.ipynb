{
  "nbformat": 4,
  "nbformat_minor": 0,
  "metadata": {
    "colab": {
      "provenance": [],
      "include_colab_link": true
    },
    "kernelspec": {
      "name": "python3",
      "display_name": "Python 3"
    },
    "language_info": {
      "name": "python"
    }
  },
  "cells": [
    {
      "cell_type": "markdown",
      "metadata": {
        "id": "view-in-github",
        "colab_type": "text"
      },
      "source": [
        "<a href=\"https://colab.research.google.com/github/hdpark1208/StudyCode/blob/main/Algorithm/BJ/2745_%EC%A7%84%EB%B2%95%EB%B3%80%ED%99%98*.ipynb\" target=\"_parent\"><img src=\"https://colab.research.google.com/assets/colab-badge.svg\" alt=\"Open In Colab\"/></a>"
      ]
    },
    {
      "cell_type": "markdown",
      "metadata": {
        "id": "Yh4kWp1luxrW"
      },
      "source": [
        "# 진법변환"
      ]
    },
    {
      "cell_type": "markdown",
      "metadata": {
        "id": "Xg2dbbF7u2R8"
      },
      "source": [
        "B진법 수 N이 주어진다. 이 수를 10진법으로 바꿔 출력하는 프로그램을 작성하시오.\n",
        "\n",
        "10진법을 넘어가는 진법은 숫자로 표시할 수 없는 자리가 있다. 이런 경우에는 다음과 같이 알파벳 대문자를 사용한다.\n",
        "\n",
        "A: 10, B: 11, ..., F: 15, ..., Y: 34, Z: 35"
      ]
    },
    {
      "cell_type": "markdown",
      "metadata": {
        "id": "LqXcSRcPu8kj"
      },
      "source": [
        "## 입력 출력 및 예제\n"
      ]
    },
    {
      "cell_type": "markdown",
      "metadata": {
        "id": "rFCkhMXFvDp0"
      },
      "source": [
        "* 입력"
      ]
    },
    {
      "cell_type": "markdown",
      "metadata": {
        "id": "XwU2sme_3t7A"
      },
      "source": [
        "첫째 줄에 N과 B가 주어진다. (2 ≤ B ≤ 36)\n",
        "\n",
        "B진법 수 N을 10진법으로 바꾸면, 항상 10억보다 작거나 같다."
      ]
    },
    {
      "cell_type": "markdown",
      "metadata": {
        "id": "Ar1hCLVxwiDl"
      },
      "source": [
        "* 출력"
      ]
    },
    {
      "cell_type": "markdown",
      "metadata": {
        "id": "VaXKN9fc3uUv"
      },
      "source": [
        "첫째 줄에 B진법 수 N을 10진법으로 출력한다."
      ]
    },
    {
      "cell_type": "markdown",
      "metadata": {
        "id": "8tmCzTFmwwmN"
      },
      "source": [
        "* 예제"
      ]
    },
    {
      "cell_type": "markdown",
      "metadata": {
        "id": "ZuKUpEvu3uuv"
      },
      "source": [
        "![image.png](data:image/png;base64,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)"
      ]
    },
    {
      "cell_type": "markdown",
      "source": [
        "## 구상"
      ],
      "metadata": {
        "id": "AGhrdbYB1CKt"
      }
    },
    {
      "cell_type": "markdown",
      "source": [
        "- 간단하지만 진법에 대해 다시 생각해보고, 내장함수를 사용하지 않고 구현해보자"
      ],
      "metadata": {
        "id": "TU2SB-V61DWu"
      }
    },
    {
      "cell_type": "markdown",
      "metadata": {
        "id": "__zt_kEJw3Zd"
      },
      "source": [
        "## 코드"
      ]
    },
    {
      "cell_type": "code",
      "source": [
        "def char_to_int(S):\n",
        "    if '0' <= S <= '9':\n",
        "        return int(S)\n",
        "    else:\n",
        "        return ord(S) - ord('A') + 10\n",
        "\n",
        "def to_decimal(N, B):\n",
        "    result = 0\n",
        "    for i in range(len(N)):\n",
        "        result += char_to_int(N[i]) * (int(B) ** (len(N) -1 -i))\n",
        "\n",
        "    return result\n",
        "\n",
        "\n",
        "N, B = input().split()\n",
        "print(to_decimal(N,B))"
      ],
      "metadata": {
        "colab": {
          "base_uri": "https://localhost:8080/"
        },
        "id": "6Z4uN863yO7x",
        "outputId": "0ec11745-645d-40d3-b03d-3cb31ffcb082"
      },
      "execution_count": 80,
      "outputs": [
        {
          "output_type": "stream",
          "name": "stdout",
          "text": [
            "1100100 2\n",
            "100\n"
          ]
        }
      ]
    },
    {
      "cell_type": "code",
      "source": [
        "def decimal_to_N(num,B):\n",
        "    if num == 1:\n",
        "        return 1\n",
        "\n",
        "    highest_term = 0\n",
        "    while True:\n",
        "        if B ** highest_term > num:\n",
        "            highest_term -= 1\n",
        "            break\n",
        "        highest_term += 1\n",
        "\n",
        "    poly = [i for i in range(highest_term,-1,-1)]\n",
        "    coeffs = [0] * (highest_term + 1)\n",
        "    i = 0\n",
        "    while highest_term >= 0:\n",
        "        coeff = num // B ** highest_term\n",
        "        rest = num % (B ** highest_term)\n",
        "        coeffs[i] = coeff\n",
        "        num = rest\n",
        "        i += 1\n",
        "        highest_term -= 1\n",
        "\n",
        "    result = \"\".join(\n",
        "        chr(c + ord('A') - 10) if c > 9 else str(c)\n",
        "        for c in coeffs\n",
        "    )\n",
        "\n",
        "    print(result)\n",
        "\n",
        "\n",
        "    return None\n",
        "num, B = map(int, input().split())\n",
        "\n",
        "decimal_to_N(num, B)"
      ],
      "metadata": {
        "colab": {
          "base_uri": "https://localhost:8080/"
        },
        "id": "W4jkmIaQG73W",
        "outputId": "6bf9e148-f4f7-4b38-eb65-bada4a6f46d9"
      },
      "execution_count": 7,
      "outputs": [
        {
          "name": "stdout",
          "output_type": "stream",
          "text": [
            "1 2\n"
          ]
        },
        {
          "output_type": "execute_result",
          "data": {
            "text/plain": [
              "1"
            ]
          },
          "metadata": {},
          "execution_count": 7
        }
      ]
    },
    {
      "cell_type": "markdown",
      "metadata": {
        "id": "bSzpKoeFzzUN"
      },
      "source": [
        "## 메모\n",
        "\n",
        "* 내장함수, log 를 이용하면 훨씬 깔끔한 코드가 될 수 있다"
      ]
    },
    {
      "cell_type": "code",
      "source": [],
      "metadata": {
        "id": "3CeoBqWOLnWM"
      },
      "execution_count": null,
      "outputs": []
    },
    {
      "cell_type": "code",
      "source": [],
      "metadata": {
        "id": "gr42EdaVWS2e"
      },
      "execution_count": null,
      "outputs": []
    }
  ]
}