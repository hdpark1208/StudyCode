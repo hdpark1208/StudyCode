{
  "nbformat": 4,
  "nbformat_minor": 0,
  "metadata": {
    "colab": {
      "name": "12015_가장 긴 증가하는 부분 수열 2.ipynb",
      "provenance": [],
      "collapsed_sections": [],
      "authorship_tag": "ABX9TyO24gJi1ybM1pLs5J8i4jf1",
      "include_colab_link": true
    },
    "kernelspec": {
      "name": "python3",
      "display_name": "Python 3"
    },
    "language_info": {
      "name": "python"
    }
  },
  "cells": [
    {
      "cell_type": "markdown",
      "metadata": {
        "id": "view-in-github",
        "colab_type": "text"
      },
      "source": [
        "<a href=\"https://colab.research.google.com/github/hdpark1208/StudyCode/blob/main/Algorithm/BJ/12015_%EA%B0%80%EC%9E%A5_%EA%B8%B4_%EC%A6%9D%EA%B0%80%ED%95%98%EB%8A%94_%EB%B6%80%EB%B6%84_%EC%88%98%EC%97%B4_2.ipynb\" target=\"_parent\"><img src=\"https://colab.research.google.com/assets/colab-badge.svg\" alt=\"Open In Colab\"/></a>"
      ]
    },
    {
      "cell_type": "markdown",
      "metadata": {
        "id": "Yh4kWp1luxrW"
      },
      "source": [
        "# 가장 긴 증가하는 부분 수열 2"
      ]
    },
    {
      "cell_type": "markdown",
      "metadata": {
        "id": "Xg2dbbF7u2R8"
      },
      "source": [
        "수열 A가 주어졌을 때, 가장 긴 증가하는 부분 수열을 구하는 프로그램을 작성하시오.\n",
        "\n",
        "예를 들어, 수열 A = {10, 20, 10, 30, 20, 50} 인 경우에 가장 긴 증가하는 부분 수열은 A = {10, 20, 10, 30, 20, 50} 이고, 길이는 4이다."
      ]
    },
    {
      "cell_type": "markdown",
      "metadata": {
        "id": "LqXcSRcPu8kj"
      },
      "source": [
        "## 입력 출력 및 예제\n"
      ]
    },
    {
      "cell_type": "markdown",
      "metadata": {
        "id": "rFCkhMXFvDp0"
      },
      "source": [
        "* 입력"
      ]
    },
    {
      "cell_type": "markdown",
      "metadata": {
        "id": "XwU2sme_3t7A"
      },
      "source": [
        "첫째 줄에 수열 A의 크기 N (1 ≤ N ≤ 1,000,000)이 주어진다.  \n",
        "\n",
        "둘째 줄에는 수열 A를 이루고 있는 Ai가 주어진다. (1 ≤ Ai ≤ 1,000,000)  "
      ]
    },
    {
      "cell_type": "markdown",
      "metadata": {
        "id": "Ar1hCLVxwiDl"
      },
      "source": [
        "* 출력"
      ]
    },
    {
      "cell_type": "markdown",
      "metadata": {
        "id": "VaXKN9fc3uUv"
      },
      "source": [
        "첫째 줄에 수열 A의 가장 긴 증가하는 부분 수열의 길이를 출력한다."
      ]
    },
    {
      "cell_type": "markdown",
      "metadata": {
        "id": "8tmCzTFmwwmN"
      },
      "source": [
        "* 입력 예제"
      ]
    },
    {
      "cell_type": "markdown",
      "metadata": {
        "id": "ZuKUpEvu3uuv"
      },
      "source": [
        "6  \n",
        "10 20 10 30 20 50\n"
      ]
    },
    {
      "cell_type": "markdown",
      "metadata": {
        "id": "bnyvaNYDPh1d"
      },
      "source": [
        "* 출력 예제"
      ]
    },
    {
      "cell_type": "markdown",
      "metadata": {
        "id": "rYAVTu3K3vDN"
      },
      "source": [
        "4"
      ]
    },
    {
      "cell_type": "markdown",
      "metadata": {
        "id": "__zt_kEJw3Zd"
      },
      "source": [
        "## 코드"
      ]
    },
    {
      "cell_type": "code",
      "metadata": {
        "colab": {
          "base_uri": "https://localhost:8080/"
        },
        "id": "kX3H6gCkkQ7c",
        "outputId": "b0a699c9-ecc1-4997-cf7e-b2a2574390fa"
      },
      "source": [
        "# 가장 긴 증가하는 부분 수열 1 의 코드\n",
        "# N, A의 크기가 대폭 상승했다\n",
        "# 시간 초과\n",
        "n = int(input())\n",
        "array = list(map(int,input().split()))\n",
        "dp = [1] * n\n",
        "for i in range(1,n):\n",
        "    for j in range(0,i):\n",
        "        if array[j] < array[i]:\n",
        "            dp[i] = max(dp[i],dp[j]+1)\n",
        "\n",
        "print(max(dp))"
      ],
      "execution_count": null,
      "outputs": [
        {
          "output_type": "stream",
          "text": [
            "7\n",
            "5 8 10 3 6  9 4 \n",
            "3\n"
          ],
          "name": "stdout"
        }
      ]
    },
    {
      "cell_type": "code",
      "metadata": {
        "id": "VM9fGIcaPi30"
      },
      "source": [
        "def find_loc(seq,number):\n",
        "    start = 0\n",
        "    end = len(seq) - 1\n",
        "\n",
        "    while start <= end:\n",
        "        mid = (start + end) // 2\n",
        "\n",
        "        if seq[mid] >= number:\n",
        "            end = mid - 1\n",
        "        else:\n",
        "            start = mid + 1\n",
        "    \n",
        "    return start\n",
        "\n",
        "N = int(input())\n",
        "A = list(map(int, input().split()))\n",
        "\n",
        "seq = [0]\n",
        "\n",
        "for num in A:\n",
        "    if num > seq[-1]:\n",
        "        seq.append(num)\n",
        "    else:\n",
        "        seq[find_loc(seq, num)] = num\n",
        "\n",
        "print(len(seq)-1)"
      ],
      "execution_count": null,
      "outputs": []
    },
    {
      "cell_type": "code",
      "metadata": {
        "colab": {
          "base_uri": "https://localhost:8080/"
        },
        "id": "lqIkhiBlQUeH",
        "outputId": "64d9f18f-8362-4551-8ffa-279b594d4c33"
      },
      "source": [
        "def find_loc(lis,num): # 이진탐색으로 갱신시킬 위치를 반환\n",
        "    start = 1\n",
        "    end = len(lis) - 1 # lis 는 증가하는 수열 형태이므로 끝 값이 end 값이다\n",
        "\n",
        "    while start <= end:\n",
        "        # lis 에서 low_bound 위치를 찾는 과정\n",
        "\n",
        "        mid = (start + end) // 2\n",
        "        \n",
        "        if lis[mid] > num: \n",
        "            end = mid - 1\n",
        "        elif lis[mid] < num:\n",
        "            start = mid + 1\n",
        "        else:\n",
        "            return mid\n",
        "\n",
        "    return start\n",
        "    \n",
        "n = int(input())\n",
        "array = list(map(int,input().split()))\n",
        "\n",
        "lis = [-1]\n",
        "\n",
        "for i in array: # lis의 끝 값과 비교해서 lis 에 추가 할지. lower_bound 를 갱신할지 정한다\n",
        "    if i>lis[-1]: # lis의 끝 값보다 크면 (즉, 증가하는 형태이면)\n",
        "        lis.append(i) # lis 에 추가\n",
        "    else: # 아니라면 (즉, lis 에 추가되면 증가하는 형태가 아니게 되는 경우)\n",
        "        lis[find_loc(lis,i)] = i # lower_bound 위치에 i 갱신\n",
        "\n",
        "print(len(lis)-1)\n",
        "\n"
      ],
      "execution_count": null,
      "outputs": [
        {
          "output_type": "stream",
          "text": [
            "6\n",
            "1 2 1 3 2 5\n",
            "4\n"
          ],
          "name": "stdout"
        }
      ]
    },
    {
      "cell_type": "code",
      "metadata": {
        "id": "jJtVUXT_RxDv"
      },
      "source": [
        ""
      ],
      "execution_count": null,
      "outputs": []
    },
    {
      "cell_type": "markdown",
      "metadata": {
        "id": "bSzpKoeFzzUN"
      },
      "source": [
        "## 메모\n"
      ]
    },
    {
      "cell_type": "markdown",
      "metadata": {
        "id": "_tMx9ymuWNE_"
      },
      "source": [
        "LIS 에 저장된 원소들이 실제 문제의 정답이 되는 수열은 아니란걸 명심   \n",
        "LIS 에 \"갱신\"되는 값들이므로 \"길이 유지\" 가 될 뿐이다"
      ]
    }
  ]
}