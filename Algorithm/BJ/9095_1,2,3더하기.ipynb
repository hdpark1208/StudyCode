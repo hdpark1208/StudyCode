{
  "nbformat": 4,
  "nbformat_minor": 0,
  "metadata": {
    "colab": {
      "name": "9095_1,2,3더하기.ipynb",
      "provenance": [],
      "authorship_tag": "ABX9TyN5J9z9eh9wD0fO8WlHDP9d",
      "include_colab_link": true
    },
    "kernelspec": {
      "name": "python3",
      "display_name": "Python 3"
    },
    "language_info": {
      "name": "python"
    }
  },
  "cells": [
    {
      "cell_type": "markdown",
      "metadata": {
        "id": "view-in-github",
        "colab_type": "text"
      },
      "source": [
        "<a href=\"https://colab.research.google.com/github/hdpark1208/StudyCode/blob/main/Algorithm/BJ/9095_1%2C2%2C3%EB%8D%94%ED%95%98%EA%B8%B0.ipynb\" target=\"_parent\"><img src=\"https://colab.research.google.com/assets/colab-badge.svg\" alt=\"Open In Colab\"/></a>"
      ]
    },
    {
      "cell_type": "markdown",
      "metadata": {
        "id": "Yh4kWp1luxrW"
      },
      "source": [
        "# 1,2,3더하기"
      ]
    },
    {
      "cell_type": "markdown",
      "metadata": {
        "id": "Xg2dbbF7u2R8"
      },
      "source": [
        "정수 4를 1, 2, 3의 합으로 나타내는 방법은 총 7가지가 있다. 합을 나타낼 때는 수를 1개 이상 사용해야 한다.\n",
        "\n",
        "1+1+1+1  \n",
        "1+1+2  \n",
        "1+2+1  \n",
        "2+1+1  \n",
        "2+2  \n",
        "1+3  \n",
        "3+1  \n",
        "정수 n이 주어졌을 때, n을 1, 2, 3의 합으로 나타내는 방법의 수를 구하는 프로그램을 작성하시오."
      ]
    },
    {
      "cell_type": "markdown",
      "metadata": {
        "id": "LqXcSRcPu8kj"
      },
      "source": [
        "## 입력 출력 및 예제\n"
      ]
    },
    {
      "cell_type": "markdown",
      "metadata": {
        "id": "rFCkhMXFvDp0"
      },
      "source": [
        "* 입력"
      ]
    },
    {
      "cell_type": "markdown",
      "metadata": {
        "id": "XwU2sme_3t7A"
      },
      "source": [
        "첫째 줄에 테스트 케이스의 개수 T가 주어진다. 각 테스트 케이스는 한 줄로 이루어져 있고, 정수 n이 주어진다. n은 양수이며 11보다 작다."
      ]
    },
    {
      "cell_type": "markdown",
      "metadata": {
        "id": "Ar1hCLVxwiDl"
      },
      "source": [
        "* 출력"
      ]
    },
    {
      "cell_type": "markdown",
      "metadata": {
        "id": "VaXKN9fc3uUv"
      },
      "source": [
        "각 테스트 케이스마다, n을 1, 2, 3의 합으로 나타내는 방법의 수를 출력한다."
      ]
    },
    {
      "cell_type": "markdown",
      "metadata": {
        "id": "8tmCzTFmwwmN"
      },
      "source": [
        "* 입력 예제"
      ]
    },
    {
      "cell_type": "markdown",
      "metadata": {
        "id": "ZuKUpEvu3uuv"
      },
      "source": [
        "3  \n",
        "4  \n",
        "7  \n",
        "10  "
      ]
    },
    {
      "cell_type": "markdown",
      "metadata": {
        "id": "bnyvaNYDPh1d"
      },
      "source": [
        "* 출력 예제"
      ]
    },
    {
      "cell_type": "markdown",
      "metadata": {
        "id": "rYAVTu3K3vDN"
      },
      "source": [
        "7  \n",
        "44  \n",
        "274  "
      ]
    },
    {
      "cell_type": "markdown",
      "metadata": {
        "id": "__zt_kEJw3Zd"
      },
      "source": [
        "## 코드"
      ]
    },
    {
      "cell_type": "code",
      "metadata": {
        "colab": {
          "base_uri": "https://localhost:8080/"
        },
        "id": "sDnWZn2qoUaO",
        "outputId": "4f17439c-48dd-4a83-9ab5-cc5257b0bc3e"
      },
      "source": [
        "T = int(input())\n",
        "array = []\n",
        "for i in range(T):\n",
        "    array.append(int(input()))\n",
        "\n",
        "dp = [0]*11\n",
        "dp[1] = 1\n",
        "dp[2] = 2\n",
        "dp[3] = 4\n",
        "for i in range(4,11):\n",
        "    dp[i] = dp[i-3]+dp[i-2]+dp[i-1]\n",
        "\n",
        "for i in array:\n",
        "    print(dp[i])"
      ],
      "execution_count": null,
      "outputs": [
        {
          "output_type": "stream",
          "text": [
            "3\n",
            "4\n",
            "7\n",
            "10\n",
            "7\n",
            "44\n",
            "274\n"
          ],
          "name": "stdout"
        }
      ]
    },
    {
      "cell_type": "markdown",
      "metadata": {
        "id": "bSzpKoeFzzUN"
      },
      "source": [
        "## 메모\n"
      ]
    }
  ]
}