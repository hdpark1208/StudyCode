{
  "nbformat": 4,
  "nbformat_minor": 0,
  "metadata": {
    "colab": {
      "name": "2110_공유기설치.ipynb",
      "provenance": [],
      "collapsed_sections": [],
      "authorship_tag": "ABX9TyO2mpY8+8Ko7HRSouQhklK8",
      "include_colab_link": true
    },
    "kernelspec": {
      "name": "python3",
      "display_name": "Python 3"
    },
    "language_info": {
      "name": "python"
    }
  },
  "cells": [
    {
      "cell_type": "markdown",
      "metadata": {
        "id": "view-in-github",
        "colab_type": "text"
      },
      "source": [
        "<a href=\"https://colab.research.google.com/github/hdpark1208/StudyCode/blob/main/Algorithm/BJ/2110_%EA%B3%B5%EC%9C%A0%EA%B8%B0%EC%84%A4%EC%B9%98.ipynb\" target=\"_parent\"><img src=\"https://colab.research.google.com/assets/colab-badge.svg\" alt=\"Open In Colab\"/></a>"
      ]
    },
    {
      "cell_type": "markdown",
      "metadata": {
        "id": "Yh4kWp1luxrW"
      },
      "source": [
        "# 공유기설치"
      ]
    },
    {
      "cell_type": "markdown",
      "metadata": {
        "id": "Xg2dbbF7u2R8"
      },
      "source": [
        "도현이의 집 N개가 수직선 위에 있다. 각각의 집의 좌표는 x1, ..., xN이고, 집 여러개가 같은 좌표를 가지는 일은 없다.\n",
        "\n",
        "도현이는 언제 어디서나 와이파이를 즐기기 위해서 집에 공유기 C개를 설치하려고 한다. 최대한 많은 곳에서 와이파이를 사용하려고 하기 때문에, 한 집에는 공유기를 하나만 설치할 수 있고, 가장 인접한 두 공유기 사이의 거리를 가능한 크게 하여 설치하려고 한다.\n",
        "\n",
        "C개의 공유기를 N개의 집에 적당히 설치해서, 가장 인접한 두 공유기 사이의 거리를 최대로 하는 프로그램을 작성하시오."
      ]
    },
    {
      "cell_type": "markdown",
      "metadata": {
        "id": "LqXcSRcPu8kj"
      },
      "source": [
        "## 입력 출력 및 예제\n"
      ]
    },
    {
      "cell_type": "markdown",
      "metadata": {
        "id": "rFCkhMXFvDp0"
      },
      "source": [
        "* 입력"
      ]
    },
    {
      "cell_type": "markdown",
      "metadata": {
        "id": "XwU2sme_3t7A"
      },
      "source": [
        "첫째 줄에 집의 개수 N (2 ≤ N ≤ 200,000)과 공유기의 개수 C (2 ≤ C ≤ N)이 하나 이상의 빈 칸을 사이에 두고 주어진다. 둘째 줄부터 N개의 줄에는 집의 좌표를 나타내는 xi (0 ≤ xi ≤ 1,000,000,000)가 한 줄에 하나씩 주어진다."
      ]
    },
    {
      "cell_type": "markdown",
      "metadata": {
        "id": "Ar1hCLVxwiDl"
      },
      "source": [
        "* 출력"
      ]
    },
    {
      "cell_type": "markdown",
      "metadata": {
        "id": "VaXKN9fc3uUv"
      },
      "source": [
        "첫째 줄에 가장 인접한 두 공유기 사이의 최대 거리를 출력한다."
      ]
    },
    {
      "cell_type": "markdown",
      "metadata": {
        "id": "8tmCzTFmwwmN"
      },
      "source": [
        "* 입력 예제"
      ]
    },
    {
      "cell_type": "markdown",
      "metadata": {
        "id": "ZuKUpEvu3uuv"
      },
      "source": [
        "5 3  \n",
        "1  \n",
        "2  \n",
        "8  \n",
        "4  \n",
        "9  "
      ]
    },
    {
      "cell_type": "markdown",
      "metadata": {
        "id": "bnyvaNYDPh1d"
      },
      "source": [
        "* 출력 예제"
      ]
    },
    {
      "cell_type": "markdown",
      "metadata": {
        "id": "rYAVTu3K3vDN"
      },
      "source": [
        "3"
      ]
    },
    {
      "cell_type": "markdown",
      "metadata": {
        "id": "__zt_kEJw3Zd"
      },
      "source": [
        "## 코드"
      ]
    },
    {
      "cell_type": "code",
      "metadata": {
        "colab": {
          "base_uri": "https://localhost:8080/"
        },
        "id": "F4V-fYszt2GH",
        "outputId": "96c6f332-19ed-4c20-fa3b-ef801fb3a9b3"
      },
      "source": [
        "test = [1,3,2,5]\n",
        "test.sort()\n",
        "test\n",
        "\n"
      ],
      "execution_count": null,
      "outputs": [
        {
          "output_type": "execute_result",
          "data": {
            "text/plain": [
              "[1, 2, 3, 5]"
            ]
          },
          "metadata": {
            "tags": []
          },
          "execution_count": 5
        }
      ]
    },
    {
      "cell_type": "code",
      "metadata": {
        "colab": {
          "base_uri": "https://localhost:8080/"
        },
        "id": "sETeNFK3s9mo",
        "outputId": "e25464a6-9197-44f9-8da3-135d282da673"
      },
      "source": [
        "N, C = list(map(int, input().split()))\n",
        "\n",
        "coordinate = []\n",
        "for _ in range(N):\n",
        "    coordinate.append(int(input()))\n",
        "\n",
        "coordinate.sort() # 집 좌표, 오름차순 정렬\n",
        "\n",
        "def possible(mid): # mid 만큼 거리를 벌리는 것이 가능하냐\n",
        "    rest_router = C-1 # 첫 집에 설치해놓는거와 같은 의미\n",
        "    pivot = 0\n",
        "    for i in range(len(coordinate)):\n",
        "        if coordinate[i] - coordinate[pivot] >= mid: # 집 간격이 mid 보다 넓으면\n",
        "            rest_router -= 1 # 공유기 설치\n",
        "            if rest_router == 0: # 공유기 다 설치했으면\n",
        "                return 1 # 1 반환\n",
        "            pivot = i # 설치 지점 갱신\n",
        "    return 0 # 위의 for문 다 돌때까지 다 설치 못했으면 0 반환\n",
        "start = 1\n",
        "#start = coordinate[0] # 시작 지점은 1 대신 이걸로 해도 무방 할 듯, 안되지..가능 거리를 구하는건데...\n",
        "end = coordinate[-1] - coordinate[0] # 좌표에서 처음과 끝 차이\n",
        "result = 0\n",
        "\n",
        "while start <= end:\n",
        "    mid = (start + end) // 2 # 공유기를 설치했을 시 가장 인접한 공유기 사이의 거리를 최대로 해야하므로 사이의 거리를 mid 로 놓고 이진 분류를 통해 해결한다\n",
        "    \n",
        "    if possible(mid): # return 1 이면 우측, 거리를 넓힐 수 있다는 걸 의미\n",
        "        start = mid + 1\n",
        "        result = mid # 최소 이정도는 확보한것이므로 result에 저장\n",
        "    else: # 0이면 좌측\n",
        "        end = mid - 1 # 목표 거리 즉, mid 좁혀야함\n",
        "\n",
        "print(result)"
      ],
      "execution_count": null,
      "outputs": [
        {
          "output_type": "stream",
          "text": [
            "5 3\n",
            "1\n",
            "2\n",
            "8\n",
            "4\n",
            "9\n",
            "3\n"
          ],
          "name": "stdout"
        }
      ]
    },
    {
      "cell_type": "markdown",
      "metadata": {
        "id": "bSzpKoeFzzUN"
      },
      "source": [
        "## 메모\n"
      ]
    },
    {
      "cell_type": "markdown",
      "metadata": {
        "id": "ao87t6GiKZO_"
      },
      "source": [
        "공유기를 1, 4, 8 또는 1, 4, 9에 설치하면 가장 인접한 두 공유기 사이의 거리는 3이고, 이 거리보다 크게 공유기를 3개 설치할 수 없다."
      ]
    },
    {
      "cell_type": "code",
      "metadata": {
        "id": "nl40CNMzKZqK"
      },
      "source": [
        ""
      ],
      "execution_count": null,
      "outputs": []
    }
  ]
}