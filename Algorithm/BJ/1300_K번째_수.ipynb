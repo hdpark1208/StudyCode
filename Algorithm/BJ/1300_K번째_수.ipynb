{
  "nbformat": 4,
  "nbformat_minor": 0,
  "metadata": {
    "colab": {
      "name": "1300_K번째 수.ipynb",
      "provenance": [],
      "collapsed_sections": [],
      "authorship_tag": "ABX9TyObJTgQYaHsNkIj15G1b8Jq",
      "include_colab_link": true
    },
    "kernelspec": {
      "name": "python3",
      "display_name": "Python 3"
    },
    "language_info": {
      "name": "python"
    }
  },
  "cells": [
    {
      "cell_type": "markdown",
      "metadata": {
        "id": "view-in-github",
        "colab_type": "text"
      },
      "source": [
        "<a href=\"https://colab.research.google.com/github/hdpark1208/StudyCode/blob/main/Algorithm/BJ/1300_K%EB%B2%88%EC%A7%B8_%EC%88%98.ipynb\" target=\"_parent\"><img src=\"https://colab.research.google.com/assets/colab-badge.svg\" alt=\"Open In Colab\"/></a>"
      ]
    },
    {
      "cell_type": "code",
      "metadata": {
        "id": "8_nPJzBjLpBM"
      },
      "source": [
        ""
      ],
      "execution_count": null,
      "outputs": []
    },
    {
      "cell_type": "markdown",
      "metadata": {
        "id": "Yh4kWp1luxrW"
      },
      "source": [
        "# K번째 수"
      ]
    },
    {
      "cell_type": "markdown",
      "metadata": {
        "id": "Xg2dbbF7u2R8"
      },
      "source": [
        "세준이는 크기가 N×N인 배열 A를 만들었다. 배열에 들어있는 수 A[i][j] = i×j 이다. 이 수를 일차원 배열 B에 넣으면 B의 크기는 N×N이 된다. B를 오름차순 정렬했을 때, B[k]를 구해보자.\n",
        "\n",
        "배열 A와 B의 인덱스는 1부터 시작한다."
      ]
    },
    {
      "cell_type": "markdown",
      "metadata": {
        "id": "LqXcSRcPu8kj"
      },
      "source": [
        "## 입력 출력 및 예제\n"
      ]
    },
    {
      "cell_type": "markdown",
      "metadata": {
        "id": "rFCkhMXFvDp0"
      },
      "source": [
        "* 입력"
      ]
    },
    {
      "cell_type": "markdown",
      "metadata": {
        "id": "XwU2sme_3t7A"
      },
      "source": [
        "첫째 줄에 배열의 크기 N이 주어진다. N은 105보다 작거나 같은 자연수이다. 둘째 줄에 k가 주어진다. k는 min(109, N2)보다 작거나 같은 자연수이다."
      ]
    },
    {
      "cell_type": "markdown",
      "metadata": {
        "id": "Ar1hCLVxwiDl"
      },
      "source": [
        "* 출력"
      ]
    },
    {
      "cell_type": "markdown",
      "metadata": {
        "id": "VaXKN9fc3uUv"
      },
      "source": [
        "B[k]를 출력한다."
      ]
    },
    {
      "cell_type": "markdown",
      "metadata": {
        "id": "8tmCzTFmwwmN"
      },
      "source": [
        "* 입력 예제"
      ]
    },
    {
      "cell_type": "markdown",
      "metadata": {
        "id": "ZuKUpEvu3uuv"
      },
      "source": [
        "3  \n",
        "7  "
      ]
    },
    {
      "cell_type": "markdown",
      "metadata": {
        "id": "bnyvaNYDPh1d"
      },
      "source": [
        "* 출력 예제"
      ]
    },
    {
      "cell_type": "markdown",
      "metadata": {
        "id": "rYAVTu3K3vDN"
      },
      "source": [
        "6"
      ]
    },
    {
      "cell_type": "markdown",
      "metadata": {
        "id": "__zt_kEJw3Zd"
      },
      "source": [
        "## 코드"
      ]
    },
    {
      "cell_type": "code",
      "metadata": {
        "colab": {
          "base_uri": "https://localhost:8080/"
        },
        "id": "zO2jKMOyPbHW",
        "outputId": "1a1cc1ba-9d37-4162-cdff-3655745e8886"
      },
      "source": [
        "# Others\n",
        "N = int(input())\n",
        "k = int(input())\n",
        "\n",
        "start = 1\n",
        "end = N*N\n",
        "result = 0\n",
        "\n",
        "while start <= end:\n",
        "    mid = (start + end) // 2\n",
        "    temp = 0\n",
        "    for n in range(1,N+1):\n",
        "        temp += min(mid//n, N)\n",
        "\n",
        "    if temp >= k:\n",
        "        result = mid\n",
        "        end = mid - 1\n",
        "    else:\n",
        "        start = mid + 1    \n",
        "\n",
        "print(result)"
      ],
      "execution_count": null,
      "outputs": [
        {
          "output_type": "stream",
          "text": [
            "3\n",
            "7\n",
            "6\n"
          ],
          "name": "stdout"
        }
      ]
    },
    {
      "cell_type": "code",
      "metadata": {
        "colab": {
          "base_uri": "https://localhost:8080/"
        },
        "id": "p-Gmd415SluE",
        "outputId": "5f136fe7-ce27-4916-c761-40597ba16fa3"
      },
      "source": [
        "# Others\n",
        "# e = k ??!?!\n",
        "n,k = int(input()), int(input())\n",
        "s,e = 1,k\n",
        "res = 0\n",
        "while s<=e:\n",
        "    m = (s+e)//2\n",
        "    tmp=0\n",
        "    for i in range(1,n+1):\n",
        "        tmp += min(m//i, n)\n",
        "    \n",
        "    if tmp < k:\n",
        "        s = m + 1\n",
        "    else:\n",
        "        res = m\n",
        "        e = m - 1\n",
        "print(res)"
      ],
      "execution_count": null,
      "outputs": [
        {
          "output_type": "stream",
          "text": [
            "3\n",
            "7\n",
            "6\n"
          ],
          "name": "stdout"
        }
      ]
    },
    {
      "cell_type": "code",
      "metadata": {
        "colab": {
          "base_uri": "https://localhost:8080/"
        },
        "id": "tY3NLoAsQ8R7",
        "outputId": "d0e4f1dd-6013-4202-86cc-d39aaa03569d"
      },
      "source": [
        "15//2"
      ],
      "execution_count": null,
      "outputs": [
        {
          "output_type": "execute_result",
          "data": {
            "text/plain": [
              "7"
            ]
          },
          "metadata": {
            "tags": []
          },
          "execution_count": 1
        }
      ]
    },
    {
      "cell_type": "markdown",
      "metadata": {
        "id": "bSzpKoeFzzUN"
      },
      "source": [
        "## 메모\n"
      ]
    },
    {
      "cell_type": "markdown",
      "metadata": {
        "id": "9WpqD5eeZcCa"
      },
      "source": [
        "이진 분류, K번째 세는 아이디어 tmp += min(m//i, n), 각 행이 오름차순으로 정렬되있어서 가능"
      ]
    },
    {
      "cell_type": "markdown",
      "metadata": {
        "id": "oVae9EVecP5J"
      },
      "source": [
        "K 번째 수를 구하는 것이므로 end값을 K 로 잡아도 상관없다. NxN 행렬에서 K 번째 수는 무조건 K보다 작을테니"
      ]
    }
  ]
}