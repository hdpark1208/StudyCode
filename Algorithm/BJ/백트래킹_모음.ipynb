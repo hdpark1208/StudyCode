{
  "nbformat": 4,
  "nbformat_minor": 0,
  "metadata": {
    "colab": {
      "provenance": [],
      "include_colab_link": true
    },
    "kernelspec": {
      "name": "python3",
      "display_name": "Python 3"
    },
    "language_info": {
      "name": "python"
    }
  },
  "cells": [
    {
      "cell_type": "markdown",
      "metadata": {
        "id": "view-in-github",
        "colab_type": "text"
      },
      "source": [
        "<a href=\"https://colab.research.google.com/github/hdpark1208/StudyCode/blob/main/Algorithm/BJ/%EB%B0%B1%ED%8A%B8%EB%9E%98%ED%82%B9_%EB%AA%A8%EC%9D%8C.ipynb\" target=\"_parent\"><img src=\"https://colab.research.google.com/assets/colab-badge.svg\" alt=\"Open In Colab\"/></a>"
      ]
    },
    {
      "cell_type": "markdown",
      "metadata": {
        "id": "Yh4kWp1luxrW"
      },
      "source": [
        "# 백트래킹 모음"
      ]
    },
    {
      "cell_type": "markdown",
      "metadata": {
        "id": "Xg2dbbF7u2R8"
      },
      "source": []
    },
    {
      "cell_type": "markdown",
      "metadata": {
        "id": "LqXcSRcPu8kj"
      },
      "source": [
        "## 입력 출력 및 예제\n"
      ]
    },
    {
      "cell_type": "markdown",
      "metadata": {
        "id": "rFCkhMXFvDp0"
      },
      "source": [
        "* 입력"
      ]
    },
    {
      "cell_type": "markdown",
      "metadata": {
        "id": "XwU2sme_3t7A"
      },
      "source": []
    },
    {
      "cell_type": "markdown",
      "metadata": {
        "id": "Ar1hCLVxwiDl"
      },
      "source": [
        "* 출력"
      ]
    },
    {
      "cell_type": "markdown",
      "metadata": {
        "id": "VaXKN9fc3uUv"
      },
      "source": []
    },
    {
      "cell_type": "markdown",
      "metadata": {
        "id": "8tmCzTFmwwmN"
      },
      "source": [
        "* 예제"
      ]
    },
    {
      "cell_type": "markdown",
      "metadata": {
        "id": "ZuKUpEvu3uuv"
      },
      "source": []
    },
    {
      "cell_type": "markdown",
      "source": [
        "## 구상"
      ],
      "metadata": {
        "id": "AGhrdbYB1CKt"
      }
    },
    {
      "cell_type": "markdown",
      "source": [
        "-"
      ],
      "metadata": {
        "id": "TU2SB-V61DWu"
      }
    },
    {
      "cell_type": "markdown",
      "metadata": {
        "id": "__zt_kEJw3Zd"
      },
      "source": [
        "## 코드"
      ]
    },
    {
      "cell_type": "code",
      "source": [
        "# 15649 # 라이브러리\n",
        "from itertools import permutations\n",
        "\n",
        "N, M = map(int, input().split())\n",
        "\n",
        "for p in permutations(range(1, N + 1), M):\n",
        "    print(' '.join(map(str, p)))\n",
        "\n",
        "# 15649 # 직접 구현\n",
        "\n",
        "import sys\n",
        "\n",
        "N, M = map(int, input().split())\n",
        "visited = [False] * (N + 1)\n",
        "result = []\n",
        "\n",
        "def backtrack(depth):\n",
        "    if depth == M:\n",
        "        print(' '.join(map(str, result)))\n",
        "        return\n",
        "    for i in range(1, N + 1):\n",
        "        if not visited[i]:\n",
        "            visited[i] = True\n",
        "            result.append(i)\n",
        "            backtrack(depth + 1)\n",
        "            result.pop()\n",
        "            visited[i] = False\n",
        "\n",
        "backtrack(0)"
      ],
      "metadata": {
        "id": "vPtwctNN1cyV"
      },
      "execution_count": null,
      "outputs": []
    },
    {
      "cell_type": "code",
      "source": [],
      "metadata": {
        "colab": {
          "base_uri": "https://localhost:8080/"
        },
        "id": "SM0iXs8b4Qxl",
        "outputId": "9c02597a-849d-43b3-cdd8-dbc6f1a2c988"
      },
      "execution_count": 5,
      "outputs": [
        {
          "output_type": "stream",
          "name": "stdout",
          "text": [
            "4 3\n",
            "1 2 3\n",
            "1 2 4\n",
            "1 3 2\n",
            "1 3 4\n",
            "1 4 2\n",
            "1 4 3\n",
            "2 1 3\n",
            "2 1 4\n",
            "2 3 1\n",
            "2 3 4\n",
            "2 4 1\n",
            "2 4 3\n",
            "3 1 2\n",
            "3 1 4\n",
            "3 2 1\n",
            "3 2 4\n",
            "3 4 1\n",
            "3 4 2\n",
            "4 1 2\n",
            "4 1 3\n",
            "4 2 1\n",
            "4 2 3\n",
            "4 3 1\n",
            "4 3 2\n"
          ]
        }
      ]
    },
    {
      "cell_type": "code",
      "source": [
        "from itertools import permutations\n",
        "\n",
        "N, M = map(int, input().split())\n",
        "\n",
        "for p in permutations(range(1, N + 1), M):\n",
        "    print(' '.join(map(str, p)))"
      ],
      "metadata": {
        "colab": {
          "base_uri": "https://localhost:8080/"
        },
        "id": "ONHH0KAJ8TSb",
        "outputId": "a9e435ea-cbd5-482b-cf74-bbe13c5d0630"
      },
      "execution_count": 6,
      "outputs": [
        {
          "output_type": "stream",
          "name": "stdout",
          "text": [
            "4 3\n",
            "1 2 3\n",
            "1 2 4\n",
            "1 3 2\n",
            "1 3 4\n",
            "1 4 2\n",
            "1 4 3\n",
            "2 1 3\n",
            "2 1 4\n",
            "2 3 1\n",
            "2 3 4\n",
            "2 4 1\n",
            "2 4 3\n",
            "3 1 2\n",
            "3 1 4\n",
            "3 2 1\n",
            "3 2 4\n",
            "3 4 1\n",
            "3 4 2\n",
            "4 1 2\n",
            "4 1 3\n",
            "4 2 1\n",
            "4 2 3\n",
            "4 3 1\n",
            "4 3 2\n"
          ]
        }
      ]
    },
    {
      "cell_type": "markdown",
      "source": [
        "### 메모"
      ],
      "metadata": {
        "id": "-n10miTJFzvM"
      }
    },
    {
      "cell_type": "markdown",
      "source": [
        "* 왈러스 연산자"
      ],
      "metadata": {
        "id": "6ePQssjlF2--"
      }
    },
    {
      "cell_type": "code",
      "source": [],
      "metadata": {
        "id": "uX2usWhaF0yx"
      },
      "execution_count": null,
      "outputs": []
    }
  ]
}