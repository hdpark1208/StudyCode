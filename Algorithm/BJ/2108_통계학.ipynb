{
  "nbformat": 4,
  "nbformat_minor": 0,
  "metadata": {
    "colab": {
      "provenance": [],
      "include_colab_link": true
    },
    "kernelspec": {
      "name": "python3",
      "display_name": "Python 3"
    },
    "language_info": {
      "name": "python"
    }
  },
  "cells": [
    {
      "cell_type": "markdown",
      "metadata": {
        "id": "view-in-github",
        "colab_type": "text"
      },
      "source": [
        "<a href=\"https://colab.research.google.com/github/hdpark1208/StudyCode/blob/main/Algorithm/BJ/2108_%ED%86%B5%EA%B3%84%ED%95%99.ipynb\" target=\"_parent\"><img src=\"https://colab.research.google.com/assets/colab-badge.svg\" alt=\"Open In Colab\"/></a>"
      ]
    },
    {
      "cell_type": "markdown",
      "metadata": {
        "id": "Yh4kWp1luxrW"
      },
      "source": [
        "# 통계학"
      ]
    },
    {
      "cell_type": "markdown",
      "metadata": {
        "id": "Xg2dbbF7u2R8"
      },
      "source": [
        "수를 처리하는 것은 통계학에서 상당히 중요한 일이다. 통계학에서 N개의 수를 대표하는 기본 통계값에는 다음과 같은 것들이 있다. 단, N은 홀수라고 가정하자.\n",
        "\n",
        "1. 산술평균 : N개의 수들의 합을 N으로 나눈 값\n",
        "2. 중앙값 : N개의 수들을 증가하는 순서로 나열했을 경우 그 중앙에 위치하는 값\n",
        "3. 최빈값 : N개의 수들 중 가장 많이 나타나는 값\n",
        "4. 범위 : N개의 수들 중 최댓값과 최솟값의 차이  \n",
        "N개의 수가 주어졌을 때, 네 가지 기본 통계값을 구하는 프로그램을 작성하시오."
      ]
    },
    {
      "cell_type": "markdown",
      "metadata": {
        "id": "LqXcSRcPu8kj"
      },
      "source": [
        "## 입력 출력 및 예제\n"
      ]
    },
    {
      "cell_type": "markdown",
      "metadata": {
        "id": "rFCkhMXFvDp0"
      },
      "source": [
        "* 입력"
      ]
    },
    {
      "cell_type": "markdown",
      "metadata": {
        "id": "XwU2sme_3t7A"
      },
      "source": [
        "첫째 줄에 수의 개수 N(1 ≤ N ≤ 500,000)이 주어진다. 단, N은 홀수이다. 그 다음 N개의 줄에는 정수들이 주어진다. 입력되는 정수의 절댓값은 4,000을 넘지 않는다."
      ]
    },
    {
      "cell_type": "markdown",
      "metadata": {
        "id": "Ar1hCLVxwiDl"
      },
      "source": [
        "* 출력"
      ]
    },
    {
      "cell_type": "markdown",
      "metadata": {
        "id": "VaXKN9fc3uUv"
      },
      "source": [
        "첫째 줄에는 산술평균을 출력한다. 소수점 이하 첫째 자리에서 반올림한 값을 출력한다.\n",
        "\n",
        "둘째 줄에는 중앙값을 출력한다.\n",
        "\n",
        "셋째 줄에는 최빈값을 출력한다. 여러 개 있을 때에는 최빈값 중 두 번째로 작은 값을 출력한다.\n",
        "\n",
        "넷째 줄에는 범위를 출력한다."
      ]
    },
    {
      "cell_type": "markdown",
      "metadata": {
        "id": "8tmCzTFmwwmN"
      },
      "source": [
        "* 예제"
      ]
    },
    {
      "cell_type": "markdown",
      "metadata": {
        "id": "ZuKUpEvu3uuv"
      },
      "source": [
        "![image.png](data:image/png;base64,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)"
      ]
    },
    {
      "cell_type": "markdown",
      "source": [
        "## 구상"
      ],
      "metadata": {
        "id": "AGhrdbYB1CKt"
      }
    },
    {
      "cell_type": "markdown",
      "source": [
        "-"
      ],
      "metadata": {
        "id": "TU2SB-V61DWu"
      }
    },
    {
      "cell_type": "markdown",
      "metadata": {
        "id": "__zt_kEJw3Zd"
      },
      "source": [
        "## 코드"
      ]
    },
    {
      "cell_type": "code",
      "source": [
        "import sys\n",
        "import statistics\n",
        "\n",
        "N = int(sys.stdin.readline())\n",
        "# data = []\n",
        "# for _ in range(N):\n",
        "#     data.append(int(input()))\n",
        "data = [int(sys.stdin.readline()) for _ in range(N)]\n",
        "mean = int(round(sum(data) / len(data)))\n",
        "median = statistics.median(data)\n",
        "mode = statistics.multimode(data)\n",
        "mode.sort()\n",
        "print(mean)\n",
        "print(median)\n",
        "if len(mode) > 1:\n",
        "    print(mode[1])\n",
        "else:\n",
        "    print(mode[0])\n",
        "print(max(data)-min(data))"
      ],
      "metadata": {
        "colab": {
          "base_uri": "https://localhost:8080/"
        },
        "id": "RdY8VTIRh-To",
        "outputId": "f6d6a62e-7566-4b09-8bf6-702eb66e3833"
      },
      "execution_count": 16,
      "outputs": [
        {
          "output_type": "stream",
          "name": "stdout",
          "text": [
            "5\n",
            "-1\n",
            "-2\n",
            "-3\n",
            "-1\n",
            "-2\n",
            "-2\n",
            "-2\n",
            "-1\n",
            "2\n"
          ]
        }
      ]
    },
    {
      "cell_type": "code",
      "source": [],
      "metadata": {
        "id": "gr42EdaVWS2e"
      },
      "execution_count": null,
      "outputs": []
    }
  ]
}