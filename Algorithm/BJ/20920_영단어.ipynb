{
  "nbformat": 4,
  "nbformat_minor": 0,
  "metadata": {
    "colab": {
      "provenance": [],
      "include_colab_link": true
    },
    "kernelspec": {
      "name": "python3",
      "display_name": "Python 3"
    },
    "language_info": {
      "name": "python"
    }
  },
  "cells": [
    {
      "cell_type": "markdown",
      "metadata": {
        "id": "view-in-github",
        "colab_type": "text"
      },
      "source": [
        "<a href=\"https://colab.research.google.com/github/hdpark1208/StudyCode/blob/main/Algorithm/BJ/20920_%EC%98%81%EB%8B%A8%EC%96%B4.ipynb\" target=\"_parent\"><img src=\"https://colab.research.google.com/assets/colab-badge.svg\" alt=\"Open In Colab\"/></a>"
      ]
    },
    {
      "cell_type": "markdown",
      "metadata": {
        "id": "Yh4kWp1luxrW"
      },
      "source": [
        "# 영단어 암기는 괴로워"
      ]
    },
    {
      "cell_type": "markdown",
      "metadata": {
        "id": "Xg2dbbF7u2R8"
      },
      "source": [
        "화은이는 이번 영어 시험에서 틀린 문제를 바탕으로 영어 단어 암기를 하려고 한다. 그 과정에서 효율적으로 영어 단어를 외우기 위해 영어 단어장을 만들려 하고 있다. 화은이가 만들고자 하는 단어장의 단어 순서는 다음과 같은 우선순위를 차례로 적용하여 만들어진다.\n",
        "\n",
        "1. 자주 나오는 단어일수록 앞에 배치한다.\n",
        "2. 해당 단어의 길이가 길수록 앞에 배치한다.\n",
        "3. 알파벳 사전 순으로 앞에 있는 단어일수록 앞에 배치한다  \n",
        "\n",
        "$M$보다 짧은 길이의 단어의 경우 읽는 것만으로도 외울 수 있기 때문에 길이가\n",
        "$M$이상인 단어들만 외운다고 한다. 화은이가 괴로운 영단어 암기를 효율적으로 할 수 있도록 단어장을 만들어 주자."
      ]
    },
    {
      "cell_type": "markdown",
      "metadata": {
        "id": "LqXcSRcPu8kj"
      },
      "source": [
        "## 입력 출력 및 예제\n"
      ]
    },
    {
      "cell_type": "markdown",
      "metadata": {
        "id": "rFCkhMXFvDp0"
      },
      "source": [
        "* 입력"
      ]
    },
    {
      "cell_type": "markdown",
      "metadata": {
        "id": "XwU2sme_3t7A"
      },
      "source": [
        "첫째 줄에는 영어 지문에 나오는 단어의 개수\n",
        "$N$과 외울 단어의 길이 기준이 되는\n",
        "$M$이 공백으로 구분되어 주어진다.  \n",
        "(\n",
        "$1 \\leq N \\leq 100\\,000$,\n",
        "$1 \\leq M \\leq 10$)\n",
        "\n",
        "둘째 줄부터\n",
        "$N+1$번째 줄까지 외울 단어를 입력받는다. 이때의 입력은 알파벳 소문자로만 주어지며 단어의 길이는\n",
        "$10$을 넘지 않는다.\n",
        "\n",
        "단어장에 단어가 반드시 1개 이상 존재하는 입력만 주어진다."
      ]
    },
    {
      "cell_type": "markdown",
      "metadata": {
        "id": "Ar1hCLVxwiDl"
      },
      "source": [
        "* 출력"
      ]
    },
    {
      "cell_type": "markdown",
      "metadata": {
        "id": "VaXKN9fc3uUv"
      },
      "source": [
        "화은이의 단어장에 들어 있는 단어를 단어장의 앞에 위치한 단어부터 한 줄에 한 단어씩 순서대로 출력한다."
      ]
    },
    {
      "cell_type": "markdown",
      "metadata": {
        "id": "8tmCzTFmwwmN"
      },
      "source": [
        "* 예제"
      ]
    },
    {
      "cell_type": "markdown",
      "metadata": {
        "id": "ZuKUpEvu3uuv"
      },
      "source": [
        "![image.png](data:image/png;base64,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)"
      ]
    },
    {
      "cell_type": "markdown",
      "source": [
        "## 구상"
      ],
      "metadata": {
        "id": "AGhrdbYB1CKt"
      }
    },
    {
      "cell_type": "markdown",
      "source": [
        "-"
      ],
      "metadata": {
        "id": "TU2SB-V61DWu"
      }
    },
    {
      "cell_type": "markdown",
      "metadata": {
        "id": "__zt_kEJw3Zd"
      },
      "source": [
        "## 코드"
      ]
    },
    {
      "cell_type": "code",
      "source": [
        "from collections import Counter\n",
        "a = ['a','b','c','a','a','b']\n",
        "b = Counter(a)\n",
        "b"
      ],
      "metadata": {
        "colab": {
          "base_uri": "https://localhost:8080/"
        },
        "id": "Wt1mHLRz9VJs",
        "outputId": "4cf2885d-f768-471e-be91-34e3c8a65317"
      },
      "execution_count": 1,
      "outputs": [
        {
          "output_type": "execute_result",
          "data": {
            "text/plain": [
              "Counter({'a': 3, 'b': 2, 'c': 1})"
            ]
          },
          "metadata": {},
          "execution_count": 1
        }
      ]
    },
    {
      "cell_type": "code",
      "source": [
        "M"
      ],
      "metadata": {
        "colab": {
          "base_uri": "https://localhost:8080/",
          "height": 147
        },
        "id": "1IwSuHbfENiu",
        "outputId": "8660f8fa-4da8-4815-8f7f-ff47d126c097"
      },
      "execution_count": 4,
      "outputs": [
        {
          "output_type": "error",
          "ename": "NameError",
          "evalue": "name 'M' is not defined",
          "traceback": [
            "\u001b[0;31m---------------------------------------------------------------------------\u001b[0m",
            "\u001b[0;31mNameError\u001b[0m                                 Traceback (most recent call last)",
            "\u001b[0;32m<ipython-input-4-f3e8788da83b>\u001b[0m in \u001b[0;36m<cell line: 0>\u001b[0;34m()\u001b[0m\n\u001b[0;32m----> 1\u001b[0;31m \u001b[0mM\u001b[0m\u001b[0;34m\u001b[0m\u001b[0;34m\u001b[0m\u001b[0m\n\u001b[0m",
            "\u001b[0;31mNameError\u001b[0m: name 'M' is not defined"
          ]
        }
      ]
    },
    {
      "cell_type": "code",
      "source": [
        "words"
      ],
      "metadata": {
        "colab": {
          "base_uri": "https://localhost:8080/",
          "height": 147
        },
        "id": "YJ7cUXo9EuAH",
        "outputId": "410d7bdc-6b65-4fa5-831a-6189afac3944"
      },
      "execution_count": 6,
      "outputs": [
        {
          "output_type": "error",
          "ename": "NameError",
          "evalue": "name 'words' is not defined",
          "traceback": [
            "\u001b[0;31m---------------------------------------------------------------------------\u001b[0m",
            "\u001b[0;31mNameError\u001b[0m                                 Traceback (most recent call last)",
            "\u001b[0;32m<ipython-input-6-730c51b3e7e0>\u001b[0m in \u001b[0;36m<cell line: 0>\u001b[0;34m()\u001b[0m\n\u001b[0;32m----> 1\u001b[0;31m \u001b[0mwords\u001b[0m\u001b[0;34m\u001b[0m\u001b[0;34m\u001b[0m\u001b[0m\n\u001b[0m",
            "\u001b[0;31mNameError\u001b[0m: name 'words' is not defined"
          ]
        }
      ]
    },
    {
      "cell_type": "code",
      "source": [
        "import sys\n",
        "from collections import Counter\n",
        "\n",
        "N, M = map(int, sys.stdin.readline().rstrip().split())\n",
        "# data = [sys.stdin.readline().rstrip() for _ in range(N)]\n",
        "# data = [word := sys.stdin.readline().rstrip() for _ in range(N) if len(word) >= M] # 왈러스 연산자\n",
        "# data = [sys.stdin.readline().rstrip() for _ in range(N) if len(sys.stdin.readline().rstrip()) >= M]\n",
        "data = [word for _ in range(N) if (word := sys.stdin.readline().rstrip()) and len(word) >= M]\n",
        "\n",
        "def custom_sort(words):\n",
        "    freq = Counter(words)\n",
        "    sorted_words = sorted(\n",
        "        set(words),\n",
        "        key = lambda x: (-freq[x], -len(x), x)\n",
        "    )\n",
        "\n",
        "    return sorted_words\n",
        "\n",
        "for i in custom_sort(data):\n",
        "    print(i)\n"
      ],
      "metadata": {
        "colab": {
          "base_uri": "https://localhost:8080/"
        },
        "id": "RdY8VTIRh-To",
        "outputId": "f6d6a62e-7566-4b09-8bf6-702eb66e3833"
      },
      "execution_count": null,
      "outputs": [
        {
          "output_type": "stream",
          "name": "stdout",
          "text": [
            "5\n",
            "-1\n",
            "-2\n",
            "-3\n",
            "-1\n",
            "-2\n",
            "-2\n",
            "-2\n",
            "-1\n",
            "2\n"
          ]
        }
      ]
    },
    {
      "cell_type": "code",
      "source": [
        "a = [2*x for x in range(10) if x > 4]\n",
        "a"
      ],
      "metadata": {
        "colab": {
          "base_uri": "https://localhost:8080/"
        },
        "id": "pKiK4q4cBoyF",
        "outputId": "6cd1f39c-151b-418d-fc12-2bc207fdd959"
      },
      "execution_count": 2,
      "outputs": [
        {
          "output_type": "execute_result",
          "data": {
            "text/plain": [
              "[10, 12, 14, 16, 18]"
            ]
          },
          "metadata": {},
          "execution_count": 2
        }
      ]
    },
    {
      "cell_type": "code",
      "source": [],
      "metadata": {
        "id": "gr42EdaVWS2e"
      },
      "execution_count": null,
      "outputs": []
    },
    {
      "cell_type": "markdown",
      "source": [
        "### 메모"
      ],
      "metadata": {
        "id": "-n10miTJFzvM"
      }
    },
    {
      "cell_type": "markdown",
      "source": [
        "* 왈러스 연산자"
      ],
      "metadata": {
        "id": "6ePQssjlF2--"
      }
    },
    {
      "cell_type": "code",
      "source": [],
      "metadata": {
        "id": "uX2usWhaF0yx"
      },
      "execution_count": null,
      "outputs": []
    }
  ]
}