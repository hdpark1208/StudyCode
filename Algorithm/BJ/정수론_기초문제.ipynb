{
  "nbformat": 4,
  "nbformat_minor": 0,
  "metadata": {
    "colab": {
      "provenance": [],
      "include_colab_link": true
    },
    "kernelspec": {
      "name": "python3",
      "display_name": "Python 3"
    },
    "language_info": {
      "name": "python"
    }
  },
  "cells": [
    {
      "cell_type": "markdown",
      "metadata": {
        "id": "view-in-github",
        "colab_type": "text"
      },
      "source": [
        "<a href=\"https://colab.research.google.com/github/hdpark1208/StudyCode/blob/main/Algorithm/BJ/%EC%A0%95%EC%88%98%EB%A1%A0_%EA%B8%B0%EC%B4%88%EB%AC%B8%EC%A0%9C.ipynb\" target=\"_parent\"><img src=\"https://colab.research.google.com/assets/colab-badge.svg\" alt=\"Open In Colab\"/></a>"
      ]
    },
    {
      "cell_type": "markdown",
      "metadata": {
        "id": "Yh4kWp1luxrW"
      },
      "source": [
        "# 정수론 기초 문제"
      ]
    },
    {
      "cell_type": "markdown",
      "metadata": {
        "id": "Xg2dbbF7u2R8"
      },
      "source": []
    },
    {
      "cell_type": "markdown",
      "metadata": {
        "id": "LqXcSRcPu8kj"
      },
      "source": [
        "## 입력 출력 및 예제\n"
      ]
    },
    {
      "cell_type": "markdown",
      "metadata": {
        "id": "rFCkhMXFvDp0"
      },
      "source": [
        "* 입력"
      ]
    },
    {
      "cell_type": "markdown",
      "metadata": {
        "id": "XwU2sme_3t7A"
      },
      "source": []
    },
    {
      "cell_type": "markdown",
      "metadata": {
        "id": "Ar1hCLVxwiDl"
      },
      "source": [
        "* 출력"
      ]
    },
    {
      "cell_type": "markdown",
      "metadata": {
        "id": "VaXKN9fc3uUv"
      },
      "source": []
    },
    {
      "cell_type": "markdown",
      "metadata": {
        "id": "8tmCzTFmwwmN"
      },
      "source": [
        "* 예제"
      ]
    },
    {
      "cell_type": "markdown",
      "metadata": {
        "id": "ZuKUpEvu3uuv"
      },
      "source": []
    },
    {
      "cell_type": "markdown",
      "source": [
        "## 구상"
      ],
      "metadata": {
        "id": "AGhrdbYB1CKt"
      }
    },
    {
      "cell_type": "markdown",
      "source": [
        "- 카드의 보유 유무를 묻는 문제"
      ],
      "metadata": {
        "id": "TU2SB-V61DWu"
      }
    },
    {
      "cell_type": "markdown",
      "metadata": {
        "id": "__zt_kEJw3Zd"
      },
      "source": [
        "## 코드"
      ]
    },
    {
      "cell_type": "code",
      "source": [
        "# 13241 # 불필요한 코드가 많다\n",
        "# def gcd(a,b): # gcd(a,b) = gcd(b,r)\n",
        "#     if a == 0:\n",
        "#         return b\n",
        "#     if b == 0:\n",
        "#         return a\n",
        "\n",
        "#     if a > b:\n",
        "#         q = a // b\n",
        "#         r = a % b\n",
        "#         return gcd(b,r)\n",
        "#     elif b > a:\n",
        "#         q = b // a\n",
        "#         r = b % a\n",
        "#         return gcd(a,r)\n",
        "#     else:\n",
        "#         return a\n",
        "\n",
        "def gcd(a, b): # GPT\n",
        "    if b == 0:\n",
        "        return a\n",
        "    return gcd(b, a % b)\n"
      ],
      "metadata": {
        "id": "8w_njeAZ7C92"
      },
      "execution_count": null,
      "outputs": []
    },
    {
      "cell_type": "code",
      "source": [
        "# 1735\n",
        "def gcd(a, b): # GPT\n",
        "    if b == 0:\n",
        "        return a\n",
        "    return gcd(b, a % b)\n",
        "\n",
        "def add_fractions(a, A, b, B):\n",
        "    m = A*B\n",
        "    s = a*B + b*A\n",
        "    g = gcd(m,s)\n",
        "    return print(int(s/g),int(m/g))\n",
        "\n",
        "a, A = map(int,input().split())\n",
        "b, B = map(int,input().split())\n",
        "\n",
        "add_fractions(a,A,b,B)"
      ],
      "metadata": {
        "colab": {
          "base_uri": "https://localhost:8080/"
        },
        "id": "-c5vz8A_3zDm",
        "outputId": "1d68b3fd-46e7-4593-8f53-c584476bd5b6"
      },
      "execution_count": null,
      "outputs": [
        {
          "output_type": "stream",
          "name": "stdout",
          "text": [
            "2 7\n",
            "3 5\n",
            "31 35\n"
          ]
        }
      ]
    },
    {
      "cell_type": "code",
      "source": [
        "# 2485\n",
        "# 최소 가로수 수를 위한 간격의 길이는, 가장 간격이 작은 길이 보다는 길면서 그 간격이 모든 간격을 나눌수있어야 한다\n",
        "import sys\n",
        "\n",
        "def gcd(a, b): # GPT\n",
        "    if b == 0:\n",
        "        return a\n",
        "    return gcd(b, a % b)\n",
        "\n",
        "def tree_dist(arr):\n",
        "    # arr.sort()\n",
        "    dist_list = []\n",
        "    for i in range(len(arr)-1):\n",
        "        dist_list.append(arr[i+1] - arr[i])\n",
        "\n",
        "    cur_gcd = gcd(dist_list[0],dist_list[1])\n",
        "    for i in range(1, len(dist_list)-1):\n",
        "        cur_gcd = gcd(cur_gcd, dist_list[i+1])\n",
        "\n",
        "    answer = 0\n",
        "    for i in dist_list:\n",
        "        answer += (i // cur_gcd) - 1\n",
        "\n",
        "    return answer\n",
        "\n",
        "n = int(sys.stdin.readline().strip())\n",
        "arr = list(map(int, sys.stdin.read().splitlines()))\n",
        "print(tree_dist(arr))\n",
        "\n",
        "\n",
        "\n",
        "\n"
      ],
      "metadata": {
        "id": "-qngHB_S5m6W"
      },
      "execution_count": null,
      "outputs": []
    },
    {
      "cell_type": "code",
      "source": [],
      "metadata": {
        "id": "FbpDV2Rd5j51"
      },
      "execution_count": null,
      "outputs": []
    },
    {
      "cell_type": "markdown",
      "metadata": {
        "id": "bSzpKoeFzzUN"
      },
      "source": [
        "## 메모\n",
        "\n",
        "* 유클리드 호제법을 통해 gcd 구하는 알고리즘을 직접 구현해보았다. 하지만 가독성, 불필요한 코드가 많았다\n",
        "* 코랩은 sys.stdin 쪽이 먹히질않아 조금 불편하다"
      ]
    },
    {
      "cell_type": "code",
      "source": [],
      "metadata": {
        "id": "d_nCYXnmZXvu"
      },
      "execution_count": null,
      "outputs": []
    },
    {
      "cell_type": "code",
      "source": [],
      "metadata": {
        "id": "3CeoBqWOLnWM"
      },
      "execution_count": null,
      "outputs": []
    },
    {
      "cell_type": "code",
      "source": [],
      "metadata": {
        "id": "gr42EdaVWS2e"
      },
      "execution_count": null,
      "outputs": []
    }
  ]
}