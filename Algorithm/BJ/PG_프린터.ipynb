{
  "nbformat": 4,
  "nbformat_minor": 0,
  "metadata": {
    "colab": {
      "name": "PG_프린터.ipynb",
      "provenance": [],
      "collapsed_sections": [],
      "authorship_tag": "ABX9TyORwyr50/BD4r0z2TC50KGH",
      "include_colab_link": true
    },
    "kernelspec": {
      "name": "python3",
      "display_name": "Python 3"
    },
    "language_info": {
      "name": "python"
    }
  },
  "cells": [
    {
      "cell_type": "markdown",
      "metadata": {
        "id": "view-in-github",
        "colab_type": "text"
      },
      "source": [
        "<a href=\"https://colab.research.google.com/github/hdpark1208/StudyCode/blob/main/Algorithm/BJ/PG_%ED%94%84%EB%A6%B0%ED%84%B0.ipynb\" target=\"_parent\"><img src=\"https://colab.research.google.com/assets/colab-badge.svg\" alt=\"Open In Colab\"/></a>"
      ]
    },
    {
      "cell_type": "markdown",
      "metadata": {
        "id": "PDbMpZoWtcsk"
      },
      "source": [
        "일반적인 프린터는 인쇄 요청이 들어온 순서대로 인쇄합니다. 그렇기 때문에 중요한 문서가 나중에 인쇄될 수 있습니다. 이런 문제를 보완하기 위해 중요도가 높은 문서를 먼저 인쇄하는 프린터를 개발했습니다. 이 새롭게 개발한 프린터는 아래와 같은 방식으로 인쇄 작업을 수행합니다."
      ]
    },
    {
      "cell_type": "markdown",
      "metadata": {
        "id": "zN2E6Q2ttfyO"
      },
      "source": [
        "1. 인쇄 대기목록의 가장 앞에 있는 문서(J)를 대기목록에서 꺼냅니다.  \n",
        "2. 나머지 인쇄 대기목록에서 J보다 중요도가 높은 문서가 한 개라도 존재하면 J를 대기목록의 가장 마지막에 넣습니다.  \n",
        "3. 그렇지 않으면 J를 인쇄합니다.  "
      ]
    },
    {
      "cell_type": "markdown",
      "metadata": {
        "id": "tRHwLlerkZdV"
      },
      "source": [
        "예를 들어, 4개의 문서(A, B, C, D)가 순서대로 인쇄 대기목록에 있고 중요도가 2 1 3 2 라면 C D A B 순으로 인쇄하게 됩니다.  \n",
        "\n",
        "내가 인쇄를 요청한 문서가 몇 번째로 인쇄되는지 알고 싶습니다. 위의 예에서 C는 1번째로, A는 3번째로 인쇄됩니다.  \n",
        "\n",
        "현재 대기목록에 있는 문서의 중요도가 순서대로 담긴 배열 priorities와 내가 인쇄를 요청한 문서가 현재 대기목록의 어떤 위치에 있는지를 알려주는 location이 매개변수로 주어질 때, 내가 인쇄를 요청한 문서가 몇 번째로 인쇄되는지 return 하도록 solution 함수를 작성해주세요.  "
      ]
    },
    {
      "cell_type": "code",
      "metadata": {
        "id": "q9A_3s68snh0",
        "colab": {
          "base_uri": "https://localhost:8080/",
          "height": 35
        },
        "outputId": "753e13b7-8049-4049-c21f-c7254a435854"
      },
      "source": [
        "test = ['a','b','c']\n",
        "order = []\n",
        "for i in range(len(test)):\n",
        "    order.append([i,test[i]])\n",
        "order[2][1]"
      ],
      "execution_count": null,
      "outputs": [
        {
          "output_type": "execute_result",
          "data": {
            "application/vnd.google.colaboratory.intrinsic+json": {
              "type": "string"
            },
            "text/plain": [
              "'c'"
            ]
          },
          "metadata": {
            "tags": []
          },
          "execution_count": 16
        }
      ]
    },
    {
      "cell_type": "code",
      "metadata": {
        "id": "INfUyjknnF1q"
      },
      "source": [
        "from collections import deque\n",
        "\n",
        "def solution(priorities, location):\n",
        "    wait_list = []\n",
        "    for i in range(len(priorities)):\n",
        "        wait_list.append([i,priorities[i]])\n",
        "        \n",
        "    printer = deque(wait_list)\n",
        "    \n",
        "    order = []\n",
        "    while printer:\n",
        "        bool = False\n",
        "        a = printer.popleft()\n",
        "        for i in printer:\n",
        "            if i[1]>a[1]:             \n",
        "                bool = True\n",
        "                break\n",
        "        if bool==True: # 우선순위 높은게 있으면\n",
        "            printer.append(a) # 다시 위로 집어넣기\n",
        "            \n",
        "        else:\n",
        "            order.append(a)\n",
        "    \n",
        "    for i in range(len(order)):\n",
        "        if location==order[i][0]:\n",
        "            return i+1"
      ],
      "execution_count": null,
      "outputs": []
    },
    {
      "cell_type": "code",
      "metadata": {
        "colab": {
          "base_uri": "https://localhost:8080/"
        },
        "id": "7DFG8pi-qs3k",
        "outputId": "94308ff5-235f-4296-8fbe-798583e4cc59"
      },
      "source": [
        "solution([2,1,3,2],2)"
      ],
      "execution_count": null,
      "outputs": [
        {
          "output_type": "execute_result",
          "data": {
            "text/plain": [
              "1"
            ]
          },
          "metadata": {
            "tags": []
          },
          "execution_count": 38
        }
      ]
    },
    {
      "cell_type": "code",
      "metadata": {
        "colab": {
          "base_uri": "https://localhost:8080/"
        },
        "id": "9omQu8ZQvBEF",
        "outputId": "37816944-8146-4c34-9c7d-47017be266a2"
      },
      "source": [
        "solution([1,1,9,1,1,1],0)"
      ],
      "execution_count": null,
      "outputs": [
        {
          "output_type": "execute_result",
          "data": {
            "text/plain": [
              "5"
            ]
          },
          "metadata": {
            "tags": []
          },
          "execution_count": 39
        }
      ]
    },
    {
      "cell_type": "code",
      "metadata": {
        "colab": {
          "base_uri": "https://localhost:8080/",
          "height": 172
        },
        "id": "72xJK9LyqzF0",
        "outputId": "11d00a74-1ca8-4622-9bda-62e6e4567bf9"
      },
      "source": [
        "# SOTA\n",
        "\n",
        "def solution(priorities, location):\n",
        "    queue =  [(i,p) for i,p in enumerate(priorities)]\n",
        "    answer = 0\n",
        "    while True:\n",
        "        cur = queue.pop(0)\n",
        "        if any(cur[1] < q[1] for q in queue):\n",
        "            queue.append(cur)\n",
        "        else:\n",
        "            answer += 1\n",
        "            if cur[0] == location:\n",
        "                return answer"
      ],
      "execution_count": null,
      "outputs": [
        {
          "output_type": "error",
          "ename": "NameError",
          "evalue": "ignored",
          "traceback": [
            "\u001b[0;31m---------------------------------------------------------------------------\u001b[0m",
            "\u001b[0;31mNameError\u001b[0m                                 Traceback (most recent call last)",
            "\u001b[0;32m<ipython-input-25-6a1284577a36>\u001b[0m in \u001b[0;36m<module>\u001b[0;34m()\u001b[0m\n\u001b[0;32m----> 1\u001b[0;31m \u001b[0ma\u001b[0m\u001b[0;34m[\u001b[0m\u001b[0;36m0\u001b[0m\u001b[0;34m]\u001b[0m\u001b[0;34m\u001b[0m\u001b[0;34m\u001b[0m\u001b[0m\n\u001b[0m",
            "\u001b[0;31mNameError\u001b[0m: name 'a' is not defined"
          ]
        }
      ]
    },
    {
      "cell_type": "code",
      "metadata": {
        "id": "EJMc78Ptts6Q"
      },
      "source": [
        ""
      ],
      "execution_count": null,
      "outputs": []
    }
  ]
}