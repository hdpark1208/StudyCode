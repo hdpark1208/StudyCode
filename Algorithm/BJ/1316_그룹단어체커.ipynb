{
  "nbformat": 4,
  "nbformat_minor": 0,
  "metadata": {
    "colab": {
      "provenance": [],
      "include_colab_link": true
    },
    "kernelspec": {
      "name": "python3",
      "display_name": "Python 3"
    },
    "language_info": {
      "name": "python"
    }
  },
  "cells": [
    {
      "cell_type": "markdown",
      "metadata": {
        "id": "view-in-github",
        "colab_type": "text"
      },
      "source": [
        "<a href=\"https://colab.research.google.com/github/hdpark1208/StudyCode/blob/main/Algorithm/BJ/1316_%EA%B7%B8%EB%A3%B9%EB%8B%A8%EC%96%B4%EC%B2%B4%EC%BB%A4.ipynb\" target=\"_parent\"><img src=\"https://colab.research.google.com/assets/colab-badge.svg\" alt=\"Open In Colab\"/></a>"
      ]
    },
    {
      "cell_type": "markdown",
      "metadata": {
        "id": "Yh4kWp1luxrW"
      },
      "source": [
        "# 그룹 단어 체커"
      ]
    },
    {
      "cell_type": "markdown",
      "metadata": {
        "id": "Xg2dbbF7u2R8"
      },
      "source": [
        "그룹 단어란 단어에 존재하는 모든 문자에 대해서, 각 문자가 연속해서 나타나는 경우만을 말한다. 예를 들면, ccazzzzbb는 c, a, z, b가 모두 연속해서 나타나고, kin도 k, i, n이 연속해서 나타나기 때문에 그룹 단어이지만, aabbbccb는 b가 떨어져서 나타나기 때문에 그룹 단어가 아니다.\n",
        "\n",
        "단어 N개를 입력으로 받아 그룹 단어의 개수를 출력하는 프로그램을 작성하시오."
      ]
    },
    {
      "cell_type": "markdown",
      "metadata": {
        "id": "LqXcSRcPu8kj"
      },
      "source": [
        "## 입력 출력 및 예제\n"
      ]
    },
    {
      "cell_type": "markdown",
      "metadata": {
        "id": "rFCkhMXFvDp0"
      },
      "source": [
        "* 입력"
      ]
    },
    {
      "cell_type": "markdown",
      "metadata": {
        "id": "XwU2sme_3t7A"
      },
      "source": [
        "첫째 줄에 단어의 개수 N이 들어온다. N은 100보다 작거나 같은 자연수이다. 둘째 줄부터 N개의 줄에 단어가 들어온다. 단어는 알파벳 소문자로만 되어있고 중복되지 않으며, 길이는 최대 100이다."
      ]
    },
    {
      "cell_type": "markdown",
      "metadata": {
        "id": "Ar1hCLVxwiDl"
      },
      "source": [
        "* 출력"
      ]
    },
    {
      "cell_type": "markdown",
      "metadata": {
        "id": "VaXKN9fc3uUv"
      },
      "source": [
        "첫째 줄에 그룹 단어의 개수를 출력한다."
      ]
    },
    {
      "cell_type": "markdown",
      "metadata": {
        "id": "8tmCzTFmwwmN"
      },
      "source": [
        "* 예제"
      ]
    },
    {
      "cell_type": "markdown",
      "metadata": {
        "id": "ZuKUpEvu3uuv"
      },
      "source": [
        "![image.png](data:image/png;base64,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)"
      ]
    },
    {
      "cell_type": "markdown",
      "source": [
        "## 구상"
      ],
      "metadata": {
        "id": "AGhrdbYB1CKt"
      }
    },
    {
      "cell_type": "markdown",
      "source": [
        "- 단어 N개를 입력받아 그룹 단어의 개수를 출력하는 프로그램\n",
        "- 각 단어에서 알파벳이 들어왔을 때 해당 알파벳이 들어왔음을 기록한다\n",
        "- 연속된 경우를 제외한 알파벳이 그 단어 내에서 또 들어온 경우 그룹 단어가 아니다"
      ],
      "metadata": {
        "id": "TU2SB-V61DWu"
      }
    },
    {
      "cell_type": "markdown",
      "metadata": {
        "id": "__zt_kEJw3Zd"
      },
      "source": [
        "## 코드"
      ]
    },
    {
      "cell_type": "code",
      "source": [
        "if not False:\n",
        "    print('1')"
      ],
      "metadata": {
        "colab": {
          "base_uri": "https://localhost:8080/"
        },
        "id": "xS9vegHCffQW",
        "outputId": "e0d68582-5b47-4ee4-c87a-ebc86f3c09dd"
      },
      "execution_count": 4,
      "outputs": [
        {
          "output_type": "stream",
          "name": "stdout",
          "text": [
            "1\n"
          ]
        }
      ]
    },
    {
      "cell_type": "code",
      "source": [
        "def is_group_word(word):\n",
        "    alphabets = []\n",
        "    for i in range(len(word)):\n",
        "        if word[i] not in alphabets:\n",
        "            alphabets.append(word[i])\n",
        "        elif word[i-1] != word[i]:\n",
        "            return False\n",
        "    return True\n",
        "\n",
        "N = int(input())\n",
        "answer = 0\n",
        "for i in range(N):\n",
        "    W = input()\n",
        "    if is_group_word(W):\n",
        "        answer += 1\n",
        "\n",
        "print(answer)\n",
        "\n",
        "\n"
      ],
      "metadata": {
        "colab": {
          "base_uri": "https://localhost:8080/"
        },
        "id": "RwZOV2i8T7Hk",
        "outputId": "7c26a6a3-859d-40e7-e49e-eb70a5142bde"
      },
      "execution_count": 7,
      "outputs": [
        {
          "output_type": "stream",
          "name": "stdout",
          "text": [
            "4\n",
            "aba\n",
            "abab\n",
            "abcabc\n",
            "a\n",
            "1\n"
          ]
        }
      ]
    },
    {
      "cell_type": "markdown",
      "metadata": {
        "id": "bSzpKoeFzzUN"
      },
      "source": [
        "## 메모\n",
        "\n",
        "* 구상(2) \"각 단어에서 알파벳이 들어왔을 때 해당 알파벳이 들어왔음을 기록한다\"에서  \n",
        "그룹 단어의 개수만 고려하면 되는 문제기에 굳이 기록까지할 필요없었다"
      ]
    },
    {
      "cell_type": "code",
      "source": [],
      "metadata": {
        "id": "gr42EdaVWS2e"
      },
      "execution_count": null,
      "outputs": []
    }
  ]
}