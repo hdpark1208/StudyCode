{
  "nbformat": 4,
  "nbformat_minor": 0,
  "metadata": {
    "colab": {
      "name": "1021_회전하는큐.ipynb",
      "provenance": [],
      "collapsed_sections": [],
      "authorship_tag": "ABX9TyNycPgyLcZIdVfnPLn5Z+kB",
      "include_colab_link": true
    },
    "kernelspec": {
      "name": "python3",
      "display_name": "Python 3"
    },
    "language_info": {
      "name": "python"
    }
  },
  "cells": [
    {
      "cell_type": "markdown",
      "metadata": {
        "id": "view-in-github",
        "colab_type": "text"
      },
      "source": [
        "<a href=\"https://colab.research.google.com/github/hdpark1208/StudyCode/blob/main/Algorithm/BJ/1021_%ED%9A%8C%EC%A0%84%ED%95%98%EB%8A%94%ED%81%90.ipynb\" target=\"_parent\"><img src=\"https://colab.research.google.com/assets/colab-badge.svg\" alt=\"Open In Colab\"/></a>"
      ]
    },
    {
      "cell_type": "markdown",
      "metadata": {
        "id": "Yh4kWp1luxrW"
      },
      "source": [
        "## 회전하는 큐\n",
        ": 지민이는 N개의 원소를 포함하고 있는 양방향 순환 큐를 가지고 있다. 지민이는 이 큐에서 몇 개의 원소를 뽑아내려고 한다.\n",
        "\n",
        "지민이는 이 큐에서 다음과 같은 3가지 연산을 수행할 수 있다.\n",
        "\n",
        "첫 번째 원소를 뽑아낸다. 이 연산을 수행하면, 원래 큐의 원소가 a1, ..., ak이었던 것이 a2, ..., ak와 같이 된다.\n",
        "왼쪽으로 한 칸 이동시킨다. 이 연산을 수행하면, a1, ..., ak가 a2, ..., ak, a1이 된다.\n",
        "오른쪽으로 한 칸 이동시킨다. 이 연산을 수행하면, a1, ..., ak가 ak, a1, ..., ak-1이 된다.\n",
        "큐에 처음에 포함되어 있던 수 N이 주어진다. 그리고 지민이가 뽑아내려고 하는 원소의 위치가 주어진다. (이 위치는 가장 처음 큐에서의 위치이다.) 이때, 그 원소를 주어진 순서대로 뽑아내는데 드는 2번, 3번 연산의 최솟값을 출력하는 프로그램을 작성하시오."
      ]
    },
    {
      "cell_type": "markdown",
      "metadata": {
        "id": "LqXcSRcPu8kj"
      },
      "source": [
        "## 입력 출력 및 예시\n"
      ]
    },
    {
      "cell_type": "markdown",
      "metadata": {
        "id": "rFCkhMXFvDp0"
      },
      "source": [
        "입력 : 첫째 줄에 큐의 크기 N과 뽑아내려고 하는 수의 개수 M이 주어진다. N은 50보다 작거나 같은 자연수이고, M은 N보다 작거나 같은 자연수이다. 둘째 줄에는 지민이가 뽑아내려고 하는 수의 위치가 순서대로 주어진다. 위치는 1보다 크거나 같고, N보다 작거나 같은 자연수이다."
      ]
    },
    {
      "cell_type": "markdown",
      "metadata": {
        "id": "Ar1hCLVxwiDl"
      },
      "source": [
        "출력 : 첫째 줄에 문제의 정답을 출력한다."
      ]
    },
    {
      "cell_type": "markdown",
      "metadata": {
        "id": "8tmCzTFmwwmN"
      },
      "source": [
        "예시 :  \n",
        "32 6  \n",
        "27 16 30 11 6 23\n",
        "\n",
        "59\n",
        "\n",
        "---\n",
        "\n",
        "10 10  \n",
        "1 6 3 2 7 9 8 4 10 5\n",
        "\n",
        "14\n",
        "\n"
      ]
    },
    {
      "cell_type": "markdown",
      "metadata": {
        "id": "bSzpKoeFzzUN"
      },
      "source": [
        "## 메모\n"
      ]
    },
    {
      "cell_type": "markdown",
      "metadata": {
        "id": "JgnkA_HWz2Vl"
      },
      "source": [
        "* 원소를 주어진 순서대로 뽑아야한다!  \n",
        "즉 뽑아야하는 원소에 당면했을 때 마다 현재 큐의 상태를 고려해서 2번 혹은 3번 연산 중 더 적은 수로 뽑아 낼 수 있는 방법을 택해야한다\n",
        "* 2번, 3번 을 수행하는 함수 정의. 1번은 .popleft()\n",
        "* 첫번째 원소와 목표하는 원소를 비교하고 맞으면 뽑고 아니면 더 가까운 방향으로 2번 혹은 3번 진행...\n",
        "* 더 가까운 방향 판단하는 방법 ? ? ?\n",
        "* 탐색을 2,3번 둘 다 끝까지 해보고 비교해서 더 적은 수 찾기 vs 현재 배열상태와 다음 뽑아야하는 원소 수에 따라 조건을 통해 한번에 방향 정하기"
      ]
    },
    {
      "cell_type": "markdown",
      "metadata": {
        "id": "__zt_kEJw3Zd"
      },
      "source": [
        "## 코드"
      ]
    },
    {
      "cell_type": "code",
      "metadata": {
        "id": "j92b59jp35Jc",
        "colab": {
          "base_uri": "https://localhost:8080/"
        },
        "outputId": "1bfdab25-ade6-4a10-ffb4-41a9d35b1606"
      },
      "source": [
        "from collections import deque\n",
        "queue = deque()\n",
        "\n",
        "n, m = map(int,input().split())\n",
        "sequence = list(map(int,input().split())) # 원하는 원소의 위치\n",
        "\n",
        "for i in range(n):\n",
        "    queue.append(i+1)\n",
        "\n",
        "result = 0 # 결과 저장\n",
        "\n",
        "def select_move(a): # sequence[i], 즉 목표 원소\n",
        "    if a==queue[0]: # 바로 찾았으면        \n",
        "        return (0,'N')\n",
        "        \n",
        "\n",
        "    for i in range(len(queue)):\n",
        "        if a==queue[i]: break # 왼쪽으로 i번 움직이면 같아짐\n",
        "    for j in range(len(queue)):\n",
        "        if a==queue[-j]: break # 오른쪽으로 j번 움직이면 같아짐 \n",
        "    \n",
        "    if i<=j: # i 가 연산의 최소값이면\n",
        "        return (i,'L') # 연산 횟수 i와 방향을 리턴\n",
        "    if i>j: # j 가 연산의 최소값이면\n",
        "        return (j,'R') # 연산 횟수 j와 방향을 리턴\n",
        "\n",
        "def move(i,direction):\n",
        "    if direction=='L':\n",
        "        for k in range(i):\n",
        "            a = queue.popleft()\n",
        "            queue.append(a)\n",
        "    if direction=='R':\n",
        "        for k in range(i):\n",
        "            a = queue.pop()\n",
        "            queue.appendleft(a)         \n",
        "    if direction=='N':\n",
        "        return queue\n",
        "    return queue\n",
        "\n",
        "for j in sequence:\n",
        "    (a,b) = select_move(j)\n",
        "    result += a\n",
        "    move(a,b)\n",
        "    queue.popleft()\n",
        "    \n",
        "\n",
        "print(result)\n",
        "\n",
        "\n",
        "        "
      ],
      "execution_count": null,
      "outputs": [
        {
          "output_type": "stream",
          "text": [
            "10 10\n",
            "1 6 3 2 7 9 8 4 10 5\n",
            "14\n"
          ],
          "name": "stdout"
        }
      ]
    },
    {
      "cell_type": "code",
      "metadata": {
        "colab": {
          "base_uri": "https://localhost:8080/"
        },
        "id": "_a63U1XphDMv",
        "outputId": "5dafdad2-8022-4bbf-b3ae-5b9c5a818cb1"
      },
      "source": [
        "10 10\n",
        "1 6 3 2 7 9 8 4 10 5"
      ],
      "execution_count": null,
      "outputs": [
        {
          "output_type": "execute_result",
          "data": {
            "text/plain": [
              "deque([3, 4, 5, 2])"
            ]
          },
          "metadata": {
            "tags": []
          },
          "execution_count": 5
        }
      ]
    },
    {
      "cell_type": "code",
      "metadata": {
        "colab": {
          "base_uri": "https://localhost:8080/"
        },
        "id": "w6PrzQB4811q",
        "outputId": "8ecd0d4d-6d9d-468a-8db3-27e05c46b98d"
      },
      "source": [
        "move_count(sequence[1])"
      ],
      "execution_count": null,
      "outputs": [
        {
          "output_type": "execute_result",
          "data": {
            "text/plain": [
              "(2, 'L')"
            ]
          },
          "metadata": {
            "tags": []
          },
          "execution_count": 24
        }
      ]
    },
    {
      "cell_type": "code",
      "metadata": {
        "id": "NnoY-VJUBnEQ",
        "colab": {
          "base_uri": "https://localhost:8080/"
        },
        "outputId": "ae74b342-ac42-487a-b6c0-c360e02cbfe2"
      },
      "source": [
        "sequence"
      ],
      "execution_count": null,
      "outputs": [
        {
          "output_type": "execute_result",
          "data": {
            "text/plain": [
              "[4, 2, 5]"
            ]
          },
          "metadata": {
            "tags": []
          },
          "execution_count": 4
        }
      ]
    },
    {
      "cell_type": "code",
      "metadata": {
        "colab": {
          "base_uri": "https://localhost:8080/"
        },
        "id": "X2TmNiN3Ns5p",
        "outputId": "e15d5b23-5372-4f1a-bc2e-853f8800eb58"
      },
      "source": [
        "sequence[0]==queue[3]\n"
      ],
      "execution_count": null,
      "outputs": [
        {
          "output_type": "execute_result",
          "data": {
            "text/plain": [
              "True"
            ]
          },
          "metadata": {
            "tags": []
          },
          "execution_count": 10
        }
      ]
    },
    {
      "cell_type": "code",
      "metadata": {
        "colab": {
          "base_uri": "https://localhost:8080/"
        },
        "id": "FoFoURGDNIT8",
        "outputId": "17155a53-5493-4157-cfbb-adb8483f53eb"
      },
      "source": [
        "sequence[0]==queue[-2]"
      ],
      "execution_count": null,
      "outputs": [
        {
          "output_type": "execute_result",
          "data": {
            "text/plain": [
              "True"
            ]
          },
          "metadata": {
            "tags": []
          },
          "execution_count": 7
        }
      ]
    },
    {
      "cell_type": "code",
      "metadata": {
        "id": "EKseTIlgNN2V"
      },
      "source": [
        ""
      ],
      "execution_count": null,
      "outputs": []
    }
  ]
}