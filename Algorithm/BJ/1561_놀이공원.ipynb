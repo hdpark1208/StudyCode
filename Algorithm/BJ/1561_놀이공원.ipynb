{
  "nbformat": 4,
  "nbformat_minor": 0,
  "metadata": {
    "colab": {
      "name": "1561_놀이공원.ipynb",
      "provenance": [],
      "collapsed_sections": [],
      "authorship_tag": "ABX9TyMMXVUl9r0gbao2niam2KCv",
      "include_colab_link": true
    },
    "kernelspec": {
      "name": "python3",
      "display_name": "Python 3"
    },
    "language_info": {
      "name": "python"
    }
  },
  "cells": [
    {
      "cell_type": "markdown",
      "metadata": {
        "id": "view-in-github",
        "colab_type": "text"
      },
      "source": [
        "<a href=\"https://colab.research.google.com/github/hdpark1208/StudyCode/blob/main/Algorithm/BJ/1561_%EB%86%80%EC%9D%B4%EA%B3%B5%EC%9B%90.ipynb\" target=\"_parent\"><img src=\"https://colab.research.google.com/assets/colab-badge.svg\" alt=\"Open In Colab\"/></a>"
      ]
    },
    {
      "cell_type": "markdown",
      "metadata": {
        "id": "Yh4kWp1luxrW"
      },
      "source": [
        "# 놀이공원"
      ]
    },
    {
      "cell_type": "markdown",
      "metadata": {
        "id": "Xg2dbbF7u2R8"
      },
      "source": [
        "N명의 아이들이 한 줄로 줄을 서서 놀이공원에서 1인승 놀이기구를 기다리고 있다. 이 놀이공원에는 총 M종류의 1인승 놀이기구가 있으며, 1번부터 M번까지 번호가 매겨져 있다.\n",
        "\n",
        "모든 놀이기구는 각각 운행 시간이 정해져 있어서, 운행 시간이 지나면 탑승하고 있던 아이는 내리게 된다. 놀이 기구가 비어 있으면 현재 줄에서 가장 앞에 서 있는 아이가 빈 놀이기구에 탑승한다. 만일 여러 개의 놀이기구가 동시에 비어 있으면, 더 작은 번호가 적혀 있는 놀이기구를 먼저 탑승한다고 한다.\n",
        "\n",
        "놀이기구가 모두 비어 있는 상태에서 첫 번째 아이가 놀이기구에 탑승한다고 할 때, 줄의 마지막 아이가 타게 되는 놀이기구의 번호를 구하는 프로그램을 작성하시오."
      ]
    },
    {
      "cell_type": "markdown",
      "metadata": {
        "id": "LqXcSRcPu8kj"
      },
      "source": [
        "## 입력 출력 및 예제\n"
      ]
    },
    {
      "cell_type": "markdown",
      "metadata": {
        "id": "rFCkhMXFvDp0"
      },
      "source": [
        "* 입력"
      ]
    },
    {
      "cell_type": "markdown",
      "metadata": {
        "id": "XwU2sme_3t7A"
      },
      "source": [
        "첫째 줄에 N(1 ≤ N ≤ 2,000,000,000)과 M(1 ≤ M ≤ 10,000)이 빈칸을 사이에 두고 주어진다. 둘째 줄에는 각 놀이기구의 운행 시간을 나타내는 M개의 자연수가 순서대로 주어진다. 운행 시간은 1 이상 30 이하의 자연수이며, 단위는 분이다."
      ]
    },
    {
      "cell_type": "markdown",
      "metadata": {
        "id": "Ar1hCLVxwiDl"
      },
      "source": [
        "* 출력"
      ]
    },
    {
      "cell_type": "markdown",
      "metadata": {
        "id": "VaXKN9fc3uUv"
      },
      "source": [
        "첫째 줄에 마지막 아이가 타게 되는 놀이기구의 번호를 출력한다."
      ]
    },
    {
      "cell_type": "markdown",
      "metadata": {
        "id": "8tmCzTFmwwmN"
      },
      "source": [
        "* 입력 예제"
      ]
    },
    {
      "cell_type": "markdown",
      "metadata": {
        "id": "ZuKUpEvu3uuv"
      },
      "source": [
        "3 5  \n",
        "7 8 9 7 8\n",
        "\n",
        "---\n",
        "7 2  \n",
        "3 2\n"
      ]
    },
    {
      "cell_type": "markdown",
      "metadata": {
        "id": "bnyvaNYDPh1d"
      },
      "source": [
        "* 출력 예제"
      ]
    },
    {
      "cell_type": "markdown",
      "metadata": {
        "id": "rYAVTu3K3vDN"
      },
      "source": [
        "3\n",
        "\n",
        "---\n",
        "\n",
        "2"
      ]
    },
    {
      "cell_type": "markdown",
      "metadata": {
        "id": "__zt_kEJw3Zd"
      },
      "source": [
        "## 코드"
      ]
    },
    {
      "cell_type": "code",
      "metadata": {
        "colab": {
          "base_uri": "https://localhost:8080/"
        },
        "id": "uXP2tx3SUl77",
        "outputId": "e721cf75-884d-4afd-f532-e1ace121a972"
      },
      "source": [
        "2000000000*30"
      ],
      "execution_count": null,
      "outputs": [
        {
          "output_type": "execute_result",
          "data": {
            "text/plain": [
              "60000000000"
            ]
          },
          "metadata": {
            "tags": []
          },
          "execution_count": 18
        }
      ]
    },
    {
      "cell_type": "code",
      "metadata": {
        "colab": {
          "base_uri": "https://localhost:8080/"
        },
        "id": "BGcP579n2Zdg",
        "outputId": "8c8485e0-8ab0-4efc-ed83-74e632d35e57"
      },
      "source": [
        "# 시간 초과\n",
        "\n",
        "인원, 기구 = map(int,input().split())\n",
        "기구별_소요시간 = list(map(int,input().split()))\n",
        "시간 = 2000000000*30\n",
        "\n",
        "for i in range(시간):\n",
        "    if 인원==0:\n",
        "        break    \n",
        "    for j in range(len(기구별_소요시간)):\n",
        "        if i%기구별_소요시간[j]==0:\n",
        "            인원-=1\n",
        "            if 인원==0:\n",
        "                print(j+1)\n",
        "                break\n",
        "    \n",
        "            \n"
      ],
      "execution_count": null,
      "outputs": [
        {
          "output_type": "stream",
          "text": [
            "7 2\n",
            "3 2\n",
            "2\n"
          ],
          "name": "stdout"
        }
      ]
    },
    {
      "cell_type": "code",
      "metadata": {
        "colab": {
          "base_uri": "https://localhost:8080/"
        },
        "id": "_4tHZdHm3ND_",
        "outputId": "8708a09f-9764-4677-cd99-767f1a6bce68"
      },
      "source": [
        "# Ohter\n",
        "\n",
        "N, M = list(map(int,input().split()))\n",
        "\n",
        "times = list(map(int, input().split()))\n",
        "\n",
        "# sum{[t//time + 1 for time in times]} >= N 이므로 적어도 N이 포함 될 수 있는\n",
        "# 범위는 0 부터 N*(max_time) 안에 들어있다.\n",
        "\n",
        "def amusement():\n",
        "    max_time = N * max(times)\n",
        "    min_time = 0\n",
        "\n",
        "    ride_child = 0\n",
        "    spend_time = 0\n",
        "\n",
        "    while min_time <= max_time:\n",
        "        mid = (min_time + max_time) // 2\n",
        "        num_child = sum([((mid-1) // time + 1) for time in times]) # mid 시간 동안 기구 타는 아이들의 수\n",
        "        if num_child < N: # 아직 못 탄 아이 존재\n",
        "            min_time = mid + 1\n",
        "            ride_child = num_child # 기구 탄 아이들의 수\n",
        "            spend_time = mid # 소요 시간\n",
        "        else:\n",
        "            max_time = mid - 1\n",
        "\n",
        "    #print(spend_time)\n",
        "    #print(ride_child)\n",
        "    count = 0\n",
        "    rest = N - ride_child # spend_time 동안 못 탄 아이 수\n",
        "    for i in range(len(times)):\n",
        "        if not (spend_time % times[i]): \n",
        "            count += 1            \n",
        "            if count == rest:\n",
        "                return i+1\n",
        "\n",
        "print(amusement())   "
      ],
      "execution_count": null,
      "outputs": [
        {
          "output_type": "stream",
          "text": [
            "1 100\n",
            "1 1 1 1\n",
            "1\n"
          ],
          "name": "stdout"
        }
      ]
    },
    {
      "cell_type": "code",
      "metadata": {
        "colab": {
          "base_uri": "https://localhost:8080/"
        },
        "id": "HLDWTyT9x414",
        "outputId": "30c6a01c-c40d-4292-e900-9a74e8e4130a"
      },
      "source": [
        "if not 0:\n",
        "    print('A')"
      ],
      "execution_count": null,
      "outputs": [
        {
          "output_type": "stream",
          "text": [
            "A\n"
          ],
          "name": "stdout"
        }
      ]
    },
    {
      "cell_type": "markdown",
      "metadata": {
        "id": "bSzpKoeFzzUN"
      },
      "source": [
        "## 메모\n"
      ]
    }
  ]
}