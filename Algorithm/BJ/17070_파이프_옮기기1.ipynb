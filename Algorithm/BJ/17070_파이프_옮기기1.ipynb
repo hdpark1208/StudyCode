{
  "nbformat": 4,
  "nbformat_minor": 0,
  "metadata": {
    "colab": {
      "name": "17070_파이프 옮기기1.ipynb",
      "provenance": [],
      "authorship_tag": "ABX9TyNEPiLIkkSrdFy9TmQ6ylE1",
      "include_colab_link": true
    },
    "kernelspec": {
      "name": "python3",
      "display_name": "Python 3"
    },
    "language_info": {
      "name": "python"
    }
  },
  "cells": [
    {
      "cell_type": "markdown",
      "metadata": {
        "id": "view-in-github",
        "colab_type": "text"
      },
      "source": [
        "<a href=\"https://colab.research.google.com/github/hdpark1208/StudyCode/blob/main/Algorithm/BJ/17070_%ED%8C%8C%EC%9D%B4%ED%94%84_%EC%98%AE%EA%B8%B0%EA%B8%B01.ipynb\" target=\"_parent\"><img src=\"https://colab.research.google.com/assets/colab-badge.svg\" alt=\"Open In Colab\"/></a>"
      ]
    },
    {
      "cell_type": "markdown",
      "metadata": {
        "id": "Yh4kWp1luxrW"
      },
      "source": [
        "# 파이프 옮기기1"
      ]
    },
    {
      "cell_type": "markdown",
      "metadata": {
        "id": "Xg2dbbF7u2R8"
      },
      "source": [
        "유현이가 새 집으로 이사했다. 새 집의 크기는 N×N의 격자판으로 나타낼 수 있고, 1×1크기의 정사각형 칸으로 나누어져 있다. 각각의 칸은 (r, c)로 나타낼 수 있다. 여기서 r은 행의 번호, c는 열의 번호이고, 행과 열의 번호는 1부터 시작한다. 각각의 칸은 빈 칸이거나 벽이다.\n",
        "\n",
        "오늘은 집 수리를 위해서 파이프 하나를 옮기려고 한다. 파이프는 아래와 같은 형태이고, 2개의 연속된 칸을 차지하는 크기이다.\n",
        "\n",
        "\n",
        "\n",
        "파이프는 회전시킬 수 있으며, 아래와 같이 3가지 방향이 가능하다.\n",
        "\n",
        "\n",
        "\n",
        "파이프는 매우 무겁기 때문에, 유현이는 파이프를 밀어서 이동시키려고 한다. 벽에는 새로운 벽지를 발랐기 때문에, 파이프가 벽을 긁으면 안 된다. 즉, 파이프는 항상 빈 칸만 차지해야 한다.\n",
        "\n",
        "파이프를 밀 수 있는 방향은 총 3가지가 있으며, →, ↘, ↓ 방향이다. 파이프는 밀면서 회전시킬 수 있다. 회전은 45도만 회전시킬 수 있으며, 미는 방향은 오른쪽, 아래, 또는 오른쪽 아래 대각선 방향이어야 한다.\n",
        "\n",
        "파이프가 가로로 놓여진 경우에 가능한 이동 방법은 총 2가지, 세로로 놓여진 경우에는 2가지, 대각선 방향으로 놓여진 경우에는 3가지가 있다.\n",
        "\n",
        "아래 그림은 파이프가 놓여진 방향에 따라서 이동할 수 있는 방법을 모두 나타낸 것이고, 꼭 빈 칸이어야 하는 곳은 색으로 표시되어져 있다.\n",
        "  \n",
        "가장 처음에 파이프는 (1, 1)와 (1, 2)를 차지하고 있고, 방향은 가로이다. 파이프의 한쪽 끝을 (N, N)로 이동시키는 방법의 개수를 구해보자."
      ]
    },
    {
      "cell_type": "markdown",
      "metadata": {
        "id": "LqXcSRcPu8kj"
      },
      "source": [
        "## 입력 출력 및 예제\n"
      ]
    },
    {
      "cell_type": "markdown",
      "metadata": {
        "id": "rFCkhMXFvDp0"
      },
      "source": [
        "* 입력"
      ]
    },
    {
      "cell_type": "markdown",
      "metadata": {
        "id": "XwU2sme_3t7A"
      },
      "source": [
        "첫째 줄에 집의 크기 N(3 ≤ N ≤ 16)이 주어진다. 둘째 줄부터 N개의 줄에는 집의 상태가 주어진다. 빈 칸은 0, 벽은 1로 주어진다. (1, 1)과 (1, 2)는 항상 빈 칸이다."
      ]
    },
    {
      "cell_type": "markdown",
      "metadata": {
        "id": "Ar1hCLVxwiDl"
      },
      "source": [
        "* 출력"
      ]
    },
    {
      "cell_type": "markdown",
      "metadata": {
        "id": "VaXKN9fc3uUv"
      },
      "source": [
        "첫째 줄에 파이프의 한쪽 끝을 (N, N)으로 이동시키는 방법의 수를 출력한다. 이동시킬 수 없는 경우에는 0을 출력한다. 방법의 수는 항상 1,000,000보다 작거나 같다."
      ]
    },
    {
      "cell_type": "markdown",
      "metadata": {
        "id": "8tmCzTFmwwmN"
      },
      "source": [
        "* 입력 예제"
      ]
    },
    {
      "cell_type": "markdown",
      "metadata": {
        "id": "ZuKUpEvu3uuv"
      },
      "source": [
        "3  \n",
        "0 0 0  \n",
        "0 0 0  \n",
        "0 0 0  \n",
        "\n",
        "---\n",
        "\n",
        "4  \n",
        "0 0 0 0  \n",
        "0 0 0 0  \n",
        "0 0 0 0  \n",
        "0 0 0 0  \n"
      ]
    },
    {
      "cell_type": "markdown",
      "metadata": {
        "id": "bnyvaNYDPh1d"
      },
      "source": [
        "* 출력 예제"
      ]
    },
    {
      "cell_type": "markdown",
      "metadata": {
        "id": "rYAVTu3K3vDN"
      },
      "source": [
        "1\n",
        "\n",
        "---\n",
        "\n",
        "3"
      ]
    },
    {
      "cell_type": "markdown",
      "metadata": {
        "id": "__zt_kEJw3Zd"
      },
      "source": [
        "## 코드"
      ]
    },
    {
      "cell_type": "code",
      "metadata": {
        "id": "Vedf9yWaah-R"
      },
      "source": [
        ""
      ],
      "execution_count": null,
      "outputs": []
    },
    {
      "cell_type": "markdown",
      "metadata": {
        "id": "bSzpKoeFzzUN"
      },
      "source": [
        "## 메모\n"
      ]
    }
  ]
}