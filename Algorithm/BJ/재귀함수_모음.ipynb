{
  "nbformat": 4,
  "nbformat_minor": 0,
  "metadata": {
    "colab": {
      "provenance": [],
      "include_colab_link": true
    },
    "kernelspec": {
      "name": "python3",
      "display_name": "Python 3"
    },
    "language_info": {
      "name": "python"
    }
  },
  "cells": [
    {
      "cell_type": "markdown",
      "metadata": {
        "id": "view-in-github",
        "colab_type": "text"
      },
      "source": [
        "<a href=\"https://colab.research.google.com/github/hdpark1208/StudyCode/blob/main/Algorithm/BJ/%EC%9E%AC%EA%B7%80%ED%95%A8%EC%88%98_%EB%AA%A8%EC%9D%8C.ipynb\" target=\"_parent\"><img src=\"https://colab.research.google.com/assets/colab-badge.svg\" alt=\"Open In Colab\"/></a>"
      ]
    },
    {
      "cell_type": "markdown",
      "metadata": {
        "id": "Yh4kWp1luxrW"
      },
      "source": [
        "# 재귀함수 모음"
      ]
    },
    {
      "cell_type": "markdown",
      "metadata": {
        "id": "Xg2dbbF7u2R8"
      },
      "source": []
    },
    {
      "cell_type": "markdown",
      "metadata": {
        "id": "LqXcSRcPu8kj"
      },
      "source": [
        "## 입력 출력 및 예제\n"
      ]
    },
    {
      "cell_type": "markdown",
      "metadata": {
        "id": "rFCkhMXFvDp0"
      },
      "source": [
        "* 입력"
      ]
    },
    {
      "cell_type": "markdown",
      "metadata": {
        "id": "XwU2sme_3t7A"
      },
      "source": []
    },
    {
      "cell_type": "markdown",
      "metadata": {
        "id": "Ar1hCLVxwiDl"
      },
      "source": [
        "* 출력"
      ]
    },
    {
      "cell_type": "markdown",
      "metadata": {
        "id": "VaXKN9fc3uUv"
      },
      "source": [
        "화은이의 단어장에 들어 있는 단어를 단어장의 앞에 위치한 단어부터 한 줄에 한 단어씩 순서대로 출력한다."
      ]
    },
    {
      "cell_type": "markdown",
      "metadata": {
        "id": "8tmCzTFmwwmN"
      },
      "source": [
        "* 예제"
      ]
    },
    {
      "cell_type": "markdown",
      "metadata": {
        "id": "ZuKUpEvu3uuv"
      },
      "source": []
    },
    {
      "cell_type": "markdown",
      "source": [
        "## 구상"
      ],
      "metadata": {
        "id": "AGhrdbYB1CKt"
      }
    },
    {
      "cell_type": "markdown",
      "source": [
        "-"
      ],
      "metadata": {
        "id": "TU2SB-V61DWu"
      }
    },
    {
      "cell_type": "markdown",
      "metadata": {
        "id": "__zt_kEJw3Zd"
      },
      "source": [
        "## 코드"
      ]
    },
    {
      "cell_type": "code",
      "source": [
        "# 27433 # 팩토리얼 함수를 재귀식으로 구현\n",
        "def recursive(N):\n",
        "    if N == 0 or N == 1:\n",
        "        return 1\n",
        "\n",
        "    return N * recursive(N-1)\n"
      ],
      "metadata": {
        "id": "Wt1mHLRz9VJs"
      },
      "execution_count": null,
      "outputs": []
    },
    {
      "cell_type": "code",
      "source": [
        "# 10870\n",
        "def fibo(n):\n",
        "    if n == 0:\n",
        "        return 0\n",
        "    if n == 1:\n",
        "        return 1\n",
        "\n",
        "    return fibo(n-1) + fibo(n-2)\n",
        "\n",
        "n = int(input())\n",
        "print(fibo(n))"
      ],
      "metadata": {
        "id": "1IwSuHbfENiu"
      },
      "execution_count": 1,
      "outputs": []
    },
    {
      "cell_type": "code",
      "source": [
        "# 25501\n",
        "def recursion(s, l, r, count):\n",
        "    if l >= r: return 1, count\n",
        "    elif s[l] != s[r]: return 0, count\n",
        "    else: return recursion(s, l+1, r-1,count+1)\n",
        "\n",
        "def isPalindrome(s):\n",
        "    count = 0\n",
        "    return recursion(s, 0, len(s)-1,count+1)\n",
        "\n",
        "T = int(input())\n",
        "for _ in range(T):\n",
        "    result = isPalindrome(input())\n",
        "    print(result[0], result[1])\n",
        "# print('ABBA:', isPalindrome('ABBA'))\n",
        "# print('ABC:', isPalindrome('ABC'))"
      ],
      "metadata": {
        "colab": {
          "base_uri": "https://localhost:8080/"
        },
        "id": "YJ7cUXo9EuAH",
        "outputId": "7c5c6b53-5338-4d23-b57f-93ff0fb6b083"
      },
      "execution_count": 6,
      "outputs": [
        {
          "output_type": "stream",
          "name": "stdout",
          "text": [
            "1\n",
            "AAA\n",
            "1 2\n"
          ]
        }
      ]
    },
    {
      "cell_type": "code",
      "source": [
        "# 24060 *\n",
        "import sys\n",
        "sys.setrecursionlimit(10**6)\n",
        "input = sys.stdin.readline\n",
        "\n",
        "n, k = map(int, input().split())\n",
        "A = list(map(int, input().split()))\n",
        "tmp = [0] * n  # 임시 배열\n",
        "count = 0\n",
        "result = -1\n",
        "\n",
        "def merge_sort(p, r):\n",
        "    global count, result\n",
        "    if p < r:\n",
        "        q = (p + r) // 2\n",
        "        merge_sort(p, q)\n",
        "        merge_sort(q + 1, r)\n",
        "        merge(p, q, r)\n",
        "\n",
        "def merge(p, q, r):\n",
        "    global count, result\n",
        "    i, j, t = p, q + 1, p\n",
        "\n",
        "    while i <= q and j <= r:\n",
        "        if A[i] <= A[j]:\n",
        "            tmp[t] = A[i]\n",
        "            i += 1\n",
        "        else:\n",
        "            tmp[t] = A[j]\n",
        "            j += 1\n",
        "        t += 1\n",
        "        count += 1\n",
        "        if count == k:\n",
        "            result = tmp[t - 1]\n",
        "\n",
        "    while i <= q:\n",
        "        tmp[t] = A[i]\n",
        "        i += 1\n",
        "        t += 1\n",
        "        count += 1\n",
        "        if count == k:\n",
        "            result = tmp[t - 1]\n",
        "\n",
        "    while j <= r:\n",
        "        tmp[t] = A[j]\n",
        "        j += 1\n",
        "        t += 1\n",
        "        count += 1\n",
        "        if count == k:\n",
        "            result = tmp[t - 1]\n",
        "\n",
        "    for i in range(p, r + 1):\n",
        "        A[i] = tmp[i]\n",
        "\n",
        "merge_sort(0, n - 1)\n",
        "print(result)\n"
      ],
      "metadata": {
        "id": "RdY8VTIRh-To"
      },
      "execution_count": 1,
      "outputs": []
    },
    {
      "cell_type": "code",
      "source": [],
      "metadata": {
        "id": "5sK-Bau40cr2"
      },
      "execution_count": 5,
      "outputs": []
    },
    {
      "cell_type": "code",
      "source": [],
      "metadata": {
        "colab": {
          "base_uri": "https://localhost:8080/"
        },
        "id": "fD41jp5z0LR0",
        "outputId": "aef0259e-e83a-4e15-9a90-657ccc27e7ec"
      },
      "execution_count": 7,
      "outputs": [
        {
          "output_type": "stream",
          "name": "stdout",
          "text": [
            "5 13\n",
            "4 5 1 3 2\n",
            "-1\n"
          ]
        }
      ]
    },
    {
      "cell_type": "code",
      "source": [
        "arr = [5,3,7,4,2,1,6]\n",
        "merge_sort(arr,0,len(arr)-1)"
      ],
      "metadata": {
        "id": "pKiK4q4cBoyF"
      },
      "execution_count": 2,
      "outputs": []
    },
    {
      "cell_type": "code",
      "source": [
        "arr"
      ],
      "metadata": {
        "id": "gr42EdaVWS2e",
        "colab": {
          "base_uri": "https://localhost:8080/"
        },
        "outputId": "4c76aad7-de3e-4ab6-92bd-ac32c6a48505"
      },
      "execution_count": 3,
      "outputs": [
        {
          "output_type": "execute_result",
          "data": {
            "text/plain": [
              "[1, 2, 3, 4, 5, 6, 7]"
            ]
          },
          "metadata": {},
          "execution_count": 3
        }
      ]
    },
    {
      "cell_type": "markdown",
      "source": [
        "### 메모"
      ],
      "metadata": {
        "id": "-n10miTJFzvM"
      }
    },
    {
      "cell_type": "markdown",
      "source": [
        "* 왈러스 연산자"
      ],
      "metadata": {
        "id": "6ePQssjlF2--"
      }
    },
    {
      "cell_type": "code",
      "source": [],
      "metadata": {
        "id": "uX2usWhaF0yx"
      },
      "execution_count": null,
      "outputs": []
    }
  ]
}