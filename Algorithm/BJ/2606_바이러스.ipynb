{
  "nbformat": 4,
  "nbformat_minor": 0,
  "metadata": {
    "colab": {
      "name": "2606_바이러스.ipynb",
      "provenance": [],
      "collapsed_sections": [],
      "authorship_tag": "ABX9TyPbouEW3/Ae7oapq8d2tU8O",
      "include_colab_link": true
    },
    "kernelspec": {
      "name": "python3",
      "display_name": "Python 3"
    },
    "language_info": {
      "name": "python"
    }
  },
  "cells": [
    {
      "cell_type": "markdown",
      "metadata": {
        "id": "view-in-github",
        "colab_type": "text"
      },
      "source": [
        "<a href=\"https://colab.research.google.com/github/hdpark1208/StudyCode/blob/main/Algorithm/BJ/2606_%EB%B0%94%EC%9D%B4%EB%9F%AC%EC%8A%A4.ipynb\" target=\"_parent\"><img src=\"https://colab.research.google.com/assets/colab-badge.svg\" alt=\"Open In Colab\"/></a>"
      ]
    },
    {
      "cell_type": "markdown",
      "metadata": {
        "id": "Yh4kWp1luxrW"
      },
      "source": [
        "# 바이러스"
      ]
    },
    {
      "cell_type": "code",
      "metadata": {
        "id": "uBUqRfybSoYO"
      },
      "source": [
        ""
      ],
      "execution_count": null,
      "outputs": []
    },
    {
      "cell_type": "markdown",
      "metadata": {
        "id": "Xg2dbbF7u2R8"
      },
      "source": [
        "신종 바이러스인 웜 바이러스는 네트워크를 통해 전파된다. 한 컴퓨터가 웜 바이러스에 걸리면 그 컴퓨터와 네트워크 상에서 연결되어 있는 모든 컴퓨터는 웜 바이러스에 걸리게 된다.\n",
        "\n",
        "예를 들어 7대의 컴퓨터가 <그림 1>과 같이 네트워크 상에서 연결되어 있다고 하자. 1번 컴퓨터가 웜 바이러스에 걸리면 웜 바이러스는 2번과 5번 컴퓨터를 거쳐 3번과 6번 컴퓨터까지 전파되어 2, 3, 5, 6 네 대의 컴퓨터는 웜 바이러스에 걸리게 된다. 하지만 4번과 7번 컴퓨터는 1번 컴퓨터와 네트워크상에서 연결되어 있지 않기 때문에 영향을 받지 않는다.\n",
        "\n",
        "![image.png](data:image/png;base64,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)\n",
        "\n",
        "어느 날 1번 컴퓨터가 웜 바이러스에 걸렸다. 컴퓨터의 수와 네트워크 상에서 서로 연결되어 있는 정보가 주어질 때, 1번 컴퓨터를 통해 웜 바이러스에 걸리게 되는 컴퓨터의 수를 출력하는 프로그램을 작성하시오."
      ]
    },
    {
      "cell_type": "markdown",
      "metadata": {
        "id": "LqXcSRcPu8kj"
      },
      "source": [
        "## 입력 출력 및 예제\n"
      ]
    },
    {
      "cell_type": "markdown",
      "metadata": {
        "id": "rFCkhMXFvDp0"
      },
      "source": [
        "* 입력"
      ]
    },
    {
      "cell_type": "markdown",
      "metadata": {
        "id": "XwU2sme_3t7A"
      },
      "source": [
        "첫째 줄에는 컴퓨터의 수가 주어진다. 컴퓨터의 수는 100 이하이고 각 컴퓨터에는 1번 부터 차례대로 번호가 매겨진다. 둘째 줄에는 네트워크 상에서 직접 연결되어 있는 컴퓨터 쌍의 수가 주어진다. 이어서 그 수만큼 한 줄에 한 쌍씩 네트워크 상에서 직접 연결되어 있는 컴퓨터의 번호 쌍이 주어진다."
      ]
    },
    {
      "cell_type": "markdown",
      "metadata": {
        "id": "Ar1hCLVxwiDl"
      },
      "source": [
        "* 출력"
      ]
    },
    {
      "cell_type": "markdown",
      "metadata": {
        "id": "VaXKN9fc3uUv"
      },
      "source": [
        "1번 컴퓨터가 웜 바이러스에 걸렸을 때, 1번 컴퓨터를 통해 웜 바이러스에 걸리게 되는 컴퓨터의 수를 첫째 줄에 출력한다."
      ]
    },
    {
      "cell_type": "markdown",
      "metadata": {
        "id": "8tmCzTFmwwmN"
      },
      "source": [
        "* 입력 예제"
      ]
    },
    {
      "cell_type": "markdown",
      "metadata": {
        "id": "ZuKUpEvu3uuv"
      },
      "source": [
        "7  \n",
        "6  \n",
        "1 2  \n",
        "2 3  \n",
        "1 5  \n",
        "5 2  \n",
        "5 6  \n",
        "4 7  "
      ]
    },
    {
      "cell_type": "markdown",
      "metadata": {
        "id": "bnyvaNYDPh1d"
      },
      "source": [
        "* 출력 예제"
      ]
    },
    {
      "cell_type": "markdown",
      "metadata": {
        "id": "rYAVTu3K3vDN"
      },
      "source": [
        "4"
      ]
    },
    {
      "cell_type": "markdown",
      "metadata": {
        "id": "__zt_kEJw3Zd"
      },
      "source": [
        "## 코드"
      ]
    },
    {
      "cell_type": "code",
      "metadata": {
        "colab": {
          "base_uri": "https://localhost:8080/"
        },
        "id": "N04KMSSPEyqN",
        "outputId": "d2c7246e-dcf3-4098-f3e5-8885a46e4ff4"
      },
      "source": [
        "n = int(input()) # 컴퓨터 수\n",
        "p = int(input()) # 컴퓨터 쌍의 수\n",
        "connect = []\n",
        "for i in range(p): # 컴퓨터 쌍 입력\n",
        "    x , y =map(int,input().split())\n",
        "    connect.append([x,y])\n",
        "graph = [] # 연결 상태를 파악하기 위한 그래프\n",
        "for i in range(n+1):\n",
        "    graph.append([]) # 1번~n번 까지 컴퓨터 연결상태 위해 빈 리스트 추가(0번은 비워둘것임)\n",
        "\n",
        "for i in connect:\n",
        "    graph[i[1]].append(i[0]) # 연결정보를 토대로 graph 그리기\n",
        "    graph[i[0]].append(i[1])\n",
        "\n",
        "# 각 노드가 방문된 정보를 표현 (1차원 리스트)\n",
        "visited = [False] * (n+1) # *** n 으로 했으나 백준에서 통과 못하였음! 아직 그 원인을 모르겠음!\n",
        "def dfs(graph, v, visited):\n",
        "    # 현재 노드를 방문 처리\n",
        "    visited[v] = True\n",
        "    #print(v, end=' ') # 줄 바꿈 없이 공백 처리\n",
        "    # 현재 노드와 연결된 다른 노드를 재귀적으로 방문\n",
        "    for i in graph[v]: # i 는 v 번 노드와 연결되어 있는 노드, 즉 graph[v] 는 v 노드와 연결된 노드 리스트를 뜻함\n",
        "        if not visited[i]: # i 노드가 방문된 적 없으면\n",
        "            dfs(graph, i, visited) # i 에 대해 dfs 재귀 처리\n",
        "dfs(graph,1,visited)\n",
        "count = 0\n",
        "for i in visited:    \n",
        "    if i:\n",
        "        count += 1\n",
        "print(count - 1)"
      ],
      "execution_count": null,
      "outputs": [
        {
          "output_type": "stream",
          "text": [
            "7\n",
            "6\n",
            "1 2\n",
            "2 3\n",
            "1 5\n",
            "5 2\n",
            "5 6\n",
            "4 7\n",
            "4\n"
          ],
          "name": "stdout"
        }
      ]
    },
    {
      "cell_type": "code",
      "metadata": {
        "id": "e08i4-sSDjsW"
      },
      "source": [
        "def dfs(graph, v, visited):\n",
        "    # 현재 노드를 방문 처리\n",
        "    visited[v] = True\n",
        "    #print(v, end=' ') # 줄 바꿈 없이 공백 처리\n",
        "    # 현재 노드와 연결된 다른 노드를 재귀적으로 방문\n",
        "    for i in graph[v]: # i 는 v 번 노드와 연결되어 있는 노드, 즉 graph[v] 는 v 노드와 연결된 노드 리스트를 뜻함\n",
        "        if not visited[i]: # i 노드가 방문된 적 없으면\n",
        "            dfs(graph, i, visited) # i 에 대해 dfs 재귀 처리\n",
        "    "
      ],
      "execution_count": null,
      "outputs": []
    },
    {
      "cell_type": "code",
      "metadata": {
        "colab": {
          "base_uri": "https://localhost:8080/"
        },
        "id": "tiZ8VYLSUwhA",
        "outputId": "1b3c2410-9a18-4383-c919-b3e279adf22c"
      },
      "source": [
        "dfs(graph,1,visited)"
      ],
      "execution_count": null,
      "outputs": [
        {
          "output_type": "stream",
          "text": [
            "1 "
          ],
          "name": "stdout"
        },
        {
          "output_type": "execute_result",
          "data": {
            "text/plain": [
              "1"
            ]
          },
          "metadata": {
            "tags": []
          },
          "execution_count": 78
        }
      ]
    },
    {
      "cell_type": "code",
      "metadata": {
        "id": "HGNewDqkU2gv"
      },
      "source": [
        "count = 0\n",
        "for i in visited:    \n",
        "    if i:\n",
        "        count += 1"
      ],
      "execution_count": null,
      "outputs": []
    },
    {
      "cell_type": "code",
      "metadata": {
        "colab": {
          "base_uri": "https://localhost:8080/"
        },
        "id": "y6SH6EC9U6jv",
        "outputId": "7f2ec895-1e18-4137-99c8-05b1b0349803"
      },
      "source": [
        "print(count - 1)"
      ],
      "execution_count": null,
      "outputs": [
        {
          "output_type": "stream",
          "text": [
            "4\n"
          ],
          "name": "stdout"
        }
      ]
    },
    {
      "cell_type": "code",
      "metadata": {
        "id": "XTIozB9qVpMt"
      },
      "source": [
        ""
      ],
      "execution_count": null,
      "outputs": []
    }
  ]
}