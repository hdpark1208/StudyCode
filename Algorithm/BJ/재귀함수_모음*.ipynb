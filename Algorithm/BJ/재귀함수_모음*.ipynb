{
  "nbformat": 4,
  "nbformat_minor": 0,
  "metadata": {
    "colab": {
      "provenance": [],
      "include_colab_link": true
    },
    "kernelspec": {
      "name": "python3",
      "display_name": "Python 3"
    },
    "language_info": {
      "name": "python"
    }
  },
  "cells": [
    {
      "cell_type": "markdown",
      "metadata": {
        "id": "view-in-github",
        "colab_type": "text"
      },
      "source": [
        "<a href=\"https://colab.research.google.com/github/hdpark1208/StudyCode/blob/main/Algorithm/BJ/%EC%9E%AC%EA%B7%80%ED%95%A8%EC%88%98_%EB%AA%A8%EC%9D%8C*.ipynb\" target=\"_parent\"><img src=\"https://colab.research.google.com/assets/colab-badge.svg\" alt=\"Open In Colab\"/></a>"
      ]
    },
    {
      "cell_type": "markdown",
      "metadata": {
        "id": "Yh4kWp1luxrW"
      },
      "source": [
        "# 재귀함수 모음"
      ]
    },
    {
      "cell_type": "markdown",
      "metadata": {
        "id": "Xg2dbbF7u2R8"
      },
      "source": []
    },
    {
      "cell_type": "markdown",
      "metadata": {
        "id": "LqXcSRcPu8kj"
      },
      "source": [
        "## 입력 출력 및 예제\n"
      ]
    },
    {
      "cell_type": "markdown",
      "metadata": {
        "id": "rFCkhMXFvDp0"
      },
      "source": [
        "* 입력"
      ]
    },
    {
      "cell_type": "markdown",
      "metadata": {
        "id": "XwU2sme_3t7A"
      },
      "source": []
    },
    {
      "cell_type": "markdown",
      "metadata": {
        "id": "Ar1hCLVxwiDl"
      },
      "source": [
        "* 출력"
      ]
    },
    {
      "cell_type": "markdown",
      "metadata": {
        "id": "VaXKN9fc3uUv"
      },
      "source": [
        "화은이의 단어장에 들어 있는 단어를 단어장의 앞에 위치한 단어부터 한 줄에 한 단어씩 순서대로 출력한다."
      ]
    },
    {
      "cell_type": "markdown",
      "metadata": {
        "id": "8tmCzTFmwwmN"
      },
      "source": [
        "* 예제"
      ]
    },
    {
      "cell_type": "markdown",
      "metadata": {
        "id": "ZuKUpEvu3uuv"
      },
      "source": []
    },
    {
      "cell_type": "markdown",
      "source": [
        "## 구상"
      ],
      "metadata": {
        "id": "AGhrdbYB1CKt"
      }
    },
    {
      "cell_type": "markdown",
      "source": [
        "-"
      ],
      "metadata": {
        "id": "TU2SB-V61DWu"
      }
    },
    {
      "cell_type": "markdown",
      "metadata": {
        "id": "__zt_kEJw3Zd"
      },
      "source": [
        "## 코드"
      ]
    },
    {
      "cell_type": "code",
      "source": [
        "# 27433 # 팩토리얼 함수를 재귀식으로 구현\n",
        "def recursive(N):\n",
        "    if N == 0 or N == 1:\n",
        "        return 1\n",
        "\n",
        "    return N * recursive(N-1)\n"
      ],
      "metadata": {
        "id": "Wt1mHLRz9VJs"
      },
      "execution_count": null,
      "outputs": []
    },
    {
      "cell_type": "code",
      "source": [
        "# 10870\n",
        "def fibo(n):\n",
        "    if n == 0:\n",
        "        return 0\n",
        "    if n == 1:\n",
        "        return 1\n",
        "\n",
        "    return fibo(n-1) + fibo(n-2)\n",
        "\n",
        "n = int(input())\n",
        "print(fibo(n))"
      ],
      "metadata": {
        "id": "1IwSuHbfENiu"
      },
      "execution_count": null,
      "outputs": []
    },
    {
      "cell_type": "code",
      "source": [
        "# 25501\n",
        "def recursion(s, l, r, count):\n",
        "    if l >= r: return 1, count\n",
        "    elif s[l] != s[r]: return 0, count\n",
        "    else: return recursion(s, l+1, r-1,count+1)\n",
        "\n",
        "def isPalindrome(s):\n",
        "    count = 0\n",
        "    return recursion(s, 0, len(s)-1,count+1)\n",
        "\n",
        "T = int(input())\n",
        "for _ in range(T):\n",
        "    result = isPalindrome(input())\n",
        "    print(result[0], result[1])\n",
        "# print('ABBA:', isPalindrome('ABBA'))\n",
        "# print('ABC:', isPalindrome('ABC'))"
      ],
      "metadata": {
        "colab": {
          "base_uri": "https://localhost:8080/"
        },
        "id": "YJ7cUXo9EuAH",
        "outputId": "7c5c6b53-5338-4d23-b57f-93ff0fb6b083"
      },
      "execution_count": null,
      "outputs": [
        {
          "output_type": "stream",
          "name": "stdout",
          "text": [
            "1\n",
            "AAA\n",
            "1 2\n"
          ]
        }
      ]
    },
    {
      "cell_type": "code",
      "source": [
        "# 24060 *\n",
        "import sys\n",
        "sys.setrecursionlimit(10**6)\n",
        "input = sys.stdin.readline\n",
        "\n",
        "n, k = map(int, input().split())\n",
        "A = list(map(int, input().split()))\n",
        "tmp = [0] * n  # 임시 배열\n",
        "count = 0\n",
        "result = -1\n",
        "\n",
        "def merge_sort(p, r):\n",
        "    global count, result\n",
        "    if p < r:\n",
        "        q = (p + r) // 2\n",
        "        merge_sort(p, q)\n",
        "        merge_sort(q + 1, r)\n",
        "        merge(p, q, r)\n",
        "\n",
        "def merge(p, q, r):\n",
        "    global count, result\n",
        "    i, j, t = p, q + 1, p\n",
        "\n",
        "    while i <= q and j <= r:\n",
        "        if A[i] <= A[j]:\n",
        "            tmp[t] = A[i]\n",
        "            i += 1\n",
        "        else:\n",
        "            tmp[t] = A[j]\n",
        "            j += 1\n",
        "        t += 1\n",
        "        count += 1\n",
        "        if count == k:\n",
        "            result = tmp[t - 1]\n",
        "\n",
        "    while i <= q:\n",
        "        tmp[t] = A[i]\n",
        "        i += 1\n",
        "        t += 1\n",
        "        count += 1\n",
        "        if count == k:\n",
        "            result = tmp[t - 1]\n",
        "\n",
        "    while j <= r:\n",
        "        tmp[t] = A[j]\n",
        "        j += 1\n",
        "        t += 1\n",
        "        count += 1\n",
        "        if count == k:\n",
        "            result = tmp[t - 1]\n",
        "\n",
        "    for i in range(p, r + 1):\n",
        "        A[i] = tmp[i]\n",
        "\n",
        "merge_sort(0, n - 1)\n",
        "print(result)\n"
      ],
      "metadata": {
        "id": "RdY8VTIRh-To"
      },
      "execution_count": null,
      "outputs": []
    },
    {
      "cell_type": "code",
      "source": [
        "# 4779\n",
        "def cantor(n):\n",
        "    if n == 0:\n",
        "        return '-'\n",
        "    prev = cantor(n-1)\n",
        "    space = ' ' * (3 ** (n-1))\n",
        "    return prev + space + prev\n",
        "\n",
        "try:\n",
        "    while True:\n",
        "        print(cantor(int(input())))\n",
        "except:\n",
        "    pass"
      ],
      "metadata": {
        "id": "5sK-Bau40cr2",
        "colab": {
          "base_uri": "https://localhost:8080/"
        },
        "outputId": "9d49b611-4a10-4797-85b0-679fed2a76b7"
      },
      "execution_count": 18,
      "outputs": [
        {
          "name": "stdout",
          "output_type": "stream",
          "text": [
            "01\n",
            "- -\n",
            "3\n",
            "- -   - -         - -   - -\n",
            "2\n",
            "- -   - -\n",
            "1\n",
            "- -\n",
            "\n"
          ]
        }
      ]
    },
    {
      "cell_type": "code",
      "source": [
        "# 2447\n",
        "def draw_star(arr, x, y, n):\n",
        "    if n == 1:\n",
        "        arr[y][x] = '*'\n",
        "        return\n",
        "    div = n // 3\n",
        "    for dy in range(3):\n",
        "        for dx in range(3):\n",
        "            if dy == 1 and dx == 1:\n",
        "                continue  # 가운데는 비움\n",
        "            draw_star(arr, x + dx * div, y + dy * div, div)\n",
        "\n",
        "def main():\n",
        "    import sys\n",
        "    sys.setrecursionlimit(10000)\n",
        "    N = int(input())\n",
        "    arr = [[' ' for _ in range(N)] for _ in range(N)]\n",
        "    draw_star(arr, 0, 0, N)\n",
        "    for row in arr:\n",
        "        print(''.join(row))\n",
        "\n",
        "if __name__ == '__main__':\n",
        "    main()"
      ],
      "metadata": {
        "id": "gr42EdaVWS2e",
        "colab": {
          "base_uri": "https://localhost:8080/"
        },
        "outputId": "9b7cbd52-4e0f-4c05-d7f3-5f1c5bcdb7f1"
      },
      "execution_count": 20,
      "outputs": [
        {
          "output_type": "stream",
          "name": "stdout",
          "text": [
            "9\n",
            "*********\n",
            "* ** ** *\n",
            "*********\n",
            "***   ***\n",
            "* *   * *\n",
            "***   ***\n",
            "*********\n",
            "* ** ** *\n",
            "*********\n"
          ]
        }
      ]
    },
    {
      "cell_type": "code",
      "source": [
        "# 11729\n",
        "def hanoi(n, start, end, temp, moves):\n",
        "    if n == 1:\n",
        "        moves.append((start, end))\n",
        "    else:\n",
        "        hanoi(n - 1, start, temp, end, moves)\n",
        "        moves.append((start, end))\n",
        "        hanoi(n - 1, temp, end, start, moves)\n",
        "\n",
        "def main():\n",
        "    N = int(input())\n",
        "    moves = []\n",
        "    hanoi(N, 1, 3, 2, moves)\n",
        "    print(len(moves))\n",
        "    for move in moves:\n",
        "        print(move[0], move[1])\n",
        "\n",
        "if __name__ == \"__main__\":\n",
        "    main()\n"
      ],
      "metadata": {
        "colab": {
          "base_uri": "https://localhost:8080/"
        },
        "id": "n8qcc6UokoKo",
        "outputId": "e6eb0779-e2a6-4fcc-b730-2d802a6c7423"
      },
      "execution_count": 26,
      "outputs": [
        {
          "output_type": "stream",
          "name": "stdout",
          "text": [
            "4\n",
            "15\n",
            "1 2\n",
            "1 3\n",
            "2 3\n",
            "1 2\n",
            "3 1\n",
            "3 2\n",
            "1 2\n",
            "1 3\n",
            "2 3\n",
            "2 1\n",
            "3 1\n",
            "2 3\n",
            "1 2\n",
            "1 3\n",
            "2 3\n"
          ]
        }
      ]
    },
    {
      "cell_type": "markdown",
      "source": [
        "생각의 핵심은: 가장 큰 원판은 맨 마지막에 이동해야 한다.\n",
        "\n",
        "과정:\n",
        "\n",
        "1. 먼저 1번 → 2번으로 N-1개의 원판을 옮긴다 (즉, 2개의 원판을)\n",
        "\n",
        "2. 그다음, 가장 큰 원판 1개를 1번 → 3번으로 옮긴다\n",
        "\n",
        "3. 재거ㅜ마지막으로, 2번 → 3번으로 N-1개의 원판을 다시 옮긴다\n",
        "\n",
        "즉, N개의 원판을 옮기기 위해선 재귀적으로 N-1개의 하노이 문제를 두 번 해결하고, 마지막에 큰 원판 1개를 직접 옮기는 방식이다."
      ],
      "metadata": {
        "id": "Cehd21fXmYHa"
      }
    },
    {
      "cell_type": "markdown",
      "source": [
        "### 메모"
      ],
      "metadata": {
        "id": "-n10miTJFzvM"
      }
    },
    {
      "cell_type": "markdown",
      "source": [
        "* 왈러스 연산자"
      ],
      "metadata": {
        "id": "6ePQssjlF2--"
      }
    },
    {
      "cell_type": "code",
      "source": [],
      "metadata": {
        "id": "uX2usWhaF0yx"
      },
      "execution_count": null,
      "outputs": []
    }
  ]
}