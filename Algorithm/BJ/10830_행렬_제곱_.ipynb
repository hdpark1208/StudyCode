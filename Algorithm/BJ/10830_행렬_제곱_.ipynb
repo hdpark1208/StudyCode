{
  "nbformat": 4,
  "nbformat_minor": 0,
  "metadata": {
    "colab": {
      "name": "10830_행렬 제곱**.ipynb",
      "provenance": [],
      "collapsed_sections": [],
      "authorship_tag": "ABX9TyMNMLmynlQto3w5mSS0vPS+",
      "include_colab_link": true
    },
    "kernelspec": {
      "name": "python3",
      "display_name": "Python 3"
    },
    "language_info": {
      "name": "python"
    }
  },
  "cells": [
    {
      "cell_type": "markdown",
      "metadata": {
        "id": "view-in-github",
        "colab_type": "text"
      },
      "source": [
        "<a href=\"https://colab.research.google.com/github/hdpark1208/StudyCode/blob/main/Algorithm/BJ/10830_%ED%96%89%EB%A0%AC_%EC%A0%9C%EA%B3%B1_.ipynb\" target=\"_parent\"><img src=\"https://colab.research.google.com/assets/colab-badge.svg\" alt=\"Open In Colab\"/></a>"
      ]
    },
    {
      "cell_type": "markdown",
      "metadata": {
        "id": "Yh4kWp1luxrW"
      },
      "source": [
        "# 행렬 제곱"
      ]
    },
    {
      "cell_type": "markdown",
      "metadata": {
        "id": "Xg2dbbF7u2R8"
      },
      "source": [
        "크기가 N*N인 행렬 A가 주어진다. 이때, A의 B제곱을 구하는 프로그램을 작성하시오. 수가 매우 커질 수 있으니, A^B의 각 원소를 1,000으로 나눈 나머지를 출력한다."
      ]
    },
    {
      "cell_type": "markdown",
      "metadata": {
        "id": "LqXcSRcPu8kj"
      },
      "source": [
        "## 입력 출력 및 예제\n"
      ]
    },
    {
      "cell_type": "markdown",
      "metadata": {
        "id": "rFCkhMXFvDp0"
      },
      "source": [
        "* 입력"
      ]
    },
    {
      "cell_type": "markdown",
      "metadata": {
        "id": "XwU2sme_3t7A"
      },
      "source": [
        "첫째 줄에 행렬의 크기 N과 B가 주어진다. (2 ≤ N ≤  5, 1 ≤ B ≤ 100,000,000,000)\n",
        "\n",
        "둘째 줄부터 N개의 줄에 행렬의 각 원소가 주어진다. 행렬의 각 원소는 1,000보다 작거나 같은 자연수 또는 0이다."
      ]
    },
    {
      "cell_type": "markdown",
      "metadata": {
        "id": "Ar1hCLVxwiDl"
      },
      "source": [
        "* 출력"
      ]
    },
    {
      "cell_type": "markdown",
      "metadata": {
        "id": "VaXKN9fc3uUv"
      },
      "source": [
        "첫째 줄부터 N개의 줄에 걸쳐 행렬 A를 B제곱한 결과를 출력한다."
      ]
    },
    {
      "cell_type": "markdown",
      "metadata": {
        "id": "8tmCzTFmwwmN"
      },
      "source": [
        "* 입력 예제"
      ]
    },
    {
      "cell_type": "markdown",
      "metadata": {
        "id": "ZuKUpEvu3uuv"
      },
      "source": [
        "2 5  \n",
        "1 2  \n",
        "3 4  "
      ]
    },
    {
      "cell_type": "markdown",
      "metadata": {
        "id": "bnyvaNYDPh1d"
      },
      "source": [
        "* 출력 예제"
      ]
    },
    {
      "cell_type": "markdown",
      "metadata": {
        "id": "rYAVTu3K3vDN"
      },
      "source": [
        "69 558  \n",
        "337 406  "
      ]
    },
    {
      "cell_type": "markdown",
      "metadata": {
        "id": "__zt_kEJw3Zd"
      },
      "source": [
        "## 코드"
      ]
    },
    {
      "cell_type": "code",
      "metadata": {
        "colab": {
          "base_uri": "https://localhost:8080/"
        },
        "id": "kX3H6gCkkQ7c",
        "outputId": "77f69a7c-b406-462f-ed7d-d74f3a7ca64f"
      },
      "source": [
        "# 역시..단순한 방법이라 시간 초과\n",
        "\n",
        "def matrix_square(matrix_A,matrix_B):\n",
        "\n",
        "    new_matrix = []\n",
        "    for _ in range(len(matrix_A[0])):\n",
        "        new_matrix.append([0]*len(matrix_A[0]))\n",
        "\n",
        "    for i in range(len(matrix_A[0])):\n",
        "        for j in range(len(matrix_A[0])):\n",
        "            for n in range(len(matrix_A[0])):\n",
        "                new_matrix[i][j] += matrix_A[i][n]*matrix_B[n][j]\n",
        "    return new_matrix\n",
        "\n",
        "def matrix_n_square(matrix,n):\n",
        "    val = matrix_square(matrix,matrix)\n",
        "    if n ==2: return val\n",
        "    for _ in range(n-2):\n",
        "        val = matrix_square(matrix,val)\n",
        "    return val\n",
        "\n",
        "n , b = map(int,input().split())\n",
        "matrix = []\n",
        "for _ in range(n):\n",
        "    matrix.append(list(map(int,input().split())))\n",
        "\n",
        "result = matrix_n_square(matrix,b)\n",
        "for i in range(n):\n",
        "    for j in range(n):\n",
        "        result[i][j] = result[i][j]%1000\n",
        "\n",
        "for i in range(n):\n",
        "    for j in range(n):\n",
        "        print(result[i][j],end=' ')\n",
        "    print()\n",
        "\n"
      ],
      "execution_count": null,
      "outputs": [
        {
          "output_type": "stream",
          "text": [
            "2 5\n",
            "1 2\n",
            "3 4\n",
            "69 558 \n",
            "337 406 \n"
          ],
          "name": "stdout"
        }
      ]
    },
    {
      "cell_type": "code",
      "metadata": {
        "colab": {
          "base_uri": "https://localhost:8080/"
        },
        "id": "xkXI01WX7ML9",
        "outputId": "775d7f5f-bfc1-4976-c310-841d284a1265"
      },
      "source": [
        "2matrix_n_square(matrix,3)"
      ],
      "execution_count": null,
      "outputs": [
        {
          "output_type": "execute_result",
          "data": {
            "text/plain": [
              "[[25, 50], [50, 100]]"
            ]
          },
          "metadata": {
            "tags": []
          },
          "execution_count": 18
        }
      ]
    },
    {
      "cell_type": "code",
      "metadata": {
        "colab": {
          "base_uri": "https://localhost:8080/"
        },
        "id": "WIlOjujg787Q",
        "outputId": "6044b4fa-f1b6-4152-fe13-840544463c58"
      },
      "source": [
        ""
      ],
      "execution_count": null,
      "outputs": [
        {
          "output_type": "execute_result",
          "data": {
            "text/plain": [
              "8"
            ]
          },
          "metadata": {
            "tags": []
          },
          "execution_count": 16
        }
      ]
    },
    {
      "cell_type": "code",
      "metadata": {
        "colab": {
          "base_uri": "https://localhost:8080/"
        },
        "id": "gTWsmzdnyHxJ",
        "outputId": "b4ecd65c-8627-4d04-8438-89f14f7ac641"
      },
      "source": [
        "matrix_square(matrix,matrix)"
      ],
      "execution_count": null,
      "outputs": [
        {
          "output_type": "execute_result",
          "data": {
            "text/plain": [
              "[[5, 10], [10, 20]]"
            ]
          },
          "metadata": {
            "tags": []
          },
          "execution_count": 5
        }
      ]
    },
    {
      "cell_type": "code",
      "metadata": {
        "colab": {
          "base_uri": "https://localhost:8080/"
        },
        "id": "NtPx5jQT1fiB",
        "outputId": "e358481c-73d2-42f9-800d-e232d8c6e8ba"
      },
      "source": [
        "matrix_square(matrix_square(matrix,matrix),matrix)"
      ],
      "execution_count": null,
      "outputs": [
        {
          "output_type": "execute_result",
          "data": {
            "text/plain": [
              "[[25, 50], [50, 100]]"
            ]
          },
          "metadata": {
            "tags": []
          },
          "execution_count": 6
        }
      ]
    },
    {
      "cell_type": "markdown",
      "metadata": {
        "id": "bSzpKoeFzzUN"
      },
      "source": [
        "## 메모\n"
      ]
    }
  ]
}