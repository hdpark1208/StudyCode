{
  "nbformat": 4,
  "nbformat_minor": 0,
  "metadata": {
    "colab": {
      "name": "BinarySearch.ipynb",
      "provenance": [],
      "collapsed_sections": [],
      "authorship_tag": "ABX9TyPSyGUas090lWsWJmlE/5se",
      "include_colab_link": true
    },
    "kernelspec": {
      "name": "python3",
      "display_name": "Python 3"
    },
    "language_info": {
      "name": "python"
    }
  },
  "cells": [
    {
      "cell_type": "markdown",
      "metadata": {
        "id": "view-in-github",
        "colab_type": "text"
      },
      "source": [
        "<a href=\"https://colab.research.google.com/github/hdpark1208/StudyCode/blob/main/Algorithm/BinarySearch.ipynb\" target=\"_parent\"><img src=\"https://colab.research.google.com/assets/colab-badge.svg\" alt=\"Open In Colab\"/></a>"
      ]
    },
    {
      "cell_type": "markdown",
      "metadata": {
        "id": "mENdCRcslwl6"
      },
      "source": [
        "* 순차 탐색 : 리스트 안에 있는 특정한 데이터를 찾기 위해 순차적으로 데이터를 확인하는 방법  \n",
        "* 이진 탐색 : 정렬되어 있는 리스트에서 탐색 범위를 절반씩 좁혀가며 데이터를 탐색하는 방법  \n",
        "(이진 탐색은 시작점, 끝점, 중간점을 이용하여 탐색 범위를 설정)"
      ]
    },
    {
      "cell_type": "markdown",
      "metadata": {
        "id": "QXiqHVu6qDlJ"
      },
      "source": [
        "recurrent ver."
      ]
    },
    {
      "cell_type": "code",
      "metadata": {
        "colab": {
          "base_uri": "https://localhost:8080/"
        },
        "id": "ydAQ6SBwlJ5k",
        "outputId": "4f18aaed-748c-4a62-8110-b2ac541e83bb"
      },
      "source": [
        "def binary_search(array,target,start,end):\n",
        "    if start > end: # 데이터가 정렬되어 있지 않음\n",
        "        return None\n",
        "    mid = (start +end) // 2\n",
        "    if array[mid] == target:\n",
        "        return mid\n",
        "    elif array[mid] > target:\n",
        "        return binary_search(array,target,start,mid-1)\n",
        "    else:\n",
        "        return binary_search(array,target,mid+1,end)\n",
        "\n",
        "n , target = list(map(int,input().split()))\n",
        "\n",
        "array = list(map(int,input().split()))\n",
        "\n",
        "result = binary_search(array,target,0,n-1)\n",
        "if result ==None:\n",
        "    print('원소가 존재하지 않습니다')\n",
        "else:\n",
        "    print(result +1,'번째에 있습니다')"
      ],
      "execution_count": null,
      "outputs": [
        {
          "output_type": "stream",
          "text": [
            "10 17\n",
            "1 3 5 7 9 11 13 15 17 19\n",
            "9 번째에 있습니다\n"
          ],
          "name": "stdout"
        }
      ]
    },
    {
      "cell_type": "markdown",
      "metadata": {
        "id": "NXOAVhDJqJNq"
      },
      "source": [
        "while ver."
      ]
    },
    {
      "cell_type": "code",
      "metadata": {
        "colab": {
          "base_uri": "https://localhost:8080/"
        },
        "id": "9XwqpshipfiK",
        "outputId": "4a0f976c-1f74-4310-e82a-a301177b285f"
      },
      "source": [
        "def binary_search(array,target,start,end):\n",
        "    while start <= end:\n",
        "        mid = (start+end)//2\n",
        "        if array[mid]==target:\n",
        "            return mid\n",
        "        elif array[mid] > target:\n",
        "            end = mid -1\n",
        "        else:\n",
        "            start = mid+1\n",
        "    return None\n",
        "\n",
        "n , target = list(map(int,input().split()))\n",
        "\n",
        "array = list(map(int,input().split()))\n",
        "\n",
        "result = binary_search(array,target,0,n-1)\n",
        "if result ==None:\n",
        "    print('원소가 존재하지 않습니다')\n",
        "else:\n",
        "    print(result +1,'번째에 있습니다')"
      ],
      "execution_count": null,
      "outputs": [
        {
          "output_type": "stream",
          "text": [
            "10 7\n",
            "1 3 5 7 9 11 13 15 17 19\n",
            "4 번째에 있습니다\n"
          ],
          "name": "stdout"
        }
      ]
    },
    {
      "cell_type": "markdown",
      "metadata": {
        "id": "0EOMub16tk6T"
      },
      "source": [
        "파이썬 이진 탐색 라이브러리\n",
        "* bisect_left(a,x) : 정렬된 순서를 유지하면서 배열 a 에 x 를 삽입할 가장 왼쪽 인덱스를 반환  \n",
        "* bisect_right(a,x) : 가장 오른쪽 인덱스를 반환"
      ]
    },
    {
      "cell_type": "code",
      "metadata": {
        "colab": {
          "base_uri": "https://localhost:8080/"
        },
        "id": "oK6alF-Vq8Bj",
        "outputId": "8f642d13-31c6-42bb-d5a4-adc214548cdc"
      },
      "source": [
        "from bisect import bisect_left, bisect_right\n",
        "a = [1,2,4,4,4,5,6]\n",
        "x = 4\n",
        "print(bisect_left(a,x))\n",
        "print(bisect_right(a,x))\n"
      ],
      "execution_count": null,
      "outputs": [
        {
          "output_type": "stream",
          "text": [
            "2\n",
            "5\n"
          ],
          "name": "stdout"
        }
      ]
    },
    {
      "cell_type": "code",
      "metadata": {
        "colab": {
          "base_uri": "https://localhost:8080/"
        },
        "id": "H2abEUXwuDG3",
        "outputId": "0a8c4dcb-2bfb-45c3-942d-6916d38cf62b"
      },
      "source": [
        "# 값이 특정 범위에 속하는 데이터 개수 구하기\n",
        "def count_by_range(a,left_value,right_value):\n",
        "    left_index = bisect_left(a,left_value)\n",
        "    right_index = bisect_right(a,right_value)\n",
        "    return right_index - left_index\n",
        "\n",
        "a = [1,2,3,3,3,4,4,7,8,9]\n",
        "\n",
        "print(count_by_range(a,2,4))\n",
        "print(count_by_range(a,7,7))\n"
      ],
      "execution_count": null,
      "outputs": [
        {
          "output_type": "stream",
          "text": [
            "6\n",
            "1\n"
          ],
          "name": "stdout"
        }
      ]
    },
    {
      "cell_type": "markdown",
      "metadata": {
        "id": "PDfcnnNZ0TR0"
      },
      "source": [
        "* Parametric Search : 최적화 문제를 결정 문제로 바꾸어 해결하는 기법"
      ]
    },
    {
      "cell_type": "markdown",
      "metadata": {
        "id": "LKVPJCxf058D"
      },
      "source": [
        "<문제> 떡볶이 떡 만들기  \n",
        "입력 조건 :  \n",
        "첫째 줄에 떡의 개수 N과 요청한 떡의 길이 M이 주어진다  \n",
        "둘쨰 줄에는 떡을 개별 높이가 주어진다. 떡 높이의 총합은 항상 M 이상이므로, 손님은 필요한 양만큼 떡을 사갈 수 있다.  \n",
        "\n",
        "출력 조건 :  \n",
        "적어도 M만큼의 떡을 집에 가져가기 위해 절단기에 설정할 수 있는 높이의 최댓값을 출력하라  \n",
        "\n",
        "입력 예시 : \n",
        "4 6  \n",
        "19 15 10 17  \n",
        "\n",
        "출력 예시 :  \n",
        "15\n"
      ]
    },
    {
      "cell_type": "code",
      "metadata": {
        "colab": {
          "base_uri": "https://localhost:8080/"
        },
        "id": "TQ3aVCoBu0wS",
        "outputId": "687eaa78-06b7-4b48-c46c-8f8bf932f588"
      },
      "source": [
        "n, m = list(map(int,input().split(' ')))\n",
        "array = list(map(int,input().split()))\n",
        "\n",
        "start = 0\n",
        "end = max(array)\n",
        "\n",
        "result = 0\n",
        "while(start<=end):\n",
        "    total = 0\n",
        "    mid = (start + end) //2\n",
        "    for x in array:\n",
        "        if x > mid:\n",
        "            total += x - mid\n",
        "    if total < m:\n",
        "        end = mid -1\n",
        "    \n",
        "    else:\n",
        "        result = mid # 최대한 덜 잘랐을 때가 정답이므로, 여기에서 result 기록\n",
        "        start = mid + 1\n",
        "print(result)"
      ],
      "execution_count": null,
      "outputs": [
        {
          "output_type": "stream",
          "text": [
            "5 10\n",
            "4 10 5 2 3 6 9\n",
            "5\n"
          ],
          "name": "stdout"
        }
      ]
    },
    {
      "cell_type": "markdown",
      "metadata": {
        "id": "49vldHK76SM-"
      },
      "source": [
        "<문제> 오름차순 정렬된 배열에서 특정 수의 개수 구하기  \n",
        "\n",
        "입력 조건 :  \n",
        "첫째 줄에 N과 x가 정수 형태로 공백으로 구분되어 입력된다  \n",
        "둘때 줄에 N개의 원소가 정수 형태로 공백으로 구분되어 입력된다  \n",
        "\n",
        "출력 조건 :  \n",
        "수열의 원소 중에서 값이 x인 원소의 개수를 출력. 하나도 없다면 -1 을 출력한다.  \n",
        "\n",
        "입력 예시 :  \n",
        "7 2  \n",
        "1 1 2 2 2 2 3  \n",
        "\n",
        "출력 예시 :  \n",
        "4"
      ]
    },
    {
      "cell_type": "markdown",
      "metadata": {
        "id": "5IkmiVxK66A-"
      },
      "source": [
        "* 시간 복잡도 0(lohN) 요구. 데이터가 정렬되어 있어 이진 탐색을 수행할 수 있다"
      ]
    },
    {
      "cell_type": "code",
      "metadata": {
        "colab": {
          "base_uri": "https://localhost:8080/"
        },
        "id": "_NlYL0SO5Fus",
        "outputId": "202d04bf-e403-47ed-dd52-93dd5c17e2c8"
      },
      "source": [
        "from bisect import bisect_right,bisect_right\n",
        "def count_by_range(a,left_value,right_value):\n",
        "    left_index = bisect_left(a,left_value)\n",
        "    right_index = bisect_right(a,right_value)\n",
        "    return right_index - left_index\n",
        "\n",
        "n, x = map(int,input().split())\n",
        "array = list(map(int,input().split()))\n",
        "\n",
        "count = count_by_range(array,x,x)\n",
        "if count==0:\n",
        "    print(-1)\n",
        "else:\n",
        "    print(count)"
      ],
      "execution_count": null,
      "outputs": [
        {
          "output_type": "stream",
          "text": [
            "7 2\n",
            "1 1 1 3 4 4 4 4 4 4\n",
            "-1\n"
          ],
          "name": "stdout"
        }
      ]
    },
    {
      "cell_type": "code",
      "metadata": {
        "id": "M9ks2mn57mvl"
      },
      "source": [
        ""
      ],
      "execution_count": null,
      "outputs": []
    }
  ]
}