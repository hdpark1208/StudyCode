{
  "nbformat": 4,
  "nbformat_minor": 0,
  "metadata": {
    "colab": {
      "name": "Greedy.ipynb",
      "provenance": [],
      "collapsed_sections": [
        "jkzeDxrcjf4p",
        "aIiEFoRJjqN9",
        "VphXXxLVpGLX",
        "20oDiTiK0nKM",
        "5ytFkS_Q7FA2",
        "BhdDSkLZFEYT"
      ],
      "authorship_tag": "ABX9TyPhN+I8DASlKmXDtpOHQGFh",
      "include_colab_link": true
    },
    "kernelspec": {
      "name": "python3",
      "display_name": "Python 3"
    },
    "language_info": {
      "name": "python"
    }
  },
  "cells": [
    {
      "cell_type": "markdown",
      "metadata": {
        "id": "view-in-github",
        "colab_type": "text"
      },
      "source": [
        "<a href=\"https://colab.research.google.com/github/hdpark1208/StudyCode/blob/main/Greedy.ipynb\" target=\"_parent\"><img src=\"https://colab.research.google.com/assets/colab-badge.svg\" alt=\"Open In Colab\"/></a>"
      ]
    },
    {
      "cell_type": "markdown",
      "metadata": {
        "id": "SVAVT9rNkDbt"
      },
      "source": [
        "## {문제 이름}\n",
        "> 문제 조건 1   \n",
        "> 문제 조건 2\n"
      ]
    },
    {
      "cell_type": "markdown",
      "metadata": {
        "id": "ictarVZ_k2Qn"
      },
      "source": [
        "* 해결 아이디어 1\n",
        "* 해결 아이디어 2"
      ]
    },
    {
      "cell_type": "markdown",
      "metadata": {
        "id": "gOTp81WJlZJC"
      },
      "source": [
        "### 내 풀이"
      ]
    },
    {
      "cell_type": "code",
      "metadata": {
        "id": "JGOKbhcamTzp"
      },
      "source": [
        "# 풀이"
      ],
      "execution_count": null,
      "outputs": []
    },
    {
      "cell_type": "markdown",
      "metadata": {
        "id": "Jt7ynLKDlY9I"
      },
      "source": [
        "### 모범 답안 및 배울 점"
      ]
    },
    {
      "cell_type": "code",
      "metadata": {
        "id": "VJIQ1a9mmVYl"
      },
      "source": [
        "# 풀이"
      ],
      "execution_count": null,
      "outputs": []
    },
    {
      "cell_type": "markdown",
      "metadata": {
        "id": "ljUe_1pDlr_k"
      },
      "source": [
        "* 보완 할 점 1\n",
        "* 보완 할 점 2\n"
      ]
    },
    {
      "cell_type": "markdown",
      "metadata": {
        "id": "jkzeDxrcjf4p"
      },
      "source": [
        "## {1. 거스름돈}\n",
        "> 500, 100, 50, 10원짜리 동전이 무한히 존재한다고 가정  \n",
        "> 손님에게 거슬러 주어야 할 돈이 N원일 때 거슬러 주어야 할 동전의 최소 개수를 구하라 (거스름돈은 10의 배수임)\n"
      ]
    },
    {
      "cell_type": "markdown",
      "metadata": {
        "id": "fTQ7Rx2im8t0"
      },
      "source": [
        "* 가장 큰 화폐 단위부터 돈을 거슬러준다"
      ]
    },
    {
      "cell_type": "markdown",
      "metadata": {
        "id": "_9aQhPGnnqOZ"
      },
      "source": [
        "### 모범 답안 및 배울 점"
      ]
    },
    {
      "cell_type": "code",
      "metadata": {
        "colab": {
          "base_uri": "https://localhost:8080/"
        },
        "id": "5ZbqxG7WhGLn",
        "outputId": "a3a4b11c-b515-4f13-a4a5-de017ca137c2"
      },
      "source": [
        "# 거스름 돈\n",
        "n = 1260\n",
        "count = 0\n",
        "\n",
        "array = [500, 100, 50, 10] # 단위\n",
        "\n",
        "for coin in array:\n",
        "    count += n // coin\n",
        "    n = n%coin\n",
        "print(count)"
      ],
      "execution_count": null,
      "outputs": [
        {
          "output_type": "stream",
          "text": [
            "6\n"
          ],
          "name": "stdout"
        }
      ]
    },
    {
      "cell_type": "markdown",
      "metadata": {
        "id": "E9WeET1CirA8"
      },
      "source": [
        "* 화폐의 종류가 K일 때, 소스코드의 시간 복잡도는 O(K)\n",
        "* 거스름 돈의 크기와는 무관하고 화폐의 종류의 수에 영향을 받는다"
      ]
    },
    {
      "cell_type": "markdown",
      "metadata": {
        "id": "aIiEFoRJjqN9"
      },
      "source": [
        "##{2. 1이 될 때 까지}\n",
        ">어떤 수 N이 1이 될 때 까지 다음 두 과정 중 하나를 반복적으로 선택하여 수행한다\n",
        "1. N에서 1을 뺍니다\n",
        "2. N을 K로 나눕니다(나누어 떨어질 때만 가능)\n",
        "- N, K가 주어질 때 N이 1이 될 때 까지 1번 혹은 2번 과정을 수행해야하는 최소 횟수를 구하라"
      ]
    },
    {
      "cell_type": "markdown",
      "metadata": {
        "id": "pvRPWyRWk36M"
      },
      "source": [
        "* map(변환 함수, 순회 가능한 데이터)"
      ]
    },
    {
      "cell_type": "markdown",
      "metadata": {
        "id": "P8NHStTqopSR"
      },
      "source": [
        "### 모범 답안 및 배울 점"
      ]
    },
    {
      "cell_type": "code",
      "metadata": {
        "colab": {
          "base_uri": "https://localhost:8080/"
        },
        "id": "HDWbntboiVJO",
        "outputId": "e0af1c17-bb3a-4ee6-db09-d3c5212fbb76"
      },
      "source": [
        "n, k = map(int,input().split())\n",
        "\n",
        "result = 0\n",
        "\n",
        "while True:\n",
        "    target = (n//k) * k # k|n 아니더라도 n에 가장 근접한 k의 배수를 구할 수 있음\n",
        "    result = result + (n-target) # 나누어 떨어지기 전까지 1.과정을 (n-target)번 해주어야 하므로\n",
        "    n = target\n",
        "    if n < k:\n",
        "        break\n",
        "    result = result + 1 # 2번 과정으로 인한 +1\n",
        "    n = n//k\n",
        "\n",
        "result = result + (n-1) # n 이 더 작아졌을 경우 1.과정을 통해 n = 1을 만들어줘야하므로\n",
        "print(result)\n"
      ],
      "execution_count": null,
      "outputs": [
        {
          "output_type": "stream",
          "text": [
            "5153 153\n",
            "137\n"
          ],
          "name": "stdout"
        }
      ]
    },
    {
      "cell_type": "markdown",
      "metadata": {
        "id": "VphXXxLVpGLX"
      },
      "source": [
        "## {3. 곱하기 혹은 더하기}\n",
        "> 각 자리가 숫자(0~9)로 이루어진 문자열 S가 주어진다   \n",
        "> 모든 연산은 왼쪽에서부터 순서대로 이루어 질 때 만들어 질 수 있는 가장 큰 수를 구하라\n"
      ]
    },
    {
      "cell_type": "markdown",
      "metadata": {
        "id": "_Uu45uCqpGLX"
      },
      "source": [
        "* 0,1 을 제외한 경우 곱하기를 취해야한다\n",
        "* 해결 아이디어 2"
      ]
    },
    {
      "cell_type": "markdown",
      "metadata": {
        "id": "i2VthQKmpGLX"
      },
      "source": [
        "### 내 풀이"
      ]
    },
    {
      "cell_type": "code",
      "metadata": {
        "id": "ZG4TOesHpGLX"
      },
      "source": [
        "# 풀이"
      ],
      "execution_count": null,
      "outputs": []
    },
    {
      "cell_type": "markdown",
      "metadata": {
        "id": "KfBah9a3pGLY"
      },
      "source": [
        "### 모범 답안 및 배울 점"
      ]
    },
    {
      "cell_type": "code",
      "metadata": {
        "colab": {
          "base_uri": "https://localhost:8080/"
        },
        "id": "Ph-7Ae3UpGLY",
        "outputId": "3aa74cc2-ac93-498a-8f86-7a13d615cbc8"
      },
      "source": [
        "# 풀이\n",
        "data = input()\n",
        "\n",
        "result = int(data[0])\n",
        "\n",
        "for i in range(1,len(data)):\n",
        "    num = int(data[i])\n",
        "    if num<= 1 or result <= 1:\n",
        "        result = result + num\n",
        "    else:\n",
        "        result = result * num\n",
        "print(result)"
      ],
      "execution_count": null,
      "outputs": [
        {
          "output_type": "stream",
          "text": [
            "1122112001\n",
            "21\n"
          ],
          "name": "stdout"
        }
      ]
    },
    {
      "cell_type": "markdown",
      "metadata": {
        "id": "_0fLFGvJpGLY"
      },
      "source": [
        "* 보완 할 점 1\n",
        "* 보완 할 점 2\n"
      ]
    },
    {
      "cell_type": "markdown",
      "metadata": {
        "id": "20oDiTiK0nKM"
      },
      "source": [
        "## {4. 모험가 길드}\n",
        "> 모함가의 수 N이 주어진다\n",
        "> 각 모험가의 공포도의 값이 N 이하의 자연수로 주어진다\n",
        "> 공포도가 X인 모험가는 반드시 X명 이상으로 구성한 그룹에 속해야한다  \n",
        "> 모든 모험가가 여행을 떠날 필요는 없다  \n",
        "> 여행을 떠날 수 있는 그룹 수의 최대값을 구하라\n"
      ]
    },
    {
      "cell_type": "markdown",
      "metadata": {
        "id": "QrExynOr0nKO"
      },
      "source": [
        "* 공포도 값에 대한 오름차순으로 정렬한다 \n",
        "* 앞에서부터 확인하여 그룹의 조건이 만족하면 바로 그룹으로 설정하며 넘어간다  \n"
      ]
    },
    {
      "cell_type": "markdown",
      "metadata": {
        "id": "ge-VSIS50nKP"
      },
      "source": [
        "### 내 풀이"
      ]
    },
    {
      "cell_type": "code",
      "metadata": {
        "id": "CXu2JzUN0nKP"
      },
      "source": [
        "# 풀이"
      ],
      "execution_count": null,
      "outputs": []
    },
    {
      "cell_type": "markdown",
      "metadata": {
        "id": "AMRjiBu50nKP"
      },
      "source": [
        "### 모범 답안 및 배울 점"
      ]
    },
    {
      "cell_type": "code",
      "metadata": {
        "colab": {
          "base_uri": "https://localhost:8080/"
        },
        "id": "FDwDBaac0nKP",
        "outputId": "4298ede2-3513-4ef5-bcb2-6fca9bddaab5"
      },
      "source": [
        "# 풀이\n",
        "n = int(input())\n",
        "data = list(map(int,input().split())) # 공백을 기준으로 모함가 별 공포도를 입력받아 정수로 변환 후 리스트에 담는다\n",
        "data.sort() # 오름차순 정렬\n",
        "\n",
        "result = 0 # 총 그룹의 수\n",
        "count = 0 # 현재 그룹에 포함된 모험가의 수\n",
        "for i in data:\n",
        "    count += 1 # 현재 그룹에 해당 모험가(공포도 i) 포함시키기\n",
        "    if count >= i: # 현재 그룹에 포함된 모험가의 수가 현재의 공포도 이상이라면\n",
        "        result += 1 # 그룹 결성\n",
        "        count = 0 # 그룹에 모함된 모험가의 수 초기화\n",
        "\n",
        "print(result)"
      ],
      "execution_count": null,
      "outputs": [
        {
          "output_type": "stream",
          "text": [
            "10\n",
            "1 1 1 1 1 1 1 1 1 1 1 1 1 1 1 1\n",
            "16\n"
          ],
          "name": "stdout"
        }
      ]
    },
    {
      "cell_type": "markdown",
      "metadata": {
        "id": "oXq5olFH0nKP"
      },
      "source": [
        "* 공포도에 따라 오름차순 되어있으므로 그룹 내에서 가장 늦게 합류한 모험가의 공포도만 그룹 내의 인원수와 비교해주면 된다  \n",
        "\n"
      ]
    },
    {
      "cell_type": "markdown",
      "metadata": {
        "id": "5ytFkS_Q7FA2"
      },
      "source": [
        "## {5. 상하좌우}\n",
        "> N X N 크기의 정사각형 공간에서 여행가 A는 상,하,좌,우 1씩 이동할 수 있다  \n",
        "> 여행가 A에게 계획서(U,D,L,R로 이루어진)대로 움직인 후의 좌표를 공백을 기준으로 구분하여 출력하라  \n",
        "> 시작지점은 (1,1) 이고 정사각형의 공간에서 벗어나는 움직임은 무시된다\n"
      ]
    },
    {
      "cell_type": "markdown",
      "metadata": {
        "id": "YXyxQa4m7FA4"
      },
      "source": [
        "* 상,하,좌,우 움직이에 따른 벡터값을 설정하고 계획서에 맞게 더해나간다  \n",
        "* 현재 위치를 확인하여 정사각형 공간에서 벗어나는 행동에 유의한다  "
      ]
    },
    {
      "cell_type": "markdown",
      "metadata": {
        "id": "0KQPgBov7FA4"
      },
      "source": [
        "### 내 풀이"
      ]
    },
    {
      "cell_type": "code",
      "metadata": {
        "colab": {
          "base_uri": "https://localhost:8080/"
        },
        "id": "ucYSHe-67FA4",
        "outputId": "f20407e9-0a8b-4577-9573-d5b5da824a71"
      },
      "source": [
        "# 풀이\n",
        "N = int(input())\n",
        "x_loc , y_loc = 1,1\n",
        "plan = list(input().split())\n",
        "for i in plan:\n",
        "    if i=='U':\n",
        "        y_loc += -1\n",
        "    if i=='D':\n",
        "        y_loc += 1\n",
        "    if i=='L':\n",
        "        x_loc += -1\n",
        "    if i=='R':\n",
        "        x_loc += 1\n",
        "    if x_loc > N:\n",
        "        x_loc = N\n",
        "    if x_loc < 1:\n",
        "        x_loc = 1\n",
        "    if y_loc > N:\n",
        "        y_loc = N\n",
        "    if y_loc < 1:\n",
        "        y_loc = 1\n",
        "\n",
        "print(x_loc, y_loc)\n",
        "        "
      ],
      "execution_count": null,
      "outputs": [
        {
          "output_type": "stream",
          "text": [
            "52\n",
            "R D U W R\n",
            "3 1\n"
          ],
          "name": "stdout"
        }
      ]
    },
    {
      "cell_type": "markdown",
      "metadata": {
        "id": "vf9uclhX7FA5"
      },
      "source": [
        "### 모범 답안 및 배울 점"
      ]
    },
    {
      "cell_type": "code",
      "metadata": {
        "id": "d2tHZMuh7FA5"
      },
      "source": [
        "# 풀이\n",
        "n = int(input())\n",
        "x, y = 1, 1\n",
        "plans = input().split()\n",
        "print(type(plans))\n",
        "dx = [0, 0, -1, 1]\n",
        "dy = [-1, 1, 0, 0]\n",
        "move_types = ['L','R','U','D']\n",
        "\n",
        "for plan in plans:\n",
        "    for i in range(len(move_types)):\n",
        "        if plan==move_types[i]:\n",
        "            nx = x + dx[i]\n",
        "            ny = y + dy[i]\n",
        "    if nx < 1 or ny <1 or nx > n or ny > n:\n",
        "        continue\n",
        "    x, y = nx, ny\n",
        "\n",
        "print(x,y)"
      ],
      "execution_count": null,
      "outputs": []
    },
    {
      "cell_type": "markdown",
      "metadata": {
        "id": "E7MOYjBW7FA5"
      },
      "source": [
        "* input().split() 을 하면 자동으로 리스트 반환\n",
        "* 움직임을 훨씬 깔끔하게 표현함\n",
        "* 제약조건에 걸리면 continue 로 넘어가고 아니라면 마지막에 현재 위치를 저장하는 것이 깔끔함  \n"
      ]
    },
    {
      "cell_type": "markdown",
      "metadata": {
        "id": "BhdDSkLZFEYT"
      },
      "source": [
        "## {6. 시각}\n",
        "> 00시 00분 00초부터 N시 59분 59초 까지의 모든 시각 중에서 3이 하나라도 포함되는 모든 경우의 수를 구하라 (0<=N<=23)  \n"
      ]
    },
    {
      "cell_type": "markdown",
      "metadata": {
        "id": "aNZh5gVDFEYT"
      },
      "source": [
        "* 00시 00분 00초 부터 N시 59분 59초 까지 모든 경우를 탐색하며 조건에 부합할 시 count를 증가 시킨다\n"
      ]
    },
    {
      "cell_type": "markdown",
      "metadata": {
        "id": "kA9FmOg3FEYT"
      },
      "source": [
        "### 내 풀이"
      ]
    },
    {
      "cell_type": "code",
      "metadata": {
        "id": "gaACOb_KFEYT"
      },
      "source": [
        "# 풀이"
      ],
      "execution_count": null,
      "outputs": []
    },
    {
      "cell_type": "markdown",
      "metadata": {
        "id": "2Z5ntEJOFEYT"
      },
      "source": [
        "### 모범 답안 및 배울 점"
      ]
    },
    {
      "cell_type": "code",
      "metadata": {
        "colab": {
          "base_uri": "https://localhost:8080/"
        },
        "id": "DKajEVeOFEYT",
        "outputId": "d181c0f0-5cd8-4532-99e3-a70a5d8e7b80"
      },
      "source": [
        "# 풀이\n",
        "N = int(input())\n",
        "count = 0\n",
        "for i in range(N+1): # 시\n",
        "    for j in range(60): # 분\n",
        "        for k in range(60): # 초\n",
        "            if '3' in str(i)+str(j)+str(k):\n",
        "                count += 1\n",
        "print(count)"
      ],
      "execution_count": null,
      "outputs": [
        {
          "output_type": "stream",
          "text": [
            "2\n",
            "4725\n"
          ],
          "name": "stdout"
        }
      ]
    },
    {
      "cell_type": "markdown",
      "metadata": {
        "id": "im62wrDAFEYU"
      },
      "source": [
        "* 파이썬에서 if 와 문자열의 자유로운 활용 \n"
      ]
    },
    {
      "cell_type": "markdown",
      "metadata": {
        "id": "QoJNoMZzLp5v"
      },
      "source": [
        "## {7. 왕실의 나이트}\n",
        "> 8 X 8 체스판에서 나이트의 위치가 주어졌을 때 나이트가 움직일 수 있는 경수의 수를 구하라  \n",
        "> 행 위치를 표현할 때는 1\\~8, 열 위치를 표현할 때는 a~h로 표현  \n",
        "\n"
      ]
    },
    {
      "cell_type": "markdown",
      "metadata": {
        "id": "-ml2ExxeLp5x"
      },
      "source": [
        "* 5. 의 모범 답안을 참고하여 작성"
      ]
    },
    {
      "cell_type": "markdown",
      "metadata": {
        "id": "Y87E5SZPLp5x"
      },
      "source": [
        "### 내 풀이"
      ]
    },
    {
      "cell_type": "code",
      "metadata": {
        "colab": {
          "base_uri": "https://localhost:8080/"
        },
        "id": "kGRJm2pRLp5x",
        "outputId": "2768ee77-28f8-479c-ab49-3fbea439fab3"
      },
      "source": [
        "# 풀이\n",
        "x_loc, y_loc = map(ord,input().split()) # y는 a~h 입력\n",
        "x_loc, y_loc = x_loc-ord('0'),y_loc-ord('`')\n",
        "\n",
        "count = 0\n",
        "\n",
        "dx = [1, 2, 2, 1, -1 ,-2 ,-2 ,-1]\n",
        "dy = [2, 1, -1, -2,-2 ,-1 ,1 ,2]\n",
        "# E, W, N, S\n",
        "move_types = ['NE','EN','ES','SE','SW','WS','WN','NW']\n",
        "for i in range(len(move_types)):\n",
        "    x_loc += dx[i]\n",
        "    y_loc += dy[i]\n",
        "    if x_loc > 0 and x_loc < 9 and y_loc > 0 and y_loc <9:\n",
        "        count += 1\n",
        "    x_loc -= dx[i]\n",
        "    y_loc -= dy[i]\n",
        "\n",
        "print(count) \n",
        "print(x_loc,y_loc)\n",
        "\n"
      ],
      "execution_count": null,
      "outputs": [
        {
          "output_type": "stream",
          "text": [
            "2 c\n",
            "6\n",
            "2 3\n"
          ],
          "name": "stdout"
        }
      ]
    },
    {
      "cell_type": "markdown",
      "metadata": {
        "id": "Vnmcqj07Lp5x"
      },
      "source": [
        "### 모범 답안 및 배울 점"
      ]
    },
    {
      "cell_type": "code",
      "metadata": {
        "colab": {
          "base_uri": "https://localhost:8080/"
        },
        "id": "CPhg4Q7hLp5y",
        "outputId": "5935712a-f256-476d-a52f-6252e8731994"
      },
      "source": [
        "# 풀이\n",
        "input_data = input()\n",
        "row = int(input_data[1])\n",
        "column = int(ord(input_data[0])) - int(ord('a')) + 1\n",
        "\n",
        "steps = [(-2,-1),(-1,-2),(1,-2),(2,-1),(2,1),(1,2),(-1,2),(-2,1)]\n",
        "\n",
        "result = 0\n",
        "for step in steps:\n",
        "    next_row = row + step[0]\n",
        "    next_column = column + step[1]\n",
        "    if next_row >= 1 and next_row <= 8 and next_column>=1 and next_column<=8:\n",
        "        result += 1\n",
        "print(result)"
      ],
      "execution_count": null,
      "outputs": [
        {
          "output_type": "stream",
          "text": [
            "a1\n",
            "2\n"
          ],
          "name": "stdout"
        }
      ]
    },
    {
      "cell_type": "markdown",
      "metadata": {
        "id": "kk5vEOyGLp5y"
      },
      "source": [
        "* 입력 조건을 제대로 보고 이행할 것\n",
        "* move_types 을 따로 두는건 무의미 했음\n",
        "* next_row 처럼 변수를 따로 두어 x_loc 를 초기화 시킬 필요 없도록하는게 좋았음\n"
      ]
    },
    {
      "cell_type": "markdown",
      "metadata": {
        "id": "L98-pPS1eHdJ"
      },
      "source": [
        "## {8. 문자열 재정렬}\n",
        "> 알파벳 대문자와 숫자(0~9)로 구성된 문자열이 입력으로 주어진다  \n",
        "> 모든 알파벳을 오름차순으로 정렬하여 이어서 출력하고 그 뒤에 모든 숫자를 더한 값을 이어서 출력하라  \n",
        "> 예) 입력 : K!KA5CB7 > ABCKK13\n"
      ]
    },
    {
      "cell_type": "markdown",
      "metadata": {
        "id": "0-GNphWZeHdK"
      },
      "source": [
        "* 입력받은 문자열을 각각 알파벳, 숫자로 이루어진 문자열로 나눈다\n",
        "* 알파벳 대문자, 숫자의 아스키코드 파악"
      ]
    },
    {
      "cell_type": "markdown",
      "metadata": {
        "id": "SOR6-gppeHdK"
      },
      "source": [
        "### 내 풀이"
      ]
    },
    {
      "cell_type": "code",
      "metadata": {
        "colab": {
          "base_uri": "https://localhost:8080/"
        },
        "id": "3pqHcF5sf-FI",
        "outputId": "33cdb5e9-33b2-489d-924e-0fff1ad6c64d"
      },
      "source": [
        "print(ord('A'),ord('Z'),ord('0'),ord('9'))"
      ],
      "execution_count": null,
      "outputs": [
        {
          "output_type": "stream",
          "text": [
            "65 90 48 57\n"
          ],
          "name": "stdout"
        }
      ]
    },
    {
      "cell_type": "code",
      "metadata": {
        "colab": {
          "base_uri": "https://localhost:8080/"
        },
        "id": "vxRPlRk6eHdK",
        "outputId": "7805891e-2189-4d2d-b083-0cbc7f974f7f"
      },
      "source": [
        "# 풀이\n",
        "input_data = input()\n",
        "alp_data = []\n",
        "num_data = []\n",
        "sum = 0\n",
        "for i in input_data:\n",
        "    if ord(i)<=90 and ord(i)>=65:\n",
        "        alp_data.append(i)\n",
        "    if ord(i)<=57 and ord(i)>=48:\n",
        "        num_data.append(i)\n",
        "for j in num_data:\n",
        "    sum += int(j)\n",
        "alp_data.sort()\n",
        "\n",
        "print(''.join(alp_data)+str(sum))"
      ],
      "execution_count": null,
      "outputs": [
        {
          "output_type": "stream",
          "text": [
            "K1KA5CB7\n",
            "ABCKK13\n"
          ],
          "name": "stdout"
        }
      ]
    },
    {
      "cell_type": "markdown",
      "metadata": {
        "id": "AAuIl38KeHdK"
      },
      "source": [
        "### 모범 답안 및 배울 점"
      ]
    },
    {
      "cell_type": "code",
      "metadata": {
        "colab": {
          "base_uri": "https://localhost:8080/"
        },
        "id": "y_YKOQcseHdK",
        "outputId": "5091533c-c467-47c2-80d7-46d8a7622dbf"
      },
      "source": [
        "# 풀이\n",
        "data = input()\n",
        "result = []\n",
        "value = 0\n",
        "\n",
        "for x in data:\n",
        "    if x.isalpha():\n",
        "        result.append(x)\n",
        "    else:\n",
        "        value += int(x)\n",
        "result.sort()\n",
        "\n",
        "if value != 0:\n",
        "    result.append(str(value))\n",
        "\n",
        "print(''.join(result))"
      ],
      "execution_count": null,
      "outputs": [
        {
          "output_type": "stream",
          "text": [
            "K1KA5CB7\n",
            "ABCKK13\n"
          ],
          "name": "stdout"
        }
      ]
    },
    {
      "cell_type": "markdown",
      "metadata": {
        "id": "3OX6yw2BeHdK"
      },
      "source": [
        "* 적절한 함수 활용\n",
        "* 보완 할 점 2\n"
      ]
    }
  ]
}
