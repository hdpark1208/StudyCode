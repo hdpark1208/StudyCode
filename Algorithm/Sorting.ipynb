{
  "nbformat": 4,
  "nbformat_minor": 0,
  "metadata": {
    "colab": {
      "name": "Sorting.ipynb",
      "provenance": [],
      "collapsed_sections": [],
      "authorship_tag": "ABX9TyOQ8eiLsLOpUi7HtlN7j2Zl",
      "include_colab_link": true
    },
    "kernelspec": {
      "name": "python3",
      "display_name": "Python 3"
    },
    "language_info": {
      "name": "python"
    }
  },
  "cells": [
    {
      "cell_type": "markdown",
      "metadata": {
        "id": "view-in-github",
        "colab_type": "text"
      },
      "source": [
        "<a href=\"https://colab.research.google.com/github/hdpark1208/StudyCode/blob/main/Algorithm/Sorting.ipynb\" target=\"_parent\"><img src=\"https://colab.research.google.com/assets/colab-badge.svg\" alt=\"Open In Colab\"/></a>"
      ]
    },
    {
      "cell_type": "markdown",
      "metadata": {
        "id": "2gywus19eIVU"
      },
      "source": [
        "# Sorting"
      ]
    },
    {
      "cell_type": "markdown",
      "metadata": {
        "id": "9uaTSEo2eOI5"
      },
      "source": [
        "## 선택 정렬"
      ]
    },
    {
      "cell_type": "code",
      "metadata": {
        "id": "rwtYU8yG9vo1",
        "colab": {
          "base_uri": "https://localhost:8080/"
        },
        "outputId": "da5f4210-d4ae-43fc-c2ea-a8fb2110971b"
      },
      "source": [
        "array = [7, 5, 9, 0, 3, 1, 6, 2, 4, 8]\n",
        "for i in range(len(array)):\n",
        "    min_index = i\n",
        "    for j in range(i+1,len(array)):\n",
        "        if array[min_index]>array[j]:\n",
        "            min_index = j\n",
        "    array[i],array[min_index] = array[min_index],array[i]\n",
        "\n",
        "print(array)"
      ],
      "execution_count": null,
      "outputs": [
        {
          "output_type": "stream",
          "text": [
            "[0, 1, 2, 3, 4, 5, 6, 7, 8, 9]\n"
          ],
          "name": "stdout"
        }
      ]
    },
    {
      "cell_type": "markdown",
      "metadata": {
        "id": "zdx-XMuAfLlx"
      },
      "source": [
        "* 처리되지 않은 데이터 중에서 가장 작은 데이터를 선택해 맨 앞에 있는 데이터와 바꾸는 것을 반복"
      ]
    },
    {
      "cell_type": "markdown",
      "metadata": {
        "id": "_KrZFyEUe-K4"
      },
      "source": [
        "## 삽입 정렬"
      ]
    },
    {
      "cell_type": "code",
      "metadata": {
        "colab": {
          "base_uri": "https://localhost:8080/"
        },
        "id": "GT7-b3atetAn",
        "outputId": "ec37bb45-47ce-427b-e8d8-52522e208f4f"
      },
      "source": [
        "array = [7, 5, 9, 0, 3, 1, 6, 2, 4, 8]\n",
        "for i in range(1,len(array)): \n",
        "    for j in range(i,0,-1): # 처리된 데이터들을 돌며\n",
        "        if array[j] < array[j-1]: # 적절한 위치에 삽입\n",
        "            array[j],array[j-1] = array[j-1],array[j]\n",
        "        else: # 자기보다 작은 데이터를 만나면 그 위치에서 멈춤 (오름차순으로 정렬되고있기때문)\n",
        "            break\n",
        "\n",
        "print(array)"
      ],
      "execution_count": null,
      "outputs": [
        {
          "output_type": "stream",
          "text": [
            "[0, 1, 2, 3, 4, 5, 6, 7, 8, 9]\n"
          ],
          "name": "stdout"
        }
      ]
    },
    {
      "cell_type": "markdown",
      "metadata": {
        "id": "ZK-9aHu9fzUB"
      },
      "source": [
        "* 처리되지 않은 데이터를 하나씩 골라 적절한 위치에 삽입"
      ]
    },
    {
      "cell_type": "markdown",
      "metadata": {
        "id": "9SJgRg6YgyuJ"
      },
      "source": [
        "## 퀵 정렬"
      ]
    },
    {
      "cell_type": "code",
      "metadata": {
        "colab": {
          "base_uri": "https://localhost:8080/"
        },
        "id": "sXa_Vwl1f3T_",
        "outputId": "09d6571b-cc1a-4df4-9bd4-2d54ad4e761c"
      },
      "source": [
        "array = [5, 7, 9, 0, 3, 1, 6, 2, 4, 8]\n",
        "\n",
        "def quick_sort(array):\n",
        "    # 리스트가 하나 이하의 원소만 담고 있으면 종료\n",
        "    if len(array) <= 1:\n",
        "        return array\n",
        "    pivot = array[0]\n",
        "    tail = array[1:] # 피벗을 제외한 리스트\n",
        "\n",
        "    left_side = [x for x in tail if x<= pivot]\n",
        "    right_side = [x for x in tail if x> pivot]\n",
        "\n",
        "    return quick_sort(left_side)+[pivot]+quick_sort(right_side)\n",
        "quick_sort(array)\n",
        "\n"
      ],
      "execution_count": null,
      "outputs": [
        {
          "output_type": "execute_result",
          "data": {
            "text/plain": [
              "[0, 1, 2, 3, 4, 5, 6, 7, 8, 9]"
            ]
          },
          "metadata": {
            "tags": []
          },
          "execution_count": 7
        }
      ]
    },
    {
      "cell_type": "markdown",
      "metadata": {
        "id": "sqMeWz9Vg0xp"
      },
      "source": [
        "* 기준 데이터(pivot)를 설정하고 그 기준보다 큰, 작은 데이터의 위치를 바꾸는 방법  \n",
        "* 병합 정렬과 더불어 대부분 언어의 정렬 라이브러리의 근간이 되는 알고리즘"
      ]
    },
    {
      "cell_type": "markdown",
      "metadata": {
        "id": "wVkfP0_Ai2Sp"
      },
      "source": [
        "## 계수 정렬"
      ]
    },
    {
      "cell_type": "code",
      "metadata": {
        "colab": {
          "base_uri": "https://localhost:8080/"
        },
        "id": "EAQoyrJriy-J",
        "outputId": "2e4437ab-6b95-49df-b180-86e293077236"
      },
      "source": [
        "array = [5, 7, 9, 0, 3, 1, 6, 2, 4, 8, 9, 2, 5, 1, 5, 7, 0, 2, 9, 5,]\n",
        "count = [0]*(max(array)+1)\n",
        "\n",
        "for i in range(len(array)):\n",
        "    count[array[i]] += 1\n",
        "\n",
        "for i in range(len(count)):\n",
        "    for j in range(count[i]): # count[i] : i 의 등장 횟수\n",
        "        print(i, end='/')\n"
      ],
      "execution_count": null,
      "outputs": [
        {
          "output_type": "stream",
          "text": [
            "0/0/1/1/2/2/2/3/4/5/5/5/5/6/7/7/8/9/9/9/"
          ],
          "name": "stdout"
        }
      ]
    },
    {
      "cell_type": "markdown",
      "metadata": {
        "id": "3GALztori4yx"
      },
      "source": [
        "* 데이터의 크기 범위가 제한되어 정수 형태로 표현할 수 있을 때 사용가능"
      ]
    },
    {
      "cell_type": "markdown",
      "metadata": {
        "id": "yg3cHUrnkVka"
      },
      "source": [
        "# 선택 정렬과 기본 정렬 라이브러리 수행 시간 비교"
      ]
    },
    {
      "cell_type": "code",
      "metadata": {
        "colab": {
          "base_uri": "https://localhost:8080/"
        },
        "id": "ZeD3273AhH_v",
        "outputId": "b35e6a3d-0304-423d-aca1-9b5d1920e83e"
      },
      "source": [
        "from random import randint\n",
        "import time\n",
        "\n",
        "array = []\n",
        "for _ in range(10000):\n",
        "    array.append(randint(1,100))\n",
        "\n",
        "start_time = time.time()\n",
        "\n",
        "for i in range(len(array)):\n",
        "    min_index = i\n",
        "    for j in range(i+1,len(array)):\n",
        "        if array[min_index]>array[j]:\n",
        "            min_index = j\n",
        "    array[i],array[min_index] = array[min_index],array[i]\n",
        "\n",
        "end_time = time.time()\n",
        "print('선택 정렬 성능 측정 : ',end_time - start_time)"
      ],
      "execution_count": null,
      "outputs": [
        {
          "output_type": "stream",
          "text": [
            "선택 정렬 성능 측정 :  8.677853345870972\n"
          ],
          "name": "stdout"
        }
      ]
    },
    {
      "cell_type": "code",
      "metadata": {
        "colab": {
          "base_uri": "https://localhost:8080/"
        },
        "id": "qiTShR1pk45q",
        "outputId": "3e0b4043-5c5e-45d1-9e35-7b981b287790"
      },
      "source": [
        "array = []\n",
        "for _ in range(10000):\n",
        "    array.append(randint(1,100))\n",
        "\n",
        "start_time = time.time()\n",
        "\n",
        "array.sort()\n",
        "\n",
        "end_time = time.time()\n",
        "print('기본 정렬 라이브러리 성능 측정 : ',end_time - start_time)"
      ],
      "execution_count": null,
      "outputs": [
        {
          "output_type": "stream",
          "text": [
            "기본 정렬 라이브러리 성능 측정 :  0.0012121200561523438\n"
          ],
          "name": "stdout"
        }
      ]
    },
    {
      "cell_type": "markdown",
      "metadata": {
        "id": "J8rn36Fdmd3i"
      },
      "source": [
        "* 예제) 두 배열의 원소 교체"
      ]
    },
    {
      "cell_type": "code",
      "metadata": {
        "colab": {
          "base_uri": "https://localhost:8080/"
        },
        "id": "CzPQBCZXk67m",
        "outputId": "5d5e949f-ab5b-4d3c-b795-0b69635ee1bd"
      },
      "source": [
        "n, k = map(int,input().split())\n",
        "a = list(map(int,input().split()))\n",
        "b = list(map(int,input().split()))\n",
        "\n",
        "a.sort()\n",
        "b.sort(reverse=True)\n",
        "\n",
        "for i in range(k):\n",
        "    if a[i] <b[i]:\n",
        "        a[i],b[i] = b[i],a[i]\n",
        "    else:\n",
        "        break\n",
        "print(a)\n",
        "print(b)\n"
      ],
      "execution_count": null,
      "outputs": [
        {
          "output_type": "stream",
          "text": [
            "5 3\n",
            "7 3 5\n",
            "5 9 0\n",
            "[9, 5, 7]\n",
            "[3, 5, 0]\n"
          ],
          "name": "stdout"
        }
      ]
    },
    {
      "cell_type": "markdown",
      "metadata": {
        "id": "TLXO8fudhBxI"
      },
      "source": [
        "<문제> : 개미 전사  \n",
        "\n",
        "입력 조건 :  \n",
        "첫째 줄에 식량창고의 개수 N이 주어집니다  \n",
        "둘째 줄에 공백을 기준으로 각 식량창고에 저장된 식량 개수 K가 주어집니다  \n",
        "\n",
        "출력 조건 :  \n",
        "첫째 줄에 개미 전사가 얻을 수 있는 식량의 최대값을 출력하세요  \n",
        "\n",
        "입력 예시 :  \n",
        "4  \n",
        "1 3 1 5  \n",
        "\n",
        "출력 예시 :  \n",
        "8"
      ]
    },
    {
      "cell_type": "code",
      "metadata": {
        "id": "mBhD9RvknDnp",
        "colab": {
          "base_uri": "https://localhost:8080/"
        },
        "outputId": "f2039fda-3ee6-4d21-c2fd-177a6b2056df"
      },
      "source": [
        "n = int(input())\n",
        "array = list(map(int,input().split()))\n",
        "\n",
        "d = [0]*100\n",
        "\n",
        "d[0] = array[0]\n",
        "d[1] = max(array[0],array[1])\n",
        "for i in range(2,n):\n",
        "    d[i] = max(d[i-1],d[i-2]+array[i])\n",
        "\n",
        "print(d[n-1])"
      ],
      "execution_count": null,
      "outputs": [
        {
          "output_type": "stream",
          "text": [
            "5\n",
            "1 5 10 2 1\n",
            "12\n"
          ],
          "name": "stdout"
        }
      ]
    },
    {
      "cell_type": "code",
      "metadata": {
        "id": "JCgxnhVOlBht"
      },
      "source": [
        ""
      ],
      "execution_count": null,
      "outputs": []
    }
  ]
}