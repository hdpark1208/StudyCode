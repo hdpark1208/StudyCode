{
  "nbformat": 4,
  "nbformat_minor": 0,
  "metadata": {
    "colab": {
      "name": "DFS&BFS.ipynb",
      "provenance": [],
      "collapsed_sections": [
        "xElUQS0VSPjQ"
      ],
      "authorship_tag": "ABX9TyOuRJGFFmqpLzPASBF6IStO",
      "include_colab_link": true
    },
    "kernelspec": {
      "name": "python3",
      "display_name": "Python 3"
    },
    "language_info": {
      "name": "python"
    }
  },
  "cells": [
    {
      "cell_type": "markdown",
      "metadata": {
        "id": "view-in-github",
        "colab_type": "text"
      },
      "source": [
        "<a href=\"https://colab.research.google.com/github/hdpark1208/StudyCode/blob/main/Algorithm/DFS%26BFS.ipynb\" target=\"_parent\"><img src=\"https://colab.research.google.com/assets/colab-badge.svg\" alt=\"Open In Colab\"/></a>"
      ]
    },
    {
      "cell_type": "markdown",
      "metadata": {
        "id": "xElUQS0VSPjQ"
      },
      "source": [
        "## 스택\n",
        "* 먼저 들어 온 데이터가 나중에 나가는 형식(선입후출)\n",
        "* 입구와 출구가 동일한 프링글스 형태\n"
      ]
    },
    {
      "cell_type": "markdown",
      "metadata": {
        "id": "aP5E45amTGKG"
      },
      "source": [
        "stack = []\n",
        "* stack.append(n)  \n",
        "* stack.pop()\n",
        "\n",
        "print(stack([::-1])) # 최상단 원소부터 출력  \n",
        "print(stack) # 최하단 원소부터 출력"
      ]
    },
    {
      "cell_type": "markdown",
      "metadata": {
        "id": "7iLajxxlTnaA"
      },
      "source": [
        "## 큐\n",
        "* 먼저 들어 온 데이터가 먼저 나가는 형식(선입선출)\n",
        "* 입구와 출구가 뚫려 있는 터널과 같은 형태"
      ]
    },
    {
      "cell_type": "markdown",
      "metadata": {
        "id": "8SYf6k6kUD86"
      },
      "source": [
        "큐 구현 예제(Python)  \n",
        "> 스택처럼 라이브러리를 쓰지않고도 구현할 수 있지만 시간복잡도 상 이렇게 한다\n",
        "\n",
        "from collections import deque\n",
        "\n",
        "queue = deque()  \n",
        "queue.append(5)  \n",
        "queue.append(2)  \n",
        "queue.append(3)  \n",
        "queue.append(7)  \n",
        "queue.popleft()  \n",
        "queue.append(1)  \n",
        "queue.append(4)  \n",
        "queue.popleft()  \n",
        "\n",
        "print(queue)\n",
        ">deque([3, 7, 1, 4])  \n",
        "\n",
        "queue.reverse()  \n",
        "print(queue)  \n",
        ">deque([4, 1, 7, 3])\n"
      ]
    },
    {
      "cell_type": "markdown",
      "metadata": {
        "id": "QKqxza9UWh56"
      },
      "source": [
        "## 재귀함수(Recursive Function) : 자기 자신을 다시 호출하는 함수  \n",
        "* Stack Frame에 담긴다"
      ]
    },
    {
      "cell_type": "code",
      "metadata": {
        "colab": {
          "base_uri": "https://localhost:8080/"
        },
        "id": "7Yb8_meuX2e-",
        "outputId": "7e731b3e-580c-4a0f-d3e5-9d0c5cece5e0"
      },
      "source": [
        "array = []\n",
        "def recursive_function(i):    \n",
        "    if i==10:\n",
        "        return\n",
        "    print(i,'번 째 재귀함수에서',i+1,'번 째 재귀함수를 호출합니다')\n",
        "    recursive_function(i+1)\n",
        "    array.append(1)    \n",
        "    print(i,'번 째 재귀함수를 종료합니다')    \n",
        "    \n",
        "\n",
        "recursive_function(1)\n",
        "array"
      ],
      "execution_count": null,
      "outputs": [
        {
          "output_type": "stream",
          "text": [
            "1 번 째 재귀함수에서 2 번 째 재귀함수를 호출합니다\n",
            "2 번 째 재귀함수에서 3 번 째 재귀함수를 호출합니다\n",
            "3 번 째 재귀함수에서 4 번 째 재귀함수를 호출합니다\n",
            "4 번 째 재귀함수에서 5 번 째 재귀함수를 호출합니다\n",
            "5 번 째 재귀함수에서 6 번 째 재귀함수를 호출합니다\n",
            "6 번 째 재귀함수에서 7 번 째 재귀함수를 호출합니다\n",
            "7 번 째 재귀함수에서 8 번 째 재귀함수를 호출합니다\n",
            "8 번 째 재귀함수에서 9 번 째 재귀함수를 호출합니다\n",
            "9 번 째 재귀함수에서 10 번 째 재귀함수를 호출합니다\n",
            "9 번 째 재귀함수를 종료합니다\n",
            "8 번 째 재귀함수를 종료합니다\n",
            "7 번 째 재귀함수를 종료합니다\n",
            "6 번 째 재귀함수를 종료합니다\n",
            "5 번 째 재귀함수를 종료합니다\n",
            "4 번 째 재귀함수를 종료합니다\n",
            "3 번 째 재귀함수를 종료합니다\n",
            "2 번 째 재귀함수를 종료합니다\n",
            "1 번 째 재귀함수를 종료합니다\n"
          ],
          "name": "stdout"
        },
        {
          "output_type": "execute_result",
          "data": {
            "text/plain": [
              "[1, 1, 1, 1, 1, 1, 1, 1, 1]"
            ]
          },
          "metadata": {
            "tags": []
          },
          "execution_count": 11
        }
      ]
    },
    {
      "cell_type": "markdown",
      "metadata": {
        "id": "dMemRCeRSLAG"
      },
      "source": [
        "## DFS (Depth-First Search)\n",
        "> 깊이 우선 탐색이라고도 부르며 그래프에서 깊은 부분을 우선적으로 탐색하는 알고리즘  \n",
        "\n",
        "* 스택 자료구조(혹은 재귀함수)를 이용\n",
        "1. 탐색 시작 노드를 스택에 삽입하고 방문 처리를 한다\n",
        "2. 스택의 최상단 노드에 방문하지 않은 인접한 노드가 하나라도 있으면 그 노드를 스택에 넣고 방문 처리하고  \n",
        "방문하지 않은 인접 노드가 없으면 스택에서 최상단 노드를 꺼낸다\n",
        "3. 더 이상 2번의 과정을 수행할 수 없을 때까지 반복한다"
      ]
    },
    {
      "cell_type": "code",
      "metadata": {
        "id": "FD8ZuL9LYsw8"
      },
      "source": [
        "def dfs(graph, v, visited):\n",
        "    # 현재 노드를 방문 처리\n",
        "    visited[v] = True\n",
        "    print(v, end=' ') # 줄 바꿈 없이 공백 처리\n",
        "    # 현재 노드와 연결된 다른 노드를 재귀적으로 방문\n",
        "    for i in graph[v]: # i 는 v 번 노드와 연결되어 있는 노드, 즉 graph[v] 는 v 노드와 연결된 노드 리스트를 뜻함\n",
        "        if not visited[i]: # i 노드가 방문된 적 없으면\n",
        "            dfs(graph, i, visited) # i 에 대해 dfs 재귀 처리"
      ],
      "execution_count": 20,
      "outputs": []
    },
    {
      "cell_type": "code",
      "metadata": {
        "colab": {
          "base_uri": "https://localhost:8080/"
        },
        "id": "XFuS_lefXz27",
        "outputId": "73a5b4ee-62f9-43a9-e731-cd5a54ab7868"
      },
      "source": [
        "# 각 노드가 연결된 정보를 표현 (2차원 리스트)\n",
        "graph = [\n",
        "         [], # 0번 비워둠\n",
        "         [2,3,8], # 1번 노드와 연결된 노드 번호\n",
        "         [1,7],   # 2번 ...\n",
        "         [1,4,5], # 3번 ...\n",
        "         [3,5],\n",
        "         [3,4],\n",
        "         [7],\n",
        "         [2,6,8],\n",
        "         [1,7]\n",
        "]\n",
        "\n",
        "# 각 노드가 방문된 정보를 표현 (1차원 리스트)\n",
        "visited = [False] * 9\n",
        "\n",
        "# 정의된 DFS 함수 호출\n",
        "print(dfs(graph,1,visited))\n",
        "visited = [False] * 9\n",
        "print(dfs(graph,2,visited))\n"
      ],
      "execution_count": 21,
      "outputs": [
        {
          "output_type": "stream",
          "text": [
            "1 2 7 6 8 3 4 5 None\n",
            "2 1 3 4 5 8 7 6 None\n"
          ],
          "name": "stdout"
        }
      ]
    },
    {
      "cell_type": "markdown",
      "metadata": {
        "id": "jUon7z0UDr-4"
      },
      "source": [
        "## BFS (Bread-Fist Search)\n",
        "> 너비 우선 탐색이라고도 부르며 그래프에서 가까운 노드부터  우선적으로 탐색하는 알고리즘\n",
        "\n",
        "* 큐 자료구조를 이용\n",
        "1. 탐색 시작 노드를 큐에 삽입하고 방문 처리를 한다\n",
        "2. 큐에서 노드를 꺼낸 뒤 해당 노드의 인접 노드 중에서 방문하지 않은 노드를 모두 큐에 삽입하고 방문 처리한다\n",
        "3. 더 이상 2번의 과정을 수행할 수 없을 때까지 반복한다"
      ]
    },
    {
      "cell_type": "code",
      "metadata": {
        "id": "BLOa6xVPDr-5"
      },
      "source": [
        "from collections import deque \n",
        "def bfs(graph, start, visited):\n",
        "    # 큐 구현을 위해 deque 라이브러리 사용\n",
        "    queue = deque([start]) # deque 의 파라미터는 iterable 이여야하므로 시작 노드를 리스트 형태로 준다\n",
        "    # 현재 노드를 방문 처리\n",
        "    visited[start] = True\n",
        "    while queue: # 큐가 빌 떄 까지 반복\n",
        "        v = queue.popleft() # 먼저 들어온 노드를 빼면서 변수에 저장\n",
        "        print(v,end = ' ')\n",
        "        for i in graph[v]:\n",
        "            if not visited[i]:\n",
        "                queue.append(i) # 아직 방문 안한 노드를 큐에 추가\n",
        "                visited[i] = True"
      ],
      "execution_count": 2,
      "outputs": []
    },
    {
      "cell_type": "code",
      "metadata": {
        "colab": {
          "base_uri": "https://localhost:8080/"
        },
        "id": "Xo_KZ2YvHaF7",
        "outputId": "ee750cc4-27c1-4f1b-fff3-d7ae9366874c"
      },
      "source": [
        "test = deque([1])\n",
        "test.append(2)\n",
        "test.append(3)\n",
        "test\n"
      ],
      "execution_count": 17,
      "outputs": [
        {
          "output_type": "execute_result",
          "data": {
            "text/plain": [
              "deque([1, 2, 3])"
            ]
          },
          "metadata": {
            "tags": []
          },
          "execution_count": 17
        }
      ]
    },
    {
      "cell_type": "code",
      "metadata": {
        "colab": {
          "base_uri": "https://localhost:8080/"
        },
        "id": "RnyTiQW3FsA1",
        "outputId": "4bf6c991-efba-4558-ea7d-a93085224dd1"
      },
      "source": [
        "# 각 노드가 연결된 정보를 표현 (2차원 리스트)\n",
        "graph = [\n",
        "         [], # 0번 비워둠\n",
        "         [2,3,8], # 1번 노드와 연결된 노드 번호\n",
        "         [1,7],   # 2번 ...\n",
        "         [1,4,5], # 3번 ...\n",
        "         [3,5],\n",
        "         [3,4],\n",
        "         [7],\n",
        "         [2,6,8],\n",
        "         [1,7]\n",
        "]\n",
        "\n",
        "# 각 노드가 방문된 정보를 표현 (1차원 리스트)\n",
        "visited = [False] * 9\n",
        "\n",
        "# 정의된 DFS 함수 호출\n",
        "print(bfs(graph,1,visited))\n",
        "visited = [False] * 9\n",
        "print(bfs(graph,2,visited))\n"
      ],
      "execution_count": 19,
      "outputs": [
        {
          "output_type": "stream",
          "text": [
            "1 2 3 8 7 4 5 6 None\n",
            "2 1 7 3 8 6 4 5 None\n"
          ],
          "name": "stdout"
        }
      ]
    },
    {
      "cell_type": "markdown",
      "metadata": {
        "id": "SVAVT9rNkDbt"
      },
      "source": [
        "## {음료수 얼려 먹기}\n",
        "* 입력 조건\n",
        "> 첫 번째 줄에 얼음 틀의 세로 길이 N, 가로 길이 M이 주어진다  \n",
        "두 번째 줄부터 N+1 번째 줄까지 얼음 틀의 형태가 주어진다  \n",
        "구멍이 뚫려있는 부분은 0, 칸막이가 있는 부분은 1\n",
        "* 출력 조건\n",
        "> 한 번에 만들 수 있는 아이스크림의 개수를 출력 (구멍으로 인해 이어지는 아이스크림을 하나로 본다)\n"
      ]
    },
    {
      "cell_type": "markdown",
      "metadata": {
        "id": "ictarVZ_k2Qn"
      },
      "source": [
        "* 미 방문상태이고 0 인 노드를 발견했을 시 개수를 1 올리고 방문 확인을 한 후 그 위치에서 상,하,좌,우에 0을 발견하면 그 노드에도 방문 확인을 한다\n",
        "* 연결된 모든 지점을 방문..."
      ]
    },
    {
      "cell_type": "markdown",
      "metadata": {
        "id": "gOTp81WJlZJC"
      },
      "source": [
        "### 내 풀이"
      ]
    },
    {
      "cell_type": "code",
      "metadata": {
        "id": "JGOKbhcamTzp"
      },
      "source": [
        "# 풀이\n",
        "\n",
        "# N,M = map(int,input().split())\n",
        "# graph = [[]]\n",
        "# for i in range(N):\n",
        "#     for j in range(M):\n",
        "#         graph[i][j] = int(input())"
      ],
      "execution_count": 36,
      "outputs": []
    },
    {
      "cell_type": "markdown",
      "metadata": {
        "id": "Jt7ynLKDlY9I"
      },
      "source": [
        "### 모범 답안 및 배울 점"
      ]
    },
    {
      "cell_type": "code",
      "metadata": {
        "colab": {
          "base_uri": "https://localhost:8080/"
        },
        "id": "LSNykSe8SVV_",
        "outputId": "09555acd-d278-4261-ae31-586eb0776704"
      },
      "source": [
        "test = []\n",
        "test.append(1)\n",
        "test.append(2)\n",
        "test.append(3)\n",
        "print(test)\n",
        "test2 = []\n",
        "test2.append([1])\n",
        "test2.append([2])\n",
        "test2.append([3])\n",
        "print(test2)\n",
        "test3 = []\n",
        "test3.append(list(map(int,input())))\n",
        "test3\n"
      ],
      "execution_count": 33,
      "outputs": [
        {
          "output_type": "stream",
          "text": [
            "[1, 2, 3]\n",
            "[[1], [2], [3]]\n",
            "123\n"
          ],
          "name": "stdout"
        },
        {
          "output_type": "execute_result",
          "data": {
            "text/plain": [
              "[[1, 2, 3]]"
            ]
          },
          "metadata": {
            "tags": []
          },
          "execution_count": 33
        }
      ]
    },
    {
      "cell_type": "code",
      "metadata": {
        "id": "VJIQ1a9mmVYl",
        "colab": {
          "base_uri": "https://localhost:8080/"
        },
        "outputId": "bc0bac34-66f9-4fc9-8c58-4bf66c215597"
      },
      "source": [
        "# 풀이\n",
        "def dfs(x,y):\n",
        "    if x <= -1 or x >= n or y <= -1 or y >= m: # 주어진 범위 벗어나면 종료\n",
        "        return False\n",
        "    if graph[x][y]==0:\n",
        "        graph[x][y] = 1 # 해당 노드 방문 처리\n",
        "        dfs(x,y+1) # 상, 하, 좌, 우 재귀적으로 호출\n",
        "        dfs(x,y-1) \n",
        "        dfs(x-1,y) \n",
        "        dfs(x+1,y)\n",
        "        return True\n",
        "    return False \n",
        "\n",
        "n, m = map(int,input().split())\n",
        "graph = []\n",
        "for i in range(n):\n",
        "    graph.append(list(map(int,input()))) # 공백없이 1 ~ m 열의 값을 넣는 것임\n",
        "    \n",
        "result = 0\n",
        "for i in range(n):\n",
        "    for j in range(m):\n",
        "        if dfs(i,j) == True: # 처음 방문한 덩어리에 대해서만 +1 할 수 있도록\n",
        "            result += 1\n",
        "print(result)"
      ],
      "execution_count": 35,
      "outputs": [
        {
          "output_type": "stream",
          "text": [
            "2 3\n",
            "110\n",
            "010\n",
            "2\n"
          ],
          "name": "stdout"
        }
      ]
    },
    {
      "cell_type": "markdown",
      "metadata": {
        "id": "ljUe_1pDlr_k"
      },
      "source": [
        "* 파이썬 실력이 너무 부족함...\n",
        "* 방문 처리가 관건\n"
      ]
    },
    {
      "cell_type": "markdown",
      "metadata": {
        "id": "Nsci9ZT1Wlrl"
      },
      "source": [
        "## {미로 탈출}\n",
        "* 입력 조건\n",
        "> 첫째 줄에 두 정수 N,M(4<=N, M<=200)이 주어진다  \n",
        "다음 N개의 줄에는 각각 M개의 정수 ( 0(괴물) 혹은 1 ) 로 미로의 정보가 주어진다  \n",
        "각각의 수들은 공백 없이 붙어서 입력으로 제시.  \n",
        "시작 칸과 마지막 칸은 항상 1\n",
        "* 출력 조건\n",
        "> 첫째 줄에 최소 이동 칸의 개수를 출력\n"
      ]
    },
    {
      "cell_type": "markdown",
      "metadata": {
        "id": "z1U0SGFvWlrs"
      },
      "source": [
        "* 오른쪽 혹은 아래로 이동 이 아님!\n",
        "* 모든 방향으로 움직여보면서 최종 N,M 위치 까지 도달할 수 있는 경로의 원소를 개수를 저장해서 그 중 최소값을 구한다?\n",
        "* 움직일 때 마다 +1 ?\n"
      ]
    },
    {
      "cell_type": "markdown",
      "metadata": {
        "id": "dDn855sEWlrs"
      },
      "source": [
        "### 내 풀이"
      ]
    },
    {
      "cell_type": "code",
      "metadata": {
        "colab": {
          "base_uri": "https://localhost:8080/",
          "height": 262
        },
        "id": "VeYL5KFrWlrs",
        "outputId": "18baecc0-9559-44b4-b370-12f96ec2b5c9"
      },
      "source": [
        "# 풀이 못하긋다\n",
        "from collections import deque\n",
        "\n",
        "n,m = map(int,(input().split()))\n",
        "graph = []\n",
        "for i in range(n):\n",
        "    graph.append(list(map(int,input())))\n",
        "\n",
        "move = [(-1,0),(1,0),(0,-1),(0,1)] # 살짝 바꿔봄\n",
        "\n",
        "def bfs(x,y):\n",
        "    queue = deque()\n",
        "    queue.append((x,y)) # 튜플로 좌표 입력\n",
        "    while queue:\n",
        "        x,y=queue.popleft()\n",
        "        for i in move:\n",
        "            nx = x + i[0]\n",
        "            ny = y + i[1]\n",
        "            \n",
        "            if nx < 0 or nx > n-1 or ny < 0 or ny > m-1: # 범위 벗어날 경우 무시\n",
        "                continue\n",
        "            if graph[nx][ny] ==0: # 괴물이 있을 경우 무시\n",
        "                continue\n",
        "            if graph[nx][ny] ==1:\n",
        "                graph[nx][ny] = graph[x][y] + 1\n",
        "                queue.append((nx,ny))\n",
        "    return graph[n-1][m-1]\n",
        "\n",
        "print(bfs(0,0))\n"
      ],
      "execution_count": null,
      "outputs": [
        {
          "output_type": "stream",
          "text": [
            "2 3\n",
            "1\n"
          ],
          "name": "stdout"
        },
        {
          "output_type": "error",
          "ename": "IndexError",
          "evalue": "ignored",
          "traceback": [
            "\u001b[0;31m---------------------------------------------------------------------------\u001b[0m",
            "\u001b[0;31mIndexError\u001b[0m                                Traceback (most recent call last)",
            "\u001b[0;32m<ipython-input-23-e448c463c369>\u001b[0m in \u001b[0;36m<module>\u001b[0;34m()\u001b[0m\n\u001b[1;32m      4\u001b[0m \u001b[0;32mfor\u001b[0m \u001b[0mi\u001b[0m \u001b[0;32min\u001b[0m \u001b[0mrange\u001b[0m\u001b[0;34m(\u001b[0m\u001b[0mN\u001b[0m\u001b[0;34m)\u001b[0m\u001b[0;34m:\u001b[0m\u001b[0;34m\u001b[0m\u001b[0;34m\u001b[0m\u001b[0m\n\u001b[1;32m      5\u001b[0m     \u001b[0;32mfor\u001b[0m \u001b[0mj\u001b[0m \u001b[0;32min\u001b[0m \u001b[0mrange\u001b[0m\u001b[0;34m(\u001b[0m\u001b[0mM\u001b[0m\u001b[0;34m)\u001b[0m\u001b[0;34m:\u001b[0m\u001b[0;34m\u001b[0m\u001b[0;34m\u001b[0m\u001b[0m\n\u001b[0;32m----> 6\u001b[0;31m         \u001b[0mgraph\u001b[0m\u001b[0;34m[\u001b[0m\u001b[0mi\u001b[0m\u001b[0;34m]\u001b[0m\u001b[0;34m[\u001b[0m\u001b[0mj\u001b[0m\u001b[0;34m]\u001b[0m \u001b[0;34m=\u001b[0m \u001b[0mint\u001b[0m\u001b[0;34m(\u001b[0m\u001b[0minput\u001b[0m\u001b[0;34m(\u001b[0m\u001b[0;34m)\u001b[0m\u001b[0;34m)\u001b[0m\u001b[0;34m\u001b[0m\u001b[0;34m\u001b[0m\u001b[0m\n\u001b[0m\u001b[1;32m      7\u001b[0m \u001b[0mgraph\u001b[0m\u001b[0;34m\u001b[0m\u001b[0;34m\u001b[0m\u001b[0m\n",
            "\u001b[0;31mIndexError\u001b[0m: list assignment index out of range"
          ]
        }
      ]
    },
    {
      "cell_type": "markdown",
      "metadata": {
        "id": "FkdfDyYEWlrt"
      },
      "source": [
        "### 모범 답안 및 배울 점"
      ]
    },
    {
      "cell_type": "code",
      "metadata": {
        "colab": {
          "base_uri": "https://localhost:8080/"
        },
        "id": "kMVz5q3iWlrt",
        "outputId": "5c3518f1-7cbe-4d23-dc36-91f01bfe85a3"
      },
      "source": [
        "# 풀이\n",
        "from collections import deque\n",
        "\n",
        "n,m = map(int,(input().split()))\n",
        "graph = []\n",
        "for i in range(n):\n",
        "    graph.append(list(map(int,input())))\n",
        "\n",
        "# dx = [-1,1,0,0] # (dx,dy) => 좌, 우, 하, 상\n",
        "# dy = [0,0,-1,1]\n",
        "\n",
        "move = [(-1,0),(1,0),(0,-1),(0,1)] # 살짝 바꿔봄\n",
        "\n",
        "def bfs(x,y):\n",
        "    queue = deque()\n",
        "    queue.append((x,y)) # 튜플로 좌표 입력\n",
        "    while queue:\n",
        "        x,y=queue.popleft()\n",
        "        for i in move:\n",
        "            nx = x + i[0]\n",
        "            ny = y + i[1]\n",
        "            \n",
        "            if nx < 0 or nx > n-1 or ny < 0 or ny > m-1: # 범위 벗어날 경우 무시\n",
        "                continue\n",
        "            if graph[nx][ny] ==0: # 괴물이 있을 경우 무시\n",
        "                continue\n",
        "            if graph[nx][ny] ==1: # 이동이 가능한 경우\n",
        "                graph[nx][ny] = graph[x][y] + 1 # 그 지점 까지의 거리를 저장 (+1)\n",
        "                queue.append((nx,ny)) # 큐에 좌표 저장\n",
        "    return graph[n-1][m-1] # 최종 지점의 거리 \n",
        "\n",
        "print(bfs(0,0))"
      ],
      "execution_count": 39,
      "outputs": [
        {
          "output_type": "stream",
          "text": [
            "5 5\n",
            "11111\n",
            "10001\n",
            "10111\n",
            "10100\n",
            "11111\n",
            "9\n"
          ],
          "name": "stdout"
        }
      ]
    },
    {
      "cell_type": "markdown",
      "metadata": {
        "id": "qHLzagw4Wlrt"
      },
      "source": [
        "* 여러 경로가 나오도록 해보아도 BFS 이므로 늘 최단 거리가 구해졌다  \n",
        "* 이제야 왜 DFS, BFS 문제인지 이걸 통해서 해결할수있다는 건지 감이 온다\n"
      ]
    },
    {
      "cell_type": "code",
      "metadata": {
        "id": "bH3uBVflTKBL"
      },
      "source": [
        ""
      ],
      "execution_count": null,
      "outputs": []
    }
  ]
}