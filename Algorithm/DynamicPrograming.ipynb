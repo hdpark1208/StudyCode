{
  "nbformat": 4,
  "nbformat_minor": 0,
  "metadata": {
    "colab": {
      "name": "DynamicPrograming.ipynb",
      "provenance": [],
      "collapsed_sections": [],
      "authorship_tag": "ABX9TyPetAoN9UQwUbozay5qEFzi",
      "include_colab_link": true
    },
    "kernelspec": {
      "name": "python3",
      "display_name": "Python 3"
    },
    "language_info": {
      "name": "python"
    }
  },
  "cells": [
    {
      "cell_type": "markdown",
      "metadata": {
        "id": "view-in-github",
        "colab_type": "text"
      },
      "source": [
        "<a href=\"https://colab.research.google.com/github/hdpark1208/StudyCode/blob/main/Algorithm/DynamicPrograming.ipynb\" target=\"_parent\"><img src=\"https://colab.research.google.com/assets/colab-badge.svg\" alt=\"Open In Colab\"/></a>"
      ]
    },
    {
      "cell_type": "markdown",
      "metadata": {
        "id": "IEV6ZRp28eV8"
      },
      "source": [
        "## 다이나믹 프로그래밍의 사용 조건\n",
        "* 최적 부분 구조 : 큰 문제를 작은 문제로 나눌 수 있다  \n",
        "* 중복되는 부분 문제 : 동일한 작은 문제를 반복적으로 해결한다  "
      ]
    },
    {
      "cell_type": "markdown",
      "metadata": {
        "id": "n-qLocqJ9zlk"
      },
      "source": [
        "* 다이나믹 프로그래밍의 구현 방법은 크게 탑다운 방식과 보텀업 방식으로 나뉜다. 하향식, 상향식 이라고도 한다  \n",
        "* 전형적인 형태는 보텀업 방식이다"
      ]
    },
    {
      "cell_type": "markdown",
      "metadata": {
        "id": "cg47zj_P8uDi"
      },
      "source": [
        "### Memoization\n",
        "> 다이나믹 프로그래밍을 구현하는 방법 중 하나  \n",
        "> 넓은 의미로 '이전에 계산된 결과를 일시적으로 기록해놓는 개념'\n",
        "\n",
        "* 한 번 계산한 결과를 메모리 공간에 메모하는 기법\n",
        "- 같은 문제를 다시 호출하면 메모했던 결과를 그대로 가져온다\n",
        "- 값을 기록해 놓는다는 점에서 Caching이라고도 한다\n",
        "- 결과 저장용 리스트는 DP 테이블 이라고 부른다"
      ]
    },
    {
      "cell_type": "markdown",
      "metadata": {
        "id": "kLuXOukv8LTP"
      },
      "source": [
        "## 피보나치 수열을 통한 다이나믹 프로그래밍의 이해"
      ]
    },
    {
      "cell_type": "code",
      "metadata": {
        "colab": {
          "base_uri": "https://localhost:8080/"
        },
        "id": "l1U6ihXP4eAa",
        "outputId": "55959e8a-baac-4225-9c2e-ee51718f0942"
      },
      "source": [
        "# 그냥 구현\n",
        "def fibo(x):\n",
        "    if x==1 or x==2:\n",
        "        return 1\n",
        "    return fibo(x-1) + fibo(x-2)\n",
        "\n",
        "print(fibo(5))"
      ],
      "execution_count": null,
      "outputs": [
        {
          "output_type": "stream",
          "text": [
            "5\n"
          ],
          "name": "stdout"
        }
      ]
    },
    {
      "cell_type": "code",
      "metadata": {
        "colab": {
          "base_uri": "https://localhost:8080/"
        },
        "id": "KB7ygQlU6_PT",
        "outputId": "f1b17dc9-4377-4d56-dac8-0e425bd73942"
      },
      "source": [
        "# 탑다운 다이나믹 프로그래밍 # 재귀\n",
        "\n",
        "d = [0]* 100 # 한 번 계산된 결과를 메모이제이션 하기 위한 리스트 초기화\n",
        "\n",
        "def fibo(x):\n",
        "    print('f('+str(x)+')',end=' ') # 동작 확인\n",
        "    if x==1 or x==2:\n",
        "        return 1\n",
        "    if d[x] != 0: # 이미 계산한 적 있는 문제라면 그대로 반환\n",
        "        return d[x]\n",
        "    \n",
        "    d[x] = fibo(x-1) + fibo(x-2)\n",
        "    return d[x]\n",
        "\n",
        "print(fibo(10))\n",
        "print(d)\n"
      ],
      "execution_count": null,
      "outputs": [
        {
          "output_type": "stream",
          "text": [
            "f(10) f(9) f(8) f(7) f(6) f(5) f(4) f(3) f(2) f(1) f(2) f(3) f(4) f(5) f(6) f(7) f(8) 55\n",
            "[0, 0, 0, 2, 3, 5, 8, 13, 21, 34, 55, 0, 0, 0, 0, 0, 0, 0, 0, 0, 0, 0, 0, 0, 0, 0, 0, 0, 0, 0, 0, 0, 0, 0, 0, 0, 0, 0, 0, 0, 0, 0, 0, 0, 0, 0, 0, 0, 0, 0, 0, 0, 0, 0, 0, 0, 0, 0, 0, 0, 0, 0, 0, 0, 0, 0, 0, 0, 0, 0, 0, 0, 0, 0, 0, 0, 0, 0, 0, 0, 0, 0, 0, 0, 0, 0, 0, 0, 0, 0, 0, 0, 0, 0, 0, 0, 0, 0, 0, 0]\n"
          ],
          "name": "stdout"
        }
      ]
    },
    {
      "cell_type": "code",
      "metadata": {
        "colab": {
          "base_uri": "https://localhost:8080/"
        },
        "id": "2Q0heyBsRmWg",
        "outputId": "ceb6f0c1-46f0-466e-a508-75603ab9c4a8"
      },
      "source": [
        "# 보텀업 다이나믹 프로그래밍 # 반복문\n",
        "d = [0]*100\n",
        "d[1] = 1\n",
        "d[2] = 1\n",
        "n = 50\n",
        "\n",
        "for i in range(3,n+1):\n",
        "    d[i]=d[i-1]+d[i-2]\n",
        "\n",
        "print(d[n])"
      ],
      "execution_count": null,
      "outputs": [
        {
          "output_type": "stream",
          "text": [
            "12586269025\n"
          ],
          "name": "stdout"
        }
      ]
    },
    {
      "cell_type": "markdown",
      "metadata": {
        "id": "jUya45TnE97h"
      },
      "source": [
        "<문제> 개미 전사  \n",
        "입력 조건 :  \n",
        "첫째 줄에 식량창고의 개수 N이 주어진다  \n",
        "둘째 줄에 공백을 기준으로 각 식량창고에 저장된 식량의 개수 K가 주어진다  \n",
        "\n",
        "출력 조건 :  \n",
        "첫째 줄에 개미 전사가 얻을 수 있는 식량의 최댓값을 출력하세요  \n",
        "\n",
        "입력 예시 :  \n",
        "4  \n",
        "1 3 1 5  \n",
        "\n",
        "출력 예시 :  \n",
        "8"
      ]
    },
    {
      "cell_type": "markdown",
      "metadata": {
        "id": "CpqUDJpUFhWK"
      },
      "source": [
        "* a_i = i 번째 식량창고까지의 최적의 해(얻을 수 있는 식량의 최댓값)  \n",
        "* k_i = i 번째 식량차고에 있는 식량의 양  \n",
        "* a_i = max(a_i-1, a_i-2+k_i)  \n",
        "* 한 칸 이상 떨어진 식량창고는 항상 털 수 있으므로 (i-3)번째 이하는 고려할 필요 없다"
      ]
    },
    {
      "cell_type": "code",
      "metadata": {
        "id": "jwG9wp8yUWJA",
        "colab": {
          "base_uri": "https://localhost:8080/"
        },
        "outputId": "f4f85884-6d86-4b65-c255-ede29d1beb97"
      },
      "source": [
        "n = int(input())\n",
        "array = list(map(int,input().split()))\n",
        "d = [0] * 100\n",
        "\n",
        "d[0] = array[0]\n",
        "d[1] = max(array[0],array[1])\n",
        "for i in range(2,n):\n",
        "    d[i]=max(d[i-1],d[i-2]+array[i])\n",
        "\n",
        "print(d[n-1])"
      ],
      "execution_count": null,
      "outputs": [
        {
          "output_type": "stream",
          "text": [
            "10\n",
            "1 5 5 2 4 10 6 4 2 6\n",
            "27\n"
          ],
          "name": "stdout"
        }
      ]
    },
    {
      "cell_type": "markdown",
      "metadata": {
        "id": "MJg40tN2HsKJ"
      },
      "source": [
        "<문제> 1로 만들기  \n",
        "정수 X가 주어졌을 때, 정수 X에 사용할 수 있는 연산은 다음과 같이 4가지이다  \n",
        "1. X가 5로 나누어 떨어지면, 5로 나눈다.  \n",
        "2. X가 3로 나누어 떨어지면, 5로 나눈다.  \n",
        "3. X가 2로 나누어 떨어지면, 5로 나눈다.  \n",
        "4. X에서 1을 뺀다.  \n",
        "\n",
        "정수 X가 주어졌을 때, 연산 4개를 적절히 사용해서 값을 1로 만든다. 이때 연산을 사용하는 횟수의 최솟값을 출력하라  \n",
        "\n",
        "입력 조건 :    \n",
        "첫째 줄에 정수 X가 주어진다  \n",
        "\n",
        "출력 조건 :  \n",
        "첫째 줄에 연산을 하는 횟수의 최솟값을 출력한다  \n",
        "\n",
        "입력 예시 :  \n",
        "26  \n",
        "\n",
        "출력 예시 :  \n",
        "3\n"
      ]
    },
    {
      "cell_type": "markdown",
      "metadata": {
        "id": "La4IcjMnIh7B"
      },
      "source": [
        "* a_i = i를 1로 만들기 위한 최소 연산 횟수\n",
        "* a_i = min(a_i-1,a_i/2,a_i/3,a_i/5) + 1 \n",
        "* 1을 빼는 연산을 제외하고는 해당 수로 나누어떨어질 때에 한해서만 점화식을 적용할 수 있다"
      ]
    },
    {
      "cell_type": "code",
      "metadata": {
        "colab": {
          "base_uri": "https://localhost:8080/"
        },
        "id": "qbm2byqNG76e",
        "outputId": "b44af726-ca1c-4e2e-afda-0474f2e1667c"
      },
      "source": [
        "x = int(input())\n",
        "\n",
        "d = [0]* 30001 # 최적의 해를 저장하는 리스트\n",
        "\n",
        "for i in range(2,x+1):\n",
        "    d[i] = d[i-1] + 1 # 현재의 수에서 1을 빼는 경우\n",
        "    \n",
        "    if i % 2 ==0: # 2로 나누어 떨어지면\n",
        "        # 현재의 d[i] 값과 d[i//2]에서 2를 나누는 연산을 수행한 횟수 (+1) 를 비교해서 작은 수 를 d[i] 값으로 초기화\n",
        "        d[i] = min(d[i],d[i//2]+1) \n",
        "    if i % 3 ==0:\n",
        "        d[i] = min(d[i],d[i//3]+1)\n",
        "    if i % 5 ==0:\n",
        "        d[i] = min(d[i],d[i//5]+1)\n",
        "print(d[x])\n",
        "        "
      ],
      "execution_count": null,
      "outputs": [
        {
          "output_type": "stream",
          "text": [
            "111\n",
            "6\n"
          ],
          "name": "stdout"
        }
      ]
    },
    {
      "cell_type": "markdown",
      "metadata": {
        "id": "t3KpIBZPLe9S"
      },
      "source": [
        "<문제> 효율적인 화폐 구성  \n",
        "입력 조건 :  \n",
        "첫째 줄에 N,M이 주어진다 (N : 화폐의 종류 수, M 금액, N <=100, M<= 10000)\n",
        "이후 N개의 줄에 각 화폐의 가치가 주어진다  \n",
        "\n",
        "출력 조건 :  \n",
        "첫째 줄에 최소 화폐 '개수' 를 출력한다  \n",
        "불가능 할 때는  \n",
        "\n",
        "입력 예시 :  \n",
        "2 15  \n",
        "2  \n",
        "3  \n",
        "\n",
        "출력 예시 :  \n",
        "5"
      ]
    },
    {
      "cell_type": "markdown",
      "metadata": {
        "id": "jEHVCBO0McZK"
      },
      "source": [
        "* a_i = 금액 i를 만들 수 있는 최소한의 화폐 개수\n",
        "* k = 각 화폐의 단위  \n",
        "* a_i-k 를 만드는 방법이 존재하는 경우, a_i = min(a_i,a_i-k+1)  \n",
        "* a_i-k를 만드는 방법이 존재하지 않는 경우, a_i = INF"
      ]
    },
    {
      "cell_type": "code",
      "metadata": {
        "id": "PfwkIOXVLG0R"
      },
      "source": [
        "n,m = map(int,input().spilt())\n",
        "array = [] # n개의 화폐 단위 정보 저장\n",
        "for i in range(n):\n",
        "    array, append(int(input()))\n",
        "\n",
        "# 계산된 결과를 저장할 DP 테이블 초기화\n",
        "d = [10001]*(m+1) # m의 최댓값이 10000 이므로 10001를 INF 값으로 설정\n",
        "\n",
        "d[0] = 0\n",
        "for i in range(n):\n",
        "    for i in range(array[i],m+1): # array[i] : 화폐 단위\n",
        "        if d[j-array[i]] != 10001: # d[j] 의 값은 d[j-array[i]] 에서 array[i] 만큼 (+1) 혹은 자기 자신\n",
        "            d[j] = min(d[j],d[j-array[i]]+1) \n",
        "\n",
        "if d[m]==10001: # array[i] 들의 조합으로도 m을 만들지 못하는 경우\n",
        "    print(-1)\n",
        "else:\n",
        "    print(d[m])"
      ],
      "execution_count": null,
      "outputs": []
    },
    {
      "cell_type": "markdown",
      "metadata": {
        "id": "N9WMdyQsXjqg"
      },
      "source": [
        "<문제> 금광  \n",
        "입력 조건 :  \n",
        "첫째 줄에 테스트 케이스 T가 입력됩니다  \n",
        "매 테스트 케이스 첫째 줄에 n과 m이 공백으로 구분되어 입력됩니다  \n",
        "둘째 줄에 n X m 개의 위치에 매장된 금의 개수가 공백으로 구분되어 입력됩니다  \n",
        "\n",
        "출력 조건 :  \n",
        "테스트 케이스마다 채굴자가 얻을 수 있는 금의 최대 크기를 출력합니다. 각 테스트 케이스는 줄 바꿈을 이용해 구분합니다  \n",
        "\n",
        "입력 예시 :    \n",
        "2  \n",
        "3 4  \n",
        "1 3 3 2 2 1 4 1 0 6 4 7  \n",
        "4 4  \n",
        "1 3 1 5 2 2 4 1 5 0 2 3 0 6 1 2  \n",
        "\n",
        "출력 예시 :  \n",
        "19  \n",
        "16  "
      ]
    },
    {
      "cell_type": "markdown",
      "metadata": {
        "id": "a7wyAfilY_zy"
      },
      "source": [
        "* array[i][j] = i행 j열에 존재하는 금의 양  \n",
        "* dp[i][j] = i행 j열까지의 최적의 해  \n",
        "* 점화식 dp[i][j] = array[i][j] + max(dp[i-1][j-1],dp[i][j-1],dp[i+1][j-1])"
      ]
    },
    {
      "cell_type": "code",
      "metadata": {
        "id": "Q8v1aC_ZYhJ3",
        "colab": {
          "base_uri": "https://localhost:8080/"
        },
        "outputId": "94b576dd-15d4-46d3-cc36-cbdd5ad407ce"
      },
      "source": [
        "for tc in range(int(input())):\n",
        "    n,m = map(int,input().split())\n",
        "    array = list(map(int,input().split()))\n",
        "    dp = []\n",
        "    index = 0\n",
        "    for i in range(n):\n",
        "        dp.append(array[index:index + m]) # array 를 n X m 행렬 꼴로 dp에 담기 위해\n",
        "        index += m\n",
        "    for j in range(1,m): # j -> i 인 이유 : (i-1)열 > i 열 로 진행시키기 때문\n",
        "        for i in range(n):\n",
        "            if i == 0: left_up = 0 # 첫 번째 행일 경우 위가 없으므르\n",
        "            else: left_up = dp[i-1][j-1]\n",
        "            if i == n-1: left_down =0 # 마지막 행일 경우 밑이 없으므로\n",
        "            else: left_down = dp[i+1][j-1]\n",
        "            left = dp[i][j-1]\n",
        "            dp[i][j] = dp[i][j] + max(left_up,left_down,left) # (이동가능 한)직전의 열의 칸과 자신의 칸을 더한 것이 최적의 해\n",
        "    result = 0\n",
        "    for i in range(n):\n",
        "        result = max(result,dp[i][m-1]) # 각 테스트 케이스 마다 마지막 열의 값들 중 최대값\n",
        "    print(result)"
      ],
      "execution_count": null,
      "outputs": [
        {
          "output_type": "stream",
          "text": [
            "2\n",
            "3 4\n",
            "1 3 3 2 2 1 4 1 0 6 4 7\n",
            "19\n",
            "4 4\n",
            "1 3 1 5 2 2 4 1 5 0 2 3 0 6 1 2\n",
            "16\n"
          ],
          "name": "stdout"
        }
      ]
    },
    {
      "cell_type": "markdown",
      "metadata": {
        "id": "yLDJo_pTi0T6"
      },
      "source": [
        "<문제> 병사 배치하기  \n",
        "입력 조건 :  \n",
        "첫째 줄에 N이 주어집니다  \n",
        "둘째 줄에 각 병사의 전투력이 공백으로 구분되어 차례대로 주어진다  \n",
        "\n",
        "출력 조건 :  \n",
        "첫째 줄에 남아 있는 병사의 수가 최대가 되도록 하기 위해서 열외시켜야하는 병사의 수를 출력  \n",
        "\n",
        "입력 예시 :  \n",
        "7  \n",
        "15 11 4 8 5 2 4  \n",
        "\n",
        "출력 예시 :  \n",
        "2"
      ]
    },
    {
      "cell_type": "markdown",
      "metadata": {
        "id": "LdAfVMKPjW85"
      },
      "source": [
        "* LIS 문제"
      ]
    },
    {
      "cell_type": "code",
      "metadata": {
        "colab": {
          "base_uri": "https://localhost:8080/"
        },
        "id": "5w-jmJ9Nh2jD",
        "outputId": "56a64799-5929-4c31-a347-714adf394258"
      },
      "source": [
        "n = int(input())\n",
        "array = list(map(int,input().split()))\n",
        "array.reverse()\n",
        "\n",
        "dp = [1]*n\n",
        "\n",
        "for i in range(1,n):\n",
        "    for j in range(0,i):\n",
        "        if array[j] < array[i]:\n",
        "            dp[i] = max(dp[i],dp[j]+1) # i번째 까지 계속 돌면서 최대값 갱신\n",
        "\n",
        "print(n-max(dp))"
      ],
      "execution_count": null,
      "outputs": [
        {
          "output_type": "stream",
          "text": [
            "7\n",
            "15 11 4 8 5 2 4\n",
            "2\n"
          ],
          "name": "stdout"
        }
      ]
    },
    {
      "cell_type": "code",
      "metadata": {
        "id": "w3buGh6ilBvt"
      },
      "source": [
        ""
      ],
      "execution_count": null,
      "outputs": []
    }
  ]
}