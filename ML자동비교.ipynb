{
  "nbformat": 4,
  "nbformat_minor": 0,
  "metadata": {
    "colab": {
      "name": "ML자동비교.ipynb",
      "provenance": [],
      "collapsed_sections": [
        "5rTKAP4VzTAn"
      ],
      "authorship_tag": "ABX9TyOaqR6EflmJZgs5x3O49j3p",
      "include_colab_link": true
    },
    "kernelspec": {
      "name": "python3",
      "display_name": "Python 3"
    },
    "language_info": {
      "name": "python"
    }
  },
  "cells": [
    {
      "cell_type": "markdown",
      "metadata": {
        "id": "view-in-github",
        "colab_type": "text"
      },
      "source": [
        "<a href=\"https://colab.research.google.com/github/hdpark1208/StudyCode/blob/main/ML%EC%9E%90%EB%8F%99%EB%B9%84%EA%B5%90.ipynb\" target=\"_parent\"><img src=\"https://colab.research.google.com/assets/colab-badge.svg\" alt=\"Open In Colab\"/></a>"
      ]
    },
    {
      "cell_type": "markdown",
      "metadata": {
        "id": "rYqVKX3XzpER"
      },
      "source": [
        "## 라이브러리"
      ]
    },
    {
      "cell_type": "code",
      "metadata": {
        "id": "OnAk6Gywio73"
      },
      "source": [
        "import pandas as pd\n",
        "import numpy as np"
      ],
      "execution_count": 32,
      "outputs": []
    },
    {
      "cell_type": "code",
      "metadata": {
        "id": "fPG6UB9lc6b7"
      },
      "source": [
        "from sklearn.model_selection import train_test_split\n",
        "\n",
        "from sklearn.metrics import accuracy_score\n",
        "from sklearn.metrics import classification_report"
      ],
      "execution_count": 1,
      "outputs": []
    },
    {
      "cell_type": "code",
      "metadata": {
        "id": "qJWzh3A0pbkB"
      },
      "source": [
        "from sklearn.tree import DecisionTreeClassifier\n",
        "from sklearn.ensemble import RandomForestClassifier\n",
        "from sklearn import svm\n",
        "from sklearn.linear_model import SGDClassifier\n",
        "from sklearn.linear_model import LogisticRegression"
      ],
      "execution_count": 57,
      "outputs": []
    },
    {
      "cell_type": "markdown",
      "metadata": {
        "id": "X_B-CMSXzuTw"
      },
      "source": [
        "## 데이터"
      ]
    },
    {
      "cell_type": "code",
      "metadata": {
        "id": "OWXM1VD0z3Oo"
      },
      "source": [
        "from sklearn.datasets import load_digits"
      ],
      "execution_count": null,
      "outputs": []
    },
    {
      "cell_type": "code",
      "metadata": {
        "id": "gOgFmiM8zwo_"
      },
      "source": [
        "digit = load_digits()"
      ],
      "execution_count": 90,
      "outputs": []
    },
    {
      "cell_type": "code",
      "metadata": {
        "id": "-9WNnAZs0PAv"
      },
      "source": [
        "data = digit['data']\n",
        "target = digit['target']"
      ],
      "execution_count": null,
      "outputs": []
    },
    {
      "cell_type": "markdown",
      "metadata": {
        "id": "sYlSpygD0Sda"
      },
      "source": [
        "## 함수"
      ]
    },
    {
      "cell_type": "markdown",
      "metadata": {
        "id": "dShbKLJOyqLw"
      },
      "source": [
        "* 사전에 필요한 라이브러리와 데이터를 준비해야함"
      ]
    },
    {
      "cell_type": "code",
      "metadata": {
        "id": "Yj1deVoIsg9Q"
      },
      "source": [
        "def auto_comparing_ml(data,target):    #DecisionTree, RandomForest, SVM, SGD, Logistic\n",
        "  X_train, X_test, y_train, y_test = train_test_split(data,\n",
        "                                                    target,\n",
        "                                                    test_size=0.2,\n",
        "                                                    random_state=15)\n",
        "  decision_tree = DecisionTreeClassifier()\n",
        "  random_forest = RandomForestClassifier()\n",
        "  svm_model = svm.SVC()\n",
        "  sgd_model = SGDClassifier()\n",
        "  logistic_model = LogisticRegression()\n",
        "\n",
        "  ml_dic = {0:decision_tree,1:random_forest,2:svm_model,3:sgd_model,4:logistic_model}\n",
        "  for i in ml_dic:\n",
        "    ml_dic[i].fit(X_train,y_train)\n",
        "    y_pred = ml_dic[i].predict(X_test)\n",
        "    score = accuracy_score(y_test,y_pred)\n",
        "    score_1 =classification_report(y_test,y_pred)\n",
        "    print('{}.{}'.format(i,type(ml_dic[i])))\n",
        "    print('')\n",
        "    print('점수 : {}'.format(score))\n",
        "    print('')\n",
        "    print('{}'.format(score_1))    \n",
        "    print('---------------------------------------------------')\n",
        "    print('')\n"
      ],
      "execution_count": 95,
      "outputs": []
    },
    {
      "cell_type": "code",
      "metadata": {
        "colab": {
          "base_uri": "https://localhost:8080/"
        },
        "id": "VUpy3v3I1lL_",
        "outputId": "4b2091ed-3ff2-4fb2-cbc6-4c33b805f836"
      },
      "source": [
        "auto_comparing_ml(data,target)"
      ],
      "execution_count": 96,
      "outputs": [
        {
          "output_type": "stream",
          "text": [
            "0.<class 'sklearn.tree._classes.DecisionTreeClassifier'>\n",
            "\n",
            "점수 : 0.8583333333333333\n",
            "\n",
            "              precision    recall  f1-score   support\n",
            "\n",
            "           0       1.00      0.94      0.97        31\n",
            "           1       0.82      0.87      0.85        38\n",
            "           2       0.80      0.87      0.84        38\n",
            "           3       0.84      0.78      0.81        27\n",
            "           4       0.94      0.83      0.88        41\n",
            "           5       0.87      0.94      0.90        35\n",
            "           6       0.82      0.87      0.85        38\n",
            "           7       0.91      0.91      0.91        34\n",
            "           8       0.78      0.80      0.79        35\n",
            "           9       0.83      0.79      0.81        43\n",
            "\n",
            "    accuracy                           0.86       360\n",
            "   macro avg       0.86      0.86      0.86       360\n",
            "weighted avg       0.86      0.86      0.86       360\n",
            "\n",
            "---------------------------------------------------\n",
            "\n",
            "1.<class 'sklearn.ensemble._forest.RandomForestClassifier'>\n",
            "\n",
            "점수 : 0.975\n",
            "\n",
            "              precision    recall  f1-score   support\n",
            "\n",
            "           0       0.97      0.94      0.95        31\n",
            "           1       0.97      1.00      0.99        38\n",
            "           2       1.00      1.00      1.00        38\n",
            "           3       0.93      0.96      0.95        27\n",
            "           4       0.95      0.98      0.96        41\n",
            "           5       1.00      1.00      1.00        35\n",
            "           6       1.00      0.95      0.97        38\n",
            "           7       0.97      1.00      0.99        34\n",
            "           8       0.97      0.94      0.96        35\n",
            "           9       0.98      0.98      0.98        43\n",
            "\n",
            "    accuracy                           0.97       360\n",
            "   macro avg       0.97      0.97      0.97       360\n",
            "weighted avg       0.98      0.97      0.97       360\n",
            "\n",
            "---------------------------------------------------\n",
            "\n",
            "2.<class 'sklearn.svm._classes.SVC'>\n",
            "\n",
            "점수 : 0.9833333333333333\n",
            "\n",
            "              precision    recall  f1-score   support\n",
            "\n",
            "           0       1.00      0.97      0.98        31\n",
            "           1       0.95      1.00      0.97        38\n",
            "           2       1.00      1.00      1.00        38\n",
            "           3       0.96      0.96      0.96        27\n",
            "           4       0.98      0.98      0.98        41\n",
            "           5       1.00      1.00      1.00        35\n",
            "           6       1.00      1.00      1.00        38\n",
            "           7       1.00      1.00      1.00        34\n",
            "           8       0.97      0.94      0.96        35\n",
            "           9       0.98      0.98      0.98        43\n",
            "\n",
            "    accuracy                           0.98       360\n",
            "   macro avg       0.98      0.98      0.98       360\n",
            "weighted avg       0.98      0.98      0.98       360\n",
            "\n",
            "---------------------------------------------------\n",
            "\n",
            "3.<class 'sklearn.linear_model._stochastic_gradient.SGDClassifier'>\n",
            "\n",
            "점수 : 0.9555555555555556\n",
            "\n",
            "              precision    recall  f1-score   support\n",
            "\n",
            "           0       1.00      0.97      0.98        31\n",
            "           1       1.00      0.89      0.94        38\n",
            "           2       1.00      0.97      0.99        38\n",
            "           3       0.93      0.93      0.93        27\n",
            "           4       0.95      0.98      0.96        41\n",
            "           5       1.00      0.97      0.99        35\n",
            "           6       0.97      1.00      0.99        38\n",
            "           7       0.97      1.00      0.99        34\n",
            "           8       0.77      0.97      0.86        35\n",
            "           9       1.00      0.88      0.94        43\n",
            "\n",
            "    accuracy                           0.96       360\n",
            "   macro avg       0.96      0.96      0.96       360\n",
            "weighted avg       0.96      0.96      0.96       360\n",
            "\n",
            "---------------------------------------------------\n",
            "\n",
            "4.<class 'sklearn.linear_model._logistic.LogisticRegression'>\n",
            "\n",
            "점수 : 0.975\n",
            "\n",
            "              precision    recall  f1-score   support\n",
            "\n",
            "           0       1.00      1.00      1.00        31\n",
            "           1       0.95      0.97      0.96        38\n",
            "           2       1.00      0.97      0.99        38\n",
            "           3       0.96      0.93      0.94        27\n",
            "           4       0.98      1.00      0.99        41\n",
            "           5       0.97      0.97      0.97        35\n",
            "           6       1.00      0.97      0.99        38\n",
            "           7       1.00      1.00      1.00        34\n",
            "           8       0.92      0.97      0.94        35\n",
            "           9       0.98      0.95      0.96        43\n",
            "\n",
            "    accuracy                           0.97       360\n",
            "   macro avg       0.98      0.97      0.97       360\n",
            "weighted avg       0.98      0.97      0.98       360\n",
            "\n",
            "---------------------------------------------------\n",
            "\n"
          ],
          "name": "stdout"
        },
        {
          "output_type": "stream",
          "text": [
            "/usr/local/lib/python3.7/dist-packages/sklearn/linear_model/_logistic.py:940: ConvergenceWarning: lbfgs failed to converge (status=1):\n",
            "STOP: TOTAL NO. of ITERATIONS REACHED LIMIT.\n",
            "\n",
            "Increase the number of iterations (max_iter) or scale the data as shown in:\n",
            "    https://scikit-learn.org/stable/modules/preprocessing.html\n",
            "Please also refer to the documentation for alternative solver options:\n",
            "    https://scikit-learn.org/stable/modules/linear_model.html#logistic-regression\n",
            "  extra_warning_msg=_LOGISTIC_SOLVER_CONVERGENCE_MSG)\n"
          ],
          "name": "stderr"
        }
      ]
    },
    {
      "cell_type": "markdown",
      "metadata": {
        "id": "5rTKAP4VzTAn"
      },
      "source": [
        "## 작성 과정"
      ]
    },
    {
      "cell_type": "code",
      "metadata": {
        "colab": {
          "base_uri": "https://localhost:8080/"
        },
        "id": "IxdKJkdedaxa",
        "outputId": "4793bf96-278b-462c-9ab6-e6dff1e65a25"
      },
      "source": [
        "type(load_digits())"
      ],
      "execution_count": 6,
      "outputs": [
        {
          "output_type": "execute_result",
          "data": {
            "text/plain": [
              "sklearn.utils.Bunch"
            ]
          },
          "metadata": {
            "tags": []
          },
          "execution_count": 6
        }
      ]
    },
    {
      "cell_type": "code",
      "metadata": {
        "id": "bwij9TVsfHBe"
      },
      "source": [
        "digit = load_digits()"
      ],
      "execution_count": 10,
      "outputs": []
    },
    {
      "cell_type": "code",
      "metadata": {
        "colab": {
          "base_uri": "https://localhost:8080/"
        },
        "id": "LHEDRhqVeDEB",
        "outputId": "bc25f1eb-c650-4137-f2fe-ad06861af817"
      },
      "source": [
        "dir(digit)"
      ],
      "execution_count": 11,
      "outputs": [
        {
          "output_type": "execute_result",
          "data": {
            "text/plain": [
              "['DESCR', 'data', 'images', 'target', 'target_names']"
            ]
          },
          "metadata": {
            "tags": []
          },
          "execution_count": 11
        }
      ]
    },
    {
      "cell_type": "code",
      "metadata": {
        "id": "HMkrZaNRerRX"
      },
      "source": [
        "data = digit['data']\n",
        "target = digit['target']\n",
        "target_names = digit['target_names']"
      ],
      "execution_count": 24,
      "outputs": []
    },
    {
      "cell_type": "code",
      "metadata": {
        "colab": {
          "base_uri": "https://localhost:8080/"
        },
        "id": "-x-5h6eDkN95",
        "outputId": "3b690e41-e32f-43ac-fe62-8bbc89b6147c"
      },
      "source": [
        "digit['images'].shape"
      ],
      "execution_count": 40,
      "outputs": [
        {
          "output_type": "execute_result",
          "data": {
            "text/plain": [
              "(1797, 8, 8)"
            ]
          },
          "metadata": {
            "tags": []
          },
          "execution_count": 40
        }
      ]
    },
    {
      "cell_type": "code",
      "metadata": {
        "colab": {
          "base_uri": "https://localhost:8080/"
        },
        "id": "azvnx0EKhjgv",
        "outputId": "8be43903-7161-46ac-a154-60937aa5f20f"
      },
      "source": [
        "type(data)"
      ],
      "execution_count": 35,
      "outputs": [
        {
          "output_type": "execute_result",
          "data": {
            "text/plain": [
              "numpy.ndarray"
            ]
          },
          "metadata": {
            "tags": []
          },
          "execution_count": 35
        }
      ]
    },
    {
      "cell_type": "code",
      "metadata": {
        "colab": {
          "base_uri": "https://localhost:8080/"
        },
        "id": "WhjhP9A2l_4R",
        "outputId": "ac17aac0-dc5e-4a57-8d7a-e1175928a50b"
      },
      "source": [
        "digit['target'].shape"
      ],
      "execution_count": 48,
      "outputs": [
        {
          "output_type": "execute_result",
          "data": {
            "text/plain": [
              "(1797,)"
            ]
          },
          "metadata": {
            "tags": []
          },
          "execution_count": 48
        }
      ]
    },
    {
      "cell_type": "code",
      "metadata": {
        "colab": {
          "base_uri": "https://localhost:8080/"
        },
        "id": "kWsBJBTTjvbH",
        "outputId": "981b3824-d896-4143-df65-e64c6d1c91f0"
      },
      "source": [
        "print(data.shape,target.shape)"
      ],
      "execution_count": 37,
      "outputs": [
        {
          "output_type": "stream",
          "text": [
            "(1797, 64) (1797,)\n"
          ],
          "name": "stdout"
        }
      ]
    },
    {
      "cell_type": "code",
      "metadata": {
        "id": "yOoaZl-Dhlxg"
      },
      "source": [
        "X_train, X_test, y_train, y_test = train_test_split(data,\n",
        "                                                    target,\n",
        "                                                    test_size=0.2,\n",
        "                                                    random_state=15)"
      ],
      "execution_count": 41,
      "outputs": []
    },
    {
      "cell_type": "code",
      "metadata": {
        "id": "nK5kR1ImuNzZ"
      },
      "source": [
        "dic = {1:'a',2:'b',3:'c'}"
      ],
      "execution_count": 67,
      "outputs": []
    },
    {
      "cell_type": "code",
      "metadata": {
        "colab": {
          "base_uri": "https://localhost:8080/"
        },
        "id": "Z9n-gTQNuSn_",
        "outputId": "e59a3112-f621-42bb-ab9f-54a360dce11f"
      },
      "source": [
        "for i in dic:\n",
        "  print(dic[i])"
      ],
      "execution_count": 69,
      "outputs": [
        {
          "output_type": "stream",
          "text": [
            "a\n",
            "b\n",
            "c\n"
          ],
          "name": "stdout"
        }
      ]
    },
    {
      "cell_type": "code",
      "metadata": {
        "colab": {
          "base_uri": "https://localhost:8080/"
        },
        "id": "qZ_20qolxmYX",
        "outputId": "0b9444fe-a7b1-44d0-970d-0c3acebd399f"
      },
      "source": [
        "type(decision_tree)"
      ],
      "execution_count": 81,
      "outputs": [
        {
          "output_type": "execute_result",
          "data": {
            "text/plain": [
              "sklearn.tree._classes.DecisionTreeClassifier"
            ]
          },
          "metadata": {
            "tags": []
          },
          "execution_count": 81
        }
      ]
    },
    {
      "cell_type": "code",
      "metadata": {
        "colab": {
          "base_uri": "https://localhost:8080/"
        },
        "id": "L3EecHMYvS6Q",
        "outputId": "f05b788c-96fc-4975-85b2-4c14100b5b28"
      },
      "source": [
        "auto_comparing_ml(data,target)"
      ],
      "execution_count": 89,
      "outputs": [
        {
          "output_type": "stream",
          "text": [
            "0.<class 'sklearn.tree._classes.DecisionTreeClassifier'>\n",
            "\n",
            "점수 : 0.875\n",
            "\n",
            "\n",
            "1.<class 'sklearn.ensemble._forest.RandomForestClassifier'>\n",
            "\n",
            "점수 : 0.9833333333333333\n",
            "\n",
            "\n",
            "2.<class 'sklearn.svm._classes.SVC'>\n",
            "\n",
            "점수 : 0.9833333333333333\n",
            "\n",
            "\n",
            "3.<class 'sklearn.linear_model._stochastic_gradient.SGDClassifier'>\n",
            "\n",
            "점수 : 0.9611111111111111\n",
            "\n",
            "\n",
            "4.<class 'sklearn.linear_model._logistic.LogisticRegression'>\n",
            "\n",
            "점수 : 0.975\n",
            "\n",
            "\n"
          ],
          "name": "stdout"
        },
        {
          "output_type": "stream",
          "text": [
            "/usr/local/lib/python3.7/dist-packages/sklearn/linear_model/_logistic.py:940: ConvergenceWarning: lbfgs failed to converge (status=1):\n",
            "STOP: TOTAL NO. of ITERATIONS REACHED LIMIT.\n",
            "\n",
            "Increase the number of iterations (max_iter) or scale the data as shown in:\n",
            "    https://scikit-learn.org/stable/modules/preprocessing.html\n",
            "Please also refer to the documentation for alternative solver options:\n",
            "    https://scikit-learn.org/stable/modules/linear_model.html#logistic-regression\n",
            "  extra_warning_msg=_LOGISTIC_SOLVER_CONVERGENCE_MSG)\n"
          ],
          "name": "stderr"
        }
      ]
    },
    {
      "cell_type": "code",
      "metadata": {
        "id": "INrY0IudgVqf"
      },
      "source": [
        "decision_tree = DecisionTreeClassifier()\n",
        "random_forest = RandomForestClassifier()\n",
        "svm_model = svm.SVC()\n",
        "sgd_model = SGDClassifier()\n",
        "logistic_model = LogisticRegression()"
      ],
      "execution_count": 58,
      "outputs": []
    },
    {
      "cell_type": "code",
      "metadata": {
        "colab": {
          "base_uri": "https://localhost:8080/"
        },
        "id": "k7v7khcufzVt",
        "outputId": "7e4457cb-77f8-45cd-d4e7-95fbc4f0f28f"
      },
      "source": [
        "decision_tree.fit(X_train,y_train)\n",
        "y_pred = decision_tree.predict(X_test)\n",
        "accuracy_score(y_test,y_pred)"
      ],
      "execution_count": 55,
      "outputs": [
        {
          "output_type": "execute_result",
          "data": {
            "text/plain": [
              "0.8611111111111112"
            ]
          },
          "metadata": {
            "tags": []
          },
          "execution_count": 55
        }
      ]
    },
    {
      "cell_type": "code",
      "metadata": {
        "colab": {
          "base_uri": "https://localhost:8080/"
        },
        "id": "sC1oJngprNmQ",
        "outputId": "88e9d9be-5692-48c3-82a9-64341c63a41f"
      },
      "source": [
        "decision_tree.fit(X_train,y_train)\n",
        "y_pred = decision_tree.predict(X_test)\n",
        "accuracy_score(y_test,y_pred)"
      ],
      "execution_count": 60,
      "outputs": [
        {
          "output_type": "execute_result",
          "data": {
            "text/plain": [
              "0.8638888888888889"
            ]
          },
          "metadata": {
            "tags": []
          },
          "execution_count": 60
        }
      ]
    },
    {
      "cell_type": "code",
      "metadata": {
        "colab": {
          "base_uri": "https://localhost:8080/"
        },
        "id": "ZI6Q5CO9pnqv",
        "outputId": "cca63139-64be-49a1-c5c3-35709164109a"
      },
      "source": [
        "svm_model.fit(X_train,y_train)\n",
        "y_pred = svm_model.predict(X_test)\n",
        "accuracy_score(y_test,y_pred)"
      ],
      "execution_count": 61,
      "outputs": [
        {
          "output_type": "execute_result",
          "data": {
            "text/plain": [
              "0.9833333333333333"
            ]
          },
          "metadata": {
            "tags": []
          },
          "execution_count": 61
        }
      ]
    },
    {
      "cell_type": "code",
      "metadata": {
        "colab": {
          "base_uri": "https://localhost:8080/"
        },
        "id": "lawQB9vXsKGX",
        "outputId": "e7500919-8ed6-41cb-a200-53ce18c99170"
      },
      "source": [
        "sgd_model.fit(X_train,y_train)\n",
        "y_pred = sgd_model.predict(X_test)\n",
        "accuracy_score(y_test,y_pred)"
      ],
      "execution_count": 62,
      "outputs": [
        {
          "output_type": "execute_result",
          "data": {
            "text/plain": [
              "0.9333333333333333"
            ]
          },
          "metadata": {
            "tags": []
          },
          "execution_count": 62
        }
      ]
    },
    {
      "cell_type": "code",
      "metadata": {
        "colab": {
          "base_uri": "https://localhost:8080/"
        },
        "id": "KWQVdK4zsPwV",
        "outputId": "e2119fb9-a117-444e-d2de-abf2082e55f2"
      },
      "source": [
        "logistic_model.fit(X_train,y_train)\n",
        "y_pred = logistic_model.predict(X_test)\n",
        "accuracy_score(y_test,y_pred)"
      ],
      "execution_count": 63,
      "outputs": [
        {
          "output_type": "stream",
          "text": [
            "/usr/local/lib/python3.7/dist-packages/sklearn/linear_model/_logistic.py:940: ConvergenceWarning: lbfgs failed to converge (status=1):\n",
            "STOP: TOTAL NO. of ITERATIONS REACHED LIMIT.\n",
            "\n",
            "Increase the number of iterations (max_iter) or scale the data as shown in:\n",
            "    https://scikit-learn.org/stable/modules/preprocessing.html\n",
            "Please also refer to the documentation for alternative solver options:\n",
            "    https://scikit-learn.org/stable/modules/linear_model.html#logistic-regression\n",
            "  extra_warning_msg=_LOGISTIC_SOLVER_CONVERGENCE_MSG)\n"
          ],
          "name": "stderr"
        },
        {
          "output_type": "execute_result",
          "data": {
            "text/plain": [
              "0.975"
            ]
          },
          "metadata": {
            "tags": []
          },
          "execution_count": 63
        }
      ]
    },
    {
      "cell_type": "code",
      "metadata": {
        "id": "gijr2PKZsTNz"
      },
      "source": [
        ""
      ],
      "execution_count": null,
      "outputs": []
    }
  ]
}