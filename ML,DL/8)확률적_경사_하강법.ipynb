{
  "nbformat": 4,
  "nbformat_minor": 0,
  "metadata": {
    "colab": {
      "name": "8)확률적 경사 하강법.ipynb",
      "provenance": [],
      "collapsed_sections": [],
      "authorship_tag": "ABX9TyNya6rivfabI7kVvZ89rRbr",
      "include_colab_link": true
    },
    "kernelspec": {
      "name": "python3",
      "display_name": "Python 3"
    },
    "language_info": {
      "name": "python"
    }
  },
  "cells": [
    {
      "cell_type": "markdown",
      "metadata": {
        "id": "view-in-github",
        "colab_type": "text"
      },
      "source": [
        "<a href=\"https://colab.research.google.com/github/hdpark1208/StudyCode/blob/main/8)%ED%99%95%EB%A5%A0%EC%A0%81_%EA%B2%BD%EC%82%AC_%ED%95%98%EA%B0%95%EB%B2%95.ipynb\" target=\"_parent\"><img src=\"https://colab.research.google.com/assets/colab-badge.svg\" alt=\"Open In Colab\"/></a>"
      ]
    },
    {
      "cell_type": "markdown",
      "metadata": {
        "id": "UjOspeZmzuYX"
      },
      "source": [
        "# ***4-2 확률적 경사 하강법(Stochastic Gradient Descent)***"
      ]
    },
    {
      "cell_type": "markdown",
      "metadata": {
        "id": "oNFQHpSc0GZ9"
      },
      "source": [
        "# **줄거리**"
      ]
    },
    {
      "cell_type": "markdown",
      "metadata": {
        "id": "zE62CGNQeGG4"
      },
      "source": [
        "1.    점진적인 학습의 필요성을 생각해본다  \n",
        "2.    경사 하강법과 손실 함수에 대해 알아본다\n",
        "3.    데이터를 준비하고 전처리, 훈련/테스트 세트를 나누는 작업을 한다  \n",
        "4.    SGDClassifier 을 이용하여 결과를 확인한다  \n",
        "5.    partial_fit() 을 이용하여 에포크에 따른 훈련/테스트 세트의 점수를 그래프로 표현하고 최적의 에포크를 확인한다\n"
      ]
    },
    {
      "cell_type": "markdown",
      "metadata": {
        "id": "fbhPV6gl0PJH"
      },
      "source": [
        "#Note\n",
        "*    로지스틱 손실 함수 : 이진 분류에서 사용\n",
        "*    이진 크로스엔트로피 : 다중 분류에서 사용\n",
        "*    평균 제곱 오차 : 회귀에서 사용  \n",
        "*    확률적 경사 하강법 : 훈련세트에서 샘플을 하나씩 꺼내 손실 함수의 경사를 따라 최적의 모델을 찾는 알고리즘  \n",
        "(배치 경사 하강법 : 한 번에 전체 샘플 사용 시  \n",
        "미니배치 경사 하강법 : 한번에 여러 개의 샘플을 사용 시)"
      ]
    },
    {
      "cell_type": "markdown",
      "metadata": {
        "id": "edi2f-Ek0WZH"
      },
      "source": [
        "#**코드**\n"
      ]
    },
    {
      "cell_type": "code",
      "metadata": {
        "id": "C-osB6KIDV1Z"
      },
      "source": [
        "import pandas as pd\n",
        "fish = pd.read_csv('http://bit.ly/fish_csv_data')"
      ],
      "execution_count": null,
      "outputs": []
    },
    {
      "cell_type": "code",
      "metadata": {
        "colab": {
          "base_uri": "https://localhost:8080/"
        },
        "id": "txoWfX16hG-Z",
        "outputId": "e57110f7-1244-463c-dc92-7dc1efcb494a"
      },
      "source": [
        "fish_input = fish[['Weight','Length','Diagonal','Height','Width']].to_numpy()\n",
        "fish_target = fish['Species'].to_numpy()\n",
        "print(fish.head())"
      ],
      "execution_count": null,
      "outputs": [
        {
          "output_type": "stream",
          "text": [
            "  Species  Weight  Length  Diagonal   Height   Width\n",
            "0   Bream   242.0    25.4      30.0  11.5200  4.0200\n",
            "1   Bream   290.0    26.3      31.2  12.4800  4.3056\n",
            "2   Bream   340.0    26.5      31.1  12.3778  4.6961\n",
            "3   Bream   363.0    29.0      33.5  12.7300  4.4555\n",
            "4   Bream   430.0    29.0      34.0  12.4440  5.1340\n"
          ],
          "name": "stdout"
        }
      ]
    },
    {
      "cell_type": "code",
      "metadata": {
        "id": "nQ7efn8QhimB"
      },
      "source": [
        "from sklearn.model_selection import train_test_split\n",
        "train_input, test_input, train_target, test_target= train_test_split(fish_input,fish_target,random_state=42)"
      ],
      "execution_count": null,
      "outputs": []
    },
    {
      "cell_type": "code",
      "metadata": {
        "id": "vvhWlbAwiHjw"
      },
      "source": [
        "from sklearn.preprocessing import StandardScaler\n",
        "ss = StandardScaler()\n",
        "ss.fit(train_input)    #train_input 데이터를 이용해 StandardSclaer의 인스턴스를 학습시킨다. 여기서는 train_input의 평균,분산을 구하는 과정이다\n",
        "train_scaled = ss.transform(train_input)    #위에서 학습된 것을 적용시킨 train_scaled 데이터를 만든다\n",
        "test_scaled = ss.transform(test_input)    #같은 환경(train_input으로 학습시킨)에서 test_input을 transform 하여 test_scaled 데이터를 만든다\n"
      ],
      "execution_count": null,
      "outputs": []
    },
    {
      "cell_type": "code",
      "metadata": {
        "id": "3fqnOANHj0HM"
      },
      "source": [
        "from sklearn.linear_model import SGDClassifier    #확률적 경사 하강법을 제공하는 대표적인 분류용 클래스"
      ],
      "execution_count": null,
      "outputs": []
    },
    {
      "cell_type": "code",
      "metadata": {
        "colab": {
          "base_uri": "https://localhost:8080/"
        },
        "id": "ETq96LpuenSR",
        "outputId": "b26a65e3-5238-4513-d10e-84eac8b77776"
      },
      "source": [
        "sc = SGDClassifier(loss='log',max_iter=10,random_state=42)\n",
        "sc.fit(train_scaled, train_target)\n",
        "print(sc.score(train_scaled,train_target))\n",
        "print(sc.score(test_scaled,test_target))\n"
      ],
      "execution_count": null,
      "outputs": [
        {
          "output_type": "stream",
          "text": [
            "0.773109243697479\n",
            "0.775\n"
          ],
          "name": "stdout"
        },
        {
          "output_type": "stream",
          "text": [
            "/usr/local/lib/python3.7/dist-packages/sklearn/linear_model/_stochastic_gradient.py:557: ConvergenceWarning: Maximum number of iteration reached before convergence. Consider increasing max_iter to improve the fit.\n",
            "  ConvergenceWarning)\n"
          ],
          "name": "stderr"
        }
      ]
    },
    {
      "cell_type": "code",
      "metadata": {
        "colab": {
          "base_uri": "https://localhost:8080/"
        },
        "id": "vvCws3hwe6Kz",
        "outputId": "4d5043e0-e543-490c-e0ba-7bb65957feb3"
      },
      "source": [
        "sc.partial_fit(train_scaled, train_target)    #모델을 이어서 훈련 시 ?\n",
        "print(sc.score(train_scaled,train_target))\n",
        "print(sc.score(test_scaled,test_target))"
      ],
      "execution_count": null,
      "outputs": [
        {
          "output_type": "stream",
          "text": [
            "0.8151260504201681\n",
            "0.825\n"
          ],
          "name": "stdout"
        }
      ]
    },
    {
      "cell_type": "code",
      "metadata": {
        "id": "Ma5DC_Q4ia_e"
      },
      "source": [
        "import numpy as np\n",
        "sc = SGDClassifier(loss = 'log',random_state=42)\n",
        "train_score = []\n",
        "test_score = []\n",
        "classes = np.unique(train_target)"
      ],
      "execution_count": null,
      "outputs": []
    },
    {
      "cell_type": "code",
      "metadata": {
        "id": "cDUomcTPj5uj"
      },
      "source": [
        "for _ in range(0,300):    # _ : 나중에 사용하지않고 버리는 값을 넣어두는 용도\n",
        "  sc.partial_fit(train_scaled, train_target, classes=classes)\n",
        "  train_score.append(sc.score(train_scaled,train_target))\n",
        "  test_score.append(sc.score(test_scaled,test_target))"
      ],
      "execution_count": null,
      "outputs": []
    },
    {
      "cell_type": "code",
      "metadata": {
        "colab": {
          "base_uri": "https://localhost:8080/",
          "height": 279
        },
        "id": "18vJ2x1kkkmz",
        "outputId": "3590f8b9-6697-419e-81b5-9f3107d23bc5"
      },
      "source": [
        "import matplotlib.pyplot as plt\n",
        "plt.plot(train_score,c='r')\n",
        "plt.plot(test_score,c='g')\n",
        "plt.xlabel('epoch')\n",
        "plt.ylabel('accuracy')\n",
        "plt.show()    #epoch = 100 이 적당해 보인다"
      ],
      "execution_count": null,
      "outputs": [
        {
          "output_type": "display_data",
          "data": {
            "image/png": "[encoded data removed]",
            "text/plain": [
              "<Figure size 432x288 with 1 Axes>"
            ]
          },
          "metadata": {
            "tags": [],
            "needs_background": "light"
          }
        }
      ]
    },
    {
      "cell_type": "code",
      "metadata": {
        "colab": {
          "base_uri": "https://localhost:8080/"
        },
        "id": "XIacOdLnmHW0",
        "outputId": "82478c38-7862-49e4-919a-4092a7d1d21f"
      },
      "source": [
        "sc = SGDClassifier(loss = 'log',max_iter=100,tol=None,random_state=42)\n",
        "sc.fit(train_scaled,train_target)\n",
        "print(sc.score(train_scaled,train_target))\n",
        "print(sc.score(test_scaled,test_target))\n"
      ],
      "execution_count": null,
      "outputs": [
        {
          "output_type": "stream",
          "text": [
            "0.957983193277311\n",
            "0.925\n"
          ],
          "name": "stdout"
        }
      ]
    },
    {
      "cell_type": "code",
      "metadata": {
        "colab": {
          "base_uri": "https://localhost:8080/"
        },
        "id": "cyG-r9Y-oCGb",
        "outputId": "2478bef6-295f-4538-d69d-f4150b3605b4"
      },
      "source": [
        "sc = SGDClassifier(loss = 'hinge',max_iter=100,tol=None,random_state=42)    #SGDClassifier 의 loss default는 hinge 이다\n",
        "sc.fit(train_scaled,train_target)\n",
        "print(sc.score(train_scaled,train_target))\n",
        "print(sc.score(test_scaled,test_target))"
      ],
      "execution_count": null,
      "outputs": [
        {
          "output_type": "stream",
          "text": [
            "0.9495798319327731\n",
            "0.925\n"
          ],
          "name": "stdout"
        }
      ]
    },
    {
      "cell_type": "code",
      "metadata": {
        "id": "w7QFmujfoxL0"
      },
      "source": [
        ""
      ],
      "execution_count": null,
      "outputs": []
    }
  ]
}
