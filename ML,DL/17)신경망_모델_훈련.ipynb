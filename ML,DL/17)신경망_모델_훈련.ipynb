{
  "nbformat": 4,
  "nbformat_minor": 0,
  "metadata": {
    "colab": {
      "name": "17)신경망 모델 훈련.ipynb",
      "provenance": [],
      "collapsed_sections": [],
      "authorship_tag": "ABX9TyO39+dg4I9ePua5Ws3YTKUL",
      "include_colab_link": true
    },
    "kernelspec": {
      "name": "python3",
      "display_name": "Python 3"
    },
    "language_info": {
      "name": "python"
    }
  },
  "cells": [
    {
      "cell_type": "markdown",
      "metadata": {
        "id": "view-in-github",
        "colab_type": "text"
      },
      "source": [
        "<a href=\"https://colab.research.google.com/github/hdpark1208/StudyCode/blob/main/ML%2CDL/17)%EC%8B%A0%EA%B2%BD%EB%A7%9D_%EB%AA%A8%EB%8D%B8_%ED%9B%88%EB%A0%A8.ipynb\" target=\"_parent\"><img src=\"https://colab.research.google.com/assets/colab-badge.svg\" alt=\"Open In Colab\"/></a>"
      ]
    },
    {
      "cell_type": "markdown",
      "metadata": {
        "id": "UjOspeZmzuYX"
      },
      "source": [
        "# ***7-3 신경망 모델 훈련***"
      ]
    },
    {
      "cell_type": "markdown",
      "metadata": {
        "id": "oNFQHpSc0GZ9"
      },
      "source": [
        "# **줄거리**"
      ]
    },
    {
      "cell_type": "markdown",
      "metadata": {
        "id": "fbhPV6gl0PJH"
      },
      "source": [
        "#Note"
      ]
    },
    {
      "cell_type": "markdown",
      "metadata": {
        "id": "edi2f-Ek0WZH"
      },
      "source": [
        "#**코드**\n"
      ]
    },
    {
      "cell_type": "code",
      "metadata": {
        "id": "1xK-Gpi3A_Dy"
      },
      "source": [
        ""
      ],
      "execution_count": null,
      "outputs": []
    },
    {
      "cell_type": "code",
      "metadata": {
        "colab": {
          "base_uri": "https://localhost:8080/"
        },
        "id": "-DxvivWaze9I",
        "outputId": "44528083-ed25-4b94-e00d-59c134d5a3ce"
      },
      "source": [
        "from tensorflow import keras\n",
        "from sklearn.model_selection import train_test_split\n",
        "(train_input,train_target), (test_input,test_target) =\\\n",
        "keras.datasets.fashion_mnist.load_data()\n",
        "train_scaled = train_input / 255.0\n",
        "train_scaled, val_scaled, train_target, val_target = train_test_split(\n",
        "    train_scaled,train_target,test_size=0.2,random_state=42\n",
        ")"
      ],
      "execution_count": null,
      "outputs": [
        {
          "output_type": "stream",
          "text": [
            "Downloading data from https://storage.googleapis.com/tensorflow/tf-keras-datasets/train-labels-idx1-ubyte.gz\n",
            "32768/29515 [=================================] - 0s 0us/step\n",
            "Downloading data from https://storage.googleapis.com/tensorflow/tf-keras-datasets/train-images-idx3-ubyte.gz\n",
            "26427392/26421880 [==============================] - 0s 0us/step\n",
            "Downloading data from https://storage.googleapis.com/tensorflow/tf-keras-datasets/t10k-labels-idx1-ubyte.gz\n",
            "8192/5148 [===============================================] - 0s 0us/step\n",
            "Downloading data from https://storage.googleapis.com/tensorflow/tf-keras-datasets/t10k-images-idx3-ubyte.gz\n",
            "4423680/4422102 [==============================] - 0s 0us/step\n"
          ],
          "name": "stdout"
        }
      ]
    },
    {
      "cell_type": "code",
      "metadata": {
        "id": "QEInp87z7Rf_"
      },
      "source": [
        "def model_fn(a_layer=None):\n",
        "  model = keras.Sequential()\n",
        "  model.add(keras.layers.Flatten(input_shape=(28,28)))\n",
        "  model.add(keras.layers.Dense(100,activation='relu'))\n",
        "  if a_layer:\n",
        "    model.add(a_layer)\n",
        "  model.add(keras.layers.Dense(10,activation='softmax'))\n",
        "  return model"
      ],
      "execution_count": null,
      "outputs": []
    },
    {
      "cell_type": "code",
      "metadata": {
        "colab": {
          "base_uri": "https://localhost:8080/"
        },
        "id": "oI77P6PE7zla",
        "outputId": "5da94cb5-3bce-4fe6-9ba3-521a0c6b7cc1"
      },
      "source": [
        "model = model_fn()\n",
        "model.summary()"
      ],
      "execution_count": null,
      "outputs": [
        {
          "output_type": "stream",
          "text": [
            "Model: \"sequential\"\n",
            "_________________________________________________________________\n",
            "Layer (type)                 Output Shape              Param #   \n",
            "=================================================================\n",
            "flatten (Flatten)            (None, 784)               0         \n",
            "_________________________________________________________________\n",
            "dense (Dense)                (None, 100)               78500     \n",
            "_________________________________________________________________\n",
            "dense_1 (Dense)              (None, 10)                1010      \n",
            "=================================================================\n",
            "Total params: 79,510\n",
            "Trainable params: 79,510\n",
            "Non-trainable params: 0\n",
            "_________________________________________________________________\n"
          ],
          "name": "stdout"
        }
      ]
    },
    {
      "cell_type": "code",
      "metadata": {
        "id": "4lwYOEGd8Q-3"
      },
      "source": [
        "model.compile(loss='sparse_categorical_crossentropy',metrics='accuracy')\n",
        "history = model.fit(train_scaled, train_target,epochs=5,verbose=0)    #케라스의 fit() 은 History 클래스 객체를 반환한다"
      ],
      "execution_count": null,
      "outputs": []
    },
    {
      "cell_type": "code",
      "metadata": {
        "colab": {
          "base_uri": "https://localhost:8080/"
        },
        "id": "bz0GSWta9IRB",
        "outputId": "0015ef0f-1cd5-48cd-ecbe-fb28125611bd"
      },
      "source": [
        "print(history.history.keys())    #epoch 마다 loss, accuracy 보여주는 리스트"
      ],
      "execution_count": null,
      "outputs": [
        {
          "output_type": "stream",
          "text": [
            "dict_keys(['loss', 'accuracy'])\n"
          ],
          "name": "stdout"
        }
      ]
    },
    {
      "cell_type": "code",
      "metadata": {
        "colab": {
          "base_uri": "https://localhost:8080/",
          "height": 279
        },
        "id": "cs9CYfp89jTL",
        "outputId": "ca8338ab-aad4-46b3-81cd-b535afffd260"
      },
      "source": [
        "import matplotlib.pyplot as plt\n",
        "plt.plot(history.history['loss'])\n",
        "plt.xlabel('epoch')\n",
        "plt.ylabel('loss')\n",
        "plt.show()"
      ],
      "execution_count": null,
      "outputs": [
        {
          "output_type": "display_data",
          "data": {
            "image/png": "[encoded data removed]",
            "text/plain": [
              "<Figure size 432x288 with 1 Axes>"
            ]
          },
          "metadata": {
            "tags": [],
            "needs_background": "light"
          }
        }
      ]
    },
    {
      "cell_type": "code",
      "metadata": {
        "id": "YQ9h1z94-AJq",
        "colab": {
          "base_uri": "https://localhost:8080/",
          "height": 279
        },
        "outputId": "f26337e9-14d3-482a-e376-9ba909d6c189"
      },
      "source": [
        "plt.plot(history.history['accuracy'])\n",
        "plt.xlabel('epoch')\n",
        "plt.ylabel('accuracy')\n",
        "plt.show()"
      ],
      "execution_count": null,
      "outputs": [
        {
          "output_type": "display_data",
          "data": {
            "image/png": "[encoded data removed]",
            "text/plain": [
              "<Figure size 432x288 with 1 Axes>"
            ]
          },
          "metadata": {
            "tags": [],
            "needs_background": "light"
          }
        }
      ]
    },
    {
      "cell_type": "code",
      "metadata": {
        "colab": {
          "base_uri": "https://localhost:8080/",
          "height": 283
        },
        "id": "P6e5ly7yA526",
        "outputId": "cd5244fa-e84f-481a-920f-a6aec9c5a73c"
      },
      "source": [
        "model = model_fn()\n",
        "model.compile(loss='sparse_categorical_crossentropy',metrics='accuracy')\n",
        "history = model.fit(train_scaled,train_target,epochs=20,verbose=0)\n",
        "plt.plot(history.history['loss'])\n",
        "plt.xlabel('epoch')\n",
        "plt.ylabel('loss')\n",
        "plt.show()"
      ],
      "execution_count": null,
      "outputs": [
        {
          "output_type": "display_data",
          "data": {
            "image/png": "[encoded data removed]",
            "text/plain": [
              "<Figure size 432x288 with 1 Axes>"
            ]
          },
          "metadata": {
            "tags": [],
            "needs_background": "light"
          }
        }
      ]
    },
    {
      "cell_type": "code",
      "metadata": {
        "id": "WFkeWP41BX4s"
      },
      "source": [
        "# 모델을 검증할 때 정확도보다 손실을 확인하는 것이 더 낫다"
      ],
      "execution_count": null,
      "outputs": []
    },
    {
      "cell_type": "code",
      "metadata": {
        "id": "Vz0g_-iZCvJZ"
      },
      "source": [
        "model = model_fn()\n",
        "model.compile(loss='sparse_categorical_crossentropy',metrics='accuracy')\n",
        "history = model.fit(train_scaled,train_target,epochs=20,verbose=0,\n",
        "                    validation_data=(val_scaled,val_target))"
      ],
      "execution_count": null,
      "outputs": []
    },
    {
      "cell_type": "code",
      "metadata": {
        "colab": {
          "base_uri": "https://localhost:8080/"
        },
        "id": "L9PGAx1lDkq9",
        "outputId": "914dddf6-1de7-4798-b454-d8782034bca7"
      },
      "source": [
        "history.history.keys()    #검증세트에 대한 손실 추가됨"
      ],
      "execution_count": null,
      "outputs": [
        {
          "output_type": "execute_result",
          "data": {
            "text/plain": [
              "dict_keys(['loss', 'accuracy', 'val_loss', 'val_accuracy'])"
            ]
          },
          "metadata": {
            "tags": []
          },
          "execution_count": 11
        }
      ]
    },
    {
      "cell_type": "code",
      "metadata": {
        "colab": {
          "base_uri": "https://localhost:8080/",
          "height": 279
        },
        "id": "5xFZkG76EW9G",
        "outputId": "e023af29-84a6-4e79-d2d2-dd1dc3d02cb5"
      },
      "source": [
        "plt.plot(history.history['loss'])\n",
        "plt.plot(history.history['val_loss'])\n",
        "plt.xlabel('epoch')\n",
        "plt.ylabel('loss')\n",
        "plt.legend(['train','val'])\n",
        "plt.show()    #epoch가 늘어날수록 train 은 과대적합되어간다"
      ],
      "execution_count": null,
      "outputs": [
        {
          "output_type": "display_data",
          "data": {
            "image/png": "[encoded data removed]",
            "text/plain": [
              "<Figure size 432x288 with 1 Axes>"
            ]
          },
          "metadata": {
            "tags": [],
            "needs_background": "light"
          }
        }
      ]
    },
    {
      "cell_type": "code",
      "metadata": {
        "colab": {
          "base_uri": "https://localhost:8080/",
          "height": 279
        },
        "id": "g_E6VKvtE3yR",
        "outputId": "5245ebb9-6190-44b0-d751-a692eed80b52"
      },
      "source": [
        "model = model_fn()\n",
        "model.compile(optimizer='adam',loss='sparse_categorical_crossentropy',metrics='accuracy')\n",
        "history = model.fit(train_scaled,train_target,epochs=20,verbose=0,validation_data=(val_scaled,val_target))\n",
        "plt.plot(history.history['loss'])\n",
        "plt.plot(history.history['val_loss'])\n",
        "plt.xlabel('epoch')\n",
        "plt.ylabel('loss')\n",
        "plt.legend(['train','va'])\n",
        "plt.show()"
      ],
      "execution_count": null,
      "outputs": [
        {
          "output_type": "display_data",
          "data": {
            "image/png": "[encoded data removed]",
            "text/plain": [
              "<Figure size 432x288 with 1 Axes>"
            ]
          },
          "metadata": {
            "tags": [],
            "needs_background": "light"
          }
        }
      ]
    },
    {
      "cell_type": "code",
      "metadata": {
        "colab": {
          "base_uri": "https://localhost:8080/"
        },
        "id": "_pqhlppTIbp-",
        "outputId": "946f0f83-7aa3-4d2f-a868-0161018e197a"
      },
      "source": [
        "model = model_fn(keras.layers.Dropout(0.3))    # 훈련이 끝난 후에는 알아서 Dropout 적용 안하니 걱정 안해도 된다.\n",
        "model.summary()"
      ],
      "execution_count": null,
      "outputs": [
        {
          "output_type": "stream",
          "text": [
            "Model: \"sequential_4\"\n",
            "_________________________________________________________________\n",
            "Layer (type)                 Output Shape              Param #   \n",
            "=================================================================\n",
            "flatten_4 (Flatten)          (None, 784)               0         \n",
            "_________________________________________________________________\n",
            "dense_8 (Dense)              (None, 100)               78500     \n",
            "_________________________________________________________________\n",
            "dropout (Dropout)            (None, 100)               0         \n",
            "_________________________________________________________________\n",
            "dense_9 (Dense)              (None, 10)                1010      \n",
            "=================================================================\n",
            "Total params: 79,510\n",
            "Trainable params: 79,510\n",
            "Non-trainable params: 0\n",
            "_________________________________________________________________\n"
          ],
          "name": "stdout"
        }
      ]
    },
    {
      "cell_type": "code",
      "metadata": {
        "colab": {
          "base_uri": "https://localhost:8080/",
          "height": 280
        },
        "id": "xoKW7l7YvSIV",
        "outputId": "5c94dd45-3f04-44fc-9bd4-a044d7807504"
      },
      "source": [
        "model.compile(optimizer='adam',loss='sparse_categorical_crossentropy',metrics='accuracy')\n",
        "history = model.fit(train_scaled, train_target, epochs= 20, verbose=0, validation_data=(val_scaled,val_target))\n",
        "plt.plot(history.history['loss'])\n",
        "plt.plot(history.history['val_loss'])\n",
        "plt.xlabel('epoch')\n",
        "plt.ylabel('loss')\n",
        "plt.legend(['train','val'])\n",
        "plt.show()    #epochs = 10 정도가 적당해보인다"
      ],
      "execution_count": null,
      "outputs": [
        {
          "output_type": "display_data",
          "data": {
            "image/png": "[encoded data removed]",
            "text/plain": [
              "<Figure size 432x288 with 1 Axes>"
            ]
          },
          "metadata": {
            "tags": [],
            "needs_background": "light"
          }
        }
      ]
    },
    {
      "cell_type": "code",
      "metadata": {
        "id": "e-XbEiidwO_G"
      },
      "source": [
        "model = model_fn(keras.layers.Dropout(0.3))\n",
        "model.compile(optimizer='adam', loss='sparse_categorical_crossentropy',metrics='accuracy')\n",
        "history = model.fit(train_scaled,train_target,epochs=10,verbose=0,validation_data=(val_scaled,val_target))"
      ],
      "execution_count": null,
      "outputs": []
    },
    {
      "cell_type": "code",
      "metadata": {
        "id": "JQYnzMj-xHZZ"
      },
      "source": [
        "model.save_weights('model-wights.h5')    #훈련한 모델의 파라미터 저장"
      ],
      "execution_count": null,
      "outputs": []
    },
    {
      "cell_type": "code",
      "metadata": {
        "id": "wVSUliw9xXA-"
      },
      "source": [
        "model.save('model-whole.h5')    #모델 구조, 모델 파라미터 함께 저장"
      ],
      "execution_count": null,
      "outputs": []
    },
    {
      "cell_type": "code",
      "metadata": {
        "colab": {
          "base_uri": "https://localhost:8080/"
        },
        "id": "_Ra5G4apxpoP",
        "outputId": "2048e3f5-d7ed-47e6-b622-9281c6ff2b6a"
      },
      "source": [
        "!ls -al *"
      ],
      "execution_count": null,
      "outputs": [
        {
          "output_type": "stream",
          "text": [
            "-rw-r--r-- 1 root root 981736 Jun 12 10:31 model-whole.h5\n",
            "-rw-r--r-- 1 root root 332480 Jun 12 10:30 model-wights.h5\n",
            "\n",
            "sample_data:\n",
            "total 55512\n",
            "drwxr-xr-x 1 root root     4096 Jun  1 13:40 .\n",
            "drwxr-xr-x 1 root root     4096 Jun 12 10:31 ..\n",
            "-rwxr-xr-x 1 root root     1697 Jan  1  2000 anscombe.json\n",
            "-rw-r--r-- 1 root root   301141 Jun  1 13:40 california_housing_test.csv\n",
            "-rw-r--r-- 1 root root  1706430 Jun  1 13:40 california_housing_train.csv\n",
            "-rw-r--r-- 1 root root 18289443 Jun  1 13:40 mnist_test.csv\n",
            "-rw-r--r-- 1 root root 36523880 Jun  1 13:40 mnist_train_small.csv\n",
            "-rwxr-xr-x 1 root root      930 Jan  1  2000 README.md\n"
          ],
          "name": "stdout"
        }
      ]
    },
    {
      "cell_type": "code",
      "metadata": {
        "id": "SQx8Ru9LxuIZ"
      },
      "source": [
        "model_test = model_fn(keras.layers.Dropout(0.3))    # 파라미터만 이용\n",
        "model_test.load_weights('model-wights.h5')    #save_weights <-> load_weights\n",
        "#당연하지만 저장한 파라미터를 불러와서 쓰려면 모델 구조가 완전히 동일해야한다"
      ],
      "execution_count": null,
      "outputs": []
    },
    {
      "cell_type": "code",
      "metadata": {
        "colab": {
          "base_uri": "https://localhost:8080/"
        },
        "id": "jtQ-f9woyHbb",
        "outputId": "189d2730-09a3-4840-d5a8-8f55575e0e8e"
      },
      "source": [
        "import numpy as np\n",
        "val_labels = np.argmax(model_test.predict(val_scaled),axis=-1)    # predict 값 중 가장 큰 값을 고르기위해서 argmax() 사용 (배열에서 가장 큰 값의 *인덱스*를 반환)\n",
        "#axis = -1 -> 마지막 차원 n (axis=0,1,2,...,n)\n",
        "print(np.mean(val_labels==val_target))"
      ],
      "execution_count": null,
      "outputs": [
        {
          "output_type": "stream",
          "text": [
            "0.88225\n"
          ],
          "name": "stdout"
        }
      ]
    },
    {
      "cell_type": "code",
      "metadata": {
        "colab": {
          "base_uri": "https://localhost:8080/"
        },
        "id": "QgjVwIdc1RmQ",
        "outputId": "53567705-bd7e-4dfe-c414-c6dbe1923f6a"
      },
      "source": [
        "model_test2 = keras.models.load_model('model-whole.h5')    # 모델, 파라미터 이용\n",
        "model_test2.evaluate(val_scaled,val_target)"
      ],
      "execution_count": null,
      "outputs": [
        {
          "output_type": "stream",
          "text": [
            "375/375 [==============================] - 1s 1ms/step - loss: 0.3304 - accuracy: 0.8823\n"
          ],
          "name": "stdout"
        },
        {
          "output_type": "execute_result",
          "data": {
            "text/plain": [
              "[0.330403596162796, 0.8822500109672546]"
            ]
          },
          "metadata": {
            "tags": []
          },
          "execution_count": 24
        }
      ]
    },
    {
      "cell_type": "markdown",
      "metadata": {
        "id": "r0tE0kRK2KNc"
      },
      "source": [
        "*콜백 : 훈련 과정 중간 어떤 작업을 수행할 수 있게 해주는 객체"
      ]
    },
    {
      "cell_type": "code",
      "metadata": {
        "colab": {
          "base_uri": "https://localhost:8080/"
        },
        "id": "0fRqZeXl1grx",
        "outputId": "7976d689-f283-4d1a-9db4-3a96320c1768"
      },
      "source": [
        "model = model_fn(keras.layers.Dropout(0.3))\n",
        "model.compile(optimizer='adam',loss='sparse_categorical_crossentropy', metrics='accuracy')\n",
        "checkpoint_cb = keras.callbacks.ModelCheckpoint('best-model.h5')    # 가장 높은 검증 점수의 모델 자동 저장\n",
        "model.fit(train_scaled,train_target,epochs=20,verbose=0,\n",
        "          validation_data=(val_scaled,val_target),callbacks=[checkpoint_cb])"
      ],
      "execution_count": null,
      "outputs": [
        {
          "output_type": "execute_result",
          "data": {
            "text/plain": [
              "<tensorflow.python.keras.callbacks.History at 0x7fed42369510>"
            ]
          },
          "metadata": {
            "tags": []
          },
          "execution_count": 25
        }
      ]
    },
    {
      "cell_type": "code",
      "metadata": {
        "colab": {
          "base_uri": "https://localhost:8080/"
        },
        "id": "Hi4NKWJD3CuD",
        "outputId": "4962c4d7-0eef-45a3-f1ae-68afd60f4985"
      },
      "source": [
        "model = keras.models.load_model('best-model.h5')\n",
        "model.evaluate(val_scaled,val_target)"
      ],
      "execution_count": null,
      "outputs": [
        {
          "output_type": "stream",
          "text": [
            "375/375 [==============================] - 1s 1ms/step - loss: 0.3356 - accuracy: 0.8817\n"
          ],
          "name": "stdout"
        },
        {
          "output_type": "execute_result",
          "data": {
            "text/plain": [
              "[0.3356347978115082, 0.8817499876022339]"
            ]
          },
          "metadata": {
            "tags": []
          },
          "execution_count": 28
        }
      ]
    },
    {
      "cell_type": "code",
      "metadata": {
        "id": "Fjw8T5DQ3ukq"
      },
      "source": [
        "model = model_fn(keras.layers.Dropout(0.3))\n",
        "model.compile(optimizer='adam',loss='sparse_categorical_crossentropy', metrics='accuracy')\n",
        "early_stopping_cb = keras.callbacks.EarlyStopping(patience = 2,    #조기종료 추가 -> 에포크 횟수 늘려도 안심\n",
        "                                                  restore_best_weights=True)\n",
        "history = model.fit(train_scaled,train_target,epochs=20,verbose=0,validation_data=(val_scaled,val_target),callbacks=[checkpoint_cb,early_stopping_cb])    # 콜백 리스트에 추가되었다"
      ],
      "execution_count": null,
      "outputs": []
    },
    {
      "cell_type": "code",
      "metadata": {
        "colab": {
          "base_uri": "https://localhost:8080/"
        },
        "id": "7IM00zLZ5ZXH",
        "outputId": "1acb8c5e-b7f7-45fb-ac54-8d5ce49a5acf"
      },
      "source": [
        "early_stopping_cb.stopped_epoch    # 0부터 시작하고, patient = 2 였으므로 최상의 epoch = 11"
      ],
      "execution_count": null,
      "outputs": [
        {
          "output_type": "execute_result",
          "data": {
            "text/plain": [
              "12"
            ]
          },
          "metadata": {
            "tags": []
          },
          "execution_count": 30
        }
      ]
    },
    {
      "cell_type": "code",
      "metadata": {
        "colab": {
          "base_uri": "https://localhost:8080/",
          "height": 283
        },
        "id": "Mw-C4oyR5nuz",
        "outputId": "12ecb23d-ebb8-4710-b2dd-592f505e33f9"
      },
      "source": [
        "plt.plot(history.history['loss'])\n",
        "plt.plot(history.history['val_loss'])\n",
        "plt.xlabel('epoch')\n",
        "plt.ylabel('loss')\n",
        "plt.legend(['train','val'])\n",
        "plt.show()"
      ],
      "execution_count": null,
      "outputs": [
        {
          "output_type": "display_data",
          "data": {
            "image/png": "[encoded data removed]",
            "text/plain": [
              "<Figure size 432x288 with 1 Axes>"
            ]
          },
          "metadata": {
            "tags": [],
            "needs_background": "light"
          }
        }
      ]
    },
    {
      "cell_type": "code",
      "metadata": {
        "colab": {
          "base_uri": "https://localhost:8080/"
        },
        "id": "0cwubXd45-Gr",
        "outputId": "c9b06edd-badd-4487-8639-a4c9d17fa07f"
      },
      "source": [
        "model.evaluate(val_scaled,val_target)"
      ],
      "execution_count": null,
      "outputs": [
        {
          "output_type": "stream",
          "text": [
            "375/375 [==============================] - 0s 1ms/step - loss: 0.3159 - accuracy: 0.8832\n"
          ],
          "name": "stdout"
        },
        {
          "output_type": "execute_result",
          "data": {
            "text/plain": [
              "[0.3159058690071106, 0.8832499980926514]"
            ]
          },
          "metadata": {
            "tags": []
          },
          "execution_count": 32
        }
      ]
    },
    {
      "cell_type": "code",
      "metadata": {
        "id": "X9DRftVW6Nkg"
      },
      "source": [
        ""
      ],
      "execution_count": null,
      "outputs": []
    }
  ]
}