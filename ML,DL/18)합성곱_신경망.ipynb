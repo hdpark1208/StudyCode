{
  "nbformat": 4,
  "nbformat_minor": 0,
  "metadata": {
    "colab": {
      "name": "18)합성곱 신경망.ipynb",
      "provenance": [],
      "collapsed_sections": [],
      "authorship_tag": "ABX9TyO8VM05fWclQ9xtI30/mSJx",
      "include_colab_link": true
    },
    "kernelspec": {
      "name": "python3",
      "display_name": "Python 3"
    },
    "language_info": {
      "name": "python"
    }
  },
  "cells": [
    {
      "cell_type": "markdown",
      "metadata": {
        "id": "view-in-github",
        "colab_type": "text"
      },
      "source": [
        "<a href=\"https://colab.research.google.com/github/hdpark1208/StudyCode/blob/main/ML%2CDL/18)%ED%95%A9%EC%84%B1%EA%B3%B1_%EC%8B%A0%EA%B2%BD%EB%A7%9D.ipynb\" target=\"_parent\"><img src=\"https://colab.research.google.com/assets/colab-badge.svg\" alt=\"Open In Colab\"/></a>"
      ]
    },
    {
      "cell_type": "markdown",
      "metadata": {
        "id": "UjOspeZmzuYX"
      },
      "source": [
        "# ***5-3 트리의 앙상블***"
      ]
    },
    {
      "cell_type": "markdown",
      "metadata": {
        "id": "oNFQHpSc0GZ9"
      },
      "source": [
        "# **줄거리**"
      ]
    },
    {
      "cell_type": "markdown",
      "metadata": {
        "id": "fbhPV6gl0PJH"
      },
      "source": [
        "#Note"
      ]
    },
    {
      "cell_type": "markdown",
      "metadata": {
        "id": "edi2f-Ek0WZH"
      },
      "source": [
        "#**코드**\n"
      ]
    },
    {
      "cell_type": "code",
      "metadata": {
        "colab": {
          "base_uri": "https://localhost:8080/"
        },
        "id": "GqdALwtlandU",
        "outputId": "607c1615-ec17-4e27-d9d6-87ad38483937"
      },
      "source": [
        "from tensorflow import keras\n",
        "keras.layers.Conv2D(10,kernel_size=(3,3),activation='relu') # 필터의 개수, 커널의 크기, 활성화함수"
      ],
      "execution_count": null,
      "outputs": [
        {
          "output_type": "execute_result",
          "data": {
            "text/plain": [
              "<tensorflow.python.keras.layers.convolutional.Conv2D at 0x7fd0e8c8efd0>"
            ]
          },
          "metadata": {
            "tags": []
          },
          "execution_count": 1
        }
      ]
    },
    {
      "cell_type": "code",
      "metadata": {
        "colab": {
          "base_uri": "https://localhost:8080/"
        },
        "id": "WiqcLGhifdQA",
        "outputId": "2d5b3d42-aa19-43fc-d37c-1e599db93de0"
      },
      "source": [
        "keras.layers.Conv2D(10,kernel_size=(3,3),activation='relu',padding='same',strides=1) # 패딩, 스트라이드\n",
        "# 세임 패딩을 사용할 경우 입력과 특성 맵의 크기가 같다"
      ],
      "execution_count": null,
      "outputs": [
        {
          "output_type": "execute_result",
          "data": {
            "text/plain": [
              "<tensorflow.python.keras.layers.convolutional.Conv2D at 0x7fd0e8a6e990>"
            ]
          },
          "metadata": {
            "tags": []
          },
          "execution_count": 2
        }
      ]
    },
    {
      "cell_type": "code",
      "metadata": {
        "id": "00bXrPzlkw43"
      },
      "source": [
        "#Pooling : 가중치 없이 주로 가장 큰 값 혹은 평균 값을 선택. 겹치지않고 이동. 패딩도 없음. 크기를 확실히 줄임\n",
        "keras.layers.MaxPooling2D(2, strides=2,padding='valid') "
      ],
      "execution_count": null,
      "outputs": []
    }
  ]
}