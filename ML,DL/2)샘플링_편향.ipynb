{
  "nbformat": 4,
  "nbformat_minor": 0,
  "metadata": {
    "colab": {
      "name": "2)샘플링 편향.ipynb",
      "provenance": [],
      "collapsed_sections": [],
      "authorship_tag": "ABX9TyNEJVGSTh3XWDbthNhg6ixk",
      "include_colab_link": true
    },
    "kernelspec": {
      "name": "python3",
      "display_name": "Python 3"
    },
    "language_info": {
      "name": "python"
    }
  },
  "cells": [
    {
      "cell_type": "markdown",
      "metadata": {
        "id": "view-in-github",
        "colab_type": "text"
      },
      "source": [
        "<a href=\"https://colab.research.google.com/github/hdpark1208/StudyCode/blob/main/2)%EC%83%98%ED%94%8C%EB%A7%81_%ED%8E%B8%ED%96%A5.ipynb\" target=\"_parent\"><img src=\"https://colab.research.google.com/assets/colab-badge.svg\" alt=\"Open In Colab\"/></a>"
      ]
    },
    {
      "cell_type": "markdown",
      "metadata": {
        "id": "xd9eYQP2ngB1"
      },
      "source": [
        "2-1 훈련세트와 테스트세트\n"
      ]
    },
    {
      "cell_type": "markdown",
      "metadata": {
        "id": "_gyBMayGRPHz"
      },
      "source": [
        "#**줄거리**\n",
        "1. 앞서 했었던 생선 데이터(Sample)를 준비한다\n",
        "\n",
        "2. KNN 모델 객체를 만든다\n",
        "\n",
        "3. 슬라이싱(Slicing)을 이용해 데이터를 훈련 세트와 테스트 세트로 나눈 후 모델을 평가한다\n",
        "\n",
        "4. 모델의 성능이 망가졌음을 확인하고 이는 샘플링 편향(Sampling bias) 때문임을 이해한다\n",
        "\n",
        "5. 넘파이(Numpy) 를 이용해 생선 데이터를 초기화하고 인덱스를 랜덤하게 섞은 후 훈련시킨다\n",
        "\n",
        "6. 훈련, 테스트 세트가 잘 섞였는지 맷플롯을 통해 시각적으로 확인하고 성능을 다시 평가해본다\n",
        "\n"
      ]
    },
    {
      "cell_type": "markdown",
      "metadata": {
        "id": "7dvgaEKdR7ts"
      },
      "source": [
        "#Note"
      ]
    },
    {
      "cell_type": "markdown",
      "metadata": {
        "id": "6d0aQwwFSQ_X"
      },
      "source": [
        "지도 학습 : 입력과 타겟을 전달하여 모델을 훈련시키는 학습\n",
        "\n",
        "비지도 학습 : 타겟 데이터 없이 모델을 훈련시키는 학습\n",
        "\n",
        "훈련 세트 : 모델을 훈련할 때 사용하는 데이터 \n",
        "\n",
        "테스트 세트 : 모델을 테스트할 때 사용하는 데이터 (주로 전체 데이터의 20~30% 정도로 설정)\n"
      ]
    },
    {
      "cell_type": "markdown",
      "metadata": {
        "id": "5L-YINFtbn0f"
      },
      "source": [
        "##Numpy\n",
        "###import numpy as np\n",
        "random.seed() : 랜덤 함수의 결과를 동일하게 나타내고 싶을 때 사용  \n",
        "\n",
        "arange() : 일정한 간격의 정수 또는 실수 배열을 만듬 \n",
        "\n",
        "shuffle() : 주어진 배열을 랜덤하게 섞는다\n"
      ]
    },
    {
      "cell_type": "markdown",
      "metadata": {
        "id": "ei6JfHPUR3We"
      },
      "source": [
        "#**코드**"
      ]
    },
    {
      "cell_type": "code",
      "metadata": {
        "id": "VZIRX3SBlLkI"
      },
      "source": [
        "fish_length = [25.4, 26.3, 26.5, 29.0, 29.0, 29.7, 29.7, 30.0, 30.0, 30.7, 31.0, 31.0, \n",
        "                31.5, 32.0, 32.0, 32.0, 33.0, 33.0, 33.5, 33.5, 34.0, 34.0, 34.5, 35.0, \n",
        "                35.0, 35.0, 35.0, 36.0, 36.0, 37.0, 38.5, 38.5, 39.5, 41.0, 41.0, 9.8, \n",
        "                10.5, 10.6, 11.0, 11.2, 11.3, 11.8, 11.8, 12.0, 12.2, 12.4, 13.0, 14.3, 15.0]\n",
        "fish_weight = [242.0, 290.0, 340.0, 363.0, 430.0, 450.0, 500.0, 390.0, 450.0, 500.0, 475.0, 500.0, \n",
        "                500.0, 340.0, 600.0, 600.0, 700.0, 700.0, 610.0, 650.0, 575.0, 685.0, 620.0, 680.0, \n",
        "                700.0, 725.0, 720.0, 714.0, 850.0, 1000.0, 920.0, 955.0, 925.0, 975.0, 950.0, 6.7, \n",
        "                7.5, 7.0, 9.7, 9.8, 8.7, 10.0, 9.9, 9.8, 12.2, 13.4, 12.2, 19.7, 19.9]"
      ],
      "execution_count": null,
      "outputs": []
    },
    {
      "cell_type": "code",
      "metadata": {
        "colab": {
          "base_uri": "https://localhost:8080/"
        },
        "id": "h455QUQhtIxP",
        "outputId": "d84630aa-a975-4089-b2db-8eb566913378"
      },
      "source": [
        "fish_data = [[l,w] for l,w in zip(fish_length,fish_weight)]\n",
        "fish_target = [1]*35 + [0]*14 \n",
        "print(fish_data[0])\n",
        "print(fish_data[0][0])"
      ],
      "execution_count": null,
      "outputs": [
        {
          "output_type": "stream",
          "text": [
            "[25.4, 242.0]\n",
            "25.4\n"
          ],
          "name": "stdout"
        }
      ]
    },
    {
      "cell_type": "code",
      "metadata": {
        "id": "nYlvG-BataP_"
      },
      "source": [
        "from sklearn.neighbors import KNeighborsClassifier\n",
        "kn = KNeighborsClassifier()\n",
        "\n",
        "train_input = fish_data[:35]\n",
        "train_target = fish_target[:35]\n",
        "test_input = fish_data[35:]\n",
        "test_target = fish_target[35:]\n"
      ],
      "execution_count": null,
      "outputs": []
    },
    {
      "cell_type": "code",
      "metadata": {
        "colab": {
          "base_uri": "https://localhost:8080/"
        },
        "id": "GDO8VZQQvct1",
        "outputId": "f706020f-75c8-4a87-862b-ee27cf6caf23"
      },
      "source": [
        "kn= kn.fit(train_input,train_target)\n",
        "kn.score(test_input,test_target) # 샘플링 편향(sampling bias) 으로 인한 문제"
      ],
      "execution_count": null,
      "outputs": [
        {
          "output_type": "execute_result",
          "data": {
            "text/plain": [
              "0.0"
            ]
          },
          "metadata": {
            "tags": []
          },
          "execution_count": 4
        }
      ]
    },
    {
      "cell_type": "code",
      "metadata": {
        "colab": {
          "base_uri": "https://localhost:8080/"
        },
        "id": "9WZYEgIC7HWC",
        "outputId": "5318ac61-b598-477c-a963-9fe643db2f63"
      },
      "source": [
        "import numpy as np\n",
        "\n",
        "input_arr = np.array(fish_data)\n",
        "target_arr = np.array(fish_target)\n",
        "\n",
        "print(input_arr)\n",
        "\n",
        "print(input_arr.shape)"
      ],
      "execution_count": null,
      "outputs": [
        {
          "output_type": "stream",
          "text": [
            "[[  25.4  242. ]\n",
            " [  26.3  290. ]\n",
            " [  26.5  340. ]\n",
            " [  29.   363. ]\n",
            " [  29.   430. ]\n",
            " [  29.7  450. ]\n",
            " [  29.7  500. ]\n",
            " [  30.   390. ]\n",
            " [  30.   450. ]\n",
            " [  30.7  500. ]\n",
            " [  31.   475. ]\n",
            " [  31.   500. ]\n",
            " [  31.5  500. ]\n",
            " [  32.   340. ]\n",
            " [  32.   600. ]\n",
            " [  32.   600. ]\n",
            " [  33.   700. ]\n",
            " [  33.   700. ]\n",
            " [  33.5  610. ]\n",
            " [  33.5  650. ]\n",
            " [  34.   575. ]\n",
            " [  34.   685. ]\n",
            " [  34.5  620. ]\n",
            " [  35.   680. ]\n",
            " [  35.   700. ]\n",
            " [  35.   725. ]\n",
            " [  35.   720. ]\n",
            " [  36.   714. ]\n",
            " [  36.   850. ]\n",
            " [  37.  1000. ]\n",
            " [  38.5  920. ]\n",
            " [  38.5  955. ]\n",
            " [  39.5  925. ]\n",
            " [  41.   975. ]\n",
            " [  41.   950. ]\n",
            " [   9.8    6.7]\n",
            " [  10.5    7.5]\n",
            " [  10.6    7. ]\n",
            " [  11.     9.7]\n",
            " [  11.2    9.8]\n",
            " [  11.3    8.7]\n",
            " [  11.8   10. ]\n",
            " [  11.8    9.9]\n",
            " [  12.     9.8]\n",
            " [  12.2   12.2]\n",
            " [  12.4   13.4]\n",
            " [  13.    12.2]\n",
            " [  14.3   19.7]\n",
            " [  15.    19.9]]\n",
            "(49, 2)\n"
          ],
          "name": "stdout"
        }
      ]
    },
    {
      "cell_type": "code",
      "metadata": {
        "colab": {
          "base_uri": "https://localhost:8080/"
        },
        "id": "zt5I875h84T_",
        "outputId": "1268c76b-1e1e-4ca1-f5fc-50a4d76aac3c"
      },
      "source": [
        "np.random.seed(42)\n",
        "index = np.arange(49)\n",
        "np.random.shuffle(index)\n",
        "\n",
        "print(index)    #[0,1,2, ... ,47,48] 이 잘 섞였는지 확인\n",
        "\n"
      ],
      "execution_count": null,
      "outputs": [
        {
          "output_type": "stream",
          "text": [
            "[13 45 47 44 17 27 26 25 31 19 12  4 34  8  3  6 40 41 46 15  9 16 24 33\n",
            " 30  0 43 32  5 29 11 36  1 21  2 37 35 23 39 10 22 18 48 20  7 42 14 28\n",
            " 38]\n"
          ],
          "name": "stdout"
        }
      ]
    },
    {
      "cell_type": "code",
      "metadata": {
        "colab": {
          "base_uri": "https://localhost:8080/"
        },
        "id": "dW4uC2NB9eIw",
        "outputId": "9803ebf7-25a9-492a-d473-c5f62a08ae6d"
      },
      "source": [
        "train_input = input_arr[index[:35]]    #잘 섞인 배열을 이용해 input, target 데이터 초기화\n",
        "train_target = target_arr[index[:35]]\n",
        "\n",
        "print(input_arr[13],train_input[0])"
      ],
      "execution_count": null,
      "outputs": [
        {
          "output_type": "stream",
          "text": [
            "[ 32. 340.] [ 32. 340.]\n"
          ],
          "name": "stdout"
        }
      ]
    },
    {
      "cell_type": "code",
      "metadata": {
        "colab": {
          "base_uri": "https://localhost:8080/",
          "height": 279
        },
        "id": "mGdT3DpN_GXY",
        "outputId": "0ea627fa-317e-4afa-b007-c766bfbdd3b0"
      },
      "source": [
        "test_input = input_arr[index[35:]]\n",
        "test_target = target_arr[index[35:]]\n",
        "\n",
        "import matplotlib.pyplot as plt\n",
        "plt.scatter(train_input[:,0],train_input[:,1],c='b')    #잘 나뉘어 졌는지 시각적으로 표현\n",
        "plt.scatter(test_input[:,0],test_input[:,1],c='r')\n",
        "plt.xlabel('length')\n",
        "plt.ylabel('weight')\n",
        "plt.show()\n",
        "\n"
      ],
      "execution_count": null,
      "outputs": [
        {
          "output_type": "display_data",
          "data": {
            "image/png": "[encoded data removed]",
            "text/plain": [
              "<Figure size 432x288 with 1 Axes>"
            ]
          },
          "metadata": {
            "tags": [],
            "needs_background": "light"
          }
        }
      ]
    },
    {
      "cell_type": "code",
      "metadata": {
        "colab": {
          "base_uri": "https://localhost:8080/"
        },
        "id": "MtlBFlXn_-BX",
        "outputId": "3ee7b7a1-6096-45d7-aa8e-a4484e232a81"
      },
      "source": [
        "kn = kn.fit(train_input, train_target)    #훈련 세트로 학습시키고\n",
        "\n",
        "print(kn.predict(test_input))    #테스트 세트로 모델 성능 확인\n",
        "print(test_target)\n",
        "\n",
        "print(kn.score(test_input,test_target))"
      ],
      "execution_count": null,
      "outputs": [
        {
          "output_type": "stream",
          "text": [
            "[0 0 1 0 1 1 1 0 1 1 0 1 1 0]\n",
            "[0 0 1 0 1 1 1 0 1 1 0 1 1 0]\n",
            "1.0\n"
          ],
          "name": "stdout"
        }
      ]
    }
  ]
}
