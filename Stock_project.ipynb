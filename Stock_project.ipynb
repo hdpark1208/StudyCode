{
  "nbformat": 4,
  "nbformat_minor": 0,
  "metadata": {
    "colab": {
      "name": "Stock_project.ipynb",
      "provenance": [],
      "collapsed_sections": [
        "7eKHGRdoOu4p",
        "n_B7oMc1OpiH"
      ],
      "toc_visible": true,
      "authorship_tag": "ABX9TyOFqRfx9I5R9MQ0Ef47GCfV",
      "include_colab_link": true
    },
    "kernelspec": {
      "name": "python3",
      "display_name": "Python 3"
    },
    "language_info": {
      "name": "python"
    }
  },
  "cells": [
    {
      "cell_type": "markdown",
      "metadata": {
        "id": "view-in-github",
        "colab_type": "text"
      },
      "source": [
        "<a href=\"https://colab.research.google.com/github/hdpark1208/StudyCode/blob/main/Stock_project.ipynb\" target=\"_parent\"><img src=\"https://colab.research.google.com/assets/colab-badge.svg\" alt=\"Open In Colab\"/></a>"
      ]
    },
    {
      "cell_type": "markdown",
      "metadata": {
        "id": "060Hbo109d2Y"
      },
      "source": [
        "## 개요"
      ]
    },
    {
      "cell_type": "markdown",
      "metadata": {
        "id": "LXzO-n3NI0tS"
      },
      "source": [
        "1. 코로나 펜데믹 이후 코스피와 삼성전자의 주가 흐름\n",
        "2. 코스피와 삼성전자 유사도\n",
        "3. Arima 모델을 이용한 코스피 예측"
      ]
    },
    {
      "cell_type": "markdown",
      "metadata": {
        "id": "epLMNrSlMM3d"
      },
      "source": [
        "## 준비"
      ]
    },
    {
      "cell_type": "code",
      "metadata": {
        "id": "MO64roYu-VlG"
      },
      "source": [
        "import pandas as pd\n",
        "import numpy as np\n",
        "import matplotlib.pyplot as plt\n",
        "import seaborn as sns"
      ],
      "execution_count": 3,
      "outputs": []
    },
    {
      "cell_type": "markdown",
      "metadata": {
        "id": "Szx7zpXYFoHb"
      },
      "source": [
        "**야후 파이낸스에서 1. 코스피 2. 삼성전자 데이터를 가져온다.**\n",
        "*  직접 다운로드\n",
        "* API 이용"
      ]
    },
    {
      "cell_type": "markdown",
      "metadata": {
        "id": "7eKHGRdoOu4p"
      },
      "source": [
        "### Download"
      ]
    },
    {
      "cell_type": "markdown",
      "metadata": {
        "id": "g7S2UsSTHd1o"
      },
      "source": [
        "* 야후 파이낸스에서 다운로드 받은 후 코랩에 업로드 한다 (기간 설정도 가능하다)"
      ]
    },
    {
      "cell_type": "code",
      "metadata": {
        "id": "cDgJZOH9O4AV"
      },
      "source": [
        "df = pd.read_csv('./^KS11.csv')"
      ],
      "execution_count": 4,
      "outputs": []
    },
    {
      "cell_type": "markdown",
      "metadata": {
        "id": "n_B7oMc1OpiH"
      },
      "source": [
        "### API"
      ]
    },
    {
      "cell_type": "code",
      "metadata": {
        "colab": {
          "base_uri": "https://localhost:8080/"
        },
        "id": "J-MbWUpNH6RT",
        "outputId": "8bb24843-1967-49b5-8e9e-761c96ac8d76"
      },
      "source": [
        "!pip install yfinance"
      ],
      "execution_count": 5,
      "outputs": [
        {
          "output_type": "stream",
          "text": [
            "Collecting yfinance\n",
            "  Downloading https://files.pythonhosted.org/packages/a7/ee/315752b9ef281ba83c62aa7ec2e2074f85223da6e7e74efb4d3e11c0f510/yfinance-0.1.59.tar.gz\n",
            "Requirement already satisfied: pandas>=0.24 in /usr/local/lib/python3.7/dist-packages (from yfinance) (1.1.5)\n",
            "Requirement already satisfied: numpy>=1.15 in /usr/local/lib/python3.7/dist-packages (from yfinance) (1.19.5)\n",
            "Requirement already satisfied: requests>=2.20 in /usr/local/lib/python3.7/dist-packages (from yfinance) (2.23.0)\n",
            "Requirement already satisfied: multitasking>=0.0.7 in /usr/local/lib/python3.7/dist-packages (from yfinance) (0.0.9)\n",
            "Collecting lxml>=4.5.1\n",
            "\u001b[?25l  Downloading https://files.pythonhosted.org/packages/30/c0/d0526314971fc661b083ab135747dc68446a3022686da8c16d25fcf6ef07/lxml-4.6.3-cp37-cp37m-manylinux2014_x86_64.whl (6.3MB)\n",
            "\u001b[K     |████████████████████████████████| 6.3MB 3.2MB/s \n",
            "\u001b[?25hRequirement already satisfied: python-dateutil>=2.7.3 in /usr/local/lib/python3.7/dist-packages (from pandas>=0.24->yfinance) (2.8.1)\n",
            "Requirement already satisfied: pytz>=2017.2 in /usr/local/lib/python3.7/dist-packages (from pandas>=0.24->yfinance) (2018.9)\n",
            "Requirement already satisfied: chardet<4,>=3.0.2 in /usr/local/lib/python3.7/dist-packages (from requests>=2.20->yfinance) (3.0.4)\n",
            "Requirement already satisfied: idna<3,>=2.5 in /usr/local/lib/python3.7/dist-packages (from requests>=2.20->yfinance) (2.10)\n",
            "Requirement already satisfied: urllib3!=1.25.0,!=1.25.1,<1.26,>=1.21.1 in /usr/local/lib/python3.7/dist-packages (from requests>=2.20->yfinance) (1.24.3)\n",
            "Requirement already satisfied: certifi>=2017.4.17 in /usr/local/lib/python3.7/dist-packages (from requests>=2.20->yfinance) (2020.12.5)\n",
            "Requirement already satisfied: six>=1.5 in /usr/local/lib/python3.7/dist-packages (from python-dateutil>=2.7.3->pandas>=0.24->yfinance) (1.15.0)\n",
            "Building wheels for collected packages: yfinance\n",
            "  Building wheel for yfinance (setup.py) ... \u001b[?25l\u001b[?25hdone\n",
            "  Created wheel for yfinance: filename=yfinance-0.1.59-py2.py3-none-any.whl size=23455 sha256=90ae64ec9cc648aa68de57a663bc9036f74539ab3ace5c160b904415d2dac46a\n",
            "  Stored in directory: /root/.cache/pip/wheels/f8/2a/0f/4b5a86e1d52e451757eb6bc17fd899629f0925c777741b6d04\n",
            "Successfully built yfinance\n",
            "Installing collected packages: lxml, yfinance\n",
            "  Found existing installation: lxml 4.2.6\n",
            "    Uninstalling lxml-4.2.6:\n",
            "      Successfully uninstalled lxml-4.2.6\n",
            "Successfully installed lxml-4.6.3 yfinance-0.1.59\n"
          ],
          "name": "stdout"
        }
      ]
    },
    {
      "cell_type": "code",
      "metadata": {
        "id": "MEIgXqwtGH_B"
      },
      "source": [
        "import yfinance as yf"
      ],
      "execution_count": 6,
      "outputs": []
    },
    {
      "cell_type": "code",
      "metadata": {
        "colab": {
          "base_uri": "https://localhost:8080/"
        },
        "id": "SzL-1b5yHQyp",
        "outputId": "2358f39a-b885-45c9-d3bc-d47fff1da925"
      },
      "source": [
        "df_s = yf.download('005930.KS',start='2020-06-08',end='2021-06-04')    #계속 업데이트되므로 end 를 안할 시 오류날 수 있음"
      ],
      "execution_count": 7,
      "outputs": [
        {
          "output_type": "stream",
          "text": [
            "\r[*********************100%***********************]  1 of 1 completed\n"
          ],
          "name": "stdout"
        }
      ]
    },
    {
      "cell_type": "markdown",
      "metadata": {
        "id": "pA5G2hWjHzZ5"
      },
      "source": [
        "## EDA"
      ]
    },
    {
      "cell_type": "markdown",
      "metadata": {
        "id": "RLjWRHvxMYwj"
      },
      "source": [
        "* 2020년 초 주가 대폭락 이후 이전 주가를 회복했을 때를 시점으로 합니다 (20.06.08~21.06.04)"
      ]
    },
    {
      "cell_type": "code",
      "metadata": {
        "colab": {
          "base_uri": "https://localhost:8080/",
          "height": 203
        },
        "id": "uO4Rj4_gIbaE",
        "outputId": "739740d5-9942-418b-8d9e-96fd9d360367"
      },
      "source": [
        "df.head()"
      ],
      "execution_count": 8,
      "outputs": [
        {
          "output_type": "execute_result",
          "data": {
            "text/html": [
              "<div>\n",
              "<style scoped>\n",
              "    .dataframe tbody tr th:only-of-type {\n",
              "        vertical-align: middle;\n",
              "    }\n",
              "\n",
              "    .dataframe tbody tr th {\n",
              "        vertical-align: top;\n",
              "    }\n",
              "\n",
              "    .dataframe thead th {\n",
              "        text-align: right;\n",
              "    }\n",
              "</style>\n",
              "<table border=\"1\" class=\"dataframe\">\n",
              "  <thead>\n",
              "    <tr style=\"text-align: right;\">\n",
              "      <th></th>\n",
              "      <th>Date</th>\n",
              "      <th>Open</th>\n",
              "      <th>High</th>\n",
              "      <th>Low</th>\n",
              "      <th>Close</th>\n",
              "      <th>Adj Close</th>\n",
              "      <th>Volume</th>\n",
              "    </tr>\n",
              "  </thead>\n",
              "  <tbody>\n",
              "    <tr>\n",
              "      <th>0</th>\n",
              "      <td>2020-06-08</td>\n",
              "      <td>2215.600098</td>\n",
              "      <td>2217.209961</td>\n",
              "      <td>2174.959961</td>\n",
              "      <td>2184.290039</td>\n",
              "      <td>2184.290039</td>\n",
              "      <td>854000</td>\n",
              "    </tr>\n",
              "    <tr>\n",
              "      <th>1</th>\n",
              "      <td>2020-06-09</td>\n",
              "      <td>2206.229980</td>\n",
              "      <td>2212.169922</td>\n",
              "      <td>2166.010010</td>\n",
              "      <td>2188.919922</td>\n",
              "      <td>2188.919922</td>\n",
              "      <td>817100</td>\n",
              "    </tr>\n",
              "    <tr>\n",
              "      <th>2</th>\n",
              "      <td>2020-06-10</td>\n",
              "      <td>2187.909912</td>\n",
              "      <td>2200.679932</td>\n",
              "      <td>2178.120117</td>\n",
              "      <td>2195.689941</td>\n",
              "      <td>2195.689941</td>\n",
              "      <td>706300</td>\n",
              "    </tr>\n",
              "    <tr>\n",
              "      <th>3</th>\n",
              "      <td>2020-06-11</td>\n",
              "      <td>2184.360107</td>\n",
              "      <td>2200.719971</td>\n",
              "      <td>2148.510010</td>\n",
              "      <td>2176.780029</td>\n",
              "      <td>2176.780029</td>\n",
              "      <td>827400</td>\n",
              "    </tr>\n",
              "    <tr>\n",
              "      <th>4</th>\n",
              "      <td>2020-06-12</td>\n",
              "      <td>2088.239990</td>\n",
              "      <td>2137.120117</td>\n",
              "      <td>2084.629883</td>\n",
              "      <td>2132.300049</td>\n",
              "      <td>2132.300049</td>\n",
              "      <td>689900</td>\n",
              "    </tr>\n",
              "  </tbody>\n",
              "</table>\n",
              "</div>"
            ],
            "text/plain": [
              "         Date         Open         High  ...        Close    Adj Close  Volume\n",
              "0  2020-06-08  2215.600098  2217.209961  ...  2184.290039  2184.290039  854000\n",
              "1  2020-06-09  2206.229980  2212.169922  ...  2188.919922  2188.919922  817100\n",
              "2  2020-06-10  2187.909912  2200.679932  ...  2195.689941  2195.689941  706300\n",
              "3  2020-06-11  2184.360107  2200.719971  ...  2176.780029  2176.780029  827400\n",
              "4  2020-06-12  2088.239990  2137.120117  ...  2132.300049  2132.300049  689900\n",
              "\n",
              "[5 rows x 7 columns]"
            ]
          },
          "metadata": {
            "tags": []
          },
          "execution_count": 8
        }
      ]
    },
    {
      "cell_type": "code",
      "metadata": {
        "colab": {
          "base_uri": "https://localhost:8080/",
          "height": 234
        },
        "id": "GdPSf9Q3JYFl",
        "outputId": "f84d6eba-f20e-4b62-ca40-3959d6683296"
      },
      "source": [
        "df_s.head()"
      ],
      "execution_count": 9,
      "outputs": [
        {
          "output_type": "execute_result",
          "data": {
            "text/html": [
              "<div>\n",
              "<style scoped>\n",
              "    .dataframe tbody tr th:only-of-type {\n",
              "        vertical-align: middle;\n",
              "    }\n",
              "\n",
              "    .dataframe tbody tr th {\n",
              "        vertical-align: top;\n",
              "    }\n",
              "\n",
              "    .dataframe thead th {\n",
              "        text-align: right;\n",
              "    }\n",
              "</style>\n",
              "<table border=\"1\" class=\"dataframe\">\n",
              "  <thead>\n",
              "    <tr style=\"text-align: right;\">\n",
              "      <th></th>\n",
              "      <th>Open</th>\n",
              "      <th>High</th>\n",
              "      <th>Low</th>\n",
              "      <th>Close</th>\n",
              "      <th>Adj Close</th>\n",
              "      <th>Volume</th>\n",
              "    </tr>\n",
              "    <tr>\n",
              "      <th>Date</th>\n",
              "      <th></th>\n",
              "      <th></th>\n",
              "      <th></th>\n",
              "      <th></th>\n",
              "      <th></th>\n",
              "      <th></th>\n",
              "    </tr>\n",
              "  </thead>\n",
              "  <tbody>\n",
              "    <tr>\n",
              "      <th>2020-06-08</th>\n",
              "      <td>56400.0</td>\n",
              "      <td>56500.0</td>\n",
              "      <td>54700.0</td>\n",
              "      <td>54900.0</td>\n",
              "      <td>52637.437500</td>\n",
              "      <td>25634965</td>\n",
              "    </tr>\n",
              "    <tr>\n",
              "      <th>2020-06-09</th>\n",
              "      <td>55800.0</td>\n",
              "      <td>56500.0</td>\n",
              "      <td>54400.0</td>\n",
              "      <td>55500.0</td>\n",
              "      <td>53212.710938</td>\n",
              "      <td>23998831</td>\n",
              "    </tr>\n",
              "    <tr>\n",
              "      <th>2020-06-10</th>\n",
              "      <td>55100.0</td>\n",
              "      <td>55900.0</td>\n",
              "      <td>54900.0</td>\n",
              "      <td>55400.0</td>\n",
              "      <td>53116.835938</td>\n",
              "      <td>16742493</td>\n",
              "    </tr>\n",
              "    <tr>\n",
              "      <th>2020-06-11</th>\n",
              "      <td>54500.0</td>\n",
              "      <td>55100.0</td>\n",
              "      <td>53200.0</td>\n",
              "      <td>54300.0</td>\n",
              "      <td>52062.167969</td>\n",
              "      <td>33815123</td>\n",
              "    </tr>\n",
              "    <tr>\n",
              "      <th>2020-06-12</th>\n",
              "      <td>52100.0</td>\n",
              "      <td>52800.0</td>\n",
              "      <td>51500.0</td>\n",
              "      <td>52300.0</td>\n",
              "      <td>50144.589844</td>\n",
              "      <td>26976019</td>\n",
              "    </tr>\n",
              "  </tbody>\n",
              "</table>\n",
              "</div>"
            ],
            "text/plain": [
              "               Open     High      Low    Close     Adj Close    Volume\n",
              "Date                                                                  \n",
              "2020-06-08  56400.0  56500.0  54700.0  54900.0  52637.437500  25634965\n",
              "2020-06-09  55800.0  56500.0  54400.0  55500.0  53212.710938  23998831\n",
              "2020-06-10  55100.0  55900.0  54900.0  55400.0  53116.835938  16742493\n",
              "2020-06-11  54500.0  55100.0  53200.0  54300.0  52062.167969  33815123\n",
              "2020-06-12  52100.0  52800.0  51500.0  52300.0  50144.589844  26976019"
            ]
          },
          "metadata": {
            "tags": []
          },
          "execution_count": 9
        }
      ]
    },
    {
      "cell_type": "code",
      "metadata": {
        "colab": {
          "base_uri": "https://localhost:8080/",
          "height": 203
        },
        "id": "D488zuOPJaF3",
        "outputId": "76186758-ee9d-409b-eba2-62e7aecc74dc"
      },
      "source": [
        "df_s['Date']=df_s.index\n",
        "df_s.reset_index(drop=True,inplace=True)\n",
        "df_s.head()"
      ],
      "execution_count": 10,
      "outputs": [
        {
          "output_type": "execute_result",
          "data": {
            "text/html": [
              "<div>\n",
              "<style scoped>\n",
              "    .dataframe tbody tr th:only-of-type {\n",
              "        vertical-align: middle;\n",
              "    }\n",
              "\n",
              "    .dataframe tbody tr th {\n",
              "        vertical-align: top;\n",
              "    }\n",
              "\n",
              "    .dataframe thead th {\n",
              "        text-align: right;\n",
              "    }\n",
              "</style>\n",
              "<table border=\"1\" class=\"dataframe\">\n",
              "  <thead>\n",
              "    <tr style=\"text-align: right;\">\n",
              "      <th></th>\n",
              "      <th>Open</th>\n",
              "      <th>High</th>\n",
              "      <th>Low</th>\n",
              "      <th>Close</th>\n",
              "      <th>Adj Close</th>\n",
              "      <th>Volume</th>\n",
              "      <th>Date</th>\n",
              "    </tr>\n",
              "  </thead>\n",
              "  <tbody>\n",
              "    <tr>\n",
              "      <th>0</th>\n",
              "      <td>56400.0</td>\n",
              "      <td>56500.0</td>\n",
              "      <td>54700.0</td>\n",
              "      <td>54900.0</td>\n",
              "      <td>52637.437500</td>\n",
              "      <td>25634965</td>\n",
              "      <td>2020-06-08</td>\n",
              "    </tr>\n",
              "    <tr>\n",
              "      <th>1</th>\n",
              "      <td>55800.0</td>\n",
              "      <td>56500.0</td>\n",
              "      <td>54400.0</td>\n",
              "      <td>55500.0</td>\n",
              "      <td>53212.710938</td>\n",
              "      <td>23998831</td>\n",
              "      <td>2020-06-09</td>\n",
              "    </tr>\n",
              "    <tr>\n",
              "      <th>2</th>\n",
              "      <td>55100.0</td>\n",
              "      <td>55900.0</td>\n",
              "      <td>54900.0</td>\n",
              "      <td>55400.0</td>\n",
              "      <td>53116.835938</td>\n",
              "      <td>16742493</td>\n",
              "      <td>2020-06-10</td>\n",
              "    </tr>\n",
              "    <tr>\n",
              "      <th>3</th>\n",
              "      <td>54500.0</td>\n",
              "      <td>55100.0</td>\n",
              "      <td>53200.0</td>\n",
              "      <td>54300.0</td>\n",
              "      <td>52062.167969</td>\n",
              "      <td>33815123</td>\n",
              "      <td>2020-06-11</td>\n",
              "    </tr>\n",
              "    <tr>\n",
              "      <th>4</th>\n",
              "      <td>52100.0</td>\n",
              "      <td>52800.0</td>\n",
              "      <td>51500.0</td>\n",
              "      <td>52300.0</td>\n",
              "      <td>50144.589844</td>\n",
              "      <td>26976019</td>\n",
              "      <td>2020-06-12</td>\n",
              "    </tr>\n",
              "  </tbody>\n",
              "</table>\n",
              "</div>"
            ],
            "text/plain": [
              "      Open     High      Low    Close     Adj Close    Volume       Date\n",
              "0  56400.0  56500.0  54700.0  54900.0  52637.437500  25634965 2020-06-08\n",
              "1  55800.0  56500.0  54400.0  55500.0  53212.710938  23998831 2020-06-09\n",
              "2  55100.0  55900.0  54900.0  55400.0  53116.835938  16742493 2020-06-10\n",
              "3  54500.0  55100.0  53200.0  54300.0  52062.167969  33815123 2020-06-11\n",
              "4  52100.0  52800.0  51500.0  52300.0  50144.589844  26976019 2020-06-12"
            ]
          },
          "metadata": {
            "tags": []
          },
          "execution_count": 10
        }
      ]
    },
    {
      "cell_type": "code",
      "metadata": {
        "colab": {
          "base_uri": "https://localhost:8080/",
          "height": 203
        },
        "id": "3gQf0mmcJdJ9",
        "outputId": "cdd080ca-f1cd-4c76-915e-6899d24f770a"
      },
      "source": [
        "df.head()"
      ],
      "execution_count": 11,
      "outputs": [
        {
          "output_type": "execute_result",
          "data": {
            "text/html": [
              "<div>\n",
              "<style scoped>\n",
              "    .dataframe tbody tr th:only-of-type {\n",
              "        vertical-align: middle;\n",
              "    }\n",
              "\n",
              "    .dataframe tbody tr th {\n",
              "        vertical-align: top;\n",
              "    }\n",
              "\n",
              "    .dataframe thead th {\n",
              "        text-align: right;\n",
              "    }\n",
              "</style>\n",
              "<table border=\"1\" class=\"dataframe\">\n",
              "  <thead>\n",
              "    <tr style=\"text-align: right;\">\n",
              "      <th></th>\n",
              "      <th>Date</th>\n",
              "      <th>Open</th>\n",
              "      <th>High</th>\n",
              "      <th>Low</th>\n",
              "      <th>Close</th>\n",
              "      <th>Adj Close</th>\n",
              "      <th>Volume</th>\n",
              "    </tr>\n",
              "  </thead>\n",
              "  <tbody>\n",
              "    <tr>\n",
              "      <th>0</th>\n",
              "      <td>2020-06-08</td>\n",
              "      <td>2215.600098</td>\n",
              "      <td>2217.209961</td>\n",
              "      <td>2174.959961</td>\n",
              "      <td>2184.290039</td>\n",
              "      <td>2184.290039</td>\n",
              "      <td>854000</td>\n",
              "    </tr>\n",
              "    <tr>\n",
              "      <th>1</th>\n",
              "      <td>2020-06-09</td>\n",
              "      <td>2206.229980</td>\n",
              "      <td>2212.169922</td>\n",
              "      <td>2166.010010</td>\n",
              "      <td>2188.919922</td>\n",
              "      <td>2188.919922</td>\n",
              "      <td>817100</td>\n",
              "    </tr>\n",
              "    <tr>\n",
              "      <th>2</th>\n",
              "      <td>2020-06-10</td>\n",
              "      <td>2187.909912</td>\n",
              "      <td>2200.679932</td>\n",
              "      <td>2178.120117</td>\n",
              "      <td>2195.689941</td>\n",
              "      <td>2195.689941</td>\n",
              "      <td>706300</td>\n",
              "    </tr>\n",
              "    <tr>\n",
              "      <th>3</th>\n",
              "      <td>2020-06-11</td>\n",
              "      <td>2184.360107</td>\n",
              "      <td>2200.719971</td>\n",
              "      <td>2148.510010</td>\n",
              "      <td>2176.780029</td>\n",
              "      <td>2176.780029</td>\n",
              "      <td>827400</td>\n",
              "    </tr>\n",
              "    <tr>\n",
              "      <th>4</th>\n",
              "      <td>2020-06-12</td>\n",
              "      <td>2088.239990</td>\n",
              "      <td>2137.120117</td>\n",
              "      <td>2084.629883</td>\n",
              "      <td>2132.300049</td>\n",
              "      <td>2132.300049</td>\n",
              "      <td>689900</td>\n",
              "    </tr>\n",
              "  </tbody>\n",
              "</table>\n",
              "</div>"
            ],
            "text/plain": [
              "         Date         Open         High  ...        Close    Adj Close  Volume\n",
              "0  2020-06-08  2215.600098  2217.209961  ...  2184.290039  2184.290039  854000\n",
              "1  2020-06-09  2206.229980  2212.169922  ...  2188.919922  2188.919922  817100\n",
              "2  2020-06-10  2187.909912  2200.679932  ...  2195.689941  2195.689941  706300\n",
              "3  2020-06-11  2184.360107  2200.719971  ...  2176.780029  2176.780029  827400\n",
              "4  2020-06-12  2088.239990  2137.120117  ...  2132.300049  2132.300049  689900\n",
              "\n",
              "[5 rows x 7 columns]"
            ]
          },
          "metadata": {
            "tags": []
          },
          "execution_count": 11
        }
      ]
    },
    {
      "cell_type": "code",
      "metadata": {
        "id": "8uI_nGBHJtEK"
      },
      "source": [
        "df = df[['Date','Close','Volume']]\n",
        "df_s = df_s[['Date','Close','Volume']]"
      ],
      "execution_count": 12,
      "outputs": []
    },
    {
      "cell_type": "code",
      "metadata": {
        "colab": {
          "base_uri": "https://localhost:8080/",
          "height": 203
        },
        "id": "qPDX21OX9u_U",
        "outputId": "7c0592ba-27f9-4991-e19c-d0ac80d3fab6"
      },
      "source": [
        "df.head()"
      ],
      "execution_count": 13,
      "outputs": [
        {
          "output_type": "execute_result",
          "data": {
            "text/html": [
              "<div>\n",
              "<style scoped>\n",
              "    .dataframe tbody tr th:only-of-type {\n",
              "        vertical-align: middle;\n",
              "    }\n",
              "\n",
              "    .dataframe tbody tr th {\n",
              "        vertical-align: top;\n",
              "    }\n",
              "\n",
              "    .dataframe thead th {\n",
              "        text-align: right;\n",
              "    }\n",
              "</style>\n",
              "<table border=\"1\" class=\"dataframe\">\n",
              "  <thead>\n",
              "    <tr style=\"text-align: right;\">\n",
              "      <th></th>\n",
              "      <th>Date</th>\n",
              "      <th>Close</th>\n",
              "      <th>Volume</th>\n",
              "    </tr>\n",
              "  </thead>\n",
              "  <tbody>\n",
              "    <tr>\n",
              "      <th>0</th>\n",
              "      <td>2020-06-08</td>\n",
              "      <td>2184.290039</td>\n",
              "      <td>854000</td>\n",
              "    </tr>\n",
              "    <tr>\n",
              "      <th>1</th>\n",
              "      <td>2020-06-09</td>\n",
              "      <td>2188.919922</td>\n",
              "      <td>817100</td>\n",
              "    </tr>\n",
              "    <tr>\n",
              "      <th>2</th>\n",
              "      <td>2020-06-10</td>\n",
              "      <td>2195.689941</td>\n",
              "      <td>706300</td>\n",
              "    </tr>\n",
              "    <tr>\n",
              "      <th>3</th>\n",
              "      <td>2020-06-11</td>\n",
              "      <td>2176.780029</td>\n",
              "      <td>827400</td>\n",
              "    </tr>\n",
              "    <tr>\n",
              "      <th>4</th>\n",
              "      <td>2020-06-12</td>\n",
              "      <td>2132.300049</td>\n",
              "      <td>689900</td>\n",
              "    </tr>\n",
              "  </tbody>\n",
              "</table>\n",
              "</div>"
            ],
            "text/plain": [
              "         Date        Close  Volume\n",
              "0  2020-06-08  2184.290039  854000\n",
              "1  2020-06-09  2188.919922  817100\n",
              "2  2020-06-10  2195.689941  706300\n",
              "3  2020-06-11  2176.780029  827400\n",
              "4  2020-06-12  2132.300049  689900"
            ]
          },
          "metadata": {
            "tags": []
          },
          "execution_count": 13
        }
      ]
    },
    {
      "cell_type": "code",
      "metadata": {
        "colab": {
          "base_uri": "https://localhost:8080/",
          "height": 203
        },
        "id": "J8Cd_2r3-yUp",
        "outputId": "595f0e63-60e8-4c35-f006-dacb95b6db99"
      },
      "source": [
        "df_s.head()"
      ],
      "execution_count": 14,
      "outputs": [
        {
          "output_type": "execute_result",
          "data": {
            "text/html": [
              "<div>\n",
              "<style scoped>\n",
              "    .dataframe tbody tr th:only-of-type {\n",
              "        vertical-align: middle;\n",
              "    }\n",
              "\n",
              "    .dataframe tbody tr th {\n",
              "        vertical-align: top;\n",
              "    }\n",
              "\n",
              "    .dataframe thead th {\n",
              "        text-align: right;\n",
              "    }\n",
              "</style>\n",
              "<table border=\"1\" class=\"dataframe\">\n",
              "  <thead>\n",
              "    <tr style=\"text-align: right;\">\n",
              "      <th></th>\n",
              "      <th>Date</th>\n",
              "      <th>Close</th>\n",
              "      <th>Volume</th>\n",
              "    </tr>\n",
              "  </thead>\n",
              "  <tbody>\n",
              "    <tr>\n",
              "      <th>0</th>\n",
              "      <td>2020-06-08</td>\n",
              "      <td>54900.0</td>\n",
              "      <td>25634965</td>\n",
              "    </tr>\n",
              "    <tr>\n",
              "      <th>1</th>\n",
              "      <td>2020-06-09</td>\n",
              "      <td>55500.0</td>\n",
              "      <td>23998831</td>\n",
              "    </tr>\n",
              "    <tr>\n",
              "      <th>2</th>\n",
              "      <td>2020-06-10</td>\n",
              "      <td>55400.0</td>\n",
              "      <td>16742493</td>\n",
              "    </tr>\n",
              "    <tr>\n",
              "      <th>3</th>\n",
              "      <td>2020-06-11</td>\n",
              "      <td>54300.0</td>\n",
              "      <td>33815123</td>\n",
              "    </tr>\n",
              "    <tr>\n",
              "      <th>4</th>\n",
              "      <td>2020-06-12</td>\n",
              "      <td>52300.0</td>\n",
              "      <td>26976019</td>\n",
              "    </tr>\n",
              "  </tbody>\n",
              "</table>\n",
              "</div>"
            ],
            "text/plain": [
              "        Date    Close    Volume\n",
              "0 2020-06-08  54900.0  25634965\n",
              "1 2020-06-09  55500.0  23998831\n",
              "2 2020-06-10  55400.0  16742493\n",
              "3 2020-06-11  54300.0  33815123\n",
              "4 2020-06-12  52300.0  26976019"
            ]
          },
          "metadata": {
            "tags": []
          },
          "execution_count": 14
        }
      ]
    },
    {
      "cell_type": "code",
      "metadata": {
        "colab": {
          "base_uri": "https://localhost:8080/"
        },
        "id": "TZNh6fT_LLBc",
        "outputId": "ca841adf-1414-4998-89ed-bca6b896a10b"
      },
      "source": [
        "df.isnull().sum()"
      ],
      "execution_count": 15,
      "outputs": [
        {
          "output_type": "execute_result",
          "data": {
            "text/plain": [
              "Date      0\n",
              "Close     0\n",
              "Volume    0\n",
              "dtype: int64"
            ]
          },
          "metadata": {
            "tags": []
          },
          "execution_count": 15
        }
      ]
    },
    {
      "cell_type": "code",
      "metadata": {
        "colab": {
          "base_uri": "https://localhost:8080/"
        },
        "id": "YDxxIsvkOOSe",
        "outputId": "151f43c7-35cc-4bb1-ad75-92eb6e616b32"
      },
      "source": [
        "df_s.isnull().sum()"
      ],
      "execution_count": 16,
      "outputs": [
        {
          "output_type": "execute_result",
          "data": {
            "text/plain": [
              "Date      0\n",
              "Close     0\n",
              "Volume    0\n",
              "dtype: int64"
            ]
          },
          "metadata": {
            "tags": []
          },
          "execution_count": 16
        }
      ]
    },
    {
      "cell_type": "code",
      "metadata": {
        "colab": {
          "base_uri": "https://localhost:8080/",
          "height": 334
        },
        "id": "AFg2FWc2AQG3",
        "outputId": "ee8b3d23-7284-468c-b9e7-d9c00bc1f674"
      },
      "source": [
        "fig, ax = plt.subplots(2,1,figsize=(10,5))\n",
        "sns.lineplot(data=df,x=df['Date'],y=df['Close'],ax=ax[0])\n",
        "sns.lineplot(data=df_s,x=df_s['Date'],y=df_s['Close'],ax=ax[1])\n",
        "\n",
        "plt.show()"
      ],
      "execution_count": 17,
      "outputs": [
        {
          "output_type": "display_data",
          "data": {
            "image/png": "[encoded data removed]",
            "text/plain": [
              "<Figure size 720x360 with 2 Axes>"
            ]
          },
          "metadata": {
            "tags": [],
            "needs_background": "light"
          }
        }
      ]
    },
    {
      "cell_type": "code",
      "metadata": {
        "colab": {
          "base_uri": "https://localhost:8080/"
        },
        "id": "DFUsd8HNEjI0",
        "outputId": "0ff4b297-20f1-4718-8064-cc94ef9ca333"
      },
      "source": [
        "print(type(df['Date'][0]))\n",
        "print(type(df_s['Date'][0]))"
      ],
      "execution_count": 18,
      "outputs": [
        {
          "output_type": "stream",
          "text": [
            "<class 'str'>\n",
            "<class 'pandas._libs.tslibs.timestamps.Timestamp'>\n"
          ],
          "name": "stdout"
        }
      ]
    },
    {
      "cell_type": "code",
      "metadata": {
        "id": "2TdqxBiKM-AC"
      },
      "source": [
        "df['Date']=pd.to_datetime(df['Date'])"
      ],
      "execution_count": 19,
      "outputs": []
    },
    {
      "cell_type": "code",
      "metadata": {
        "colab": {
          "base_uri": "https://localhost:8080/",
          "height": 537
        },
        "id": "J4aatlHTNir0",
        "outputId": "2334af09-c587-47cb-a96d-b243248c3170"
      },
      "source": [
        "fig, ax = plt.subplots(2,1,figsize=(15,7))\n",
        "sns.lineplot(data=df,x=df['Date'],y=df['Close'],ax=ax[0],c='springgreen')    #색 추가\n",
        "sns.lineplot(data=df_s,x=df_s['Date'],y=df_s['Close'],ax=ax[1])    \n",
        "ax[0].set_yticks(range(2000,3600,200))    #구간 설정\n",
        "plt.subplots_adjust(hspace=0.5)    #간격 조절\n",
        "plt.show()"
      ],
      "execution_count": 20,
      "outputs": [
        {
          "output_type": "stream",
          "text": [
            "/usr/local/lib/python3.7/dist-packages/seaborn/relational.py:514: MatplotlibDeprecationWarning: Saw kwargs ['c', 'color'] which are all aliases for 'color'.  Kept value from 'color'.  Passing multiple aliases for the same property will raise a TypeError in 3.3.\n",
            "  line, = ax.plot([], [], **kws)\n",
            "/usr/local/lib/python3.7/dist-packages/seaborn/relational.py:529: MatplotlibDeprecationWarning: Saw kwargs ['c', 'color'] which are all aliases for 'color'.  Kept value from 'color'.  Passing multiple aliases for the same property will raise a TypeError in 3.3.\n",
            "  line, = ax.plot(x, y, **kws)\n"
          ],
          "name": "stderr"
        },
        {
          "output_type": "display_data",
          "data": {
            "image/png": "[encoded data removed]",
            "text/plain": [
              "<Figure size 1080x504 with 2 Axes>"
            ]
          },
          "metadata": {
            "tags": [],
            "needs_background": "light"
          }
        }
      ]
    },
    {
      "cell_type": "markdown",
      "metadata": {
        "id": "gMAQOiygPYpX"
      },
      "source": [
        "## 유사도"
      ]
    },
    {
      "cell_type": "markdown",
      "metadata": {
        "id": "uAdUuBq3PwdW"
      },
      "source": [
        "* 코사인 유사도 \n",
        "\n",
        "![코사인유사도.png](data:image/png;base64,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)"
      ]
    },
    {
      "cell_type": "code",
      "metadata": {
        "id": "YGC6wSQ8gPtk"
      },
      "source": [
        "from numpy import dot\n",
        "from numpy.linalg import norm"
      ],
      "execution_count": 21,
      "outputs": []
    },
    {
      "cell_type": "code",
      "metadata": {
        "id": "FlxQGbTHgTgh"
      },
      "source": [
        "def cos_sim(A, B):\n",
        "       return dot(A, B)/(norm(A)*norm(B))"
      ],
      "execution_count": 22,
      "outputs": []
    },
    {
      "cell_type": "code",
      "metadata": {
        "colab": {
          "base_uri": "https://localhost:8080/"
        },
        "id": "jnSlmFGMg2QD",
        "outputId": "bedd8cfc-27b9-4c28-a7a7-2666de6db4fc"
      },
      "source": [
        "A = np.array([1,1,1])\n",
        "A1 = np.array([100,100,100])\n",
        "B = np.array([10,9,11])\n",
        "B1= np.array([-1,-1,-1])\n",
        "B2= np.array([-1,-1,2])\n",
        "print(cos_sim(A,B))\n",
        "print(cos_sim(A,B1))\n",
        "print(cos_sim(A,B2))\n",
        "print(cos_sim(A1,B))\n",
        "print(cos_sim(A1,B1))\n",
        "print(cos_sim(A1,B2))\n"
      ],
      "execution_count": 23,
      "outputs": [
        {
          "output_type": "stream",
          "text": [
            "0.9966832412776433\n",
            "-1.0000000000000002\n",
            "0.0\n",
            "0.9966832412776432\n",
            "-1.0\n",
            "0.0\n"
          ],
          "name": "stdout"
        }
      ]
    },
    {
      "cell_type": "code",
      "metadata": {
        "colab": {
          "base_uri": "https://localhost:8080/"
        },
        "id": "pHv-hCZggcYG",
        "outputId": "8cfc3536-42a8-4271-edf0-7b8ab590d4b6"
      },
      "source": [
        "cos_sim(df['Close'],df_s['Close'])"
      ],
      "execution_count": 24,
      "outputs": [
        {
          "output_type": "execute_result",
          "data": {
            "text/plain": [
              "0.9989132717952538"
            ]
          },
          "metadata": {
            "tags": []
          },
          "execution_count": 24
        }
      ]
    },
    {
      "cell_type": "code",
      "metadata": {
        "colab": {
          "base_uri": "https://localhost:8080/"
        },
        "id": "O47FXg2GlNvt",
        "outputId": "ea735173-cb2f-4127-c94a-ec73bb7e7ef3"
      },
      "source": [
        "mean = df['Close'].mean()\n",
        "std = df['Close'].std()\n",
        "df_N = df['Close'].map(lambda x:(x-mean)/std)\n",
        "df_N.head()"
      ],
      "execution_count": 25,
      "outputs": [
        {
          "output_type": "execute_result",
          "data": {
            "text/plain": [
              "0   -1.301632\n",
              "1   -1.289846\n",
              "2   -1.272612\n",
              "3   -1.320750\n",
              "4   -1.433981\n",
              "Name: Close, dtype: float64"
            ]
          },
          "metadata": {
            "tags": []
          },
          "execution_count": 25
        }
      ]
    },
    {
      "cell_type": "code",
      "metadata": {
        "colab": {
          "base_uri": "https://localhost:8080/"
        },
        "id": "UbWRAGfNpzLb",
        "outputId": "4c23aefb-5aff-4d10-eef8-19457eb92096"
      },
      "source": [
        "mean1 = df_s['Close'].mean()\n",
        "std1 = df_s['Close'].std()\n",
        "df_s_N = df_s['Close'].map(lambda x:(x-mean1)/std1)\n",
        "df_s_N.head()"
      ],
      "execution_count": 26,
      "outputs": [
        {
          "output_type": "execute_result",
          "data": {
            "text/plain": [
              "0   -1.184602\n",
              "1   -1.137146\n",
              "2   -1.145055\n",
              "3   -1.232058\n",
              "4   -1.390244\n",
              "Name: Close, dtype: float64"
            ]
          },
          "metadata": {
            "tags": []
          },
          "execution_count": 26
        }
      ]
    },
    {
      "cell_type": "code",
      "metadata": {
        "colab": {
          "base_uri": "https://localhost:8080/"
        },
        "id": "tRwS1uiAqHK3",
        "outputId": "9d01e8fe-260d-4844-eacc-af2c1381bb27"
      },
      "source": [
        "cos_sim(df_N,df_s_N)"
      ],
      "execution_count": 27,
      "outputs": [
        {
          "output_type": "execute_result",
          "data": {
            "text/plain": [
              "0.9804039146857217"
            ]
          },
          "metadata": {
            "tags": []
          },
          "execution_count": 27
        }
      ]
    },
    {
      "cell_type": "markdown",
      "metadata": {
        "id": "XZdz2KCQRT4K"
      },
      "source": [
        "## Arima 모형"
      ]
    },
    {
      "cell_type": "markdown",
      "metadata": {
        "id": "ZSbP10zQ8cck"
      },
      "source": [
        "참고 : https://m.blog.naver.com/bluefish850/220749045909"
      ]
    },
    {
      "cell_type": "code",
      "metadata": {
        "id": "TcOeSu0lLo3h",
        "colab": {
          "base_uri": "https://localhost:8080/"
        },
        "outputId": "f417fadd-502c-403c-b7b8-5917b9b65ac6"
      },
      "source": [
        "from statsmodels.tsa.arima_model import ARIMA\n",
        "import statsmodels.api as sm"
      ],
      "execution_count": 28,
      "outputs": [
        {
          "output_type": "stream",
          "text": [
            "/usr/local/lib/python3.7/dist-packages/statsmodels/tools/_testing.py:19: FutureWarning: pandas.util.testing is deprecated. Use the functions in the public API at pandas.testing instead.\n",
            "  import pandas.util.testing as tm\n"
          ],
          "name": "stderr"
        }
      ]
    },
    {
      "cell_type": "code",
      "metadata": {
        "colab": {
          "base_uri": "https://localhost:8080/",
          "height": 417
        },
        "id": "89t5ZUtgMlii",
        "outputId": "8fb4b2ad-0c70-4183-ce9f-4c3807bef75c"
      },
      "source": [
        "df_train = df.loc[:len(df)-5,:]\n",
        "df_train"
      ],
      "execution_count": 29,
      "outputs": [
        {
          "output_type": "execute_result",
          "data": {
            "text/html": [
              "<div>\n",
              "<style scoped>\n",
              "    .dataframe tbody tr th:only-of-type {\n",
              "        vertical-align: middle;\n",
              "    }\n",
              "\n",
              "    .dataframe tbody tr th {\n",
              "        vertical-align: top;\n",
              "    }\n",
              "\n",
              "    .dataframe thead th {\n",
              "        text-align: right;\n",
              "    }\n",
              "</style>\n",
              "<table border=\"1\" class=\"dataframe\">\n",
              "  <thead>\n",
              "    <tr style=\"text-align: right;\">\n",
              "      <th></th>\n",
              "      <th>Date</th>\n",
              "      <th>Close</th>\n",
              "      <th>Volume</th>\n",
              "    </tr>\n",
              "  </thead>\n",
              "  <tbody>\n",
              "    <tr>\n",
              "      <th>0</th>\n",
              "      <td>2020-06-08</td>\n",
              "      <td>2184.290039</td>\n",
              "      <td>854000</td>\n",
              "    </tr>\n",
              "    <tr>\n",
              "      <th>1</th>\n",
              "      <td>2020-06-09</td>\n",
              "      <td>2188.919922</td>\n",
              "      <td>817100</td>\n",
              "    </tr>\n",
              "    <tr>\n",
              "      <th>2</th>\n",
              "      <td>2020-06-10</td>\n",
              "      <td>2195.689941</td>\n",
              "      <td>706300</td>\n",
              "    </tr>\n",
              "    <tr>\n",
              "      <th>3</th>\n",
              "      <td>2020-06-11</td>\n",
              "      <td>2176.780029</td>\n",
              "      <td>827400</td>\n",
              "    </tr>\n",
              "    <tr>\n",
              "      <th>4</th>\n",
              "      <td>2020-06-12</td>\n",
              "      <td>2132.300049</td>\n",
              "      <td>689900</td>\n",
              "    </tr>\n",
              "    <tr>\n",
              "      <th>...</th>\n",
              "      <td>...</td>\n",
              "      <td>...</td>\n",
              "      <td>...</td>\n",
              "    </tr>\n",
              "    <tr>\n",
              "      <th>238</th>\n",
              "      <td>2021-05-25</td>\n",
              "      <td>3171.320068</td>\n",
              "      <td>612700</td>\n",
              "    </tr>\n",
              "    <tr>\n",
              "      <th>239</th>\n",
              "      <td>2021-05-26</td>\n",
              "      <td>3168.429932</td>\n",
              "      <td>1269000</td>\n",
              "    </tr>\n",
              "    <tr>\n",
              "      <th>240</th>\n",
              "      <td>2021-05-27</td>\n",
              "      <td>3165.510010</td>\n",
              "      <td>1081100</td>\n",
              "    </tr>\n",
              "    <tr>\n",
              "      <th>241</th>\n",
              "      <td>2021-05-28</td>\n",
              "      <td>3188.729980</td>\n",
              "      <td>966000</td>\n",
              "    </tr>\n",
              "    <tr>\n",
              "      <th>242</th>\n",
              "      <td>2021-05-31</td>\n",
              "      <td>3203.919922</td>\n",
              "      <td>1123100</td>\n",
              "    </tr>\n",
              "  </tbody>\n",
              "</table>\n",
              "<p>243 rows × 3 columns</p>\n",
              "</div>"
            ],
            "text/plain": [
              "          Date        Close   Volume\n",
              "0   2020-06-08  2184.290039   854000\n",
              "1   2020-06-09  2188.919922   817100\n",
              "2   2020-06-10  2195.689941   706300\n",
              "3   2020-06-11  2176.780029   827400\n",
              "4   2020-06-12  2132.300049   689900\n",
              "..         ...          ...      ...\n",
              "238 2021-05-25  3171.320068   612700\n",
              "239 2021-05-26  3168.429932  1269000\n",
              "240 2021-05-27  3165.510010  1081100\n",
              "241 2021-05-28  3188.729980   966000\n",
              "242 2021-05-31  3203.919922  1123100\n",
              "\n",
              "[243 rows x 3 columns]"
            ]
          },
          "metadata": {
            "tags": []
          },
          "execution_count": 29
        }
      ]
    },
    {
      "cell_type": "code",
      "metadata": {
        "id": "_6fahunsLpXv"
      },
      "source": [
        "model = ARIMA(df_train['Close'].values, order=(1,2,1))"
      ],
      "execution_count": 30,
      "outputs": []
    },
    {
      "cell_type": "code",
      "metadata": {
        "colab": {
          "base_uri": "https://localhost:8080/"
        },
        "id": "bUkYDuXjLxDO",
        "outputId": "9fc92221-9000-48c9-920c-8dc39bff6a44"
      },
      "source": [
        "model_fit = model.fit(trend='c', full_output=True, disp=True)\n",
        "print(model_fit.summary())"
      ],
      "execution_count": 31,
      "outputs": [
        {
          "output_type": "stream",
          "text": [
            "                             ARIMA Model Results                              \n",
            "==============================================================================\n",
            "Dep. Variable:                   D2.y   No. Observations:                  241\n",
            "Model:                 ARIMA(1, 2, 1)   Log Likelihood               -1189.355\n",
            "Method:                       css-mle   S.D. of innovations             33.266\n",
            "Date:                Tue, 08 Jun 2021   AIC                           2386.710\n",
            "Time:                        03:01:57   BIC                           2400.650\n",
            "Sample:                             2   HQIC                          2392.326\n",
            "                                                                              \n",
            "==============================================================================\n",
            "                 coef    std err          z      P>|z|      [0.025      0.975]\n",
            "------------------------------------------------------------------------------\n",
            "const          0.0015      0.029      0.050      0.960      -0.055       0.058\n",
            "ar.L1.D2.y    -0.0569      0.064     -0.885      0.377      -0.183       0.069\n",
            "ma.L1.D2.y    -1.0000      0.014    -70.376      0.000      -1.028      -0.972\n",
            "                                    Roots                                    \n",
            "=============================================================================\n",
            "                  Real          Imaginary           Modulus         Frequency\n",
            "-----------------------------------------------------------------------------\n",
            "AR.1          -17.5789           +0.0000j           17.5789            0.5000\n",
            "MA.1            1.0000           +0.0000j            1.0000            0.0000\n",
            "-----------------------------------------------------------------------------\n"
          ],
          "name": "stdout"
        }
      ]
    },
    {
      "cell_type": "code",
      "metadata": {
        "colab": {
          "base_uri": "https://localhost:8080/",
          "height": 282
        },
        "id": "9SLiIumwL0aU",
        "outputId": "8e012489-c4c4-4300-efcc-5ce4b0f67be9"
      },
      "source": [
        "forecast_data = model_fit.forecast(steps=5)\n",
        "\n",
        "pred_y = forecast_data[0].tolist()\n",
        "test_y = df.loc[len(df)-5:,:]['Close'].values\n",
        "\n",
        "pred_y_lower = []\n",
        "pred_y_upper = []\n",
        "for lower_upper in forecast_data[2]:\n",
        "  lower = lower_upper[0]\n",
        "  upper = lower_upper[1]\n",
        "  pred_y_lower.append(lower)\n",
        "  pred_y_upper.append(upper)\n",
        "\n",
        "plt.plot(pred_y,c='gold')\n",
        "plt.plot(pred_y_lower,c='red')\n",
        "plt.plot(pred_y_upper,c='blue')\n",
        "plt.plot(test_y,c='green')\n"
      ],
      "execution_count": 32,
      "outputs": [
        {
          "output_type": "execute_result",
          "data": {
            "text/plain": [
              "[<matplotlib.lines.Line2D at 0x7f86c26ef290>]"
            ]
          },
          "metadata": {
            "tags": []
          },
          "execution_count": 32
        },
        {
          "output_type": "display_data",
          "data": {
            "image/png": "[encoded data removed]",
            "text/plain": [
              "<Figure size 432x288 with 1 Axes>"
            ]
          },
          "metadata": {
            "tags": [],
            "needs_background": "light"
          }
        }
      ]
    },
    {
      "cell_type": "markdown",
      "metadata": {
        "id": "rXC4DTUCSQKq"
      },
      "source": [
        "## 마치며"
      ]
    },
    {
      "cell_type": "markdown",
      "metadata": {
        "id": "gM0SsbR_SSkk"
      },
      "source": [
        "* 감사합니다"
      ]
    }
  ]
}