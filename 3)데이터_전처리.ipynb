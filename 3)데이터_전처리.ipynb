{
  "nbformat": 4,
  "nbformat_minor": 0,
  "metadata": {
    "colab": {
      "name": "3)데이터 전처리.ipynb",
      "provenance": [],
      "collapsed_sections": [],
      "authorship_tag": "ABX9TyMhZGfysL48yQn1U561JjpN",
      "include_colab_link": true
    },
    "kernelspec": {
      "name": "python3",
      "display_name": "Python 3"
    },
    "language_info": {
      "name": "python"
    }
  },
  "cells": [
    {
      "cell_type": "markdown",
      "metadata": {
        "id": "view-in-github",
        "colab_type": "text"
      },
      "source": [
        "<a href=\"https://colab.research.google.com/github/hdpark1208/StudyCode/blob/main/3)%EB%8D%B0%EC%9D%B4%ED%84%B0_%EC%A0%84%EC%B2%98%EB%A6%AC.ipynb\" target=\"_parent\"><img src=\"https://colab.research.google.com/assets/colab-badge.svg\" alt=\"Open In Colab\"/></a>"
      ]
    },
    {
      "cell_type": "markdown",
      "metadata": {
        "id": "R-ObYm9aczcl"
      },
      "source": [
        "# ***2-2 데이터 전처리***\n"
      ]
    },
    {
      "cell_type": "markdown",
      "metadata": {
        "id": "-oQuucyRc3wB"
      },
      "source": [
        "# **줄거리**\n"
      ]
    },
    {
      "cell_type": "markdown",
      "metadata": {
        "id": "XsG2nG0odnSL"
      },
      "source": [
        "\n",
        "\n",
        "1.   넘파이를 이용해 세련되게 생선 데이터와 타겟 테이터를 만든다\n",
        "\n",
        "2.   사이킷런을 이용해 세련되게 훈련, 테스트 세트를 나눈다\n",
        "\n",
        "3.   나눈 세트를 가지고 훈련시킨다.\n",
        "\n",
        "4.   수상한 도미 한 마리. 예측이 실패한 이유를 생각해본다\n",
        "\n",
        "5.   수상한 도미의 데이터를 넣고 그래프를 그려본다\n",
        "\n",
        "6.   수상한 도미의 이웃들을 인덱스와 거리를 출력하여 모델이 잘못 판단한 이유를 \n",
        "알아본다 \n",
        "\n",
        "7.   스케일링이 필요하다. 데이터 전처리 후 다시 학습시켜 확인한다    \n",
        "\n"
      ]
    },
    {
      "cell_type": "markdown",
      "metadata": {
        "id": "w80d5M3VdAQz"
      },
      "source": [
        "#Note"
      ]
    },
    {
      "cell_type": "markdown",
      "metadata": {
        "id": "WO4Ow05oegtj"
      },
      "source": [
        "##Numpy\n",
        "column_stack() : 열을 늘리며 합친다\n",
        "concatenate() : 행을 늘리며 합친다"
      ]
    },
    {
      "cell_type": "markdown",
      "metadata": {
        "id": "clu0PvWJgbdz"
      },
      "source": [
        "##사이킷런\n",
        "from sklearn.model_selection import train_test_split  \n",
        "\n",
        "train_test_split() : 훈련세트와 테스트 세트로 나누어 준다(섞는 것 포함)\n",
        "- stratify 파라미터에 타겟 데이터를 전달하면 클래스 비율에 맞게 나눠준다\n"
      ]
    },
    {
      "cell_type": "markdown",
      "metadata": {
        "id": "B5gj6G-wnJGc"
      },
      "source": [
        "데이터 전처리 : 머신러닝 모델에 훈련 데이터를 주입하기 전에 가공하는 단계"
      ]
    },
    {
      "cell_type": "markdown",
      "metadata": {
        "id": "8dhn55AedEEj"
      },
      "source": [
        "#**코드**"
      ]
    },
    {
      "cell_type": "code",
      "metadata": {
        "id": "cvpdBWMqLkzu"
      },
      "source": [
        "fish_length = [25.4, 26.3, 26.5, 29.0, 29.0, 29.7, 29.7, 30.0, 30.0, 30.7, 31.0, 31.0, \n",
        "                31.5, 32.0, 32.0, 32.0, 33.0, 33.0, 33.5, 33.5, 34.0, 34.0, 34.5, 35.0, \n",
        "                35.0, 35.0, 35.0, 36.0, 36.0, 37.0, 38.5, 38.5, 39.5, 41.0, 41.0, 9.8, \n",
        "                10.5, 10.6, 11.0, 11.2, 11.3, 11.8, 11.8, 12.0, 12.2, 12.4, 13.0, 14.3, 15.0]\n",
        "fish_weight = [242.0, 290.0, 340.0, 363.0, 430.0, 450.0, 500.0, 390.0, 450.0, 500.0, 475.0, 500.0, \n",
        "                500.0, 340.0, 600.0, 600.0, 700.0, 700.0, 610.0, 650.0, 575.0, 685.0, 620.0, 680.0, \n",
        "                700.0, 725.0, 720.0, 714.0, 850.0, 1000.0, 920.0, 955.0, 925.0, 975.0, 950.0, 6.7, \n",
        "                7.5, 7.0, 9.7, 9.8, 8.7, 10.0, 9.9, 9.8, 12.2, 13.4, 12.2, 19.7, 19.9]"
      ],
      "execution_count": null,
      "outputs": []
    },
    {
      "cell_type": "code",
      "metadata": {
        "colab": {
          "base_uri": "https://localhost:8080/"
        },
        "id": "z-mFnIhtR2Pg",
        "outputId": "341df8f9-967e-4488-e554-3934837248f3"
      },
      "source": [
        "import numpy as np\n",
        "\n",
        "fish_data = np.column_stack((fish_length,fish_weight)) # 이전의 fish_data = [[l,w] for l,w in zip(fish_length,fish_weight)] 기능을 Numpy를 통해\n",
        "\n",
        "print(fish_data[:5])"
      ],
      "execution_count": null,
      "outputs": [
        {
          "output_type": "stream",
          "text": [
            "[[ 25.4 242. ]\n",
            " [ 26.3 290. ]\n",
            " [ 26.5 340. ]\n",
            " [ 29.  363. ]\n",
            " [ 29.  430. ]]\n"
          ],
          "name": "stdout"
        }
      ]
    },
    {
      "cell_type": "code",
      "metadata": {
        "colab": {
          "base_uri": "https://localhost:8080/"
        },
        "id": "FbIBbsL1SLM9",
        "outputId": "18996f2b-490e-4c52-f205-2a3d1f27365a"
      },
      "source": [
        "fish_target = np.concatenate((np.ones(35),np.zeros(14)))\n",
        "print(fish_target)"
      ],
      "execution_count": null,
      "outputs": [
        {
          "output_type": "stream",
          "text": [
            "[1. 1. 1. 1. 1. 1. 1. 1. 1. 1. 1. 1. 1. 1. 1. 1. 1. 1. 1. 1. 1. 1. 1. 1.\n",
            " 1. 1. 1. 1. 1. 1. 1. 1. 1. 1. 1. 0. 0. 0. 0. 0. 0. 0. 0. 0. 0. 0. 0. 0.\n",
            " 0.]\n"
          ],
          "name": "stdout"
        }
      ]
    },
    {
      "cell_type": "code",
      "metadata": {
        "id": "iVcD6954apKh"
      },
      "source": [
        "from sklearn.model_selection import train_test_split\n",
        "\n",
        "train_input, test_input, train_target, test_target = train_test_split(fish_data,fish_target,random_state = 42) # train,test 를 나눌때 이전의 샘플링 bias 를 방지하기위해 했었던 인덱스 셔플기능"
      ],
      "execution_count": null,
      "outputs": []
    },
    {
      "cell_type": "code",
      "metadata": {
        "colab": {
          "base_uri": "https://localhost:8080/"
        },
        "id": "8t03ab38bTCA",
        "outputId": "978738b9-7d60-47ff-b006-ab22a7907ebf"
      },
      "source": [
        "print(train_input.shape, test_input.shape)\n",
        "print(train_target.shape, test_target.shape)\n",
        "\n",
        "print(test_target)  #셔플을 했지만 이상적으로 섞이진않았다 (샘플이 적어서)"
      ],
      "execution_count": null,
      "outputs": [
        {
          "output_type": "stream",
          "text": [
            "(36, 2) (13, 2)\n",
            "(36,) (13,)\n",
            "[1. 0. 0. 0. 1. 1. 1. 1. 1. 1. 1. 1. 1.]\n"
          ],
          "name": "stdout"
        }
      ]
    },
    {
      "cell_type": "code",
      "metadata": {
        "id": "uQys10shdMkt"
      },
      "source": [
        "train_input, test_input, train_target, test_target = train_test_split(fish_data,fish_target,stratify=fish_target,random_state = 42)"
      ],
      "execution_count": null,
      "outputs": []
    },
    {
      "cell_type": "code",
      "metadata": {
        "colab": {
          "base_uri": "https://localhost:8080/"
        },
        "id": "wD5ZrHWZefKs",
        "outputId": "d9e610b2-d949-40aa-b81b-3dfef5313f35"
      },
      "source": [
        "print(test_target)"
      ],
      "execution_count": null,
      "outputs": [
        {
          "output_type": "stream",
          "text": [
            "[0. 0. 1. 0. 1. 0. 1. 1. 1. 1. 1. 1. 1.]\n"
          ],
          "name": "stdout"
        }
      ]
    },
    {
      "cell_type": "code",
      "metadata": {
        "colab": {
          "base_uri": "https://localhost:8080/"
        },
        "id": "XwP_woWOekGu",
        "outputId": "b760ec72-8b7e-4627-8346-f81fbb592e76"
      },
      "source": [
        "from sklearn.neighbors import KNeighborsClassifier\n",
        "kn = KNeighborsClassifier()\n",
        "kn.fit(train_input,train_target)\n",
        "\n",
        "kn.predict([[25,150]]) # 수상한 도미 한마리 예측 실패 (0 : 빙어, 1 : 도미)"
      ],
      "execution_count": null,
      "outputs": [
        {
          "output_type": "execute_result",
          "data": {
            "text/plain": [
              "array([0.])"
            ]
          },
          "metadata": {
            "tags": []
          },
          "execution_count": 8
        }
      ]
    },
    {
      "cell_type": "code",
      "metadata": {
        "colab": {
          "base_uri": "https://localhost:8080/",
          "height": 279
        },
        "id": "sd5T4zzQgGUC",
        "outputId": "b09542e0-4e89-4746-e0e3-3a4dffd3a916"
      },
      "source": [
        "import matplotlib.pyplot as plt\n",
        "plt.scatter(train_input[:,0],train_input[:,1]) #length, weight 데이터 추출\n",
        "plt.scatter(25,150,marker='*') # 수상한 도미 데이터\n",
        "plt.xlabel('length')\n",
        "plt.ylabel('weight')\n",
        "plt.show() # KNN이 * 를 좌측 하단의 데이터로 판단했다 > 도미임에도 빙어로 판단했다. 왜일까"
      ],
      "execution_count": null,
      "outputs": [
        {
          "output_type": "display_data",
          "data": {
            "image/png": "[encoded data removed]",
            "text/plain": [
              "<Figure size 432x288 with 1 Axes>"
            ]
          },
          "metadata": {
            "tags": [],
            "needs_background": "light"
          }
        }
      ]
    },
    {
      "cell_type": "code",
      "metadata": {
        "id": "oNnYNB-TiDm9"
      },
      "source": [
        "distances, indexes = kn.kneighbors([[25,150]])"
      ],
      "execution_count": null,
      "outputs": []
    },
    {
      "cell_type": "code",
      "metadata": {
        "colab": {
          "base_uri": "https://localhost:8080/"
        },
        "id": "MdQDK7tljB74",
        "outputId": "ba332527-71bd-4cf0-a8ae-1c3a53e5d975"
      },
      "source": [
        "print(distances)\n",
        "print(indexes)\n"
      ],
      "execution_count": null,
      "outputs": [
        {
          "output_type": "stream",
          "text": [
            "[[ 92.00086956 130.48375378 130.73859415 138.32150953 138.39320793]]\n",
            "[[21 33 19 30  1]]\n"
          ],
          "name": "stdout"
        }
      ]
    },
    {
      "cell_type": "code",
      "metadata": {
        "colab": {
          "base_uri": "https://localhost:8080/",
          "height": 279
        },
        "id": "9uHws8a2jQYO",
        "outputId": "bd3adb3b-2398-4df3-a6b3-019fb609c7e6"
      },
      "source": [
        "plt.scatter(train_input[:,0],train_input[:,1])\n",
        "plt.scatter(25,150,marker='*')\n",
        "plt.scatter(train_input[indexes,0],train_input[indexes,1],marker='D')\n",
        "plt.xlabel('length')\n",
        "plt.ylabel('weight')\n",
        "plt.show() # KNN이 이웃으로 판단한 데이터를 구분지어 그린다\n",
        "\n",
        "#여전히 직관적으로 납득이 되질않는데 이는 x,y 축의 범위 차이 때문 ~ 스케일이 다르다"
      ],
      "execution_count": null,
      "outputs": [
        {
          "output_type": "display_data",
          "data": {
            "image/png": "[encoded data removed]",
            "text/plain": [
              "<Figure size 432x288 with 1 Axes>"
            ]
          },
          "metadata": {
            "tags": [],
            "needs_background": "light"
          }
        }
      ]
    },
    {
      "cell_type": "code",
      "metadata": {
        "colab": {
          "base_uri": "https://localhost:8080/",
          "height": 279
        },
        "id": "gHWyh6pXkDno",
        "outputId": "1ee690e3-cac3-4a72-f854-fcbfe26b7b1e"
      },
      "source": [
        "plt.scatter(train_input[:,0],train_input[:,1])\n",
        "plt.scatter(25,150,marker='*')\n",
        "plt.scatter(train_input[indexes,0],train_input[indexes,1],marker='D')\n",
        "plt.xlabel('length')\n",
        "plt.ylabel('weight')\n",
        "plt.xlim(0,1000) # x 축 범위를 동일하게 설정\n",
        "plt.show() # KNN이 이웃으로 판단한 데이터를 구분지어 그린다\n",
        "\n",
        "# x값의 차이는 결과에 큰 영향을 미치지 못하고있음을 알 수 있다. 이를 해결하기위해 데이터 전처리가 필요하고 그 중 하나의 방법으로 표준점수를 이용하자 (정규화) "
      ],
      "execution_count": null,
      "outputs": [
        {
          "output_type": "display_data",
          "data": {
            "image/png": "[encoded data removed]",
            "text/plain": [
              "<Figure size 432x288 with 1 Axes>"
            ]
          },
          "metadata": {
            "tags": [],
            "needs_background": "light"
          }
        }
      ]
    },
    {
      "cell_type": "code",
      "metadata": {
        "colab": {
          "base_uri": "https://localhost:8080/"
        },
        "id": "-MpwMF1PlC-I",
        "outputId": "0741a807-2025-4e99-eae1-31559d800835"
      },
      "source": [
        "mean = np.mean(train_input,axis=0) # [길이,무게] 의 평균 출력\n",
        "std = np.std(train_input,axis=0) # [길이,무게] 의 표준편차 출력\n",
        "print(mean,std)"
      ],
      "execution_count": null,
      "outputs": [
        {
          "output_type": "stream",
          "text": [
            "[ 27.29722222 454.09722222] [  9.98244253 323.29893931]\n"
          ],
          "name": "stdout"
        }
      ]
    },
    {
      "cell_type": "code",
      "metadata": {
        "colab": {
          "base_uri": "https://localhost:8080/"
        },
        "id": "gRG_eoMGnUlC",
        "outputId": "4645a0b2-29db-41ff-d863-d39d13861e0d"
      },
      "source": [
        "print(type(train_input),type(mean),type(std))\n",
        "train_scaled = (train_input-mean)/std #모두 numpy.ndarray 사이의 연산 ~ 브로드캐스팅\n",
        "train_scaled"
      ],
      "execution_count": null,
      "outputs": [
        {
          "output_type": "stream",
          "text": [
            "<class 'numpy.ndarray'> <class 'numpy.ndarray'> <class 'numpy.ndarray'>\n"
          ],
          "name": "stdout"
        },
        {
          "output_type": "execute_result",
          "data": {
            "text/plain": [
              "array([[ 0.24070039,  0.14198246],\n",
              "       [-1.51237757, -1.36683783],\n",
              "       [ 0.5712808 ,  0.76060496],\n",
              "       [-1.60253587, -1.37766373],\n",
              "       [ 1.22242404,  1.45655528],\n",
              "       [ 0.17057727, -0.07453542],\n",
              "       [ 0.87180845,  0.80390854],\n",
              "       [ 0.87180845,  1.22457184],\n",
              "       [ 0.37092904,  0.06465464],\n",
              "       [ 0.77163257,  0.82246721],\n",
              "       [ 0.97198434,  1.68853872],\n",
              "       [-1.61255346, -1.3742613 ],\n",
              "       [ 0.72154463,  0.51315596],\n",
              "       [-1.53241275, -1.3742613 ],\n",
              "       [ 0.17057727, -0.28177396],\n",
              "       [ 0.5712808 ,  0.76060496],\n",
              "       [ 0.34087627,  0.14198246],\n",
              "       [ 1.12224816,  1.54934866],\n",
              "       [ 0.62136874,  0.60594934],\n",
              "       [-1.30200822, -1.34363949],\n",
              "       [ 0.42101698,  0.14198246],\n",
              "       [-0.19005591, -0.65604058],\n",
              "       [-1.75279969, -1.38384995],\n",
              "       [ 0.47110492,  0.45129371],\n",
              "       [-1.68267658, -1.38137546],\n",
              "       [ 0.62136874,  0.48222484],\n",
              "       [-1.67265899, -1.38292202],\n",
              "       [ 0.77163257,  0.76060496],\n",
              "       [ 0.47110492,  0.45129371],\n",
              "       [ 0.77163257,  0.83793278],\n",
              "       [-1.43223687, -1.36683783],\n",
              "       [ 0.27075315, -0.01267317],\n",
              "       [ 0.47110492, -0.35291555],\n",
              "       [-1.2318851 , -1.34302087],\n",
              "       [ 0.27075315, -0.19825992],\n",
              "       [ 1.37268787,  1.61121091]])"
            ]
          },
          "metadata": {
            "tags": []
          },
          "execution_count": 15
        }
      ]
    },
    {
      "cell_type": "code",
      "metadata": {
        "colab": {
          "base_uri": "https://localhost:8080/",
          "height": 279
        },
        "id": "_FER5n1_npbW",
        "outputId": "e4200f45-03fd-41dd-d7cd-669535bff41e"
      },
      "source": [
        "plt.scatter(train_scaled[:,0],train_scaled[:,1])\n",
        "plt.scatter(25,150,marker='*') #[25,150] 데이터를 정규화 안했음!\n",
        "plt.xlabel('length')\n",
        "plt.ylabel('weight')\n",
        "plt.show()"
      ],
      "execution_count": null,
      "outputs": [
        {
          "output_type": "display_data",
          "data": {
            "image/png": "[encoded data removed]",
            "text/plain": [
              "<Figure size 432x288 with 1 Axes>"
            ]
          },
          "metadata": {
            "tags": [],
            "needs_background": "light"
          }
        }
      ]
    },
    {
      "cell_type": "code",
      "metadata": {
        "colab": {
          "base_uri": "https://localhost:8080/",
          "height": 279
        },
        "id": "MoFMxK6-pJUj",
        "outputId": "8b7e8f4e-af73-4db6-911e-8c57c36ecf92"
      },
      "source": [
        "new = ([25,150]-mean)/std # 수상한 도미의 정규화\n",
        "plt.scatter(train_scaled[:,0],train_scaled[:,1])\n",
        "plt.scatter(new[0],new[1],marker='*') \n",
        "plt.xlabel('length')\n",
        "plt.ylabel('weight')\n",
        "plt.show()"
      ],
      "execution_count": null,
      "outputs": [
        {
          "output_type": "display_data",
          "data": {
            "image/png": "[encoded data removed]",
            "text/plain": [
              "<Figure size 432x288 with 1 Axes>"
            ]
          },
          "metadata": {
            "tags": [],
            "needs_background": "light"
          }
        }
      ]
    },
    {
      "cell_type": "code",
      "metadata": {
        "colab": {
          "base_uri": "https://localhost:8080/"
        },
        "id": "MBriduNipxHf",
        "outputId": "521aee0e-fedc-49c6-8cac-0c6a1d82f63d"
      },
      "source": [
        "kn.fit(train_scaled,train_target)\n",
        "\n",
        "test_scaled = (test_input - mean) / std #train 의 mean, std 를 적용\n",
        "\n",
        "kn.score(test_scaled,test_target)"
      ],
      "execution_count": null,
      "outputs": [
        {
          "output_type": "execute_result",
          "data": {
            "text/plain": [
              "1.0"
            ]
          },
          "metadata": {
            "tags": []
          },
          "execution_count": 18
        }
      ]
    },
    {
      "cell_type": "code",
      "metadata": {
        "colab": {
          "base_uri": "https://localhost:8080/"
        },
        "id": "jCOUNQVEsMbo",
        "outputId": "6806f091-1eae-4535-978e-5d4153540712"
      },
      "source": [
        "kn.predict([new])"
      ],
      "execution_count": null,
      "outputs": [
        {
          "output_type": "execute_result",
          "data": {
            "text/plain": [
              "array([1.])"
            ]
          },
          "metadata": {
            "tags": []
          },
          "execution_count": 19
        }
      ]
    },
    {
      "cell_type": "code",
      "metadata": {
        "colab": {
          "base_uri": "https://localhost:8080/",
          "height": 279
        },
        "id": "KXFeDcllsUys",
        "outputId": "1efbf25e-b497-464c-c99c-7a764af22b89"
      },
      "source": [
        "distances, indexes = kn.kneighbors([new],n_neighbors=7)\n",
        "plt.scatter(train_scaled[:,0],train_scaled[:,1])\n",
        "plt.scatter(new[0],new[1],marker='*')\n",
        "plt.scatter(train_scaled[indexes,0],train_scaled[indexes,1],marker='D')\n",
        "plt.xlabel('length')\n",
        "plt.ylabel('weight')\n",
        "plt.show()"
      ],
      "execution_count": null,
      "outputs": [
        {
          "output_type": "display_data",
          "data": {
            "image/png": "[encoded data removed]",
            "text/plain": [
              "<Figure size 432x288 with 1 Axes>"
            ]
          },
          "metadata": {
            "tags": [],
            "needs_background": "light"
          }
        }
      ]
    },
    {
      "cell_type": "code",
      "metadata": {
        "colab": {
          "base_uri": "https://localhost:8080/"
        },
        "id": "dZMu3vSxtlNB",
        "outputId": "0d82432b-206d-4a7c-8fee-6ed9160a7504"
      },
      "source": [
        "print(distances)\n",
        "print(indexes)\n",
        "kn.kneighbors([new])"
      ],
      "execution_count": null,
      "outputs": [
        {
          "output_type": "stream",
          "text": [
            "[[0.2873737  0.7711188  0.89552179 0.91493515 0.95427626 1.05448625\n",
            "  1.07956368]]\n",
            "[[21 14 34 32  5 31 33]]\n"
          ],
          "name": "stdout"
        },
        {
          "output_type": "execute_result",
          "data": {
            "text/plain": [
              "(array([[0.2873737 , 0.7711188 , 0.89552179, 0.91493515, 0.95427626]]),\n",
              " array([[21, 14, 34, 32,  5]]))"
            ]
          },
          "metadata": {
            "tags": []
          },
          "execution_count": 21
        }
      ]
    },
    {
      "cell_type": "code",
      "metadata": {
        "id": "uScmRDTVuKPZ"
      },
      "source": [
        ""
      ],
      "execution_count": null,
      "outputs": []
    }
  ]
}