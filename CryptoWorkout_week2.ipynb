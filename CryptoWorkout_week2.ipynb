{
  "nbformat": 4,
  "nbformat_minor": 0,
  "metadata": {
    "colab": {
      "name": "CryptoWorkout_week2",
      "provenance": [],
      "collapsed_sections": [],
      "include_colab_link": true
    },
    "kernelspec": {
      "name": "python3",
      "display_name": "Python 3"
    }
  },
  "cells": [
    {
      "cell_type": "markdown",
      "metadata": {
        "id": "view-in-github",
        "colab_type": "text"
      },
      "source": [
        "<a href=\"https://colab.research.google.com/github/hdpark1208/StudyCode/blob/main/CryptoWorkout_week2.ipynb\" target=\"_parent\"><img src=\"https://colab.research.google.com/assets/colab-badge.svg\" alt=\"Open In Colab\"/></a>"
      ]
    },
    {
      "cell_type": "markdown",
      "metadata": {
        "id": "e8WIvGWamsFh"
      },
      "source": [
        "# 2주차 실습\n",
        "\n",
        "* Caesar Cipher\n",
        "* Affine Cipher\n"
      ]
    },
    {
      "cell_type": "markdown",
      "metadata": {
        "id": "Mdm-kpDHnXz6"
      },
      "source": [
        "## 기본규칙과 알파벳의 ASCII값 - ord(), str() 배우기\n",
        "평문은 알파벳 소문자, 암호문은 알파벳 대문자를 사용합니다.\n",
        "\n",
        "입력한 문장(strings)의 각 알파벳을 $Z_{26}$의 원소로 바꿔서 list로 저장하는 코드를 작성해봅시다.\n",
        "\n",
        "ord('a')는 알파벳 a의 ASCII코드값 97을 반환하고 chr(97)은 ASCII코드값 97에 해당하는 알파벳 a를 반환합니다."
      ]
    },
    {
      "cell_type": "code",
      "metadata": {
        "colab": {
          "base_uri": "https://localhost:8080/"
        },
        "id": "eGQItEKun8Wq",
        "outputId": "977423d6-1e8a-4e56-d5a3-e20d88c18016"
      },
      "source": [
        "print(ord('a'), chr(97))"
      ],
      "execution_count": null,
      "outputs": [
        {
          "output_type": "stream",
          "text": [
            "97 a\n"
          ],
          "name": "stdout"
        }
      ]
    },
    {
      "cell_type": "markdown",
      "metadata": {
        "id": "sJO4EsrtpDIN"
      },
      "source": [
        "이를 이용해서 아래에 알파벳 a부터 z까지 출력하는 코드를 작성해봅시다. \n",
        "완성한 후에도 더욱 간결한 코드로 업데이트 해보시기 바랍니다."
      ]
    },
    {
      "cell_type": "code",
      "metadata": {
        "id": "sLxl8fIKpEjQ"
      },
      "source": [
        "for i in range(26):  print(chr(i+ord('a'))) # 여기(앞부분)에 작성해보세요!"
      ],
      "execution_count": null,
      "outputs": []
    },
    {
      "cell_type": "markdown",
      "metadata": {
        "id": "eX21sXs6p69h"
      },
      "source": [
        "위의 코드를 이용해서 평문(영어 소문자 문장 - strings)을 입력받아 $Z_{26}=\\{0, 1, ..., 25 \\}$의 값들로 이루어진 list를 반환하는 함수 plain_to_numbers()를 작성해봅시다. \n",
        "\n",
        "Hint: strings이나 list의 길이를 알려주는 명령어 len()와 range()명령어를 고려해보세요."
      ]
    },
    {
      "cell_type": "code",
      "metadata": {
        "id": "wH_9ej3MqxNc"
      },
      "source": [
        "def plain_to_numbers(P):\n",
        "  l=[]\n",
        "  for i in range(len(P)):\n",
        "    l.append(ord(P[i])-ord('a'))\n",
        "  return l\n",
        "  # 여기(앞부분)에 작성해보세요!"
      ],
      "execution_count": null,
      "outputs": []
    },
    {
      "cell_type": "code",
      "metadata": {
        "colab": {
          "base_uri": "https://localhost:8080/"
        },
        "id": "NbDbw-rYrsid",
        "outputId": "e96d2ee5-a52a-4250-f679-d59ea428a00c"
      },
      "source": [
        "plain_to_numbers('hello') # 여기에서 방금 작성한 함수를 확인해보세요! \n",
        "# 함수를 정의한 셀을 먼저 실행시키고 이 셀을 실행해야 합니다."
      ],
      "execution_count": null,
      "outputs": [
        {
          "output_type": "execute_result",
          "data": {
            "text/plain": [
              "[7, 4, 11, 11, 14]"
            ]
          },
          "metadata": {
            "tags": []
          },
          "execution_count": 27
        }
      ]
    },
    {
      "cell_type": "markdown",
      "metadata": {
        "id": "NKsVnE4-uKxX"
      },
      "source": [
        "이번에는 반대로  $Z_{26}=\\{0,1,...,25\\}$ 의 값들로 이루어진 list를 입력받아 평문(영어 대문자 문장 - strings)을   반환하는 함수 numbers_to_cipher()를 작성해봅시다. Hint: lower(), upper() 대소문자 변환명령어, 예:  `'ABC'.lower()`, `'def'.upper()`"
      ]
    },
    {
      "cell_type": "code",
      "metadata": {
        "id": "g_dHVyHYua6n"
      },
      "source": [
        "def numbers_to_cipher(l):\n",
        "  C=''\n",
        "  for i in range(len(l)): \n",
        "    C=C+chr(l[i]+ord('A'))\n",
        "  return C # 여기(앞부분)에 작성해보세요!"
      ],
      "execution_count": null,
      "outputs": []
    },
    {
      "cell_type": "code",
      "metadata": {
        "colab": {
          "base_uri": "https://localhost:8080/",
          "height": 36
        },
        "id": "uwreR1onvJ7v",
        "outputId": "7b51735d-f4c0-420c-abc7-e70b4be8d790"
      },
      "source": [
        "l=[7, 4, 11, 11, 14]\n",
        "numbers_to_cipher(l)\n",
        "# 여기에서 방금 작성한 함수를 확인해보세요! \n",
        "# 함수를 정의한 셀을 먼저 실행시키고 이 셀을 실행해야 합니다."
      ],
      "execution_count": null,
      "outputs": [
        {
          "output_type": "execute_result",
          "data": {
            "application/vnd.google.colaboratory.intrinsic+json": {
              "type": "string"
            },
            "text/plain": [
              "'HELLO'"
            ]
          },
          "metadata": {
            "tags": []
          },
          "execution_count": 4
        }
      ]
    },
    {
      "cell_type": "markdown",
      "metadata": {
        "id": "XgvUKXRwm3qD"
      },
      "source": [
        "## Caesar Cipher"
      ]
    },
    {
      "cell_type": "markdown",
      "metadata": {
        "id": "zd634sQpnLFb"
      },
      "source": [
        "### 알고리즘\n",
        "키: $k \\in Z_{26}$\n",
        "\n",
        "암호화: $C \\equiv P+k \\pmod{26}$\n",
        "\n",
        "복호화: $P \\equiv C-k \\pmod{26}$"
      ]
    },
    {
      "cell_type": "markdown",
      "metadata": {
        "id": "Jkj6M6ydyuXl"
      },
      "source": [
        "이제 평문 P='hello'를 키 k=5로 암호화 하는(암호문을 반환하는) 프로그램 CaesarCipher_Encrypt(P, k)를 작성해봅시다. plain_to_numbers(), numbers_to_cipher()을 이용해도 좋고, 참조만 해도 좋습니다."
      ]
    },
    {
      "cell_type": "code",
      "metadata": {
        "id": "l0zsjaLrnI74"
      },
      "source": [
        "def CaesarCipher_Encrypt(P, k):\n",
        "  l=plain_to_numbers(P)\n",
        "  for i in range(len(l)):\n",
        "    l[i]=(l[i]+k) % 26\n",
        "  return numbers_to_cipher(l)\n",
        "\n",
        "   # 여기(앞부분)에 작성해보세요!"
      ],
      "execution_count": null,
      "outputs": []
    },
    {
      "cell_type": "code",
      "metadata": {
        "colab": {
          "base_uri": "https://localhost:8080/",
          "height": 36
        },
        "id": "WDCxt6b8BHx2",
        "outputId": "c8c55f09-48f0-450e-d239-f0e28da7232e"
      },
      "source": [
        "CaesarCipher_Encrypt('hello', 5) # 함수를 정의한 셀을 먼저 실행시키고 이 셀을 실행해야 합니다."
      ],
      "execution_count": null,
      "outputs": [
        {
          "output_type": "execute_result",
          "data": {
            "application/vnd.google.colaboratory.intrinsic+json": {
              "type": "string"
            },
            "text/plain": [
              "'MJQQT'"
            ]
          },
          "metadata": {
            "tags": []
          },
          "execution_count": 59
        }
      ]
    },
    {
      "cell_type": "markdown",
      "metadata": {
        "id": "o5LJDgDRBubU"
      },
      "source": [
        "이번에는 주어진 키를 가지고 복호화하는 CaesarCipher_Decrypt(C, k)를 작성해봅시다. 대소문자에 주의해야 합니다. \n",
        "\n",
        "Hint: lower(), upper() 대소문자 변환명령어, 예:  `'ABC'.lower()`, `'def'.upper()`"
      ]
    },
    {
      "cell_type": "code",
      "metadata": {
        "id": "eYSdo-KjB3P6"
      },
      "source": [
        "def CaesarCipher_Decrypt(C, k):\n",
        "  l=plain_to_numbers(C.lower())\n",
        "  for i in range(len(l)):\n",
        "    l[i]=(l[i]-k) % 26\n",
        "#    print(l[i])\n",
        "  return numbers_to_cipher(l).lower()\n",
        "\n",
        "   # 여기(앞부분)에 작성해보세요!"
      ],
      "execution_count": null,
      "outputs": []
    },
    {
      "cell_type": "code",
      "metadata": {
        "colab": {
          "base_uri": "https://localhost:8080/",
          "height": 36
        },
        "id": "HS30AJKzCrMo",
        "outputId": "4be20f67-4326-4c4c-8d33-18b2f01087c0"
      },
      "source": [
        "CaesarCipher_Decrypt('MJQQT', 5)\n",
        " # 함수를 정의한 셀을 먼저 실행시키고 이 셀을 실행해야 합니다."
      ],
      "execution_count": null,
      "outputs": [
        {
          "output_type": "execute_result",
          "data": {
            "application/vnd.google.colaboratory.intrinsic+json": {
              "type": "string"
            },
            "text/plain": [
              "'hello'"
            ]
          },
          "metadata": {
            "tags": []
          },
          "execution_count": 11
        }
      ]
    },
    {
      "cell_type": "markdown",
      "metadata": {
        "id": "CobFf0K0iiDO"
      },
      "source": [
        "Shift 암호는 암호화, 복호화 함수가 대소문자를 제외하면 거의 동일하기 때문에, 다음과 같이 한줄로도 가능합니다."
      ]
    },
    {
      "cell_type": "code",
      "metadata": {
        "id": "AX1GWE0riAKG"
      },
      "source": [
        "def CaesarCipher_Decrypt2(C, k):\n",
        "  return CaesarCipher_Encrypt(C.lower(), -k).lower()"
      ],
      "execution_count": null,
      "outputs": []
    },
    {
      "cell_type": "code",
      "metadata": {
        "colab": {
          "base_uri": "https://localhost:8080/",
          "height": 36
        },
        "id": "o7rlgRP2ifut",
        "outputId": "69beee5e-063f-487a-db90-822855d24574"
      },
      "source": [
        "CaesarCipher_Decrypt2('MJQQT', 5)"
      ],
      "execution_count": null,
      "outputs": [
        {
          "output_type": "execute_result",
          "data": {
            "application/vnd.google.colaboratory.intrinsic+json": {
              "type": "string"
            },
            "text/plain": [
              "'hello'"
            ]
          },
          "metadata": {
            "tags": []
          },
          "execution_count": 13
        }
      ]
    },
    {
      "cell_type": "markdown",
      "metadata": {
        "id": "QLgxm92uDhnX"
      },
      "source": [
        "### Caesar Cipher 공격하기 - 1.암호문만 아는 경우\n",
        "마지막으로 주어진 암호문을 모든 키에 대해 복호화를 해서 의미를 갖는 경우를 찾아내는 코드를 작성해봅시다. 함수로 만들어도 됩니다.\n",
        "작성한 코드를 암호문 `'AOPZJSHZZPZHDLZVTL'`로 테스트해보세요."
      ]
    },
    {
      "cell_type": "code",
      "metadata": {
        "colab": {
          "base_uri": "https://localhost:8080/"
        },
        "id": "Jxb53f3VD7Va",
        "outputId": "8cda3dcb-0700-4351-f2e4-d7498cda0c24"
      },
      "source": [
        "for i in range(26):\n",
        "  print(\"{}:{}\".format(i, CaesarCipher_Decrypt('AOPZJSHZZPZHDLZVTL', i)))    # 여기(앞부분)에 작성해보세요!"
      ],
      "execution_count": null,
      "outputs": [
        {
          "output_type": "stream",
          "text": [
            "0:aopzjshzzpzhdlzvtl\n",
            "1:znoyirgyyoygckyusk\n",
            "2:ymnxhqfxxnxfbjxtrj\n",
            "3:xlmwgpewwmweaiwsqi\n",
            "4:wklvfodvvlvdzhvrph\n",
            "5:vjkuencuukucyguqog\n",
            "6:uijtdmbttjtbxftpnf\n",
            "7:thisclassisawesome\n",
            "8:sghrbkzrrhrzvdrnld\n",
            "9:rfgqajyqqgqyucqmkc\n",
            "10:qefpzixppfpxtbpljb\n",
            "11:pdeoyhwooeowsaokia\n",
            "12:ocdnxgvnndnvrznjhz\n",
            "13:nbcmwfummcmuqymigy\n",
            "14:mablvetllbltpxlhfx\n",
            "15:lzakudskkaksowkgew\n",
            "16:kyzjtcrjjzjrnvjfdv\n",
            "17:jxyisbqiiyiqmuiecu\n",
            "18:iwxhraphhxhplthdbt\n",
            "19:hvwgqzoggwgoksgcas\n",
            "20:guvfpynffvfnjrfbzr\n",
            "21:ftueoxmeeuemiqeayq\n",
            "22:estdnwlddtdlhpdzxp\n",
            "23:drscmvkccsckgocywo\n",
            "24:cqrblujbbrbjfnbxvn\n",
            "25:bpqaktiaaqaiemawum\n"
          ],
          "name": "stdout"
        }
      ]
    },
    {
      "cell_type": "markdown",
      "metadata": {
        "id": "dX-2xxSnGcfE"
      },
      "source": [
        "## Affine Cipher\n",
        "\n",
        "알고리즘\n",
        "\n",
        "키: $(\\alpha, \\beta)\\in Z_{26}\\times Z_{26}$?\n",
        "\n",
        "암호화: $C \\equiv \\alpha P + \\beta \\pmod{26}$\n",
        "\n",
        "복호화: $P \\equiv \\alpha^{-1}(C - \\beta) \\pmod{26}$\n"
      ]
    },
    {
      "cell_type": "markdown",
      "metadata": {
        "id": "hUB2-nMCHSPJ"
      },
      "source": [
        "Caesar Cipher 암호화, 복호화 함수 그리고 아래의 법 26에서 역수를 구하는 알고리즘을 참고하여 AffineCipher_Encrypt(P, a, b)와 AffineCipher_Decrytp(C, a, b)를 작성해보세요."
      ]
    },
    {
      "cell_type": "code",
      "metadata": {
        "colab": {
          "base_uri": "https://localhost:8080/"
        },
        "id": "1KDJ6zthHhlz",
        "outputId": "9db56730-0beb-4562-c8a4-adbfd42f6037"
      },
      "source": [
        "def egcd(a, b): # a, b의 최대공약수와 ax+by=1인 x,y를 반환하는 확장된 유클리드 알고리즘\n",
        "    if a == 0:\n",
        "        return (b, 0, 1)\n",
        "    else:\n",
        "        g, y, x = egcd(b % a, a)\n",
        "        return (g, x - (b // a) * y, y)\n",
        "\n",
        "def modinv(a, m):\n",
        "    g, x, y = egcd(a, m)\n",
        "    if g != 1:\n",
        "        raise Exception('modular inverse does not exist')\n",
        "    else:\n",
        "        return x % m\n",
        "\n",
        "modinv(3, 26)"
      ],
      "execution_count": null,
      "outputs": [
        {
          "output_type": "execute_result",
          "data": {
            "text/plain": [
              "9"
            ]
          },
          "metadata": {
            "tags": []
          },
          "execution_count": 21
        }
      ]
    },
    {
      "cell_type": "code",
      "metadata": {
        "id": "VuW19fypKhPj"
      },
      "source": [
        "def AffineCipher_Encrypt(P, a, b):\n",
        "  l=plain_to_numbers(P)\n",
        "  for i in range(len(l)):\n",
        "    l[i] = (a*l[i]+b) % 26\n",
        "  return numbers_to_cipher(l) \n",
        "\n",
        "def AffineCipher_Decrypt(C, a, b):\n",
        "  l=plain_to_numbers(C.lower())\n",
        "  a = modinv(a, 26)\n",
        "  for i in range(len(l)):\n",
        "    l[i] = a*(l[i]-b) % 26\n",
        "  return numbers_to_cipher(l).lower()  \n",
        "  # 여기(앞부분)에 작성해보세요!"
      ],
      "execution_count": null,
      "outputs": []
    },
    {
      "cell_type": "code",
      "metadata": {
        "colab": {
          "base_uri": "https://localhost:8080/",
          "height": 36
        },
        "id": "rKcFrYW5LMaz",
        "outputId": "0c632bd9-a390-49c3-e131-e24ce56e6c34"
      },
      "source": [
        "AffineCipher_Encrypt('hello', 3, 5) # 여기에서 작성한 암호화 함수들을 확인해보세요!"
      ],
      "execution_count": null,
      "outputs": [
        {
          "output_type": "execute_result",
          "data": {
            "application/vnd.google.colaboratory.intrinsic+json": {
              "type": "string"
            },
            "text/plain": [
              "'ARMMV'"
            ]
          },
          "metadata": {
            "tags": []
          },
          "execution_count": 65
        }
      ]
    },
    {
      "cell_type": "code",
      "metadata": {
        "colab": {
          "base_uri": "https://localhost:8080/",
          "height": 36
        },
        "id": "iuQZkseEOhoD",
        "outputId": "1e4a9738-44b9-43ca-edc8-8ce0682d90b5"
      },
      "source": [
        "AffineCipher_Decrypt('ARMMV', 3, 5) # 여기에서 작성한 복호화 함수들을 확인해보세요!"
      ],
      "execution_count": null,
      "outputs": [
        {
          "output_type": "execute_result",
          "data": {
            "application/vnd.google.colaboratory.intrinsic+json": {
              "type": "string"
            },
            "text/plain": [
              "'hello'"
            ]
          },
          "metadata": {
            "tags": []
          },
          "execution_count": 67
        }
      ]
    },
    {
      "cell_type": "markdown",
      "metadata": {
        "id": "ycb7eeBlPAa-"
      },
      "source": [
        "키 $(a,b)$에서 $a$가 조건에 맞지 않는 경우 어떻게 처리할지 고민한 후, 위의 코드를 업데이트 해보세요."
      ]
    },
    {
      "cell_type": "markdown",
      "metadata": {
        "id": "-DDArh02koJ2"
      },
      "source": [
        "아래의 코드는 하나의 예시입니다. "
      ]
    },
    {
      "cell_type": "code",
      "metadata": {
        "id": "IWnRAMAfiz_1"
      },
      "source": [
        "def AffineCipher_Encrypt2(P, a, b):\n",
        "  if egcd(a, 26)[0] > 1:\n",
        "    print('{}는 26과 서로 소가 아니므로 암호화 키로 사용될 수 없습니다'.format(a))\n",
        "    return\n",
        "  l=plain_to_numbers(P)\n",
        "  for i in range(len(l)):\n",
        "    l[i] = (a*l[i]+b) % 26\n",
        "  return numbers_to_cipher(l) "
      ],
      "execution_count": null,
      "outputs": []
    },
    {
      "cell_type": "code",
      "metadata": {
        "colab": {
          "base_uri": "https://localhost:8080/"
        },
        "id": "b88eCB57kGj8",
        "outputId": "85bb8ea4-57e3-4e20-cd9d-6bf03af8d68c"
      },
      "source": [
        "AffineCipher_Encrypt2('hello', 13, 5)"
      ],
      "execution_count": null,
      "outputs": [
        {
          "output_type": "stream",
          "text": [
            "13는 26과 서로 소가 아니므로 암호화 키로 사용될 수 없습니다\n"
          ],
          "name": "stdout"
        }
      ]
    },
    {
      "cell_type": "markdown",
      "metadata": {
        "id": "wU5S9SFiOwZ3"
      },
      "source": [
        "### 수고하셨습니다!!"
      ]
    },
    {
      "cell_type": "code",
      "metadata": {
        "id": "Nfeiqw0JO2S2"
      },
      "source": [
        ""
      ],
      "execution_count": null,
      "outputs": []
    }
  ]
}