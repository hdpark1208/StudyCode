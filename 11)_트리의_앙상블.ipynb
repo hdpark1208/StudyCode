{
  "nbformat": 4,
  "nbformat_minor": 0,
  "metadata": {
    "colab": {
      "name": "11) 트리의 앙상블.ipynb",
      "provenance": [],
      "collapsed_sections": [],
      "authorship_tag": "ABX9TyNzpVAzgY7t35by43md/TFH",
      "include_colab_link": true
    },
    "kernelspec": {
      "name": "python3",
      "display_name": "Python 3"
    },
    "language_info": {
      "name": "python"
    }
  },
  "cells": [
    {
      "cell_type": "markdown",
      "metadata": {
        "id": "view-in-github",
        "colab_type": "text"
      },
      "source": [
        "<a href=\"https://colab.research.google.com/github/hdpark1208/StudyCode/blob/main/11)_%ED%8A%B8%EB%A6%AC%EC%9D%98_%EC%95%99%EC%83%81%EB%B8%94.ipynb\" target=\"_parent\"><img src=\"https://colab.research.google.com/assets/colab-badge.svg\" alt=\"Open In Colab\"/></a>"
      ]
    },
    {
      "cell_type": "markdown",
      "metadata": {
        "id": "UjOspeZmzuYX"
      },
      "source": [
        "# ***5-3 트리의 앙상블***"
      ]
    },
    {
      "cell_type": "markdown",
      "metadata": {
        "id": "oNFQHpSc0GZ9"
      },
      "source": [
        "# **줄거리**"
      ]
    },
    {
      "cell_type": "markdown",
      "metadata": {
        "id": "fYtn5EXAp7dc"
      },
      "source": [
        "1.  앙상블 학습(Ensemble learning) 중 대표적인 알고리즘인 랜덤 포레스트를 학습한다  \n",
        "\n",
        "2.  와인 데이터를 불러온 뒤 인풋,타겟 데이터를 추출해서 훈련/테스트세트로 나눈다  \n",
        "\n",
        "3.  랜덤 포레스트 객체를 만들고 교차 검증을 사용해 결과를 확인한다  \n",
        "\n",
        "4.  랜덤 포레스트 모델을 훈련 세트에 훈련한 후 특성 중요도를 출력한다  \n",
        "\n",
        "5.  램덤 포레스트의 OOB(out of bag) 기능을 이용한다(교차 검증의 효과)  \n",
        "\n",
        "6.  램덤 포레스트와의 차이를 살피며 엑스트라 트리를 학습한다  \n",
        "(부트스트랩 샘플을 사용하지않는다 / 노드를 무작위로 분할한다)   \n",
        "\n",
        "7.  그레이디언트 부스팅, 히스토그램 기반 그레이디언트 부스팅을 학습한다  \n"
      ]
    },
    {
      "cell_type": "markdown",
      "metadata": {
        "id": "fbhPV6gl0PJH"
      },
      "source": [
        "#Note"
      ]
    },
    {
      "cell_type": "markdown",
      "metadata": {
        "id": "DJtqIhorrRXb"
      },
      "source": [
        "*  (비)정형데이터, 데이터베이스, (NO)SQL\n",
        "* 부트스트랩 방식 : 데이터 세트에서 중복을 허용하여 데이터를 샘플링하는 방식\n",
        "* 앙상블 학습 : 더 좋은 예측 결과를 만들기 위해 여러 개의 모델을 훈련하는 머신러닝 알고리즘\n",
        "* 랜덤 포레스트 : 결정 트리 기반의 앙상블 학습 방법 부트스트랩 샘플을 사용하고 랜덤하게 일부 특성을 선택하여 트리를 만든다\n",
        "* 엑스트라 트리 : 부트스트랩 샘플을 사용하지않고 랜덤하게 노드를 분할한다(과대적합을 방지할 수 있다)\n",
        "* 그레이디언트 부스팅 : 앞의 알고리즘들과 다르게 결정 트리를 연속적으로 추가하여 손실 함수를 최소화하는 앙상블 방법. 훈련속도가 느리지만 좋은 성능을 기대할 수 있다.  \n",
        "더 발전시킨 것이 히스토그램 기반 그레이디언트 부스팅(입력 특성을 256개의 구간으로 나눈다)"
      ]
    },
    {
      "cell_type": "markdown",
      "metadata": {
        "id": "edi2f-Ek0WZH"
      },
      "source": [
        "#**코드**\n"
      ]
    },
    {
      "cell_type": "code",
      "metadata": {
        "id": "NRepCOhTpGXt"
      },
      "source": [
        "import numpy as np\n",
        "import pandas as pd\n",
        "from sklearn.model_selection import train_test_split\n",
        "wine = pd.read_csv('https://bit.ly/wine_csv_data')\n",
        "data = wine[['alcohol','sugar','pH']].to_numpy()\n",
        "target = wine['class'].to_numpy()\n",
        "train_input,test_input,train_target,test_target=train_test_split(data,target,test_size=0.2,random_state=42)"
      ],
      "execution_count": null,
      "outputs": []
    },
    {
      "cell_type": "code",
      "metadata": {
        "colab": {
          "base_uri": "https://localhost:8080/"
        },
        "id": "J0-M-6M-tJhE",
        "outputId": "4595e3e7-e03f-4d86-df86-9990b6729e57"
      },
      "source": [
        "from sklearn.model_selection import cross_validate\n",
        "from sklearn.ensemble import RandomForestClassifier\n",
        "rf = RandomForestClassifier(n_jobs=-1, random_state=42)    #CPU 코어 모두 사용\n",
        "scores = cross_validate(rf,train_input,train_target,return_train_score=True, n_jobs=-1)\n",
        "print(np.mean(scores['train_score']),np.mean(scores['test_score']))"
      ],
      "execution_count": null,
      "outputs": [
        {
          "output_type": "stream",
          "text": [
            "0.9973541965122431 0.8905151032797809\n"
          ],
          "name": "stdout"
        }
      ]
    },
    {
      "cell_type": "code",
      "metadata": {
        "colab": {
          "base_uri": "https://localhost:8080/"
        },
        "id": "uceFkyItudtb",
        "outputId": "d5dcaff2-ea44-45ca-f5ca-2ca8200a83ab"
      },
      "source": [
        "rf.fit(train_input,train_target)\n",
        "print(rf.feature_importances_)    #특성 중요도 출력\n",
        "\n",
        "print([0.12345626,0.86862934,0.0079144])    #결정 트리에서의 특성 중요도\n",
        "\n",
        "#차이나는 이유 : 랜덤 포레스트가 특성의 일부를 랜덤하게 선택하여 결정 트리를 훈련하기 때문. 그 결과 하나의 특성에 과도하게 집중하지않고 좀 더 많은 특성이 훈련에 기여할 기회를 얻는다 이는 일반화 성능을 높이는데 도움이 됨\n"
      ],
      "execution_count": null,
      "outputs": [
        {
          "output_type": "stream",
          "text": [
            "[0.23167441 0.50039841 0.26792718]\n",
            "[0.12345626, 0.86862934, 0.0079144]\n"
          ],
          "name": "stdout"
        }
      ]
    },
    {
      "cell_type": "code",
      "metadata": {
        "colab": {
          "base_uri": "https://localhost:8080/"
        },
        "id": "A4yekTTku5qO",
        "outputId": "cb1b9c5d-646c-4744-9dbc-759823141a4a"
      },
      "source": [
        "rf =RandomForestClassifier(oob_score=True, n_jobs=-1, random_state=42)\n",
        "rf.fit(train_input,train_target)\n",
        "print(rf.oob_score_)    #OOB(out of bag : 부트스트랩 샘플에 포함되지않고 남는 샘플)으로 평가한 점수. 교차검증 대신 사용가능"
      ],
      "execution_count": null,
      "outputs": [
        {
          "output_type": "stream",
          "text": [
            "0.8934000384837406\n"
          ],
          "name": "stdout"
        }
      ]
    },
    {
      "cell_type": "code",
      "metadata": {
        "colab": {
          "base_uri": "https://localhost:8080/"
        },
        "id": "jxsbpV9DwfV1",
        "outputId": "0d4c6740-8415-42f8-db8c-06cfb07717a8"
      },
      "source": [
        "from sklearn.ensemble import ExtraTreesClassifier    #결정 트리는 최적의 분할을 찾는데 시간을 많이 소모. 특히 고려해야할 특성의 개수가 많을 때. 하지만 이건 램덤하게 노드를 분할하기 때문에 빠르다\n",
        "et = ExtraTreesClassifier(n_jobs=-1,random_state=42)\n",
        "scores = cross_validate(et,train_input,train_target,return_train_score=True,n_jobs=-1)\n",
        "print(np.mean(scores['train_score']),np.mean(scores['test_score']))    "
      ],
      "execution_count": null,
      "outputs": [
        {
          "output_type": "stream",
          "text": [
            "0.9974503966084433 0.8887848893166506\n"
          ],
          "name": "stdout"
        }
      ]
    },
    {
      "cell_type": "code",
      "metadata": {
        "colab": {
          "base_uri": "https://localhost:8080/"
        },
        "id": "UOciNiRDyHKM",
        "outputId": "06d80737-ac74-43e1-a941-873812f3d1e7"
      },
      "source": [
        "et.fit(train_input,train_target)\n",
        "print(et.feature_importances_)"
      ],
      "execution_count": null,
      "outputs": [
        {
          "output_type": "stream",
          "text": [
            "[0.20183568 0.52242907 0.27573525]\n"
          ],
          "name": "stdout"
        }
      ]
    },
    {
      "cell_type": "code",
      "metadata": {
        "colab": {
          "base_uri": "https://localhost:8080/"
        },
        "id": "ujmSP5QGypUS",
        "outputId": "64baba03-a71d-4031-d6fe-224ab4eeedef"
      },
      "source": [
        "from sklearn.ensemble import GradientBoostingClassifier\n",
        "gb = GradientBoostingClassifier(random_state= 42)\n",
        "scores = cross_validate(gb, train_input, train_target, return_train_score=True, n_jobs=-1)\n",
        "print(np.mean(scores['train_score']),np.mean(scores['test_score']))"
      ],
      "execution_count": null,
      "outputs": [
        {
          "output_type": "stream",
          "text": [
            "0.8881086892152563 0.8720430147331015\n"
          ],
          "name": "stdout"
        }
      ]
    },
    {
      "cell_type": "code",
      "metadata": {
        "colab": {
          "base_uri": "https://localhost:8080/"
        },
        "id": "qArXS8BI0gyX",
        "outputId": "b4cc6486-1ea0-4d4d-b4ea-709c34c3a441"
      },
      "source": [
        "gb = GradientBoostingClassifier(n_estimators=500,learning_rate=0.2,random_state=42)    #결정 트리 개수를 500개로 5배 늘리고 학습률은 2배 높혔다. 과대적합을 잘 억제하고있다.\n",
        "scores = cross_validate(gb,train_input,train_target,return_train_score=True,n_jobs=-1)\n",
        "print(np.mean(scores['train_score']),np.mean(scores['test_score']))\n"
      ],
      "execution_count": null,
      "outputs": [
        {
          "output_type": "stream",
          "text": [
            "0.9464595437171814 0.8780082549788999\n"
          ],
          "name": "stdout"
        }
      ]
    },
    {
      "cell_type": "code",
      "metadata": {
        "colab": {
          "base_uri": "https://localhost:8080/"
        },
        "id": "dKfGjWcU083D",
        "outputId": "becd5f04-6214-49df-e7a9-a6acadd9f1b1"
      },
      "source": [
        "gb.fit(train_input,train_target)    #랜덤 포레스트와 비교해서 일부 특성(여기선 당도)에 더 집중한다\n",
        "print(gb.feature_importances_)"
      ],
      "execution_count": null,
      "outputs": [
        {
          "output_type": "stream",
          "text": [
            "[0.15872278 0.68010884 0.16116839]\n"
          ],
          "name": "stdout"
        }
      ]
    },
    {
      "cell_type": "code",
      "metadata": {
        "colab": {
          "base_uri": "https://localhost:8080/"
        },
        "id": "RP9OE2-qvY2S",
        "outputId": "b70b6974-0b90-4717-9b8d-aeb433a0f344"
      },
      "source": [
        "!pip install sklearn.ensemble\n"
      ],
      "execution_count": null,
      "outputs": [
        {
          "output_type": "stream",
          "text": [
            "\u001b[31mERROR: Could not find a version that satisfies the requirement sklearn.ensemble (from versions: none)\u001b[0m\n",
            "\u001b[31mERROR: No matching distribution found for sklearn.ensemble\u001b[0m\n"
          ],
          "name": "stdout"
        }
      ]
    },
    {
      "cell_type": "code",
      "metadata": {
        "id": "MjZnuJOI1VfJ",
        "colab": {
          "base_uri": "https://localhost:8080/"
        },
        "outputId": "fe7696d0-8810-49e1-81eb-976ded46b836"
      },
      "source": [
        "from sklearn.experimental import enable_hist_gradient_boosting\n",
        "from sklearn.ensemble import HistGradientBoostingClassifier\n",
        "hgb = HistGradientBoostingClassifier(random_state= 42)\n",
        "scores = cross_validate(hgb, train_input, train_target, return_train_score=True)\n",
        "print(np.mean(scores['train_score']),np.mean(scores['test_score']))\n"
      ],
      "execution_count": null,
      "outputs": [
        {
          "output_type": "stream",
          "text": [
            "0.9321723946453317 0.8801241948619236\n"
          ],
          "name": "stdout"
        }
      ]
    },
    {
      "cell_type": "code",
      "metadata": {
        "colab": {
          "base_uri": "https://localhost:8080/"
        },
        "id": "tDhbOA2juo8y",
        "outputId": "c134518d-262f-42d6-c769-49a846b657f4"
      },
      "source": [
        "from sklearn.inspection import permutation_importance\n",
        "\n",
        "hgb.fit(train_input,train_target)\n",
        "result = permutation_importance(hgb,train_input,train_target,\n",
        "                                n_repeats=10, random_state=42,n_jobs=-1)\n",
        "print(result.importances_mean)    #특성 중요도, 평균, 표준 편차"
      ],
      "execution_count": null,
      "outputs": [
        {
          "output_type": "stream",
          "text": [
            "[0.08876275 0.23438522 0.08027708]\n"
          ],
          "name": "stdout"
        }
      ]
    },
    {
      "cell_type": "code",
      "metadata": {
        "colab": {
          "base_uri": "https://localhost:8080/"
        },
        "id": "VreDuH0yxCWB",
        "outputId": "65e1a274-f274-4f27-9f5d-3dbea6e03adb"
      },
      "source": [
        "result = permutation_importance(hgb,test_input,test_target,    #테스트세트에서의 결과\n",
        "                                n_repeats=10, random_state=42,n_jobs=-1)\n",
        "print(result.importances_mean)"
      ],
      "execution_count": null,
      "outputs": [
        {
          "output_type": "stream",
          "text": [
            "[0.05969231 0.20238462 0.049     ]\n"
          ],
          "name": "stdout"
        }
      ]
    },
    {
      "cell_type": "code",
      "metadata": {
        "colab": {
          "base_uri": "https://localhost:8080/"
        },
        "id": "OVs5zZN9xU6Y",
        "outputId": "4d38d84a-5d14-42d6-b352-18de85ac2723"
      },
      "source": [
        "hgb.score(test_input,test_target)    #결과확인. 2절의 랜덤서치에서는 86%였다 상승함"
      ],
      "execution_count": null,
      "outputs": [
        {
          "output_type": "execute_result",
          "data": {
            "text/plain": [
              "0.8723076923076923"
            ]
          },
          "metadata": {
            "tags": []
          },
          "execution_count": 22
        }
      ]
    },
    {
      "cell_type": "code",
      "metadata": {
        "colab": {
          "base_uri": "https://localhost:8080/"
        },
        "id": "2O4waEqSx50k",
        "outputId": "058792c5-b29d-46c3-de67-04865cad9b15"
      },
      "source": [
        "from xgboost import XGBClassifier    #사이킷런 외의 히스토그램기반 그레이디언트 부스팅 알고리즘을 구현한 라이브러리 XGBoost,LightGBM\n",
        "xgb = XGBClassifier(tree_method='hist',random_state=42)\n",
        "scores = cross_validate(xgb,train_input,train_target,return_train_score=True)\n",
        "print(np.mean(scores['train_score']),np.mean(scores['test_score']))\n",
        "\n",
        "from lightgbm import LGBMClassifier\n",
        "lgb = LGBMClassifier(random_state=42)\n",
        "scores = cross_validate(lgb,train_input,train_target,return_train_score=True)\n",
        "print(np.mean(scores['train_score']),np.mean(scores['test_score']))"
      ],
      "execution_count": null,
      "outputs": [
        {
          "output_type": "stream",
          "text": [
            "0.8824322471423747 0.8726214185237284\n",
            "0.9338079582727165 0.8789710890649293\n"
          ],
          "name": "stdout"
        }
      ]
    },
    {
      "cell_type": "code",
      "metadata": {
        "id": "oFD49ei5ycxD"
      },
      "source": [
        ""
      ],
      "execution_count": null,
      "outputs": []
    }
  ]
}